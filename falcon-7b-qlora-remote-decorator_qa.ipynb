{
 "cells": [
  {
   "cell_type": "markdown",
   "metadata": {},
   "source": [
    "# Fine-tune Falcon-7B with QLoRA and SageMaker remote decorator\n",
    "\n",
    "## Question & Answering"
   ]
  },
  {
   "cell_type": "markdown",
   "metadata": {},
   "source": [
    "---\n",
    "\n",
    "In this demo notebook, we demonstrate how to fine-tune the Falcon-7B model using QLoRA, Hugging Face PEFT, and bitsandbytes.\n",
    "\n",
    "We are using SageMaker remote decorator for runinng the fine-tuning job on Amazon SageMaker Training job\n",
    "---\n",
    "SageMaker Studio Kernel: PyTorch 1.13 Python 3.9"
   ]
  },
  {
   "cell_type": "markdown",
   "metadata": {},
   "source": [
    "Install the required libriaries, including the Hugging Face libraries, and restart the kernel."
   ]
  },
  {
   "cell_type": "code",
   "execution_count": null,
   "metadata": {
    "ExecuteTime": {
     "end_time": "2023-07-20T12:38:06.851473Z",
     "start_time": "2023-07-20T12:38:04.440644Z"
    },
    "collapsed": false,
    "jupyter": {
     "outputs_hidden": false
    },
    "tags": []
   },
   "outputs": [],
   "source": [
    "%pip install -r requirements.txt"
   ]
  },
  {
   "cell_type": "code",
   "execution_count": null,
   "metadata": {
    "ExecuteTime": {
     "end_time": "2023-07-21T08:57:54.073163Z",
     "start_time": "2023-07-21T08:57:14.058548Z"
    },
    "collapsed": false,
    "jupyter": {
     "outputs_hidden": false
    },
    "tags": []
   },
   "outputs": [],
   "source": [
    "%pip install -q -U transformers==4.31.0\n",
    "%pip install -q -U datasets==2.13.1\n",
    "%pip install -q -U peft==0.4.0\n",
    "%pip install -q -U accelerate==0.21.0\n",
    "%pip install -q -U bitsandbytes==0.40.2\n",
    "%pip install -q -U boto3\n",
    "%pip install -q -U sagemaker==2.154.0\n",
    "%pip install -q -U scikit-learn"
   ]
  },
  {
   "cell_type": "markdown",
   "metadata": {},
   "source": [
    "\n",
    "## Setup Configuration file path\n",
    "\n",
    "We are setting the directory in which the config.yaml file resides so that remote decorator can make use of the settings.\n"
   ]
  },
  {
   "cell_type": "code",
   "execution_count": 1,
   "metadata": {
    "ExecuteTime": {
     "start_time": "2023-09-02T18:18:46.887254Z",
     "end_time": "2023-09-02T18:18:46.946401Z"
    },
    "collapsed": false,
    "jupyter": {
     "outputs_hidden": false
    },
    "tags": []
   },
   "outputs": [],
   "source": [
    "import os\n",
    "\n",
    "# Set path to config file\n",
    "os.environ[\"SAGEMAKER_USER_CONFIG_OVERRIDE\"] = os.getcwd()"
   ]
  },
  {
   "cell_type": "markdown",
   "metadata": {},
   "source": [
    "## Visualize and upload the dataset\n",
    "\n",
    "Read train dataset in a Pandas dataframe"
   ]
  },
  {
   "cell_type": "code",
   "execution_count": 2,
   "metadata": {
    "ExecuteTime": {
     "start_time": "2023-09-02T17:16:04.591322Z",
     "end_time": "2023-09-02T17:16:04.934328Z"
    },
    "collapsed": false,
    "jupyter": {
     "outputs_hidden": false
    },
    "tags": []
   },
   "outputs": [
    {
     "data": {
      "text/plain": "                  service                                           question  \\\n0  /ec2/autoscaling/faqs/                   What is Amazon EC2 Auto Scaling?   \n1  /ec2/autoscaling/faqs/  When should I use Amazon EC2 Auto Scaling vs. ...   \n2  /ec2/autoscaling/faqs/  How is Predictive Scaling Policy different fro...   \n3  /ec2/autoscaling/faqs/  What are the benefits of using Amazon EC2 Auto...   \n4  /ec2/autoscaling/faqs/  What is fleet management and how is it differe...   \n\n                                             answers  \n0  Amazon EC2 Auto Scaling is a fully managed ser...  \n1  You should use AWS Auto Scaling to manage scal...  \n2  Predictive Scaling Policy brings the similar p...  \n3  Amazon EC2 Auto Scaling helps to maintain your...  \n4  If your application runs on Amazon EC2 instanc...  ",
      "text/html": "<div>\n<style scoped>\n    .dataframe tbody tr th:only-of-type {\n        vertical-align: middle;\n    }\n\n    .dataframe tbody tr th {\n        vertical-align: top;\n    }\n\n    .dataframe thead th {\n        text-align: right;\n    }\n</style>\n<table border=\"1\" class=\"dataframe\">\n  <thead>\n    <tr style=\"text-align: right;\">\n      <th></th>\n      <th>service</th>\n      <th>question</th>\n      <th>answers</th>\n    </tr>\n  </thead>\n  <tbody>\n    <tr>\n      <th>0</th>\n      <td>/ec2/autoscaling/faqs/</td>\n      <td>What is Amazon EC2 Auto Scaling?</td>\n      <td>Amazon EC2 Auto Scaling is a fully managed ser...</td>\n    </tr>\n    <tr>\n      <th>1</th>\n      <td>/ec2/autoscaling/faqs/</td>\n      <td>When should I use Amazon EC2 Auto Scaling vs. ...</td>\n      <td>You should use AWS Auto Scaling to manage scal...</td>\n    </tr>\n    <tr>\n      <th>2</th>\n      <td>/ec2/autoscaling/faqs/</td>\n      <td>How is Predictive Scaling Policy different fro...</td>\n      <td>Predictive Scaling Policy brings the similar p...</td>\n    </tr>\n    <tr>\n      <th>3</th>\n      <td>/ec2/autoscaling/faqs/</td>\n      <td>What are the benefits of using Amazon EC2 Auto...</td>\n      <td>Amazon EC2 Auto Scaling helps to maintain your...</td>\n    </tr>\n    <tr>\n      <th>4</th>\n      <td>/ec2/autoscaling/faqs/</td>\n      <td>What is fleet management and how is it differe...</td>\n      <td>If your application runs on Amazon EC2 instanc...</td>\n    </tr>\n  </tbody>\n</table>\n</div>"
     },
     "execution_count": 2,
     "metadata": {},
     "output_type": "execute_result"
    }
   ],
   "source": [
    "import pandas as pd\n",
    "df = pd.read_csv('train.csv.gz', compression='gzip', sep=';')\n",
    "df.head()"
   ]
  },
  {
   "cell_type": "code",
   "execution_count": 3,
   "metadata": {
    "ExecuteTime": {
     "start_time": "2023-09-02T17:16:05.115256Z",
     "end_time": "2023-09-02T17:16:05.500607Z"
    },
    "collapsed": false,
    "jupyter": {
     "outputs_hidden": false
    },
    "tags": []
   },
   "outputs": [],
   "source": [
    "from sklearn.model_selection import train_test_split\n",
    "\n",
    "train, test = train_test_split(df, test_size=0.3)"
   ]
  },
  {
   "cell_type": "markdown",
   "metadata": {},
   "source": [
    "\n",
    "\n",
    "To train our model, we need to convert our inputs (text) to token IDs. This is done by a Hugging Face Transformers Tokenizer. In addition to QLoRA, we will use bitsanbytes 4-bit precision to quantize out frozen LLM to 4-bit and attach LoRA adapters on it.\n",
    "\n"
   ]
  },
  {
   "cell_type": "code",
   "execution_count": 4,
   "metadata": {
    "ExecuteTime": {
     "start_time": "2023-09-02T17:16:05.730949Z",
     "end_time": "2023-09-02T17:16:05.736006Z"
    },
    "collapsed": false,
    "jupyter": {
     "outputs_hidden": false
    },
    "tags": []
   },
   "outputs": [],
   "source": [
    "def print_trainable_parameters(model):\n",
    "    \"\"\"\n",
    "    Prints the number of trainable parameters in the model.\n",
    "    \"\"\"\n",
    "    trainable_params = 0\n",
    "    all_param = 0\n",
    "    for _, param in model.named_parameters():\n",
    "        all_param += param.numel()\n",
    "        if param.requires_grad:\n",
    "            trainable_params += param.numel()\n",
    "    print(\n",
    "        f\"trainable params: {trainable_params} || all params: {all_param} || trainable%: {100 * trainable_params / all_param}\"\n",
    "    )"
   ]
  },
  {
   "cell_type": "markdown",
   "metadata": {},
   "source": [
    "Create a prompt template and load the dataset with a random sample to try summarization."
   ]
  },
  {
   "cell_type": "code",
   "execution_count": 5,
   "metadata": {
    "ExecuteTime": {
     "start_time": "2023-09-02T17:16:06.162912Z",
     "end_time": "2023-09-02T17:16:06.169362Z"
    },
    "collapsed": false,
    "jupyter": {
     "outputs_hidden": false
    },
    "tags": []
   },
   "outputs": [],
   "source": [
    "from random import randint\n",
    "\n",
    "# custom instruct prompt start\n",
    "prompt_template = f\"{{question}}\\n---\\nAnswer:\\n{{answer}}{{eos_token}}\"\n",
    "\n",
    "# template dataset to add prompt to each sample\n",
    "def template_dataset(sample):\n",
    "    sample[\"text\"] = prompt_template.format(question=sample[\"question\"],\n",
    "                                            answer=sample[\"answers\"],\n",
    "                                            eos_token=tokenizer.eos_token)\n",
    "    return sample"
   ]
  },
  {
   "cell_type": "markdown",
   "metadata": {},
   "source": [
    "Use the Hugging Face Trainer class to fine-tune the model. Define the hyperparameters we want to use. We also create a DataCollator that will take care of padding our inputs and labels."
   ]
  },
  {
   "cell_type": "code",
   "execution_count": 6,
   "metadata": {
    "ExecuteTime": {
     "start_time": "2023-09-02T17:16:06.971094Z",
     "end_time": "2023-09-02T17:16:07.397794Z"
    },
    "collapsed": false,
    "jupyter": {
     "outputs_hidden": false
    },
    "tags": []
   },
   "outputs": [],
   "source": [
    "from transformers import AutoTokenizer\n",
    "\n",
    "model_id = \"tiiuae/falcon-7b\"\n",
    "\n",
    "tokenizer = AutoTokenizer.from_pretrained(model_id)\n",
    "# Set the Falcon tokenizer\n",
    "tokenizer.pad_token = tokenizer.eos_token"
   ]
  },
  {
   "cell_type": "code",
   "execution_count": 7,
   "metadata": {
    "ExecuteTime": {
     "start_time": "2023-09-02T17:16:07.804881Z",
     "end_time": "2023-09-02T17:16:08.239370Z"
    },
    "collapsed": false,
    "jupyter": {
     "outputs_hidden": false
    },
    "tags": []
   },
   "outputs": [
    {
     "data": {
      "text/plain": "Map:   0%|          | 0/5101 [00:00<?, ? examples/s]",
      "application/vnd.jupyter.widget-view+json": {
       "version_major": 2,
       "version_minor": 0,
       "model_id": "e590ad86cbd34c7188ee5b91b44fe952"
      }
     },
     "metadata": {},
     "output_type": "display_data"
    },
    {
     "name": "stdout",
     "output_type": "stream",
     "text": [
      "What are the different ways to access SWF?\n",
      "---\n",
      "Answer:\n",
      "AWS SDK for Java, Ruby, .NET, and PHP AWS Flow Framework for Java (Included in the AWS SDK for Java) Amazon SWF web service APIs AWS Management Console<|endoftext|>\n"
     ]
    },
    {
     "data": {
      "text/plain": "Map:   0%|          | 0/2187 [00:00<?, ? examples/s]",
      "application/vnd.jupyter.widget-view+json": {
       "version_major": 2,
       "version_minor": 0,
       "model_id": "ac1077c285944065acf1b8be96f60f8d"
      }
     },
     "metadata": {},
     "output_type": "display_data"
    }
   ],
   "source": [
    "from datasets import Dataset, DatasetDict\n",
    "\n",
    "train_dataset = Dataset.from_pandas(train)\n",
    "test_dataset = Dataset.from_pandas(test)\n",
    "\n",
    "dataset = DatasetDict({\"train\": train_dataset, \"test\": test_dataset})\n",
    "\n",
    "train_dataset = dataset[\"train\"].map(template_dataset, remove_columns=list(dataset[\"train\"].features))\n",
    "\n",
    "print(train_dataset[randint(0, len(dataset))][\"text\"])\n",
    "\n",
    "test_dataset = dataset[\"test\"].map(template_dataset, remove_columns=list(dataset[\"test\"].features))"
   ]
  },
  {
   "cell_type": "markdown",
   "source": [
    "Utility method for finding the target modules and update the necessary matrices. Visit [this](https://github.com/artidoro/qlora/blob/main/qlora.py) link for additional info."
   ],
   "metadata": {
    "collapsed": false
   }
  },
  {
   "cell_type": "code",
   "execution_count": 8,
   "outputs": [
    {
     "name": "stdout",
     "output_type": "stream",
     "text": [
      "'NoneType' object has no attribute 'cadam32bit_grad_fp32'\n"
     ]
    },
    {
     "name": "stderr",
     "output_type": "stream",
     "text": [
      "/Users/bpistone/miniforge3/envs/pathways/lib/python3.10/site-packages/bitsandbytes/cextension.py:34: UserWarning: The installed version of bitsandbytes was compiled without GPU support. 8-bit optimizers, 8-bit multiplication, and GPU quantization are unavailable.\n",
      "  warn(\"The installed version of bitsandbytes was compiled without GPU support. \"\n"
     ]
    }
   ],
   "source": [
    "import bitsandbytes as bnb\n",
    "\n",
    "def find_all_linear_names(hf_model):\n",
    "    lora_module_names = set()\n",
    "    for name, module in hf_model.named_modules():\n",
    "        if isinstance(module, bnb.nn.Linear4bit):\n",
    "            names = name.split(\".\")\n",
    "            lora_module_names.add(names[0] if len(names) == 1 else names[-1])\n",
    "\n",
    "    if \"lm_head\" in lora_module_names:  # needed for 16-bit\n",
    "        lora_module_names.remove(\"lm_head\")\n",
    "    return list(lora_module_names)"
   ],
   "metadata": {
    "collapsed": false,
    "ExecuteTime": {
     "start_time": "2023-09-02T17:16:08.992201Z",
     "end_time": "2023-09-02T17:16:09.725306Z"
    }
   }
  },
  {
   "cell_type": "markdown",
   "metadata": {},
   "source": [
    "Define the train function"
   ]
  },
  {
   "cell_type": "code",
   "execution_count": 9,
   "metadata": {
    "ExecuteTime": {
     "start_time": "2023-09-02T17:16:10.245128Z",
     "end_time": "2023-09-02T17:16:10.561652Z"
    },
    "collapsed": false,
    "jupyter": {
     "outputs_hidden": false
    },
    "tags": []
   },
   "outputs": [],
   "source": [
    "from peft import LoraConfig, get_peft_model, prepare_model_for_kbit_training\n",
    "from sagemaker.remote_function import remote\n",
    "import torch\n",
    "from transformers import AutoModelForCausalLM, BitsAndBytesConfig\n",
    "import transformers\n",
    "\n",
    "# Start training\n",
    "@remote(volume_size=50)\n",
    "def train_fn(\n",
    "        model_name,\n",
    "        train_ds,\n",
    "        test_ds,\n",
    "        lora_r=64,\n",
    "        lora_alpha=16,\n",
    "        lora_dropout=0.1,\n",
    "        per_device_train_batch_size=8,\n",
    "        per_device_eval_batch_size=8,\n",
    "        learning_rate=2e-4,\n",
    "        num_train_epochs=1\n",
    "):\n",
    "    # tokenize and chunk dataset\n",
    "    lm_train_dataset = train_ds.map(\n",
    "        lambda sample: tokenizer(sample[\"text\"]), batched=True, batch_size=24, remove_columns=list(train_dataset.features)\n",
    "    )\n",
    "\n",
    "\n",
    "    lm_test_dataset = test_ds.map(\n",
    "        lambda sample: tokenizer(sample[\"text\"]), batched=True, remove_columns=list(test_dataset.features)\n",
    "    )\n",
    "\n",
    "    # Print total number of samples\n",
    "    print(f\"Total number of train samples: {len(lm_train_dataset)}\")\n",
    "\n",
    "    bnb_config = BitsAndBytesConfig(\n",
    "        load_in_4bit=True,\n",
    "        bnb_4bit_use_double_quant=True,\n",
    "        bnb_4bit_quant_type=\"nf4\",\n",
    "        bnb_4bit_compute_dtype=torch.bfloat16\n",
    "    )\n",
    "    # Falcon requires you to allow remote code execution. This is because the model uses a new architecture that is not part of transformers yet.\n",
    "    # The code is provided by the model authors in the repo.\n",
    "    model = AutoModelForCausalLM.from_pretrained(\n",
    "        model_name,\n",
    "        trust_remote_code=True,\n",
    "        quantization_config=bnb_config,\n",
    "        device_map=\"auto\")\n",
    "\n",
    "    model.gradient_checkpointing_enable()\n",
    "    model = prepare_model_for_kbit_training(model, use_gradient_checkpointing=True)\n",
    "\n",
    "    # get lora target modules\n",
    "    modules = find_all_linear_names(model)\n",
    "    print(f\"Found {len(modules)} modules to quantize: {modules}\")\n",
    "\n",
    "    config = LoraConfig(\n",
    "        r=lora_r,\n",
    "        lora_alpha=lora_alpha,\n",
    "        target_modules=modules,\n",
    "        lora_dropout=lora_dropout,\n",
    "        bias=\"none\",\n",
    "        task_type=\"CAUSAL_LM\"\n",
    "    )\n",
    "\n",
    "    model = get_peft_model(model, config)\n",
    "    print_trainable_parameters(model)\n",
    "\n",
    "    trainer = transformers.Trainer(\n",
    "        model=model,\n",
    "        train_dataset=lm_train_dataset,\n",
    "        eval_dataset=lm_test_dataset,\n",
    "        args=transformers.TrainingArguments(\n",
    "            per_device_train_batch_size=per_device_train_batch_size,\n",
    "            per_device_eval_batch_size=per_device_eval_batch_size,\n",
    "            logging_steps=2,\n",
    "            num_train_epochs=num_train_epochs,\n",
    "            learning_rate=learning_rate,\n",
    "            bf16=True,\n",
    "            save_strategy=\"no\",\n",
    "            output_dir=\"outputs\"\n",
    "        ),\n",
    "        data_collator=transformers.DataCollatorForLanguageModeling(tokenizer, mlm=False),\n",
    "    )\n",
    "    model.config.use_cache = False\n",
    "\n",
    "    trainer.train()\n",
    "    trainer.evaluate()\n",
    "\n",
    "    model.save_pretrained(\"/opt/ml/model\")"
   ]
  },
  {
   "cell_type": "markdown",
   "source": [
    "Define LoRA parameters for fine-tuning"
   ],
   "metadata": {
    "collapsed": false
   }
  },
  {
   "cell_type": "code",
   "execution_count": 10,
   "outputs": [],
   "source": [
    "learning_rate=2e-4\n",
    "num_train_epochs=1\n",
    "per_device_train_batch_size=8\n",
    "per_device_eval_batch_size=8\n",
    "\n",
    "lora_r=8\n",
    "lora_alpha=32\n",
    "lora_dropout=0.05"
   ],
   "metadata": {
    "collapsed": false,
    "ExecuteTime": {
     "start_time": "2023-09-02T17:16:11.814193Z",
     "end_time": "2023-09-02T17:16:11.825267Z"
    }
   }
  },
  {
   "cell_type": "code",
   "execution_count": 11,
   "metadata": {
    "collapsed": false,
    "jupyter": {
     "outputs_hidden": false
    },
    "tags": [],
    "ExecuteTime": {
     "start_time": "2023-09-02T17:16:13.190756Z",
     "end_time": "2023-09-02T17:51:05.194404Z"
    }
   },
   "outputs": [
    {
     "name": "stderr",
     "output_type": "stream",
     "text": [
      "INFO:botocore.credentials:Found credentials in shared credentials file: ~/.aws/credentials\n"
     ]
    },
    {
     "name": "stdout",
     "output_type": "stream",
     "text": [
      "[Sagemaker Config - applied value]\n",
      " config key = SageMaker.PythonSDK.Modules.RemoteFunction.ImageUri\n",
      " config value that will be used = 763104351884.dkr.ecr.eu-west-1.amazonaws.com/huggingface-pytorch-training:2.0.0-transformers4.28.1-gpu-py310-cu118-ubuntu20.04\n",
      "\n",
      "[Sagemaker Config - applied value]\n",
      " config key = SageMaker.PythonSDK.Modules.RemoteFunction.Dependencies\n",
      " config value that will be used = ./requirements.txt\n",
      "\n",
      "[Sagemaker Config - applied value]\n",
      " config key = SageMaker.PythonSDK.Modules.RemoteFunction.InstanceType\n",
      " config value that will be used = ml.g5.12xlarge\n",
      "\n",
      "[Sagemaker Config - applied value]\n",
      " config key = SageMaker.PythonSDK.Modules.RemoteFunction.RoleArn\n",
      " config value that will be used = arn:aws:iam::691148928602:role/mlops-sagemaker-execution-role\n",
      "\n"
     ]
    },
    {
     "name": "stderr",
     "output_type": "stream",
     "text": [
      "2023-09-02 15:16:15,064 sagemaker.remote_function INFO     Copied dependencies file at './requirements.txt' to '/var/folders/1d/p7dclqcx4934dybvv117p3640000gr/T/tmpnt222txl/temp_workspace/sagemaker_remote_function_workspace/requirements.txt'\n",
      "2023-09-02 15:16:15,065 sagemaker.remote_function INFO     Successfully created workdir archive at '/var/folders/1d/p7dclqcx4934dybvv117p3640000gr/T/tmpnt222txl/workspace.zip'\n",
      "2023-09-02 15:16:15,167 sagemaker.remote_function INFO     Successfully uploaded workdir to 's3://sagemaker-eu-west-1-691148928602/train-fn-2023-09-02-15-16-14-461/sm_rf_user_ws/workspace.zip'\n",
      "2023-09-02 15:16:15,169 sagemaker.remote_function INFO     Serializing function code to s3://sagemaker-eu-west-1-691148928602/train-fn-2023-09-02-15-16-14-461/function\n",
      "2023-09-02 15:16:18,449 sagemaker.remote_function INFO     Serializing function arguments to s3://sagemaker-eu-west-1-691148928602/train-fn-2023-09-02-15-16-14-461/arguments\n",
      "2023-09-02 15:16:19,596 sagemaker.remote_function INFO     Creating job: train-fn-2023-09-02-15-16-14-461\n"
     ]
    },
    {
     "name": "stdout",
     "output_type": "stream",
     "text": [
      "2023-09-02 15:16:19 Starting - Starting the training job...\n",
      "2023-09-02 15:16:45 Starting - Preparing the instances for training......\n",
      "2023-09-02 15:17:36 Downloading - Downloading input data...\n",
      "2023-09-02 15:17:56 Training - Downloading the training image.....................\n",
      "2023-09-02 15:21:42 Training - Training image download completed. Training in progress......\u001B[34mINFO: CONDA_PKGS_DIRS is set to '/opt/ml/sagemaker/warmpoolcache/sm_remotefunction_user_dependencies_cache/conda/pkgs'\u001B[0m\n",
      "\u001B[34mINFO: PIP_CACHE_DIR is set to '/opt/ml/sagemaker/warmpoolcache/sm_remotefunction_user_dependencies_cache/pip'\u001B[0m\n",
      "\u001B[34mINFO: Bootstraping runtime environment.\u001B[0m\n",
      "\u001B[34m2023-09-02 15:22:36,449 sagemaker.remote_function INFO     Successfully unpacked workspace archive at '/'.\u001B[0m\n",
      "\u001B[34m2023-09-02 15:22:36,449 sagemaker.remote_function INFO     '/sagemaker_remote_function_workspace/pre_exec.sh' does not exist. Assuming no pre-execution commands to run\u001B[0m\n",
      "\u001B[34m2023-09-02 15:22:36,449 sagemaker.remote_function INFO     Running command: '/opt/conda/bin/python -m pip install -r /sagemaker_remote_function_workspace/requirements.txt' in the dir: '/' \u001B[0m\n",
      "\u001B[34m2023-09-02 15:22:36,893 sagemaker.remote_function INFO     Collecting transformers==4.31.0 (from -r /sagemaker_remote_function_workspace/requirements.txt (line 1))\u001B[0m\n",
      "\u001B[34m2023-09-02 15:22:36,923 sagemaker.remote_function INFO       Downloading transformers-4.31.0-py3-none-any.whl (7.4 MB)\u001B[0m\n",
      "\u001B[34m2023-09-02 15:22:36,987 sagemaker.remote_function INFO          ━━━━━━━━━━━━━━━━━━━━━━━━━━━━━━━━━━━━━━━━ 7.4/7.4 MB 120.1 MB/s eta 0:00:00\u001B[0m\n",
      "\u001B[34m2023-09-02 15:22:37,026 sagemaker.remote_function INFO     Collecting peft==0.4.0 (from -r /sagemaker_remote_function_workspace/requirements.txt (line 2))\u001B[0m\n",
      "\u001B[34m2023-09-02 15:22:37,030 sagemaker.remote_function INFO       Downloading peft-0.4.0-py3-none-any.whl (72 kB)\u001B[0m\n",
      "\u001B[34m2023-09-02 15:22:37,034 sagemaker.remote_function INFO          ━━━━━━━━━━━━━━━━━━━━━━━━━━━━━━━━━━━━━━━━ 72.9/72.9 kB 47.6 MB/s eta 0:00:00\u001B[0m\n",
      "\u001B[34m2023-09-02 15:22:37,059 sagemaker.remote_function INFO     Collecting accelerate==0.21.0 (from -r /sagemaker_remote_function_workspace/requirements.txt (line 3))\u001B[0m\n",
      "\u001B[34m2023-09-02 15:22:37,062 sagemaker.remote_function INFO       Downloading accelerate-0.21.0-py3-none-any.whl (244 kB)\u001B[0m\n",
      "\u001B[34m2023-09-02 15:22:37,067 sagemaker.remote_function INFO          ━━━━━━━━━━━━━━━━━━━━━━━━━━━━━━━━━━━━━ 244.2/244.2 kB 100.0 MB/s eta 0:00:00\u001B[0m\n",
      "\u001B[34m2023-09-02 15:22:37,088 sagemaker.remote_function INFO     Collecting bitsandbytes==0.40.2 (from -r /sagemaker_remote_function_workspace/requirements.txt (line 4))\u001B[0m\n",
      "\u001B[34m2023-09-02 15:22:37,095 sagemaker.remote_function INFO       Downloading bitsandbytes-0.40.2-py3-none-any.whl (92.5 MB)\u001B[0m\n",
      "\u001B[34m2023-09-02 15:22:37,771 sagemaker.remote_function INFO          ━━━━━━━━━━━━━━━━━━━━━━━━━━━━━━━━━━━━━━━━ 92.5/92.5 MB 40.2 MB/s eta 0:00:00\u001B[0m\n",
      "\u001B[34m2023-09-02 15:22:37,958 sagemaker.remote_function INFO     Collecting safetensors>=0.3.1 (from -r /sagemaker_remote_function_workspace/requirements.txt (line 5))\u001B[0m\n",
      "\u001B[34m2023-09-02 15:22:37,963 sagemaker.remote_function INFO       Downloading safetensors-0.3.3-cp310-cp310-manylinux_2_17_x86_64.manylinux2014_x86_64.whl (1.3 MB)\u001B[0m\n",
      "\u001B[34m2023-09-02 15:22:37,973 sagemaker.remote_function INFO          ━━━━━━━━━━━━━━━━━━━━━━━━━━━━━━━━━━━━━━━━ 1.3/1.3 MB 156.7 MB/s eta 0:00:00\u001B[0m\n",
      "\u001B[34m2023-09-02 15:22:37,976 sagemaker.remote_function INFO     Requirement already satisfied: tokenizers>=0.13.3 in /opt/conda/lib/python3.10/site-packages (from -r /sagemaker_remote_function_workspace/requirements.txt (line 6)) (0.13.3)\u001B[0m\n",
      "\u001B[34m2023-09-02 15:22:38,030 sagemaker.remote_function INFO     Collecting py7zr (from -r /sagemaker_remote_function_workspace/requirements.txt (line 7))\u001B[0m\n",
      "\u001B[34m2023-09-02 15:22:38,034 sagemaker.remote_function INFO       Downloading py7zr-0.20.6-py3-none-any.whl (66 kB)\u001B[0m\n",
      "\u001B[34m2023-09-02 15:22:38,037 sagemaker.remote_function INFO          ━━━━━━━━━━━━━━━━━━━━━━━━━━━━━━━━━━━━━━━━ 66.7/66.7 kB 44.8 MB/s eta 0:00:00\u001B[0m\n",
      "\u001B[34m2023-09-02 15:22:38,449 sagemaker.remote_function INFO     Requirement already satisfied: filelock in /opt/conda/lib/python3.10/site-packages (from transformers==4.31.0->-r /sagemaker_remote_function_workspace/requirements.txt (line 1)) (3.12.0)\u001B[0m\n",
      "\u001B[34m2023-09-02 15:22:38,449 sagemaker.remote_function INFO     Requirement already satisfied: huggingface-hub<1.0,>=0.14.1 in /opt/conda/lib/python3.10/site-packages (from transformers==4.31.0->-r /sagemaker_remote_function_workspace/requirements.txt (line 1)) (0.14.1)\u001B[0m\n",
      "\u001B[34m2023-09-02 15:22:38,450 sagemaker.remote_function INFO     Requirement already satisfied: numpy>=1.17 in /opt/conda/lib/python3.10/site-packages (from transformers==4.31.0->-r /sagemaker_remote_function_workspace/requirements.txt (line 1)) (1.23.5)\u001B[0m\n",
      "\u001B[34m2023-09-02 15:22:38,450 sagemaker.remote_function INFO     Requirement already satisfied: packaging>=20.0 in /opt/conda/lib/python3.10/site-packages (from transformers==4.31.0->-r /sagemaker_remote_function_workspace/requirements.txt (line 1)) (23.1)\u001B[0m\n",
      "\u001B[34m2023-09-02 15:22:38,451 sagemaker.remote_function INFO     Requirement already satisfied: pyyaml>=5.1 in /opt/conda/lib/python3.10/site-packages (from transformers==4.31.0->-r /sagemaker_remote_function_workspace/requirements.txt (line 1)) (5.4.1)\u001B[0m\n",
      "\u001B[34m2023-09-02 15:22:38,451 sagemaker.remote_function INFO     Requirement already satisfied: regex!=2019.12.17 in /opt/conda/lib/python3.10/site-packages (from transformers==4.31.0->-r /sagemaker_remote_function_workspace/requirements.txt (line 1)) (2023.5.5)\u001B[0m\n",
      "\u001B[34m2023-09-02 15:22:38,452 sagemaker.remote_function INFO     Requirement already satisfied: requests in /opt/conda/lib/python3.10/site-packages (from transformers==4.31.0->-r /sagemaker_remote_function_workspace/requirements.txt (line 1)) (2.28.2)\u001B[0m\n",
      "\u001B[34m2023-09-02 15:22:38,453 sagemaker.remote_function INFO     Requirement already satisfied: tqdm>=4.27 in /opt/conda/lib/python3.10/site-packages (from transformers==4.31.0->-r /sagemaker_remote_function_workspace/requirements.txt (line 1)) (4.65.0)\u001B[0m\n",
      "\u001B[34m2023-09-02 15:22:38,470 sagemaker.remote_function INFO     Requirement already satisfied: psutil in /opt/conda/lib/python3.10/site-packages (from peft==0.4.0->-r /sagemaker_remote_function_workspace/requirements.txt (line 2)) (5.9.5)\u001B[0m\n",
      "\u001B[34m2023-09-02 15:22:38,471 sagemaker.remote_function INFO     Requirement already satisfied: torch>=1.13.0 in /opt/conda/lib/python3.10/site-packages (from peft==0.4.0->-r /sagemaker_remote_function_workspace/requirements.txt (line 2)) (2.0.0)\u001B[0m\n",
      "\u001B[34m2023-09-02 15:22:38,608 sagemaker.remote_function INFO     Collecting texttable (from py7zr->-r /sagemaker_remote_function_workspace/requirements.txt (line 7))\u001B[0m\n",
      "\u001B[34m2023-09-02 15:22:38,612 sagemaker.remote_function INFO       Downloading texttable-1.6.7-py2.py3-none-any.whl (10 kB)\u001B[0m\n",
      "\u001B[34m2023-09-02 15:22:38,779 sagemaker.remote_function INFO     Collecting pycryptodomex>=3.6.6 (from py7zr->-r /sagemaker_remote_function_workspace/requirements.txt (line 7))\u001B[0m\n",
      "\u001B[34m2023-09-02 15:22:38,782 sagemaker.remote_function INFO       Downloading pycryptodomex-3.18.0-cp35-abi3-manylinux_2_17_x86_64.manylinux2014_x86_64.whl (2.1 MB)\u001B[0m\n",
      "\u001B[34m2023-09-02 15:22:38,797 sagemaker.remote_function INFO          ━━━━━━━━━━━━━━━━━━━━━━━━━━━━━━━━━━━━━━━━ 2.1/2.1 MB 164.9 MB/s eta 0:00:00\u001B[0m\n",
      "\u001B[34m2023-09-02 15:22:38,947 sagemaker.remote_function INFO     Collecting pyzstd>=0.14.4 (from py7zr->-r /sagemaker_remote_function_workspace/requirements.txt (line 7))\u001B[0m\n",
      "\u001B[34m2023-09-02 15:22:38,953 sagemaker.remote_function INFO       Downloading pyzstd-0.15.9-cp310-cp310-manylinux_2_17_x86_64.manylinux2014_x86_64.whl (412 kB)\u001B[0m\n",
      "\u001B[34m2023-09-02 15:22:38,958 sagemaker.remote_function INFO          ━━━━━━━━━━━━━━━━━━━━━━━━━━━━━━━━━━━━━ 412.3/412.3 kB 132.0 MB/s eta 0:00:00\u001B[0m\n",
      "\u001B[34m2023-09-02 15:22:39,117 sagemaker.remote_function INFO     Collecting pyppmd<1.1.0,>=0.18.1 (from py7zr->-r /sagemaker_remote_function_workspace/requirements.txt (line 7))\u001B[0m\n",
      "\u001B[34m2023-09-02 15:22:39,122 sagemaker.remote_function INFO       Downloading pyppmd-1.0.0-cp310-cp310-manylinux_2_17_x86_64.manylinux2014_x86_64.whl (138 kB)\u001B[0m\n",
      "\u001B[34m2023-09-02 15:22:39,126 sagemaker.remote_function INFO          ━━━━━━━━━━━━━━━━━━━━━━━━━━━━━━━━━━━━━━ 138.8/138.8 kB 75.1 MB/s eta 0:00:00\u001B[0m\n",
      "\u001B[34m2023-09-02 15:22:39,210 sagemaker.remote_function INFO     Collecting pybcj>=0.6.0 (from py7zr->-r /sagemaker_remote_function_workspace/requirements.txt (line 7))\u001B[0m\n",
      "\u001B[34m2023-09-02 15:22:39,214 sagemaker.remote_function INFO       Downloading pybcj-1.0.1-cp310-cp310-manylinux_2_17_x86_64.manylinux2014_x86_64.whl (49 kB)\u001B[0m\n",
      "\u001B[34m2023-09-02 15:22:39,217 sagemaker.remote_function INFO          ━━━━━━━━━━━━━━━━━━━━━━━━━━━━━━━━━━━━━━━━ 49.8/49.8 kB 34.8 MB/s eta 0:00:00\u001B[0m\n",
      "\u001B[34m2023-09-02 15:22:39,232 sagemaker.remote_function INFO     Collecting multivolumefile>=0.2.3 (from py7zr->-r /sagemaker_remote_function_workspace/requirements.txt (line 7))\u001B[0m\n",
      "\u001B[34m2023-09-02 15:22:39,235 sagemaker.remote_function INFO       Downloading multivolumefile-0.2.3-py3-none-any.whl (17 kB)\u001B[0m\n",
      "\u001B[34m2023-09-02 15:22:39,279 sagemaker.remote_function INFO     Collecting brotli>=1.0.9 (from py7zr->-r /sagemaker_remote_function_workspace/requirements.txt (line 7))\u001B[0m\n",
      "\u001B[34m2023-09-02 15:22:39,284 sagemaker.remote_function INFO       Downloading Brotli-1.0.9-cp310-cp310-manylinux_2_5_x86_64.manylinux1_x86_64.manylinux_2_12_x86_64.manylinux2010_x86_64.whl (2.7 MB)\u001B[0m\n",
      "\u001B[34m2023-09-02 15:22:39,303 sagemaker.remote_function INFO          ━━━━━━━━━━━━━━━━━━━━━━━━━━━━━━━━━━━━━━━━ 2.7/2.7 MB 163.1 MB/s eta 0:00:00\u001B[0m\n",
      "\u001B[34m2023-09-02 15:22:39,367 sagemaker.remote_function INFO     Collecting inflate64>=0.3.1 (from py7zr->-r /sagemaker_remote_function_workspace/requirements.txt (line 7))\u001B[0m\n",
      "\u001B[34m2023-09-02 15:22:39,376 sagemaker.remote_function INFO       Downloading inflate64-0.3.1-cp310-cp310-manylinux_2_17_x86_64.manylinux2014_x86_64.whl (93 kB)\u001B[0m\n",
      "\u001B[34m2023-09-02 15:22:39,380 sagemaker.remote_function INFO          ━━━━━━━━━━━━━━━━━━━━━━━━━━━━━━━━━━━━━━━━ 93.1/93.1 kB 37.6 MB/s eta 0:00:00\u001B[0m\n",
      "\u001B[34m2023-09-02 15:22:39,436 sagemaker.remote_function INFO     Requirement already satisfied: fsspec in /opt/conda/lib/python3.10/site-packages (from huggingface-hub<1.0,>=0.14.1->transformers==4.31.0->-r /sagemaker_remote_function_workspace/requirements.txt (line 1)) (2023.5.0)\u001B[0m\n",
      "\u001B[34m2023-09-02 15:22:39,437 sagemaker.remote_function INFO     Requirement already satisfied: typing-extensions>=3.7.4.3 in /opt/conda/lib/python3.10/site-packages (from huggingface-hub<1.0,>=0.14.1->transformers==4.31.0->-r /sagemaker_remote_function_workspace/requirements.txt (line 1)) (4.5.0)\u001B[0m\n",
      "\u001B[34m2023-09-02 15:22:39,511 sagemaker.remote_function INFO     Requirement already satisfied: sympy in /opt/conda/lib/python3.10/site-packages (from torch>=1.13.0->peft==0.4.0->-r /sagemaker_remote_function_workspace/requirements.txt (line 2)) (1.11.1)\u001B[0m\n",
      "\u001B[34m2023-09-02 15:22:39,511 sagemaker.remote_function INFO     Requirement already satisfied: networkx in /opt/conda/lib/python3.10/site-packages (from torch>=1.13.0->peft==0.4.0->-r /sagemaker_remote_function_workspace/requirements.txt (line 2)) (3.1)\u001B[0m\n",
      "\u001B[34m2023-09-02 15:22:39,511 sagemaker.remote_function INFO     Requirement already satisfied: jinja2 in /opt/conda/lib/python3.10/site-packages (from torch>=1.13.0->peft==0.4.0->-r /sagemaker_remote_function_workspace/requirements.txt (line 2)) (3.1.2)\u001B[0m\n",
      "\u001B[34m2023-09-02 15:22:39,548 sagemaker.remote_function INFO     Requirement already satisfied: charset-normalizer<4,>=2 in /opt/conda/lib/python3.10/site-packages (from requests->transformers==4.31.0->-r /sagemaker_remote_function_workspace/requirements.txt (line 1)) (3.1.0)\u001B[0m\n",
      "\u001B[34m2023-09-02 15:22:39,548 sagemaker.remote_function INFO     Requirement already satisfied: idna<4,>=2.5 in /opt/conda/lib/python3.10/site-packages (from requests->transformers==4.31.0->-r /sagemaker_remote_function_workspace/requirements.txt (line 1)) (3.4)\u001B[0m\n",
      "\u001B[34m2023-09-02 15:22:39,549 sagemaker.remote_function INFO     Requirement already satisfied: urllib3<1.27,>=1.21.1 in /opt/conda/lib/python3.10/site-packages (from requests->transformers==4.31.0->-r /sagemaker_remote_function_workspace/requirements.txt (line 1)) (1.26.15)\u001B[0m\n",
      "\u001B[34m2023-09-02 15:22:39,550 sagemaker.remote_function INFO     Requirement already satisfied: certifi>=2017.4.17 in /opt/conda/lib/python3.10/site-packages (from requests->transformers==4.31.0->-r /sagemaker_remote_function_workspace/requirements.txt (line 1)) (2023.5.7)\u001B[0m\n",
      "\u001B[34m2023-09-02 15:22:39,628 sagemaker.remote_function INFO     Requirement already satisfied: MarkupSafe>=2.0 in /opt/conda/lib/python3.10/site-packages (from jinja2->torch>=1.13.0->peft==0.4.0->-r /sagemaker_remote_function_workspace/requirements.txt (line 2)) (2.1.2)\u001B[0m\n",
      "\u001B[34m2023-09-02 15:22:39,651 sagemaker.remote_function INFO     Requirement already satisfied: mpmath>=0.19 in /opt/conda/lib/python3.10/site-packages (from sympy->torch>=1.13.0->peft==0.4.0->-r /sagemaker_remote_function_workspace/requirements.txt (line 2)) (1.3.0)\u001B[0m\n",
      "\u001B[34m2023-09-02 15:22:42,116 sagemaker.remote_function INFO     Installing collected packages: texttable, safetensors, brotli, bitsandbytes, pyzstd, pyppmd, pycryptodomex, pybcj, multivolumefile, inflate64, py7zr, transformers, accelerate, peft\u001B[0m\n",
      "\u001B[34m2023-09-02 15:22:43,909 sagemaker.remote_function INFO       Attempting uninstall: transformers\u001B[0m\n",
      "\u001B[34m2023-09-02 15:22:43,913 sagemaker.remote_function INFO         Found existing installation: transformers 4.28.1\u001B[0m\n",
      "\u001B[34m2023-09-02 15:22:44,038 sagemaker.remote_function INFO         Uninstalling transformers-4.28.1:\u001B[0m\n",
      "\u001B[34m2023-09-02 15:22:44,418 sagemaker.remote_function INFO           Successfully uninstalled transformers-4.28.1\u001B[0m\n",
      "\u001B[34m2023-09-02 15:22:47,824 sagemaker.remote_function INFO       Attempting uninstall: accelerate\u001B[0m\n",
      "\u001B[34m2023-09-02 15:22:47,827 sagemaker.remote_function INFO         Found existing installation: accelerate 0.19.0\u001B[0m\n",
      "\u001B[34m2023-09-02 15:22:47,835 sagemaker.remote_function INFO         Uninstalling accelerate-0.19.0:\u001B[0m\n",
      "\u001B[34m2023-09-02 15:22:47,857 sagemaker.remote_function INFO           Successfully uninstalled accelerate-0.19.0\u001B[0m\n",
      "\u001B[34m2023-09-02 15:22:48,065 sagemaker.remote_function INFO     Successfully installed accelerate-0.21.0 bitsandbytes-0.40.2 brotli-1.0.9 inflate64-0.3.1 multivolumefile-0.2.3 peft-0.4.0 py7zr-0.20.6 pybcj-1.0.1 pycryptodomex-3.18.0 pyppmd-1.0.0 pyzstd-0.15.9 safetensors-0.3.3 texttable-1.6.7 transformers-4.31.0\u001B[0m\n",
      "\u001B[34m2023-09-02 15:22:48,383 sagemaker.remote_function WARNING  WARNING: Running pip as the 'root' user can result in broken permissions and conflicting behaviour with the system package manager. It is recommended to use a virtual environment instead: https://pip.pypa.io/warnings/venv\u001B[0m\n",
      "\u001B[34m2023-09-02 15:22:48,383 sagemaker.remote_function WARNING  \u001B[0m\n",
      "\u001B[34m2023-09-02 15:22:48,383 sagemaker.remote_function WARNING  [notice] A new release of pip is available: 23.1.2 -> 23.2.1\u001B[0m\n",
      "\u001B[34m2023-09-02 15:22:48,383 sagemaker.remote_function WARNING  [notice] To update, run: pip install --upgrade pip\u001B[0m\n",
      "\u001B[34m2023-09-02 15:22:48,383 sagemaker.remote_function INFO     Command /opt/conda/bin/python -m pip install -r /sagemaker_remote_function_workspace/requirements.txt ran successfully\u001B[0m\n",
      "\u001B[34mINFO: Changing workspace to sagemaker_remote_function_workspace.\u001B[0m\n",
      "\u001B[34mINFO: No conda env provided. Invoking remote function\u001B[0m\n",
      "\u001B[34m2023-09-02 15:22:49,358 sagemaker.remote_function INFO     Deserializing function code from s3://sagemaker-eu-west-1-691148928602/train-fn-2023-09-02-15-16-14-461/function\u001B[0m\n",
      "\u001B[34m2023-09-02 15:22:51,876 sagemaker.remote_function INFO     Deserializing function arguments from s3://sagemaker-eu-west-1-691148928602/train-fn-2023-09-02-15-16-14-461/arguments\u001B[0m\n",
      "\u001B[34m2023-09-02 15:22:52,065 sagemaker.remote_function INFO     Invoking the function\u001B[0m\n",
      "\u001B[34mTotal number of train samples: 5101\u001B[0m\n",
      "\u001B[34m#015Map:   0%|          | 0/5101 [00:00<?, ? examples/s]#015Map:  12%|█▏        | 600/5101 [00:00<00:00, 5915.01 examples/s]#015Map:  25%|██▌       | 1296/5101 [00:00<00:00, 6375.52 examples/s]#015Map:  40%|███▉      | 2040/5101 [00:00<00:00, 6791.02 examples/s]#015Map:  55%|█████▍    | 2784/5101 [00:00<00:00, 6953.42 examples/s]#015Map:  69%|██████▉   | 3528/5101 [00:00<00:00, 7002.47 examples/s]#015Map:  84%|████████▎ | 4272/5101 [00:00<00:00, 7039.96 examples/s]#015Map:  98%|█████████▊| 4992/5101 [00:00<00:00, 7022.40 examples/s]#015                                                                 #015#015Map:   0%|          | 0/2187 [00:00<?, ? examples/s]#015Map:  91%|█████████▏| 2000/2187 [00:00<00:00, 17933.34 examples/s]#015                                                                  #015#015Downloading (…)lve/main/config.json:   0%|          | 0.00/950 [00:00<?, ?B/s]#015Downloading (…)lve/main/config.json: 100%|██████████| 950/950 [00:00<00:00, 7.35MB/s]\u001B[0m\n",
      "\u001B[34m#015Downloading (…)/configuration_RW.py:   0%|          | 0.00/2.61k [00:00<?, ?B/s]#015Downloading (…)/configuration_RW.py: 100%|██████████| 2.61k/2.61k [00:00<00:00, 35.7MB/s]\u001B[0m\n",
      "\u001B[34mA new version of the following files was downloaded from https://huggingface.co/tiiuae/falcon-7b:\u001B[0m\n",
      "\u001B[34m- configuration_RW.py\u001B[0m\n",
      "\u001B[34m. Make sure to double-check they do not contain any added malicious code. To avoid downloading new versions of the code file, you can pin a revision.\u001B[0m\n",
      "\u001B[34m#015Downloading (…)main/modelling_RW.py:   0%|          | 0.00/47.6k [00:00<?, ?B/s]#015Downloading (…)main/modelling_RW.py: 100%|██████████| 47.6k/47.6k [00:00<00:00, 296MB/s]\u001B[0m\n",
      "\u001B[34mA new version of the following files was downloaded from https://huggingface.co/tiiuae/falcon-7b:\u001B[0m\n",
      "\u001B[34m- modelling_RW.py\u001B[0m\n",
      "\u001B[34m. Make sure to double-check they do not contain any added malicious code. To avoid downloading new versions of the code file, you can pin a revision.\u001B[0m\n",
      "\u001B[34m#015Downloading (…)model.bin.index.json:   0%|          | 0.00/16.9k [00:00<?, ?B/s]#015Downloading (…)model.bin.index.json: 100%|██████████| 16.9k/16.9k [00:00<00:00, 136MB/s]\u001B[0m\n",
      "\u001B[34m#015Downloading shards:   0%|          | 0/2 [00:00<?, ?it/s]\u001B[0m\n",
      "\u001B[34m#015Downloading (…)l-00001-of-00002.bin:   0%|          | 0.00/9.95G [00:00<?, ?B/s]#033[A\u001B[0m\n",
      "\u001B[34m#015Downloading (…)l-00001-of-00002.bin:   0%|          | 31.5M/9.95G [00:00<00:40, 246MB/s]#033[A\u001B[0m\n",
      "\u001B[34m#015Downloading (…)l-00001-of-00002.bin:   1%|          | 73.4M/9.95G [00:00<00:30, 323MB/s]#033[A\u001B[0m\n",
      "\u001B[34m#015Downloading (…)l-00001-of-00002.bin:   1%|          | 115M/9.95G [00:00<00:31, 311MB/s] #033[A\u001B[0m\n",
      "\u001B[34m#015Downloading (…)l-00001-of-00002.bin:   2%|▏         | 157M/9.95G [00:00<00:30, 325MB/s]#033[A\u001B[0m\n",
      "\u001B[34m#015Downloading (…)l-00001-of-00002.bin:   2%|▏         | 199M/9.95G [00:00<00:30, 319MB/s]#033[A\u001B[0m\n",
      "\u001B[34m#015Downloading (…)l-00001-of-00002.bin:   2%|▏         | 241M/9.95G [00:00<00:31, 308MB/s]#033[A\u001B[0m\n",
      "\u001B[34m#015Downloading (…)l-00001-of-00002.bin:   3%|▎         | 283M/9.95G [00:00<00:30, 313MB/s]#033[A\u001B[0m\n",
      "\u001B[34m#015Downloading (…)l-00001-of-00002.bin:   3%|▎         | 325M/9.95G [00:01<00:31, 304MB/s]#033[A\u001B[0m\n",
      "\u001B[34m#015Downloading (…)l-00001-of-00002.bin:   4%|▎         | 357M/9.95G [00:01<00:33, 284MB/s]#033[A\u001B[0m\n",
      "\u001B[34m#015Downloading (…)l-00001-of-00002.bin:   4%|▍         | 388M/9.95G [00:01<00:34, 281MB/s]#033[A\u001B[0m\n",
      "\u001B[34m#015Downloading (…)l-00001-of-00002.bin:   4%|▍         | 419M/9.95G [00:01<00:34, 272MB/s]#033[A\u001B[0m\n",
      "\u001B[34m#015Downloading (…)l-00001-of-00002.bin:   5%|▍         | 451M/9.95G [00:01<00:35, 268MB/s]#033[A\u001B[0m\n",
      "\u001B[34m#015Downloading (…)l-00001-of-00002.bin:   5%|▍         | 482M/9.95G [00:01<00:35, 264MB/s]#033[A\u001B[0m\n",
      "\u001B[34m#015Downloading (…)l-00001-of-00002.bin:   5%|▌         | 514M/9.95G [00:01<00:37, 251MB/s]#033[A\u001B[0m\n",
      "\u001B[34m#015Downloading (…)l-00001-of-00002.bin:   5%|▌         | 545M/9.95G [00:01<00:38, 245MB/s]#033[A\u001B[0m\n",
      "\u001B[34m#015Downloading (…)l-00001-of-00002.bin:   6%|▌         | 577M/9.95G [00:02<00:42, 222MB/s]#033[A\u001B[0m\n",
      "\u001B[34m#015Downloading (…)l-00001-of-00002.bin:   6%|▌         | 608M/9.95G [00:02<00:43, 216MB/s]#033[A\u001B[0m\n",
      "\u001B[34m#015Downloading (…)l-00001-of-00002.bin:   6%|▋         | 640M/9.95G [00:02<00:39, 236MB/s]#033[A\u001B[0m\n",
      "\u001B[34m#015Downloading (…)l-00001-of-00002.bin:   7%|▋         | 671M/9.95G [00:02<00:37, 249MB/s]#033[A\u001B[0m\n",
      "\u001B[34m#015Downloading (…)l-00001-of-00002.bin:   7%|▋         | 703M/9.95G [00:02<00:35, 261MB/s]#033[A\u001B[0m\n",
      "\u001B[34m#015Downloading (…)l-00001-of-00002.bin:   7%|▋         | 744M/9.95G [00:02<00:31, 296MB/s]#033[A\u001B[0m\n",
      "\u001B[34m#015Downloading (…)l-00001-of-00002.bin:   8%|▊         | 776M/9.95G [00:02<00:31, 296MB/s]#033[A\u001B[0m\n",
      "\u001B[34m#015Downloading (…)l-00001-of-00002.bin:   8%|▊         | 807M/9.95G [00:02<00:31, 289MB/s]#033[A\u001B[0m\n",
      "\u001B[34m#015Downloading (…)l-00001-of-00002.bin:   8%|▊         | 839M/9.95G [00:03<00:41, 219MB/s]#033[A\u001B[0m\n",
      "\u001B[34m#015Downloading (…)l-00001-of-00002.bin:   9%|▊         | 870M/9.95G [00:03<00:41, 218MB/s]#033[A\u001B[0m\n",
      "\u001B[34m#015Downloading (…)l-00001-of-00002.bin:   9%|▉         | 912M/9.95G [00:03<00:36, 244MB/s]#033[A\u001B[0m\n",
      "\u001B[34m#015Downloading (…)l-00001-of-00002.bin:   9%|▉         | 944M/9.95G [00:03<00:35, 253MB/s]#033[A\u001B[0m\n",
      "\u001B[34m#015Downloading (…)l-00001-of-00002.bin:  10%|▉         | 975M/9.95G [00:03<00:36, 244MB/s]#033[A\u001B[0m\n",
      "\u001B[34m#015Downloading (…)l-00001-of-00002.bin:  10%|█         | 1.01G/9.95G [00:03<00:36, 244MB/s]#033[A\u001B[0m\n",
      "\u001B[34m#015Downloading (…)l-00001-of-00002.bin:  10%|█         | 1.04G/9.95G [00:03<00:35, 250MB/s]#033[A\u001B[0m\n",
      "\u001B[34m#015Downloading (…)l-00001-of-00002.bin:  11%|█         | 1.07G/9.95G [00:04<00:36, 244MB/s]#033[A\u001B[0m\n",
      "\u001B[34m#015Downloading (…)l-00001-of-00002.bin:  11%|█         | 1.10G/9.95G [00:04<00:35, 252MB/s]#033[A\u001B[0m\n",
      "\u001B[34m#015Downloading (…)l-00001-of-00002.bin:  11%|█▏        | 1.13G/9.95G [00:04<00:34, 255MB/s]#033[A\u001B[0m\n",
      "\u001B[34m#015Downloading (…)l-00001-of-00002.bin:  12%|█▏        | 1.16G/9.95G [00:04<00:35, 247MB/s]#033[A\u001B[0m\n",
      "\u001B[34m#015Downloading (…)l-00001-of-00002.bin:  12%|█▏        | 1.20G/9.95G [00:04<00:37, 231MB/s]#033[A\u001B[0m\n",
      "\u001B[34m#015Downloading (…)l-00001-of-00002.bin:  12%|█▏        | 1.23G/9.95G [00:04<00:40, 216MB/s]#033[A\u001B[0m\n",
      "\u001B[34m#015Downloading (…)l-00001-of-00002.bin:  13%|█▎        | 1.26G/9.95G [00:04<00:37, 234MB/s]#033[A\u001B[0m\n",
      "\u001B[34m#015Downloading (…)l-00001-of-00002.bin:  13%|█▎        | 1.29G/9.95G [00:04<00:35, 244MB/s]#033[A\u001B[0m\n",
      "\u001B[34m#015Downloading (…)l-00001-of-00002.bin:  13%|█▎        | 1.32G/9.95G [00:05<00:34, 250MB/s]#033[A\u001B[0m\n",
      "\u001B[34m#015Downloading (…)l-00001-of-00002.bin:  14%|█▎        | 1.36G/9.95G [00:05<00:30, 280MB/s]#033[A\u001B[0m\n",
      "\u001B[34m#015Downloading (…)l-00001-of-00002.bin:  14%|█▍        | 1.41G/9.95G [00:05<00:28, 298MB/s]#033[A\u001B[0m\n",
      "\u001B[34m#015Downloading (…)l-00001-of-00002.bin:  15%|█▍        | 1.45G/9.95G [00:05<00:26, 315MB/s]#033[A\u001B[0m\n",
      "\u001B[34m#015Downloading (…)l-00001-of-00002.bin:  15%|█▍        | 1.49G/9.95G [00:05<00:26, 323MB/s]#033[A\u001B[0m\n",
      "\u001B[34m#015Downloading (…)l-00001-of-00002.bin:  15%|█▌        | 1.53G/9.95G [00:05<00:29, 288MB/s]#033[A\u001B[0m\n",
      "\u001B[34m#015Downloading (…)l-00001-of-00002.bin:  16%|█▌        | 1.56G/9.95G [00:05<00:28, 290MB/s]#033[A\u001B[0m\n",
      "\u001B[34m#015Downloading (…)l-00001-of-00002.bin:  16%|█▌        | 1.60G/9.95G [00:06<00:27, 304MB/s]#033[A\u001B[0m\n",
      "\u001B[34m#015Downloading (…)l-00001-of-00002.bin:  16%|█▋        | 1.64G/9.95G [00:06<00:30, 276MB/s]#033[A\u001B[0m\n",
      "\u001B[34m#015Downloading (…)l-00001-of-00002.bin:  17%|█▋        | 1.68G/9.95G [00:06<00:27, 302MB/s]#033[A\u001B[0m\n",
      "\u001B[34m#015Downloading (…)l-00001-of-00002.bin:  17%|█▋        | 1.72G/9.95G [00:06<00:25, 319MB/s]#033[A\u001B[0m\n",
      "\u001B[34m#015Downloading (…)l-00001-of-00002.bin:  18%|█▊        | 1.76G/9.95G [00:06<00:26, 314MB/s]#033[A\u001B[0m\n",
      "\u001B[34m#015Downloading (…)l-00001-of-00002.bin:  18%|█▊        | 1.80G/9.95G [00:06<00:26, 308MB/s]#033[A\u001B[0m\n",
      "\u001B[34m#015Downloading (…)l-00001-of-00002.bin:  18%|█▊        | 1.84G/9.95G [00:06<00:26, 307MB/s]#033[A\u001B[0m\n",
      "\u001B[34m#015Downloading (…)l-00001-of-00002.bin:  19%|█▉        | 1.87G/9.95G [00:06<00:26, 303MB/s]#033[A\u001B[0m\n",
      "\u001B[34m#015Downloading (…)l-00001-of-00002.bin:  19%|█▉        | 1.91G/9.95G [00:06<00:25, 316MB/s]#033[A\u001B[0m\n",
      "\u001B[34m#015Downloading (…)l-00001-of-00002.bin:  20%|█▉        | 1.95G/9.95G [00:07<00:27, 296MB/s]#033[A\u001B[0m\n",
      "\u001B[34m#015Downloading (…)l-00001-of-00002.bin:  20%|██        | 1.99G/9.95G [00:07<00:25, 313MB/s]#033[A\u001B[0m\n",
      "\u001B[34m#015Downloading (…)l-00001-of-00002.bin:  20%|██        | 2.03G/9.95G [00:07<00:24, 324MB/s]#033[A\u001B[0m\n",
      "\u001B[34m#015Downloading (…)l-00001-of-00002.bin:  21%|██        | 2.08G/9.95G [00:07<00:22, 345MB/s]#033[A\u001B[0m\n",
      "\u001B[34m#015Downloading (…)l-00001-of-00002.bin:  21%|██▏       | 2.13G/9.95G [00:07<00:23, 338MB/s]#033[A\u001B[0m\n",
      "\u001B[34m#015Downloading (…)l-00001-of-00002.bin:  22%|██▏       | 2.17G/9.95G [00:07<00:24, 322MB/s]#033[A\u001B[0m\n",
      "\u001B[34m#015Downloading (…)l-00001-of-00002.bin:  22%|██▏       | 2.21G/9.95G [00:07<00:26, 292MB/s]#033[A\u001B[0m\n",
      "\u001B[34m#015Downloading (…)l-00001-of-00002.bin:  23%|██▎       | 2.24G/9.95G [00:08<00:29, 264MB/s]#033[A\u001B[0m\n",
      "\u001B[34m#015Downloading (…)l-00001-of-00002.bin:  23%|██▎       | 2.28G/9.95G [00:08<00:28, 267MB/s]#033[A\u001B[0m\n",
      "\u001B[34m#015Downloading (…)l-00001-of-00002.bin:  23%|██▎       | 2.31G/9.95G [00:08<00:27, 277MB/s]#033[A\u001B[0m\n",
      "\u001B[34m#015Downloading (…)l-00001-of-00002.bin:  23%|██▎       | 2.34G/9.95G [00:08<00:28, 271MB/s]#033[A\u001B[0m\n",
      "\u001B[34m#015Downloading (…)l-00001-of-00002.bin:  24%|██▍       | 2.37G/9.95G [00:08<00:29, 253MB/s]#033[A\u001B[0m\n",
      "\u001B[34m#015Downloading (…)l-00001-of-00002.bin:  24%|██▍       | 2.40G/9.95G [00:08<00:30, 244MB/s]#033[A\u001B[0m\n",
      "\u001B[34m#015Downloading (…)l-00001-of-00002.bin:  24%|██▍       | 2.43G/9.95G [00:08<00:36, 203MB/s]#033[A\u001B[0m\n",
      "\u001B[34m#015Downloading (…)l-00001-of-00002.bin:  25%|██▍       | 2.46G/9.95G [00:09<00:37, 201MB/s]#033[A\u001B[0m\n",
      "\u001B[34m#015Downloading (…)l-00001-of-00002.bin:  25%|██▌       | 2.50G/9.95G [00:09<00:40, 186MB/s]#033[A\u001B[0m\n",
      "\u001B[34m#015Downloading (…)l-00001-of-00002.bin:  25%|██▌       | 2.52G/9.95G [00:09<00:43, 172MB/s]#033[A\u001B[0m\n",
      "\u001B[34m#015Downloading (…)l-00001-of-00002.bin:  26%|██▌       | 2.54G/9.95G [00:09<00:42, 172MB/s]#033[A\u001B[0m\n",
      "\u001B[34m#015Downloading (…)l-00001-of-00002.bin:  26%|██▌       | 2.56G/9.95G [00:09<00:42, 172MB/s]#033[A\u001B[0m\n",
      "\u001B[34m#015Downloading (…)l-00001-of-00002.bin:  26%|██▌       | 2.58G/9.95G [00:09<00:41, 179MB/s]#033[A\u001B[0m\n",
      "\u001B[34m#015Downloading (…)l-00001-of-00002.bin:  26%|██▌       | 2.61G/9.95G [00:09<00:38, 193MB/s]#033[A\u001B[0m\n",
      "\u001B[34m#015Downloading (…)l-00001-of-00002.bin:  26%|██▋       | 2.63G/9.95G [00:10<00:54, 134MB/s]#033[A\u001B[0m\n",
      "\u001B[34m#015Downloading (…)l-00001-of-00002.bin:  27%|██▋       | 2.66G/9.95G [00:10<00:46, 156MB/s]#033[A\u001B[0m\n",
      "\u001B[34m#015Downloading (…)l-00001-of-00002.bin:  27%|██▋       | 2.68G/9.95G [00:10<00:43, 167MB/s]#033[A\u001B[0m\n",
      "\u001B[34m#015Downloading (…)l-00001-of-00002.bin:  27%|██▋       | 2.71G/9.95G [00:10<00:41, 176MB/s]#033[A\u001B[0m\n",
      "\u001B[34m#015Downloading (…)l-00001-of-00002.bin:  28%|██▊       | 2.74G/9.95G [00:10<00:39, 181MB/s]#033[A\u001B[0m\n",
      "\u001B[34m#015Downloading (…)l-00001-of-00002.bin:  28%|██▊       | 2.76G/9.95G [00:10<00:40, 176MB/s]#033[A\u001B[0m\n",
      "\u001B[34m#015Downloading (…)l-00001-of-00002.bin:  28%|██▊       | 2.78G/9.95G [00:11<00:40, 179MB/s]#033[A\u001B[0m\n",
      "\u001B[34m#015Downloading (…)l-00001-of-00002.bin:  28%|██▊       | 2.80G/9.95G [00:11<00:39, 180MB/s]#033[A\u001B[0m\n",
      "\u001B[34m#015Downloading (…)l-00001-of-00002.bin:  28%|██▊       | 2.82G/9.95G [00:11<00:38, 184MB/s]#033[A\u001B[0m\n",
      "\u001B[34m#015Downloading (…)l-00001-of-00002.bin:  29%|██▊       | 2.84G/9.95G [00:11<00:38, 186MB/s]#033[A\u001B[0m\n",
      "\u001B[34m#015Downloading (…)l-00001-of-00002.bin:  29%|██▉       | 2.86G/9.95G [00:11<00:39, 178MB/s]#033[A\u001B[0m\n",
      "\u001B[34m#015Downloading (…)l-00001-of-00002.bin:  29%|██▉       | 2.90G/9.95G [00:11<00:32, 219MB/s]#033[A\u001B[0m\n",
      "\u001B[34m#015Downloading (…)l-00001-of-00002.bin:  30%|██▉       | 2.94G/9.95G [00:11<00:29, 241MB/s]#033[A\u001B[0m\n",
      "\u001B[34m#015Downloading (…)l-00001-of-00002.bin:  30%|██▉       | 2.98G/9.95G [00:11<00:24, 279MB/s]#033[A\u001B[0m\n",
      "\u001B[34m#015Downloading (…)l-00001-of-00002.bin:  30%|███       | 3.01G/9.95G [00:11<00:25, 268MB/s]#033[A\u001B[0m\n",
      "\u001B[34m#015Downloading (…)l-00001-of-00002.bin:  31%|███       | 3.05G/9.95G [00:12<00:22, 304MB/s]#033[A\u001B[0m\n",
      "\u001B[34m#015Downloading (…)l-00001-of-00002.bin:  31%|███       | 3.09G/9.95G [00:12<00:21, 317MB/s]#033[A\u001B[0m\n",
      "\u001B[34m#015Downloading (…)l-00001-of-00002.bin:  32%|███▏      | 3.14G/9.95G [00:12<00:20, 332MB/s]#033[A\u001B[0m\n",
      "\u001B[34m#015Downloading (…)l-00001-of-00002.bin:  32%|███▏      | 3.18G/9.95G [00:12<00:20, 331MB/s]#033[A\u001B[0m\n",
      "\u001B[34m#015Downloading (…)l-00001-of-00002.bin:  32%|███▏      | 3.22G/9.95G [00:12<00:19, 344MB/s]#033[A\u001B[0m\n",
      "\u001B[34m#015Downloading (…)l-00001-of-00002.bin:  33%|███▎      | 3.26G/9.95G [00:12<00:18, 360MB/s]#033[A\u001B[0m\n",
      "\u001B[34m#015Downloading (…)l-00001-of-00002.bin:  33%|███▎      | 3.30G/9.95G [00:12<00:18, 362MB/s]#033[A\u001B[0m\n",
      "\u001B[34m#015Downloading (…)l-00001-of-00002.bin:  34%|███▎      | 3.34G/9.95G [00:12<00:21, 314MB/s]#033[A\u001B[0m\n",
      "\u001B[34m#015Downloading (…)l-00001-of-00002.bin:  34%|███▍      | 3.39G/9.95G [00:13<00:21, 305MB/s]#033[A\u001B[0m\n",
      "\u001B[34m#015Downloading (…)l-00001-of-00002.bin:  34%|███▍      | 3.42G/9.95G [00:13<00:21, 298MB/s]#033[A\u001B[0m\n",
      "\u001B[34m#015Downloading (…)l-00001-of-00002.bin:  35%|███▍      | 3.47G/9.95G [00:13<00:19, 338MB/s]#033[A\u001B[0m\n",
      "\u001B[34m#015Downloading (…)l-00001-of-00002.bin:  35%|███▌      | 3.52G/9.95G [00:13<00:17, 364MB/s]#033[A\u001B[0m\n",
      "\u001B[34m#015Downloading (…)l-00001-of-00002.bin:  36%|███▌      | 3.57G/9.95G [00:13<00:17, 372MB/s]#033[A\u001B[0m\n",
      "\u001B[34m#015Downloading (…)l-00001-of-00002.bin:  36%|███▌      | 3.61G/9.95G [00:13<00:18, 346MB/s]#033[A\u001B[0m\n",
      "\u001B[34m#015Downloading (…)l-00001-of-00002.bin:  37%|███▋      | 3.65G/9.95G [00:13<00:18, 346MB/s]#033[A\u001B[0m\n",
      "\u001B[34m#015Downloading (…)l-00001-of-00002.bin:  37%|███▋      | 3.69G/9.95G [00:13<00:18, 339MB/s]#033[A\u001B[0m\n",
      "\u001B[34m#015Downloading (…)l-00001-of-00002.bin:  38%|███▊      | 3.73G/9.95G [00:14<00:18, 339MB/s]#033[A\u001B[0m\n",
      "\u001B[34m#015Downloading (…)l-00001-of-00002.bin:  38%|███▊      | 3.77G/9.95G [00:14<00:17, 358MB/s]#033[A\u001B[0m\n",
      "\u001B[34m#015Downloading (…)l-00001-of-00002.bin:  38%|███▊      | 3.82G/9.95G [00:14<00:18, 327MB/s]#033[A\u001B[0m\n",
      "\u001B[34m#015Downloading (…)l-00001-of-00002.bin:  39%|███▉      | 3.86G/9.95G [00:14<00:18, 333MB/s]#033[A\u001B[0m\n",
      "\u001B[34m#015Downloading (…)l-00001-of-00002.bin:  39%|███▉      | 3.91G/9.95G [00:14<00:17, 353MB/s]#033[A\u001B[0m\n",
      "\u001B[34m#015Downloading (…)l-00001-of-00002.bin:  40%|███▉      | 3.95G/9.95G [00:14<00:17, 351MB/s]#033[A\u001B[0m\n",
      "\u001B[34m#015Downloading (…)l-00001-of-00002.bin:  40%|████      | 4.00G/9.95G [00:14<00:17, 346MB/s]#033[A\u001B[0m\n",
      "\u001B[34m#015Downloading (…)l-00001-of-00002.bin:  41%|████      | 4.04G/9.95G [00:14<00:18, 328MB/s]#033[A\u001B[0m\n",
      "\u001B[34m#015Downloading (…)l-00001-of-00002.bin:  41%|████      | 4.09G/9.95G [00:15<00:16, 356MB/s]#033[A\u001B[0m\n",
      "\u001B[34m#015Downloading (…)l-00001-of-00002.bin:  42%|████▏     | 4.13G/9.95G [00:15<00:16, 359MB/s]#033[A\u001B[0m\n",
      "\u001B[34m#015Downloading (…)l-00001-of-00002.bin:  42%|████▏     | 4.17G/9.95G [00:15<00:15, 364MB/s]#033[A\u001B[0m\n",
      "\u001B[34m#015Downloading (…)l-00001-of-00002.bin:  42%|████▏     | 4.22G/9.95G [00:15<00:15, 373MB/s]#033[A\u001B[0m\n",
      "\u001B[34m#015Downloading (…)l-00001-of-00002.bin:  43%|████▎     | 4.27G/9.95G [00:15<00:14, 388MB/s]#033[A\u001B[0m\n",
      "\u001B[34m#015Downloading (…)l-00001-of-00002.bin:  43%|████▎     | 4.31G/9.95G [00:15<00:15, 361MB/s]#033[A\u001B[0m\n",
      "\u001B[34m#015Downloading (…)l-00001-of-00002.bin:  44%|████▎     | 4.35G/9.95G [00:15<00:16, 337MB/s]#033[A\u001B[0m\n",
      "\u001B[34m#015Downloading (…)l-00001-of-00002.bin:  44%|████▍     | 4.39G/9.95G [00:15<00:18, 302MB/s]#033[A\u001B[0m\n",
      "\u001B[34m#015Downloading (…)l-00001-of-00002.bin:  44%|████▍     | 4.42G/9.95G [00:16<00:18, 293MB/s]#033[A\u001B[0m\n",
      "\u001B[34m#015Downloading (…)l-00001-of-00002.bin:  45%|████▍     | 4.46G/9.95G [00:16<00:19, 280MB/s]#033[A\u001B[0m\n",
      "\u001B[34m#015Downloading (…)l-00001-of-00002.bin:  45%|████▌     | 4.49G/9.95G [00:16<00:20, 271MB/s]#033[A\u001B[0m\n",
      "\u001B[34m#015Downloading (…)l-00001-of-00002.bin:  45%|████▌     | 4.52G/9.95G [00:16<00:21, 255MB/s]#033[A\u001B[0m\n",
      "\u001B[34m#015Downloading (…)l-00001-of-00002.bin:  46%|████▌     | 4.56G/9.95G [00:16<00:19, 282MB/s]#033[A\u001B[0m\n",
      "\u001B[34m#015Downloading (…)l-00001-of-00002.bin:  46%|████▋     | 4.60G/9.95G [00:16<00:18, 294MB/s]#033[A\u001B[0m\n",
      "\u001B[34m#015Downloading (…)l-00001-of-00002.bin:  47%|████▋     | 4.63G/9.95G [00:16<00:18, 294MB/s]#033[A\u001B[0m\n",
      "\u001B[34m#015Downloading (…)l-00001-of-00002.bin:  47%|████▋     | 4.67G/9.95G [00:17<00:21, 243MB/s]#033[A\u001B[0m\n",
      "\u001B[34m#015Downloading (…)l-00001-of-00002.bin:  47%|████▋     | 4.70G/9.95G [00:17<00:21, 241MB/s]#033[A\u001B[0m\n",
      "\u001B[34m#015Downloading (…)l-00001-of-00002.bin:  48%|████▊     | 4.73G/9.95G [00:17<00:21, 242MB/s]#033[A\u001B[0m\n",
      "\u001B[34m#015Downloading (…)l-00001-of-00002.bin:  48%|████▊     | 4.76G/9.95G [00:17<00:21, 240MB/s]#033[A\u001B[0m\n",
      "\u001B[34m#015Downloading (…)l-00001-of-00002.bin:  48%|████▊     | 4.79G/9.95G [00:17<00:22, 225MB/s]#033[A\u001B[0m\n",
      "\u001B[34m#015Downloading (…)l-00001-of-00002.bin:  48%|████▊     | 4.82G/9.95G [00:17<00:23, 221MB/s]#033[A\u001B[0m\n",
      "\u001B[34m#015Downloading (…)l-00001-of-00002.bin:  49%|████▉     | 4.85G/9.95G [00:17<00:22, 225MB/s]#033[A\u001B[0m\n",
      "\u001B[34m#015Downloading (…)l-00001-of-00002.bin:  49%|████▉     | 4.90G/9.95G [00:18<00:20, 249MB/s]#033[A\u001B[0m\n",
      "\u001B[34m#015Downloading (…)l-00001-of-00002.bin:  50%|████▉     | 4.93G/9.95G [00:18<00:19, 254MB/s]#033[A\u001B[0m\n",
      "\u001B[34m#015Downloading (…)l-00001-of-00002.bin:  50%|████▉     | 4.97G/9.95G [00:18<00:17, 289MB/s]#033[A\u001B[0m\n",
      "\u001B[34m#015Downloading (…)l-00001-of-00002.bin:  50%|█████     | 5.01G/9.95G [00:18<00:23, 206MB/s]#033[A\u001B[0m\n",
      "\u001B[34m#015Downloading (…)l-00001-of-00002.bin:  51%|█████     | 5.05G/9.95G [00:18<00:20, 236MB/s]#033[A\u001B[0m\n",
      "\u001B[34m#015Downloading (…)l-00001-of-00002.bin:  51%|█████     | 5.10G/9.95G [00:18<00:20, 238MB/s]#033[A\u001B[0m\n",
      "\u001B[34m#015Downloading (…)l-00001-of-00002.bin:  52%|█████▏    | 5.14G/9.95G [00:19<00:18, 254MB/s]#033[A\u001B[0m\n",
      "\u001B[34m#015Downloading (…)l-00001-of-00002.bin:  52%|█████▏    | 5.17G/9.95G [00:19<00:22, 217MB/s]#033[A\u001B[0m\n",
      "\u001B[34m#015Downloading (…)l-00001-of-00002.bin:  52%|█████▏    | 5.21G/9.95G [00:19<00:18, 254MB/s]#033[A\u001B[0m\n",
      "\u001B[34m#015Downloading (…)l-00001-of-00002.bin:  53%|█████▎    | 5.26G/9.95G [00:19<00:16, 292MB/s]#033[A\u001B[0m\n",
      "\u001B[34m#015Downloading (…)l-00001-of-00002.bin:  53%|█████▎    | 5.31G/9.95G [00:19<00:14, 318MB/s]#033[A\u001B[0m\n",
      "\u001B[34m#015Downloading (…)l-00001-of-00002.bin:  54%|█████▎    | 5.35G/9.95G [00:19<00:13, 331MB/s]#033[A\u001B[0m\n",
      "\u001B[34m#015Downloading (…)l-00001-of-00002.bin:  54%|█████▍    | 5.39G/9.95G [00:19<00:13, 330MB/s]#033[A\u001B[0m\n",
      "\u001B[34m#015Downloading (…)l-00001-of-00002.bin:  55%|█████▍    | 5.43G/9.95G [00:19<00:13, 347MB/s]#033[A\u001B[0m\n",
      "\u001B[34m#015Downloading (…)l-00001-of-00002.bin:  55%|█████▌    | 5.47G/9.95G [00:20<00:15, 285MB/s]#033[A\u001B[0m\n",
      "\u001B[34m#015Downloading (…)l-00001-of-00002.bin:  55%|█████▌    | 5.51G/9.95G [00:20<00:15, 285MB/s]#033[A\u001B[0m\n",
      "\u001B[34m#015Downloading (…)l-00001-of-00002.bin:  56%|█████▌    | 5.54G/9.95G [00:20<00:15, 289MB/s]#033[A\u001B[0m\n",
      "\u001B[34m#015Downloading (…)l-00001-of-00002.bin:  56%|█████▌    | 5.58G/9.95G [00:20<00:13, 315MB/s]#033[A\u001B[0m\n",
      "\u001B[34m#015Downloading (…)l-00001-of-00002.bin:  56%|█████▋    | 5.62G/9.95G [00:20<00:13, 318MB/s]#033[A\u001B[0m\n",
      "\u001B[34m#015Downloading (…)l-00001-of-00002.bin:  57%|█████▋    | 5.66G/9.95G [00:20<00:12, 336MB/s]#033[A\u001B[0m\n",
      "\u001B[34m#015Downloading (…)l-00001-of-00002.bin:  57%|█████▋    | 5.70G/9.95G [00:20<00:12, 337MB/s]#033[A\u001B[0m\n",
      "\u001B[34m#015Downloading (…)l-00001-of-00002.bin:  58%|█████▊    | 5.75G/9.95G [00:20<00:13, 311MB/s]#033[A\u001B[0m\n",
      "\u001B[34m#015Downloading (…)l-00001-of-00002.bin:  58%|█████▊    | 5.79G/9.95G [00:21<00:12, 321MB/s]#033[A\u001B[0m\n",
      "\u001B[34m#015Downloading (…)l-00001-of-00002.bin:  59%|█████▊    | 5.83G/9.95G [00:21<00:13, 315MB/s]#033[A\u001B[0m\n",
      "\u001B[34m#015Downloading (…)l-00001-of-00002.bin:  59%|█████▉    | 5.87G/9.95G [00:21<00:12, 322MB/s]#033[A\u001B[0m\n",
      "\u001B[34m#015Downloading (…)l-00001-of-00002.bin:  59%|█████▉    | 5.91G/9.95G [00:21<00:13, 300MB/s]#033[A\u001B[0m\n",
      "\u001B[34m#015Downloading (…)l-00001-of-00002.bin:  60%|█████▉    | 5.95G/9.95G [00:21<00:14, 279MB/s]#033[A\u001B[0m\n",
      "\u001B[34m#015Downloading (…)l-00001-of-00002.bin:  60%|██████    | 5.99G/9.95G [00:21<00:13, 293MB/s]#033[A\u001B[0m\n",
      "\u001B[34m#015Downloading (…)l-00001-of-00002.bin:  60%|██████    | 6.02G/9.95G [00:21<00:13, 294MB/s]#033[A\u001B[0m\n",
      "\u001B[34m#015Downloading (…)l-00001-of-00002.bin:  61%|██████    | 6.05G/9.95G [00:22<00:13, 286MB/s]#033[A\u001B[0m\n",
      "\u001B[34m#015Downloading (…)l-00001-of-00002.bin:  61%|██████    | 6.08G/9.95G [00:22<00:13, 280MB/s]#033[A\u001B[0m\n",
      "\u001B[34m#015Downloading (…)l-00001-of-00002.bin:  61%|██████▏   | 6.11G/9.95G [00:22<00:13, 288MB/s]#033[A\u001B[0m\n",
      "\u001B[34m#015Downloading (…)l-00001-of-00002.bin:  62%|██████▏   | 6.14G/9.95G [00:22<00:12, 295MB/s]#033[A\u001B[0m\n",
      "\u001B[34m#015Downloading (…)l-00001-of-00002.bin:  62%|██████▏   | 6.18G/9.95G [00:22<00:12, 299MB/s]#033[A\u001B[0m\n",
      "\u001B[34m#015Downloading (…)l-00001-of-00002.bin:  62%|██████▏   | 6.21G/9.95G [00:22<00:12, 297MB/s]#033[A\u001B[0m\n",
      "\u001B[34m#015Downloading (…)l-00001-of-00002.bin:  63%|██████▎   | 6.24G/9.95G [00:22<00:12, 292MB/s]#033[A\u001B[0m\n",
      "\u001B[34m#015Downloading (…)l-00001-of-00002.bin:  63%|██████▎   | 6.28G/9.95G [00:22<00:11, 313MB/s]#033[A\u001B[0m\n",
      "\u001B[34m#015Downloading (…)l-00001-of-00002.bin:  63%|██████▎   | 6.31G/9.95G [00:22<00:11, 305MB/s]#033[A\u001B[0m\n",
      "\u001B[34m#015Downloading (…)l-00001-of-00002.bin:  64%|██████▍   | 6.34G/9.95G [00:23<00:13, 273MB/s]#033[A\u001B[0m\n",
      "\u001B[34m#015Downloading (…)l-00001-of-00002.bin:  64%|██████▍   | 6.38G/9.95G [00:23<00:12, 283MB/s]#033[A\u001B[0m\n",
      "\u001B[34m#015Downloading (…)l-00001-of-00002.bin:  64%|██████▍   | 6.41G/9.95G [00:23<00:12, 279MB/s]#033[A\u001B[0m\n",
      "\u001B[34m#015Downloading (…)l-00001-of-00002.bin:  65%|██████▍   | 6.44G/9.95G [00:23<00:13, 268MB/s]#033[A\u001B[0m\n",
      "\u001B[34m#015Downloading (…)l-00001-of-00002.bin:  65%|██████▌   | 6.47G/9.95G [00:23<00:14, 245MB/s]#033[A\u001B[0m\n",
      "\u001B[34m#015Downloading (…)l-00001-of-00002.bin:  65%|██████▌   | 6.50G/9.95G [00:23<00:14, 245MB/s]#033[A\u001B[0m\n",
      "\u001B[34m#015Downloading (…)l-00001-of-00002.bin:  66%|██████▌   | 6.53G/9.95G [00:23<00:13, 261MB/s]#033[A\u001B[0m\n",
      "\u001B[34m#015Downloading (…)l-00001-of-00002.bin:  66%|██████▌   | 6.57G/9.95G [00:23<00:11, 284MB/s]#033[A\u001B[0m\n",
      "\u001B[34m#015Downloading (…)l-00001-of-00002.bin:  66%|██████▋   | 6.61G/9.95G [00:23<00:11, 280MB/s]#033[A\u001B[0m\n",
      "\u001B[34m#015Downloading (…)l-00001-of-00002.bin:  67%|██████▋   | 6.65G/9.95G [00:24<00:11, 292MB/s]#033[A\u001B[0m\n",
      "\u001B[34m#015Downloading (…)l-00001-of-00002.bin:  67%|██████▋   | 6.69G/9.95G [00:24<00:11, 280MB/s]#033[A\u001B[0m\n",
      "\u001B[34m#015Downloading (…)l-00001-of-00002.bin:  68%|██████▊   | 6.72G/9.95G [00:24<00:11, 283MB/s]#033[A\u001B[0m\n",
      "\u001B[34m#015Downloading (…)l-00001-of-00002.bin:  68%|██████▊   | 6.76G/9.95G [00:24<00:10, 296MB/s]#033[A\u001B[0m\n",
      "\u001B[34m#015Downloading (…)l-00001-of-00002.bin:  68%|██████▊   | 6.79G/9.95G [00:24<00:10, 290MB/s]#033[A\u001B[0m\n",
      "\u001B[34m#015Downloading (…)l-00001-of-00002.bin:  69%|██████▊   | 6.84G/9.95G [00:24<00:10, 306MB/s]#033[A\u001B[0m\n",
      "\u001B[34m#015Downloading (…)l-00001-of-00002.bin:  69%|██████▉   | 6.88G/9.95G [00:24<00:10, 299MB/s]#033[A\u001B[0m\n",
      "\u001B[34m#015Downloading (…)l-00001-of-00002.bin:  69%|██████▉   | 6.91G/9.95G [00:25<00:13, 224MB/s]#033[A\u001B[0m\n",
      "\u001B[34m#015Downloading (…)l-00001-of-00002.bin:  70%|██████▉   | 6.94G/9.95G [00:25<00:14, 202MB/s]#033[A\u001B[0m\n",
      "\u001B[34m#015Downloading (…)l-00001-of-00002.bin:  70%|███████   | 6.97G/9.95G [00:25<00:14, 207MB/s]#033[A\u001B[0m\n",
      "\u001B[34m#015Downloading (…)l-00001-of-00002.bin:  70%|███████   | 7.00G/9.95G [00:25<00:14, 209MB/s]#033[A\u001B[0m\n",
      "\u001B[34m#015Downloading (…)l-00001-of-00002.bin:  71%|███████   | 7.04G/9.95G [00:25<00:13, 217MB/s]#033[A\u001B[0m\n",
      "\u001B[34m#015Downloading (…)l-00001-of-00002.bin:  71%|███████   | 7.07G/9.95G [00:25<00:14, 197MB/s]#033[A\u001B[0m\n",
      "\u001B[34m#015Downloading (…)l-00001-of-00002.bin:  71%|███████   | 7.09G/9.95G [00:26<00:15, 186MB/s]#033[A\u001B[0m\n",
      "\u001B[34m#015Downloading (…)l-00001-of-00002.bin:  71%|███████▏  | 7.11G/9.95G [00:26<00:16, 174MB/s]#033[A\u001B[0m\n",
      "\u001B[34m#015Downloading (…)l-00001-of-00002.bin:  72%|███████▏  | 7.13G/9.95G [00:26<00:15, 182MB/s]#033[A\u001B[0m\n",
      "\u001B[34m#015Downloading (…)l-00001-of-00002.bin:  72%|███████▏  | 7.15G/9.95G [00:26<00:15, 178MB/s]#033[A\u001B[0m\n",
      "\u001B[34m#015Downloading (…)l-00001-of-00002.bin:  72%|███████▏  | 7.18G/9.95G [00:26<00:14, 185MB/s]#033[A\u001B[0m\n",
      "\u001B[34m#015Downloading (…)l-00001-of-00002.bin:  72%|███████▏  | 7.20G/9.95G [00:26<00:14, 187MB/s]#033[A\u001B[0m\n",
      "\u001B[34m#015Downloading (…)l-00001-of-00002.bin:  73%|███████▎  | 7.25G/9.95G [00:26<00:12, 223MB/s]#033[A\u001B[0m\n",
      "\u001B[34m#015Downloading (…)l-00001-of-00002.bin:  73%|███████▎  | 7.28G/9.95G [00:27<00:11, 226MB/s]#033[A\u001B[0m\n",
      "\u001B[34m#015Downloading (…)l-00001-of-00002.bin:  73%|███████▎  | 7.31G/9.95G [00:27<00:10, 241MB/s]#033[A\u001B[0m\n",
      "\u001B[34m#015Downloading (…)l-00001-of-00002.bin:  74%|███████▍  | 7.35G/9.95G [00:27<00:10, 252MB/s]#033[A\u001B[0m\n",
      "\u001B[34m#015Downloading (…)l-00001-of-00002.bin:  74%|███████▍  | 7.38G/9.95G [00:27<00:10, 255MB/s]#033[A\u001B[0m\n",
      "\u001B[34m#015Downloading (…)l-00001-of-00002.bin:  75%|███████▍  | 7.42G/9.95G [00:27<00:08, 282MB/s]#033[A\u001B[0m\n",
      "\u001B[34m#015Downloading (…)l-00001-of-00002.bin:  75%|███████▌  | 7.47G/9.95G [00:27<00:08, 295MB/s]#033[A\u001B[0m\n",
      "\u001B[34m#015Downloading (…)l-00001-of-00002.bin:  75%|███████▌  | 7.50G/9.95G [00:27<00:08, 298MB/s]#033[A\u001B[0m\n",
      "\u001B[34m#015Downloading (…)l-00001-of-00002.bin:  76%|███████▌  | 7.53G/9.95G [00:27<00:08, 292MB/s]#033[A\u001B[0m\n",
      "\u001B[34m#015Downloading (…)l-00001-of-00002.bin:  76%|███████▌  | 7.56G/9.95G [00:27<00:08, 276MB/s]#033[A\u001B[0m\n",
      "\u001B[34m#015Downloading (…)l-00001-of-00002.bin:  76%|███████▋  | 7.59G/9.95G [00:28<00:09, 250MB/s]#033[A\u001B[0m\n",
      "\u001B[34m#015Downloading (…)l-00001-of-00002.bin:  77%|███████▋  | 7.62G/9.95G [00:28<00:09, 245MB/s]#033[A\u001B[0m\n",
      "\u001B[34m#015Downloading (…)l-00001-of-00002.bin:  77%|███████▋  | 7.67G/9.95G [00:28<00:08, 269MB/s]#033[A\u001B[0m\n",
      "\u001B[34m#015Downloading (…)l-00001-of-00002.bin:  77%|███████▋  | 7.71G/9.95G [00:28<00:07, 293MB/s]#033[A\u001B[0m\n",
      "\u001B[34m#015Downloading (…)l-00001-of-00002.bin:  78%|███████▊  | 7.74G/9.95G [00:28<00:10, 205MB/s]#033[A\u001B[0m\n",
      "\u001B[34m#015Downloading (…)l-00001-of-00002.bin:  78%|███████▊  | 7.79G/9.95G [00:28<00:08, 254MB/s]#033[A\u001B[0m\n",
      "\u001B[34m#015Downloading (…)l-00001-of-00002.bin:  79%|███████▊  | 7.83G/9.95G [00:29<00:07, 279MB/s]#033[A\u001B[0m\n",
      "\u001B[34m#015Downloading (…)l-00001-of-00002.bin:  79%|███████▉  | 7.87G/9.95G [00:29<00:06, 309MB/s]#033[A\u001B[0m\n",
      "\u001B[34m#015Downloading (…)l-00001-of-00002.bin:  80%|███████▉  | 7.92G/9.95G [00:29<00:06, 312MB/s]#033[A\u001B[0m\n",
      "\u001B[34m#015Downloading (…)l-00001-of-00002.bin:  80%|███████▉  | 7.96G/9.95G [00:29<00:06, 309MB/s]#033[A\u001B[0m\n",
      "\u001B[34m#015Downloading (…)l-00001-of-00002.bin:  80%|████████  | 8.00G/9.95G [00:29<00:05, 330MB/s]#033[A\u001B[0m\n",
      "\u001B[34m#015Downloading (…)l-00001-of-00002.bin:  81%|████████  | 8.04G/9.95G [00:29<00:06, 310MB/s]#033[A\u001B[0m\n",
      "\u001B[34m#015Downloading (…)l-00001-of-00002.bin:  81%|████████  | 8.08G/9.95G [00:29<00:05, 327MB/s]#033[A\u001B[0m\n",
      "\u001B[34m#015Downloading (…)l-00001-of-00002.bin:  82%|████████▏ | 8.13G/9.95G [00:29<00:05, 309MB/s]#033[A\u001B[0m\n",
      "\u001B[34m#015Downloading (…)l-00001-of-00002.bin:  82%|████████▏ | 8.17G/9.95G [00:30<00:07, 251MB/s]#033[A\u001B[0m\n",
      "\u001B[34m#015Downloading (…)l-00001-of-00002.bin:  83%|████████▎ | 8.21G/9.95G [00:30<00:06, 268MB/s]#033[A\u001B[0m\n",
      "\u001B[34m#015Downloading (…)l-00001-of-00002.bin:  83%|████████▎ | 8.25G/9.95G [00:30<00:05, 289MB/s]#033[A\u001B[0m\n",
      "\u001B[34m#015Downloading (…)l-00001-of-00002.bin:  83%|████████▎ | 8.28G/9.95G [00:30<00:06, 262MB/s]#033[A\u001B[0m\n",
      "\u001B[34m#015Downloading (…)l-00001-of-00002.bin:  84%|████████▎ | 8.32G/9.95G [00:30<00:06, 263MB/s]#033[A\u001B[0m\n",
      "\u001B[34m#015Downloading (…)l-00001-of-00002.bin:  84%|████████▍ | 8.35G/9.95G [00:30<00:06, 261MB/s]#033[A\u001B[0m\n",
      "\u001B[34m#015Downloading (…)l-00001-of-00002.bin:  84%|████████▍ | 8.39G/9.95G [00:30<00:05, 276MB/s]#033[A\u001B[0m\n",
      "\u001B[34m#015Downloading (…)l-00001-of-00002.bin:  85%|████████▍ | 8.42G/9.95G [00:31<00:05, 281MB/s]#033[A\u001B[0m\n",
      "\u001B[34m#015Downloading (…)l-00001-of-00002.bin:  85%|████████▍ | 8.45G/9.95G [00:31<00:05, 289MB/s]#033[A\u001B[0m\n",
      "\u001B[34m#015Downloading (…)l-00001-of-00002.bin:  85%|████████▌ | 8.49G/9.95G [00:31<00:04, 302MB/s]#033[A\u001B[0m\n",
      "\u001B[34m#015Downloading (…)l-00001-of-00002.bin:  86%|████████▌ | 8.54G/9.95G [00:31<00:04, 320MB/s]#033[A\u001B[0m\n",
      "\u001B[34m#015Downloading (…)l-00001-of-00002.bin:  86%|████████▌ | 8.58G/9.95G [00:31<00:04, 304MB/s]#033[A\u001B[0m\n",
      "\u001B[34m#015Downloading (…)l-00001-of-00002.bin:  87%|████████▋ | 8.61G/9.95G [00:31<00:04, 300MB/s]#033[A\u001B[0m\n",
      "\u001B[34m#015Downloading (…)l-00001-of-00002.bin:  87%|████████▋ | 8.64G/9.95G [00:31<00:04, 272MB/s]#033[A\u001B[0m\n",
      "\u001B[34m#015Downloading (…)l-00001-of-00002.bin:  87%|████████▋ | 8.67G/9.95G [00:31<00:05, 239MB/s]#033[A\u001B[0m\n",
      "\u001B[34m#015Downloading (…)l-00001-of-00002.bin:  87%|████████▋ | 8.70G/9.95G [00:32<00:06, 207MB/s]#033[A\u001B[0m\n",
      "\u001B[34m#015Downloading (…)l-00001-of-00002.bin:  88%|████████▊ | 8.75G/9.95G [00:32<00:04, 248MB/s]#033[A\u001B[0m\n",
      "\u001B[34m#015Downloading (…)l-00001-of-00002.bin:  88%|████████▊ | 8.78G/9.95G [00:32<00:04, 250MB/s]#033[A\u001B[0m\n",
      "\u001B[34m#015Downloading (…)l-00001-of-00002.bin:  89%|████████▊ | 8.82G/9.95G [00:32<00:04, 283MB/s]#033[A\u001B[0m\n",
      "\u001B[34m#015Downloading (…)l-00001-of-00002.bin:  89%|████████▉ | 8.85G/9.95G [00:32<00:03, 286MB/s]#033[A\u001B[0m\n",
      "\u001B[34m#015Downloading (…)l-00001-of-00002.bin:  89%|████████▉ | 8.89G/9.95G [00:32<00:03, 315MB/s]#033[A\u001B[0m\n",
      "\u001B[34m#015Downloading (…)l-00001-of-00002.bin:  90%|████████▉ | 8.93G/9.95G [00:32<00:03, 334MB/s]#033[A\u001B[0m\n",
      "\u001B[34m#015Downloading (…)l-00001-of-00002.bin:  90%|█████████ | 8.98G/9.95G [00:32<00:02, 348MB/s]#033[A\u001B[0m\n",
      "\u001B[34m#015Downloading (…)l-00001-of-00002.bin:  91%|█████████ | 9.02G/9.95G [00:33<00:02, 352MB/s]#033[A\u001B[0m\n",
      "\u001B[34m#015Downloading (…)l-00001-of-00002.bin:  91%|█████████ | 9.06G/9.95G [00:33<00:02, 357MB/s]#033[A\u001B[0m\n",
      "\u001B[34m#015Downloading (…)l-00001-of-00002.bin:  91%|█████████▏| 9.10G/9.95G [00:33<00:02, 368MB/s]#033[A\u001B[0m\n",
      "\u001B[34m#015Downloading (…)l-00001-of-00002.bin:  92%|█████████▏| 9.15G/9.95G [00:33<00:02, 393MB/s]#033[A\u001B[0m\n",
      "\u001B[34m#015Downloading (…)l-00001-of-00002.bin:  92%|█████████▏| 9.20G/9.95G [00:33<00:02, 372MB/s]#033[A\u001B[0m\n",
      "\u001B[34m#015Downloading (…)l-00001-of-00002.bin:  93%|█████████▎| 9.24G/9.95G [00:33<00:02, 284MB/s]#033[A\u001B[0m\n",
      "\u001B[34m#015Downloading (…)l-00001-of-00002.bin:  93%|█████████▎| 9.28G/9.95G [00:33<00:02, 269MB/s]#033[A\u001B[0m\n",
      "\u001B[34m#015Downloading (…)l-00001-of-00002.bin:  94%|█████████▎| 9.31G/9.95G [00:34<00:02, 253MB/s]#033[A\u001B[0m\n",
      "\u001B[34m#015Downloading (…)l-00001-of-00002.bin:  94%|█████████▍| 9.35G/9.95G [00:34<00:02, 285MB/s]#033[A\u001B[0m\n",
      "\u001B[34m#015Downloading (…)l-00001-of-00002.bin:  94%|█████████▍| 9.40G/9.95G [00:34<00:01, 300MB/s]#033[A\u001B[0m\n",
      "\u001B[34m#015Downloading (…)l-00001-of-00002.bin:  95%|█████████▍| 9.44G/9.95G [00:34<00:01, 322MB/s]#033[A\u001B[0m\n",
      "\u001B[34m#015Downloading (…)l-00001-of-00002.bin:  95%|█████████▌| 9.48G/9.95G [00:34<00:01, 329MB/s]#033[A\u001B[0m\n",
      "\u001B[34m#015Downloading (…)l-00001-of-00002.bin:  96%|█████████▌| 9.53G/9.95G [00:34<00:01, 356MB/s]#033[A\u001B[0m\n",
      "\u001B[34m#015Downloading (…)l-00001-of-00002.bin:  96%|█████████▌| 9.57G/9.95G [00:34<00:01, 367MB/s]#033[A\u001B[0m\n",
      "\u001B[34m#015Downloading (…)l-00001-of-00002.bin:  97%|█████████▋| 9.62G/9.95G [00:34<00:00, 369MB/s]#033[A\u001B[0m\n",
      "\u001B[34m#015Downloading (…)l-00001-of-00002.bin:  97%|█████████▋| 9.66G/9.95G [00:35<00:00, 338MB/s]#033[A\u001B[0m\n",
      "\u001B[34m#015Downloading (…)l-00001-of-00002.bin:  97%|█████████▋| 9.70G/9.95G [00:35<00:00, 345MB/s]#033[A\u001B[0m\n",
      "\u001B[34m#015Downloading (…)l-00001-of-00002.bin:  98%|█████████▊| 9.74G/9.95G [00:35<00:00, 357MB/s]#033[A\u001B[0m\n",
      "\u001B[34m#015Downloading (…)l-00001-of-00002.bin:  98%|█████████▊| 9.78G/9.95G [00:35<00:00, 340MB/s]#033[A\u001B[0m\n",
      "\u001B[34m#015Downloading (…)l-00001-of-00002.bin:  99%|█████████▊| 9.83G/9.95G [00:35<00:00, 338MB/s]#033[A\u001B[0m\n",
      "\u001B[34m#015Downloading (…)l-00001-of-00002.bin:  99%|█████████▉| 9.87G/9.95G [00:35<00:00, 321MB/s]#033[A\u001B[0m\n",
      "\u001B[34m#015Downloading (…)l-00001-of-00002.bin: 100%|█████████▉| 9.91G/9.95G [00:35<00:00, 271MB/s]#033[A\u001B[0m\n",
      "\u001B[34m#015Downloading (…)l-00001-of-00002.bin: 100%|█████████▉| 9.94G/9.95G [00:36<00:00, 274MB/s]#033[A#015Downloading (…)l-00001-of-00002.bin: 100%|██████████| 9.95G/9.95G [00:36<00:00, 276MB/s]\u001B[0m\n",
      "\u001B[34m#015Downloading shards:  50%|█████     | 1/2 [00:36<00:36, 36.17s/it]\u001B[0m\n",
      "\u001B[34m#015Downloading (…)l-00002-of-00002.bin:   0%|          | 0.00/4.48G [00:00<?, ?B/s]#033[A\u001B[0m\n",
      "\u001B[34m#015Downloading (…)l-00002-of-00002.bin:   1%|          | 31.5M/4.48G [00:00<00:15, 289MB/s]#033[A\u001B[0m\n",
      "\u001B[34m#015Downloading (…)l-00002-of-00002.bin:   1%|▏         | 62.9M/4.48G [00:00<00:15, 292MB/s]#033[A\u001B[0m\n",
      "\u001B[34m#015Downloading (…)l-00002-of-00002.bin:   2%|▏         | 105M/4.48G [00:00<00:13, 321MB/s] #033[A\u001B[0m\n",
      "\u001B[34m#015Downloading (…)l-00002-of-00002.bin:   3%|▎         | 147M/4.48G [00:00<00:14, 291MB/s]#033[A\u001B[0m\n",
      "\u001B[34m#015Downloading (…)l-00002-of-00002.bin:   4%|▍         | 178M/4.48G [00:00<00:15, 277MB/s]#033[A\u001B[0m\n",
      "\u001B[34m#015Downloading (…)l-00002-of-00002.bin:   5%|▍         | 210M/4.48G [00:00<00:15, 285MB/s]#033[A\u001B[0m\n",
      "\u001B[34m#015Downloading (…)l-00002-of-00002.bin:   5%|▌         | 241M/4.48G [00:00<00:15, 278MB/s]#033[A\u001B[0m\n",
      "\u001B[34m#015Downloading (…)l-00002-of-00002.bin:   6%|▌         | 273M/4.48G [00:00<00:15, 264MB/s]#033[A\u001B[0m\n",
      "\u001B[34m#015Downloading (…)l-00002-of-00002.bin:   7%|▋         | 304M/4.48G [00:01<00:15, 269MB/s]#033[A\u001B[0m\n",
      "\u001B[34m#015Downloading (…)l-00002-of-00002.bin:   8%|▊         | 346M/4.48G [00:01<00:14, 280MB/s]#033[A\u001B[0m\n",
      "\u001B[34m#015Downloading (…)l-00002-of-00002.bin:   9%|▊         | 388M/4.48G [00:01<00:13, 293MB/s]#033[A\u001B[0m\n",
      "\u001B[34m#015Downloading (…)l-00002-of-00002.bin:  10%|▉         | 430M/4.48G [00:01<00:13, 306MB/s]#033[A\u001B[0m\n",
      "\u001B[34m#015Downloading (…)l-00002-of-00002.bin:  10%|█         | 461M/4.48G [00:01<00:14, 273MB/s]#033[A\u001B[0m\n",
      "\u001B[34m#015Downloading (…)l-00002-of-00002.bin:  11%|█         | 493M/4.48G [00:01<00:14, 274MB/s]#033[A\u001B[0m\n",
      "\u001B[34m#015Downloading (…)l-00002-of-00002.bin:  12%|█▏        | 535M/4.48G [00:01<00:13, 293MB/s]#033[A\u001B[0m\n",
      "\u001B[34m#015Downloading (…)l-00002-of-00002.bin:  13%|█▎        | 566M/4.48G [00:01<00:13, 293MB/s]#033[A\u001B[0m\n",
      "\u001B[34m#015Downloading (…)l-00002-of-00002.bin:  14%|█▎        | 608M/4.48G [00:02<00:12, 314MB/s]#033[A\u001B[0m\n",
      "\u001B[34m#015Downloading (…)l-00002-of-00002.bin:  15%|█▍        | 650M/4.48G [00:02<00:11, 326MB/s]#033[A\u001B[0m\n",
      "\u001B[34m#015Downloading (…)l-00002-of-00002.bin:  15%|█▌        | 692M/4.48G [00:02<00:11, 330MB/s]#033[A\u001B[0m\n",
      "\u001B[34m#015Downloading (…)l-00002-of-00002.bin:  16%|█▋        | 734M/4.48G [00:02<00:11, 318MB/s]#033[A\u001B[0m\n",
      "\u001B[34m#015Downloading (…)l-00002-of-00002.bin:  17%|█▋        | 776M/4.48G [00:02<00:12, 308MB/s]#033[A\u001B[0m\n",
      "\u001B[34m#015Downloading (…)l-00002-of-00002.bin:  18%|█▊        | 818M/4.48G [00:02<00:11, 315MB/s]#033[A\u001B[0m\n",
      "\u001B[34m#015Downloading (…)l-00002-of-00002.bin:  19%|█▉        | 860M/4.48G [00:02<00:11, 329MB/s]#033[A\u001B[0m\n",
      "\u001B[34m#015Downloading (…)l-00002-of-00002.bin:  20%|██        | 902M/4.48G [00:02<00:10, 334MB/s]#033[A\u001B[0m\n",
      "\u001B[34m#015Downloading (…)l-00002-of-00002.bin:  21%|██        | 944M/4.48G [00:03<00:10, 323MB/s]#033[A\u001B[0m\n",
      "\u001B[34m#015Downloading (…)l-00002-of-00002.bin:  22%|██▏       | 986M/4.48G [00:03<00:11, 312MB/s]#033[A\u001B[0m\n",
      "\u001B[34m#015Downloading (…)l-00002-of-00002.bin:  23%|██▎       | 1.02G/4.48G [00:03<00:11, 294MB/s]#033[A\u001B[0m\n",
      "\u001B[34m#015Downloading (…)l-00002-of-00002.bin:  24%|██▎       | 1.06G/4.48G [00:03<00:11, 310MB/s]#033[A\u001B[0m\n",
      "\u001B[34m#015Downloading (…)l-00002-of-00002.bin:  24%|██▍       | 1.09G/4.48G [00:03<00:11, 307MB/s]#033[A\u001B[0m\n",
      "\u001B[34m#015Downloading (…)l-00002-of-00002.bin:  25%|██▌       | 1.13G/4.48G [00:03<00:10, 326MB/s]#033[A\u001B[0m\n",
      "\u001B[34m#015Downloading (…)l-00002-of-00002.bin:  26%|██▌       | 1.17G/4.48G [00:03<00:10, 325MB/s]#033[A\u001B[0m\n",
      "\u001B[34m#015Downloading (…)l-00002-of-00002.bin:  27%|██▋       | 1.22G/4.48G [00:03<00:10, 321MB/s]#033[A\u001B[0m\n",
      "\u001B[34m#015Downloading (…)l-00002-of-00002.bin:  28%|██▊       | 1.26G/4.48G [00:04<00:09, 331MB/s]#033[A\u001B[0m\n",
      "\u001B[34m#015Downloading (…)l-00002-of-00002.bin:  29%|██▉       | 1.30G/4.48G [00:04<00:09, 324MB/s]#033[A\u001B[0m\n",
      "\u001B[34m#015Downloading (…)l-00002-of-00002.bin:  30%|██▉       | 1.34G/4.48G [00:04<00:09, 314MB/s]#033[A\u001B[0m\n",
      "\u001B[34m#015Downloading (…)l-00002-of-00002.bin:  31%|███       | 1.38G/4.48G [00:04<00:09, 319MB/s]#033[A\u001B[0m\n",
      "\u001B[34m#015Downloading (…)l-00002-of-00002.bin:  32%|███▏      | 1.43G/4.48G [00:04<00:09, 322MB/s]#033[A\u001B[0m\n",
      "\u001B[34m#015Downloading (…)l-00002-of-00002.bin:  33%|███▎      | 1.47G/4.48G [00:04<00:09, 325MB/s]#033[A\u001B[0m\n",
      "\u001B[34m#015Downloading (…)l-00002-of-00002.bin:  34%|███▎      | 1.51G/4.48G [00:04<00:09, 324MB/s]#033[A\u001B[0m\n",
      "\u001B[34m#015Downloading (…)l-00002-of-00002.bin:  35%|███▍      | 1.55G/4.48G [00:05<00:09, 323MB/s]#033[A\u001B[0m\n",
      "\u001B[34m#015Downloading (…)l-00002-of-00002.bin:  36%|███▌      | 1.59G/4.48G [00:05<00:08, 331MB/s]#033[A\u001B[0m\n",
      "\u001B[34m#015Downloading (…)l-00002-of-00002.bin:  36%|███▋      | 1.64G/4.48G [00:05<00:08, 340MB/s]#033[A\u001B[0m\n",
      "\u001B[34m#015Downloading (…)l-00002-of-00002.bin:  37%|███▋      | 1.68G/4.48G [00:05<00:08, 330MB/s]#033[A\u001B[0m\n",
      "\u001B[34m#015Downloading (…)l-00002-of-00002.bin:  38%|███▊      | 1.72G/4.48G [00:05<00:08, 334MB/s]#033[A\u001B[0m\n",
      "\u001B[34m#015Downloading (…)l-00002-of-00002.bin:  39%|███▉      | 1.76G/4.48G [00:05<00:08, 316MB/s]#033[A\u001B[0m\n",
      "\u001B[34m#015Downloading (…)l-00002-of-00002.bin:  40%|████      | 1.80G/4.48G [00:05<00:11, 235MB/s]#033[A\u001B[0m\n",
      "\u001B[34m#015Downloading (…)l-00002-of-00002.bin:  41%|████      | 1.84G/4.48G [00:06<00:10, 248MB/s]#033[A\u001B[0m\n",
      "\u001B[34m#015Downloading (…)l-00002-of-00002.bin:  42%|████▏     | 1.89G/4.48G [00:06<00:08, 294MB/s]#033[A\u001B[0m\n",
      "\u001B[34m#015Downloading (…)l-00002-of-00002.bin:  43%|████▎     | 1.93G/4.48G [00:06<00:08, 311MB/s]#033[A\u001B[0m\n",
      "\u001B[34m#015Downloading (…)l-00002-of-00002.bin:  44%|████▍     | 1.97G/4.48G [00:06<00:07, 322MB/s]#033[A\u001B[0m\n",
      "\u001B[34m#015Downloading (…)l-00002-of-00002.bin:  45%|████▍     | 2.01G/4.48G [00:06<00:07, 326MB/s]#033[A\u001B[0m\n",
      "\u001B[34m#015Downloading (…)l-00002-of-00002.bin:  46%|████▌     | 2.06G/4.48G [00:06<00:08, 300MB/s]#033[A\u001B[0m\n",
      "\u001B[34m#015Downloading (…)l-00002-of-00002.bin:  47%|████▋     | 2.09G/4.48G [00:06<00:08, 269MB/s]#033[A\u001B[0m\n",
      "\u001B[34m#015Downloading (…)l-00002-of-00002.bin:  47%|████▋     | 2.12G/4.48G [00:07<00:09, 252MB/s]#033[A\u001B[0m\n",
      "\u001B[34m#015Downloading (…)l-00002-of-00002.bin:  48%|████▊     | 2.15G/4.48G [00:07<00:09, 249MB/s]#033[A\u001B[0m\n",
      "\u001B[34m#015Downloading (…)l-00002-of-00002.bin:  49%|████▉     | 2.19G/4.48G [00:07<00:08, 278MB/s]#033[A\u001B[0m\n",
      "\u001B[34m#015Downloading (…)l-00002-of-00002.bin:  50%|████▉     | 2.23G/4.48G [00:07<00:07, 309MB/s]#033[A\u001B[0m\n",
      "\u001B[34m#015Downloading (…)l-00002-of-00002.bin:  51%|█████     | 2.28G/4.48G [00:07<00:06, 334MB/s]#033[A\u001B[0m\n",
      "\u001B[34m#015Downloading (…)l-00002-of-00002.bin:  52%|█████▏    | 2.33G/4.48G [00:07<00:05, 368MB/s]#033[A\u001B[0m\n",
      "\u001B[34m#015Downloading (…)l-00002-of-00002.bin:  53%|█████▎    | 2.38G/4.48G [00:07<00:05, 386MB/s]#033[A\u001B[0m\n",
      "\u001B[34m#015Downloading (…)l-00002-of-00002.bin:  54%|█████▍    | 2.42G/4.48G [00:07<00:05, 388MB/s]#033[A\u001B[0m\n",
      "\u001B[34m#015Downloading (…)l-00002-of-00002.bin:  55%|█████▍    | 2.46G/4.48G [00:07<00:06, 334MB/s]#033[A\u001B[0m\n",
      "\u001B[34m#015Downloading (…)l-00002-of-00002.bin:  56%|█████▌    | 2.51G/4.48G [00:08<00:05, 342MB/s]#033[A\u001B[0m\n",
      "\u001B[34m#015Downloading (…)l-00002-of-00002.bin:  57%|█████▋    | 2.55G/4.48G [00:08<00:05, 355MB/s]#033[A\u001B[0m\n",
      "\u001B[34m#015Downloading (…)l-00002-of-00002.bin:  58%|█████▊    | 2.59G/4.48G [00:08<00:05, 369MB/s]#033[A\u001B[0m\n",
      "\u001B[34m#015Downloading (…)l-00002-of-00002.bin:  59%|█████▊    | 2.63G/4.48G [00:08<00:04, 377MB/s]#033[A\u001B[0m\n",
      "\u001B[34m#015Downloading (…)l-00002-of-00002.bin:  60%|█████▉    | 2.67G/4.48G [00:08<00:04, 373MB/s]#033[A\u001B[0m\n",
      "\u001B[34m#015Downloading (…)l-00002-of-00002.bin:  61%|██████    | 2.72G/4.48G [00:08<00:04, 369MB/s]#033[A\u001B[0m\n",
      "\u001B[34m#015Downloading (…)l-00002-of-00002.bin:  62%|██████▏   | 2.76G/4.48G [00:08<00:05, 343MB/s]#033[A\u001B[0m\n",
      "\u001B[34m#015Downloading (…)l-00002-of-00002.bin:  62%|██████▏   | 2.80G/4.48G [00:08<00:04, 341MB/s]#033[A\u001B[0m\n",
      "\u001B[34m#015Downloading (…)l-00002-of-00002.bin:  63%|██████▎   | 2.84G/4.48G [00:09<00:04, 349MB/s]#033[A\u001B[0m\n",
      "\u001B[34m#015Downloading (…)l-00002-of-00002.bin:  64%|██████▍   | 2.88G/4.48G [00:09<00:04, 331MB/s]#033[A\u001B[0m\n",
      "\u001B[34m#015Downloading (…)l-00002-of-00002.bin:  65%|██████▌   | 2.93G/4.48G [00:09<00:04, 315MB/s]#033[A\u001B[0m\n",
      "\u001B[34m#015Downloading (…)l-00002-of-00002.bin:  66%|██████▌   | 2.97G/4.48G [00:09<00:04, 325MB/s]#033[A\u001B[0m\n",
      "\u001B[34m#015Downloading (…)l-00002-of-00002.bin:  67%|██████▋   | 3.01G/4.48G [00:09<00:04, 321MB/s]#033[A\u001B[0m\n",
      "\u001B[34m#015Downloading (…)l-00002-of-00002.bin:  68%|██████▊   | 3.05G/4.48G [00:09<00:04, 317MB/s]#033[A\u001B[0m\n",
      "\u001B[34m#015Downloading (…)l-00002-of-00002.bin:  69%|██████▉   | 3.10G/4.48G [00:09<00:03, 352MB/s]#033[A\u001B[0m\n",
      "\u001B[34m#015Downloading (…)l-00002-of-00002.bin:  70%|███████   | 3.15G/4.48G [00:09<00:03, 352MB/s]#033[A\u001B[0m\n",
      "\u001B[34m#015Downloading (…)l-00002-of-00002.bin:  71%|███████▏  | 3.20G/4.48G [00:10<00:03, 377MB/s]#033[A\u001B[0m\n",
      "\u001B[34m#015Downloading (…)l-00002-of-00002.bin:  72%|███████▏  | 3.24G/4.48G [00:10<00:03, 367MB/s]#033[A\u001B[0m\n",
      "\u001B[34m#015Downloading (…)l-00002-of-00002.bin:  73%|███████▎  | 3.29G/4.48G [00:10<00:03, 387MB/s]#033[A\u001B[0m\n",
      "\u001B[34m#015Downloading (…)l-00002-of-00002.bin:  74%|███████▍  | 3.33G/4.48G [00:10<00:03, 360MB/s]#033[A\u001B[0m\n",
      "\u001B[34m#015Downloading (…)l-00002-of-00002.bin:  75%|███████▌  | 3.38G/4.48G [00:10<00:03, 348MB/s]#033[A\u001B[0m\n",
      "\u001B[34m#015Downloading (…)l-00002-of-00002.bin:  76%|███████▌  | 3.42G/4.48G [00:10<00:03, 338MB/s]#033[A\u001B[0m\n",
      "\u001B[34m#015Downloading (…)l-00002-of-00002.bin:  77%|███████▋  | 3.46G/4.48G [00:10<00:03, 329MB/s]#033[A\u001B[0m\n",
      "\u001B[34m#015Downloading (…)l-00002-of-00002.bin:  78%|███████▊  | 3.51G/4.48G [00:10<00:02, 347MB/s]#033[A\u001B[0m\n",
      "\u001B[34m#015Downloading (…)l-00002-of-00002.bin:  79%|███████▉  | 3.55G/4.48G [00:11<00:02, 354MB/s]#033[A\u001B[0m\n",
      "\u001B[34m#015Downloading (…)l-00002-of-00002.bin:  80%|████████  | 3.60G/4.48G [00:11<00:02, 332MB/s]#033[A\u001B[0m\n",
      "\u001B[34m#015Downloading (…)l-00002-of-00002.bin:  81%|████████  | 3.64G/4.48G [00:11<00:02, 294MB/s]#033[A\u001B[0m\n",
      "\u001B[34m#015Downloading (…)l-00002-of-00002.bin:  82%|████████▏ | 3.67G/4.48G [00:11<00:02, 297MB/s]#033[A\u001B[0m\n",
      "\u001B[34m#015Downloading (…)l-00002-of-00002.bin:  83%|████████▎ | 3.72G/4.48G [00:11<00:02, 340MB/s]#033[A\u001B[0m\n",
      "\u001B[34m#015Downloading (…)l-00002-of-00002.bin:  84%|████████▍ | 3.76G/4.48G [00:11<00:02, 356MB/s]#033[A\u001B[0m\n",
      "\u001B[34m#015Downloading (…)l-00002-of-00002.bin:  85%|████████▍ | 3.81G/4.48G [00:11<00:01, 369MB/s]#033[A\u001B[0m\n",
      "\u001B[34m#015Downloading (…)l-00002-of-00002.bin:  86%|████████▌ | 3.85G/4.48G [00:11<00:01, 382MB/s]#033[A\u001B[0m\n",
      "\u001B[34m#015Downloading (…)l-00002-of-00002.bin:  87%|████████▋ | 3.89G/4.48G [00:12<00:01, 371MB/s]#033[A\u001B[0m\n",
      "\u001B[34m#015Downloading (…)l-00002-of-00002.bin:  88%|████████▊ | 3.93G/4.48G [00:12<00:01, 343MB/s]#033[A\u001B[0m\n",
      "\u001B[34m#015Downloading (…)l-00002-of-00002.bin:  89%|████████▊ | 3.97G/4.48G [00:12<00:01, 334MB/s]#033[A\u001B[0m\n",
      "\u001B[34m#015Downloading (…)l-00002-of-00002.bin:  90%|████████▉ | 4.02G/4.48G [00:12<00:01, 339MB/s]#033[A\u001B[0m\n",
      "\u001B[34m#015Downloading (…)l-00002-of-00002.bin:  91%|█████████ | 4.06G/4.48G [00:12<00:01, 319MB/s]#033[A\u001B[0m\n",
      "\u001B[34m#015Downloading (…)l-00002-of-00002.bin:  91%|█████████▏| 4.10G/4.48G [00:12<00:01, 333MB/s]#033[A\u001B[0m\n",
      "\u001B[34m#015Downloading (…)l-00002-of-00002.bin:  92%|█████████▏| 4.14G/4.48G [00:12<00:00, 350MB/s]#033[A\u001B[0m\n",
      "\u001B[34m#015Downloading (…)l-00002-of-00002.bin:  93%|█████████▎| 4.18G/4.48G [00:12<00:00, 357MB/s]#033[A\u001B[0m\n",
      "\u001B[34m#015Downloading (…)l-00002-of-00002.bin:  94%|█████████▍| 4.24G/4.48G [00:13<00:00, 386MB/s]#033[A\u001B[0m\n",
      "\u001B[34m#015Downloading (…)l-00002-of-00002.bin:  95%|█████████▌| 4.28G/4.48G [00:13<00:00, 350MB/s]#033[A\u001B[0m\n",
      "\u001B[34m#015Downloading (…)l-00002-of-00002.bin:  96%|█████████▋| 4.32G/4.48G [00:13<00:00, 358MB/s]#033[A\u001B[0m\n",
      "\u001B[34m#015Downloading (…)l-00002-of-00002.bin:  97%|█████████▋| 4.36G/4.48G [00:13<00:00, 331MB/s]#033[A\u001B[0m\n",
      "\u001B[34m#015Downloading (…)l-00002-of-00002.bin:  98%|█████████▊| 4.40G/4.48G [00:13<00:00, 319MB/s]#033[A\u001B[0m\n",
      "\u001B[34m#015Downloading (…)l-00002-of-00002.bin:  99%|█████████▉| 4.45G/4.48G [00:13<00:00, 262MB/s]#033[A\u001B[0m\n",
      "\u001B[34m#015Downloading (…)l-00002-of-00002.bin: 100%|█████████▉| 4.48G/4.48G [00:14<00:00, 238MB/s]#033[A#015Downloading (…)l-00002-of-00002.bin: 100%|██████████| 4.48G/4.48G [00:14<00:00, 319MB/s]\u001B[0m\n",
      "\u001B[34m#015Downloading shards: 100%|██████████| 2/2 [00:50<00:00, 23.29s/it]#015Downloading shards: 100%|██████████| 2/2 [00:50<00:00, 25.22s/it]\u001B[0m\n",
      "\u001B[34m#015Loading checkpoint shards:   0%|          | 0/2 [00:00<?, ?it/s]#015Loading checkpoint shards:  50%|█████     | 1/2 [00:05<00:05,  5.37s/it]#015Loading checkpoint shards: 100%|██████████| 2/2 [00:07<00:00,  3.67s/it]#015Loading checkpoint shards: 100%|██████████| 2/2 [00:07<00:00,  3.92s/it]\u001B[0m\n",
      "\u001B[34m#015Downloading (…)neration_config.json:   0%|          | 0.00/111 [00:00<?, ?B/s]#015Downloading (…)neration_config.json: 100%|██████████| 111/111 [00:00<00:00, 1.41MB/s]\u001B[0m\n",
      "\u001B[34mFound 4 modules to quantize: ['dense_h_to_4h', 'query_key_value', 'dense_4h_to_h', 'dense']\u001B[0m\n",
      "\u001B[34mtrainable params: 16318464 || all params: 3625063296 || trainable%: 0.4501566639679441\u001B[0m\n",
      "\u001B[34m/opt/conda/lib/python3.10/site-packages/transformers/optimization.py:411: FutureWarning: This implementation of AdamW is deprecated and will be removed in a future version. Use the PyTorch implementation torch.optim.AdamW instead, or set `no_deprecation_warning=True` to disable this warning\n",
      "  warnings.warn(\u001B[0m\n",
      "\u001B[34m#015  0%|          | 0/638 [00:00<?, ?it/s]You're using a PreTrainedTokenizerFast tokenizer. Please note that with a fast tokenizer, using the `__call__` method is faster than using a method to encode the text followed by a call to the `pad` method to get a padded encoding.\u001B[0m\n",
      "\u001B[34m{'loss': 2.3557, 'learning_rate': 0.0001993730407523511, 'epoch': 0.0}\u001B[0m\n",
      "\u001B[34m{'loss': 2.2518, 'learning_rate': 0.0001987460815047022, 'epoch': 0.01}\u001B[0m\n",
      "\u001B[34m{'loss': 2.156, 'learning_rate': 0.0001981191222570533, 'epoch': 0.01}\u001B[0m\n",
      "\u001B[34m{'loss': 1.955, 'learning_rate': 0.0001974921630094044, 'epoch': 0.01}\u001B[0m\n",
      "\u001B[34m{'loss': 2.1196, 'learning_rate': 0.0001968652037617555, 'epoch': 0.02}\u001B[0m\n",
      "\u001B[34m{'loss': 2.0074, 'learning_rate': 0.0001962382445141066, 'epoch': 0.02}\u001B[0m\n",
      "\u001B[34m{'loss': 1.9578, 'learning_rate': 0.0001956112852664577, 'epoch': 0.02}\u001B[0m\n",
      "\u001B[34m{'loss': 1.9689, 'learning_rate': 0.00019498432601880878, 'epoch': 0.03}\u001B[0m\n",
      "\u001B[34m{'loss': 1.9328, 'learning_rate': 0.00019435736677115987, 'epoch': 0.03}\u001B[0m\n",
      "\u001B[34m{'loss': 2.043, 'learning_rate': 0.00019373040752351098, 'epoch': 0.03}\u001B[0m\n",
      "\u001B[34m{'loss': 1.9522, 'learning_rate': 0.0001931034482758621, 'epoch': 0.03}\u001B[0m\n",
      "\u001B[34m{'loss': 1.7653, 'learning_rate': 0.00019247648902821318, 'epoch': 0.04}\u001B[0m\n",
      "\u001B[34m{'loss': 1.8817, 'learning_rate': 0.00019184952978056427, 'epoch': 0.04}\u001B[0m\n",
      "\u001B[34m{'loss': 2.1125, 'learning_rate': 0.00019122257053291538, 'epoch': 0.04}\u001B[0m\n",
      "\u001B[34m{'loss': 1.8427, 'learning_rate': 0.00019059561128526647, 'epoch': 0.05}\u001B[0m\n",
      "\u001B[34m{'loss': 2.0507, 'learning_rate': 0.00018996865203761755, 'epoch': 0.05}\u001B[0m\n",
      "\u001B[34m{'loss': 2.0612, 'learning_rate': 0.00018934169278996866, 'epoch': 0.05}\u001B[0m\n",
      "\u001B[34m{'loss': 2.001, 'learning_rate': 0.00018871473354231978, 'epoch': 0.06}\u001B[0m\n",
      "\u001B[34m{'loss': 1.834, 'learning_rate': 0.00018808777429467086, 'epoch': 0.06}\u001B[0m\n",
      "\u001B[34m{'loss': 1.7952, 'learning_rate': 0.00018746081504702195, 'epoch': 0.06}\u001B[0m\n",
      "\u001B[34m{'loss': 1.6549, 'learning_rate': 0.00018683385579937304, 'epoch': 0.07}\u001B[0m\n",
      "\u001B[34m{'loss': 2.0171, 'learning_rate': 0.00018620689655172415, 'epoch': 0.07}\u001B[0m\n",
      "\u001B[34m{'loss': 1.8888, 'learning_rate': 0.00018557993730407524, 'epoch': 0.07}\u001B[0m\n",
      "\u001B[34m{'loss': 1.976, 'learning_rate': 0.00018495297805642635, 'epoch': 0.08}\u001B[0m\n",
      "\u001B[34m{'loss': 2.0421, 'learning_rate': 0.00018432601880877744, 'epoch': 0.08}\u001B[0m\n",
      "\u001B[34m{'loss': 1.9313, 'learning_rate': 0.00018369905956112855, 'epoch': 0.08}\u001B[0m\n",
      "\u001B[34m{'loss': 2.0527, 'learning_rate': 0.00018307210031347963, 'epoch': 0.08}\u001B[0m\n",
      "\u001B[34m{'loss': 1.8306, 'learning_rate': 0.00018244514106583072, 'epoch': 0.09}\u001B[0m\n",
      "\u001B[34m{'loss': 1.8404, 'learning_rate': 0.00018181818181818183, 'epoch': 0.09}\u001B[0m\n",
      "\u001B[34m{'loss': 1.9879, 'learning_rate': 0.00018119122257053292, 'epoch': 0.09}\u001B[0m\n",
      "\u001B[34m{'loss': 1.9131, 'learning_rate': 0.00018056426332288403, 'epoch': 0.1}\u001B[0m\n",
      "\u001B[34m{'loss': 2.1887, 'learning_rate': 0.00017993730407523512, 'epoch': 0.1}\u001B[0m\n",
      "\u001B[34m{'loss': 1.8014, 'learning_rate': 0.0001793103448275862, 'epoch': 0.1}\u001B[0m\n",
      "\u001B[34m{'loss': 1.8842, 'learning_rate': 0.00017868338557993732, 'epoch': 0.11}\u001B[0m\n",
      "\u001B[34m{'loss': 1.8037, 'learning_rate': 0.0001780564263322884, 'epoch': 0.11}\u001B[0m\n",
      "\u001B[34m{'loss': 2.0311, 'learning_rate': 0.0001774294670846395, 'epoch': 0.11}\u001B[0m\n",
      "\u001B[34m{'loss': 1.9262, 'learning_rate': 0.0001768025078369906, 'epoch': 0.12}\u001B[0m\n",
      "\u001B[34m{'loss': 1.8635, 'learning_rate': 0.00017617554858934172, 'epoch': 0.12}\u001B[0m\n",
      "\u001B[34m{'loss': 1.8691, 'learning_rate': 0.0001755485893416928, 'epoch': 0.12}\u001B[0m\n",
      "\u001B[34m{'loss': 2.1018, 'learning_rate': 0.0001749216300940439, 'epoch': 0.13}\u001B[0m\n",
      "\u001B[34m{'loss': 2.1413, 'learning_rate': 0.000174294670846395, 'epoch': 0.13}\u001B[0m\n",
      "\u001B[34m{'loss': 1.9452, 'learning_rate': 0.0001736677115987461, 'epoch': 0.13}\u001B[0m\n",
      "\u001B[34m{'loss': 1.9185, 'learning_rate': 0.00017304075235109718, 'epoch': 0.13}\u001B[0m\n",
      "\u001B[34m{'loss': 1.907, 'learning_rate': 0.00017241379310344826, 'epoch': 0.14}\u001B[0m\n",
      "\u001B[34m{'loss': 1.9019, 'learning_rate': 0.0001717868338557994, 'epoch': 0.14}\u001B[0m\n",
      "\u001B[34m{'loss': 1.8642, 'learning_rate': 0.0001711598746081505, 'epoch': 0.14}\u001B[0m\n",
      "\u001B[34m{'loss': 1.9668, 'learning_rate': 0.00017053291536050158, 'epoch': 0.15}\u001B[0m\n",
      "\u001B[34m{'loss': 1.9983, 'learning_rate': 0.00016990595611285266, 'epoch': 0.15}\u001B[0m\n",
      "\u001B[34m{'loss': 2.1779, 'learning_rate': 0.00016927899686520377, 'epoch': 0.15}\u001B[0m\n",
      "\u001B[34m{'loss': 1.7121, 'learning_rate': 0.00016865203761755486, 'epoch': 0.16}\u001B[0m\n",
      "\u001B[34m{'loss': 1.9295, 'learning_rate': 0.00016802507836990597, 'epoch': 0.16}\u001B[0m\n",
      "\u001B[34m{'loss': 1.9026, 'learning_rate': 0.00016739811912225706, 'epoch': 0.16}\u001B[0m\n",
      "\u001B[34m{'loss': 1.6978, 'learning_rate': 0.00016677115987460817, 'epoch': 0.17}\u001B[0m\n",
      "\u001B[34m{'loss': 1.8912, 'learning_rate': 0.00016614420062695926, 'epoch': 0.17}\u001B[0m\n",
      "\u001B[34m{'loss': 1.877, 'learning_rate': 0.00016551724137931035, 'epoch': 0.17}\u001B[0m\n",
      "\u001B[34m{'loss': 1.798, 'learning_rate': 0.00016489028213166143, 'epoch': 0.18}\u001B[0m\n",
      "\u001B[34m{'loss': 2.0892, 'learning_rate': 0.00016426332288401255, 'epoch': 0.18}\u001B[0m\n",
      "\u001B[34m{'loss': 2.0952, 'learning_rate': 0.00016363636363636366, 'epoch': 0.18}\u001B[0m\n",
      "\u001B[34m{'loss': 1.9364, 'learning_rate': 0.00016300940438871475, 'epoch': 0.18}\u001B[0m\n",
      "\u001B[34m{'loss': 1.8925, 'learning_rate': 0.00016238244514106583, 'epoch': 0.19}\u001B[0m\n",
      "\u001B[34m{'loss': 2.0269, 'learning_rate': 0.00016175548589341694, 'epoch': 0.19}\u001B[0m\n",
      "\u001B[34m{'loss': 1.9811, 'learning_rate': 0.00016112852664576803, 'epoch': 0.19}\u001B[0m\n",
      "\u001B[34m{'loss': 1.9507, 'learning_rate': 0.00016050156739811912, 'epoch': 0.2}\u001B[0m\n",
      "\u001B[34m{'loss': 1.8352, 'learning_rate': 0.00015987460815047023, 'epoch': 0.2}\u001B[0m\n",
      "\u001B[34m{'loss': 1.9043, 'learning_rate': 0.00015924764890282134, 'epoch': 0.2}\u001B[0m\n",
      "\u001B[34m{'loss': 1.9102, 'learning_rate': 0.00015862068965517243, 'epoch': 0.21}\u001B[0m\n",
      "\u001B[34m{'loss': 1.8589, 'learning_rate': 0.00015799373040752352, 'epoch': 0.21}\u001B[0m\n",
      "\u001B[34m{'loss': 2.0622, 'learning_rate': 0.0001573667711598746, 'epoch': 0.21}\u001B[0m\n",
      "\u001B[34m{'loss': 1.8362, 'learning_rate': 0.00015673981191222572, 'epoch': 0.22}\u001B[0m\n",
      "\u001B[34m{'loss': 1.9081, 'learning_rate': 0.0001561128526645768, 'epoch': 0.22}\u001B[0m\n",
      "\u001B[34m{'loss': 1.8747, 'learning_rate': 0.0001554858934169279, 'epoch': 0.22}\u001B[0m\n",
      "\u001B[34m{'loss': 1.8386, 'learning_rate': 0.000154858934169279, 'epoch': 0.23}\u001B[0m\n",
      "\u001B[34m{'loss': 1.9094, 'learning_rate': 0.00015423197492163011, 'epoch': 0.23}\u001B[0m\n",
      "\u001B[34m{'loss': 2.0003, 'learning_rate': 0.0001536050156739812, 'epoch': 0.23}\u001B[0m\n",
      "\u001B[34m{'loss': 1.9169, 'learning_rate': 0.0001529780564263323, 'epoch': 0.24}\u001B[0m\n",
      "\u001B[34m{'loss': 2.0563, 'learning_rate': 0.0001523510971786834, 'epoch': 0.24}\u001B[0m\n",
      "\u001B[34m{'loss': 2.0138, 'learning_rate': 0.00015172413793103449, 'epoch': 0.24}\u001B[0m\n",
      "\u001B[34m{'loss': 1.9347, 'learning_rate': 0.00015109717868338557, 'epoch': 0.24}\u001B[0m\n",
      "\u001B[34m{'loss': 2.0252, 'learning_rate': 0.00015047021943573669, 'epoch': 0.25}\u001B[0m\n",
      "\u001B[34m#015  0%|          | 1/638 [00:02<24:07,  2.27s/it]#015  0%|          | 2/638 [00:04<23:21,  2.20s/it]#015                                               #015#015  0%|          | 2/638 [00:04<23:21,  2.20s/it]#015  0%|          | 3/638 [00:06<23:45,  2.25s/it]#015  1%|          | 4/638 [00:09<23:58,  2.27s/it]#015                                               #015#015  1%|          | 4/638 [00:09<23:58,  2.27s/it]#015  1%|          | 5/638 [00:12<26:48,  2.54s/it]#015  1%|          | 6/638 [00:14<25:19,  2.40s/it]#015                                               #015#015  1%|          | 6/638 [00:14<25:19,  2.40s/it]#015  1%|          | 7/638 [00:16<23:18,  2.22s/it]#015  1%|▏         | 8/638 [00:17<22:04,  2.10s/it]#015                                               #015#015  1%|▏         | 8/638 [00:17<22:04,  2.10s/it]#015  1%|▏         | 9/638 [00:19<21:49,  2.08s/it]#015  2%|▏         | 10/638 [00:21<20:36,  1.97s/it]#015                                                #015#015  2%|▏         | 10/638 [00:21<20:36,  1.97s/it]#015  2%|▏         | 11/638 [00:23<19:49,  1.90s/it]#015  2%|▏         | 12/638 [00:25<19:12,  1.84s/it]#015                                                #015#015  2%|▏         | 12/638 [00:25<19:12,  1.84s/it]#015  2%|▏         | 13/638 [00:26<17:54,  1.72s/it]#015  2%|▏         | 14/638 [00:28<18:00,  1.73s/it]#015                                                #015#015  2%|▏         | 14/638 [00:28<18:00,  1.73s/it]#015  2%|▏         | 15/638 [00:30<18:57,  1.83s/it]#015  3%|▎         | 16/638 [00:32<19:24,  1.87s/it]#015                                                #015#015  3%|▎         | 16/638 [00:32<19:24,  1.87s/it]#015  3%|▎         | 17/638 [00:34<20:46,  2.01s/it]#015  3%|▎         | 18/638 [00:36<20:18,  1.96s/it]#015                                                #015#015  3%|▎         | 18/638 [00:36<20:18,  1.96s/it]#015  3%|▎         | 19/638 [00:39<22:45,  2.21s/it]#015  3%|▎         | 20/638 [00:41<21:17,  2.07s/it]#015                                                #015#015  3%|▎         | 20/638 [00:41<21:17,  2.07s/it]#015  3%|▎         | 21/638 [00:43<21:59,  2.14s/it]#015  3%|▎         | 22/638 [00:45<21:31,  2.10s/it]#015                                                #015#015  3%|▎         | 22/638 [00:45<21:31,  2.10s/it]#015  4%|▎         | 23/638 [00:48<23:47,  2.32s/it]#015  4%|▍         | 24/638 [00:50<22:43,  2.22s/it]#015                                                #015#015  4%|▍         | 24/638 [00:50<22:43,  2.22s/it]#015  4%|▍         | 25/638 [00:51<21:16,  2.08s/it]#015  4%|▍         | 26/638 [00:54<22:00,  2.16s/it]#015                                                #015#015  4%|▍         | 26/638 [00:54<22:00,  2.16s/it]#015  4%|▍         | 27/638 [00:55<20:11,  1.98s/it]#015  4%|▍         | 28/638 [00:57<18:00,  1.77s/it]#015                                                #015#015  4%|▍         | 28/638 [00:57<18:00,  1.77s/it]#015  5%|▍         | 29/638 [00:58<16:48,  1.66s/it]#015  5%|▍         | 30/638 [01:00<16:56,  1.67s/it]#015                                                #015#015  5%|▍         | 30/638 [01:00<16:56,  1.67s/it]#015  5%|▍         | 31/638 [01:02<18:46,  1.86s/it]#015  5%|▌         | 32/638 [01:04<20:39,  2.05s/it]#015                                                #015#015  5%|▌         | 32/638 [01:04<20:39,  2.05s/it]#015  5%|▌         | 33/638 [01:06<20:30,  2.03s/it]#015  5%|▌         | 34/638 [01:08<19:06,  1.90s/it]#015                                                #015#015  5%|▌         | 34/638 [01:08<19:06,  1.90s/it]#015  5%|▌         | 35/638 [01:10<18:30,  1.84s/it]#015  6%|▌         | 36/638 [01:12<19:31,  1.95s/it]#015                                                #015#015  6%|▌         | 36/638 [01:12<19:31,  1.95s/it]#015  6%|▌         | 37/638 [01:14<18:45,  1.87s/it]#015  6%|▌         | 38/638 [01:17<24:02,  2.40s/it]#015                                                #015#015  6%|▌         | 38/638 [01:17<24:02,  2.40s/it]#015  6%|▌         | 39/638 [01:19<20:39,  2.07s/it]#015  6%|▋         | 40/638 [01:20<18:45,  1.88s/it]#015                                                #015#015  6%|▋         | 40/638 [01:20<18:45,  1.88s/it]#015  6%|▋         | 41/638 [01:22<19:13,  1.93s/it]#015  7%|▋         | 42/638 [01:29<34:34,  3.48s/it]#015                                                #015#015  7%|▋         | 42/638 [01:29<34:34,  3.48s/it]#015  7%|▋         | 43/638 [01:32<32:23,  3.27s/it]#015  7%|▋         | 44/638 [01:34<29:08,  2.94s/it]#015                                                #015#015  7%|▋         | 44/638 [01:34<29:08,  2.94s/it]#015  7%|▋         | 45/638 [01:36<27:13,  2.75s/it]#015  7%|▋         | 46/638 [01:39<27:17,  2.77s/it]#015                                                #015#015  7%|▋         | 46/638 [01:39<27:17,  2.77s/it]#015  7%|▋         | 47/638 [01:41<23:36,  2.40s/it]#015  8%|▊         | 48/638 [01:43<21:41,  2.21s/it]#015                                                #015#015  8%|▊         | 48/638 [01:43<21:41,  2.21s/it]#015  8%|▊         | 49/638 [01:45<21:54,  2.23s/it]#015  8%|▊         | 50/638 [01:46<19:51,  2.03s/it]#015                                                #015#015  8%|▊         | 50/638 [01:46<19:51,  2.03s/it]#015  8%|▊         | 51/638 [01:48<19:52,  2.03s/it]#015  8%|▊         | 52/638 [01:51<20:39,  2.12s/it]#015                                                #015#015  8%|▊         | 52/638 [01:51<20:39,  2.12s/it]#015  8%|▊         | 53/638 [01:53<19:47,  2.03s/it]#015  8%|▊         | 54/638 [01:55<20:33,  2.11s/it]#015                                                #015#015  8%|▊         | 54/638 [01:55<20:33,  2.11s/it]#015  9%|▊         | 55/638 [01:56<18:23,  1.89s/it]#015  9%|▉         | 56/638 [01:58<17:47,  1.83s/it]#015                                                #015#015  9%|▉         | 56/638 [01:58<17:47,  1.83s/it]#015  9%|▉         | 57/638 [02:00<17:44,  1.83s/it]#015  9%|▉         | 58/638 [02:01<16:51,  1.74s/it]#015                                                #015#015  9%|▉         | 58/638 [02:01<16:51,  1.74s/it]#015  9%|▉         | 59/638 [02:03<17:06,  1.77s/it]#015  9%|▉         | 60/638 [02:04<15:52,  1.65s/it]#015                                                #015#015  9%|▉         | 60/638 [02:04<15:52,  1.65s/it]#015 10%|▉         | 61/638 [02:06<15:03,  1.57s/it]#015 10%|▉         | 62/638 [02:08<15:57,  1.66s/it]#015                                                #015#015 10%|▉         | 62/638 [02:08<15:57,  1.66s/it]#015 10%|▉         | 63/638 [02:10<16:26,  1.72s/it]#015 10%|█         | 64/638 [02:12<17:46,  1.86s/it]#015                                                #015#015 10%|█         | 64/638 [02:12<17:46,  1.86s/it]#015 10%|█         | 65/638 [02:15<20:22,  2.13s/it]#015 10%|█         | 66/638 [02:17<20:28,  2.15s/it]#015                                                #015#015 10%|█         | 66/638 [02:17<20:28,  2.15s/it]#015 11%|█         | 67/638 [02:19<20:51,  2.19s/it]#015 11%|█         | 68/638 [02:21<19:29,  2.05s/it]#015                                                #015#015 11%|█         | 68/638 [02:21<19:29,  2.05s/it]#015 11%|█         | 69/638 [02:22<16:45,  1.77s/it]#015 11%|█         | 70/638 [02:24<16:54,  1.79s/it]#015                                                #015#015 11%|█         | 70/638 [02:24<16:54,  1.79s/it]#015 11%|█         | 71/638 [02:25<16:40,  1.76s/it]#015 11%|█▏        | 72/638 [02:27<16:56,  1.80s/it]#015                                                #015#015 11%|█▏        | 72/638 [02:27<16:56,  1.80s/it]#015 11%|█▏        | 73/638 [02:30<19:01,  2.02s/it]#015 12%|█▏        | 74/638 [02:32<19:19,  2.06s/it]#015                                                #015#015 12%|█▏        | 74/638 [02:32<19:19,  2.06s/it]#015 12%|█▏        | 75/638 [02:34<18:16,  1.95s/it]#015 12%|█▏        | 76/638 [02:36<18:30,  1.98s/it]#015                                                #015#015 12%|█▏        | 76/638 [02:36<18:30,  1.98s/it]#015 12%|█▏        | 77/638 [02:38<18:12,  1.95s/it]#015 12%|█▏        | 78/638 [02:40<18:17,  1.96s/it]#015                                                #015#015 12%|█▏        | 78/638 [02:40<18:17,  1.96s/it]#015 12%|█▏        | 79/638 [02:41<16:39,  1.79s/it]#015 13%|█▎        | 80/638 [02:43<17:58,  1.93s/it]#015                                                #015#015 13%|█▎        | 80/638 [02:43<17:58,  1.93s/it]#015 13%|█▎        | 81/638 [02:45<16:22,  1.76s/it]#015 13%|█▎        | 82/638 [02:47<17:24,  1.88s/it]#015                                                #015#015 13%|█▎        | 82/638 [02:47<17:24,  1.88s/it]#015 13%|█▎        | 83/638 [02:48<16:00,  1.73s/it]#015 13%|█▎        | 84/638 [02:49<14:43,  1.60s/it]#015                                                #015#015 13%|█▎        | 84/638 [02:49<14:43,  1.60s/it]#015 13%|█▎        | 85/638 [02:53<19:15,  2.09s/it]#015 13%|█▎        | 86/638 [02:55<20:21,  2.21s/it]#015                                                #015#015 13%|█▎        | 86/638 [02:55<20:21,  2.21s/it]#015 14%|█▎        | 87/638 [02:57<20:06,  2.19s/it]#015 14%|█▍        | 88/638 [02:59<19:29,  2.13s/it]#015                                                #015#015 14%|█▍        | 88/638 [02:59<19:29,  2.13s/it]#015 14%|█▍        | 89/638 [03:02<20:45,  2.27s/it]#015 14%|█▍        | 90/638 [03:04<21:17,  2.33s/it]#015                                                #015#015 14%|█▍        | 90/638 [03:04<21:17,  2.33s/it]#015 14%|█▍        | 91/638 [03:06<19:59,  2.19s/it]#015 14%|█▍        | 92/638 [03:08<18:55,  2.08s/it]#015                                                #015#015 14%|█▍        | 92/638 [03:08<18:55,  2.08s/it]#015 15%|█▍        | 93/638 [03:10<18:14,  2.01s/it]#015 15%|█▍        | 94/638 [03:12<18:10,  2.00s/it]#015                                                #015#015 15%|█▍        | 94/638 [03:12<18:10,  2.00s/it]#015 15%|█▍        | 95/638 [03:16<24:34,  2.72s/it]#015 15%|█▌        | 96/638 [03:18<23:07,  2.56s/it]#015                                                #015#015 15%|█▌        | 96/638 [03:18<23:07,  2.56s/it]#015 15%|█▌        | 97/638 [03:20<20:25,  2.26s/it]#015 15%|█▌        | 98/638 [03:22<20:24,  2.27s/it]#015                                                #015#015 15%|█▌        | 98/638 [03:22<20:24,  2.27s/it]#015 16%|█▌        | 99/638 [03:24<18:23,  2.05s/it]#015 16%|█▌        | 100/638 [03:27<20:55,  2.33s/it]#015                                                 #015#015 16%|█▌        | 100/638 [03:27<20:55,  2.33s/it]#015 16%|█▌        | 101/638 [03:29<19:20,  2.16s/it]#015 16%|█▌        | 102/638 [03:30<18:09,  2.03s/it]#015                                                 #015#015 16%|█▌        | 102/638 [03:30<18:09,  2.03s/it]#015 16%|█▌        | 103/638 [03:33<20:42,  2.32s/it]#015 16%|█▋        | 104/638 [03:37<24:36,  2.77s/it]#015                                                 #015#015 16%|█▋        | 104/638 [03:37<24:36,  2.77s/it]#015 16%|█▋        | 105/638 [03:39<21:18,  2.40s/it]#015 17%|█▋        | 106/638 [03:41<22:13,  2.51s/it]#015                                                 #015#015 17%|█▋        | 106/638 [03:41<22:13,  2.51s/it]#015 17%|█▋        | 107/638 [03:43<19:20,  2.19s/it]#015 17%|█▋        | 108/638 [03:46<22:21,  2.53s/it]#015                                                 #015#015 17%|█▋        | 108/638 [03:46<22:21,  2.53s/it]#015 17%|█▋        | 109/638 [03:48<20:08,  2.28s/it]#015 17%|█▋        | 110/638 [03:50<18:40,  2.12s/it]#015                                                 #015#015 17%|█▋        | 110/638 [03:50<18:40,  2.12s/it]#015 17%|█▋        | 111/638 [03:51<17:40,  2.01s/it]#015 18%|█▊        | 112/638 [03:54<19:52,  2.27s/it]#015                                                 #015#015 18%|█▊        | 112/638 [03:54<19:52,  2.27s/it]#015 18%|█▊        | 113/638 [03:56<19:40,  2.25s/it]#015 18%|█▊        | 114/638 [03:58<17:55,  2.05s/it]#015                                                 #015#015 18%|█▊        | 114/638 [03:58<17:55,  2.05s/it]#015 18%|█▊        | 115/638 [04:00<17:21,  1.99s/it]#015 18%|█▊        | 116/638 [04:01<16:13,  1.87s/it]#015                                                 #015#015 18%|█▊        | 116/638 [04:01<16:13,  1.87s/it]#015 18%|█▊        | 117/638 [04:03<15:53,  1.83s/it]#015 18%|█▊        | 118/638 [04:05<15:53,  1.83s/it]#015                                                 #015#015 18%|█▊        | 118/638 [04:05<15:53,  1.83s/it]#015 19%|█▊        | 119/638 [04:07<15:40,  1.81s/it]#015 19%|█▉        | 120/638 [04:10<19:19,  2.24s/it]#015                                                 #015#015 19%|█▉        | 120/638 [04:10<19:19,  2.24s/it]#015 19%|█▉        | 121/638 [04:12<19:13,  2.23s/it]#015 19%|█▉        | 122/638 [04:15<20:15,  2.36s/it]#015                                                 #015#015 19%|█▉        | 122/638 [04:15<20:15,  2.36s/it]#015 19%|█▉        | 123/638 [04:16<18:04,  2.11s/it]#015 19%|█▉        | 124/638 [04:19<18:38,  2.18s/it]#015                                                 #015#015 19%|█▉        | 124/638 [04:19<18:38,  2.18s/it]#015 20%|█▉        | 125/638 [04:21<19:50,  2.32s/it]#015 20%|█▉        | 126/638 [04:24<19:47,  2.32s/it]#015                                                 #015#015 20%|█▉        | 126/638 [04:24<19:47,  2.32s/it]#015 20%|█▉        | 127/638 [04:25<18:12,  2.14s/it]#015 20%|██        | 128/638 [04:27<15:30,  1.82s/it]#015                                                 #015#015 20%|██        | 128/638 [04:27<15:30,  1.82s/it]#015 20%|██        | 129/638 [04:29<16:21,  1.93s/it]#015 20%|██        | 130/638 [04:30<15:52,  1.88s/it]#015                                                 #015#015 20%|██        | 130/638 [04:30<15:52,  1.88s/it]#015 21%|██        | 131/638 [04:32<15:00,  1.78s/it]#015 21%|██        | 132/638 [04:33<14:09,  1.68s/it]#015                                                 #015#015 21%|██        | 132/638 [04:33<14:09,  1.68s/it]#015 21%|██        | 133/638 [04:36<14:58,  1.78s/it]#015 21%|██        | 134/638 [04:38<15:57,  1.90s/it]#015                                                 #015#015 21%|██        | 134/638 [04:38<15:57,  1.90s/it]#015 21%|██        | 135/638 [04:40<17:47,  2.12s/it]#015 21%|██▏       | 136/638 [04:42<17:26,  2.08s/it]#015                                                 #015#015 21%|██▏       | 136/638 [04:42<17:26,  2.08s/it]#015 21%|██▏       | 137/638 [04:45<17:52,  2.14s/it]#015 22%|██▏       | 138/638 [04:47<19:04,  2.29s/it]#015                                                 #015#015 22%|██▏       | 138/638 [04:47<19:04,  2.29s/it]#015 22%|██▏       | 139/638 [04:49<17:31,  2.11s/it]#015 22%|██▏       | 140/638 [04:53<23:08,  2.79s/it]#015                                                 #015#015 22%|██▏       | 140/638 [04:53<23:08,  2.79s/it]#015 22%|██▏       | 141/638 [04:56<22:20,  2.70s/it]#015 22%|██▏       | 142/638 [04:58<20:08,  2.44s/it]#015                                                 #015#015 22%|██▏       | 142/638 [04:58<20:08,  2.44s/it]#015 22%|██▏       | 143/638 [05:00<19:29,  2.36s/it]#015 23%|██▎       | 144/638 [05:02<17:55,  2.18s/it]#015                                                 #015#015 23%|██▎       | 144/638 [05:02<17:55,  2.18s/it]#015 23%|██▎       | 145/638 [05:04<19:30,  2.37s/it]#015 23%|██▎       | 146/638 [05:06<17:28,  2.13s/it]#015                                                 #015#015 23%|██▎       | 146/638 [05:06<17:28,  2.13s/it]#015 23%|██▎       | 147/638 [05:08<17:54,  2.19s/it]#015 23%|██▎       | 148/638 [05:10<16:23,  2.01s/it]#015                                                 #015#015 23%|██▎       | 148/638 [05:10<16:23,  2.01s/it]#015 23%|██▎       | 149/638 [05:12<17:04,  2.10s/it]#015 24%|██▎       | 150/638 [05:14<17:07,  2.10s/it]#015                                                 #015#015 24%|██▎       | 150/638 [05:14<17:07,  2.10s/it]#015 24%|██▎       | 151/638 [05:16<16:26,  2.03s/it]#015 24%|██▍       | 152/638 [05:18<16:26,  2.03s/it]#015                                                 #015#015 24%|██▍       | 152/638 [05:18<16:26,  2.03s/it]#015 24%|██▍       | 153/638 [05:20<16:51,  2.08s/it]#015 24%|██▍       | 154/638 [05:22<16:01,  1.99s/it]#015                                                 #015#015 24%|██▍       | 154/638 [05:22<16:01,  1.99s/it]#015 24%|██▍       | 155/638 [05:24<14:39,  1.82s/it]#015 24%|██▍       | 156/638 [05:25<14:40,  1.83s/it]#015                                                 #015#015 24%|██▍       | 156/638 [05:25<14:40,  1.83s/it]#015 25%|██▍       | 157/638 [05:27<13:43,  1.71s/it]#015 25%|██▍       | 158/638 [05:29<14:02,  1.76s/it]#015                                       \u001B[0m\n",
      "\u001B[34m{'loss': 1.402, 'learning_rate': 0.0001498432601880878, 'epoch': 0.25}\u001B[0m\n",
      "\u001B[34m{'loss': 1.8917, 'learning_rate': 0.00014921630094043889, 'epoch': 0.25}\u001B[0m\n",
      "\u001B[34m{'loss': 1.9257, 'learning_rate': 0.00014858934169278997, 'epoch': 0.26}\u001B[0m\n",
      "\u001B[34m{'loss': 1.9184, 'learning_rate': 0.00014796238244514106, 'epoch': 0.26}\u001B[0m\n",
      "\u001B[34m{'loss': 1.929, 'learning_rate': 0.00014733542319749217, 'epoch': 0.26}\u001B[0m\n",
      "\u001B[34m{'loss': 1.915, 'learning_rate': 0.00014670846394984328, 'epoch': 0.27}\u001B[0m\n",
      "\u001B[34m{'loss': 1.8641, 'learning_rate': 0.00014608150470219437, 'epoch': 0.27}\u001B[0m\n",
      "\u001B[34m{'loss': 1.8735, 'learning_rate': 0.00014545454545454546, 'epoch': 0.27}\u001B[0m\n",
      "\u001B[34m{'loss': 2.016, 'learning_rate': 0.00014482758620689657, 'epoch': 0.28}\u001B[0m\n",
      "\u001B[34m{'loss': 1.865, 'learning_rate': 0.00014420062695924766, 'epoch': 0.28}\u001B[0m\n",
      "\u001B[34m{'loss': 1.9265, 'learning_rate': 0.00014357366771159874, 'epoch': 0.28}\u001B[0m\n",
      "\u001B[34m{'loss': 1.785, 'learning_rate': 0.00014294670846394983, 'epoch': 0.29}\u001B[0m\n",
      "\u001B[34m{'loss': 1.8478, 'learning_rate': 0.00014231974921630097, 'epoch': 0.29}\u001B[0m\n",
      "\u001B[34m{'loss': 1.7372, 'learning_rate': 0.00014169278996865206, 'epoch': 0.29}\u001B[0m\n",
      "\u001B[34m{'loss': 1.746, 'learning_rate': 0.00014106583072100314, 'epoch': 0.29}\u001B[0m\n",
      "\u001B[34m{'loss': 1.9698, 'learning_rate': 0.00014043887147335423, 'epoch': 0.3}\u001B[0m\n",
      "\u001B[34m{'loss': 1.9685, 'learning_rate': 0.00013981191222570534, 'epoch': 0.3}\u001B[0m\n",
      "\u001B[34m{'loss': 1.9488, 'learning_rate': 0.00013918495297805643, 'epoch': 0.3}\u001B[0m\n",
      "\u001B[34m{'loss': 1.8061, 'learning_rate': 0.0001385579937304075, 'epoch': 0.31}\u001B[0m\n",
      "\u001B[34m{'loss': 1.8518, 'learning_rate': 0.00013793103448275863, 'epoch': 0.31}\u001B[0m\n",
      "\u001B[34m{'loss': 1.8118, 'learning_rate': 0.00013730407523510974, 'epoch': 0.31}\u001B[0m\n",
      "\u001B[34m{'loss': 1.9076, 'learning_rate': 0.00013667711598746083, 'epoch': 0.32}\u001B[0m\n",
      "\u001B[34m{'loss': 1.898, 'learning_rate': 0.0001360501567398119, 'epoch': 0.32}\u001B[0m\n",
      "\u001B[34m{'loss': 1.498, 'learning_rate': 0.00013542319749216303, 'epoch': 0.32}\u001B[0m\n",
      "\u001B[34m{'loss': 1.8675, 'learning_rate': 0.0001347962382445141, 'epoch': 0.33}\u001B[0m\n",
      "\u001B[34m{'loss': 1.804, 'learning_rate': 0.0001341692789968652, 'epoch': 0.33}\u001B[0m\n",
      "\u001B[34m{'loss': 1.946, 'learning_rate': 0.0001335423197492163, 'epoch': 0.33}\u001B[0m\n",
      "\u001B[34m{'loss': 1.8557, 'learning_rate': 0.0001329153605015674, 'epoch': 0.34}\u001B[0m\n",
      "\u001B[34m{'loss': 1.8111, 'learning_rate': 0.0001322884012539185, 'epoch': 0.34}\u001B[0m\n",
      "\u001B[34m{'loss': 1.8172, 'learning_rate': 0.0001316614420062696, 'epoch': 0.34}\u001B[0m\n",
      "\u001B[34m{'loss': 1.996, 'learning_rate': 0.00013103448275862068, 'epoch': 0.34}\u001B[0m\n",
      "\u001B[34m{'loss': 1.9209, 'learning_rate': 0.0001304075235109718, 'epoch': 0.35}\u001B[0m\n",
      "\u001B[34m{'loss': 1.8695, 'learning_rate': 0.0001297805642633229, 'epoch': 0.35}\u001B[0m\n",
      "\u001B[34m{'loss': 1.8256, 'learning_rate': 0.000129153605015674, 'epoch': 0.35}\u001B[0m\n",
      "\u001B[34m{'loss': 1.8873, 'learning_rate': 0.00012852664576802508, 'epoch': 0.36}\u001B[0m\n",
      "\u001B[34m{'loss': 1.9747, 'learning_rate': 0.0001278996865203762, 'epoch': 0.36}\u001B[0m\n",
      "\u001B[34m{'loss': 1.9829, 'learning_rate': 0.00012727272727272728, 'epoch': 0.36}\u001B[0m\n",
      "\u001B[34m{'loss': 1.9838, 'learning_rate': 0.00012664576802507837, 'epoch': 0.37}\u001B[0m\n",
      "\u001B[34m{'loss': 2.1328, 'learning_rate': 0.00012601880877742945, 'epoch': 0.37}\u001B[0m\n",
      "\u001B[34m{'loss': 1.8116, 'learning_rate': 0.0001253918495297806, 'epoch': 0.37}\u001B[0m\n",
      "\u001B[34m{'loss': 1.7187, 'learning_rate': 0.00012476489028213168, 'epoch': 0.38}\u001B[0m\n",
      "\u001B[34m{'loss': 1.9903, 'learning_rate': 0.00012413793103448277, 'epoch': 0.38}\u001B[0m\n",
      "\u001B[34m{'loss': 1.9737, 'learning_rate': 0.00012351097178683385, 'epoch': 0.38}\u001B[0m\n",
      "\u001B[34m{'loss': 1.8222, 'learning_rate': 0.00012288401253918497, 'epoch': 0.39}\u001B[0m\n",
      "\u001B[34m{'loss': 1.7425, 'learning_rate': 0.00012225705329153605, 'epoch': 0.39}\u001B[0m\n",
      "\u001B[34m{'loss': 1.8088, 'learning_rate': 0.00012163009404388714, 'epoch': 0.39}\u001B[0m\n",
      "\u001B[34m{'loss': 1.9713, 'learning_rate': 0.00012100313479623827, 'epoch': 0.39}\u001B[0m\n",
      "\u001B[34m{'loss': 1.7749, 'learning_rate': 0.00012037617554858935, 'epoch': 0.4}\u001B[0m\n",
      "\u001B[34m{'loss': 1.8855, 'learning_rate': 0.00011974921630094045, 'epoch': 0.4}\u001B[0m\n",
      "\u001B[34m{'loss': 1.8766, 'learning_rate': 0.00011912225705329154, 'epoch': 0.4}\u001B[0m\n",
      "\u001B[34m{'loss': 1.8649, 'learning_rate': 0.00011849529780564264, 'epoch': 0.41}\u001B[0m\n",
      "\u001B[34m{'loss': 2.1128, 'learning_rate': 0.00011786833855799372, 'epoch': 0.41}\u001B[0m\n",
      "\u001B[34m{'loss': 2.1074, 'learning_rate': 0.00011724137931034482, 'epoch': 0.41}\u001B[0m\n",
      "\u001B[34m{'loss': 2.0352, 'learning_rate': 0.00011661442006269594, 'epoch': 0.42}\u001B[0m\n",
      "\u001B[34m{'loss': 1.8158, 'learning_rate': 0.00011598746081504704, 'epoch': 0.42}\u001B[0m\n",
      "\u001B[34m{'loss': 1.9266, 'learning_rate': 0.00011536050156739812, 'epoch': 0.42}\u001B[0m\n",
      "\u001B[34m{'loss': 1.7975, 'learning_rate': 0.00011473354231974922, 'epoch': 0.43}\u001B[0m\n",
      "\u001B[34m{'loss': 1.8979, 'learning_rate': 0.00011410658307210031, 'epoch': 0.43}\u001B[0m\n",
      "\u001B[34m{'loss': 1.9112, 'learning_rate': 0.00011347962382445141, 'epoch': 0.43}\u001B[0m\n",
      "\u001B[34m{'loss': 1.9248, 'learning_rate': 0.00011285266457680251, 'epoch': 0.44}\u001B[0m\n",
      "\u001B[34m{'loss': 1.9784, 'learning_rate': 0.00011222570532915362, 'epoch': 0.44}\u001B[0m\n",
      "\u001B[34m{'loss': 2.0038, 'learning_rate': 0.00011159874608150471, 'epoch': 0.44}\u001B[0m\n",
      "\u001B[34m{'loss': 1.7392, 'learning_rate': 0.0001109717868338558, 'epoch': 0.45}\u001B[0m\n",
      "\u001B[34m{'loss': 1.9396, 'learning_rate': 0.0001103448275862069, 'epoch': 0.45}\u001B[0m\n",
      "\u001B[34m{'loss': 2.0062, 'learning_rate': 0.00010971786833855799, 'epoch': 0.45}\u001B[0m\n",
      "\u001B[34m{'loss': 1.5886, 'learning_rate': 0.00010909090909090909, 'epoch': 0.45}\u001B[0m\n",
      "\u001B[34m{'loss': 1.7646, 'learning_rate': 0.0001084639498432602, 'epoch': 0.46}\u001B[0m\n",
      "\u001B[34m{'loss': 2.0051, 'learning_rate': 0.00010783699059561129, 'epoch': 0.46}\u001B[0m\n",
      "\u001B[34m{'loss': 1.9585, 'learning_rate': 0.00010721003134796239, 'epoch': 0.46}\u001B[0m\n",
      "\u001B[34m{'loss': 1.8032, 'learning_rate': 0.00010658307210031349, 'epoch': 0.47}\u001B[0m\n",
      "\u001B[34m{'loss': 2.1716, 'learning_rate': 0.00010595611285266458, 'epoch': 0.47}\u001B[0m\n",
      "\u001B[34m{'loss': 1.9324, 'learning_rate': 0.00010532915360501568, 'epoch': 0.47}\u001B[0m\n",
      "\u001B[34m{'loss': 1.8382, 'learning_rate': 0.00010470219435736676, 'epoch': 0.48}\n",
      "          #015#015 25%|██▍       | 158/638 [05:29<14:02,  1.76s/it]#015 25%|██▍       | 159/638 [05:36<27:22,  3.43s/it]#015 25%|██▌       | 160/638 [05:39<25:55,  3.25s/it]#015                                                 #015#015 25%|██▌       | 160/638 [05:39<25:55,  3.25s/it]#015 25%|██▌       | 161/638 [05:40<21:33,  2.71s/it]#015 25%|██▌       | 162/638 [05:42<19:08,  2.41s/it]#015                                                 #015#015 25%|██▌       | 162/638 [05:42<19:08,  2.41s/it]#015 26%|██▌       | 163/638 [05:45<19:35,  2.47s/it]#015 26%|██▌       | 164/638 [05:47<18:21,  2.32s/it]#015                                                 #015#015 26%|██▌       | 164/638 [05:47<18:21,  2.32s/it]#015 26%|██▌       | 165/638 [05:48<16:13,  2.06s/it]#015 26%|██▌       | 166/638 [05:50<15:01,  1.91s/it]#015                                                 #015#015 26%|██▌       | 166/638 [05:50<15:01,  1.91s/it]#015 26%|██▌       | 167/638 [05:51<13:54,  1.77s/it]#015 26%|██▋       | 168/638 [05:53<14:03,  1.79s/it]#015                                                 #015#015 26%|██▋       | 168/638 [05:53<14:03,  1.79s/it]#015 26%|██▋       | 169/638 [05:54<12:23,  1.58s/it]#015 27%|██▋       | 170/638 [05:56<12:37,  1.62s/it]#015                                                 #015#015 27%|██▋       | 170/638 [05:56<12:37,  1.62s/it]#015 27%|██▋       | 171/638 [05:58<14:41,  1.89s/it]#015 27%|██▋       | 172/638 [06:00<13:36,  1.75s/it]#015                                                 #015#015 27%|██▋       | 172/638 [06:00<13:36,  1.75s/it]#015 27%|██▋       | 173/638 [06:02<14:28,  1.87s/it]#015 27%|██▋       | 174/638 [06:04<15:24,  1.99s/it]#015                                                 #015#015 27%|██▋       | 174/638 [06:04<15:24,  1.99s/it]#015 27%|██▋       | 175/638 [06:07<16:30,  2.14s/it]#015 28%|██▊       | 176/638 [06:09<17:16,  2.24s/it]#015                                                 #015#015 28%|██▊       | 176/638 [06:09<17:16,  2.24s/it]#015 28%|██▊       | 177/638 [06:11<17:18,  2.25s/it]#015 28%|██▊       | 178/638 [06:14<17:18,  2.26s/it]#015                                                 #015#015 28%|██▊       | 178/638 [06:14<17:18,  2.26s/it]#015 28%|██▊       | 179/638 [06:15<15:44,  2.06s/it]#015 28%|██▊       | 180/638 [06:17<15:31,  2.03s/it]#015                                                 #015#015 28%|██▊       | 180/638 [06:17<15:31,  2.03s/it]#015 28%|██▊       | 181/638 [06:20<18:14,  2.39s/it]#015 29%|██▊       | 182/638 [06:22<16:53,  2.22s/it]#015                                                 #015#015 29%|██▊       | 182/638 [06:22<16:53,  2.22s/it]#015 29%|██▊       | 183/638 [06:24<15:44,  2.08s/it]#015 29%|██▉       | 184/638 [06:27<17:19,  2.29s/it]#015                                                 #015#015 29%|██▉       | 184/638 [06:27<17:19,  2.29s/it]#015 29%|██▉       | 185/638 [06:29<16:19,  2.16s/it]#015 29%|██▉       | 186/638 [06:31<16:38,  2.21s/it]#015                                                 #015#015 29%|██▉       | 186/638 [06:31<16:38,  2.21s/it]#015 29%|██▉       | 187/638 [06:33<16:31,  2.20s/it]#015 29%|██▉       | 188/638 [06:35<16:43,  2.23s/it]#015                                                 #015#015 29%|██▉       | 188/638 [06:35<16:43,  2.23s/it]#015 30%|██▉       | 189/638 [06:38<16:53,  2.26s/it]#015 30%|██▉       | 190/638 [06:40<15:59,  2.14s/it]#015                                                 #015#015 30%|██▉       | 190/638 [06:40<15:59,  2.14s/it]#015 30%|██▉       | 191/638 [06:41<15:21,  2.06s/it]#015 30%|███       | 192/638 [06:44<16:17,  2.19s/it]#015                                                 #015#015 30%|███       | 192/638 [06:44<16:17,  2.19s/it]#015 30%|███       | 193/638 [06:46<16:31,  2.23s/it]#015 30%|███       | 194/638 [06:48<15:26,  2.09s/it]#015                                                 #015#015 30%|███       | 194/638 [06:48<15:26,  2.09s/it]#015 31%|███       | 195/638 [06:51<16:56,  2.29s/it]#015 31%|███       | 196/638 [06:54<18:07,  2.46s/it]#015                                                 #015#015 31%|███       | 196/638 [06:54<18:07,  2.46s/it]#015 31%|███       | 197/638 [06:55<16:09,  2.20s/it]#015 31%|███       | 198/638 [06:57<15:41,  2.14s/it]#015                                                 #015#015 31%|███       | 198/638 [06:57<15:41,  2.14s/it]#015 31%|███       | 199/638 [07:01<18:28,  2.53s/it]#015 31%|███▏      | 200/638 [07:03<18:20,  2.51s/it]#015                                                 #015#015 31%|███▏      | 200/638 [07:03<18:20,  2.51s/it]#015 32%|███▏      | 201/638 [07:06<18:22,  2.52s/it]#015 32%|███▏      | 202/638 [07:08<17:52,  2.46s/it]#015                                                 #015#015 32%|███▏      | 202/638 [07:08<17:52,  2.46s/it]#015 32%|███▏      | 203/638 [07:11<18:32,  2.56s/it]#015 32%|███▏      | 204/638 [07:13<17:17,  2.39s/it]#015                                                 #015#015 32%|███▏      | 204/638 [07:13<17:17,  2.39s/it]#015 32%|███▏      | 205/638 [07:20<27:18,  3.78s/it]#015 32%|███▏      | 206/638 [07:21<22:10,  3.08s/it]#015                                                 #015#015 32%|███▏      | 206/638 [07:21<22:10,  3.08s/it]#015 32%|███▏      | 207/638 [07:23<19:28,  2.71s/it]#015 33%|███▎      | 208/638 [07:25<16:39,  2.33s/it]#015                                                 #015#015 33%|███▎      | 208/638 [07:25<16:39,  2.33s/it]#015 33%|███▎      | 209/638 [07:26<14:35,  2.04s/it]#015 33%|███▎      | 210/638 [07:28<14:51,  2.08s/it]#015                                                 #015#015 33%|███▎      | 210/638 [07:28<14:51,  2.08s/it]#015 33%|███▎      | 211/638 [07:30<13:26,  1.89s/it]#015 33%|███▎      | 212/638 [07:31<13:20,  1.88s/it]#015                                                 #015#015 33%|███▎      | 212/638 [07:31<13:20,  1.88s/it]#015 33%|███▎      | 213/638 [07:34<14:16,  2.01s/it]#015 34%|███▎      | 214/638 [07:36<14:34,  2.06s/it]#015                                                 #015#015 34%|███▎      | 214/638 [07:36<14:34,  2.06s/it]#015 34%|███▎      | 215/638 [07:37<13:03,  1.85s/it]#015 34%|███▍      | 216/638 [07:40<14:38,  2.08s/it]#015                                                 #015#015 34%|███▍      | 216/638 [07:40<14:38,  2.08s/it]#015 34%|███▍      | 217/638 [07:42<14:06,  2.01s/it]#015 34%|███▍      | 218/638 [07:43<13:08,  1.88s/it]#015                                                 #015#015 34%|███▍      | 218/638 [07:43<13:08,  1.88s/it]#015 34%|███▍      | 219/638 [07:45<12:50,  1.84s/it]#015 34%|███▍      | 220/638 [07:47<12:34,  1.80s/it]#015                                                 #015#015 34%|███▍      | 220/638 [07:47<12:34,  1.80s/it]#015 35%|███▍      | 221/638 [07:48<11:37,  1.67s/it]#015 35%|███▍      | 222/638 [07:50<11:41,  1.69s/it]#015                                                 #015#015 35%|███▍      | 222/638 [07:50<11:41,  1.69s/it]#015 35%|███▍      | 223/638 [07:52<13:34,  1.96s/it]#015 35%|███▌      | 224/638 [07:54<13:36,  1.97s/it]#015                                                 #015#015 35%|███▌      | 224/638 [07:54<13:36,  1.97s/it]#015 35%|███▌      | 225/638 [07:58<16:37,  2.41s/it]#015 35%|███▌      | 226/638 [08:00<15:59,  2.33s/it]#015                                                 #015#015 35%|███▌      | 226/638 [08:00<15:59,  2.33s/it]#015 36%|███▌      | 227/638 [08:02<15:53,  2.32s/it]#015 36%|███▌      | 228/638 [08:04<15:29,  2.27s/it]#015                                                 #015#015 36%|███▌      | 228/638 [08:04<15:29,  2.27s/it]#015 36%|███▌      | 229/638 [08:06<14:23,  2.11s/it]#015 36%|███▌      | 230/638 [08:08<13:12,  1.94s/it]#015                                                 #015#015 36%|███▌      | 230/638 [08:08<13:12,  1.94s/it]#015 36%|███▌      | 231/638 [08:10<12:43,  1.88s/it]#015 36%|███▋      | 232/638 [08:12<13:19,  1.97s/it]#015                                                 #015#015 36%|███▋      | 232/638 [08:12<13:19,  1.97s/it]#015 37%|███▋      | 233/638 [08:14<13:04,  1.94s/it]#015 37%|███▋      | 234/638 [08:15<12:15,  1.82s/it]#015                                                 #015#015 37%|███▋      | 234/638 [08:15<12:15,  1.82s/it]#015 37%|███▋      | 235/638 [08:17<12:05,  1.80s/it]#015 37%|███▋      | 236/638 [08:19<13:00,  1.94s/it]#015                                                 #015#015 37%|███▋      | 236/638 [08:19<13:00,  1.94s/it]#015 37%|███▋      | 237/638 [08:21<12:51,  1.92s/it]#015 37%|███▋      | 238/638 [08:24<14:02,  2.11s/it]#015                                                 #015#015 37%|███▋      | 238/638 [08:24<14:02,  2.11s/it]#015 37%|███▋      | 239/638 [08:25<13:31,  2.03s/it]#015 38%|███▊      | 240/638 [08:28<14:24,  2.17s/it]#015                                                 #015#015 38%|███▊      | 240/638 [08:28<14:24,  2.17s/it]#015 38%|███▊      | 241/638 [08:29<13:08,  1.98s/it]#015 38%|███▊      | 242/638 [08:32<13:28,  2.04s/it]#015                                                 #015#015 38%|███▊      | 242/638 [08:32<13:28,  2.04s/it]#015 38%|███▊      | 243/638 [08:33<12:29,  1.90s/it]#015 38%|███▊      | 244/638 [08:35<12:59,  1.98s/it]#015                                                 #015#015 38%|███▊      | 244/638 [08:35<12:59,  1.98s/it]#015 38%|███▊      | 245/638 [08:37<12:05,  1.85s/it]#015 39%|███▊      | 246/638 [08:39<12:45,  1.95s/it]#015                                                 #015#015 39%|███▊      | 246/638 [08:39<12:45,  1.95s/it]#015 39%|███▊      | 247/638 [08:42<13:45,  2.11s/it]#015 39%|███▉      | 248/638 [08:43<13:17,  2.04s/it]#015                                                 #015#015 39%|███▉      | 248/638 [08:43<13:17,  2.04s/it]#015 39%|███▉      | 249/638 [08:46<13:31,  2.09s/it]#015 39%|███▉      | 250/638 [08:49<16:32,  2.56s/it]#015                                                 #015#015 39%|███▉      | 250/638 [08:49<16:32,  2.56s/it]#015 39%|███▉      | 251/638 [08:53<18:53,  2.93s/it]#015 39%|███▉      | 252/638 [08:55<16:30,  2.57s/it]#015                                                 #015#015 39%|███▉      | 252/638 [08:55<16:30,  2.57s/it]#015 40%|███▉      | 253/638 [08:57<15:02,  2.35s/it]#015 40%|███▉      | 254/638 [08:58<13:16,  2.07s/it]#015                                                 #015#015 40%|███▉      | 254/638 [08:58<13:16,  2.07s/it]#015 40%|███▉      | 255/638 [09:00<13:03,  2.04s/it]#015 40%|████      | 256/638 [09:02<12:09,  1.91s/it]#015                                                 #015#015 40%|████      | 256/638 [09:02<12:09,  1.91s/it]#015 40%|████      | 257/638 [09:04<13:12,  2.08s/it]#015 40%|████      | 258/638 [09:06<12:08,  1.92s/it]#015                                                 #015#015 40%|████      | 258/638 [09:06<12:08,  1.92s/it]#015 41%|████      | 259/638 [09:09<14:11,  2.25s/it]#015 41%|████      | 260/638 [09:10<12:38,  2.01s/it]#015                                                 #015#015 41%|████      | 260/638 [09:10<12:38,  2.01s/it]#015 41%|████      | 261/638 [09:13<14:58,  2.38s/it]#015 41%|████      | 262/638 [09:16<14:45,  2.36s/it]#015                                                 #015#015 41%|████      | 262/638 [09:16<14:45,  2.36s/it]#015 41%|████      | 263/638 [09:18<14:19,  2.29s/it]#015 41%|████▏     | 264/638 [09:19<12:32,  2.01s/it]#015                                                 #015#015 41%|████▏     | 264/638 [09:19<12:32,  2.01s/it]#015 42%|████▏     | 265/638 [09:21<11:43,  1.89s/it]#015 42%|████▏     | 266/638 [09:22<11:06,  1.79s/it]#015                                                 #015#015 42%|████▏     | 266/638 [09:22<11:06,  1.79s/it]#015 42%|████▏     | 267/638 [09:24<11:25,  1.85s/it]#015 42%|████▏     | 268/638 [09:26<11:42,  1.90s/it]#015                                                 #015#015 42%|████▏     | 268/638 [09:26<11:42,  1.90s/it]#015 42%|████▏     | 269/638 [09:28<12:06,  1.97s/it]#015 42%|████▏     | 270/638 [09:30<11:38,  1.90s/it]#015                                                 #015#015 42%|████▏     | 270/638 [09:30<11:38,  1.90s/it]#015 42%|████▏     | 271/638 [09:32<12:18,  2.01s/it]#015 43%|████▎     | 272/638 [09:34<11:12,  1.84s/it]#015                                                 #015#015 43%|████▎     | 272/638 [09:34<11:12,  1.84s/it]#015 43%|████▎     | 273/638 [09:36<11:51,  1.95s/it]#015 43%|████▎     | 274/638 [09:38<11:08,  1.84s/it]#015                                                 #015#015 43%|████▎     | 274/638 [09:38<11:08,  1.84s/it]#015 43%|████▎     | 275/638 [09:39<10:53,  1.80s/it]#015 43%|████▎     | 276/638 [09:42<12:22,  2.05s/it]#015                                                 #015#015 43%|████▎     | 276/638 [09:42<12:22,  2.05s/it]#015 43%|████▎     | 277/638 [09:44<11:25,  1.90s/it]#015 44%|████▎     | 278/638 [09:46<12:11,  2.03s/it]#015                                                 #015#015 44%|████▎     | 278/638 [09:46<12:11,  2.03s/it]#015 44%|████▎     | 279/638 [09:47<10:45,  1.80s/it]#015 44%|████▍     | 280/638 [09:49<10:15,  1.72s/it]#015                                                 #015#015 44%|████▍     | 280/638 [09:49<10:15,  1.72s/it]#015 44%|████▍     | 281/638 [09:52<12:32,  2.11s/it]#015 44%|████▍     | 282/638 [09:54<13:28,  2.27s/it]#015                                                 #015#015 44%|████▍     | 282/638 [09:54<13:28,  2.27s/it]#015 44%|████▍     | 283/638 [09:56<12:39,  2.14s/it]#015 45%|████▍     | 284/638 [09:59<12:56,  2.19s/it]#015                                                 #015#015 45%|████▍     | 284/638 [09:59<12:56,  2.19s/it]#015 45%|████▍     | 285/638 [10:01<13:04,  2.22s/it]#015 45%|████▍     | 286/638 [10:03<13:29,  2.30s/it]#015                                                 #015#015 45%|████▍     | 286/638 [10:03<13:29,  2.30s/it]#015 45%|████▍     | 287/638 [10:05<13:00,  2.22s/it]#015 45%|████▌     | 288/638 [10:07<11:20,  1.94s/it]#015                                                 #015#015 45%|████▌     | 288/638 [10:07<11:20,  1.94s/it]#015 45%|████▌     | 289/638 [10:09<12:14,  2.11s/it]#015 45%|████▌     | 290/638 [10:16<20:52,  3.60s/it]#015                                                 #015#015 45%|████▌     | 290/638 [10:16<20:52,  3.60s/it]#015 46%|████▌     | 291/638 [10:18<18:03,  3.12s/it]#015 46%|████▌     | 292/638 [10:20<16:18,  2.83s/it]#015                                                 #015#015 46%|████▌     | 292/638 [10:20<16:18,  2.83s/it]#015 46%|████▌     | 293/638 [10:22<14:47,  2.57s/it]#015 46%|████▌     | 294/638 [10:24<13:03,  2.28s/it]#015                                                 #015#015 46%|████▌     | 294/638 [10:24<13:03,  2.28s/it]#015 46%|████▌     | 295/638 [10:26<12:05,  2.11s/it]#015 46%|████▋     | 296/638 [10:27<10:52,  1.91s/it]#015                                                 #015#015 46%|████▋     | 296/638 [10:27<10:52,  1.91s/it]#015 47%|████▋     | 297/638 [10:29<11:34,  2.04s/it]#015 47%|████▋     | 298/638 [10:32<12:53,  2.28s/it]#015                                                 #015#015 47%|████▋     | 298/638 [10:32<12:53,  2.28s/it]#015 47%|████▋     | 299/638 [10:34<11:55,  2.11s/it]#015 47%|████▋     | 300/638 [10:35<10:45,  1.91s/it]#015                                                 #015#015 47%|████▋     | 300/638 [10:35<10:45,  1.91s/it]#015 47%|████▋     | 301/638 [10:38<12:35,  2.24s/it]#015 47%|████▋     | 302/638 [10:40<11:44,  2.10s/it]#015                                                 #015#015 47%|████▋     | 302/638 [10:40<11:44,  2.10s/it]#015 47%|████▋     | 303/638 [10:42<10:44,  1.93s/it]#015 48%|████▊     | 304/638 [10:43<10:07,  1.82s/it]#015\u001B[0m\n",
      "\u001B[34m{'loss': 1.8529, 'learning_rate': 0.00010407523510971788, 'epoch': 0.48}\u001B[0m\n",
      "\u001B[34m{'loss': 1.8409, 'learning_rate': 0.00010344827586206898, 'epoch': 0.48}\u001B[0m\n",
      "\u001B[34m{'loss': 1.7444, 'learning_rate': 0.00010282131661442008, 'epoch': 0.49}\u001B[0m\n",
      "\u001B[34m{'loss': 1.7858, 'learning_rate': 0.00010219435736677116, 'epoch': 0.49}\u001B[0m\n",
      "\u001B[34m{'loss': 2.0352, 'learning_rate': 0.00010156739811912226, 'epoch': 0.49}\u001B[0m\n",
      "\u001B[34m{'loss': 1.9341, 'learning_rate': 0.00010094043887147335, 'epoch': 0.5}\u001B[0m\n",
      "\u001B[34m{'loss': 1.6919, 'learning_rate': 0.00010031347962382445, 'epoch': 0.5}\u001B[0m\n",
      "\u001B[34m{'loss': 1.9828, 'learning_rate': 9.968652037617555e-05, 'epoch': 0.5}\u001B[0m\n",
      "\u001B[34m{'loss': 1.8721, 'learning_rate': 9.905956112852665e-05, 'epoch': 0.5}\u001B[0m\n",
      "\u001B[34m{'loss': 1.9064, 'learning_rate': 9.843260188087775e-05, 'epoch': 0.51}\u001B[0m\n",
      "\u001B[34m{'loss': 1.9559, 'learning_rate': 9.780564263322885e-05, 'epoch': 0.51}\u001B[0m\n",
      "\u001B[34m{'loss': 1.8018, 'learning_rate': 9.717868338557993e-05, 'epoch': 0.51}\u001B[0m\n",
      "\u001B[34m{'loss': 1.8406, 'learning_rate': 9.655172413793105e-05, 'epoch': 0.52}\u001B[0m\n",
      "\u001B[34m{'loss': 1.5299, 'learning_rate': 9.592476489028213e-05, 'epoch': 0.52}\u001B[0m\n",
      "\u001B[34m{'loss': 1.7538, 'learning_rate': 9.529780564263323e-05, 'epoch': 0.52}\u001B[0m\n",
      "\u001B[34m{'loss': 1.9262, 'learning_rate': 9.467084639498433e-05, 'epoch': 0.53}\u001B[0m\n",
      "\u001B[34m{'loss': 1.8817, 'learning_rate': 9.404388714733543e-05, 'epoch': 0.53}\u001B[0m\n",
      "\u001B[34m{'loss': 2.0027, 'learning_rate': 9.341692789968652e-05, 'epoch': 0.53}\u001B[0m\n",
      "\u001B[34m{'loss': 1.8761, 'learning_rate': 9.278996865203762e-05, 'epoch': 0.54}\u001B[0m\n",
      "\u001B[34m{'loss': 1.8123, 'learning_rate': 9.216300940438872e-05, 'epoch': 0.54}\u001B[0m\n",
      "\u001B[34m{'loss': 2.029, 'learning_rate': 9.153605015673982e-05, 'epoch': 0.54}\u001B[0m\n",
      "\u001B[34m{'loss': 1.7093, 'learning_rate': 9.090909090909092e-05, 'epoch': 0.55}\u001B[0m\n",
      "\u001B[34m{'loss': 2.1065, 'learning_rate': 9.028213166144202e-05, 'epoch': 0.55}\u001B[0m\n",
      "\u001B[34m{'loss': 1.9919, 'learning_rate': 8.96551724137931e-05, 'epoch': 0.55}\u001B[0m\n",
      "\u001B[34m{'loss': 1.7666, 'learning_rate': 8.90282131661442e-05, 'epoch': 0.55}\u001B[0m\n",
      "\u001B[34m{'loss': 1.7493, 'learning_rate': 8.84012539184953e-05, 'epoch': 0.56}\u001B[0m\n",
      "\u001B[34m{'loss': 1.7848, 'learning_rate': 8.77742946708464e-05, 'epoch': 0.56}\u001B[0m\n",
      "\u001B[34m{'loss': 1.8538, 'learning_rate': 8.71473354231975e-05, 'epoch': 0.56}\u001B[0m\n",
      "\u001B[34m{'loss': 1.9555, 'learning_rate': 8.652037617554859e-05, 'epoch': 0.57}\u001B[0m\n",
      "\u001B[34m{'loss': 1.8872, 'learning_rate': 8.58934169278997e-05, 'epoch': 0.57}\u001B[0m\n",
      "\u001B[34m{'loss': 1.9713, 'learning_rate': 8.526645768025079e-05, 'epoch': 0.57}\u001B[0m\n",
      "\u001B[34m{'loss': 1.9582, 'learning_rate': 8.463949843260189e-05, 'epoch': 0.58}\u001B[0m\n",
      "\u001B[34m{'loss': 1.8295, 'learning_rate': 8.401253918495299e-05, 'epoch': 0.58}\u001B[0m\n",
      "\u001B[34m{'loss': 1.6945, 'learning_rate': 8.338557993730409e-05, 'epoch': 0.58}\u001B[0m\n",
      "\u001B[34m{'loss': 2.0319, 'learning_rate': 8.275862068965517e-05, 'epoch': 0.59}\u001B[0m\n",
      "\u001B[34m{'loss': 1.7639, 'learning_rate': 8.213166144200627e-05, 'epoch': 0.59}\u001B[0m\n",
      "\u001B[34m{'loss': 1.8108, 'learning_rate': 8.150470219435737e-05, 'epoch': 0.59}\u001B[0m\n",
      "\u001B[34m{'loss': 1.1639, 'learning_rate': 8.087774294670847e-05, 'epoch': 0.6}\u001B[0m\n",
      "\u001B[34m{'loss': 1.9572, 'learning_rate': 8.025078369905956e-05, 'epoch': 0.6}\u001B[0m\n",
      "\u001B[34m{'loss': 1.8825, 'learning_rate': 7.962382445141067e-05, 'epoch': 0.6}\u001B[0m\n",
      "\u001B[34m{'loss': 1.6602, 'learning_rate': 7.899686520376176e-05, 'epoch': 0.61}\u001B[0m\n",
      "\u001B[34m{'loss': 1.5437, 'learning_rate': 7.836990595611286e-05, 'epoch': 0.61}\u001B[0m\n",
      "\u001B[34m{'loss': 1.8655, 'learning_rate': 7.774294670846394e-05, 'epoch': 0.61}\u001B[0m\n",
      "\u001B[34m{'loss': 1.8957, 'learning_rate': 7.711598746081506e-05, 'epoch': 0.61}\u001B[0m\n",
      "\u001B[34m{'loss': 1.8627, 'learning_rate': 7.648902821316614e-05, 'epoch': 0.62}\u001B[0m\n",
      "\u001B[34m{'loss': 1.7425, 'learning_rate': 7.586206896551724e-05, 'epoch': 0.62}\u001B[0m\n",
      "\u001B[34m{'loss': 2.006, 'learning_rate': 7.523510971786834e-05, 'epoch': 0.62}\u001B[0m\n",
      "\u001B[34m{'loss': 1.701, 'learning_rate': 7.460815047021944e-05, 'epoch': 0.63}\u001B[0m\n",
      "\u001B[34m{'loss': 1.9058, 'learning_rate': 7.398119122257053e-05, 'epoch': 0.63}\u001B[0m\n",
      "\u001B[34m{'loss': 1.8184, 'learning_rate': 7.335423197492164e-05, 'epoch': 0.63}\u001B[0m\n",
      "\u001B[34m{'loss': 1.9006, 'learning_rate': 7.272727272727273e-05, 'epoch': 0.64}\u001B[0m\n",
      "\u001B[34m{'loss': 1.8263, 'learning_rate': 7.210031347962383e-05, 'epoch': 0.64}\u001B[0m\n",
      "\u001B[34m{'loss': 1.9456, 'learning_rate': 7.147335423197491e-05, 'epoch': 0.64}\u001B[0m\n",
      "\u001B[34m{'loss': 1.8859, 'learning_rate': 7.084639498432603e-05, 'epoch': 0.65}\u001B[0m\n",
      "\u001B[34m{'loss': 1.7344, 'learning_rate': 7.021943573667711e-05, 'epoch': 0.65}\u001B[0m\n",
      "\u001B[34m{'loss': 1.9615, 'learning_rate': 6.959247648902821e-05, 'epoch': 0.65}\u001B[0m\n",
      "\u001B[34m{'loss': 1.8499, 'learning_rate': 6.896551724137931e-05, 'epoch': 0.66}\u001B[0m\n",
      "\u001B[34m{'loss': 1.8568, 'learning_rate': 6.833855799373041e-05, 'epoch': 0.66}\u001B[0m\n",
      "\u001B[34m{'loss': 1.9101, 'learning_rate': 6.771159874608151e-05, 'epoch': 0.66}\u001B[0m\n",
      "\u001B[34m{'loss': 1.8082, 'learning_rate': 6.70846394984326e-05, 'epoch': 0.66}\u001B[0m\n",
      "\u001B[34m{'loss': 1.796, 'learning_rate': 6.64576802507837e-05, 'epoch': 0.67}\u001B[0m\n",
      "\u001B[34m{'loss': 1.9412, 'learning_rate': 6.58307210031348e-05, 'epoch': 0.67}\u001B[0m\n",
      "\u001B[34m{'loss': 1.9979, 'learning_rate': 6.52037617554859e-05, 'epoch': 0.67}\u001B[0m\n",
      "\u001B[34m{'loss': 1.8573, 'learning_rate': 6.4576802507837e-05, 'epoch': 0.68}\u001B[0m\n",
      "\u001B[34m{'loss': 1.7826, 'learning_rate': 6.39498432601881e-05, 'epoch': 0.68}\u001B[0m\n",
      "\u001B[34m{'loss': 1.8305, 'learning_rate': 6.332288401253918e-05, 'epoch': 0.68}\u001B[0m\n",
      "\u001B[34m{'loss': 1.9206, 'learning_rate': 6.26959247648903e-05, 'epoch': 0.69}\u001B[0m\n",
      "\u001B[34m{'loss': 1.9269, 'learning_rate': 6.206896551724138e-05, 'epoch': 0.69}\u001B[0m\n",
      "\u001B[34m                                                 #015#015 48%|████▊     | 304/638 [10:43<10:07,  1.82s/it]#015 48%|████▊     | 305/638 [10:45<09:58,  1.80s/it]#015 48%|████▊     | 306/638 [10:47<10:21,  1.87s/it]#015                                                 #015#015 48%|████▊     | 306/638 [10:47<10:21,  1.87s/it]#015 48%|████▊     | 307/638 [10:49<10:20,  1.88s/it]#015 48%|████▊     | 308/638 [10:51<10:03,  1.83s/it]#015                                                 #015#015 48%|████▊     | 308/638 [10:51<10:03,  1.83s/it]#015 48%|████▊     | 309/638 [10:52<09:38,  1.76s/it]#015 49%|████▊     | 310/638 [10:54<09:18,  1.70s/it]#015                                                 #015#015 49%|████▊     | 310/638 [10:54<09:18,  1.70s/it]#015 49%|████▊     | 311/638 [10:55<08:33,  1.57s/it]#015 49%|████▉     | 312/638 [10:57<08:33,  1.57s/it]#015                                                 #015#015 49%|████▉     | 312/638 [10:57<08:33,  1.57s/it]#015 49%|████▉     | 313/638 [10:58<08:31,  1.57s/it]#015 49%|████▉     | 314/638 [11:01<10:14,  1.90s/it]#015                                                 #015#015 49%|████▉     | 314/638 [11:01<10:14,  1.90s/it]#015 49%|████▉     | 315/638 [11:03<09:56,  1.85s/it]#015 50%|████▉     | 316/638 [11:05<10:11,  1.90s/it]#015                                                 #015#015 50%|████▉     | 316/638 [11:05<10:11,  1.90s/it]#015 50%|████▉     | 317/638 [11:07<10:20,  1.93s/it]#015 50%|████▉     | 318/638 [11:08<09:55,  1.86s/it]#015                                                 #015#015 50%|████▉     | 318/638 [11:08<09:55,  1.86s/it]#015 50%|█████     | 319/638 [11:10<09:13,  1.73s/it]#015 50%|█████     | 320/638 [11:12<10:23,  1.96s/it]#015                                                 #015#015 50%|█████     | 320/638 [11:12<10:23,  1.96s/it]#015 50%|█████     | 321/638 [11:15<10:44,  2.03s/it]#015 50%|█████     | 322/638 [11:17<11:25,  2.17s/it]#015                                                 #015#015 50%|█████     | 322/638 [11:17<11:25,  2.17s/it]#015 51%|█████     | 323/638 [11:20<11:54,  2.27s/it]#015 51%|█████     | 324/638 [11:22<11:26,  2.19s/it]#015                                                 #015#015 51%|█████     | 324/638 [11:22<11:26,  2.19s/it]#015 51%|█████     | 325/638 [11:23<11:04,  2.12s/it]#015 51%|█████     | 326/638 [11:27<13:56,  2.68s/it]#015                                                 #015#015 51%|█████     | 326/638 [11:27<13:56,  2.68s/it]#015 51%|█████▏    | 327/638 [11:30<14:25,  2.78s/it]#015 51%|█████▏    | 328/638 [11:32<12:58,  2.51s/it]#015                                                 #015#015 51%|█████▏    | 328/638 [11:32<12:58,  2.51s/it]#015 52%|█████▏    | 329/638 [11:34<11:27,  2.22s/it]#015 52%|█████▏    | 330/638 [11:36<10:52,  2.12s/it]#015                                                 #015#015 52%|█████▏    | 330/638 [11:36<10:52,  2.12s/it]#015 52%|█████▏    | 331/638 [11:43<18:28,  3.61s/it]#015 52%|█████▏    | 332/638 [11:44<14:59,  2.94s/it]#015                                                 #015#015 52%|█████▏    | 332/638 [11:44<14:59,  2.94s/it]#015 52%|█████▏    | 333/638 [11:47<14:25,  2.84s/it]#015 52%|█████▏    | 334/638 [11:49<13:47,  2.72s/it]#015                                                 #015#015 52%|█████▏    | 334/638 [11:49<13:47,  2.72s/it]#015 53%|█████▎    | 335/638 [11:51<12:41,  2.51s/it]#015 53%|█████▎    | 336/638 [11:53<11:12,  2.23s/it]#015                                                 #015#015 53%|█████▎    | 336/638 [11:53<11:12,  2.23s/it]#015 53%|█████▎    | 337/638 [11:55<11:07,  2.22s/it]#015 53%|█████▎    | 338/638 [11:58<11:26,  2.29s/it]#015                                                 #015#015 53%|█████▎    | 338/638 [11:58<11:26,  2.29s/it]#015 53%|█████▎    | 339/638 [11:59<10:21,  2.08s/it]#015 53%|█████▎    | 340/638 [12:01<10:12,  2.06s/it]#015                                                 #015#015 53%|█████▎    | 340/638 [12:01<10:12,  2.06s/it]#015 53%|█████▎    | 341/638 [12:03<10:08,  2.05s/it]#015 54%|█████▎    | 342/638 [12:05<09:25,  1.91s/it]#015                                                 #015#015 54%|█████▎    | 342/638 [12:05<09:25,  1.91s/it]#015 54%|█████▍    | 343/638 [12:07<10:14,  2.08s/it]#015 54%|█████▍    | 344/638 [12:10<10:29,  2.14s/it]#015                                                 #015#015 54%|█████▍    | 344/638 [12:10<10:29,  2.14s/it]#015 54%|█████▍    | 345/638 [12:12<11:23,  2.33s/it]#015 54%|█████▍    | 346/638 [12:14<10:16,  2.11s/it]#015                                                 #015#015 54%|█████▍    | 346/638 [12:14<10:16,  2.11s/it]#015 54%|█████▍    | 347/638 [12:16<10:22,  2.14s/it]#015 55%|█████▍    | 348/638 [12:18<09:32,  1.97s/it]#015                                                 #015#015 55%|█████▍    | 348/638 [12:18<09:32,  1.97s/it]#015 55%|█████▍    | 349/638 [12:19<08:53,  1.85s/it]#015 55%|█████▍    | 350/638 [12:22<09:29,  1.98s/it]#015                                                 #015#015 55%|█████▍    | 350/638 [12:22<09:29,  1.98s/it]#015 55%|█████▌    | 351/638 [12:24<10:26,  2.18s/it]#015 55%|█████▌    | 352/638 [12:26<09:46,  2.05s/it]#015                                                 #015#015 55%|█████▌    | 352/638 [12:26<09:46,  2.05s/it]#015 55%|█████▌    | 353/638 [12:28<09:29,  2.00s/it]#015 55%|█████▌    | 354/638 [12:30<09:55,  2.10s/it]#015                                                 #015#015 55%|█████▌    | 354/638 [12:30<09:55,  2.10s/it]#015 56%|█████▌    | 355/638 [12:32<10:02,  2.13s/it]#015 56%|█████▌    | 356/638 [12:35<10:14,  2.18s/it]#015                                                 #015#015 56%|█████▌    | 356/638 [12:35<10:14,  2.18s/it]#015 56%|█████▌    | 357/638 [12:36<09:44,  2.08s/it]#015 56%|█████▌    | 358/638 [12:38<09:25,  2.02s/it]#015                                                 #015#015 56%|█████▌    | 358/638 [12:38<09:25,  2.02s/it]#015 56%|█████▋    | 359/638 [12:40<09:10,  1.97s/it]#015 56%|█████▋    | 360/638 [12:42<08:16,  1.79s/it]#015                                                 #015#015 56%|█████▋    | 360/638 [12:42<08:16,  1.79s/it]#015 57%|█████▋    | 361/638 [12:44<08:48,  1.91s/it]#015 57%|█████▋    | 362/638 [12:46<09:09,  1.99s/it]#015                                                 #015#015 57%|█████▋    | 362/638 [12:46<09:09,  1.99s/it]#015 57%|█████▋    | 363/638 [12:48<08:45,  1.91s/it]#015 57%|█████▋    | 364/638 [12:50<08:41,  1.90s/it]#015                                                 #015#015 57%|█████▋    | 364/638 [12:50<08:41,  1.90s/it]#015 57%|█████▋    | 365/638 [12:53<11:12,  2.46s/it]#015 57%|█████▋    | 366/638 [12:55<09:29,  2.09s/it]#015                                                 #015#015 57%|█████▋    | 366/638 [12:55<09:29,  2.09s/it]#015 58%|█████▊    | 367/638 [12:56<09:06,  2.02s/it]#015 58%|█████▊    | 368/638 [12:59<09:17,  2.06s/it]#015                                                 #015#015 58%|█████▊    | 368/638 [12:59<09:17,  2.06s/it]#015 58%|█████▊    | 369/638 [13:00<08:25,  1.88s/it]#015 58%|█████▊    | 370/638 [13:02<08:00,  1.79s/it]#015                                                 #015#015 58%|█████▊    | 370/638 [13:02<08:00,  1.79s/it]#015 58%|█████▊    | 371/638 [13:05<09:34,  2.15s/it]#015 58%|█████▊    | 372/638 [13:07<09:36,  2.17s/it]#015                                                 #015#015 58%|█████▊    | 372/638 [13:07<09:36,  2.17s/it]#015 58%|█████▊    | 373/638 [13:10<11:16,  2.55s/it]#015 59%|█████▊    | 374/638 [13:12<09:53,  2.25s/it]#015                                                 #015#015 59%|█████▊    | 374/638 [13:12<09:53,  2.25s/it]#015 59%|█████▉    | 375/638 [13:15<10:49,  2.47s/it]#015 59%|█████▉    | 376/638 [13:17<09:50,  2.25s/it]#015                                                 #015#015 59%|█████▉    | 376/638 [13:17<09:50,  2.25s/it]#015 59%|█████▉    | 377/638 [13:19<10:17,  2.36s/it]#015 59%|█████▉    | 378/638 [13:20<08:50,  2.04s/it]#015                                                 #015#015 59%|█████▉    | 378/638 [13:20<08:50,  2.04s/it]#015 59%|█████▉    | 379/638 [13:28<15:34,  3.61s/it]#015 60%|█████▉    | 380/638 [13:31<15:18,  3.56s/it]#015                                                 #015#015 60%|█████▉    | 380/638 [13:31<15:18,  3.56s/it]#015 60%|█████▉    | 381/638 [13:33<12:55,  3.02s/it]#015 60%|█████▉    | 382/638 [13:34<10:38,  2.49s/it]#015                                                 #015#015 60%|█████▉    | 382/638 [13:34<10:38,  2.49s/it]#015 60%|██████    | 383/638 [13:36<09:56,  2.34s/it]#015 60%|██████    | 384/638 [13:38<09:41,  2.29s/it]#015                                                 #015#015 60%|██████    | 384/638 [13:38<09:41,  2.29s/it]#015 60%|██████    | 385/638 [13:40<09:17,  2.20s/it]#015 61%|██████    | 386/638 [13:42<08:28,  2.02s/it]#015                                                 #015#015 61%|██████    | 386/638 [13:42<08:28,  2.02s/it]#015 61%|██████    | 387/638 [13:49<15:02,  3.59s/it]#015 61%|██████    | 388/638 [13:51<12:57,  3.11s/it]#015                                                 #015#015 61%|██████    | 388/638 [13:51<12:57,  3.11s/it]#015 61%|██████    | 389/638 [13:53<11:54,  2.87s/it]#015 61%|██████    | 390/638 [13:56<11:01,  2.67s/it]#015                                                 #015#015 61%|██████    | 390/638 [13:56<11:01,  2.67s/it]#015 61%|██████▏   | 391/638 [13:58<10:11,  2.47s/it]#015 61%|██████▏   | 392/638 [14:00<09:25,  2.30s/it]#015                                                 #015#015 61%|██████▏   | 392/638 [14:00<09:25,  2.30s/it]#015 62%|██████▏   | 393/638 [14:01<08:39,  2.12s/it]#015 62%|██████▏   | 394/638 [14:03<08:09,  2.01s/it]#015                                                 #015#015 62%|██████▏   | 394/638 [14:03<08:09,  2.01s/it]#015 62%|██████▏   | 395/638 [14:05<08:07,  2.01s/it]#015 62%|██████▏   | 396/638 [14:07<08:03,  2.00s/it]#015                                                 #015#015 62%|██████▏   | 396/638 [14:07<08:03,  2.00s/it]#015 62%|██████▏   | 397/638 [14:09<07:50,  1.95s/it]#015 62%|██████▏   | 398/638 [14:11<07:39,  1.91s/it]#015                                                 #015#015 62%|██████▏   | 398/638 [14:11<07:39,  1.91s/it]#015 63%|██████▎   | 399/638 [14:13<07:42,  1.94s/it]#015 63%|██████▎   | 400/638 [14:14<07:26,  1.87s/it]#015                                                 #015#015 63%|██████▎   | 400/638 [14:14<07:26,  1.87s/it]#015 63%|██████▎   | 401/638 [14:17<07:53,  2.00s/it]#015 63%|██████▎   | 402/638 [14:19<07:40,  1.95s/it]#015                                                 #015#015 63%|██████▎   | 402/638 [14:19<07:40,  1.95s/it]#015 63%|██████▎   | 403/638 [14:21<08:27,  2.16s/it]#015 63%|██████▎   | 404/638 [14:23<08:04,  2.07s/it]#015                                                 #015#015 63%|██████▎   | 404/638 [14:23<08:04,  2.07s/it]#015 63%|██████▎   | 405/638 [14:26<09:08,  2.35s/it]#015 64%|██████▎   | 406/638 [14:28<08:53,  2.30s/it]#015                                                 #015#015 64%|██████▎   | 406/638 [14:28<08:53,  2.30s/it]#015 64%|██████▍   | 407/638 [14:30<08:19,  2.16s/it]#015 64%|██████▍   | 408/638 [14:33<08:47,  2.30s/it]#015                                                 #015#015 64%|██████▍   | 408/638 [14:33<08:47,  2.30s/it]#015 64%|██████▍   | 409/638 [14:34<08:06,  2.12s/it]#015 64%|██████▍   | 410/638 [14:37<08:15,  2.17s/it]#015                                                 #015#015 64%|██████▍   | 410/638 [14:37<08:15,  2.17s/it]#015 64%|██████▍   | 411/638 [14:38<07:44,  2.05s/it]#015 65%|██████▍   | 412/638 [14:41<08:31,  2.26s/it]#015                                                 #015#015 65%|██████▍   | 412/638 [14:41<08:31,  2.26s/it]#015 65%|██████▍   | 413/638 [14:43<08:11,  2.18s/it]#015 65%|██████▍   | 414/638 [14:45<07:45,  2.08s/it]#015                                                 #015#015 65%|██████▍   | 414/638 [14:45<07:45,  2.08s/it]#015 65%|██████▌   | 415/638 [14:47<07:27,  2.01s/it]#015 65%|██████▌   | 416/638 [14:48<06:54,  1.87s/it]#015                                                 #015#015 65%|██████▌   | 416/638 [14:48<06:54,  1.87s/it]#015 65%|██████▌   | 417/638 [14:51<07:33,  2.05s/it]#015 66%|██████▌   | 418/638 [14:53<07:37,  2.08s/it]#015                                                 #015#015 66%|██████▌   | 418/638 [14:53<07:37,  2.08s/it]#015 66%|██████▌   | 419/638 [14:55<07:18,  2.00s/it]#015 66%|██████▌   | 420/638 [14:57<07:07,  1.96s/it]#015                                                 #015#015 66%|██████▌   | 420/638 [14:57<07:07,  1.96s/it]#015 66%|██████▌   | 421/638 [14:59<06:58,  1.93s/it]#015 66%|██████▌   | 422/638 [15:02<08:19,  2.31s/it]#015                                                 #015#015 66%|██████▌   | 422/638 [15:02<08:19,  2.31s/it]#015 66%|██████▋   | 423/638 [15:04<07:41,  2.15s/it]#015 66%|██████▋   | 424/638 [15:06<07:41,  2.15s/it]#015                                                 #015#015 66%|██████▋   | 424/638 [15:06<07:41,  2.15s/it]#015 67%|██████▋   | 425/638 [15:07<07:11,  2.03s/it]#015 67%|██████▋   | 426/638 [15:13<11:10,  3.16s/it]#015                                                 #015#015 67%|██████▋   | 426/638 [15:13<11:10,  3.16s/it]#015 67%|██████▋   | 427/638 [15:15<09:44,  2.77s/it]#015 67%|██████▋   | 428/638 [15:18<09:24,  2.69s/it]#015                                                 #015#015 67%|██████▋   | 428/638 [15:18<09:24,  2.69s/it]#015 67%|██████▋   | 429/638 [15:21<10:31,  3.02s/it]#015 67%|██████▋   | 430/638 [15:23<09:06,  2.63s/it]#015                                                 #015#015 67%|██████▋   | 430/638 [15:23<09:06,  2.63s/it]#015 68%|██████▊   | 431/638 [15:24<07:45,  2.25s/it]#015 68%|██████▊   | 432/638 [15:26<07:20,  2.14s/it]#015                                                 #015#015 68%|██████▊   | 432/638 [15:26<07:20,  2.14s/it]#015 68%|██████▊   | 433/638 [15:28<06:50,  2.00s/it]#015 68%|██████▊   | 434/638 [15:30<06:20,  1.87s/it]#015                                                 #015#015 68%|██████▊   | 434/638 [15:30<06:20,  1.87s/it]#015 68%|██████▊   | 435/638 [15:31<06:11,  1.83s/it]#015 68%|██████▊   | 436/638 [15:34<06:32,  1.94s/it]#015                                                 #015#015 68%|██████▊   | 436/638 [15:34<06:32,  1.94s/it]#015 68%|██████▊   | 437/638 [15:35<06:23,  1.91s/it]#015 69%|██████▊   | 438/638 [15:37<06:08,  1.84s/it]#015                                                 #015#015 69%|██████▊   | 438/638 [15:37<06:08,  1.84s/it]#015 69%|██████▉   | 439/638 [15:40<07:07,  2.15s/it]#015 69%|██████▉   | 440/638 [15:42<06:46,  2.05s/it]#015                                                 #015#015 69%|██████▉   | 440/638 [15:42<06:46,  2.05s/it]#015 69%|██████▉   | 441/638 [15:43<06:07,  1.87s/it]#015 69%|█�\u001B[0m\n",
      "\u001B[34m{'loss': 1.9136, 'learning_rate': 6.144200626959248e-05, 'epoch': 0.69}\u001B[0m\n",
      "\u001B[34m{'loss': 1.987, 'learning_rate': 6.081504702194357e-05, 'epoch': 0.7}\u001B[0m\n",
      "\u001B[34m{'loss': 1.836, 'learning_rate': 6.0188087774294676e-05, 'epoch': 0.7}\u001B[0m\n",
      "\u001B[34m{'loss': 1.846, 'learning_rate': 5.956112852664577e-05, 'epoch': 0.7}\u001B[0m\n",
      "\u001B[34m{'loss': 1.7219, 'learning_rate': 5.893416927899686e-05, 'epoch': 0.71}\u001B[0m\n",
      "\u001B[34m{'loss': 1.7077, 'learning_rate': 5.830721003134797e-05, 'epoch': 0.71}\u001B[0m\n",
      "\u001B[34m{'loss': 1.8621, 'learning_rate': 5.768025078369906e-05, 'epoch': 0.71}\u001B[0m\n",
      "\u001B[34m{'loss': 1.5541, 'learning_rate': 5.7053291536050154e-05, 'epoch': 0.71}\u001B[0m\n",
      "\u001B[34m{'loss': 1.6008, 'learning_rate': 5.6426332288401254e-05, 'epoch': 0.72}\u001B[0m\n",
      "\u001B[34m{'loss': 1.664, 'learning_rate': 5.5799373040752354e-05, 'epoch': 0.72}\u001B[0m\n",
      "\u001B[34m{'loss': 1.8968, 'learning_rate': 5.517241379310345e-05, 'epoch': 0.72}\u001B[0m\n",
      "\u001B[34m{'loss': 2.0205, 'learning_rate': 5.4545454545454546e-05, 'epoch': 0.73}\u001B[0m\n",
      "\u001B[34m{'loss': 1.827, 'learning_rate': 5.3918495297805646e-05, 'epoch': 0.73}\u001B[0m\n",
      "\u001B[34m{'loss': 1.7919, 'learning_rate': 5.3291536050156746e-05, 'epoch': 0.73}\u001B[0m\n",
      "\u001B[34m{'loss': 1.8279, 'learning_rate': 5.266457680250784e-05, 'epoch': 0.74}\u001B[0m\n",
      "\u001B[34m{'loss': 1.8547, 'learning_rate': 5.203761755485894e-05, 'epoch': 0.74}\u001B[0m\n",
      "\u001B[34m{'loss': 1.8638, 'learning_rate': 5.141065830721004e-05, 'epoch': 0.74}\u001B[0m\n",
      "\u001B[34m{'loss': 1.7653, 'learning_rate': 5.078369905956113e-05, 'epoch': 0.75}\u001B[0m\n",
      "\u001B[34m{'loss': 1.7604, 'learning_rate': 5.0156739811912224e-05, 'epoch': 0.75}\u001B[0m\n",
      "\u001B[34m{'loss': 1.7112, 'learning_rate': 4.9529780564263324e-05, 'epoch': 0.75}\u001B[0m\n",
      "\u001B[34m{'loss': 1.9387, 'learning_rate': 4.8902821316614424e-05, 'epoch': 0.76}\u001B[0m\n",
      "\u001B[34m{'loss': 1.8977, 'learning_rate': 4.827586206896552e-05, 'epoch': 0.76}\u001B[0m\n",
      "\u001B[34m{'loss': 1.705, 'learning_rate': 4.7648902821316616e-05, 'epoch': 0.76}\u001B[0m\n",
      "\u001B[34m{'loss': 1.914, 'learning_rate': 4.7021943573667716e-05, 'epoch': 0.76}\u001B[0m\n",
      "\u001B[34m{'loss': 1.7323, 'learning_rate': 4.639498432601881e-05, 'epoch': 0.77}\u001B[0m\n",
      "\u001B[34m{'loss': 1.8675, 'learning_rate': 4.576802507836991e-05, 'epoch': 0.77}\u001B[0m\n",
      "\u001B[34m{'loss': 1.8449, 'learning_rate': 4.514106583072101e-05, 'epoch': 0.77}\u001B[0m\n",
      "\u001B[34m{'loss': 1.7797, 'learning_rate': 4.45141065830721e-05, 'epoch': 0.78}\u001B[0m\n",
      "\u001B[34m{'loss': 1.8159, 'learning_rate': 4.38871473354232e-05, 'epoch': 0.78}\u001B[0m\n",
      "\u001B[34m{'loss': 1.6635, 'learning_rate': 4.3260188087774294e-05, 'epoch': 0.78}\u001B[0m\n",
      "\u001B[34m{'loss': 1.7288, 'learning_rate': 4.2633228840125394e-05, 'epoch': 0.79}\u001B[0m\n",
      "\u001B[34m{'loss': 1.8421, 'learning_rate': 4.2006269592476494e-05, 'epoch': 0.79}\u001B[0m\n",
      "\u001B[34m{'loss': 1.9464, 'learning_rate': 4.1379310344827587e-05, 'epoch': 0.79}\u001B[0m\n",
      "\u001B[34m{'loss': 1.7449, 'learning_rate': 4.0752351097178686e-05, 'epoch': 0.8}\u001B[0m\n",
      "\u001B[34m{'loss': 1.7484, 'learning_rate': 4.012539184952978e-05, 'epoch': 0.8}\u001B[0m\n",
      "\u001B[34m{'loss': 1.7488, 'learning_rate': 3.949843260188088e-05, 'epoch': 0.8}\u001B[0m\n",
      "\u001B[34m{'loss': 1.7841, 'learning_rate': 3.887147335423197e-05, 'epoch': 0.81}\u001B[0m\n",
      "\u001B[34m{'loss': 1.8678, 'learning_rate': 3.824451410658307e-05, 'epoch': 0.81}\u001B[0m\n",
      "\u001B[34m{'loss': 1.5616, 'learning_rate': 3.761755485893417e-05, 'epoch': 0.81}\u001B[0m\n",
      "\u001B[34m{'loss': 1.8149, 'learning_rate': 3.6990595611285264e-05, 'epoch': 0.82}\u001B[0m\n",
      "\u001B[34m{'loss': 1.9713, 'learning_rate': 3.6363636363636364e-05, 'epoch': 0.82}\u001B[0m\n",
      "\u001B[34m{'loss': 1.8955, 'learning_rate': 3.573667711598746e-05, 'epoch': 0.82}\u001B[0m\n",
      "\u001B[34m{'loss': 1.5699, 'learning_rate': 3.510971786833856e-05, 'epoch': 0.82}\u001B[0m\n",
      "\u001B[34m{'loss': 1.7301, 'learning_rate': 3.4482758620689657e-05, 'epoch': 0.83}\u001B[0m\n",
      "\u001B[34m{'loss': 1.7617, 'learning_rate': 3.3855799373040756e-05, 'epoch': 0.83}\u001B[0m\n",
      "\u001B[34m{'loss': 1.9773, 'learning_rate': 3.322884012539185e-05, 'epoch': 0.83}\u001B[0m\n",
      "\u001B[34m{'loss': 1.7867, 'learning_rate': 3.260188087774295e-05, 'epoch': 0.84}\u001B[0m\n",
      "\u001B[34m{'loss': 1.9631, 'learning_rate': 3.197492163009405e-05, 'epoch': 0.84}\u001B[0m\n",
      "\u001B[34m{'loss': 1.7856, 'learning_rate': 3.134796238244515e-05, 'epoch': 0.84}\u001B[0m\n",
      "\u001B[34m{'loss': 1.6367, 'learning_rate': 3.072100313479624e-05, 'epoch': 0.85}\u001B[0m\n",
      "\u001B[34m{'loss': 1.698, 'learning_rate': 3.0094043887147338e-05, 'epoch': 0.85}\u001B[0m\n",
      "\u001B[34m{'loss': 1.8598, 'learning_rate': 2.946708463949843e-05, 'epoch': 0.85}\u001B[0m\n",
      "\u001B[34m{'loss': 1.8074, 'learning_rate': 2.884012539184953e-05, 'epoch': 0.86}\u001B[0m\n",
      "\u001B[34m{'loss': 1.8166, 'learning_rate': 2.8213166144200627e-05, 'epoch': 0.86}\u001B[0m\n",
      "\u001B[34m{'loss': 1.822, 'learning_rate': 2.7586206896551727e-05, 'epoch': 0.86}\u001B[0m\n",
      "\u001B[34m{'loss': 1.8751, 'learning_rate': 2.6959247648902823e-05, 'epoch': 0.87}\u001B[0m\n",
      "\u001B[34m{'loss': 1.8614, 'learning_rate': 2.633228840125392e-05, 'epoch': 0.87}\u001B[0m\n",
      "\u001B[34m{'loss': 1.7078, 'learning_rate': 2.570532915360502e-05, 'epoch': 0.87}\u001B[0m\n",
      "\u001B[34m{'loss': 1.7311, 'learning_rate': 2.5078369905956112e-05, 'epoch': 0.87}\u001B[0m\n",
      "\u001B[34m{'loss': 1.8308, 'learning_rate': 2.4451410658307212e-05, 'epoch': 0.88}\u001B[0m\n",
      "\u001B[34m{'loss': 1.6957, 'learning_rate': 2.3824451410658308e-05, 'epoch': 0.88}\u001B[0m\n",
      "\u001B[34m{'loss': 1.8708, 'learning_rate': 2.3197492163009404e-05, 'epoch': 0.88}\u001B[0m\n",
      "\u001B[34m{'loss': 1.9296, 'learning_rate': 2.2570532915360504e-05, 'epoch': 0.89}\u001B[0m\n",
      "\u001B[34m{'loss': 1.9561, 'learning_rate': 2.19435736677116e-05, 'epoch': 0.89}\u001B[0m\n",
      "\u001B[34m{'loss': 1.7911, 'learning_rate': 2.1316614420062697e-05, 'epoch': 0.89}\u001B[0m\n",
      "\u001B[34m{'loss': 1.8523, 'learning_rate': 2.0689655172413793e-05, 'epoch': 0.9}\u001B[0m\n",
      "\u001B[34m��████▉   | 442/638 [15:46<07:12,  2.21s/it]#015                                                 #015#015 69%|██████▉   | 442/638 [15:46<07:12,  2.21s/it]#015 69%|██████▉   | 443/638 [15:48<06:44,  2.07s/it]#015 70%|██████▉   | 444/638 [15:49<05:55,  1.83s/it]#015                                                 #015#015 70%|██████▉   | 444/638 [15:49<05:55,  1.83s/it]#015 70%|██████▉   | 445/638 [15:51<05:37,  1.75s/it]#015 70%|██████▉   | 446/638 [15:53<05:43,  1.79s/it]#015                                                 #015#015 70%|██████▉   | 446/638 [15:53<05:43,  1.79s/it]#015 70%|███████   | 447/638 [15:54<05:29,  1.72s/it]#015 70%|███████   | 448/638 [15:56<05:08,  1.62s/it]#015                                                 #015#015 70%|███████   | 448/638 [15:56<05:08,  1.62s/it]#015 70%|███████   | 449/638 [15:58<05:46,  1.83s/it]#015 71%|███████   | 450/638 [16:00<05:39,  1.81s/it]#015                                                 #015#015 71%|███████   | 450/638 [16:00<05:39,  1.81s/it]#015 71%|███████   | 451/638 [16:02<06:24,  2.06s/it]#015 71%|███████   | 452/638 [16:04<05:38,  1.82s/it]#015                                                 #015#015 71%|███████   | 452/638 [16:04<05:38,  1.82s/it]#015 71%|███████   | 453/638 [16:05<05:37,  1.83s/it]#015 71%|███████   | 454/638 [16:08<05:57,  1.94s/it]#015                                                 #015#015 71%|███████   | 454/638 [16:08<05:57,  1.94s/it]#015 71%|███████▏  | 455/638 [16:10<05:58,  1.96s/it]#015 71%|███████▏  | 456/638 [16:13<06:53,  2.27s/it]#015                                                 #015#015 71%|███████▏  | 456/638 [16:13<06:53,  2.27s/it]#015 72%|███████▏  | 457/638 [16:20<11:12,  3.72s/it]#015 72%|███████▏  | 458/638 [16:21<09:21,  3.12s/it]#015                                                 #015#015 72%|███████▏  | 458/638 [16:21<09:21,  3.12s/it]#015 72%|███████▏  | 459/638 [16:23<07:56,  2.66s/it]#015 72%|███████▏  | 460/638 [16:25<07:10,  2.42s/it]#015                                                 #015#015 72%|███████▏  | 460/638 [16:25<07:10,  2.42s/it]#015 72%|███████▏  | 461/638 [16:26<06:16,  2.13s/it]#015 72%|███████▏  | 462/638 [16:29<06:42,  2.29s/it]#015                                                 #015#015 72%|███████▏  | 462/638 [16:29<06:42,  2.29s/it]#015 73%|███████▎  | 463/638 [16:31<06:17,  2.16s/it]#015 73%|███████▎  | 464/638 [16:34<07:00,  2.42s/it]#015                                                 #015#015 73%|███████▎  | 464/638 [16:34<07:00,  2.42s/it]#015 73%|███████▎  | 465/638 [16:36<06:38,  2.30s/it]#015 73%|███████▎  | 466/638 [16:38<06:29,  2.27s/it]#015                                                 #015#015 73%|███████▎  | 466/638 [16:38<06:29,  2.27s/it]#015 73%|███████▎  | 467/638 [16:41<06:44,  2.37s/it]#015 73%|███████▎  | 468/638 [16:44<07:26,  2.63s/it]#015                                                 #015#015 73%|███████▎  | 468/638 [16:44<07:26,  2.63s/it]#015 74%|███████▎  | 469/638 [16:47<07:35,  2.70s/it]#015 74%|███████▎  | 470/638 [16:48<06:27,  2.30s/it]#015                                                 #015#015 74%|███████▎  | 470/638 [16:48<06:27,  2.30s/it]#015 74%|███████▍  | 471/638 [16:50<05:41,  2.05s/it]#015 74%|███████▍  | 472/638 [16:52<05:51,  2.12s/it]#015                                                 #015#015 74%|███████▍  | 472/638 [16:52<05:51,  2.12s/it]#015 74%|███████▍  | 473/638 [16:55<06:22,  2.32s/it]#015 74%|███████▍  | 474/638 [16:57<05:58,  2.18s/it]#015                                                 #015#015 74%|███████▍  | 474/638 [16:57<05:58,  2.18s/it]#015 74%|███████▍  | 475/638 [16:58<05:34,  2.05s/it]#015 75%|███████▍  | 476/638 [17:01<05:43,  2.12s/it]#015                                                 #015#015 75%|███████▍  | 476/638 [17:01<05:43,  2.12s/it]#015 75%|███████▍  | 477/638 [17:03<05:45,  2.14s/it]#015 75%|███████▍  | 478/638 [17:04<05:21,  2.01s/it]#015                                                 #015#015 75%|███████▍  | 478/638 [17:04<05:21,  2.01s/it]#015 75%|███████▌  | 479/638 [17:06<05:10,  1.96s/it]#015 75%|███████▌  | 480/638 [17:08<04:37,  1.76s/it]#015                                                 #015#015 75%|███████▌  | 480/638 [17:08<04:37,  1.76s/it]#015 75%|███████▌  | 481/638 [17:09<04:35,  1.76s/it]#015 76%|███████▌  | 482/638 [17:11<04:30,  1.73s/it]#015                                                 #015#015 76%|███████▌  | 482/638 [17:11<04:30,  1.73s/it]#015 76%|███████▌  | 483/638 [17:13<04:49,  1.87s/it]#015 76%|███████▌  | 484/638 [17:15<04:47,  1.87s/it]#015                                                 #015#015 76%|███████▌  | 484/638 [17:15<04:47,  1.87s/it]#015 76%|███████▌  | 485/638 [17:17<04:25,  1.74s/it]#015 76%|███████▌  | 486/638 [17:20<05:21,  2.12s/it]#015                                                 #015#015 76%|███████▌  | 486/638 [17:20<05:21,  2.12s/it]#015 76%|███████▋  | 487/638 [17:21<05:06,  2.03s/it]#015 76%|███████▋  | 488/638 [17:23<04:51,  1.94s/it]#015                                                 #015#015 76%|███████▋  | 488/638 [17:23<04:51,  1.94s/it]#015 77%|███████▋  | 489/638 [17:25<04:39,  1.88s/it]#015 77%|███████▋  | 490/638 [17:28<05:18,  2.15s/it]#015                                                 #015#015 77%|███████▋  | 490/638 [17:28<05:18,  2.15s/it]#015 77%|███████▋  | 491/638 [17:30<05:10,  2.11s/it]#015 77%|███████▋  | 492/638 [17:32<05:09,  2.12s/it]#015                                                 #015#015 77%|███████▋  | 492/638 [17:32<05:09,  2.12s/it]#015 77%|███████▋  | 493/638 [17:34<04:56,  2.05s/it]#015 77%|███████▋  | 494/638 [17:36<04:52,  2.03s/it]#015                                                 #015#015 77%|███████▋  | 494/638 [17:36<04:52,  2.03s/it]#015 78%|███████▊  | 495/638 [17:37<04:42,  1.97s/it]#015 78%|███████▊  | 496/638 [17:39<04:41,  1.98s/it]#015                                                 #015#015 78%|███████▊  | 496/638 [17:39<04:41,  1.98s/it]#015 78%|███████▊  | 497/638 [17:41<04:28,  1.90s/it]#015 78%|███████▊  | 498/638 [17:43<04:35,  1.97s/it]#015                                                 #015#015 78%|███████▊  | 498/638 [17:43<04:35,  1.97s/it]#015 78%|███████▊  | 499/638 [17:46<04:48,  2.07s/it]#015 78%|███████▊  | 500/638 [17:48<04:48,  2.09s/it]#015                                                 #015#015 78%|███████▊  | 500/638 [17:48<04:48,  2.09s/it]#015 79%|███████▊  | 501/638 [17:50<05:08,  2.25s/it]#015 79%|███████▊  | 502/638 [17:52<04:26,  1.96s/it]#015                                                 #015#015 79%|███████▊  | 502/638 [17:52<04:26,  1.96s/it]#015 79%|███████▉  | 503/638 [17:54<04:19,  1.92s/it]#015 79%|███████▉  | 504/638 [17:56<04:28,  2.01s/it]#015                                                 #015#015 79%|███████▉  | 504/638 [17:56<04:28,  2.01s/it]#015 79%|███████▉  | 505/638 [17:58<04:20,  1.96s/it]#015 79%|███████▉  | 506/638 [17:59<04:03,  1.84s/it]#015                                                 #015#015 79%|███████▉  | 506/638 [17:59<04:03,  1.84s/it]#015 79%|███████▉  | 507/638 [18:01<03:49,  1.75s/it]#015 80%|███████▉  | 508/638 [18:03<03:52,  1.79s/it]#015                                                 #015#015 80%|███████▉  | 508/638 [18:03<03:52,  1.79s/it]#015 80%|███████▉  | 509/638 [18:04<03:52,  1.80s/it]#015 80%|███████▉  | 510/638 [18:07<04:09,  1.95s/it]#015                                                 #015#015 80%|███████▉  | 510/638 [18:07<04:09,  1.95s/it]#015 80%|████████  | 511/638 [18:08<03:53,  1.84s/it]#015 80%|████████  | 512/638 [18:10<03:57,  1.88s/it]#015                                                 #015#015 80%|████████  | 512/638 [18:10<03:57,  1.88s/it]#015 80%|████████  | 513/638 [18:13<04:22,  2.10s/it]#015 81%|████████  | 514/638 [18:15<04:12,  2.04s/it]#015                                                 #015#015 81%|████████  | 514/638 [18:15<04:12,  2.04s/it]#015 81%|████████  | 515/638 [18:17<04:03,  1.98s/it]#015 81%|████████  | 516/638 [18:18<03:40,  1.80s/it]#015                                                 #015#015 81%|████████  | 516/638 [18:18<03:40,  1.80s/it]#015 81%|████████  | 517/638 [18:20<03:55,  1.95s/it]#015 81%|████████  | 518/638 [18:22<03:51,  1.93s/it]#015                                                 #015#015 81%|████████  | 518/638 [18:22<03:51,  1.93s/it]#015 81%|████████▏ | 519/638 [18:26<05:04,  2.56s/it]#015 82%|████████▏ | 520/638 [18:28<04:43,  2.40s/it]#015                                                 #015#015 82%|████████▏ | 520/638 [18:28<04:43,  2.40s/it]#015 82%|████████▏ | 521/638 [18:30<04:15,  2.18s/it]#015 82%|████████▏ | 522/638 [18:31<03:47,  1.96s/it]#015                                                 #015#015 82%|████████▏ | 522/638 [18:31<03:47,  1.96s/it]#015 82%|████████▏ | 523/638 [18:33<03:46,  1.97s/it]#015 82%|████████▏ | 524/638 [18:36<03:52,  2.04s/it]#015                                                 #015#015 82%|████████▏ | 524/638 [18:36<03:52,  2.04s/it]#015 82%|████████▏ | 525/638 [18:43<06:42,  3.56s/it]#015 82%|████████▏ | 526/638 [18:44<05:36,  3.00s/it]#015                                                 #015#015 82%|████████▏ | 526/638 [18:44<05:36,  3.00s/it]#015 83%|████████▎ | 527/638 [18:46<04:45,  2.57s/it]#015 83%|████████▎ | 528/638 [18:48<04:23,  2.40s/it]#015                                                 #015#015 83%|████████▎ | 528/638 [18:48<04:23,  2.40s/it]#015 83%|████████▎ | 529/638 [18:50<04:02,  2.23s/it]#015 83%|████████▎ | 530/638 [18:51<03:45,  2.09s/it]#015                                                 #015#015 83%|████████▎ | 530/638 [18:51<03:45,  2.09s/it]#015 83%|████████▎ | 531/638 [18:53<03:22,  1.89s/it]#015 83%|████████▎ | 532/638 [18:55<03:19,  1.89s/it]#015                                                 #015#015 83%|████████▎ | 532/638 [18:55<03:19,  1.89s/it]#015 84%|████████▎ | 533/638 [18:56<03:04,  1.76s/it]#015 84%|████████▎ | 534/638 [18:59<03:20,  1.92s/it]#015                                                 #015#015 84%|████████▎ | 534/638 [18:59<03:20,  1.92s/it]#015 84%|████████▍ | 535/638 [19:01<03:25,  2.00s/it]#015 84%|████████▍ | 536/638 [19:02<03:09,  1.86s/it]#015                                                 #015#015 84%|████████▍ | 536/638 [19:02<03:09,  1.86s/it]#015 84%|████████▍ | 537/638 [19:04<03:03,  1.82s/it]#015 84%|████████▍ | 538/638 [19:06<02:55,  1.75s/it]#015                                                 #015#015 84%|████████▍ | 538/638 [19:06<02:55,  1.75s/it]#015 84%|████████▍ | 539/638 [19:08<03:10,  1.92s/it]#015 85%|████████▍ | 540/638 [19:10<03:11,  1.96s/it]#015                                                 #015#015 85%|████████▍ | 540/638 [19:10<03:11,  1.96s/it]#015 85%|████████▍ | 541/638 [19:11<02:57,  1.83s/it]#015 85%|████████▍ | 542/638 [19:13<03:00,  1.89s/it]#015                                                 #015#015 85%|████████▍ | 542/638 [19:13<03:00,  1.89s/it]#015 85%|████████▌ | 543/638 [19:15<02:46,  1.75s/it]#015 85%|████████▌ | 544/638 [19:17<02:52,  1.84s/it]#015                                                 #015#015 85%|████████▌ | 544/638 [19:17<02:52,  1.84s/it]#015 85%|████████▌ | 545/638 [19:19<03:09,  2.04s/it]#015 86%|████████▌ | 546/638 [19:24<04:11,  2.74s/it]#015                                                 #015#015 86%|████████▌ | 546/638 [19:24<04:11,  2.74s/it]#015 86%|████████▌ | 547/638 [19:26<03:58,  2.62s/it]#015 86%|████████▌ | 548/638 [19:28<03:39,  2.44s/it]#015                                                 #015#015 86%|████████▌ | 548/638 [19:28<03:39,  2.44s/it]#015 86%|████████▌ | 549/638 [19:30<03:25,  2.31s/it]#015 86%|████████▌ | 550/638 [19:32<02:58,  2.03s/it]#015                                                 #015#015 86%|████████▌ | 550/638 [19:32<02:58,  2.03s/it]#015 86%|████████▋ | 551/638 [19:33<02:32,  1.75s/it]#015 87%|████████▋ | 552/638 [19:35<02:40,  1.87s/it]#015                                                 #015#015 87%|████████▋ | 552/638 [19:35<02:40,  1.87s/it]#015 87%|████████▋ | 553/638 [19:40<03:55,  2.77s/it]#015 87%|████████▋ | 554/638 [19:43<04:04,  2.91s/it]#015                                                 #015#015 87%|████████▋ | 554/638 [19:43<04:04,  2.91s/it]#015 87%|████████▋ | 555/638 [19:46<03:58,  2.87s/it]#015 87%|████████▋ | 556/638 [19:48<03:45,  2.75s/it]#015                                                 #015#015 87%|████████▋ | 556/638 [19:48<03:45,  2.75s/it]#015 87%|████████▋ | 557/638 [19:50<03:31,  2.61s/it]#015 87%|████████▋ | 558/638 [19:52<03:14,  2.44s/it]#015                                                 #015#015 87%|████████▋ | 558/638 [19:52<03:14,  2.44s/it]#015 88%|████████▊ | 559/638 [19:54<02:52,  2.18s/it]#015 88%|████████▊ | 560/638 [19:55<02:24,  1.86s/it]#015                                                 #015#015 88%|████████▊ | 560/638 [19:55<02:24,  1.86s/it]#015 88%|████████▊ | 561/638 [19:57<02:23,  1.87s/it]#015 88%|████████▊ | 562/638 [19:59<02:15,  1.78s/it]#015                                                 #015#015 88%|████████▊ | 562/638 [19:59<02:15,  1.78s/it]#015 88%|████████▊ | 563/638 [20:00<02:08,  1.71s/it]#015 88%|████████▊ | 564/638 [20:02<02:09,  1.75s/it]#015                                                 #015#015 88%|████████▊ | 564/638 [20:02<02:09,  1.75s/it]#015 89%|████████▊ | 565/638 [20:03<01:59,  1.63s/it]#015 89%|████████▊ | 566/638 [20:05<02:02,  1.70s/it]#015                                                 #015#015 89%|████████▊ | 566/638 [20:05<02:02,  1.70s/it]#015 89%|████████▉ | 567/638 [20:08<02:13,  1.88s/it]#015 89%|████████▉ | 568/638 [20:10<02:17,  1.96s/it]#015                                                 #015#015 89%|████████▉ | 568/638 [20:10<02:17,  1.96s/it]#015 89%|████████▉ | 569/638 [20:12<02:12,  1.92s/it]#015 89%|████████▉ | 570/638 [20:13<02:06,  1.86s/it]#015                                                 #015#015 89%|████████▉ | 570/638 [20:13<02:06,  1.86s/it]#015 89%|████████▉ | 571/638 [20:15<02:07,  1.90s/it]#015 90%|████████▉ | 572/638 [20:17<02:01,  1.84s/it]#015                      \u001B[0m\n",
      "\u001B[34m{'loss': 1.9254, 'learning_rate': 2.006269592476489e-05, 'epoch': 0.9}\u001B[0m\n",
      "\u001B[34m{'loss': 1.7063, 'learning_rate': 1.9435736677115986e-05, 'epoch': 0.9}\u001B[0m\n",
      "\u001B[34m{'loss': 1.7447, 'learning_rate': 1.8808777429467086e-05, 'epoch': 0.91}\u001B[0m\n",
      "\u001B[34m{'loss': 1.789, 'learning_rate': 1.8181818181818182e-05, 'epoch': 0.91}\u001B[0m\n",
      "\u001B[34m{'loss': 1.8936, 'learning_rate': 1.755485893416928e-05, 'epoch': 0.91}\u001B[0m\n",
      "\u001B[34m{'loss': 1.7021, 'learning_rate': 1.6927899686520378e-05, 'epoch': 0.92}\u001B[0m\n",
      "\u001B[34m{'loss': 1.8301, 'learning_rate': 1.6300940438871475e-05, 'epoch': 0.92}\u001B[0m\n",
      "\u001B[34m{'loss': 1.8697, 'learning_rate': 1.5673981191222574e-05, 'epoch': 0.92}\u001B[0m\n",
      "\u001B[34m{'loss': 1.7033, 'learning_rate': 1.5047021943573669e-05, 'epoch': 0.92}\u001B[0m\n",
      "\u001B[34m{'loss': 1.9564, 'learning_rate': 1.4420062695924765e-05, 'epoch': 0.93}\u001B[0m\n",
      "\u001B[34m{'loss': 1.9085, 'learning_rate': 1.3793103448275863e-05, 'epoch': 0.93}\u001B[0m\n",
      "\u001B[34m{'loss': 1.9958, 'learning_rate': 1.316614420062696e-05, 'epoch': 0.93}\u001B[0m\n",
      "\u001B[34m{'loss': 1.9467, 'learning_rate': 1.2539184952978056e-05, 'epoch': 0.94}\u001B[0m\n",
      "\u001B[34m{'loss': 2.0175, 'learning_rate': 1.1912225705329154e-05, 'epoch': 0.94}\u001B[0m\n",
      "\u001B[34m{'loss': 1.8099, 'learning_rate': 1.1285266457680252e-05, 'epoch': 0.94}\u001B[0m\n",
      "\u001B[34m{'loss': 1.9181, 'learning_rate': 1.0658307210031348e-05, 'epoch': 0.95}\u001B[0m\n",
      "\u001B[34m{'loss': 1.8655, 'learning_rate': 1.0031347962382445e-05, 'epoch': 0.95}\u001B[0m\n",
      "\u001B[34m{'loss': 1.9006, 'learning_rate': 9.404388714733543e-06, 'epoch': 0.95}\u001B[0m\n",
      "\u001B[34m{'loss': 1.7951, 'learning_rate': 8.77742946708464e-06, 'epoch': 0.96}\u001B[0m\n",
      "\u001B[34m{'loss': 1.8311, 'learning_rate': 8.150470219435737e-06, 'epoch': 0.96}\u001B[0m\n",
      "\u001B[34m{'loss': 1.6148, 'learning_rate': 7.5235109717868345e-06, 'epoch': 0.96}\u001B[0m\n",
      "\u001B[34m{'loss': 1.8201, 'learning_rate': 6.896551724137932e-06, 'epoch': 0.97}\u001B[0m\n",
      "\u001B[34m{'loss': 1.8954, 'learning_rate': 6.269592476489028e-06, 'epoch': 0.97}\u001B[0m\n",
      "\u001B[34m{'loss': 1.7439, 'learning_rate': 5.642633228840126e-06, 'epoch': 0.97}\u001B[0m\n",
      "\u001B[34m{'loss': 1.8645, 'learning_rate': 5.015673981191222e-06, 'epoch': 0.97}\u001B[0m\n",
      "\u001B[34m{'loss': 1.948, 'learning_rate': 4.38871473354232e-06, 'epoch': 0.98}\u001B[0m\n",
      "\u001B[34m{'loss': 1.7299, 'learning_rate': 3.7617554858934172e-06, 'epoch': 0.98}\u001B[0m\n",
      "\u001B[34m{'loss': 1.5898, 'learning_rate': 3.134796238244514e-06, 'epoch': 0.98}\u001B[0m\n",
      "\u001B[34m{'loss': 1.895, 'learning_rate': 2.507836990595611e-06, 'epoch': 0.99}\u001B[0m\n",
      "\u001B[34m{'loss': 1.7681, 'learning_rate': 1.8808777429467086e-06, 'epoch': 0.99}\u001B[0m\n",
      "\u001B[34m{'loss': 1.7969, 'learning_rate': 1.2539184952978056e-06, 'epoch': 0.99}\u001B[0m\n",
      "\u001B[34m{'loss': 1.8126, 'learning_rate': 6.269592476489028e-07, 'epoch': 1.0}\u001B[0m\n",
      "\u001B[34m{'loss': 1.6863, 'learning_rate': 0.0, 'epoch': 1.0}\u001B[0m\n",
      "\u001B[34m{'train_runtime': 1351.1874, 'train_samples_per_second': 3.775, 'train_steps_per_second': 0.472, 'train_loss': 1.8704990103700692, 'epoch': 1.0}\n",
      "                           #015#015 90%|████████▉ | 572/638 [20:17<02:01,  1.84s/it]#015 90%|████████▉ | 573/638 [20:18<01:50,  1.70s/it]#015 90%|████████▉ | 574/638 [20:20<01:54,  1.79s/it]#015                                                 #015#015 90%|████████▉ | 574/638 [20:20<01:54,  1.79s/it]#015 90%|█████████ | 575/638 [20:23<02:00,  1.91s/it]#015 90%|█████████ | 576/638 [20:25<02:03,  1.99s/it]#015                                                 #015#015 90%|█████████ | 576/638 [20:25<02:03,  1.99s/it]#015 90%|█████████ | 577/638 [20:26<01:50,  1.81s/it]#015 91%|█████████ | 578/638 [20:28<01:51,  1.86s/it]#015                                                 #015#015 91%|█████████ | 578/638 [20:28<01:51,  1.86s/it]#015 91%|█████████ | 579/638 [20:31<02:10,  2.20s/it]#015 91%|█████████ | 580/638 [20:33<01:54,  1.98s/it]#015                                                 #015#015 91%|█████████ | 580/638 [20:33<01:54,  1.98s/it]#015 91%|█████████ | 581/638 [20:35<01:53,  1.99s/it]#015 91%|█████████ | 582/638 [20:38<02:08,  2.30s/it]#015                                                 #015#015 91%|█████████ | 582/638 [20:38<02:08,  2.30s/it]#015 91%|█████████▏| 583/638 [20:39<01:52,  2.04s/it]#015 92%|█████████▏| 584/638 [20:40<01:39,  1.85s/it]#015                                                 #015#015 92%|█████████▏| 584/638 [20:40<01:39,  1.85s/it]#015 92%|█████████▏| 585/638 [20:43<01:45,  2.00s/it]#015 92%|█████████▏| 586/638 [20:45<01:51,  2.15s/it]#015                                                 #015#015 92%|█████████▏| 586/638 [20:45<01:51,  2.15s/it]#015 92%|█████████▏| 587/638 [20:47<01:47,  2.11s/it]#015 92%|█████████▏| 588/638 [20:49<01:39,  1.98s/it]#015                                                 #015#015 92%|█████████▏| 588/638 [20:49<01:39,  1.98s/it]#015 92%|█████████▏| 589/638 [20:51<01:31,  1.86s/it]#015 92%|█████████▏| 590/638 [20:53<01:33,  1.95s/it]#015                                                 #015#015 92%|█████████▏| 590/638 [20:53<01:33,  1.95s/it]#015 93%|█████████▎| 591/638 [20:54<01:25,  1.83s/it]#015 93%|█████████▎| 592/638 [20:57<01:33,  2.03s/it]#015                                                 #015#015 93%|█████████▎| 592/638 [20:57<01:33,  2.03s/it]#015 93%|█████████▎| 593/638 [20:58<01:21,  1.81s/it]#015 93%|█████████▎| 594/638 [20:59<01:12,  1.64s/it]#015                                                 #015#015 93%|█████████▎| 594/638 [20:59<01:12,  1.64s/it]#015 93%|█████████▎| 595/638 [21:01<01:17,  1.79s/it]#015 93%|█████████▎| 596/638 [21:04<01:20,  1.91s/it]#015                                                 #015#015 93%|█████████▎| 596/638 [21:04<01:20,  1.91s/it]#015 94%|█████████▎| 597/638 [21:07<01:31,  2.24s/it]#015 94%|█████████▎| 598/638 [21:09<01:30,  2.25s/it]#015                                                 #015#015 94%|█████████▎| 598/638 [21:09<01:30,  2.25s/it]#015 94%|█████████▍| 599/638 [21:10<01:19,  2.04s/it]#015 94%|█████████▍| 600/638 [21:14<01:30,  2.39s/it]#015                                                 #015#015 94%|█████████▍| 600/638 [21:14<01:30,  2.39s/it]#015 94%|█████████▍| 601/638 [21:15<01:18,  2.13s/it]#015 94%|█████████▍| 602/638 [21:17<01:10,  1.97s/it]#015                                                 #015#015 94%|█████████▍| 602/638 [21:17<01:10,  1.97s/it]#015 95%|█████████▍| 603/638 [21:18<01:04,  1.85s/it]#015 95%|█████████▍| 604/638 [21:20<01:02,  1.85s/it]#015                                                 #015#015 95%|█████████▍| 604/638 [21:20<01:02,  1.85s/it]#015 95%|█████████▍| 605/638 [21:22<01:01,  1.86s/it]#015 95%|█████████▍| 606/638 [21:25<01:05,  2.05s/it]#015                                                 #015#015 95%|█████████▍| 606/638 [21:25<01:05,  2.05s/it]#015 95%|█████████▌| 607/638 [21:27<01:03,  2.04s/it]#015 95%|█████████▌| 608/638 [21:29<01:08,  2.29s/it]#015                                                 #015#015 95%|█████████▌| 608/638 [21:29<01:08,  2.29s/it]#015 95%|█████████▌| 609/638 [21:31<01:01,  2.10s/it]#015 96%|█████████▌| 610/638 [21:33<00:57,  2.04s/it]#015                                                 #015#015 96%|█████████▌| 610/638 [21:33<00:57,  2.04s/it]#015 96%|█████████▌| 611/638 [21:34<00:47,  1.76s/it]#015 96%|█████████▌| 612/638 [21:36<00:45,  1.75s/it]#015                                                 #015#015 96%|█████████▌| 612/638 [21:36<00:45,  1.75s/it]#015 96%|█████████▌| 613/638 [21:38<00:45,  1.83s/it]#015 96%|█████████▌| 614/638 [21:40<00:43,  1.83s/it]#015                                                 #015#015 96%|█████████▌| 614/638 [21:40<00:43,  1.83s/it]#015 96%|█████████▋| 615/638 [21:41<00:41,  1.80s/it]#015 97%|█████████▋| 616/638 [21:43<00:39,  1.82s/it]#015                                                 #015#015 97%|█████████▋| 616/638 [21:43<00:39,  1.82s/it]#015 97%|█████████▋| 617/638 [21:46<00:42,  2.01s/it]#015 97%|█████████▋| 618/638 [21:47<00:38,  1.92s/it]#015                                                 #015#015 97%|█████████▋| 618/638 [21:47<00:38,  1.92s/it]#015 97%|█████████▋| 619/638 [21:49<00:37,  1.95s/it]#015 97%|█████████▋| 620/638 [21:51<00:33,  1.84s/it]#015                                                 #015#015 97%|█████████▋| 620/638 [21:51<00:33,  1.84s/it]#015 97%|█████████▋| 621/638 [21:54<00:35,  2.08s/it]#015 97%|█████████▋| 622/638 [21:58<00:43,  2.69s/it]#015                                                 #015#015 97%|█████████▋| 622/638 [21:58<00:43,  2.69s/it]#015 98%|█████████▊| 623/638 [22:01<00:40,  2.71s/it]#015 98%|█████████▊| 624/638 [22:02<00:33,  2.36s/it]#015                                                 #015#015 98%|█████████▊| 624/638 [22:02<00:33,  2.36s/it]#015 98%|█████████▊| 625/638 [22:05<00:31,  2.44s/it]#015 98%|█████████▊| 626/638 [22:07<00:27,  2.30s/it]#015                                                 #015#015 98%|█████████▊| 626/638 [22:07<00:27,  2.30s/it]#015 98%|█████████▊| 627/638 [22:09<00:23,  2.16s/it]#015 98%|█████████▊| 628/638 [22:11<00:21,  2.16s/it]#015                                                 #015#015 98%|█████████▊| 628/638 [22:11<00:21,  2.16s/it]#015 99%|█████████▊| 629/638 [22:15<00:25,  2.82s/it]#015 99%|█████████▊| 630/638 [22:17<00:19,  2.49s/it]#015                                                 #015#015 99%|█████████▊| 630/638 [22:17<00:19,  2.49s/it]#015 99%|█████████▉| 631/638 [22:18<00:15,  2.17s/it]#015 99%|█████████▉| 632/638 [22:20<00:11,  1.98s/it]#015                                                 #015#015 99%|█████████▉| 632/638 [22:20<00:11,  1.98s/it]#015 99%|█████████▉| 633/638 [22:21<00:09,  1.91s/it]#015 99%|█████████▉| 634/638 [22:24<00:08,  2.10s/it]#015                                                 #015#015 99%|█████████▉| 634/638 [22:24<00:08,  2.10s/it]#015100%|█████████▉| 635/638 [22:26<00:05,  1.94s/it]#015100%|█████████▉| 636/638 [22:27<00:03,  1.90s/it]#015                                                 #015#015100%|█████████▉| 636/638 [22:27<00:03,  1.90s/it]#015100%|█████████▉| 637/638 [22:29<00:01,  1.79s/it]#015100%|██████████| 638/638 [22:31<00:00,  1.78s/it]#015                                                 #015#015100%|██████████| 638/638 [22:31<00:00,  1.78s/it]#015                                                 #015#015100%|██████████| 638/638 [22:31<00:00,  1.78s/it]#015100%|██████████| 638/638 [22:31<00:00,  2.12s/it]\u001B[0m\n",
      "\n",
      "2023-09-02 15:50:21 Uploading - Uploading generated training model\u001B[34m#015  0%|          | 0/274 [00:00<?, ?it/s]#015  1%|          | 2/274 [00:00<01:07,  4.01it/s]#015  1%|          | 3/274 [00:01<01:40,  2.69it/s]#015  1%|▏         | 4/274 [00:01<02:12,  2.03it/s]#015  2%|▏         | 5/274 [00:03<04:07,  1.09it/s]#015  2%|▏         | 6/274 [00:03<03:27,  1.29it/s]#015  3%|▎         | 7/274 [00:04<03:19,  1.34it/s]#015  3%|▎         | 8/274 [00:05<03:01,  1.46it/s]#015  3%|▎         | 9/274 [00:05<03:09,  1.40it/s]#015  4%|▎         | 10/274 [00:06<02:49,  1.56it/s]#015  4%|▍         | 11/274 [00:06<02:41,  1.63it/s]#015  4%|▍         | 12/274 [00:08<03:21,  1.30it/s]#015  5%|▍         | 13/274 [00:08<03:07,  1.39it/s]#015  5%|▌         | 14/274 [00:09<02:46,  1.56it/s]#015  5%|▌         | 15/274 [00:09<02:40,  1.61it/s]#015  6%|▌         | 16/274 [00:10<02:44,  1.57it/s]#015  6%|▌         | 17/274 [00:10<02:28,  1.73it/s]#015  7%|▋         | 18/274 [00:11<02:20,  1.82it/s]#015  7%|▋         | 19/274 [00:11<02:25,  1.75it/s]#015  7%|▋         | 20/274 [00:12<02:29,  1.70it/s]#015  8%|▊         | 21/274 [00:13<02:37,  1.60it/s]#015  8%|▊         | 22/274 [00:13<02:31,  1.66it/s]#015  8%|▊         | 23/274 [00:15<03:21,  1.25it/s]#015  9%|▉         | 24/274 [00:15<03:16,  1.27it/s]#015  9%|▉         | 25/274 [00:16<03:13,  1.29it/s]#015  9%|▉         | 26/274 [00:17<02:55,  1.41it/s]#015 10%|▉         | 27/274 [00:19<04:29,  1.09s/it]#015 10%|█         | 28/274 [00:20<04:28,  1.09s/it]#015 11%|█         | 29/274 [00:20<03:46,  1.08it/s]#015 11%|█         | 30/274 [00:21<03:10,  1.28it/s]#015 11%|█▏        | 31/274 [00:21<02:44,  1.48it/s]#015 12%|█▏        | 32/274 [00:22<02:58,  1.36it/s]#015 12%|█▏        | 33/274 [00:23<03:02,  1.32it/s]#015 12%|█▏        | 34/274 [00:24<03:06,  1.29it/s]#015 13%|█▎        | 35/274 [00:24<02:51,  1.39it/s]#015 13%|█▎        | 36/274 [00:25<02:34,  1.54it/s]#015 14%|█▎        | 37/274 [00:25<02:31,  1.57it/s]#015 14%|█▍        | 38/274 [00:26<02:22,  1.65it/s]#015 14%|█▍        | 39/274 [00:26<02:13,  1.76it/s]#015 15%|█▍        | 40/274 [00:28<02:55,  1.34it/s]#015 15%|█▍        | 41/274 [00:28<02:53,  1.34it/s]#015 15%|█▌        | 42/274 [00:29<02:35,  1.49it/s]#015 16%|█▌        | 43/274 [00:29<02:22,  1.62it/s]#015 16%|█▌        | 44/274 [00:30<02:12,  1.73it/s]#015 16%|█▋        | 45/274 [00:30<02:14,  1.70it/s]#015 17%|█▋        | 46/274 [00:31<02:12,  1.72it/s]#015 17%|█▋        | 47/274 [00:31<02:11,  1.72it/s]#015 18%|█▊        | 48/274 [00:32<02:26,  1.54it/s]#015 18%|█▊        | 49/274 [00:33<02:16,  1.65it/s]#015 18%|█▊        | 50/274 [00:33<02:16,  1.64it/s]#015 19%|█▊        | 51/274 [00:35<02:50,  1.31it/s]#015 19%|█▉        | 52/274 [00:35<02:45,  1.34it/s]#015 19%|█▉        | 53/274 [00:36<02:40,  1.38it/s]#015 20%|█▉        | 54/274 [00:37<02:32,  1.44it/s]#015 20%|██        | 55/274 [00:38<02:49,  1.29it/s]#015 20%|██        | 56/274 [00:38<02:37,  1.39it/s]#015 21%|██        | 57/274 [00:39<02:32,  1.42it/s]#015 21%|██        | 58/274 [00:39<02:29,  1.45it/s]#015 22%|██▏       | 59/274 [00:40<02:21,  1.52it/s]#015 22%|██▏       | 60/274 [00:41<02:13,  1.60it/s]#015 22%|██▏       | 61/274 [00:41<02:07,  1.67it/s]#015 23%|██▎       | 62/274 [00:42<02:48,  1.26it/s]#015 23%|██▎       | 63/274 [00:43<02:41,  1.30it/s]#015 23%|██▎       | 64/274 [00:44<02:37,  1.33it/s]#015 24%|██▎       | 65/274 [00:44<02:32,  1.37it/s]#015 24%|██▍       | 66/274 [00:45<02:17,  1.51it/s]#015 24%|██▍       | 67/274 [00:46<02:10,  1.58it/s]#015 25%|██▍       | 68/274 [00:46<02:04,  1.65it/s]#015 25%|██▌       | 69/274 [00:47<02:04,  1.64it/s]#015 26%|██▌       | 70/274 [00:47<01:57,  1.74it/s]#015 26%|██▌       | 71/274 [00:48<01:56,  1.74it/s]#015 26%|██▋       | 72/274 [00:48<01:45,  1.92it/s]#015 27%|██▋       | 73/274 [00:49<02:19,  1.44it/s]#015 27%|██▋       | 74/274 [00:50<02:03,  1.62it/s]#015 27%|██▋       | 75/274 [00:50<02:05,  1.59it/s]#015 28%|██▊       | 76/274 [00:51<02:21,  1.40it/s]#015 28%|██▊       | 77/274 [00:52<02:15,  1.45it/s]#015 28%|██▊       | 78/274 [00:52<02:06,  1.55it/s]#015 29%|██▉       | 79/274 [00:53<02:24,  1.35it/s]#015 29%|██▉       | 80/274 [00:54<02:25,  1.33it/s]#015 30%|██▉       | 81/274 [00:55<02:18,  1.40it/s]#015 30%|██▉       | 82/274 [00:55<02:07,  1.51it/s]#015 30%|███       | 83/274 [00:56<02:01,  1.57it/s]#015 31%|███       | 84/274 [00:56<01:53,  1.68it/s]#015 31%|███       | 85/274 [00:57<01:41,  1.87it/s]#015 31%|███▏      | 86/274 [00:57<01:42,  1.84it/s]#015 32%|███▏      | 87/274 [00:58<01:40,  1.86it/s]#015 32%|███▏      | 88/274 [00:58<01:37,  1.90it/s]#015 32%|███▏      | 89/274 [00:59<01:36,  1.91it/s]#015 33%|███▎      | 90/274 [01:00<01:50,  1.66it/s]#015 33%|███▎      | 91/274 [01:01<02:04,  1.47it/s]#015 34%|███▎      | 92/274 [01:02<02:20,  1.30it/s]#015 34%|███▍      | 93/274 [01:02<02:05,  1.44it/s]#015 34%|███▍      | 94/274 [01:03<01:56,  1.54it/s]#015 35%|███▍      | 95/274 [01:03<02:03,  1.45it/s]#015 35%|███▌      | 96/274 [01:06<03:21,  1.13s/it]#015 35%|███▌      | 97/274 [01:06<02:50,  1.04it/s]#015 36%|███▌      | 98/274 [01:08<03:42,  1.27s/it]#015 36%|███▌      | 99/274 [01:09<03:12,  1.10s/it]#015 36%|███▋      | 100/274 [01:09<02:39,  1.09it/s]#015 37%|███▋      | 101/274 [01:10<02:19,  1.24it/s]#015 37%|███▋      | 102/274 [01:11<02:19,  1.24it/s]#015 38%|███▊      | 103/274 [01:11<02:13,  1.28it/s]#015 38%|███▊      | 104/274 [01:12<02:24,  1.18it/s]#015 38%|███▊      | 105/274 [01:13<02:11,  1.29it/s]#015 39%|███▊      | 106/274 [01:14<02:06,  1.32it/s]#015 39%|███▉      | 107/274 [01:14<01:56,  1.44it/s]#015 39%|███▉      | 108/274 [01:15<01:53,  1.46it/s]#015 40%|███▉      | 109/274 [01:15<01:48,  1.53it/s]#015 40%|████      | 110/274 [01:17<02:24,  1.14it/s]#015 41%|████      | 111/274 [01:17<02:07,  1.28it/s]#015 41%|████      | 112/274 [01:18<01:54,  1.41it/s]#015 41%|████      | 113/274 [01:18<01:40,  1.60it/s]#015 42%|████▏     | 114/274 [01:19<01:33,  1.71it/s]#015 42%|████▏     | 115/274 [01:20<01:36,  1.65it/s]#015 42%|████▏     | 116/274 [01:20<01:34,  1.67it/s]#015 43%|████▎     | 117/274 [01:21<01:28,  1.77it/s]#015 43%|████▎     | 118/274 [01:21<01:30,  1.73it/s]#015 43%|████▎     | 119/274 [01:22<01:39,  1.56it/s]#015 44%|████▍     | 120/274 [01:23<01:38,  1.56it/s]#015 44%|████▍     | 121/274 [01:23<01:39,  1.54it/s]#015 45%|████▍     | 122/274 [01:25<02:43,  1.07s/it]#015 45%|████▍     | 123/274 [01:26<02:23,  1.05it/s]#015 45%|████▌     | 124/274 [01:27<02:10,  1.15it/s]#015 46%|████▌     | 125/274 [01:27<02:02,  1.22it/s]#015 46%|████▌     | 126/274 [01:28<01:48,  1.36it/s]#015 46%|████▋     | 127/274 [01:29<01:42,  1.43it/s]#015 47%|████▋     | 128/274 [01:30<01:58,  1.23it/s]#015 47%|████▋     | 129/274 [01:30<01:49,  1.33it/s]#015 47%|████▋     | 130/274 [01:31<01:56,  1.24it/s]#015 48%|████▊     | 131/274 [01:32<01:42,  1.39it/s]#015 48%|████▊     | 132/274 [01:32<01:37,  1.46it/s]#015 49%|████▊     | 133/274 [01:33<01:34,  1.50it/s]#015 49%|████▉     | 134/274 [01:34<01:29,  1.56it/s]#015 49%|████▉     | 135/274 [01:34<01:24,  1.65it/s]#015 50%|████▉     | 136/274 [01:34<01:16,  1.81it/s]#015 50%|█████     | 137/274 [01:35<01:13,  1.87it/s]#015 50%|█████     | 138/274 [01:36<01:21,  1.67it/s]#015 51%|█████     | 139/274 [01:38<02:20,  1.04s/it]#015 51%|█████     | 140/274 [01:39<02:06,  1.06it/s]#015 51%|█████▏    | 141/274 [01:39<02:01,  1.10it/s]#015 52%|█████▏    | 142/274 [01:40<01:49,  1.20it/s]#015 52%|█████▏    | 143/274 [01:41<01:36,  1.36it/s]#015 53%|█████▎    | 144/274 [01:41<01:27,  1.49it/s]#015 53%|█████▎    | 145/274 [01:42<01:29,  1.44it/s]#015 53%|█████▎    | 146/274 [01:43<01:31,  1.39it/s]#015 54%|█████▎    | 147/274 [01:43<01:36,  1.32it/s]#015 54%|█████▍    | 148/274 [01:44<01:29,  1.41it/s]#015 54%|█████▍    | 149/274 [01:45<01:28,  1.41it/s]#015 55%|█████▍    | 150/274 [01:45<01:17,  1.59it/s]#015 55%|█████▌    | 151/274 [01:46<01:33,  1.31it/s]#015 55%|█████▌    | 152/274 [01:47<01:25,  1.42it/s]#015 56%|█████▌    | 153/274 [01:47<01:20,  1.50it/s]#015 56%|█████▌    | 154/274 [01:48<01:18,  1.54it/s]#015 57%|█████▋    | 155/274 [01:49<01:26,  1.38it/s]#015 57%|█████▋    | 156/274 [01:49<01:20,  1.46it/s]#015 57%|█████▋    | 157/274 [01:50<01:28,  1.33it/s]#015 58%|█████▊    | 158/274 [01:51<01:20,  1.43it/s]#015 58%|█████▊    | 159/274 [01:52<01:19,  1.45it/s]#015 58%|█████▊    | 160/274 [01:52<01:20,  1.41it/s]#015 59%|█████▉    | 161/274 [01:53<01:17,  1.46it/s]#015 59%|█████▉    | 162/274 [01:54<01:10,  1.59it/s]#015 59%|█████▉    | 163/274 [01:54<01:09,  1.60it/s]#015 60%|█████▉    | 164/274 [01:54<01:00,  1.83it/s]#015 60%|██████    | 165/274 [01:55<01:00,  1.81it/s]#015 61%|██████    | 166/274 [01:56<01:01,  1.74it/s]#015 61%|██████    | 167/274 [01:56<01:00,  1.77it/s]#015 61%|██████▏   | 168/274 [01:57<01:00,  1.77it/s]#015 62%|██████▏   | 169/274 [01:58<01:05,  1.60it/s]#015 62%|██████▏   | 170/274 [01:58<00:59,  1.75it/s]#015 62%|██████▏   | 171/274 [01:59<01:00,  1.71it/s]#015 63%|██████▎   | 172/274 [01:59<01:00,  1.68it/s]#015 63%|██████▎   | 173/274 [02:00<00:56,  1.80it/s]#015 64%|██████▎   | 174/274 [02:00<00:57,  1.75it/s]#015 64%|██████▍   | 175/274 [02:01<00:55,  1.78it/s]#015 64%|██████▍   | 176/274 [02:01<00:54,  1.80it/s]#015 65%|██████▍   | 177/274 [02:02<00:55,  1.74it/s]#015 65%|██████▍   | 178/274 [02:03<00:54,  1.75it/s]#015 65%|██████▌   | 179/274 [02:03<00:51,  1.83it/s]#015 66%|██████▌   | 180/274 [02:04<01:06,  1.40it/s]#015 66%|██████▌   | 181/274 [02:05<01:01,  1.52it/s]#015 66%|██████▋   | 182/274 [02:05<00:59,  1.56it/s]#015 67%|██████▋   | 183/274 [02:06<00:55,  1.63it/s]#015 67%|██████▋   | 184/274 [02:06<00:55,  1.62it/s]#015 68%|██████▊   | 185/274 [02:07<00:54,  1.62it/s]#015 68%|██████▊   | 186/274 [02:08<00:52,  1.69it/s]#015 68%|██████▊   | 187/274 [02:08<00:50,  1.73it/s]#015 69%|██████▊   | 188/274 [02:09<00:51,  1.65it/s]#015 69%|██████▉   | 189/274 [02:09<00:50,  1.67it/s]#015 69%|██████▉   | 190/274 [02:10<00:48,  1.72it/s]#015 70%|██████▉   | 191/274 [02:10<00:45,  1.81it/s]#015 70%|███████   | 192/274 [02:11<00:48,  1.70it/s]#015 70%|███████   | 193/274 [02:12<00:50,  1.61it/s]#015 71%|███████   | 194/274 [02:12<00:48,  1.66it/s]#015 71%|███████   | 195/274 [02:14<01:21,  1.03s/it]#015 72%|███████▏  | 196/274 [02:15<01:11,  1.09it/s]#015 72%|███████▏  | 197/274 [02:16<01:12,  1.06it/s]#015 72%|███████▏  | 198/274 [02:17<01:03,  1.20it/s]#015 73%|███████▎  | 199/274 [02:17<00:58,  1.28it/s]#015 73%|███████▎  | 200/274 [02:18<00:56,  1.32it/s]#015 73%|███████▎  | 201/274 [02:20<01:24,  1.15s/it]#015 74%|███████▎  | 202/274 [02:21<01:12,  1.01s/it]#015 74%|███████▍  | 203/274 [02:22<01:06,  1.06it/s]#015 74%|███████▍  | 204/274 [02:22<00:55,  1.27it/s]#015 75%|███████▍  | 205/274 [02:22<00:48,  1.41it/s]#015 75%|███████▌  | 206/274 [02:23<00:44,  1.53it/s]#015 76%|███████▌  | 207/274 [02:24<00:43,  1.55it/s]#015 76%|███████▌  | 208/274 [02:24<00:39,  1.68it/s]#015 76%|███████▋  | 209/274 [02:25<00:37,  1.74it/s]#015 77%|███████▋  | 210/274 [02:25<00:36,  1.75it/s]#015 77%|███████▋  | 211/274 [02:26<00:34,  1.83it/s]#015 77%|███████▋  | 212/274 [02:26<00:36,  1.68it/s]#015 78%|███████▊  | 213/274 [02:27<00:37,  1.63it/s]#015 78%|███████▊  | 214/274 [02:28<00:36,  1.65it/s]#015 78%|███████▊  | 215/274 [02:28<00:33,  1.76it/s]#015 79%|███████▉  | 216/274 [02:29<00:38,  1.50it/s]#015 79%|███████▉  | 217/274 [02:30<00:43,  1.32it/s]#015 80%|███████▉  | 218/274 [02:31<00:42,  1.32it/s]#015 80%|███████▉  | 219/274 [02:31<00:41,  1.34it/s]#015 80%|████████  | 220/274 [02:32<00:39,  1.38it/s]#015 81%|████████  | 221/274 [02:33<00:38,  1.39it/s]#015 81%|████████  | 222/274 [02:33<00:34,  1.50it/s]#015 81%|████████▏ | 223/274 [02:34<00:30,  1.65it/s]#015 82%|████████▏ | 224/274 [02:34<00:28,  1.76it/s]#015 82%|████████▏ | 225/274 [02:35<00:28,  1.72it/s]#015 82%|████████▏ | 226/274 [02:35<00:26,  1.79it/s]#015 83%|████████▎ | 227/274 [02:36<00:26,  1.79it/s]#015 83%|████████▎ | 228/274 [02:36<00:24,  1.91it/s]#015 84%|████████▎ | 229/274 [02:37<00:24,  1.86it/s]#015 84%|████████▍ | 230/274 [02:38<00:24,  1.82it/s]#015 84%|████████▍ | 231/274 [02:38<00:26,  1.64it/s]#015 85%|████████▍ | 232/274 [02:39<00:24,  1.68it/s]#015 85%|████████▌ | 233/274 [02:39<00:23,  1.73it/s]#015 85%|████████▌ | 234/274 [02:40<00:23,  1.69it/s]#015 86%|████████▌ | 235/274 [02:41<00:21,  1.83it/s]#015 86%|████████▌ | 236/274 [02:41<00:24,  1.54it/s]#015 86%|████████▋ | 237/274 [02:42<00:27,  1.33it/s]#015 87%|████████▋ | 238/274 [02:43<00:24,  1.44it/s]#015 87%|████████▋ | 239/274 [02:43<00:22,  1.58it/s]#015 88%|████████▊ | 240/274 [02:44<00:20,  1.69it/s]#015 88%|████████▊ | 241/274 [02:45<00:20,  1.64it/s]#015 88%|████████▊ | 242/274 [02:45<00:19,  1.62it/s]#015 89%|████████▊ | 243/274 [02:46<00:19,  1.56it/s]#015 89%|████████▉ | 244/274 [02:46<00:18,  1.67it/s]#015 89%|████████▉ | 245/274 [02:47<00:16,  1.80it/s]#015 90%|████████▉ | 246/274 [02:47<00:14,  1.93it/s]#015 90%|█████████ | 247/274 [02:48<00:14,  1.87it/s]#015 91%|█████████ | 248/274 [02:48<00:13,  1.95it/s]#015 91%|█████████ | 249/274 [02:49<00:12,  1.98it/s]#015 91%|█████████ | 250/274 [02:49<00:12,  1.85it/s]#015 92%|█████████▏| 251/274 [02:50<00:13,  1.72it/s]#015 92%|█████████▏| 252/274 [02:51<00:13,  1.62it/s]#015 92%|█████████▏| 253/274 [02:51<00:12,  1.68it/s]#015 93%|█████████▎| 254/274 [02:52<00:11,  1.73it/s]#015 93%|█████████▎| 255/274 [02:53<00:12,  1.53it/s]#015 93%|█████████▎| 256/274 [02:53<00:11,  1.51it/s]#015 94%|█████████▍| 257/274 [02:54<00:11,  1.50it/s]#015 94%|█████████▍| 258/274 [02:55<00:09,  1.62it/s]#015 95%|█████████▍| 259/274 [02:57<00:15,  1.03s/it]#015 95%|█████████▍| 260/274 [02:58<00:14,  1.00s/it]#015 95%|█████████▌| 261/274 [02:58<00:11,  1.14it/s]#015 96%|█████████▌| 262/274 [02:59<00:09,  1.21it/s]#015 96%|█████████▌| 263/274 [03:00<00:08,  1.27it/s]#015 96%|█████████▋| 264/274 [03:00<00:07,  1.42it/s]#015 97%|█████████▋| 265/274 [03:01<00:06,  1.42it/s]#015 97%|█████████▋| 266/274 [03:02<00:05,  1.36it/s]#015 97%|█████████▋| 267/274 [03:02<00:04,  1.42it/s]#015 98%|█████████▊| 268/274 [03:03<00:04,  1.42it/s]#015 98%|█████████▊| 269/274 [03:04<00:03,  1.29it/s]#015 99%|█████████▊| 270/274 [03:04<00:02,  1.52it/s]#015 99%|█████████▉| 271/274 [03:05<00:01,  1.66it/s]#015 99%|█████████▉| 272/274 [03:05<00:\u001B[0m\n",
      "\u001B[34m01,  1.76it/s]#015100%|█████████▉| 273/274 [03:06<00:00,  1.83it/s]#015100%|██████████| 274/274 [03:06<00:00,  2.22it/s]#015100%|██████████| 274/274 [03:06<00:00,  1.47it/s]\u001B[0m\n",
      "\u001B[34m2023-09-02 15:50:19,159 sagemaker.remote_function INFO     Serializing the function return and uploading to s3://sagemaker-eu-west-1-691148928602/train-fn-2023-09-02-15-16-14-461/results\u001B[0m\n",
      "\n",
      "2023-09-02 15:50:37 Completed - Training job completed\n",
      "Training seconds: 1982\n",
      "Billable seconds: 1982\n"
     ]
    }
   ],
   "source": [
    "train_fn(\n",
    "    model_id,\n",
    "    train_dataset,\n",
    "    test_dataset,\n",
    "    lora_r=lora_r,\n",
    "    lora_alpha=lora_alpha,\n",
    "    lora_dropout=lora_dropout,\n",
    "    per_device_train_batch_size=per_device_train_batch_size,\n",
    "    per_device_eval_batch_size=per_device_eval_batch_size,\n",
    "    learning_rate=learning_rate,\n",
    "    num_train_epochs=num_train_epochs\n",
    ")"
   ]
  },
  {
   "cell_type": "markdown",
   "metadata": {
    "tags": []
   },
   "source": [
    "## Load Fine-Tuned model"
   ]
  },
  {
   "cell_type": "markdown",
   "metadata": {},
   "source": [
    "### Download model"
   ]
  },
  {
   "cell_type": "code",
   "execution_count": 2,
   "metadata": {
    "ExecuteTime": {
     "start_time": "2023-09-02T18:18:47.059439Z",
     "end_time": "2023-09-02T18:18:47.299354Z"
    },
    "collapsed": false,
    "jupyter": {
     "outputs_hidden": false
    },
    "tags": []
   },
   "outputs": [],
   "source": [
    "import boto3\n",
    "\n",
    "s3_client = boto3.client(\"s3\")"
   ]
  },
  {
   "cell_type": "code",
   "execution_count": 3,
   "metadata": {
    "ExecuteTime": {
     "start_time": "2023-09-02T18:18:47.609236Z",
     "end_time": "2023-09-02T18:18:47.629480Z"
    },
    "collapsed": false,
    "jupyter": {
     "outputs_hidden": false
    },
    "tags": []
   },
   "outputs": [],
   "source": [
    "bucket_name = \"<S3_BUCKET>\"\n",
    "job_name = \"<JOB_NAME>\""
   ]
  },
  {
   "cell_type": "code",
   "execution_count": 4,
   "metadata": {
    "ExecuteTime": {
     "start_time": "2023-09-02T18:18:48.067777Z",
     "end_time": "2023-09-02T18:18:58.270521Z"
    },
    "collapsed": false,
    "jupyter": {
     "outputs_hidden": false
    },
    "tags": []
   },
   "outputs": [],
   "source": [
    "s3_client.download_file(bucket_name, f\"{job_name}/{job_name}/output/model.tar.gz\", \"model.tar.gz\")"
   ]
  },
  {
   "cell_type": "code",
   "execution_count": 5,
   "metadata": {
    "ExecuteTime": {
     "start_time": "2023-09-02T18:18:58.272830Z",
     "end_time": "2023-09-02T18:18:59.409318Z"
    },
    "collapsed": false,
    "jupyter": {
     "outputs_hidden": false
    },
    "tags": []
   },
   "outputs": [],
   "source": [
    "! rm -rf ./model && mkdir -p ./model && tar -xf model.tar.gz -C ./model"
   ]
  },
  {
   "cell_type": "markdown",
   "metadata": {},
   "source": [
    "Now we are loading the PEFT weights trained"
   ]
  },
  {
   "cell_type": "code",
   "execution_count": 6,
   "metadata": {
    "ExecuteTime": {
     "start_time": "2023-09-02T18:18:59.411744Z",
     "end_time": "2023-09-02T18:19:00.689996Z"
    },
    "collapsed": false,
    "jupyter": {
     "outputs_hidden": false
    },
    "tags": []
   },
   "outputs": [],
   "source": [
    "from transformers import AutoTokenizer\n",
    "\n",
    "model_id = \"tiiuae/falcon-7b\"\n",
    "\n",
    "tokenizer = AutoTokenizer.from_pretrained(model_id)\n",
    "# Set the Falcon tokenizer\n",
    "tokenizer.pad_token = tokenizer.eos_token"
   ]
  },
  {
   "cell_type": "code",
   "execution_count": 7,
   "metadata": {
    "ExecuteTime": {
     "start_time": "2023-09-02T18:19:00.692057Z",
     "end_time": "2023-09-02T18:23:57.101169Z"
    },
    "collapsed": false,
    "jupyter": {
     "outputs_hidden": false
    },
    "tags": []
   },
   "outputs": [
    {
     "name": "stderr",
     "output_type": "stream",
     "text": [
      "/Users/bpistone/miniforge3/envs/pathways/lib/python3.10/site-packages/bitsandbytes/cextension.py:34: UserWarning: The installed version of bitsandbytes was compiled without GPU support. 8-bit optimizers, 8-bit multiplication, and GPU quantization are unavailable.\n",
      "  warn(\"The installed version of bitsandbytes was compiled without GPU support. \"\n"
     ]
    },
    {
     "name": "stdout",
     "output_type": "stream",
     "text": [
      "'NoneType' object has no attribute 'cadam32bit_grad_fp32'\n"
     ]
    },
    {
     "data": {
      "text/plain": "Loading checkpoint shards:   0%|          | 0/2 [00:00<?, ?it/s]",
      "application/vnd.jupyter.widget-view+json": {
       "version_major": 2,
       "version_minor": 0,
       "model_id": "93586d4448894dd78ba3e21e6e8982a5"
      }
     },
     "metadata": {},
     "output_type": "display_data"
    },
    {
     "data": {
      "text/plain": "PeftModelForCausalLM(\n  (base_model): LoraModel(\n    (model): RWForCausalLM(\n      (transformer): RWModel(\n        (word_embeddings): Embedding(65024, 4544)\n        (h): ModuleList(\n          (0-31): 32 x DecoderLayer(\n            (input_layernorm): LayerNorm((4544,), eps=1e-05, elementwise_affine=True)\n            (self_attention): Attention(\n              (maybe_rotary): RotaryEmbedding()\n              (query_key_value): Linear(\n                in_features=4544, out_features=4672, bias=False\n                (lora_dropout): ModuleDict(\n                  (default): Dropout(p=0.05, inplace=False)\n                )\n                (lora_A): ModuleDict(\n                  (default): Linear(in_features=4544, out_features=8, bias=False)\n                )\n                (lora_B): ModuleDict(\n                  (default): Linear(in_features=8, out_features=4672, bias=False)\n                )\n                (lora_embedding_A): ParameterDict()\n                (lora_embedding_B): ParameterDict()\n              )\n              (dense): Linear(\n                in_features=4544, out_features=4544, bias=False\n                (lora_dropout): ModuleDict(\n                  (default): Dropout(p=0.05, inplace=False)\n                )\n                (lora_A): ModuleDict(\n                  (default): Linear(in_features=4544, out_features=8, bias=False)\n                )\n                (lora_B): ModuleDict(\n                  (default): Linear(in_features=8, out_features=4544, bias=False)\n                )\n                (lora_embedding_A): ParameterDict()\n                (lora_embedding_B): ParameterDict()\n              )\n              (attention_dropout): Dropout(p=0.0, inplace=False)\n            )\n            (mlp): MLP(\n              (dense_h_to_4h): Linear(\n                in_features=4544, out_features=18176, bias=False\n                (lora_dropout): ModuleDict(\n                  (default): Dropout(p=0.05, inplace=False)\n                )\n                (lora_A): ModuleDict(\n                  (default): Linear(in_features=4544, out_features=8, bias=False)\n                )\n                (lora_B): ModuleDict(\n                  (default): Linear(in_features=8, out_features=18176, bias=False)\n                )\n                (lora_embedding_A): ParameterDict()\n                (lora_embedding_B): ParameterDict()\n              )\n              (act): GELU(approximate='none')\n              (dense_4h_to_h): Linear(\n                in_features=18176, out_features=4544, bias=False\n                (lora_dropout): ModuleDict(\n                  (default): Dropout(p=0.05, inplace=False)\n                )\n                (lora_A): ModuleDict(\n                  (default): Linear(in_features=18176, out_features=8, bias=False)\n                )\n                (lora_B): ModuleDict(\n                  (default): Linear(in_features=8, out_features=4544, bias=False)\n                )\n                (lora_embedding_A): ParameterDict()\n                (lora_embedding_B): ParameterDict()\n              )\n            )\n          )\n        )\n        (ln_f): LayerNorm((4544,), eps=1e-05, elementwise_affine=True)\n      )\n      (lm_head): Linear(in_features=4544, out_features=65024, bias=False)\n    )\n  )\n)"
     },
     "execution_count": 7,
     "metadata": {},
     "output_type": "execute_result"
    }
   ],
   "source": [
    "from peft import PeftModel, PeftConfig\n",
    "import torch\n",
    "from transformers import AutoModelForCausalLM\n",
    "\n",
    "device = 'cuda' if torch.cuda.is_available() else 'mps' if torch.backends.mps.is_available() else 'cpu'\n",
    "\n",
    "config = PeftConfig.from_pretrained(\"./model\")\n",
    "model = AutoModelForCausalLM.from_pretrained(config.base_model_name_or_path, trust_remote_code=True)\n",
    "model = PeftModel.from_pretrained(model, \"./model\")\n",
    "model.to(device)"
   ]
  },
  {
   "cell_type": "markdown",
   "metadata": {},
   "source": [
    "Load a test dataset and try a random sample for Q&A."
   ]
  },
  {
   "cell_type": "code",
   "execution_count": 8,
   "metadata": {
    "ExecuteTime": {
     "start_time": "2023-09-02T18:24:15.358844Z",
     "end_time": "2023-09-02T18:24:16.707887Z"
    },
    "collapsed": false,
    "jupyter": {
     "outputs_hidden": false
    },
    "tags": []
   },
   "outputs": [
    {
     "name": "stdout",
     "output_type": "stream",
     "text": [
      "How do I get my device listed in the AWS Partner Device Catalog?\n",
      "---\n",
      "Answer:\n",
      "\n",
      "Original answer:\n",
      " If you are an AWS partner, the AWS Device Qualification Program defines the process to get your device listed in the catalog. A high level overview of the process is as follows: Pass the AWS IoT Device Tester for AWS IoT Greengrass test Log into the AWS Partner Network Portal Upload the AWS IoT Device Tester report. Once the report is verified by AWS, and other device related artifacts such as picture and data sheet have been submitted, the device is listed in the AWS Partner Device Catalog.\n"
     ]
    }
   ],
   "source": [
    "import pandas as pd\n",
    "df = pd.read_csv('train.csv.gz', compression='gzip', sep=';')\n",
    "\n",
    "sample = df.sample()\n",
    "\n",
    "# format sample\n",
    "prompt_template = f\"{{question}}\\n---\\nAnswer:\\n\"\n",
    "\n",
    "test_sample = prompt_template.format(question=sample.iloc()[0][\"question\"])\n",
    "\n",
    "print(test_sample)\n",
    "\n",
    "print(\"Original answer:\\n\", sample.iloc()[0][\"answers\"])"
   ]
  },
  {
   "cell_type": "code",
   "execution_count": 9,
   "metadata": {
    "ExecuteTime": {
     "start_time": "2023-09-02T18:24:21.642328Z",
     "end_time": "2023-09-02T18:24:21.678317Z"
    },
    "collapsed": false,
    "jupyter": {
     "outputs_hidden": false
    },
    "tags": []
   },
   "outputs": [],
   "source": [
    "input_ids = tokenizer(test_sample, return_tensors=\"pt\").input_ids"
   ]
  },
  {
   "cell_type": "code",
   "execution_count": 10,
   "metadata": {
    "collapsed": false,
    "jupyter": {
     "outputs_hidden": false
    },
    "tags": [],
    "ExecuteTime": {
     "start_time": "2023-09-02T18:24:29.329156Z",
     "end_time": "2023-09-02T23:56:54.056915Z"
    }
   },
   "outputs": [
    {
     "name": "stderr",
     "output_type": "stream",
     "text": [
      "/Users/bpistone/miniforge3/envs/pathways/lib/python3.10/site-packages/transformers/generation/utils.py:1270: UserWarning: You have modified the pretrained model configuration to control generation. This is a deprecated strategy to control generation and will be removed soon, in a future version. Please use a generation configuration file (see https://huggingface.co/docs/transformers/main_classes/text_generation )\n",
      "  warnings.warn(\n",
      "The attention mask and the pad token id were not set. As a consequence, you may observe unexpected behavior. Please pass your input's `attention_mask` to obtain reliable results.\n",
      "Setting `pad_token_id` to `eos_token_id`:11 for open-end generation.\n"
     ]
    },
    {
     "name": "stdout",
     "output_type": "stream",
     "text": [
      "How do I get my device listed in the AWS Partner Device Catalog?\n",
      "---\n",
      "Answer:\n",
      "To get started, simply submit a request to the AWS Device Farm team. Once we confirm your eligibility and receive the required information, your devices will be listed. If there is anything else we require, we will let you know. Please contact us if you’d like to get started. Please reference the AWS API reference for more details on the Partner Device Catalog operations and documentation. If you intend to integrate with one of the AWS Partner Device Catalog API endpoints, we recommend you first validate the process by\n"
     ]
    }
   ],
   "source": [
    "#set the tokens for the summary evaluation\n",
    "tokens_for_answer = 100\n",
    "output_tokens = input_ids.shape[1] + tokens_for_answer\n",
    "\n",
    "outputs = model.generate(inputs=input_ids.to(device), do_sample=True, max_length=output_tokens)\n",
    "gen_text = tokenizer.batch_decode(outputs)[0]\n",
    "\n",
    "print(gen_text)"
   ]
  }
 ],
 "metadata": {
  "availableInstances": [
   {
    "_defaultOrder": 0,
    "_isFastLaunch": true,
    "category": "General purpose",
    "gpuNum": 0,
    "hideHardwareSpecs": false,
    "memoryGiB": 4,
    "name": "ml.t3.medium",
    "vcpuNum": 2
   },
   {
    "_defaultOrder": 1,
    "_isFastLaunch": false,
    "category": "General purpose",
    "gpuNum": 0,
    "hideHardwareSpecs": false,
    "memoryGiB": 8,
    "name": "ml.t3.large",
    "vcpuNum": 2
   },
   {
    "_defaultOrder": 2,
    "_isFastLaunch": false,
    "category": "General purpose",
    "gpuNum": 0,
    "hideHardwareSpecs": false,
    "memoryGiB": 16,
    "name": "ml.t3.xlarge",
    "vcpuNum": 4
   },
   {
    "_defaultOrder": 3,
    "_isFastLaunch": false,
    "category": "General purpose",
    "gpuNum": 0,
    "hideHardwareSpecs": false,
    "memoryGiB": 32,
    "name": "ml.t3.2xlarge",
    "vcpuNum": 8
   },
   {
    "_defaultOrder": 4,
    "_isFastLaunch": true,
    "category": "General purpose",
    "gpuNum": 0,
    "hideHardwareSpecs": false,
    "memoryGiB": 8,
    "name": "ml.m5.large",
    "vcpuNum": 2
   },
   {
    "_defaultOrder": 5,
    "_isFastLaunch": false,
    "category": "General purpose",
    "gpuNum": 0,
    "hideHardwareSpecs": false,
    "memoryGiB": 16,
    "name": "ml.m5.xlarge",
    "vcpuNum": 4
   },
   {
    "_defaultOrder": 6,
    "_isFastLaunch": false,
    "category": "General purpose",
    "gpuNum": 0,
    "hideHardwareSpecs": false,
    "memoryGiB": 32,
    "name": "ml.m5.2xlarge",
    "vcpuNum": 8
   },
   {
    "_defaultOrder": 7,
    "_isFastLaunch": false,
    "category": "General purpose",
    "gpuNum": 0,
    "hideHardwareSpecs": false,
    "memoryGiB": 64,
    "name": "ml.m5.4xlarge",
    "vcpuNum": 16
   },
   {
    "_defaultOrder": 8,
    "_isFastLaunch": false,
    "category": "General purpose",
    "gpuNum": 0,
    "hideHardwareSpecs": false,
    "memoryGiB": 128,
    "name": "ml.m5.8xlarge",
    "vcpuNum": 32
   },
   {
    "_defaultOrder": 9,
    "_isFastLaunch": false,
    "category": "General purpose",
    "gpuNum": 0,
    "hideHardwareSpecs": false,
    "memoryGiB": 192,
    "name": "ml.m5.12xlarge",
    "vcpuNum": 48
   },
   {
    "_defaultOrder": 10,
    "_isFastLaunch": false,
    "category": "General purpose",
    "gpuNum": 0,
    "hideHardwareSpecs": false,
    "memoryGiB": 256,
    "name": "ml.m5.16xlarge",
    "vcpuNum": 64
   },
   {
    "_defaultOrder": 11,
    "_isFastLaunch": false,
    "category": "General purpose",
    "gpuNum": 0,
    "hideHardwareSpecs": false,
    "memoryGiB": 384,
    "name": "ml.m5.24xlarge",
    "vcpuNum": 96
   },
   {
    "_defaultOrder": 12,
    "_isFastLaunch": false,
    "category": "General purpose",
    "gpuNum": 0,
    "hideHardwareSpecs": false,
    "memoryGiB": 8,
    "name": "ml.m5d.large",
    "vcpuNum": 2
   },
   {
    "_defaultOrder": 13,
    "_isFastLaunch": false,
    "category": "General purpose",
    "gpuNum": 0,
    "hideHardwareSpecs": false,
    "memoryGiB": 16,
    "name": "ml.m5d.xlarge",
    "vcpuNum": 4
   },
   {
    "_defaultOrder": 14,
    "_isFastLaunch": false,
    "category": "General purpose",
    "gpuNum": 0,
    "hideHardwareSpecs": false,
    "memoryGiB": 32,
    "name": "ml.m5d.2xlarge",
    "vcpuNum": 8
   },
   {
    "_defaultOrder": 15,
    "_isFastLaunch": false,
    "category": "General purpose",
    "gpuNum": 0,
    "hideHardwareSpecs": false,
    "memoryGiB": 64,
    "name": "ml.m5d.4xlarge",
    "vcpuNum": 16
   },
   {
    "_defaultOrder": 16,
    "_isFastLaunch": false,
    "category": "General purpose",
    "gpuNum": 0,
    "hideHardwareSpecs": false,
    "memoryGiB": 128,
    "name": "ml.m5d.8xlarge",
    "vcpuNum": 32
   },
   {
    "_defaultOrder": 17,
    "_isFastLaunch": false,
    "category": "General purpose",
    "gpuNum": 0,
    "hideHardwareSpecs": false,
    "memoryGiB": 192,
    "name": "ml.m5d.12xlarge",
    "vcpuNum": 48
   },
   {
    "_defaultOrder": 18,
    "_isFastLaunch": false,
    "category": "General purpose",
    "gpuNum": 0,
    "hideHardwareSpecs": false,
    "memoryGiB": 256,
    "name": "ml.m5d.16xlarge",
    "vcpuNum": 64
   },
   {
    "_defaultOrder": 19,
    "_isFastLaunch": false,
    "category": "General purpose",
    "gpuNum": 0,
    "hideHardwareSpecs": false,
    "memoryGiB": 384,
    "name": "ml.m5d.24xlarge",
    "vcpuNum": 96
   },
   {
    "_defaultOrder": 20,
    "_isFastLaunch": false,
    "category": "General purpose",
    "gpuNum": 0,
    "hideHardwareSpecs": true,
    "memoryGiB": 0,
    "name": "ml.geospatial.interactive",
    "supportedImageNames": [
     "sagemaker-geospatial-v1-0"
    ],
    "vcpuNum": 0
   },
   {
    "_defaultOrder": 21,
    "_isFastLaunch": true,
    "category": "Compute optimized",
    "gpuNum": 0,
    "hideHardwareSpecs": false,
    "memoryGiB": 4,
    "name": "ml.c5.large",
    "vcpuNum": 2
   },
   {
    "_defaultOrder": 22,
    "_isFastLaunch": false,
    "category": "Compute optimized",
    "gpuNum": 0,
    "hideHardwareSpecs": false,
    "memoryGiB": 8,
    "name": "ml.c5.xlarge",
    "vcpuNum": 4
   },
   {
    "_defaultOrder": 23,
    "_isFastLaunch": false,
    "category": "Compute optimized",
    "gpuNum": 0,
    "hideHardwareSpecs": false,
    "memoryGiB": 16,
    "name": "ml.c5.2xlarge",
    "vcpuNum": 8
   },
   {
    "_defaultOrder": 24,
    "_isFastLaunch": false,
    "category": "Compute optimized",
    "gpuNum": 0,
    "hideHardwareSpecs": false,
    "memoryGiB": 32,
    "name": "ml.c5.4xlarge",
    "vcpuNum": 16
   },
   {
    "_defaultOrder": 25,
    "_isFastLaunch": false,
    "category": "Compute optimized",
    "gpuNum": 0,
    "hideHardwareSpecs": false,
    "memoryGiB": 72,
    "name": "ml.c5.9xlarge",
    "vcpuNum": 36
   },
   {
    "_defaultOrder": 26,
    "_isFastLaunch": false,
    "category": "Compute optimized",
    "gpuNum": 0,
    "hideHardwareSpecs": false,
    "memoryGiB": 96,
    "name": "ml.c5.12xlarge",
    "vcpuNum": 48
   },
   {
    "_defaultOrder": 27,
    "_isFastLaunch": false,
    "category": "Compute optimized",
    "gpuNum": 0,
    "hideHardwareSpecs": false,
    "memoryGiB": 144,
    "name": "ml.c5.18xlarge",
    "vcpuNum": 72
   },
   {
    "_defaultOrder": 28,
    "_isFastLaunch": false,
    "category": "Compute optimized",
    "gpuNum": 0,
    "hideHardwareSpecs": false,
    "memoryGiB": 192,
    "name": "ml.c5.24xlarge",
    "vcpuNum": 96
   },
   {
    "_defaultOrder": 29,
    "_isFastLaunch": true,
    "category": "Accelerated computing",
    "gpuNum": 1,
    "hideHardwareSpecs": false,
    "memoryGiB": 16,
    "name": "ml.g4dn.xlarge",
    "vcpuNum": 4
   },
   {
    "_defaultOrder": 30,
    "_isFastLaunch": false,
    "category": "Accelerated computing",
    "gpuNum": 1,
    "hideHardwareSpecs": false,
    "memoryGiB": 32,
    "name": "ml.g4dn.2xlarge",
    "vcpuNum": 8
   },
   {
    "_defaultOrder": 31,
    "_isFastLaunch": false,
    "category": "Accelerated computing",
    "gpuNum": 1,
    "hideHardwareSpecs": false,
    "memoryGiB": 64,
    "name": "ml.g4dn.4xlarge",
    "vcpuNum": 16
   },
   {
    "_defaultOrder": 32,
    "_isFastLaunch": false,
    "category": "Accelerated computing",
    "gpuNum": 1,
    "hideHardwareSpecs": false,
    "memoryGiB": 128,
    "name": "ml.g4dn.8xlarge",
    "vcpuNum": 32
   },
   {
    "_defaultOrder": 33,
    "_isFastLaunch": false,
    "category": "Accelerated computing",
    "gpuNum": 4,
    "hideHardwareSpecs": false,
    "memoryGiB": 192,
    "name": "ml.g4dn.12xlarge",
    "vcpuNum": 48
   },
   {
    "_defaultOrder": 34,
    "_isFastLaunch": false,
    "category": "Accelerated computing",
    "gpuNum": 1,
    "hideHardwareSpecs": false,
    "memoryGiB": 256,
    "name": "ml.g4dn.16xlarge",
    "vcpuNum": 64
   },
   {
    "_defaultOrder": 35,
    "_isFastLaunch": false,
    "category": "Accelerated computing",
    "gpuNum": 1,
    "hideHardwareSpecs": false,
    "memoryGiB": 61,
    "name": "ml.p3.2xlarge",
    "vcpuNum": 8
   },
   {
    "_defaultOrder": 36,
    "_isFastLaunch": false,
    "category": "Accelerated computing",
    "gpuNum": 4,
    "hideHardwareSpecs": false,
    "memoryGiB": 244,
    "name": "ml.p3.8xlarge",
    "vcpuNum": 32
   },
   {
    "_defaultOrder": 37,
    "_isFastLaunch": false,
    "category": "Accelerated computing",
    "gpuNum": 8,
    "hideHardwareSpecs": false,
    "memoryGiB": 488,
    "name": "ml.p3.16xlarge",
    "vcpuNum": 64
   },
   {
    "_defaultOrder": 38,
    "_isFastLaunch": false,
    "category": "Accelerated computing",
    "gpuNum": 8,
    "hideHardwareSpecs": false,
    "memoryGiB": 768,
    "name": "ml.p3dn.24xlarge",
    "vcpuNum": 96
   },
   {
    "_defaultOrder": 39,
    "_isFastLaunch": false,
    "category": "Memory Optimized",
    "gpuNum": 0,
    "hideHardwareSpecs": false,
    "memoryGiB": 16,
    "name": "ml.r5.large",
    "vcpuNum": 2
   },
   {
    "_defaultOrder": 40,
    "_isFastLaunch": false,
    "category": "Memory Optimized",
    "gpuNum": 0,
    "hideHardwareSpecs": false,
    "memoryGiB": 32,
    "name": "ml.r5.xlarge",
    "vcpuNum": 4
   },
   {
    "_defaultOrder": 41,
    "_isFastLaunch": false,
    "category": "Memory Optimized",
    "gpuNum": 0,
    "hideHardwareSpecs": false,
    "memoryGiB": 64,
    "name": "ml.r5.2xlarge",
    "vcpuNum": 8
   },
   {
    "_defaultOrder": 42,
    "_isFastLaunch": false,
    "category": "Memory Optimized",
    "gpuNum": 0,
    "hideHardwareSpecs": false,
    "memoryGiB": 128,
    "name": "ml.r5.4xlarge",
    "vcpuNum": 16
   },
   {
    "_defaultOrder": 43,
    "_isFastLaunch": false,
    "category": "Memory Optimized",
    "gpuNum": 0,
    "hideHardwareSpecs": false,
    "memoryGiB": 256,
    "name": "ml.r5.8xlarge",
    "vcpuNum": 32
   },
   {
    "_defaultOrder": 44,
    "_isFastLaunch": false,
    "category": "Memory Optimized",
    "gpuNum": 0,
    "hideHardwareSpecs": false,
    "memoryGiB": 384,
    "name": "ml.r5.12xlarge",
    "vcpuNum": 48
   },
   {
    "_defaultOrder": 45,
    "_isFastLaunch": false,
    "category": "Memory Optimized",
    "gpuNum": 0,
    "hideHardwareSpecs": false,
    "memoryGiB": 512,
    "name": "ml.r5.16xlarge",
    "vcpuNum": 64
   },
   {
    "_defaultOrder": 46,
    "_isFastLaunch": false,
    "category": "Memory Optimized",
    "gpuNum": 0,
    "hideHardwareSpecs": false,
    "memoryGiB": 768,
    "name": "ml.r5.24xlarge",
    "vcpuNum": 96
   },
   {
    "_defaultOrder": 47,
    "_isFastLaunch": false,
    "category": "Accelerated computing",
    "gpuNum": 1,
    "hideHardwareSpecs": false,
    "memoryGiB": 16,
    "name": "ml.g5.xlarge",
    "vcpuNum": 4
   },
   {
    "_defaultOrder": 48,
    "_isFastLaunch": false,
    "category": "Accelerated computing",
    "gpuNum": 1,
    "hideHardwareSpecs": false,
    "memoryGiB": 32,
    "name": "ml.g5.2xlarge",
    "vcpuNum": 8
   },
   {
    "_defaultOrder": 49,
    "_isFastLaunch": false,
    "category": "Accelerated computing",
    "gpuNum": 1,
    "hideHardwareSpecs": false,
    "memoryGiB": 64,
    "name": "ml.g5.4xlarge",
    "vcpuNum": 16
   },
   {
    "_defaultOrder": 50,
    "_isFastLaunch": false,
    "category": "Accelerated computing",
    "gpuNum": 1,
    "hideHardwareSpecs": false,
    "memoryGiB": 128,
    "name": "ml.g5.8xlarge",
    "vcpuNum": 32
   },
   {
    "_defaultOrder": 51,
    "_isFastLaunch": false,
    "category": "Accelerated computing",
    "gpuNum": 1,
    "hideHardwareSpecs": false,
    "memoryGiB": 256,
    "name": "ml.g5.16xlarge",
    "vcpuNum": 64
   },
   {
    "_defaultOrder": 52,
    "_isFastLaunch": false,
    "category": "Accelerated computing",
    "gpuNum": 4,
    "hideHardwareSpecs": false,
    "memoryGiB": 192,
    "name": "ml.g5.12xlarge",
    "vcpuNum": 48
   },
   {
    "_defaultOrder": 53,
    "_isFastLaunch": false,
    "category": "Accelerated computing",
    "gpuNum": 4,
    "hideHardwareSpecs": false,
    "memoryGiB": 384,
    "name": "ml.g5.24xlarge",
    "vcpuNum": 96
   },
   {
    "_defaultOrder": 54,
    "_isFastLaunch": false,
    "category": "Accelerated computing",
    "gpuNum": 8,
    "hideHardwareSpecs": false,
    "memoryGiB": 768,
    "name": "ml.g5.48xlarge",
    "vcpuNum": 192
   },
   {
    "_defaultOrder": 55,
    "_isFastLaunch": false,
    "category": "Accelerated computing",
    "gpuNum": 8,
    "hideHardwareSpecs": false,
    "memoryGiB": 1152,
    "name": "ml.p4d.24xlarge",
    "vcpuNum": 96
   },
   {
    "_defaultOrder": 56,
    "_isFastLaunch": false,
    "category": "Accelerated computing",
    "gpuNum": 8,
    "hideHardwareSpecs": false,
    "memoryGiB": 1152,
    "name": "ml.p4de.24xlarge",
    "vcpuNum": 96
   }
  ],
  "instance_type": "ml.g5.12xlarge",
  "kernelspec": {
   "name": "python3",
   "language": "python",
   "display_name": "Python 3 (ipykernel)"
  },
  "language_info": {
   "codemirror_mode": {
    "name": "ipython",
    "version": 3
   },
   "file_extension": ".py",
   "mimetype": "text/x-python",
   "name": "python",
   "nbconvert_exporter": "python",
   "pygments_lexer": "ipython3",
   "version": "3.10.6"
  }
 },
 "nbformat": 4,
 "nbformat_minor": 4
}
