{
 "cells": [
  {
   "cell_type": "markdown",
   "metadata": {},
   "source": [
    "\n",
    "# Fine-tune Mistral-7B with QLoRA and SageMaker remote decorator\n",
    "\n",
    "## Unsupervised fine-tuning"
   ]
  },
  {
   "cell_type": "markdown",
   "metadata": {},
   "source": [
    "---\n",
    "\n",
    "In this demo notebook, we demonstrate how to fine-tune the Mistral-7B model using QLoRA, Hugging Face PEFT, and bitsandbytes.\n",
    "\n",
    "We are using SageMaker remote decorator for runinng the fine-tuning job on Amazon SageMaker Training job\n",
    "---\n",
    "SageMaker Studio Kernel: PyTorch 2.0.0 Python 3.10\n",
    "\n",
    "Instance Type: ml.g5.8xlarge"
   ]
  },
  {
   "cell_type": "markdown",
   "metadata": {},
   "source": [
    "Install the required libriaries, including the Hugging Face libraries, and restart the kernel."
   ]
  },
  {
   "cell_type": "code",
   "execution_count": null,
   "metadata": {
    "ExecuteTime": {
     "start_time": "2023-11-14T16:14:54.827383Z",
     "end_time": "2023-11-14T16:15:24.433671Z"
    },
    "collapsed": false,
    "jupyter": {
     "outputs_hidden": false
    },
    "tags": []
   },
   "outputs": [],
   "source": [
    "%pip install -r requirements.txt"
   ]
  },
  {
   "cell_type": "code",
   "execution_count": null,
   "metadata": {
    "ExecuteTime": {
     "start_time": "2023-11-20T18:23:59.952888Z",
     "end_time": "2023-11-20T18:24:13.945622Z"
    },
    "collapsed": false,
    "jupyter": {
     "outputs_hidden": false
    },
    "tags": []
   },
   "outputs": [],
   "source": [
    "%pip install -q -U transformers==4.35.1\n",
    "%pip install -q -U datasets==2.13.1\n",
    "%pip install -q -U peft==0.6.2\n",
    "%pip install -q -U accelerate==0.24.1\n",
    "%pip install -q -U bitsandbytes==0.41.2.post2\n",
    "%pip install -q -U boto3\n",
    "%pip install -q -U langchain==0.0.303\n",
    "%pip install -q -U sagemaker\n",
    "%pip install -q -U scikit-learn"
   ]
  },
  {
   "cell_type": "markdown",
   "metadata": {},
   "source": [
    "\n",
    "## Setup Configuration file path\n",
    "\n",
    "We are setting the directory in which the config.yaml file resides so that remote decorator can make use of the settings.\n"
   ]
  },
  {
   "cell_type": "code",
   "execution_count": 3,
   "metadata": {
    "ExecuteTime": {
     "start_time": "2023-11-20T18:24:54.695362Z",
     "end_time": "2023-11-20T18:24:54.706137Z"
    },
    "collapsed": false,
    "jupyter": {
     "outputs_hidden": false
    },
    "tags": []
   },
   "outputs": [],
   "source": [
    "import os\n",
    "\n",
    "# Set path to config file\n",
    "os.environ[\"SAGEMAKER_USER_CONFIG_OVERRIDE\"] = os.getcwd()"
   ]
  },
  {
   "cell_type": "markdown",
   "metadata": {},
   "source": [
    "## Visualize and upload the dataset\n",
    "\n",
    "Read train dataset in a Pandas dataframe"
   ]
  },
  {
   "cell_type": "code",
   "execution_count": 4,
   "metadata": {
    "ExecuteTime": {
     "start_time": "2023-11-20T18:24:55.644996Z",
     "end_time": "2023-11-20T18:24:58.910898Z"
    },
    "collapsed": false,
    "jupyter": {
     "outputs_hidden": false
    },
    "tags": []
   },
   "outputs": [],
   "source": [
    "from langchain.document_loaders import WebBaseLoader\n",
    "\n",
    "loader = WebBaseLoader([\n",
    "    \"https://aws.amazon.com/bedrock/\",\n",
    "    \"https://docs.aws.amazon.com/bedrock/latest/userguide/what-is-bedrock.html\",\n",
    "    \"https://aws.amazon.com/blogs/aws/preview-enable-foundation-models-to-complete-tasks-with-agents-for-amazon-bedrock/\",\n",
    "    \"https://docs.aws.amazon.com/bedrock/latest/userguide/agents.html\",\n",
    "    \"https://docs.aws.amazon.com/bedrock/latest/userguide/knowledge-base.html\",\n",
    "\n",
    "])\n",
    "\n",
    "data = loader.load()"
   ]
  },
  {
   "cell_type": "code",
   "execution_count": 5,
   "metadata": {
    "ExecuteTime": {
     "start_time": "2023-11-20T18:24:58.911915Z",
     "end_time": "2023-11-20T18:24:59.224088Z"
    },
    "collapsed": false,
    "jupyter": {
     "outputs_hidden": false
    }
   },
   "outputs": [
    {
     "data": {
      "text/plain": "Dataset({\n    features: ['text'],\n    num_rows: 5\n})"
     },
     "execution_count": 5,
     "metadata": {},
     "output_type": "execute_result"
    }
   ],
   "source": [
    "from datasets import Dataset\n",
    "\n",
    "def strip_spaces(doc):\n",
    "    return {\"text\": doc.page_content.replace(\"  \", \"\")}\n",
    "\n",
    "stripped_data = list(map(strip_spaces, data))\n",
    "\n",
    "train_dataset = Dataset.from_list(stripped_data)\n",
    "\n",
    "train_dataset"
   ]
  },
  {
   "cell_type": "markdown",
   "metadata": {},
   "source": [
    "\n",
    "\n",
    "To train our model, we need to convert our inputs (text) to token IDs. This is done by a Hugging Face Transformers Tokenizer. In addition to QLoRA, we will use bitsanbytes 4-bit precision to quantize out frozen LLM to 4-bit and attach LoRA adapters on it.\n",
    "\n"
   ]
  },
  {
   "cell_type": "code",
   "execution_count": 6,
   "metadata": {
    "ExecuteTime": {
     "start_time": "2023-11-20T18:25:00.028550Z",
     "end_time": "2023-11-20T18:25:00.034369Z"
    },
    "collapsed": false,
    "jupyter": {
     "outputs_hidden": false
    },
    "tags": []
   },
   "outputs": [],
   "source": [
    "def print_trainable_parameters(model):\n",
    "    \"\"\"\n",
    "    Prints the number of trainable parameters in the model.\n",
    "    \"\"\"\n",
    "    trainable_params = 0\n",
    "    all_param = 0\n",
    "    for _, param in model.named_parameters():\n",
    "        all_param += param.numel()\n",
    "        if param.requires_grad:\n",
    "            trainable_params += param.numel()\n",
    "    print(\n",
    "        f\"trainable params: {trainable_params} || all params: {all_param} || trainable%: {100 * trainable_params / all_param}\"\n",
    "    )"
   ]
  },
  {
   "cell_type": "code",
   "execution_count": 7,
   "metadata": {
    "ExecuteTime": {
     "start_time": "2023-11-20T18:25:00.501455Z",
     "end_time": "2023-11-20T18:25:02.457680Z"
    },
    "collapsed": false,
    "jupyter": {
     "outputs_hidden": false
    },
    "tags": []
   },
   "outputs": [
    {
     "name": "stderr",
     "output_type": "stream",
     "text": [
      "/Users/bpistone/miniforge3/envs/pathways/lib/python3.10/site-packages/transformers/models/auto/tokenization_auto.py:671: FutureWarning: The `use_auth_token` argument is deprecated and will be removed in v5 of Transformers. Please use `token` instead.\n",
      "  warnings.warn(\n"
     ]
    }
   ],
   "source": [
    "from transformers import AutoTokenizer\n",
    "\n",
    "model_id = \"mistralai/Mistral-7B-Instruct-v0.1\"\n",
    "\n",
    "tokenizer = AutoTokenizer.from_pretrained(model_id, use_auth_token=True)\n",
    "\n",
    "tokenizer.pad_token = tokenizer.eos_token"
   ]
  },
  {
   "cell_type": "markdown",
   "metadata": {},
   "source": [
    "Creating chunks and tokenizing the inputs for making it usable by the LLM. For additional details, please refer to the blog [Leveraging qLoRA for Fine-Tuning of Task-Fine-Tuned Models Without Catastrophic Forgetting: A Case Study with LLaMA2(-chat)](https://medium.com/towards-data-science/leveraging-qlora-for-fine-tuning-of-task-fine-tuned-models-without-catastrophic-forgetting-d9bcd594cff4)"
   ]
  },
  {
   "cell_type": "code",
   "execution_count": 8,
   "metadata": {
    "ExecuteTime": {
     "start_time": "2023-11-20T18:25:02.459984Z",
     "end_time": "2023-11-20T18:25:02.461994Z"
    },
    "collapsed": false,
    "jupyter": {
     "outputs_hidden": false
    }
   },
   "outputs": [],
   "source": [
    "from itertools import chain\n",
    "from functools import partial\n",
    "\n",
    "remainder = {\"input_ids\": [], \"attention_mask\": [], \"token_type_ids\": []}\n",
    "\n",
    "def chunk(sample, chunk_length=2048):\n",
    "    # define global remainder variable to save remainder from batches to use in next batch\n",
    "    global remainder\n",
    "    # Concatenate all texts and add remainder from previous batch\n",
    "    concatenated_examples = {k: list(chain(*sample[k])) for k in sample.keys()}\n",
    "    concatenated_examples = {k: remainder[k] + concatenated_examples[k] for k in concatenated_examples.keys()}\n",
    "    # get total number of tokens for batch\n",
    "    batch_total_length = len(concatenated_examples[list(sample.keys())[0]])\n",
    "\n",
    "    # get max number of chunks for batch\n",
    "    if batch_total_length >= chunk_length:\n",
    "        batch_chunk_length = (batch_total_length // chunk_length) * chunk_length\n",
    "\n",
    "    # Split by chunks of max_len.\n",
    "    result = {\n",
    "        k: [t[i : i + chunk_length] for i in range(0, batch_chunk_length, chunk_length)]\n",
    "        for k, t in concatenated_examples.items()\n",
    "    }\n",
    "    # add remainder to global variable for next batch\n",
    "    remainder = {k: concatenated_examples[k][batch_chunk_length:] for k in concatenated_examples.keys()}\n",
    "    # prepare labels\n",
    "    result[\"labels\"] = result[\"input_ids\"].copy()\n",
    "    return result"
   ]
  },
  {
   "cell_type": "markdown",
   "metadata": {},
   "source": [
    "Utility method for finding the target modules and update the necessary matrices. Visit [this](https://github.com/artidoro/qlora/blob/main/qlora.py) link for additional info."
   ]
  },
  {
   "cell_type": "code",
   "execution_count": 9,
   "metadata": {
    "ExecuteTime": {
     "start_time": "2023-11-20T18:25:03.100785Z",
     "end_time": "2023-11-20T18:25:04.369144Z"
    },
    "collapsed": false,
    "jupyter": {
     "outputs_hidden": false
    },
    "tags": []
   },
   "outputs": [
    {
     "name": "stderr",
     "output_type": "stream",
     "text": [
      "/Users/bpistone/miniforge3/envs/pathways/lib/python3.10/site-packages/bitsandbytes/cextension.py:34: UserWarning: The installed version of bitsandbytes was compiled without GPU support. 8-bit optimizers, 8-bit multiplication, and GPU quantization are unavailable.\n",
      "  warn(\"The installed version of bitsandbytes was compiled without GPU support. \"\n"
     ]
    },
    {
     "name": "stdout",
     "output_type": "stream",
     "text": [
      "'NoneType' object has no attribute 'cadam32bit_grad_fp32'\n"
     ]
    }
   ],
   "source": [
    "import bitsandbytes as bnb\n",
    "\n",
    "def find_all_linear_names(hf_model):\n",
    "    lora_module_names = set()\n",
    "    for name, module in hf_model.named_modules():\n",
    "        if isinstance(module, bnb.nn.Linear4bit):\n",
    "            names = name.split(\".\")\n",
    "            lora_module_names.add(names[0] if len(names) == 1 else names[-1])\n",
    "\n",
    "    if \"lm_head\" in lora_module_names:  # needed for 16-bit\n",
    "        lora_module_names.remove(\"lm_head\")\n",
    "    return list(lora_module_names)"
   ]
  },
  {
   "cell_type": "markdown",
   "metadata": {},
   "source": [
    "Define the train function"
   ]
  },
  {
   "cell_type": "code",
   "execution_count": 10,
   "metadata": {
    "ExecuteTime": {
     "start_time": "2023-11-20T18:25:04.369468Z",
     "end_time": "2023-11-20T18:25:06.721135Z"
    },
    "collapsed": false,
    "jupyter": {
     "outputs_hidden": false
    },
    "tags": []
   },
   "outputs": [
    {
     "name": "stderr",
     "output_type": "stream",
     "text": [
      "INFO:botocore.credentials:Found credentials in shared credentials file: ~/.aws/credentials\n"
     ]
    },
    {
     "name": "stdout",
     "output_type": "stream",
     "text": [
      "sagemaker.config INFO - Not applying SDK defaults from location: /Library/Application Support/sagemaker/config.yaml\n",
      "sagemaker.config INFO - Fetched defaults config from location: /Users/bpistone/development/amazon/amazon-sagemaker-remote-decorator-generative-ai\n",
      "sagemaker.config INFO - Applied value from config key = SageMaker.PythonSDK.Modules.RemoteFunction.ImageUri\n",
      "sagemaker.config INFO - Applied value from config key = SageMaker.PythonSDK.Modules.RemoteFunction.Dependencies\n",
      "sagemaker.config INFO - Applied value from config key = SageMaker.PythonSDK.Modules.RemoteFunction.InstanceType\n",
      "sagemaker.config INFO - Applied value from config key = SageMaker.PythonSDK.Modules.RemoteFunction.RoleArn\n"
     ]
    }
   ],
   "source": [
    "from huggingface_hub import login\n",
    "from peft import AutoPeftModelForCausalLM, LoraConfig, get_peft_model, prepare_model_for_kbit_training\n",
    "from sagemaker.remote_function import remote\n",
    "import torch\n",
    "from transformers import AutoModelForCausalLM, AutoTokenizer, BitsAndBytesConfig\n",
    "import transformers\n",
    "\n",
    "# Start training\n",
    "@remote(volume_size=100)\n",
    "def train_fn(\n",
    "        model_name,\n",
    "        train_ds,\n",
    "        lora_r=64,\n",
    "        lora_alpha=16,\n",
    "        lora_dropout=0.1,\n",
    "        per_device_train_batch_size=8,\n",
    "        per_device_eval_batch_size=8,\n",
    "        learning_rate=2e-4,\n",
    "        num_train_epochs=1,\n",
    "        chunk_size=2048,\n",
    "        merge_weights=False,\n",
    "        token=None\n",
    "):\n",
    "    if token is not None:\n",
    "        login(token=token)\n",
    "\n",
    "    # tokenize and chunk dataset\n",
    "    lm_dataset = train_ds.map(\n",
    "        lambda sample: tokenizer(sample[\"text\"]), batched=True, remove_columns=list(train_ds.features)\n",
    "    ).map(\n",
    "        partial(chunk, chunk_length=chunk_size),\n",
    "        batched=True,\n",
    "    )\n",
    "\n",
    "    # Print total number of samples\n",
    "    print(f\"Total number of train samples: {len(lm_dataset)}\")\n",
    "\n",
    "    bnb_config = BitsAndBytesConfig(\n",
    "        load_in_4bit=True,\n",
    "        bnb_4bit_use_double_quant=True,\n",
    "        bnb_4bit_quant_type=\"nf4\",\n",
    "        bnb_4bit_compute_dtype=torch.bfloat16\n",
    "    )\n",
    "\n",
    "    model = AutoModelForCausalLM.from_pretrained(\n",
    "        model_name,\n",
    "        trust_remote_code=True,\n",
    "        quantization_config=bnb_config,\n",
    "        device_map=\"auto\")\n",
    "\n",
    "    model.gradient_checkpointing_enable()\n",
    "    model = prepare_model_for_kbit_training(model, use_gradient_checkpointing=True)\n",
    "\n",
    "    # get lora target modules\n",
    "    modules = find_all_linear_names(model)\n",
    "    print(f\"Found {len(modules)} modules to quantize: {modules}\")\n",
    "\n",
    "    config = LoraConfig(\n",
    "        r=lora_r,\n",
    "        lora_alpha=lora_alpha,\n",
    "        target_modules=modules,\n",
    "        lora_dropout=lora_dropout,\n",
    "        bias=\"none\",\n",
    "        task_type=\"CAUSAL_LM\"\n",
    "    )\n",
    "\n",
    "    model = get_peft_model(model, config)\n",
    "    print_trainable_parameters(model)\n",
    "\n",
    "    trainer = transformers.Trainer(\n",
    "        model=model,\n",
    "        train_dataset=lm_dataset,\n",
    "        args=transformers.TrainingArguments(\n",
    "            per_device_train_batch_size=per_device_train_batch_size,\n",
    "            per_device_eval_batch_size=per_device_eval_batch_size,\n",
    "            logging_steps=2,\n",
    "            num_train_epochs=num_train_epochs,\n",
    "            learning_rate=learning_rate,\n",
    "            bf16=True,\n",
    "            save_strategy=\"no\",\n",
    "            output_dir=\"outputs\"\n",
    "        ),\n",
    "        data_collator=transformers.DataCollatorForLanguageModeling(tokenizer, mlm=False),\n",
    "    )\n",
    "    model.config.use_cache = False\n",
    "\n",
    "    trainer.train()\n",
    "\n",
    "    if merge_weights:\n",
    "        output_dir = \"/tmp/model\"\n",
    "\n",
    "        # merge adapter weights with base model and save\n",
    "        # save int 4 model\n",
    "        trainer.model.save_pretrained(output_dir, safe_serialization=False)\n",
    "        # clear memory\n",
    "        del model\n",
    "        del trainer\n",
    "        torch.cuda.empty_cache()\n",
    "\n",
    "        # load PEFT model in fp16\n",
    "        model = AutoPeftModelForCausalLM.from_pretrained(\n",
    "            output_dir,\n",
    "            low_cpu_mem_usage=True,\n",
    "            torch_dtype=torch.float16,\n",
    "        )\n",
    "        # Merge LoRA and base model and save\n",
    "        model = model.merge_and_unload()\n",
    "        model.save_pretrained(\n",
    "            \"/opt/ml/model\", safe_serialization=True, max_shard_size=\"2GB\"\n",
    "        )\n",
    "    else:\n",
    "        model.save_pretrained(\"/opt/ml/model\", safe_serialization=True)\n",
    "\n",
    "    tmp_tokenizer = AutoTokenizer.from_pretrained(model_name)\n",
    "    tmp_tokenizer.save_pretrained(\"/opt/ml/model\")"
   ]
  },
  {
   "cell_type": "code",
   "execution_count": 11,
   "metadata": {
    "ExecuteTime": {
     "start_time": "2023-11-14T20:43:26.848983Z",
     "end_time": "2023-11-14T21:04:05.465078Z"
    },
    "collapsed": false,
    "jupyter": {
     "outputs_hidden": false
    },
    "scrolled": true,
    "tags": []
   },
   "outputs": [
    {
     "name": "stderr",
     "output_type": "stream",
     "text": [
      "2023-11-20 17:25:07,205 sagemaker.remote_function INFO     Copied dependencies file at './requirements.txt' to '/var/folders/1d/p7dclqcx4934dybvv117p3640000gr/T/tmphzc8e56z/temp_workspace/sagemaker_remote_function_workspace/requirements.txt'\n",
      "2023-11-20 17:25:07,206 sagemaker.remote_function INFO     Successfully created workdir archive at '/var/folders/1d/p7dclqcx4934dybvv117p3640000gr/T/tmphzc8e56z/workspace.zip'\n",
      "2023-11-20 17:25:07,315 sagemaker.remote_function INFO     Successfully uploaded workdir to 's3://sagemaker-eu-west-1-691148928602/train-fn-2023-11-20-17-25-06-721/sm_rf_user_ws/workspace.zip'\n",
      "2023-11-20 17:25:07,317 sagemaker.remote_function INFO     Serializing function code to s3://sagemaker-eu-west-1-691148928602/train-fn-2023-11-20-17-25-06-721/function\n",
      "2023-11-20 17:25:09,103 sagemaker.remote_function INFO     Serializing function arguments to s3://sagemaker-eu-west-1-691148928602/train-fn-2023-11-20-17-25-06-721/arguments\n",
      "2023-11-20 17:25:09,348 sagemaker.remote_function INFO     Creating job: train-fn-2023-11-20-17-25-06-721\n"
     ]
    },
    {
     "name": "stdout",
     "output_type": "stream",
     "text": [
      "2023-11-20 17:25:09 Starting - Starting the training job...\n",
      "2023-11-20 17:25:33 Starting - Preparing the instances for training......\n",
      "2023-11-20 17:26:32 Downloading - Downloading input data...\n",
      "2023-11-20 17:26:57 Training - Downloading the training image........................\n",
      "2023-11-20 17:30:53 Training - Training image download completed. Training in progress.....\u001B[34mINFO: CONDA_PKGS_DIRS is set to '/opt/ml/sagemaker/warmpoolcache/sm_remotefunction_user_dependencies_cache/conda/pkgs'\u001B[0m\n",
      "\u001B[34mINFO: PIP_CACHE_DIR is set to '/opt/ml/sagemaker/warmpoolcache/sm_remotefunction_user_dependencies_cache/pip'\u001B[0m\n",
      "\u001B[34mINFO: Bootstraping runtime environment.\u001B[0m\n",
      "\u001B[34m2023-11-20 17:31:46,300 sagemaker.remote_function INFO     Successfully unpacked workspace archive at '/'.\u001B[0m\n",
      "\u001B[34m2023-11-20 17:31:46,300 sagemaker.remote_function INFO     '/sagemaker_remote_function_workspace/pre_exec.sh' does not exist. Assuming no pre-execution commands to run\u001B[0m\n",
      "\u001B[34m2023-11-20 17:31:46,300 sagemaker.remote_function INFO     Running command: '/opt/conda/bin/python -m pip install -r /sagemaker_remote_function_workspace/requirements.txt' in the dir: '/' \u001B[0m\n",
      "\u001B[34m2023-11-20 17:31:46,749 sagemaker.remote_function INFO     Collecting transformers==4.35.1 (from -r /sagemaker_remote_function_workspace/requirements.txt (line 1))\u001B[0m\n",
      "\u001B[34m2023-11-20 17:31:46,797 sagemaker.remote_function INFO       Downloading transformers-4.35.1-py3-none-any.whl (7.9 MB)\u001B[0m\n",
      "\u001B[34m2023-11-20 17:31:46,927 sagemaker.remote_function INFO          ━━━━━━━━━━━━━━━━━━━━━━━━━━━━━━━━━━━━━━━━ 7.9/7.9 MB 62.0 MB/s eta 0:00:00\u001B[0m\n",
      "\u001B[34m2023-11-20 17:31:46,962 sagemaker.remote_function INFO     Collecting peft==0.6.2 (from -r /sagemaker_remote_function_workspace/requirements.txt (line 2))\u001B[0m\n",
      "\u001B[34m2023-11-20 17:31:46,975 sagemaker.remote_function INFO       Downloading peft-0.6.2-py3-none-any.whl (174 kB)\u001B[0m\n",
      "\u001B[34m2023-11-20 17:31:46,979 sagemaker.remote_function INFO          ━━━━━━━━━━━━━━━━━━━━━━━━━━━━━━━━━━━━━━ 174.7/174.7 kB 89.3 MB/s eta 0:00:00\u001B[0m\n",
      "\u001B[34m2023-11-20 17:31:47,006 sagemaker.remote_function INFO     Collecting accelerate==0.24.1 (from -r /sagemaker_remote_function_workspace/requirements.txt (line 3))\u001B[0m\n",
      "\u001B[34m2023-11-20 17:31:47,019 sagemaker.remote_function INFO       Downloading accelerate-0.24.1-py3-none-any.whl (261 kB)\u001B[0m\n",
      "\u001B[34m2023-11-20 17:31:47,025 sagemaker.remote_function INFO          ━━━━━━━━━━━━━━━━━━━━━━━━━━━━━━━━━━━━━━ 261.4/261.4 kB 77.9 MB/s eta 0:00:00\u001B[0m\n",
      "\u001B[34m2023-11-20 17:31:47,136 sagemaker.remote_function INFO     Collecting bitsandbytes==0.41.2.post2 (from -r /sagemaker_remote_function_workspace/requirements.txt (line 4))\u001B[0m\n",
      "\u001B[34m2023-11-20 17:31:47,151 sagemaker.remote_function INFO       Downloading bitsandbytes-0.41.2.post2-py3-none-any.whl (92.6 MB)\u001B[0m\n",
      "\u001B[34m2023-11-20 17:31:48,107 sagemaker.remote_function INFO          ━━━━━━━━━━━━━━━━━━━━━━━━━━━━━━━━━━━━━━━━ 92.6/92.6 MB 37.9 MB/s eta 0:00:00\u001B[0m\n",
      "\u001B[34m2023-11-20 17:31:48,340 sagemaker.remote_function INFO     Collecting safetensors>=0.3.1 (from -r /sagemaker_remote_function_workspace/requirements.txt (line 5))\u001B[0m\n",
      "\u001B[34m2023-11-20 17:31:48,354 sagemaker.remote_function INFO       Downloading safetensors-0.4.0-cp310-cp310-manylinux_2_17_x86_64.manylinux2014_x86_64.whl (1.3 MB)\u001B[0m\n",
      "\u001B[34m2023-11-20 17:31:48,365 sagemaker.remote_function INFO          ━━━━━━━━━━━━━━━━━━━━━━━━━━━━━━━━━━━━━━━━ 1.3/1.3 MB 161.0 MB/s eta 0:00:00\u001B[0m\n",
      "\u001B[34m2023-11-20 17:31:48,367 sagemaker.remote_function INFO     Requirement already satisfied: tokenizers>=0.13.3 in /opt/conda/lib/python3.10/site-packages (from -r /sagemaker_remote_function_workspace/requirements.txt (line 6)) (0.13.3)\u001B[0m\n",
      "\u001B[34m2023-11-20 17:31:48,510 sagemaker.remote_function INFO     Collecting py7zr (from -r /sagemaker_remote_function_workspace/requirements.txt (line 7))\u001B[0m\n",
      "\u001B[34m2023-11-20 17:31:48,523 sagemaker.remote_function INFO       Downloading py7zr-0.20.8-py3-none-any.whl (67 kB)\u001B[0m\n",
      "\u001B[34m2023-11-20 17:31:48,526 sagemaker.remote_function INFO          ━━━━━━━━━━━━━━━━━━━━━━━━━━━━━━━━━━━━━━━━ 67.0/67.0 kB 44.3 MB/s eta 0:00:00\u001B[0m\n",
      "\u001B[34m2023-11-20 17:31:48,939 sagemaker.remote_function INFO     Requirement already satisfied: filelock in /opt/conda/lib/python3.10/site-packages (from transformers==4.35.1->-r /sagemaker_remote_function_workspace/requirements.txt (line 1)) (3.12.0)\u001B[0m\n",
      "\u001B[34m2023-11-20 17:31:48,986 sagemaker.remote_function INFO     Collecting huggingface-hub<1.0,>=0.16.4 (from transformers==4.35.1->-r /sagemaker_remote_function_workspace/requirements.txt (line 1))\u001B[0m\n",
      "\u001B[34m2023-11-20 17:31:48,999 sagemaker.remote_function INFO       Downloading huggingface_hub-0.19.4-py3-none-any.whl (311 kB)\u001B[0m\n",
      "\u001B[34m2023-11-20 17:31:49,004 sagemaker.remote_function INFO          ━━━━━━━━━━━━━━━━━━━━━━━━━━━━━━━━━━━━━ 311.7/311.7 kB 114.1 MB/s eta 0:00:00\u001B[0m\n",
      "\u001B[34m2023-11-20 17:31:49,006 sagemaker.remote_function INFO     Requirement already satisfied: numpy>=1.17 in /opt/conda/lib/python3.10/site-packages (from transformers==4.35.1->-r /sagemaker_remote_function_workspace/requirements.txt (line 1)) (1.23.5)\u001B[0m\n",
      "\u001B[34m2023-11-20 17:31:49,007 sagemaker.remote_function INFO     Requirement already satisfied: packaging>=20.0 in /opt/conda/lib/python3.10/site-packages (from transformers==4.35.1->-r /sagemaker_remote_function_workspace/requirements.txt (line 1)) (23.1)\u001B[0m\n",
      "\u001B[34m2023-11-20 17:31:49,007 sagemaker.remote_function INFO     Requirement already satisfied: pyyaml>=5.1 in /opt/conda/lib/python3.10/site-packages (from transformers==4.35.1->-r /sagemaker_remote_function_workspace/requirements.txt (line 1)) (5.4.1)\u001B[0m\n",
      "\u001B[34m2023-11-20 17:31:49,008 sagemaker.remote_function INFO     Requirement already satisfied: regex!=2019.12.17 in /opt/conda/lib/python3.10/site-packages (from transformers==4.35.1->-r /sagemaker_remote_function_workspace/requirements.txt (line 1)) (2023.5.5)\u001B[0m\n",
      "\u001B[34m2023-11-20 17:31:49,008 sagemaker.remote_function INFO     Requirement already satisfied: requests in /opt/conda/lib/python3.10/site-packages (from transformers==4.35.1->-r /sagemaker_remote_function_workspace/requirements.txt (line 1)) (2.28.2)\u001B[0m\n",
      "\u001B[34m2023-11-20 17:31:49,299 sagemaker.remote_function INFO     Collecting tokenizers>=0.13.3 (from -r /sagemaker_remote_function_workspace/requirements.txt (line 6))\u001B[0m\n",
      "\u001B[34m2023-11-20 17:31:49,320 sagemaker.remote_function INFO       Downloading tokenizers-0.14.1-cp310-cp310-manylinux_2_17_x86_64.manylinux2014_x86_64.whl (3.8 MB)\u001B[0m\n",
      "\u001B[34m2023-11-20 17:31:49,425 sagemaker.remote_function INFO          ━━━━━━━━━━━━━━━━━━━━━━━━━━━━━━━━━━━━━━━━ 3.8/3.8 MB 37.0 MB/s eta 0:00:00\u001B[0m\n",
      "\u001B[34m2023-11-20 17:31:49,430 sagemaker.remote_function INFO     Requirement already satisfied: tqdm>=4.27 in /opt/conda/lib/python3.10/site-packages (from transformers==4.35.1->-r /sagemaker_remote_function_workspace/requirements.txt (line 1)) (4.65.0)\u001B[0m\n",
      "\u001B[34m2023-11-20 17:31:49,449 sagemaker.remote_function INFO     Requirement already satisfied: psutil in /opt/conda/lib/python3.10/site-packages (from peft==0.6.2->-r /sagemaker_remote_function_workspace/requirements.txt (line 2)) (5.9.5)\u001B[0m\n",
      "\u001B[34m2023-11-20 17:31:49,450 sagemaker.remote_function INFO     Requirement already satisfied: torch>=1.13.0 in /opt/conda/lib/python3.10/site-packages (from peft==0.6.2->-r /sagemaker_remote_function_workspace/requirements.txt (line 2)) (2.0.0)\u001B[0m\n",
      "\u001B[34m2023-11-20 17:31:49,566 sagemaker.remote_function INFO     Collecting huggingface-hub<1.0,>=0.16.4 (from transformers==4.35.1->-r /sagemaker_remote_function_workspace/requirements.txt (line 1))\u001B[0m\n",
      "\u001B[34m2023-11-20 17:31:49,581 sagemaker.remote_function INFO       Downloading huggingface_hub-0.17.3-py3-none-any.whl (295 kB)\u001B[0m\n",
      "\u001B[34m2023-11-20 17:31:49,586 sagemaker.remote_function INFO          ━━━━━━━━━━━━━━━━━━━━━━━━━━━━━━━━━━━━━ 295.0/295.0 kB 113.1 MB/s eta 0:00:00\u001B[0m\n",
      "\u001B[34m2023-11-20 17:31:49,634 sagemaker.remote_function INFO     Collecting texttable (from py7zr->-r /sagemaker_remote_function_workspace/requirements.txt (line 7))\u001B[0m\n",
      "\u001B[34m2023-11-20 17:31:49,646 sagemaker.remote_function INFO       Downloading texttable-1.7.0-py2.py3-none-any.whl (10 kB)\u001B[0m\n",
      "\u001B[34m2023-11-20 17:31:49,818 sagemaker.remote_function INFO     Collecting pycryptodomex>=3.16.0 (from py7zr->-r /sagemaker_remote_function_workspace/requirements.txt (line 7))\u001B[0m\n",
      "\u001B[34m2023-11-20 17:31:49,868 sagemaker.remote_function INFO       Downloading pycryptodomex-3.19.0-cp35-abi3-manylinux_2_17_x86_64.manylinux2014_x86_64.whl (2.1 MB)\u001B[0m\n",
      "\u001B[34m2023-11-20 17:31:49,923 sagemaker.remote_function INFO          ━━━━━━━━━━━━━━━━━━━━━━━━━━━━━━━━━━━━━━━━ 2.1/2.1 MB 40.3 MB/s eta 0:00:00\u001B[0m\n",
      "\u001B[34m2023-11-20 17:31:50,162 sagemaker.remote_function INFO     Collecting pyzstd>=0.15.9 (from py7zr->-r /sagemaker_remote_function_workspace/requirements.txt (line 7))\u001B[0m\n",
      "\u001B[34m2023-11-20 17:31:50,178 sagemaker.remote_function INFO       Downloading pyzstd-0.15.9-cp310-cp310-manylinux_2_17_x86_64.manylinux2014_x86_64.whl (412 kB)\u001B[0m\n",
      "\u001B[34m2023-11-20 17:31:50,184 sagemaker.remote_function INFO          ━━━━━━━━━━━━━━━━━━━━━━━━━━━━━━━━━━━━━ 412.3/412.3 kB 121.3 MB/s eta 0:00:00\u001B[0m\n",
      "\u001B[34m2023-11-20 17:31:50,442 sagemaker.remote_function INFO     Collecting pyppmd<1.2.0,>=1.1.0 (from py7zr->-r /sagemaker_remote_function_workspace/requirements.txt (line 7))\u001B[0m\n",
      "\u001B[34m2023-11-20 17:31:50,459 sagemaker.remote_function INFO       Downloading pyppmd-1.1.0-cp310-cp310-manylinux_2_17_x86_64.manylinux2014_x86_64.whl (138 kB)\u001B[0m\n",
      "\u001B[34m2023-11-20 17:31:50,463 sagemaker.remote_function INFO          ━━━━━━━━━━━━━━━━━━━━━━━━━━━━━━━━━━━━━━ 138.9/138.9 kB 72.7 MB/s eta 0:00:00\u001B[0m\n",
      "\u001B[34m2023-11-20 17:31:50,644 sagemaker.remote_function INFO     Collecting pybcj<1.1.0,>=1.0.0 (from py7zr->-r /sagemaker_remote_function_workspace/requirements.txt (line 7))\u001B[0m\n",
      "\u001B[34m2023-11-20 17:31:50,658 sagemaker.remote_function INFO       Downloading pybcj-1.0.2-cp310-cp310-manylinux_2_17_x86_64.manylinux2014_x86_64.whl (49 kB)\u001B[0m\n",
      "\u001B[34m2023-11-20 17:31:50,661 sagemaker.remote_function INFO          ━━━━━━━━━━━━━━━━━━━━━━━━━━━━━━━━━━━━━━━━ 49.7/49.7 kB 33.2 MB/s eta 0:00:00\u001B[0m\n",
      "\u001B[34m2023-11-20 17:31:50,769 sagemaker.remote_function INFO     Collecting multivolumefile>=0.2.3 (from py7zr->-r /sagemaker_remote_function_workspace/requirements.txt (line 7))\u001B[0m\n",
      "\u001B[34m2023-11-20 17:31:50,781 sagemaker.remote_function INFO       Downloading multivolumefile-0.2.3-py3-none-any.whl (17 kB)\u001B[0m\n",
      "\u001B[34m2023-11-20 17:31:50,956 sagemaker.remote_function INFO     Collecting inflate64<1.1.0,>=1.0.0 (from py7zr->-r /sagemaker_remote_function_workspace/requirements.txt (line 7))\u001B[0m\n",
      "\u001B[34m2023-11-20 17:31:50,971 sagemaker.remote_function INFO       Downloading inflate64-1.0.0-cp310-cp310-manylinux_2_17_x86_64.manylinux2014_x86_64.whl (93 kB)\u001B[0m\n",
      "\u001B[34m2023-11-20 17:31:50,975 sagemaker.remote_function INFO          ━━━━━━━━━━━━━━━━━━━━━━━━━━━━━━━━━━━━━━━━ 93.1/93.1 kB 60.3 MB/s eta 0:00:00\u001B[0m\n",
      "\u001B[34m2023-11-20 17:31:51,030 sagemaker.remote_function INFO     Collecting brotli>=1.1.0 (from py7zr->-r /sagemaker_remote_function_workspace/requirements.txt (line 7))\u001B[0m\n",
      "\u001B[34m2023-11-20 17:31:51,046 sagemaker.remote_function INFO       Downloading Brotli-1.1.0-cp310-cp310-manylinux_2_5_x86_64.manylinux1_x86_64.manylinux_2_12_x86_64.manylinux2010_x86_64.whl (3.0 MB)\u001B[0m\n",
      "\u001B[34m2023-11-20 17:31:51,069 sagemaker.remote_function INFO          ━━━━━━━━━━━━━━━━━━━━━━━━━━━━━━━━━━━━━━━━ 3.0/3.0 MB 145.9 MB/s eta 0:00:00\u001B[0m\n",
      "\u001B[34m2023-11-20 17:31:51,194 sagemaker.remote_function INFO     Requirement already satisfied: fsspec in /opt/conda/lib/python3.10/site-packages (from huggingface-hub<1.0,>=0.16.4->transformers==4.35.1->-r /sagemaker_remote_function_workspace/requirements.txt (line 1)) (2023.5.0)\u001B[0m\n",
      "\u001B[34m2023-11-20 17:31:51,195 sagemaker.remote_function INFO     Requirement already satisfied: typing-extensions>=3.7.4.3 in /opt/conda/lib/python3.10/site-packages (from huggingface-hub<1.0,>=0.16.4->transformers==4.35.1->-r /sagemaker_remote_function_workspace/requirements.txt (line 1)) (4.5.0)\u001B[0m\n",
      "\u001B[34m2023-11-20 17:31:51,272 sagemaker.remote_function INFO     Requirement already satisfied: sympy in /opt/conda/lib/python3.10/site-packages (from torch>=1.13.0->peft==0.6.2->-r /sagemaker_remote_function_workspace/requirements.txt (line 2)) (1.11.1)\u001B[0m\n",
      "\u001B[34m2023-11-20 17:31:51,273 sagemaker.remote_function INFO     Requirement already satisfied: networkx in /opt/conda/lib/python3.10/site-packages (from torch>=1.13.0->peft==0.6.2->-r /sagemaker_remote_function_workspace/requirements.txt (line 2)) (3.1)\u001B[0m\n",
      "\u001B[34m2023-11-20 17:31:51,273 sagemaker.remote_function INFO     Requirement already satisfied: jinja2 in /opt/conda/lib/python3.10/site-packages (from torch>=1.13.0->peft==0.6.2->-r /sagemaker_remote_function_workspace/requirements.txt (line 2)) (3.1.2)\u001B[0m\n",
      "\u001B[34m2023-11-20 17:31:51,312 sagemaker.remote_function INFO     Requirement already satisfied: charset-normalizer<4,>=2 in /opt/conda/lib/python3.10/site-packages (from requests->transformers==4.35.1->-r /sagemaker_remote_function_workspace/requirements.txt (line 1)) (3.1.0)\u001B[0m\n",
      "\u001B[34m2023-11-20 17:31:51,312 sagemaker.remote_function INFO     Requirement already satisfied: idna<4,>=2.5 in /opt/conda/lib/python3.10/site-packages (from requests->transformers==4.35.1->-r /sagemaker_remote_function_workspace/requirements.txt (line 1)) (3.4)\u001B[0m\n",
      "\u001B[34m2023-11-20 17:31:51,313 sagemaker.remote_function INFO     Requirement already satisfied: urllib3<1.27,>=1.21.1 in /opt/conda/lib/python3.10/site-packages (from requests->transformers==4.35.1->-r /sagemaker_remote_function_workspace/requirements.txt (line 1)) (1.26.15)\u001B[0m\n",
      "\u001B[34m2023-11-20 17:31:51,313 sagemaker.remote_function INFO     Requirement already satisfied: certifi>=2017.4.17 in /opt/conda/lib/python3.10/site-packages (from requests->transformers==4.35.1->-r /sagemaker_remote_function_workspace/requirements.txt (line 1)) (2023.5.7)\u001B[0m\n",
      "\u001B[34m2023-11-20 17:31:51,395 sagemaker.remote_function INFO     Requirement already satisfied: MarkupSafe>=2.0 in /opt/conda/lib/python3.10/site-packages (from jinja2->torch>=1.13.0->peft==0.6.2->-r /sagemaker_remote_function_workspace/requirements.txt (line 2)) (2.1.2)\u001B[0m\n",
      "\u001B[34m2023-11-20 17:31:51,421 sagemaker.remote_function INFO     Requirement already satisfied: mpmath>=0.19 in /opt/conda/lib/python3.10/site-packages (from sympy->torch>=1.13.0->peft==0.6.2->-r /sagemaker_remote_function_workspace/requirements.txt (line 2)) (1.3.0)\u001B[0m\n",
      "\u001B[34m2023-11-20 17:31:54,081 sagemaker.remote_function INFO     Installing collected packages: texttable, brotli, bitsandbytes, safetensors, pyzstd, pyppmd, pycryptodomex, pybcj, multivolumefile, inflate64, py7zr, huggingface-hub, tokenizers, accelerate, transformers, peft\u001B[0m\n",
      "\u001B[34m2023-11-20 17:31:55,871 sagemaker.remote_function INFO       Attempting uninstall: huggingface-hub\u001B[0m\n",
      "\u001B[34m2023-11-20 17:31:55,873 sagemaker.remote_function INFO         Found existing installation: huggingface-hub 0.14.1\u001B[0m\n",
      "\u001B[34m2023-11-20 17:31:55,879 sagemaker.remote_function INFO         Uninstalling huggingface-hub-0.14.1:\u001B[0m\n",
      "\u001B[34m2023-11-20 17:31:55,898 sagemaker.remote_function INFO           Successfully uninstalled huggingface-hub-0.14.1\u001B[0m\n",
      "\u001B[34m2023-11-20 17:31:56,009 sagemaker.remote_function INFO       Attempting uninstall: tokenizers\u001B[0m\n",
      "\u001B[34m2023-11-20 17:31:56,011 sagemaker.remote_function INFO         Found existing installation: tokenizers 0.13.3\u001B[0m\n",
      "\u001B[34m2023-11-20 17:31:56,015 sagemaker.remote_function INFO         Uninstalling tokenizers-0.13.3:\u001B[0m\n",
      "\u001B[34m2023-11-20 17:31:56,032 sagemaker.remote_function INFO           Successfully uninstalled tokenizers-0.13.3\u001B[0m\n",
      "\u001B[34m2023-11-20 17:31:56,110 sagemaker.remote_function INFO       Attempting uninstall: accelerate\u001B[0m\n",
      "\u001B[34m2023-11-20 17:31:56,111 sagemaker.remote_function INFO         Found existing installation: accelerate 0.19.0\u001B[0m\n",
      "\u001B[34m2023-11-20 17:31:56,119 sagemaker.remote_function INFO         Uninstalling accelerate-0.19.0:\u001B[0m\n",
      "\u001B[34m2023-11-20 17:31:56,142 sagemaker.remote_function INFO           Successfully uninstalled accelerate-0.19.0\u001B[0m\n",
      "\u001B[34m2023-11-20 17:31:56,271 sagemaker.remote_function INFO       Attempting uninstall: transformers\u001B[0m\n",
      "\u001B[34m2023-11-20 17:31:56,275 sagemaker.remote_function INFO         Found existing installation: transformers 4.28.1\u001B[0m\n",
      "\u001B[34m2023-11-20 17:31:56,404 sagemaker.remote_function INFO         Uninstalling transformers-4.28.1:\u001B[0m\n",
      "\u001B[34m2023-11-20 17:31:56,795 sagemaker.remote_function INFO           Successfully uninstalled transformers-4.28.1\u001B[0m\n",
      "\u001B[34m2023-11-20 17:32:00,541 sagemaker.remote_function INFO     Successfully installed accelerate-0.24.1 bitsandbytes-0.41.2.post2 brotli-1.1.0 huggingface-hub-0.17.3 inflate64-1.0.0 multivolumefile-0.2.3 peft-0.6.2 py7zr-0.20.8 pybcj-1.0.2 pycryptodomex-3.19.0 pyppmd-1.1.0 pyzstd-0.15.9 safetensors-0.4.0 texttable-1.7.0 tokenizers-0.14.1 transformers-4.35.1\u001B[0m\n",
      "\u001B[34m2023-11-20 17:32:00,885 sagemaker.remote_function WARNING  WARNING: Running pip as the 'root' user can result in broken permissions and conflicting behaviour with the system package manager. It is recommended to use a virtual environment instead: https://pip.pypa.io/warnings/venv\u001B[0m\n",
      "\u001B[34m2023-11-20 17:32:00,885 sagemaker.remote_function WARNING  \u001B[0m\n",
      "\u001B[34m2023-11-20 17:32:00,885 sagemaker.remote_function WARNING  [notice] A new release of pip is available: 23.1.2 -> 23.3.1\u001B[0m\n",
      "\u001B[34m2023-11-20 17:32:00,885 sagemaker.remote_function WARNING  [notice] To update, run: pip install --upgrade pip\u001B[0m\n",
      "\u001B[34m2023-11-20 17:32:00,885 sagemaker.remote_function INFO     Command /opt/conda/bin/python -m pip install -r /sagemaker_remote_function_workspace/requirements.txt ran successfully\u001B[0m\n",
      "\u001B[34mINFO: Changing workspace to sagemaker_remote_function_workspace.\u001B[0m\n",
      "\u001B[34mINFO: No conda env provided. Invoking remote function\u001B[0m\n",
      "\u001B[34m2023-11-20 17:32:01,874 sagemaker.remote_function INFO     Deserializing function code from s3://sagemaker-eu-west-1-691148928602/train-fn-2023-11-20-17-25-06-721/function\u001B[0m\n",
      "\u001B[34m2023-11-20 17:32:04,654 sagemaker.remote_function INFO     Deserializing function arguments from s3://sagemaker-eu-west-1-691148928602/train-fn-2023-11-20-17-25-06-721/arguments\u001B[0m\n",
      "\u001B[34m2023-11-20 17:32:05,002 sagemaker.remote_function INFO     Invoking the function\u001B[0m\n",
      "\u001B[34mTotal number of train samples: 4\u001B[0m\n",
      "\u001B[34m#015Map:   0%|          | 0/5 [00:00<?, ? examples/s]#015                                                 #015#015Map:   0%|          | 0/5 [00:00<?, ? examples/s]#015                                                 #015#015Downloading config.json:   0%|          | 0.00/571 [00:00<?, ?B/s]#015Downloading config.json: 100%|██████████| 571/571 [00:00<00:00, 3.23MB/s]\u001B[0m\n",
      "\u001B[34m#015Downloading (…)model.bin.index.json:   0%|          | 0.00/23.9k [00:00<?, ?B/s]#015Downloading (…)model.bin.index.json: 100%|██████████| 23.9k/23.9k [00:00<00:00, 177MB/s]\u001B[0m\n",
      "\u001B[34m#015Downloading shards:   0%|          | 0/2 [00:00<?, ?it/s]\u001B[0m\n",
      "\u001B[34m#015Downloading (…)l-00001-of-00002.bin:   0%|          | 0.00/9.94G [00:00<?, ?B/s]#033[A\u001B[0m\n",
      "\u001B[34m#015Downloading (…)l-00001-of-00002.bin:   0%|          | 21.0M/9.94G [00:00<01:20, 123MB/s]#033[A\u001B[0m\n",
      "\u001B[34m#015Downloading (…)l-00001-of-00002.bin:   0%|          | 41.9M/9.94G [00:00<01:22, 120MB/s]#033[A\u001B[0m\n",
      "\u001B[34m#015Downloading (…)l-00001-of-00002.bin:   1%|          | 62.9M/9.94G [00:00<01:09, 142MB/s]#033[A\u001B[0m\n",
      "\u001B[34m#015Downloading (…)l-00001-of-00002.bin:   1%|          | 83.9M/9.94G [00:00<01:52, 87.5MB/s]#033[A\u001B[0m\n",
      "\u001B[34m#015Downloading (…)l-00001-of-00002.bin:   1%|          | 105M/9.94G [00:01<01:44, 94.2MB/s] #033[A\u001B[0m\n",
      "\u001B[34m#015Downloading (…)l-00001-of-00002.bin:   1%|▏         | 126M/9.94G [00:01<01:42, 95.3MB/s]#033[A\u001B[0m\n",
      "\u001B[34m#015Downloading (…)l-00001-of-00002.bin:   1%|▏         | 147M/9.94G [00:01<01:46, 91.7MB/s]#033[A\u001B[0m\n",
      "\u001B[34m#015Downloading (…)l-00001-of-00002.bin:   2%|▏         | 157M/9.94G [00:01<01:54, 85.4MB/s]#033[A\u001B[0m\n",
      "\u001B[34m#015Downloading (…)l-00001-of-00002.bin:   2%|▏         | 168M/9.94G [00:01<02:14, 72.6MB/s]#033[A\u001B[0m\n",
      "\u001B[34m#015Downloading (…)l-00001-of-00002.bin:   2%|▏         | 189M/9.94G [00:02<01:47, 90.6MB/s]#033[A\u001B[0m\n",
      "\u001B[34m#015Downloading (…)l-00001-of-00002.bin:   2%|▏         | 210M/9.94G [00:02<01:29, 108MB/s] #033[A\u001B[0m\n",
      "\u001B[34m#015Downloading (…)l-00001-of-00002.bin:   2%|▏         | 231M/9.94G [00:02<01:36, 101MB/s]#033[A\u001B[0m\n",
      "\u001B[34m#015Downloading (…)l-00001-of-00002.bin:   3%|▎         | 252M/9.94G [00:02<01:24, 115MB/s]#033[A\u001B[0m\n",
      "\u001B[34m#015Downloading (…)l-00001-of-00002.bin:   3%|▎         | 273M/9.94G [00:02<01:31, 105MB/s]#033[A\u001B[0m\n",
      "\u001B[34m#015Downloading (…)l-00001-of-00002.bin:   3%|▎         | 294M/9.94G [00:02<01:33, 103MB/s]#033[A\u001B[0m\n",
      "\u001B[34m#015Downloading (…)l-00001-of-00002.bin:   3%|▎         | 315M/9.94G [00:03<01:49, 87.5MB/s]#033[A\u001B[0m\n",
      "\u001B[34m#015Downloading (…)l-00001-of-00002.bin:   3%|▎         | 346M/9.94G [00:03<01:23, 115MB/s] #033[A\u001B[0m\n",
      "\u001B[34m#015Downloading (…)l-00001-of-00002.bin:   4%|▎         | 367M/9.94G [00:03<01:17, 123MB/s]#033[A\u001B[0m\n",
      "\u001B[34m#015Downloading (…)l-00001-of-00002.bin:   4%|▍         | 388M/9.94G [00:04<01:58, 80.7MB/s]#033[A\u001B[0m\n",
      "\u001B[34m#015Downloading (…)l-00001-of-00002.bin:   4%|▍         | 409M/9.94G [00:04<01:58, 80.1MB/s]#033[A\u001B[0m\n",
      "\u001B[34m#015Downloading (…)l-00001-of-00002.bin:   4%|▍         | 419M/9.94G [00:04<01:57, 81.1MB/s]#033[A\u001B[0m\n",
      "\u001B[34m#015Downloading (…)l-00001-of-00002.bin:   4%|▍         | 430M/9.94G [00:04<02:28, 64.0MB/s]#033[A\u001B[0m\n",
      "\u001B[34m#015Downloading (…)l-00001-of-00002.bin:   4%|▍         | 440M/9.94G [00:04<02:18, 68.4MB/s]#033[A\u001B[0m\n",
      "\u001B[34m#015Downloading (…)l-00001-of-00002.bin:   5%|▍         | 451M/9.94G [00:05<02:25, 65.2MB/s]#033[A\u001B[0m\n",
      "\u001B[34m#015Downloading (…)l-00001-of-00002.bin:   5%|▍         | 461M/9.94G [00:05<02:27, 64.1MB/s]#033[A\u001B[0m\n",
      "\u001B[34m#015Downloading (…)l-00001-of-00002.bin:   5%|▍         | 472M/9.94G [00:05<02:16, 69.3MB/s]#033[A\u001B[0m\n",
      "\u001B[34m#015Downloading (…)l-00001-of-00002.bin:   5%|▍         | 493M/9.94G [00:05<01:47, 88.0MB/s]#033[A\u001B[0m\n",
      "\u001B[34m#015Downloading (…)l-00001-of-00002.bin:   5%|▌         | 503M/9.94G [00:05<01:47, 88.2MB/s]#033[A\u001B[0m\n",
      "\u001B[34m#015Downloading (…)l-00001-of-00002.bin:   5%|▌         | 524M/9.94G [00:05<01:33, 100MB/s] #033[A\u001B[0m\n",
      "\u001B[34m#015Downloading (…)l-00001-of-00002.bin:   6%|▌         | 556M/9.94G [00:05<01:10, 134MB/s]#033[A\u001B[0m\n",
      "\u001B[34m#015Downloading (…)l-00001-of-00002.bin:   6%|▌         | 577M/9.94G [00:06<01:06, 140MB/s]#033[A\u001B[0m\n",
      "\u001B[34m#015Downloading (…)l-00001-of-00002.bin:   6%|▌         | 598M/9.94G [00:06<01:24, 111MB/s]#033[A\u001B[0m\n",
      "\u001B[34m#015Downloading (…)l-00001-of-00002.bin:   6%|▌         | 619M/9.94G [00:06<01:15, 124MB/s]#033[A\u001B[0m\n",
      "\u001B[34m#015Downloading (…)l-00001-of-00002.bin:   7%|▋         | 650M/9.94G [00:06<00:59, 156MB/s]#033[A\u001B[0m\n",
      "\u001B[34m#015Downloading (…)l-00001-of-00002.bin:   7%|▋         | 682M/9.94G [00:06<00:55, 166MB/s]#033[A\u001B[0m\n",
      "\u001B[34m#015Downloading (…)l-00001-of-00002.bin:   7%|▋         | 703M/9.94G [00:06<00:54, 170MB/s]#033[A\u001B[0m\n",
      "\u001B[34m#015Downloading (…)l-00001-of-00002.bin:   7%|▋         | 724M/9.94G [00:06<00:53, 171MB/s]#033[A\u001B[0m\n",
      "\u001B[34m#015Downloading (…)l-00001-of-00002.bin:   8%|▊         | 755M/9.94G [00:07<00:56, 163MB/s]#033[A\u001B[0m\n",
      "\u001B[34m#015Downloading (…)l-00001-of-00002.bin:   8%|▊         | 776M/9.94G [00:07<01:29, 103MB/s]#033[A\u001B[0m\n",
      "\u001B[34m#015Downloading (…)l-00001-of-00002.bin:   8%|▊         | 797M/9.94G [00:07<01:40, 90.7MB/s]#033[A\u001B[0m\n",
      "\u001B[34m#015Downloading (…)l-00001-of-00002.bin:   8%|▊         | 818M/9.94G [00:08<01:27, 105MB/s] #033[A\u001B[0m\n",
      "\u001B[34m#015Downloading (…)l-00001-of-00002.bin:   8%|▊         | 839M/9.94G [00:08<01:22, 110MB/s]#033[A\u001B[0m\n",
      "\u001B[34m#015Downloading (…)l-00001-of-00002.bin:   9%|▊         | 860M/9.94G [00:08<01:20, 113MB/s]#033[A\u001B[0m\n",
      "\u001B[34m#015Downloading (…)l-00001-of-00002.bin:   9%|▉         | 881M/9.94G [00:08<01:15, 120MB/s]#033[A\u001B[0m\n",
      "\u001B[34m#015Downloading (…)l-00001-of-00002.bin:   9%|▉         | 912M/9.94G [00:08<01:01, 147MB/s]#033[A\u001B[0m\n",
      "\u001B[34m#015Downloading (…)l-00001-of-00002.bin:   9%|▉         | 933M/9.94G [00:08<01:01, 147MB/s]#033[A\u001B[0m\n",
      "\u001B[34m#015Downloading (…)l-00001-of-00002.bin:  10%|▉         | 954M/9.94G [00:08<00:59, 151MB/s]#033[A\u001B[0m\n",
      "\u001B[34m#015Downloading (…)l-00001-of-00002.bin:  10%|▉         | 975M/9.94G [00:09<01:00, 148MB/s]#033[A\u001B[0m\n",
      "\u001B[34m#015Downloading (…)l-00001-of-00002.bin:  10%|█         | 996M/9.94G [00:09<00:56, 159MB/s]#033[A\u001B[0m\n",
      "\u001B[34m#015Downloading (…)l-00001-of-00002.bin:  10%|█         | 1.02G/9.94G [00:09<00:54, 165MB/s]#033[A\u001B[0m\n",
      "\u001B[34m#015Downloading (…)l-00001-of-00002.bin:  10%|█         | 1.04G/9.94G [00:09<00:53, 166MB/s]#033[A\u001B[0m\n",
      "\u001B[34m#015Downloading (…)l-00001-of-00002.bin:  11%|█         | 1.06G/9.94G [00:09<00:54, 163MB/s]#033[A\u001B[0m\n",
      "\u001B[34m#015Downloading (…)l-00001-of-00002.bin:  11%|█         | 1.09G/9.94G [00:09<00:49, 178MB/s]#033[A\u001B[0m\n",
      "\u001B[34m#015Downloading (…)l-00001-of-00002.bin:  11%|█▏        | 1.12G/9.94G [00:09<00:59, 148MB/s]#033[A\u001B[0m\n",
      "\u001B[34m#015Downloading (…)l-00001-of-00002.bin:  12%|█▏        | 1.15G/9.94G [00:10<00:55, 159MB/s]#033[A\u001B[0m\n",
      "\u001B[34m#015Downloading (…)l-00001-of-00002.bin:  12%|█▏        | 1.17G/9.94G [00:10<00:59, 148MB/s]#033[A\u001B[0m\n",
      "\u001B[34m#015Downloading (…)l-00001-of-00002.bin:  12%|█▏        | 1.20G/9.94G [00:10<00:55, 158MB/s]#033[A\u001B[0m\n",
      "\u001B[34m#015Downloading (…)l-00001-of-00002.bin:  12%|█▏        | 1.23G/9.94G [00:10<00:47, 184MB/s]#033[A\u001B[0m\n",
      "\u001B[34m#015Downloading (…)l-00001-of-00002.bin:  13%|█▎        | 1.25G/9.94G [00:10<00:46, 189MB/s]#033[A\u001B[0m\n",
      "\u001B[34m#015Downloading (…)l-00001-of-00002.bin:  13%|█▎        | 1.27G/9.94G [00:10<00:58, 148MB/s]#033[A\u001B[0m\n",
      "\u001B[34m#015Downloading (…)l-00001-of-00002.bin:  13%|█▎        | 1.29G/9.94G [00:11<01:03, 136MB/s]#033[A\u001B[0m\n",
      "\u001B[34m#015Downloading (…)l-00001-of-00002.bin:  13%|█▎        | 1.32G/9.94G [00:11<00:54, 157MB/s]#033[A\u001B[0m\n",
      "\u001B[34m#015Downloading (…)l-00001-of-00002.bin:  13%|█▎        | 1.34G/9.94G [00:11<00:56, 151MB/s]#033[A\u001B[0m\n",
      "\u001B[34m#015Downloading (…)l-00001-of-00002.bin:  14%|█▍        | 1.37G/9.94G [00:11<00:51, 167MB/s]#033[A\u001B[0m\n",
      "\u001B[34m#015Downloading (…)l-00001-of-00002.bin:  14%|█▍        | 1.39G/9.94G [00:11<00:51, 167MB/s]#033[A\u001B[0m\n",
      "\u001B[34m#015Downloading (…)l-00001-of-00002.bin:  14%|█▍        | 1.42G/9.94G [00:12<01:16, 111MB/s]#033[A\u001B[0m\n",
      "\u001B[34m#015Downloading (…)l-00001-of-00002.bin:  14%|█▍        | 1.44G/9.94G [00:12<01:21, 104MB/s]#033[A\u001B[0m\n",
      "\u001B[34m#015Downloading (…)l-00001-of-00002.bin:  15%|█▍        | 1.46G/9.94G [00:12<01:38, 86.2MB/s]#033[A\u001B[0m\n",
      "\u001B[34m#015Downloading (…)l-00001-of-00002.bin:  15%|█▍        | 1.47G/9.94G [00:12<01:46, 79.4MB/s]#033[A\u001B[0m\n",
      "\u001B[34m#015Downloading (…)l-00001-of-00002.bin:  15%|█▍        | 1.48G/9.94G [00:12<01:41, 83.1MB/s]#033[A\u001B[0m\n",
      "\u001B[34m#015Downloading (…)l-00001-of-00002.bin:  15%|█▌        | 1.50G/9.94G [00:13<01:31, 92.0MB/s]#033[A\u001B[0m\n",
      "\u001B[34m#015Downloading (…)l-00001-of-00002.bin:  15%|█▌        | 1.51G/9.94G [00:13<01:50, 76.1MB/s]#033[A\u001B[0m\n",
      "\u001B[34m#015Downloading (…)l-00001-of-00002.bin:  15%|█▌        | 1.53G/9.94G [00:13<01:33, 89.7MB/s]#033[A\u001B[0m\n",
      "\u001B[34m#015Downloading (…)l-00001-of-00002.bin:  16%|█▌        | 1.55G/9.94G [00:13<01:24, 98.8MB/s]#033[A\u001B[0m\n",
      "\u001B[34m#015Downloading (…)l-00001-of-00002.bin:  16%|█▌        | 1.57G/9.94G [00:13<01:31, 91.5MB/s]#033[A\u001B[0m\n",
      "\u001B[34m#015Downloading (…)l-00001-of-00002.bin:  16%|█▌        | 1.59G/9.94G [00:14<01:18, 107MB/s] #033[A\u001B[0m\n",
      "\u001B[34m#015Downloading (…)l-00001-of-00002.bin:  16%|█▌        | 1.61G/9.94G [00:14<01:10, 118MB/s]#033[A\u001B[0m\n",
      "\u001B[34m#015Downloading (…)l-00001-of-00002.bin:  16%|█▋        | 1.64G/9.94G [00:14<01:13, 113MB/s]#033[A\u001B[0m\n",
      "\u001B[34m#015Downloading (…)l-00001-of-00002.bin:  17%|█▋        | 1.66G/9.94G [00:14<01:04, 128MB/s]#033[A\u001B[0m\n",
      "\u001B[34m#015Downloading (…)l-00001-of-00002.bin:  17%|█▋        | 1.68G/9.94G [00:14<01:27, 94.0MB/s]#033[A\u001B[0m\n",
      "\u001B[34m#015Downloading (…)l-00001-of-00002.bin:  17%|█▋        | 1.70G/9.94G [00:15<01:29, 92.6MB/s]#033[A\u001B[0m\n",
      "\u001B[34m#015Downloading (…)l-00001-of-00002.bin:  17%|█▋        | 1.72G/9.94G [00:15<01:13, 111MB/s] #033[A\u001B[0m\n",
      "\u001B[34m#015Downloading (…)l-00001-of-00002.bin:  18%|█▊        | 1.74G/9.94G [00:15<01:36, 85.1MB/s]#033[A\u001B[0m\n",
      "\u001B[34m#015Downloading (…)l-00001-of-00002.bin:  18%|█▊        | 1.76G/9.94G [00:16<02:24, 56.7MB/s]#033[A\u001B[0m\n",
      "\u001B[34m#015Downloading (…)l-00001-of-00002.bin:  18%|█▊        | 1.77G/9.94G [00:16<02:21, 57.6MB/s]#033[A\u001B[0m\n",
      "\u001B[34m#015Downloading (…)l-00001-of-00002.bin:  18%|█▊        | 1.79G/9.94G [00:16<01:48, 74.9MB/s]#033[A\u001B[0m\n",
      "\u001B[34m#015Downloading (…)l-00001-of-00002.bin:  18%|█▊        | 1.81G/9.94G [00:16<01:33, 87.3MB/s]#033[A\u001B[0m\n",
      "\u001B[34m#015Downloading (…)l-00001-of-00002.bin:  18%|█▊        | 1.84G/9.94G [00:16<01:36, 84.2MB/s]#033[A\u001B[0m\n",
      "\u001B[34m#015Downloading (…)l-00001-of-00002.bin:  19%|█▊        | 1.86G/9.94G [00:17<01:18, 103MB/s] #033[A\u001B[0m\n",
      "\u001B[34m#015Downloading (…)l-00001-of-00002.bin:  19%|█▉        | 1.88G/9.94G [00:17<01:18, 102MB/s]#033[A\u001B[0m\n",
      "\u001B[34m#015Downloading (…)l-00001-of-00002.bin:  19%|█▉        | 1.90G/9.94G [00:17<01:14, 109MB/s]#033[A\u001B[0m\n",
      "\u001B[34m#015Downloading (…)l-00001-of-00002.bin:  19%|█▉        | 1.92G/9.94G [00:17<01:05, 122MB/s]#033[A\u001B[0m\n",
      "\u001B[34m#015Downloading (…)l-00001-of-00002.bin:  20%|█▉        | 1.95G/9.94G [00:17<00:56, 141MB/s]#033[A\u001B[0m\n",
      "\u001B[34m#015Downloading (…)l-00001-of-00002.bin:  20%|█▉        | 1.97G/9.94G [00:18<01:23, 95.3MB/s]#033[A\u001B[0m\n",
      "\u001B[34m#015Downloading (…)l-00001-of-00002.bin:  20%|██        | 1.99G/9.94G [00:18<01:32, 86.2MB/s]#033[A\u001B[0m\n",
      "\u001B[34m#015Downloading (…)l-00001-of-00002.bin:  20%|██        | 2.01G/9.94G [00:18<01:27, 91.1MB/s]#033[A\u001B[0m\n",
      "\u001B[34m#015Downloading (…)l-00001-of-00002.bin:  20%|██        | 2.03G/9.94G [00:18<01:25, 92.0MB/s]#033[A\u001B[0m\n",
      "\u001B[34m#015Downloading (…)l-00001-of-00002.bin:  21%|██        | 2.06G/9.94G [00:18<01:20, 97.9MB/s]#033[A\u001B[0m\n",
      "\u001B[34m#015Downloading (…)l-00001-of-00002.bin:  21%|██        | 2.08G/9.94G [00:19<01:39, 79.3MB/s]#033[A\u001B[0m\n",
      "\u001B[34m#015Downloading (…)l-00001-of-00002.bin:  21%|██        | 2.10G/9.94G [00:19<01:23, 93.4MB/s]#033[A\u001B[0m\n",
      "\u001B[34m#015Downloading (…)l-00001-of-00002.bin:  21%|██▏       | 2.12G/9.94G [00:19<01:18, 99.9MB/s]#033[A\u001B[0m\n",
      "\u001B[34m#015Downloading (…)l-00001-of-00002.bin:  22%|██▏       | 2.14G/9.94G [00:19<01:20, 96.7MB/s]#033[A\u001B[0m\n",
      "\u001B[34m#015Downloading (…)l-00001-of-00002.bin:  22%|██▏       | 2.16G/9.94G [00:20<01:30, 85.9MB/s]#033[A\u001B[0m\n",
      "\u001B[34m#015Downloading (…)l-00001-of-00002.bin:  22%|██▏       | 2.17G/9.94G [00:20<01:42, 75.7MB/s]#033[A\u001B[0m\n",
      "\u001B[34m#015Downloading (…)l-00001-of-00002.bin:  22%|██▏       | 2.19G/9.94G [00:20<01:33, 82.9MB/s]#033[A\u001B[0m\n",
      "\u001B[34m#015Downloading (…)l-00001-of-00002.bin:  22%|██▏       | 2.21G/9.94G [00:20<01:23, 92.6MB/s]#033[A\u001B[0m\n",
      "\u001B[34m#015Downloading (…)l-00001-of-00002.bin:  22%|██▏       | 2.23G/9.94G [00:20<01:10, 110MB/s] #033[A\u001B[0m\n",
      "\u001B[34m#015Downloading (…)l-00001-of-00002.bin:  23%|██▎       | 2.25G/9.94G [00:21<01:10, 109MB/s]#033[A\u001B[0m\n",
      "\u001B[34m#015Downloading (…)l-00001-of-00002.bin:  23%|██▎       | 2.28G/9.94G [00:21<01:02, 122MB/s]#033[A\u001B[0m\n",
      "\u001B[34m#015Downloading (…)l-00001-of-00002.bin:  23%|██▎       | 2.30G/9.94G [00:21<00:57, 134MB/s]#033[A\u001B[0m\n",
      "\u001B[34m#015Downloading (…)l-00001-of-00002.bin:  23%|██▎       | 2.32G/9.94G [00:21<01:05, 117MB/s]#033[A\u001B[0m\n",
      "\u001B[34m#015Downloading (…)l-00001-of-00002.bin:  24%|██▎       | 2.34G/9.94G [00:21<01:00, 125MB/s]#033[A\u001B[0m\n",
      "\u001B[34m#015Downloading (…)l-00001-of-00002.bin:  24%|██▎       | 2.36G/9.94G [00:21<01:02, 121MB/s]#033[A\u001B[0m\n",
      "\u001B[34m#015Downloading (…)l-00001-of-00002.bin:  24%|██▍       | 2.38G/9.94G [00:22<01:06, 114MB/s]#033[A\u001B[0m\n",
      "\u001B[34m#015Downloading (…)l-00001-of-00002.bin:  24%|██▍       | 2.40G/9.94G [00:22<01:19, 94.7MB/s]#033[A\u001B[0m\n",
      "\u001B[34m#015Downloading (…)l-00001-of-00002.bin:  24%|██▍       | 2.42G/9.94G [00:22<01:09, 108MB/s] #033[A\u001B[0m\n",
      "\u001B[34m#015Downloading (…)l-00001-of-00002.bin:  25%|██▍       | 2.44G/9.94G [00:22<01:06, 112MB/s]#033[A\u001B[0m\n",
      "\u001B[34m#015Downloading (…)l-00001-of-00002.bin:  25%|██▍       | 2.46G/9.94G [00:22<00:57, 130MB/s]#033[A\u001B[0m\n",
      "\u001B[34m#015Downloading (…)l-00001-of-00002.bin:  25%|██▍       | 2.49G/9.94G [00:22<00:51, 143MB/s]#033[A\u001B[0m\n",
      "\u001B[34m#015Downloading (…)l-00001-of-00002.bin:  25%|██▌       | 2.51G/9.94G [00:23<01:07, 110MB/s]#033[A\u001B[0m\n",
      "\u001B[34m#015Downloading (…)l-00001-of-00002.bin:  25%|██▌       | 2.53G/9.94G [00:23<00:59, 124MB/s]#033[A\u001B[0m\n",
      "\u001B[34m#015Downloading (…)l-00001-of-00002.bin:  26%|██▌       | 2.55G/9.94G [00:23<00:58, 127MB/s]#033[A\u001B[0m\n",
      "\u001B[34m#015Downloading (…)l-00001-of-00002.bin:  26%|██▌       | 2.57G/9.94G [00:23<01:12, 102MB/s]#033[A\u001B[0m\n",
      "\u001B[34m#015Downloading (…)l-00001-of-00002.bin:  26%|██▌       | 2.59G/9.94G [00:24<01:09, 106MB/s]#033[A\u001B[0m\n",
      "\u001B[34m#015Downloading (…)l-00001-of-00002.bin:  26%|██▋       | 2.61G/9.94G [00:24<00:59, 122MB/s]#033[A\u001B[0m\n",
      "\u001B[34m#015Downloading (…)l-00001-of-00002.bin:  26%|██▋       | 2.63G/9.94G [00:24<00:54, 134MB/s]#033[A\u001B[0m\n",
      "\u001B[34m#015Downloading (…)l-00001-of-00002.bin:  27%|██▋       | 2.65G/9.94G [00:24<01:13, 98.5MB/s]#033[A\u001B[0m\n",
      "\u001B[34m#015Downloading (…)l-00001-of-00002.bin:  27%|██▋       | 2.67G/9.94G [00:24<01:19, 91.8MB/s]#033[A\u001B[0m\n",
      "\u001B[34m#015Downloading (…)l-00001-of-00002.bin:  27%|██▋       | 2.69G/9.94G [00:25<01:12, 99.7MB/s]#033[A\u001B[0m\n",
      "\u001B[34m#015Downloading (…)l-00001-of-00002.bin:  27%|██▋       | 2.73G/9.94G [00:25<00:58, 124MB/s] #033[A\u001B[0m\n",
      "\u001B[34m#015Downloading (…)l-00001-of-00002.bin:  28%|██▊       | 2.75G/9.94G [00:25<00:53, 135MB/s]#033[A\u001B[0m\n",
      "\u001B[34m#015Downloading (…)l-00001-of-00002.bin:  28%|██▊       | 2.77G/9.94G [00:25<01:00, 119MB/s]#033[A\u001B[0m\n",
      "\u001B[34m#015Downloading (…)l-00001-of-00002.bin:  28%|██▊       | 2.79G/9.94G [00:25<01:24, 84.7MB/s]#033[A\u001B[0m\n",
      "\u001B[34m#015Downloading (…)l-00001-of-00002.bin:  28%|██▊       | 2.81G/9.94G [00:26<01:36, 74.3MB/s]#033[A\u001B[0m\n",
      "\u001B[34m#015Downloading (…)l-00001-of-00002.bin:  28%|██▊       | 2.83G/9.94G [00:26<01:22, 86.1MB/s]#033[A\u001B[0m\n",
      "\u001B[34m#015Downloading (…)l-00001-of-00002.bin:  29%|██▊       | 2.85G/9.94G [00:26<01:17, 92.1MB/s]#033[A\u001B[0m\n",
      "\u001B[34m#015Downloading (…)l-00001-of-00002.bin:  29%|██▉       | 2.87G/9.94G [00:26<01:21, 86.7MB/s]#033[A\u001B[0m\n",
      "\u001B[34m#015Downloading (…)l-00001-of-00002.bin:  29%|██▉       | 2.88G/9.94G [00:27<01:32, 76.4MB/s]#033[A\u001B[0m\n",
      "\u001B[34m#015Downloading (…)l-00001-of-00002.bin:  29%|██▉       | 2.89G/9.94G [00:27<01:44, 67.2MB/s]#033[A\u001B[0m\n",
      "\u001B[34m#015Downloading (…)l-00001-of-00002.bin:  29%|██▉       | 2.92G/9.94G [00:27<01:23, 84.5MB/s]#033[A\u001B[0m\n",
      "\u001B[34m#015Downloading (…)l-00001-of-00002.bin:  30%|██▉       | 2.94G/9.94G [00:27<01:09, 101MB/s] #033[A\u001B[0m\n",
      "\u001B[34m#015Downloading (…)l-00001-of-00002.bin:  30%|██▉       | 2.96G/9.94G [00:27<00:58, 119MB/s]#033[A\u001B[0m\n",
      "\u001B[34m#015Downloading (…)l-00001-of-00002.bin:  30%|██▉       | 2.98G/9.94G [00:27<00:51, 135MB/s]#033[A\u001B[0m\n",
      "\u001B[34m#015Downloading (…)l-00001-of-00002.bin:  30%|███       | 3.00G/9.94G [00:28<00:49, 142MB/s]#033[A\u001B[0m\n",
      "\u001B[34m#015Downloading (…)l-00001-of-00002.bin:  30%|███       | 3.02G/9.94G [00:28<00:54, 126MB/s]#033[A\u001B[0m\n",
      "\u001B[34m#015Downloading (…)l-00001-of-00002.bin:  31%|███       | 3.04G/9.94G [00:28<00:52, 132MB/s]#033[A\u001B[0m\n",
      "\u001B[34m#015Downloading (…)l-00001-of-00002.bin:  31%|███       | 3.07G/9.94G [00:28<00:45, 151MB/s]#033[A\u001B[0m\n",
      "\u001B[34m#015Downloading (…)l-00001-of-00002.bin:  31%|███       | 3.09G/9.94G [00:28<00:42, 163MB/s]#033[A\u001B[0m\n",
      "\u001B[34m#015Downloading (…)l-00001-of-00002.bin:  31%|███▏      | 3.11G/9.94G [00:28<00:41, 166MB/s]#033[A\u001B[0m\n",
      "\u001B[34m#015Downloading (…)l-00001-of-00002.bin:  32%|███▏      | 3.14G/9.94G [00:28<00:42, 160MB/s]#033[A\u001B[0m\n",
      "\u001B[34m#015Downloading (…)l-00001-of-00002.bin:  32%|███▏      | 3.17G/9.94G [00:29<00:37, 180MB/s]#033[A\u001B[0m\n",
      "\u001B[34m#015Downloading (…)l-00001-of-00002.bin:  32%|███▏      | 3.19G/9.94G [00:29<00:36, 186MB/s]#033[A\u001B[0m\n",
      "\u001B[34m#015Downloading (…)l-00001-of-00002.bin:  32%|███▏      | 3.21G/9.94G [00:29<00:35, 189MB/s]#033[A\u001B[0m\n",
      "\u001B[34m#015Downloading (…)l-00001-of-00002.bin:  32%|███▏      | 3.23G/9.94G [00:29<00:39, 171MB/s]#033[A\u001B[0m\n",
      "\u001B[34m#015Downloading (…)l-00001-of-00002.bin:  33%|███▎      | 3.25G/9.94G [00:29<00:41, 162MB/s]#033[A\u001B[0m\n",
      "\u001B[34m#015Downloading (…)l-00001-of-00002.bin:  33%|███▎      | 3.27G/9.94G [00:29<00:43, 154MB/s]#033[A\u001B[0m\n",
      "\u001B[34m#015Downloading (…)l-00001-of-00002.bin:  33%|███▎      | 3.29G/9.94G [00:29<00:45, 146MB/s]#033[A\u001B[0m\n",
      "\u001B[34m#015Downloading (…)l-00001-of-00002.bin:  33%|███▎      | 3.32G/9.94G [00:29<00:39, 166MB/s]#033[A\u001B[0m\n",
      "\u001B[34m#015Downloading (…)l-00001-of-00002.bin:  34%|███▎      | 3.34G/9.94G [00:30<00:38, 170MB/s]#033[A\u001B[0m\n",
      "\u001B[34m#015Downloading (…)l-00001-of-00002.bin:  34%|███▍      | 3.37G/9.94G [00:30<00:41, 160MB/s]#033[A\u001B[0m\n",
      "\u001B[34m#015Downloading (…)l-00001-of-00002.bin:  34%|███▍      | 3.40G/9.94G [00:30<00:50, 131MB/s]#033[A\u001B[0m\n",
      "\u001B[34m#015Downloading (…)l-00001-of-00002.bin:  34%|███▍      | 3.42G/9.94G [00:30<00:46, 141MB/s]#033[A\u001B[0m\n",
      "\u001B[34m#015Downloading (…)l-00001-of-00002.bin:  35%|███▍      | 3.45G/9.94G [00:30<00:38, 167MB/s]#033[A\u001B[0m\n",
      "\u001B[34m#015Downloading (…)l-00001-of-00002.bin:  35%|███▍      | 3.47G/9.94G [00:30<00:37, 174MB/s]#033[A\u001B[0m\n",
      "\u001B[34m#015Downloading (…)l-00001-of-00002.bin:  35%|███▌      | 3.49G/9.94G [00:31<00:44, 145MB/s]#033[A\u001B[0m\n",
      "\u001B[34m#015Downloading (…)l-00001-of-00002.bin:  35%|███▌      | 3.51G/9.94G [00:31<00:42, 150MB/s]#033[A\u001B[0m\n",
      "\u001B[34m#015Downloading (…)l-00001-of-00002.bin:  36%|███▌      | 3.53G/9.94G [00:31<00:41, 153MB/s]#033[A\u001B[0m\n",
      "\u001B[34m#015Downloading (…)l-00001-of-00002.bin:  36%|███▌      | 3.55G/9.94G [00:31<00:44, 144MB/s]#033[A\u001B[0m\n",
      "\u001B[34m#015Downloading (…)l-00001-of-00002.bin:  36%|███▌      | 3.58G/9.94G [00:31<00:53, 118MB/s]#033[A\u001B[0m\n",
      "\u001B[34m#015Downloading (…)l-00001-of-00002.bin:  36%|███▌      | 3.60G/9.94G [00:32<01:00, 105MB/s]#033[A\u001B[0m\n",
      "\u001B[34m#015Downloading (…)l-00001-of-00002.bin:  36%|███▋      | 3.63G/9.94G [00:32<00:52, 120MB/s]#033[A\u001B[0m\n",
      "\u001B[34m#015Downloading (…)l-00001-of-00002.bin:  37%|███▋      | 3.65G/9.94G [00:32<00:49, 126MB/s]#033[A\u001B[0m\n",
      "\u001B[34m#015Downloading (…)l-00001-of-00002.bin:  37%|███▋      | 3.67G/9.94G [00:32<00:47, 131MB/s]#033[A\u001B[0m\n",
      "\u001B[34m#015Downloading (…)l-00001-of-00002.bin:  37%|███▋      | 3.69G/9.94G [00:32<00:46, 134MB/s]#033[A\u001B[0m\n",
      "\u001B[34m#015Downloading (…)l-00001-of-00002.bin:  37%|███▋      | 3.71G/9.94G [00:32<00:47, 131MB/s]#033[A\u001B[0m\n",
      "\u001B[34m#015Downloading (…)l-00001-of-00002.bin:  38%|███▊      | 3.73G/9.94G [00:33<00:45, 137MB/s]#033[A\u001B[0m\n",
      "\u001B[34m#015Downloading (…)l-00001-of-00002.bin:  38%|███▊      | 3.75G/9.94G [00:33<00:45, 136MB/s]#033[A\u001B[0m\n",
      "\u001B[34m#015Downloading (…)l-00001-of-00002.bin:  38%|███▊      | 3.77G/9.94G [00:33<00:40, 151MB/s]#033[A\u001B[0m\n",
      "\u001B[34m#015Downloading (…)l-00001-of-00002.bin:  38%|███▊      | 3.81G/9.94G [00:33<00:36, 166MB/s]#033[A\u001B[0m\n",
      "\u001B[34m#015Downloading (…)l-00001-of-00002.bin:  38%|███▊      | 3.83G/9.94G [00:33<00:35, 172MB/s]#033[A\u001B[0m\n",
      "\u001B[34m#015Downloading (…)l-00001-of-00002.bin:  39%|███▊      | 3.85G/9.94G [00:33<00:38, 160MB/s]#033[A\u001B[0m\n",
      "\u001B[34m#015Downloading (…)l-00001-of-00002.bin:  39%|███▉      | 3.87G/9.94G [00:33<00:42, 144MB/s]#033[A\u001B[0m\n",
      "\u001B[34m#015Downloading (…)l-00001-of-00002.bin:  39%|███▉      | 3.89G/9.94G [00:34<00:44, 137MB/s]#033[A\u001B[0m\n",
      "\u001B[34m#015Downloading (…)l-00001-of-00002.bin:  39%|███▉      | 3.92G/9.94G [00:34<00:37, 160MB/s]#033[A\u001B[0m\n",
      "\u001B[34m#015Downloading (…)l-00001-of-00002.bin:  40%|███▉      | 3.94G/9.94G [00:34<00:43, 138MB/s]#033[A\u001B[0m\n",
      "\u001B[34m#015Downloading (…)l-00001-of-00002.bin:  40%|███▉      | 3.96G/9.94G [00:34<00:44, 133MB/s]#033[A\u001B[0m\n",
      "\u001B[34m#015Downloading (…)l-00001-of-00002.bin:  40%|████      | 3.98G/9.94G [00:34<00:44, 134MB/s]#033[A\u001B[0m\n",
      "\u001B[34m#015Downloading (…)l-00001-of-00002.bin:  40%|████      | 4.01G/9.94G [00:35<01:06, 88.7MB/s]#033[A\u001B[0m\n",
      "\u001B[34m#015Downloading (…)l-00001-of-00002.bin:  40%|████      | 4.03G/9.94G [00:35<01:05, 89.6MB/s]#033[A\u001B[0m\n",
      "\u001B[34m#015Downloading (…)l-00001-of-00002.bin:  41%|████      | 4.05G/9.94G [00:35<01:00, 98.0MB/s]#033[A\u001B[0m\n",
      "\u001B[34m#015Downloading (…)l-00001-of-00002.bin:  41%|████      | 4.07G/9.94G [00:35<00:55, 107MB/s] #033[A\u001B[0m\n",
      "\u001B[34m#015Downloading (…)l-00001-of-00002.bin:  41%|████      | 4.09G/9.94G [00:35<00:53, 110MB/s]#033[A\u001B[0m\n",
      "\u001B[34m#015Downloading (…)l-00001-of-00002.bin:  41%|████▏     | 4.12G/9.94G [00:36<00:44, 132MB/s]#033[A\u001B[0m\n",
      "\u001B[34m#015Downloading (…)l-00001-of-00002.bin:  42%|████▏     | 4.14G/9.94G [00:36<01:06, 87.7MB/s]#033[A\u001B[0m\n",
      "\u001B[34m#015Downloading (…)l-00001-of-00002.bin:  42%|████▏     | 4.16G/9.94G [00:36<01:00, 95.4MB/s]#033[A\u001B[0m\n",
      "\u001B[34m#015Downloading (…)l-00001-of-00002.bin:  42%|████▏     | 4.18G/9.94G [00:36<00:56, 102MB/s] #033[A\u001B[0m\n",
      "\u001B[34m#015Downloading (…)l-00001-of-00002.bin:  42%|████▏     | 4.20G/9.94G [00:36<00:49, 115MB/s]#033[A\u001B[0m\n",
      "\u001B[34m#015Downloading (…)l-00001-of-00002.bin:  42%|████▏     | 4.23G/9.94G [00:37<00:45, 125MB/s]#033[A\u001B[0m\n",
      "\u001B[34m#015Downloading (…)l-00001-of-00002.bin:  43%|████▎     | 4.25G/9.94G [00:37<00:43, 130MB/s]#033[A\u001B[0m\n",
      "\u001B[34m#015Downloading (…)l-00001-of-00002.bin:  43%|████▎     | 4.27G/9.94G [00:37<00:43, 130MB/s]#033[A\u001B[0m\n",
      "\u001B[34m#015Downloading (…)l-00001-of-00002.bin:  43%|████▎     | 4.29G/9.94G [00:37<00:38, 145MB/s]#033[A\u001B[0m\n",
      "\u001B[34m#015Downloading (…)l-00001-of-00002.bin:  43%|████▎     | 4.32G/9.94G [00:37<00:34, 161MB/s]#033[A\u001B[0m\n",
      "\u001B[34m#015Downloading (…)l-00001-of-00002.bin:  44%|████▍     | 4.35G/9.94G [00:37<00:31, 179MB/s]#033[A\u001B[0m\n",
      "\u001B[34m#015Downloading (…)l-00001-of-00002.bin:  44%|████▍     | 4.37G/9.94G [00:37<00:31, 175MB/s]#033[A\u001B[0m\n",
      "\u001B[34m#015Downloading (…)l-00001-of-00002.bin:  44%|████▍     | 4.39G/9.94G [00:38<00:44, 125MB/s]#033[A\u001B[0m\n",
      "\u001B[34m#015Downloading (…)l-00001-of-00002.bin:  44%|████▍     | 4.41G/9.94G [00:38<00:42, 129MB/s]#033[A\u001B[0m\n",
      "\u001B[34m#015Downloading (…)l-00001-of-00002.bin:  45%|████▍     | 4.44G/9.94G [00:38<00:40, 135MB/s]#033[A\u001B[0m\n",
      "\u001B[34m#015Downloading (…)l-00001-of-00002.bin:  45%|████▍     | 4.46G/9.94G [00:38<00:36, 150MB/s]#033[A\u001B[0m\n",
      "\u001B[34m#015Downloading (…)l-00001-of-00002.bin:  45%|████▌     | 4.48G/9.94G [00:38<00:35, 156MB/s]#033[A\u001B[0m\n",
      "\u001B[34m#015Downloading (…)l-00001-of-00002.bin:  45%|████▌     | 4.50G/9.94G [00:38<00:41, 131MB/s]#033[A\u001B[0m\n",
      "\u001B[34m#015Downloading (…)l-00001-of-00002.bin:  46%|████▌     | 4.53G/9.94G [00:39<00:36, 150MB/s]#033[A\u001B[0m\n",
      "\u001B[34m#015Downloading (…)l-00001-of-00002.bin:  46%|████▌     | 4.55G/9.94G [00:39<00:34, 155MB/s]#033[A\u001B[0m\n",
      "\u001B[34m#015Downloading (…)l-00001-of-00002.bin:  46%|████▌     | 4.57G/9.94G [00:39<00:35, 153MB/s]#033[A\u001B[0m\n",
      "\u001B[34m#015Downloading (…)l-00001-of-00002.bin:  46%|████▋     | 4.60G/9.94G [00:39<00:31, 170MB/s]#033[A\u001B[0m\n",
      "\u001B[34m#015Downloading (…)l-00001-of-00002.bin:  47%|████▋     | 4.62G/9.94G [00:39<00:31, 166MB/s]#033[A\u001B[0m\n",
      "\u001B[34m#015Downloading (…)l-00001-of-00002.bin:  47%|████▋     | 4.65G/9.94G [00:39<00:31, 167MB/s]#033[A\u001B[0m\n",
      "\u001B[34m#015Downloading (…)l-00001-of-00002.bin:  47%|████▋     | 4.67G/9.94G [00:40<00:41, 129MB/s]#033[A\u001B[0m\n",
      "\u001B[34m#015Downloading (…)l-00001-of-00002.bin:  47%|████▋     | 4.69G/9.94G [00:40<00:49, 106MB/s]#033[A\u001B[0m\n",
      "\u001B[34m#015Downloading (…)l-00001-of-00002.bin:  47%|████▋     | 4.71G/9.94G [00:40<00:44, 117MB/s]#033[A\u001B[0m\n",
      "\u001B[34m#015Downloading (…)l-00001-of-00002.bin:  48%|████▊     | 4.73G/9.94G [00:40<00:41, 124MB/s]#033[A\u001B[0m\n",
      "\u001B[34m#015Downloading (…)l-00001-of-00002.bin:  48%|████▊     | 4.75G/9.94G [00:40<00:42, 123MB/s]#033[A\u001B[0m\n",
      "\u001B[34m#015Downloading (…)l-00001-of-00002.bin:  48%|████▊     | 4.77G/9.94G [00:40<00:38, 135MB/s]#033[A\u001B[0m\n",
      "\u001B[34m#015Downloading (…)l-00001-of-00002.bin:  48%|████▊     | 4.79G/9.94G [00:41<00:36, 142MB/s]#033[A\u001B[0m\n",
      "\u001B[34m#015Downloading (…)l-00001-of-00002.bin:  48%|████▊     | 4.81G/9.94G [00:41<00:33, 155MB/s]#033[A\u001B[0m\n",
      "\u001B[34m#015Downloading (…)l-00001-of-00002.bin:  49%|████▊     | 4.84G/9.94G [00:41<00:27, 183MB/s]#033[A\u001B[0m\n",
      "\u001B[34m#015Downloading (…)l-00001-of-00002.bin:  49%|████▉     | 4.87G/9.94G [00:41<00:29, 174MB/s]#033[A\u001B[0m\n",
      "\u001B[34m#015Downloading (…)l-00001-of-00002.bin:  49%|████▉     | 4.89G/9.94G [00:41<00:31, 162MB/s]#033[A\u001B[0m\n",
      "\u001B[34m#015Downloading (…)l-00001-of-00002.bin:  49%|████▉     | 4.91G/9.94G [00:41<00:31, 158MB/s]#033[A\u001B[0m\n",
      "\u001B[34m#015Downloading (…)l-00001-of-00002.bin:  50%|████▉     | 4.93G/9.94G [00:41<00:38, 130MB/s]#033[A\u001B[0m\n",
      "\u001B[34m#015Downloading (…)l-00001-of-00002.bin:  50%|████▉     | 4.95G/9.94G [00:42<00:35, 139MB/s]#033[A\u001B[0m\n",
      "\u001B[34m#015Downloading (…)l-00001-of-00002.bin:  50%|█████     | 4.98G/9.94G [00:42<00:29, 168MB/s]#033[A\u001B[0m\n",
      "\u001B[34m#015Downloading (…)l-00001-of-00002.bin:  50%|█████     | 5.01G/9.94G [00:42<00:27, 182MB/s]#033[A\u001B[0m\n",
      "\u001B[34m#015Downloading (…)l-00001-of-00002.bin:  51%|█████     | 5.03G/9.94G [00:42<00:27, 181MB/s]#033[A\u001B[0m\n",
      "\u001B[34m#015Downloading (…)l-00001-of-00002.bin:  51%|█████     | 5.06G/9.94G [00:42<00:26, 183MB/s]#033[A\u001B[0m\n",
      "\u001B[34m#015Downloading (…)l-00001-of-00002.bin:  51%|█████     | 5.09G/9.94G [00:42<00:27, 177MB/s]#033[A\u001B[0m\n",
      "\u001B[34m#015Downloading (…)l-00001-of-00002.bin:  51%|█████▏    | 5.11G/9.94G [00:42<00:29, 166MB/s]#033[A\u001B[0m\n",
      "\u001B[34m#015Downloading (…)l-00001-of-00002.bin:  52%|█████▏    | 5.14G/9.94G [00:43<00:27, 177MB/s]#033[A\u001B[0m\n",
      "\u001B[34m#015Downloading (…)l-00001-of-00002.bin:  52%|█████▏    | 5.16G/9.94G [00:43<00:26, 180MB/s]#033[A\u001B[0m\n",
      "\u001B[34m#015Downloading (…)l-00001-of-00002.bin:  52%|█████▏    | 5.18G/9.94G [00:43<00:28, 169MB/s]#033[A\u001B[0m\n",
      "\u001B[34m#015Downloading (…)l-00001-of-00002.bin:  52%|█████▏    | 5.20G/9.94G [00:43<00:37, 126MB/s]#033[A\u001B[0m\n",
      "\u001B[34m#015Downloading (…)l-00001-of-00002.bin:  53%|█████▎    | 5.22G/9.94G [00:43<00:47, 98.4MB/s]#033[A\u001B[0m\n",
      "\u001B[34m#015Downloading (…)l-00001-of-00002.bin:  53%|█████▎    | 5.24G/9.94G [00:44<00:42, 110MB/s] #033[A\u001B[0m\n",
      "\u001B[34m#015Downloading (…)l-00001-of-00002.bin:  53%|█████▎    | 5.26G/9.94G [00:44<00:37, 125MB/s]#033[A\u001B[0m\n",
      "\u001B[34m#015Downloading (…)l-00001-of-00002.bin:  53%|█████▎    | 5.28G/9.94G [00:44<00:34, 136MB/s]#033[A\u001B[0m\n",
      "\u001B[34m#015Downloading (…)l-00001-of-00002.bin:  53%|█████▎    | 5.32G/9.94G [00:44<00:29, 155MB/s]#033[A\u001B[0m\n",
      "\u001B[34m#015Downloading (…)l-00001-of-00002.bin:  54%|█████▍    | 5.35G/9.94G [00:44<00:24, 184MB/s]#033[A\u001B[0m\n",
      "\u001B[34m#015Downloading (…)l-00001-of-00002.bin:  54%|█████▍    | 5.38G/9.94G [00:44<00:22, 200MB/s]#033[A\u001B[0m\n",
      "\u001B[34m#015Downloading (…)l-00001-of-00002.bin:  54%|█████▍    | 5.41G/9.94G [00:44<00:26, 173MB/s]#033[A\u001B[0m\n",
      "\u001B[34m#015Downloading (…)l-00001-of-00002.bin:  55%|█████▍    | 5.43G/9.94G [00:45<00:32, 139MB/s]#033[A\u001B[0m\n",
      "\u001B[34m#015Downloading (…)l-00001-of-00002.bin:  55%|█████▍    | 5.45G/9.94G [00:45<00:36, 123MB/s]#033[A\u001B[0m\n",
      "\u001B[34m#015Downloading (…)l-00001-of-00002.bin:  55%|█████▌    | 5.47G/9.94G [00:45<00:34, 129MB/s]#033[A\u001B[0m\n",
      "\u001B[34m#015Downloading (…)l-00001-of-00002.bin:  55%|█████▌    | 5.49G/9.94G [00:45<00:32, 138MB/s]#033[A\u001B[0m\n",
      "\u001B[34m#015Downloading (…)l-00001-of-00002.bin:  55%|█████▌    | 5.52G/9.94G [00:45<00:37, 118MB/s]#033[A\u001B[0m\n",
      "\u001B[34m#015Downloading (…)l-00001-of-00002.bin:  56%|█████▌    | 5.54G/9.94G [00:46<00:34, 129MB/s]#033[A\u001B[0m\n",
      "\u001B[34m#015Downloading (…)l-00001-of-00002.bin:  56%|█████▌    | 5.56G/9.94G [00:46<00:31, 138MB/s]#033[A\u001B[0m\n",
      "\u001B[34m#015Downloading (…)l-00001-of-00002.bin:  56%|█████▌    | 5.58G/9.94G [00:46<00:30, 141MB/s]#033[A\u001B[0m\n",
      "\u001B[34m#015Downloading (…)l-00001-of-00002.bin:  56%|█████▋    | 5.61G/9.94G [00:46<00:28, 154MB/s]#033[A\u001B[0m\n",
      "\u001B[34m#015Downloading (…)l-00001-of-00002.bin:  57%|█████▋    | 5.63G/9.94G [00:46<00:27, 159MB/s]#033[A\u001B[0m\n",
      "\u001B[34m#015Downloading (…)l-00001-of-00002.bin:  57%|█████▋    | 5.65G/9.94G [00:46<00:25, 170MB/s]#033[A\u001B[0m\n",
      "\u001B[34m#015Downloading (…)l-00001-of-00002.bin:  57%|█████▋    | 5.68G/9.94G [00:46<00:23, 183MB/s]#033[A\u001B[0m\n",
      "\u001B[34m#015Downloading (…)l-00001-of-00002.bin:  57%|█████▋    | 5.70G/9.94G [00:47<00:26, 162MB/s]#033[A\u001B[0m\n",
      "\u001B[34m#015Downloading (…)l-00001-of-00002.bin:  58%|█████▊    | 5.74G/9.94G [00:47<00:23, 183MB/s]#033[A\u001B[0m\n",
      "\u001B[34m#015Downloading (…)l-00001-of-00002.bin:  58%|█████▊    | 5.77G/9.94G [00:47<00:19, 211MB/s]#033[A\u001B[0m\n",
      "\u001B[34m#015Downloading (…)l-00001-of-00002.bin:  58%|█████▊    | 5.80G/9.94G [00:47<00:19, 209MB/s]#033[A\u001B[0m\n",
      "\u001B[34m#015Downloading (…)l-00001-of-00002.bin:  59%|█████▊    | 5.83G/9.94G [00:47<00:18, 217MB/s]#033[A\u001B[0m\n",
      "\u001B[34m#015Downloading (…)l-00001-of-00002.bin:  59%|█████▉    | 5.86G/9.94G [00:47<00:20, 201MB/s]#033[A\u001B[0m\n",
      "\u001B[34m#015Downloading (…)l-00001-of-00002.bin:  59%|█████▉    | 5.89G/9.94G [00:47<00:19, 213MB/s]#033[A\u001B[0m\n",
      "\u001B[34m#015Downloading (…)l-00001-of-00002.bin:  60%|█████▉    | 5.92G/9.94G [00:48<00:18, 213MB/s]#033[A\u001B[0m\n",
      "\u001B[34m#015Downloading (…)l-00001-of-00002.bin:  60%|█████▉    | 5.96G/9.94G [00:48<00:18, 215MB/s]#033[A\u001B[0m\n",
      "\u001B[34m#015Downloading (…)l-00001-of-00002.bin:  60%|██████    | 5.99G/9.94G [00:48<00:30, 131MB/s]#033[A\u001B[0m\n",
      "\u001B[34m#015Downloading (…)l-00001-of-00002.bin:  60%|██████    | 6.01G/9.94G [00:48<00:32, 121MB/s]#033[A\u001B[0m\n",
      "\u001B[34m#015Downloading (…)l-00001-of-00002.bin:  61%|██████    | 6.03G/9.94G [00:48<00:29, 131MB/s]#033[A\u001B[0m\n",
      "\u001B[34m#015Downloading (…)l-00001-of-00002.bin:  61%|██████    | 6.05G/9.94G [00:49<00:33, 116MB/s]#033[A\u001B[0m\n",
      "\u001B[34m#015Downloading (…)l-00001-of-00002.bin:  61%|██████    | 6.07G/9.94G [00:49<00:36, 107MB/s]#033[A\u001B[0m\n",
      "\u001B[34m#015Downloading (…)l-00001-of-00002.bin:  61%|██████▏   | 6.09G/9.94G [00:49<00:31, 121MB/s]#033[A\u001B[0m\n",
      "\u001B[34m#015Downloading (…)l-00001-of-00002.bin:  62%|██████▏   | 6.12G/9.94G [00:49<00:27, 138MB/s]#033[A\u001B[0m\n",
      "\u001B[34m#015Downloading (…)l-00001-of-00002.bin:  62%|██████▏   | 6.14G/9.94G [00:49<00:28, 133MB/s]#033[A\u001B[0m\n",
      "\u001B[34m#015Downloading (…)l-00001-of-00002.bin:  62%|██████▏   | 6.17G/9.94G [00:50<00:27, 137MB/s]#033[A\u001B[0m\n",
      "\u001B[34m#015Downloading (…)l-00001-of-00002.bin:  62%|██████▏   | 6.20G/9.94G [00:50<00:23, 160MB/s]#033[A\u001B[0m\n",
      "\u001B[34m#015Downloading (…)l-00001-of-00002.bin:  63%|██████▎   | 6.23G/9.94G [00:50<00:20, 179MB/s]#033[A\u001B[0m\n",
      "\u001B[34m#015Downloading (…)l-00001-of-00002.bin:  63%|██████▎   | 6.26G/9.94G [00:50<00:18, 203MB/s]#033[A\u001B[0m\n",
      "\u001B[34m#015Downloading (…)l-00001-of-00002.bin:  63%|██████▎   | 6.29G/9.94G [00:50<00:19, 192MB/s]#033[A\u001B[0m\n",
      "\u001B[34m#015Downloading (…)l-00001-of-00002.bin:  63%|██████▎   | 6.31G/9.94G [00:50<00:18, 191MB/s]#033[A\u001B[0m\n",
      "\u001B[34m#015Downloading (…)l-00001-of-00002.bin:  64%|██████▎   | 6.33G/9.94G [00:50<00:19, 180MB/s]#033[A\u001B[0m\n",
      "\u001B[34m#015Downloading (…)l-00001-of-00002.bin:  64%|██████▍   | 6.35G/9.94G [00:50<00:21, 165MB/s]#033[A\u001B[0m\n",
      "\u001B[34m#015Downloading (…)l-00001-of-00002.bin:  64%|██████▍   | 6.39G/9.94G [00:51<00:19, 186MB/s]#033[A\u001B[0m\n",
      "\u001B[34m#015Downloading (…)l-00001-of-00002.bin:  64%|██████▍   | 6.41G/9.94G [00:51<00:20, 175MB/s]#033[A\u001B[0m\n",
      "\u001B[34m#015Downloading (…)l-00001-of-00002.bin:  65%|██████▍   | 6.44G/9.94G [00:51<00:17, 205MB/s]#033[A\u001B[0m\n",
      "\u001B[34m#015Downloading (…)l-00001-of-00002.bin:  65%|██████▌   | 6.47G/9.94G [00:51<00:16, 205MB/s]#033[A\u001B[0m\n",
      "\u001B[34m#015Downloading (…)l-00001-of-00002.bin:  65%|██████▌   | 6.50G/9.94G [00:51<00:18, 191MB/s]#033[A\u001B[0m\n",
      "\u001B[34m#015Downloading (…)l-00001-of-00002.bin:  66%|██████▌   | 6.52G/9.94G [00:51<00:22, 150MB/s]#033[A\u001B[0m\n",
      "\u001B[34m#015Downloading (…)l-00001-of-00002.bin:  66%|██████▌   | 6.54G/9.94G [00:52<00:22, 150MB/s]#033[A\u001B[0m\n",
      "\u001B[34m#015Downloading (…)l-00001-of-00002.bin:  66%|██████▌   | 6.57G/9.94G [00:52<00:20, 165MB/s]#033[A\u001B[0m\n",
      "\u001B[34m#015Downloading (…)l-00001-of-00002.bin:  66%|██████▋   | 6.61G/9.94G [00:52<00:19, 175MB/s]#033[A\u001B[0m\n",
      "\u001B[34m#015Downloading (…)l-00001-of-00002.bin:  67%|██████▋   | 6.63G/9.94G [00:52<00:18, 175MB/s]#033[A\u001B[0m\n",
      "\u001B[34m#015Downloading (…)l-00001-of-00002.bin:  67%|██████▋   | 6.65G/9.94G [00:52<00:20, 164MB/s]#033[A\u001B[0m\n",
      "\u001B[34m#015Downloading (…)l-00001-of-00002.bin:  67%|██████▋   | 6.68G/9.94G [00:52<00:18, 174MB/s]#033[A\u001B[0m\n",
      "\u001B[34m#015Downloading (…)l-00001-of-00002.bin:  67%|██████▋   | 6.71G/9.94G [00:52<00:16, 194MB/s]#033[A\u001B[0m\n",
      "\u001B[34m#015Downloading (…)l-00001-of-00002.bin:  68%|██████▊   | 6.73G/9.94G [00:53<00:16, 189MB/s]#033[A\u001B[0m\n",
      "\u001B[34m#015Downloading (…)l-00001-of-00002.bin:  68%|██████▊   | 6.75G/9.94G [00:53<00:17, 183MB/s]#033[A\u001B[0m\n",
      "\u001B[34m#015Downloading (…)l-00001-of-00002.bin:  68%|██████▊   | 6.78G/9.94G [00:53<00:16, 195MB/s]#033[A\u001B[0m\n",
      "\u001B[34m#015Downloading (…)l-00001-of-00002.bin:  69%|██████▊   | 6.82G/9.94G [00:53<00:15, 200MB/s]#033[A\u001B[0m\n",
      "\u001B[34m#015Downloading (…)l-00001-of-00002.bin:  69%|██████▉   | 6.84G/9.94G [00:53<00:16, 183MB/s]#033[A\u001B[0m\n",
      "\u001B[34m#015Downloading (…)l-00001-of-00002.bin:  69%|██████▉   | 6.87G/9.94G [00:53<00:16, 187MB/s]#033[A\u001B[0m\n",
      "\u001B[34m#015Downloading (…)l-00001-of-00002.bin:  69%|██████▉   | 6.89G/9.94G [00:53<00:16, 186MB/s]#033[A\u001B[0m\n",
      "\u001B[34m#015Downloading (…)l-00001-of-00002.bin:  69%|██████▉   | 6.91G/9.94G [00:54<00:18, 166MB/s]#033[A\u001B[0m\n",
      "\u001B[34m#015Downloading (…)l-00001-of-00002.bin:  70%|██████▉   | 6.94G/9.94G [00:54<00:15, 190MB/s]#033[A\u001B[0m\n",
      "\u001B[34m#015Downloading (…)l-00001-of-00002.bin:  70%|███████   | 6.96G/9.94G [00:54<00:16, 180MB/s]#033[A\u001B[0m\n",
      "\u001B[34m#015Downloading (…)l-00001-of-00002.bin:  70%|███████   | 6.99G/9.94G [00:54<00:14, 205MB/s]#033[A\u001B[0m\n",
      "\u001B[34m#015Downloading (…)l-00001-of-00002.bin:  71%|███████   | 7.04G/9.94G [00:54<00:12, 236MB/s]#033[A\u001B[0m\n",
      "\u001B[34m#015Downloading (…)l-00001-of-00002.bin:  71%|███████   | 7.07G/9.94G [00:54<00:14, 200MB/s]#033[A\u001B[0m\n",
      "\u001B[34m#015Downloading (…)l-00001-of-00002.bin:  71%|███████▏  | 7.10G/9.94G [00:55<00:15, 185MB/s]#033[A\u001B[0m\n",
      "\u001B[34m#015Downloading (…)l-00001-of-00002.bin:  72%|███████▏  | 7.12G/9.94G [00:55<00:15, 179MB/s]#033[A\u001B[0m\n",
      "\u001B[34m#015Downloading (…)l-00001-of-00002.bin:  72%|███████▏  | 7.15G/9.94G [00:55<00:14, 198MB/s]#033[A\u001B[0m\n",
      "\u001B[34m#015Downloading (…)l-00001-of-00002.bin:  72%|███████▏  | 7.17G/9.94G [00:55<00:21, 129MB/s]#033[A\u001B[0m\n",
      "\u001B[34m#015Downloading (…)l-00001-of-00002.bin:  72%|███████▏  | 7.19G/9.94G [00:55<00:22, 125MB/s]#033[A\u001B[0m\n",
      "\u001B[34m#015Downloading (…)l-00001-of-00002.bin:  73%|███████▎  | 7.21G/9.94G [00:55<00:19, 138MB/s]#033[A\u001B[0m\n",
      "\u001B[34m#015Downloading (…)l-00001-of-00002.bin:  73%|███████▎  | 7.24G/9.94G [00:56<00:25, 108MB/s]#033[A\u001B[0m\n",
      "\u001B[34m#015Downloading (…)l-00001-of-00002.bin:  73%|███████▎  | 7.26G/9.94G [00:56<00:25, 105MB/s]#033[A\u001B[0m\n",
      "\u001B[34m#015Downloading (…)l-00001-of-00002.bin:  73%|███████▎  | 7.28G/9.94G [00:56<00:26, 98.9MB/s]#033[A\u001B[0m\n",
      "\u001B[34m#015Downloading (…)l-00001-of-00002.bin:  73%|███████▎  | 7.30G/9.94G [00:56<00:22, 116MB/s] #033[A\u001B[0m\n",
      "\u001B[34m#015Downloading (…)l-00001-of-00002.bin:  74%|███████▎  | 7.32G/9.94G [00:56<00:21, 121MB/s]#033[A\u001B[0m\n",
      "\u001B[34m#015Downloading (…)l-00001-of-00002.bin:  74%|███████▍  | 7.34G/9.94G [00:57<00:23, 110MB/s]#033[A\u001B[0m\n",
      "\u001B[34m#015Downloading (…)l-00001-of-00002.bin:  74%|███████▍  | 7.36G/9.94G [00:57<00:21, 118MB/s]#033[A\u001B[0m\n",
      "\u001B[34m#015Downloading (…)l-00001-of-00002.bin:  74%|███████▍  | 7.38G/9.94G [00:57<00:22, 114MB/s]#033[A\u001B[0m\n",
      "\u001B[34m#015Downloading (…)l-00001-of-00002.bin:  74%|███████▍  | 7.40G/9.94G [00:57<00:20, 125MB/s]#033[A\u001B[0m\n",
      "\u001B[34m#015Downloading (…)l-00001-of-00002.bin:  75%|███████▍  | 7.42G/9.94G [00:57<00:17, 141MB/s]#033[A\u001B[0m\n",
      "\u001B[34m#015Downloading (…)l-00001-of-00002.bin:  75%|███████▍  | 7.44G/9.94G [00:57<00:18, 135MB/s]#033[A\u001B[0m\n",
      "\u001B[34m#015Downloading (…)l-00001-of-00002.bin:  75%|███████▌  | 7.47G/9.94G [00:58<00:17, 144MB/s]#033[A\u001B[0m\n",
      "\u001B[34m#015Downloading (…)l-00001-of-00002.bin:  75%|███████▌  | 7.49G/9.94G [00:58<00:16, 151MB/s]#033[A\u001B[0m\n",
      "\u001B[34m#015Downloading (…)l-00001-of-00002.bin:  76%|███████▌  | 7.51G/9.94G [00:58<00:19, 127MB/s]#033[A\u001B[0m\n",
      "\u001B[34m#015Downloading (…)l-00001-of-00002.bin:  76%|███████▌  | 7.54G/9.94G [00:58<00:15, 151MB/s]#033[A\u001B[0m\n",
      "\u001B[34m#015Downloading (…)l-00001-of-00002.bin:  76%|███████▌  | 7.56G/9.94G [00:58<00:14, 160MB/s]#033[A\u001B[0m\n",
      "\u001B[34m#015Downloading (…)l-00001-of-00002.bin:  76%|███████▌  | 7.58G/9.94G [00:58<00:18, 127MB/s]#033[A\u001B[0m\n",
      "\u001B[34m#015Downloading (…)l-00001-of-00002.bin:  76%|███████▋  | 7.60G/9.94G [00:59<00:19, 123MB/s]#033[A\u001B[0m\n",
      "\u001B[34m#015Downloading (…)l-00001-of-00002.bin:  77%|███████▋  | 7.62G/9.94G [00:59<00:16, 139MB/s]#033[A\u001B[0m\n",
      "\u001B[34m#015Downloading (…)l-00001-of-00002.bin:  77%|███████▋  | 7.64G/9.94G [00:59<00:21, 106MB/s]#033[A\u001B[0m\n",
      "\u001B[34m#015Downloading (…)l-00001-of-00002.bin:  77%|███████▋  | 7.67G/9.94G [00:59<00:20, 112MB/s]#033[A\u001B[0m\n",
      "\u001B[34m#015Downloading (…)l-00001-of-00002.bin:  77%|███████▋  | 7.70G/9.94G [00:59<00:16, 133MB/s]#033[A\u001B[0m\n",
      "\u001B[34m#015Downloading (…)l-00001-of-00002.bin:  78%|███████▊  | 7.72G/9.94G [00:59<00:16, 135MB/s]#033[A\u001B[0m\n",
      "\u001B[34m#015Downloading (…)l-00001-of-00002.bin:  78%|███████▊  | 7.74G/9.94G [01:00<00:16, 135MB/s]#033[A\u001B[0m\n",
      "\u001B[34m#015Downloading (…)l-00001-of-00002.bin:  78%|███████▊  | 7.76G/9.94G [01:00<00:14, 149MB/s]#033[A\u001B[0m\n",
      "\u001B[34m#015Downloading (…)l-00001-of-00002.bin:  78%|███████▊  | 7.78G/9.94G [01:00<00:13, 160MB/s]#033[A\u001B[0m\n",
      "\u001B[34m#015Downloading (…)l-00001-of-00002.bin:  78%|███████▊  | 7.80G/9.94G [01:00<00:12, 168MB/s]#033[A\u001B[0m\n",
      "\u001B[34m#015Downloading (…)l-00001-of-00002.bin:  79%|███████▊  | 7.82G/9.94G [01:00<00:14, 144MB/s]#033[A\u001B[0m\n",
      "\u001B[34m#015Downloading (…)l-00001-of-00002.bin:  79%|███████▉  | 7.84G/9.94G [01:00<00:14, 143MB/s]#033[A\u001B[0m\n",
      "\u001B[34m#015Downloading (…)l-00001-of-00002.bin:  79%|███████▉  | 7.86G/9.94G [01:00<00:15, 136MB/s]#033[A\u001B[0m\n",
      "\u001B[34m#015Downloading (…)l-00001-of-00002.bin:  79%|███████▉  | 7.89G/9.94G [01:01<00:14, 147MB/s]#033[A\u001B[0m\n",
      "\u001B[34m#015Downloading (…)l-00001-of-00002.bin:  80%|███████▉  | 7.91G/9.94G [01:01<00:14, 144MB/s]#033[A\u001B[0m\n",
      "\u001B[34m#015Downloading (…)l-00001-of-00002.bin:  80%|███████▉  | 7.93G/9.94G [01:01<00:15, 126MB/s]#033[A\u001B[0m\n",
      "\u001B[34m#015Downloading (…)l-00001-of-00002.bin:  80%|███████▉  | 7.95G/9.94G [01:01<00:14, 138MB/s]#033[A\u001B[0m\n",
      "\u001B[34m#015Downloading (…)l-00001-of-00002.bin:  80%|████████  | 7.99G/9.94G [01:01<00:10, 183MB/s]#033[A\u001B[0m\n",
      "\u001B[34m#015Downloading (…)l-00001-of-00002.bin:  81%|████████  | 8.01G/9.94G [01:01<00:10, 180MB/s]#033[A\u001B[0m\n",
      "\u001B[34m#015Downloading (…)l-00001-of-00002.bin:  81%|████████  | 8.03G/9.94G [01:02<00:14, 135MB/s]#033[A\u001B[0m\n",
      "\u001B[34m#015Downloading (…)l-00001-of-00002.bin:  81%|████████  | 8.05G/9.94G [01:02<00:13, 135MB/s]#033[A\u001B[0m\n",
      "\u001B[34m#015Downloading (…)l-00001-of-00002.bin:  81%|████████  | 8.07G/9.94G [01:02<00:12, 149MB/s]#033[A\u001B[0m\n",
      "\u001B[34m#015Downloading (…)l-00001-of-00002.bin:  81%|████████▏ | 8.10G/9.94G [01:02<00:12, 152MB/s]#033[A\u001B[0m\n",
      "\u001B[34m#015Downloading (…)l-00001-of-00002.bin:  82%|████████▏ | 8.13G/9.94G [01:02<00:10, 176MB/s]#033[A\u001B[0m\n",
      "\u001B[34m#015Downloading (…)l-00001-of-00002.bin:  82%|████████▏ | 8.16G/9.94G [01:02<00:09, 198MB/s]#033[A\u001B[0m\n",
      "\u001B[34m#015Downloading (…)l-00001-of-00002.bin:  82%|████████▏ | 8.18G/9.94G [01:03<00:12, 140MB/s]#033[A\u001B[0m\n",
      "\u001B[34m#015Downloading (…)l-00001-of-00002.bin:  82%|████████▏ | 8.20G/9.94G [01:03<00:14, 121MB/s]#033[A\u001B[0m\n",
      "\u001B[34m#015Downloading (…)l-00001-of-00002.bin:  83%|████████▎ | 8.22G/9.94G [01:03<00:15, 110MB/s]#033[A\u001B[0m\n",
      "\u001B[34m#015Downloading (…)l-00001-of-00002.bin:  83%|████████▎ | 8.25G/9.94G [01:03<00:12, 136MB/s]#033[A\u001B[0m\n",
      "\u001B[34m#015Downloading (…)l-00001-of-00002.bin:  83%|████████▎ | 8.27G/9.94G [01:03<00:11, 147MB/s]#033[A\u001B[0m\n",
      "\u001B[34m#015Downloading (…)l-00001-of-00002.bin:  83%|████████▎ | 8.29G/9.94G [01:03<00:12, 136MB/s]#033[A\u001B[0m\n",
      "\u001B[34m#015Downloading (…)l-00001-of-00002.bin:  84%|████████▎ | 8.32G/9.94G [01:04<00:13, 119MB/s]#033[A\u001B[0m\n",
      "\u001B[34m#015Downloading (…)l-00001-of-00002.bin:  84%|████████▍ | 8.34G/9.94G [01:04<00:12, 124MB/s]#033[A\u001B[0m\n",
      "\u001B[34m#015Downloading (…)l-00001-of-00002.bin:  84%|████████▍ | 8.36G/9.94G [01:04<00:11, 134MB/s]#033[A\u001B[0m\n",
      "\u001B[34m#015Downloading (…)l-00001-of-00002.bin:  84%|████████▍ | 8.38G/9.94G [01:04<00:12, 127MB/s]#033[A\u001B[0m\n",
      "\u001B[34m#015Downloading (…)l-00001-of-00002.bin:  85%|████████▍ | 8.41G/9.94G [01:04<00:10, 148MB/s]#033[A\u001B[0m\n",
      "\u001B[34m#015Downloading (…)l-00001-of-00002.bin:  85%|████████▍ | 8.43G/9.94G [01:05<00:13, 113MB/s]#033[A\u001B[0m\n",
      "\u001B[34m#015Downloading (…)l-00001-of-00002.bin:  85%|████████▍ | 8.45G/9.94G [01:05<00:14, 102MB/s]#033[A\u001B[0m\n",
      "\u001B[34m#015Downloading (…)l-00001-of-00002.bin:  85%|████████▌ | 8.47G/9.94G [01:05<00:12, 116MB/s]#033[A\u001B[0m\n",
      "\u001B[34m#015Downloading (…)l-00001-of-00002.bin:  85%|████████▌ | 8.49G/9.94G [01:05<00:11, 126MB/s]#033[A\u001B[0m\n",
      "\u001B[34m#015Downloading (…)l-00001-of-00002.bin:  86%|████████▌ | 8.51G/9.94G [01:05<00:11, 127MB/s]#033[A\u001B[0m\n",
      "\u001B[34m#015Downloading (…)l-00001-of-00002.bin:  86%|████████▌ | 8.54G/9.94G [01:05<00:12, 117MB/s]#033[A\u001B[0m\n",
      "\u001B[34m#015Downloading (…)l-00001-of-00002.bin:  86%|████████▌ | 8.56G/9.94G [01:06<00:10, 134MB/s]#033[A\u001B[0m\n",
      "\u001B[34m#015Downloading (…)l-00001-of-00002.bin:  86%|████████▋ | 8.58G/9.94G [01:06<00:10, 133MB/s]#033[A\u001B[0m\n",
      "\u001B[34m#015Downloading (…)l-00001-of-00002.bin:  86%|████████▋ | 8.60G/9.94G [01:06<00:11, 121MB/s]#033[A\u001B[0m\n",
      "\u001B[34m#015Downloading (…)l-00001-of-00002.bin:  87%|████████▋ | 8.63G/9.94G [01:06<00:08, 149MB/s]#033[A\u001B[0m\n",
      "\u001B[34m#015Downloading (…)l-00001-of-00002.bin:  87%|████████▋ | 8.66G/9.94G [01:06<00:07, 173MB/s]#033[A\u001B[0m\n",
      "\u001B[34m#015Downloading (…)l-00001-of-00002.bin:  87%|████████▋ | 8.68G/9.94G [01:06<00:07, 179MB/s]#033[A\u001B[0m\n",
      "\u001B[34m#015Downloading (…)l-00001-of-00002.bin:  88%|████████▊ | 8.70G/9.94G [01:06<00:06, 183MB/s]#033[A\u001B[0m\n",
      "\u001B[34m#015Downloading (…)l-00001-of-00002.bin:  88%|████████▊ | 8.72G/9.94G [01:07<00:12, 99.6MB/s]#033[A\u001B[0m\n",
      "\u001B[34m#015Downloading (…)l-00001-of-00002.bin:  88%|████████▊ | 8.75G/9.94G [01:07<00:10, 113MB/s] #033[A\u001B[0m\n",
      "\u001B[34m#015Downloading (…)l-00001-of-00002.bin:  88%|████████▊ | 8.77G/9.94G [01:07<00:10, 115MB/s]#033[A\u001B[0m\n",
      "\u001B[34m#015Downloading (…)l-00001-of-00002.bin:  88%|████████▊ | 8.79G/9.94G [01:07<00:10, 115MB/s]#033[A\u001B[0m\n",
      "\u001B[34m#015Downloading (…)l-00001-of-00002.bin:  89%|████████▊ | 8.81G/9.94G [01:08<00:10, 104MB/s]#033[A\u001B[0m\n",
      "\u001B[34m#015Downloading (…)l-00001-of-00002.bin:  89%|████████▉ | 8.83G/9.94G [01:08<00:11, 93.1MB/s]#033[A\u001B[0m\n",
      "\u001B[34m#015Downloading (…)l-00001-of-00002.bin:  89%|████████▉ | 8.85G/9.94G [01:08<00:11, 97.2MB/s]#033[A\u001B[0m\n",
      "\u001B[34m#015Downloading (…)l-00001-of-00002.bin:  89%|████████▉ | 8.87G/9.94G [01:08<00:09, 112MB/s] #033[A\u001B[0m\n",
      "\u001B[34m#015Downloading (…)l-00001-of-00002.bin:  90%|████████▉ | 8.90G/9.94G [01:08<00:07, 134MB/s]#033[A\u001B[0m\n",
      "\u001B[34m#015Downloading (…)l-00001-of-00002.bin:  90%|████████▉ | 8.93G/9.94G [01:08<00:06, 160MB/s]#033[A\u001B[0m\n",
      "\u001B[34m#015Downloading (…)l-00001-of-00002.bin:  90%|█████████ | 8.97G/9.94G [01:09<00:06, 159MB/s]#033[A\u001B[0m\n",
      "\u001B[34m#015Downloading (…)l-00001-of-00002.bin:  90%|█████████ | 9.00G/9.94G [01:09<00:05, 177MB/s]#033[A\u001B[0m\n",
      "\u001B[34m#015Downloading (…)l-00001-of-00002.bin:  91%|█████████ | 9.03G/9.94G [01:09<00:05, 173MB/s]#033[A\u001B[0m\n",
      "\u001B[34m#015Downloading (…)l-00001-of-00002.bin:  91%|█████████ | 9.05G/9.94G [01:09<00:06, 142MB/s]#033[A\u001B[0m\n",
      "\u001B[34m#015Downloading (…)l-00001-of-00002.bin:  91%|█████████ | 9.07G/9.94G [01:09<00:06, 145MB/s]#033[A\u001B[0m\n",
      "\u001B[34m#015Downloading (…)l-00001-of-00002.bin:  91%|█████████▏| 9.09G/9.94G [01:09<00:05, 155MB/s]#033[A\u001B[0m\n",
      "\u001B[34m#015Downloading (…)l-00001-of-00002.bin:  92%|█████████▏| 9.11G/9.94G [01:10<00:05, 152MB/s]#033[A\u001B[0m\n",
      "\u001B[34m#015Downloading (…)l-00001-of-00002.bin:  92%|█████████▏| 9.14G/9.94G [01:10<00:04, 169MB/s]#033[A\u001B[0m\n",
      "\u001B[34m#015Downloading (…)l-00001-of-00002.bin:  92%|█████████▏| 9.16G/9.94G [01:10<00:06, 122MB/s]#033[A\u001B[0m\n",
      "\u001B[34m#015Downloading (…)l-00001-of-00002.bin:  92%|█████████▏| 9.19G/9.94G [01:10<00:06, 114MB/s]#033[A\u001B[0m\n",
      "\u001B[34m#015Downloading (…)l-00001-of-00002.bin:  93%|█████████▎| 9.21G/9.94G [01:10<00:05, 125MB/s]#033[A\u001B[0m\n",
      "\u001B[34m#015Downloading (…)l-00001-of-00002.bin:  93%|█████████▎| 9.23G/9.94G [01:11<00:05, 134MB/s]#033[A\u001B[0m\n",
      "\u001B[34m#015Downloading (…)l-00001-of-00002.bin:  93%|█████████▎| 9.25G/9.94G [01:11<00:04, 145MB/s]#033[A\u001B[0m\n",
      "\u001B[34m#015Downloading (…)l-00001-of-00002.bin:  93%|█████████▎| 9.27G/9.94G [01:11<00:04, 143MB/s]#033[A\u001B[0m\n",
      "\u001B[34m#015Downloading (…)l-00001-of-00002.bin:  93%|█████████▎| 9.29G/9.94G [01:11<00:05, 125MB/s]#033[A\u001B[0m\n",
      "\u001B[34m#015Downloading (…)l-00001-of-00002.bin:  94%|█████████▎| 9.31G/9.94G [01:11<00:04, 135MB/s]#033[A\u001B[0m\n",
      "\u001B[34m#015Downloading (…)l-00001-of-00002.bin:  94%|█████████▍| 9.33G/9.94G [01:11<00:04, 144MB/s]#033[A\u001B[0m\n",
      "\u001B[34m#015Downloading (…)l-00001-of-00002.bin:  94%|█████████▍| 9.35G/9.94G [01:11<00:03, 153MB/s]#033[A\u001B[0m\n",
      "\u001B[34m#015Downloading (…)l-00001-of-00002.bin:  94%|█████████▍| 9.37G/9.94G [01:12<00:03, 161MB/s]#033[A\u001B[0m\n",
      "\u001B[34m#015Downloading (…)l-00001-of-00002.bin:  95%|█████████▍| 9.41G/9.94G [01:12<00:02, 191MB/s]#033[A\u001B[0m\n",
      "\u001B[34m#015Downloading (…)l-00001-of-00002.bin:  95%|█████████▍| 9.43G/9.94G [01:12<00:02, 190MB/s]#033[A\u001B[0m\n",
      "\u001B[34m#015Downloading (…)l-00001-of-00002.bin:  95%|█████████▌| 9.45G/9.94G [01:12<00:02, 179MB/s]#033[A\u001B[0m\n",
      "\u001B[34m#015Downloading (…)l-00001-of-00002.bin:  95%|█████████▌| 9.47G/9.94G [01:12<00:02, 176MB/s]#033[A\u001B[0m\n",
      "\u001B[34m#015Downloading (…)l-00001-of-00002.bin:  96%|█████████▌| 9.50G/9.94G [01:12<00:02, 194MB/s]#033[A\u001B[0m\n",
      "\u001B[34m#015Downloading (…)l-00001-of-00002.bin:  96%|█████████▌| 9.52G/9.94G [01:12<00:02, 162MB/s]#033[A\u001B[0m\n",
      "\u001B[34m#015Downloading (…)l-00001-of-00002.bin:  96%|█████████▌| 9.54G/9.94G [01:12<00:02, 161MB/s]#033[A\u001B[0m\n",
      "\u001B[34m#015Downloading (…)l-00001-of-00002.bin:  96%|█████████▌| 9.56G/9.94G [01:13<00:02, 135MB/s]#033[A\u001B[0m\n",
      "\u001B[34m#015Downloading (…)l-00001-of-00002.bin:  96%|█████████▋| 9.58G/9.94G [01:13<00:02, 129MB/s]#033[A\u001B[0m\n",
      "\u001B[34m#015Downloading (…)l-00001-of-00002.bin:  97%|█████████▋| 9.62G/9.94G [01:13<00:02, 155MB/s]#033[A\u001B[0m\n",
      "\u001B[34m#015Downloading (…)l-00001-of-00002.bin:  97%|█████████▋| 9.65G/9.94G [01:13<00:01, 179MB/s]#033[A\u001B[0m\n",
      "\u001B[34m#015Downloading (…)l-00001-of-00002.bin:  97%|█████████▋| 9.67G/9.94G [01:13<00:01, 173MB/s]#033[A\u001B[0m\n",
      "\u001B[34m#015Downloading (…)l-00001-of-00002.bin:  98%|█████████▊| 9.70G/9.94G [01:13<00:01, 197MB/s]#033[A\u001B[0m\n",
      "\u001B[34m#015Downloading (…)l-00001-of-00002.bin:  98%|█████████▊| 9.73G/9.94G [01:14<00:00, 212MB/s]#033[A\u001B[0m\n",
      "\u001B[34m#015Downloading (…)l-00001-of-00002.bin:  98%|█████████▊| 9.76G/9.94G [01:14<00:00, 189MB/s]#033[A\u001B[0m\n",
      "\u001B[34m#015Downloading (…)l-00001-of-00002.bin:  98%|█████████▊| 9.78G/9.94G [01:14<00:00, 191MB/s]#033[A\u001B[0m\n",
      "\u001B[34m#015Downloading (…)l-00001-of-00002.bin:  99%|█████████▊| 9.80G/9.94G [01:14<00:00, 153MB/s]#033[A\u001B[0m\n",
      "\u001B[34m#015Downloading (…)l-00001-of-00002.bin:  99%|█████████▉| 9.83G/9.94G [01:14<00:00, 139MB/s]#033[A\u001B[0m\n",
      "\u001B[34m#015Downloading (…)l-00001-of-00002.bin:  99%|█████████▉| 9.85G/9.94G [01:14<00:00, 148MB/s]#033[A\u001B[0m\n",
      "\u001B[34m#015Downloading (…)l-00001-of-00002.bin:  99%|█████████▉| 9.87G/9.94G [01:15<00:00, 132MB/s]#033[A\u001B[0m\n",
      "\u001B[34m#015Downloading (…)l-00001-of-00002.bin:  99%|█████████▉| 9.89G/9.94G [01:15<00:00, 142MB/s]#033[A\u001B[0m\n",
      "\u001B[34m#015Downloading (…)l-00001-of-00002.bin: 100%|█████████▉| 9.91G/9.94G [01:15<00:00, 147MB/s]#033[A\u001B[0m\n",
      "\u001B[34m#015Downloading (…)l-00001-of-00002.bin: 100%|█████████▉| 9.93G/9.94G [01:15<00:00, 148MB/s]#033[A#015Downloading (…)l-00001-of-00002.bin: 100%|██████████| 9.94G/9.94G [01:15<00:00, 132MB/s]\u001B[0m\n",
      "\u001B[34m#015Downloading shards:  50%|█████     | 1/2 [01:15<01:15, 75.99s/it]\u001B[0m\n",
      "\u001B[34m#015Downloading (…)l-00002-of-00002.bin:   0%|          | 0.00/5.06G [00:00<?, ?B/s]#033[A\u001B[0m\n",
      "\u001B[34m#015Downloading (…)l-00002-of-00002.bin:   0%|          | 21.0M/5.06G [00:00<00:52, 96.5MB/s]#033[A\u001B[0m\n",
      "\u001B[34m#015Downloading (…)l-00002-of-00002.bin:   1%|          | 31.5M/5.06G [00:00<00:55, 90.1MB/s]#033[A\u001B[0m\n",
      "\u001B[34m#015Downloading (…)l-00002-of-00002.bin:   1%|          | 41.9M/5.06G [00:00<00:57, 87.8MB/s]#033[A\u001B[0m\n",
      "\u001B[34m#015Downloading (…)l-00002-of-00002.bin:   1%|          | 62.9M/5.06G [00:00<00:40, 123MB/s] #033[A\u001B[0m\n",
      "\u001B[34m#015Downloading (…)l-00002-of-00002.bin:   2%|▏         | 94.4M/5.06G [00:00<00:30, 162MB/s]#033[A\u001B[0m\n",
      "\u001B[34m#015Downloading (…)l-00002-of-00002.bin:   2%|▏         | 115M/5.06G [00:00<00:29, 165MB/s] #033[A\u001B[0m\n",
      "\u001B[34m#015Downloading (…)l-00002-of-00002.bin:   3%|▎         | 136M/5.06G [00:01<00:33, 148MB/s]#033[A\u001B[0m\n",
      "\u001B[34m#015Downloading (…)l-00002-of-00002.bin:   3%|▎         | 168M/5.06G [00:01<00:27, 176MB/s]#033[A\u001B[0m\n",
      "\u001B[34m#015Downloading (…)l-00002-of-00002.bin:   4%|▍         | 199M/5.06G [00:01<00:24, 195MB/s]#033[A\u001B[0m\n",
      "\u001B[34m#015Downloading (…)l-00002-of-00002.bin:   5%|▍         | 241M/5.06G [00:01<00:21, 222MB/s]#033[A\u001B[0m\n",
      "\u001B[34m#015Downloading (…)l-00002-of-00002.bin:   5%|▌         | 273M/5.06G [00:01<00:23, 205MB/s]#033[A\u001B[0m\n",
      "\u001B[34m#015Downloading (…)l-00002-of-00002.bin:   6%|▌         | 294M/5.06G [00:01<00:24, 195MB/s]#033[A\u001B[0m\n",
      "\u001B[34m#015Downloading (…)l-00002-of-00002.bin:   6%|▋         | 325M/5.06G [00:01<00:21, 220MB/s]#033[A\u001B[0m\n",
      "\u001B[34m#015Downloading (…)l-00002-of-00002.bin:   7%|▋         | 377M/5.06G [00:01<00:17, 268MB/s]#033[A\u001B[0m\n",
      "\u001B[34m#015Downloading (…)l-00002-of-00002.bin:   8%|▊         | 409M/5.06G [00:02<00:19, 235MB/s]#033[A\u001B[0m\n",
      "\u001B[34m#015Downloading (…)l-00002-of-00002.bin:   9%|▊         | 440M/5.06G [00:02<00:19, 233MB/s]#033[A\u001B[0m\n",
      "\u001B[34m#015Downloading (…)l-00002-of-00002.bin:   9%|▉         | 472M/5.06G [00:02<00:19, 237MB/s]#033[A\u001B[0m\n",
      "\u001B[34m#015Downloading (…)l-00002-of-00002.bin:  10%|▉         | 503M/5.06G [00:02<00:22, 200MB/s]#033[A\u001B[0m\n",
      "\u001B[34m#015Downloading (…)l-00002-of-00002.bin:  11%|█         | 535M/5.06G [00:02<00:25, 177MB/s]#033[A\u001B[0m\n",
      "\u001B[34m#015Downloading (…)l-00002-of-00002.bin:  11%|█         | 556M/5.06G [00:03<00:28, 156MB/s]#033[A\u001B[0m\n",
      "\u001B[34m#015Downloading (…)l-00002-of-00002.bin:  12%|█▏        | 587M/5.06G [00:03<00:26, 171MB/s]#033[A\u001B[0m\n",
      "\u001B[34m#015Downloading (…)l-00002-of-00002.bin:  12%|█▏        | 608M/5.06G [00:03<00:25, 172MB/s]#033[A\u001B[0m\n",
      "\u001B[34m#015Downloading (…)l-00002-of-00002.bin:  12%|█▏        | 629M/5.06G [00:03<00:25, 174MB/s]#033[A\u001B[0m\n",
      "\u001B[34m#015Downloading (…)l-00002-of-00002.bin:  13%|█▎        | 650M/5.06G [00:03<00:29, 151MB/s]#033[A\u001B[0m\n",
      "\u001B[34m#015Downloading (…)l-00002-of-00002.bin:  13%|█▎        | 671M/5.06G [00:03<00:28, 152MB/s]#033[A\u001B[0m\n",
      "\u001B[34m#015Downloading (…)l-00002-of-00002.bin:  14%|█▍        | 703M/5.06G [00:03<00:24, 177MB/s]#033[A\u001B[0m\n",
      "\u001B[34m#015Downloading (…)l-00002-of-00002.bin:  14%|█▍        | 724M/5.06G [00:04<00:24, 174MB/s]#033[A\u001B[0m\n",
      "\u001B[34m#015Downloading (…)l-00002-of-00002.bin:  15%|█▍        | 744M/5.06G [00:04<00:27, 159MB/s]#033[A\u001B[0m\n",
      "\u001B[34m#015Downloading (…)l-00002-of-00002.bin:  15%|█▌        | 765M/5.06G [00:04<00:29, 147MB/s]#033[A\u001B[0m\n",
      "\u001B[34m#015Downloading (…)l-00002-of-00002.bin:  16%|█▌        | 786M/5.06G [00:04<00:26, 159MB/s]#033[A\u001B[0m\n",
      "\u001B[34m#015Downloading (…)l-00002-of-00002.bin:  16%|█▌        | 818M/5.06G [00:04<00:23, 184MB/s]#033[A\u001B[0m\n",
      "\u001B[34m#015Downloading (…)l-00002-of-00002.bin:  17%|█▋        | 849M/5.06G [00:04<00:20, 203MB/s]#033[A\u001B[0m\n",
      "\u001B[34m#015Downloading (…)l-00002-of-00002.bin:  17%|█▋        | 870M/5.06G [00:04<00:21, 197MB/s]#033[A\u001B[0m\n",
      "\u001B[34m#015Downloading (…)l-00002-of-00002.bin:  18%|█▊        | 891M/5.06G [00:05<00:32, 127MB/s]#033[A\u001B[0m\n",
      "\u001B[34m#015Downloading (…)l-00002-of-00002.bin:  18%|█▊        | 923M/5.06G [00:05<00:27, 149MB/s]#033[A\u001B[0m\n",
      "\u001B[34m#015Downloading (…)l-00002-of-00002.bin:  19%|█▉        | 954M/5.06G [00:05<00:23, 172MB/s]#033[A\u001B[0m\n",
      "\u001B[34m#015Downloading (…)l-00002-of-00002.bin:  19%|█▉        | 975M/5.06G [00:05<00:28, 145MB/s]#033[A\u001B[0m\n",
      "\u001B[34m#015Downloading (…)l-00002-of-00002.bin:  20%|█▉        | 996M/5.06G [00:05<00:28, 141MB/s]#033[A\u001B[0m\n",
      "\u001B[34m#015Downloading (…)l-00002-of-00002.bin:  20%|██        | 1.03G/5.06G [00:06<00:27, 144MB/s]#033[A\u001B[0m\n",
      "\u001B[34m#015Downloading (…)l-00002-of-00002.bin:  21%|██        | 1.05G/5.06G [00:06<00:56, 70.7MB/s]#033[A\u001B[0m\n",
      "\u001B[34m#015Downloading (…)l-00002-of-00002.bin:  21%|██        | 1.07G/5.06G [00:07<00:54, 73.4MB/s]#033[A\u001B[0m\n",
      "\u001B[34m#015Downloading (…)l-00002-of-00002.bin:  22%|██▏       | 1.09G/5.06G [00:07<00:44, 88.9MB/s]#033[A\u001B[0m\n",
      "\u001B[34m#015Downloading (…)l-00002-of-00002.bin:  22%|██▏       | 1.11G/5.06G [00:07<00:40, 96.8MB/s]#033[A\u001B[0m\n",
      "\u001B[34m#015Downloading (…)l-00002-of-00002.bin:  22%|██▏       | 1.13G/5.06G [00:07<00:38, 103MB/s] #033[A\u001B[0m\n",
      "\u001B[34m#015Downloading (…)l-00002-of-00002.bin:  23%|██▎       | 1.15G/5.06G [00:07<00:37, 104MB/s]#033[A\u001B[0m\n",
      "\u001B[34m#015Downloading (…)l-00002-of-00002.bin:  23%|██▎       | 1.17G/5.06G [00:07<00:34, 113MB/s]#033[A\u001B[0m\n",
      "\u001B[34m#015Downloading (…)l-00002-of-00002.bin:  24%|██▎       | 1.20G/5.06G [00:07<00:30, 126MB/s]#033[A\u001B[0m\n",
      "\u001B[34m#015Downloading (…)l-00002-of-00002.bin:  24%|██▍       | 1.22G/5.06G [00:08<00:28, 135MB/s]#033[A\u001B[0m\n",
      "\u001B[34m#015Downloading (…)l-00002-of-00002.bin:  24%|██▍       | 1.24G/5.06G [00:08<00:26, 147MB/s]#033[A\u001B[0m\n",
      "\u001B[34m#015Downloading (…)l-00002-of-00002.bin:  25%|██▍       | 1.26G/5.06G [00:08<00:26, 146MB/s]#033[A\u001B[0m\n",
      "\u001B[34m#015Downloading (…)l-00002-of-00002.bin:  25%|██▌       | 1.29G/5.06G [00:08<00:22, 171MB/s]#033[A\u001B[0m\n",
      "\u001B[34m#015Downloading (…)l-00002-of-00002.bin:  26%|██▌       | 1.31G/5.06G [00:08<00:20, 179MB/s]#033[A\u001B[0m\n",
      "\u001B[34m#015Downloading (…)l-00002-of-00002.bin:  26%|██▋       | 1.34G/5.06G [00:08<00:19, 195MB/s]#033[A\u001B[0m\n",
      "\u001B[34m#015Downloading (…)l-00002-of-00002.bin:  27%|██▋       | 1.36G/5.06G [00:08<00:20, 185MB/s]#033[A\u001B[0m\n",
      "\u001B[34m#015Downloading (…)l-00002-of-00002.bin:  28%|██▊       | 1.39G/5.06G [00:08<00:18, 199MB/s]#033[A\u001B[0m\n",
      "\u001B[34m#015Downloading (…)l-00002-of-00002.bin:  28%|██▊       | 1.43G/5.06G [00:09<00:18, 199MB/s]#033[A\u001B[0m\n",
      "\u001B[34m#015Downloading (…)l-00002-of-00002.bin:  29%|██▊       | 1.45G/5.06G [00:09<00:22, 160MB/s]#033[A\u001B[0m\n",
      "\u001B[34m#015Downloading (…)l-00002-of-00002.bin:  29%|██▉       | 1.48G/5.06G [00:09<00:20, 176MB/s]#033[A\u001B[0m\n",
      "\u001B[34m#015Downloading (…)l-00002-of-00002.bin:  30%|██▉       | 1.51G/5.06G [00:09<00:17, 200MB/s]#033[A\u001B[0m\n",
      "\u001B[34m#015Downloading (…)l-00002-of-00002.bin:  30%|███       | 1.54G/5.06G [00:09<00:17, 202MB/s]#033[A\u001B[0m\n",
      "\u001B[34m#015Downloading (…)l-00002-of-00002.bin:  31%|███       | 1.57G/5.06G [00:10<00:31, 110MB/s]#033[A\u001B[0m\n",
      "\u001B[34m#015Downloading (…)l-00002-of-00002.bin:  31%|███▏      | 1.59G/5.06G [00:10<00:31, 110MB/s]#033[A\u001B[0m\n",
      "\u001B[34m#015Downloading (…)l-00002-of-00002.bin:  32%|███▏      | 1.61G/5.06G [00:10<00:29, 117MB/s]#033[A\u001B[0m\n",
      "\u001B[34m#015Downloading (…)l-00002-of-00002.bin:  32%|███▏      | 1.64G/5.06G [00:10<00:26, 131MB/s]#033[A\u001B[0m\n",
      "\u001B[34m#015Downloading (…)l-00002-of-00002.bin:  33%|███▎      | 1.67G/5.06G [00:10<00:22, 150MB/s]#033[A\u001B[0m\n",
      "\u001B[34m#015Downloading (…)l-00002-of-00002.bin:  33%|███▎      | 1.69G/5.06G [00:10<00:21, 159MB/s]#033[A\u001B[0m\n",
      "\u001B[34m#015Downloading (…)l-00002-of-00002.bin:  34%|███▍      | 1.72G/5.06G [00:11<00:17, 188MB/s]#033[A\u001B[0m\n",
      "\u001B[34m#015Downloading (…)l-00002-of-00002.bin:  35%|███▍      | 1.75G/5.06G [00:11<00:16, 206MB/s]#033[A\u001B[0m\n",
      "\u001B[34m#015Downloading (…)l-00002-of-00002.bin:  35%|███▌      | 1.78G/5.06G [00:11<00:15, 211MB/s]#033[A\u001B[0m\n",
      "\u001B[34m#015Downloading (…)l-00002-of-00002.bin:  36%|███▌      | 1.81G/5.06G [00:11<00:14, 220MB/s]#033[A\u001B[0m\n",
      "\u001B[34m#015Downloading (…)l-00002-of-00002.bin:  36%|███▋      | 1.85G/5.06G [00:11<00:18, 175MB/s]#033[A\u001B[0m\n",
      "\u001B[34m#015Downloading (…)l-00002-of-00002.bin:  37%|███▋      | 1.87G/5.06G [00:11<00:17, 180MB/s]#033[A\u001B[0m\n",
      "\u001B[34m#015Downloading (…)l-00002-of-00002.bin:  37%|███▋      | 1.89G/5.06G [00:11<00:17, 184MB/s]#033[A\u001B[0m\n",
      "\u001B[34m#015Downloading (…)l-00002-of-00002.bin:  38%|███▊      | 1.92G/5.06G [00:12<00:15, 197MB/s]#033[A\u001B[0m\n",
      "\u001B[34m#015Downloading (…)l-00002-of-00002.bin:  38%|███▊      | 1.94G/5.06G [00:12<00:19, 159MB/s]#033[A\u001B[0m\n",
      "\u001B[34m#015Downloading (…)l-00002-of-00002.bin:  39%|███▊      | 1.96G/5.06G [00:12<00:18, 168MB/s]#033[A\u001B[0m\n",
      "\u001B[34m#015Downloading (…)l-00002-of-00002.bin:  39%|███▉      | 1.98G/5.06G [00:12<00:18, 170MB/s]#033[A\u001B[0m\n",
      "\u001B[34m#015Downloading (…)l-00002-of-00002.bin:  40%|███▉      | 2.00G/5.06G [00:12<00:17, 176MB/s]#033[A\u001B[0m\n",
      "\u001B[34m#015Downloading (…)l-00002-of-00002.bin:  40%|███▉      | 2.02G/5.06G [00:12<00:16, 180MB/s]#033[A\u001B[0m\n",
      "\u001B[34m#015Downloading (…)l-00002-of-00002.bin:  40%|████      | 2.04G/5.06G [00:12<00:16, 185MB/s]#033[A\u001B[0m\n",
      "\u001B[34m#015Downloading (…)l-00002-of-00002.bin:  41%|████      | 2.08G/5.06G [00:12<00:14, 206MB/s]#033[A\u001B[0m\n",
      "\u001B[34m#015Downloading (…)l-00002-of-00002.bin:  41%|████▏     | 2.10G/5.06G [00:13<00:14, 203MB/s]#033[A\u001B[0m\n",
      "\u001B[34m#015Downloading (…)l-00002-of-00002.bin:  42%|████▏     | 2.13G/5.06G [00:13<00:13, 212MB/s]#033[A\u001B[0m\n",
      "\u001B[34m#015Downloading (…)l-00002-of-00002.bin:  43%|████▎     | 2.16G/5.06G [00:13<00:12, 224MB/s]#033[A\u001B[0m\n",
      "\u001B[34m#015Downloading (…)l-00002-of-00002.bin:  43%|████▎     | 2.19G/5.06G [00:13<00:13, 213MB/s]#033[A\u001B[0m\n",
      "\u001B[34m#015Downloading (…)l-00002-of-00002.bin:  44%|████▍     | 2.22G/5.06G [00:13<00:13, 209MB/s]#033[A\u001B[0m\n",
      "\u001B[34m#015Downloading (…)l-00002-of-00002.bin:  45%|████▍     | 2.25G/5.06G [00:13<00:14, 195MB/s]#033[A\u001B[0m\n",
      "\u001B[34m#015Downloading (…)l-00002-of-00002.bin:  45%|████▍     | 2.28G/5.06G [00:14<00:17, 164MB/s]#033[A\u001B[0m\n",
      "\u001B[34m#015Downloading (…)l-00002-of-00002.bin:  46%|████▌     | 2.31G/5.06G [00:14<00:15, 183MB/s]#033[A\u001B[0m\n",
      "\u001B[34m#015Downloading (…)l-00002-of-00002.bin:  46%|████▌     | 2.33G/5.06G [00:14<00:17, 157MB/s]#033[A\u001B[0m\n",
      "\u001B[34m#015Downloading (…)l-00002-of-00002.bin:  46%|████▋     | 2.35G/5.06G [00:14<00:17, 156MB/s]#033[A\u001B[0m\n",
      "\u001B[34m#015Downloading (…)l-00002-of-00002.bin:  47%|████▋     | 2.37G/5.06G [00:14<00:17, 154MB/s]#033[A\u001B[0m\n",
      "\u001B[34m#015Downloading (…)l-00002-of-00002.bin:  47%|████▋     | 2.39G/5.06G [00:14<00:23, 115MB/s]#033[A\u001B[0m\n",
      "\u001B[34m#015Downloading (…)l-00002-of-00002.bin:  48%|████▊     | 2.41G/5.06G [00:15<00:23, 114MB/s]#033[A\u001B[0m\n",
      "\u001B[34m#015Downloading (…)l-00002-of-00002.bin:  48%|████▊     | 2.43G/5.06G [00:15<00:25, 101MB/s]#033[A\u001B[0m\n",
      "\u001B[34m#015Downloading (…)l-00002-of-00002.bin:  48%|████▊     | 2.45G/5.06G [00:15<00:21, 119MB/s]#033[A\u001B[0m\n",
      "\u001B[34m#015Downloading (…)l-00002-of-00002.bin:  49%|████▉     | 2.47G/5.06G [00:15<00:20, 126MB/s]#033[A\u001B[0m\n",
      "\u001B[34m#015Downloading (…)l-00002-of-00002.bin:  49%|████▉     | 2.50G/5.06G [00:15<00:19, 131MB/s]#033[A\u001B[0m\n",
      "\u001B[34m#015Downloading (…)l-00002-of-00002.bin:  50%|████▉     | 2.52G/5.06G [00:15<00:18, 141MB/s]#033[A\u001B[0m\n",
      "\u001B[34m#015Downloading (…)l-00002-of-00002.bin:  50%|█████     | 2.54G/5.06G [00:16<00:20, 123MB/s]#033[A\u001B[0m\n",
      "\u001B[34m#015Downloading (…)l-00002-of-00002.bin:  51%|█████     | 2.56G/5.06G [00:16<00:21, 114MB/s]#033[A\u001B[0m\n",
      "\u001B[34m#015Downloading (…)l-00002-of-00002.bin:  51%|█████     | 2.58G/5.06G [00:16<00:23, 108MB/s]#033[A\u001B[0m\n",
      "\u001B[34m#015Downloading (…)l-00002-of-00002.bin:  52%|█████▏    | 2.61G/5.06G [00:16<00:19, 124MB/s]#033[A\u001B[0m\n",
      "\u001B[34m#015Downloading (…)l-00002-of-00002.bin:  52%|█████▏    | 2.63G/5.06G [00:16<00:18, 135MB/s]#033[A\u001B[0m\n",
      "\u001B[34m#015Downloading (…)l-00002-of-00002.bin:  53%|█████▎    | 2.66G/5.06G [00:17<00:16, 148MB/s]#033[A\u001B[0m\n",
      "\u001B[34m#015Downloading (…)l-00002-of-00002.bin:  53%|█████▎    | 2.68G/5.06G [00:17<00:17, 135MB/s]#033[A\u001B[0m\n",
      "\u001B[34m#015Downloading (…)l-00002-of-00002.bin:  53%|█████▎    | 2.71G/5.06G [00:17<00:15, 148MB/s]#033[A\u001B[0m\n",
      "\u001B[34m#015Downloading (…)l-00002-of-00002.bin:  54%|█████▍    | 2.73G/5.06G [00:17<00:15, 148MB/s]#033[A\u001B[0m\n",
      "\u001B[34m#015Downloading (…)l-00002-of-00002.bin:  54%|█████▍    | 2.75G/5.06G [00:17<00:16, 142MB/s]#033[A\u001B[0m\n",
      "\u001B[34m#015Downloading (…)l-00002-of-00002.bin:  55%|█████▍    | 2.77G/5.06G [00:17<00:16, 136MB/s]#033[A\u001B[0m\n",
      "\u001B[34m#015Downloading (…)l-00002-of-00002.bin:  55%|█████▌    | 2.79G/5.06G [00:17<00:15, 143MB/s]#033[A\u001B[0m\n",
      "\u001B[34m#015Downloading (…)l-00002-of-00002.bin:  56%|█████▌    | 2.82G/5.06G [00:18<00:12, 178MB/s]#033[A\u001B[0m\n",
      "\u001B[34m#015Downloading (…)l-00002-of-00002.bin:  56%|█████▌    | 2.84G/5.06G [00:18<00:12, 182MB/s]#033[A\u001B[0m\n",
      "\u001B[34m#015Downloading (…)l-00002-of-00002.bin:  57%|█████▋    | 2.86G/5.06G [00:18<00:12, 179MB/s]#033[A\u001B[0m\n",
      "\u001B[34m#015Downloading (…)l-00002-of-00002.bin:  57%|█████▋    | 2.88G/5.06G [00:18<00:14, 148MB/s]#033[A\u001B[0m\n",
      "\u001B[34m#015Downloading (…)l-00002-of-00002.bin:  57%|█████▋    | 2.90G/5.06G [00:18<00:18, 115MB/s]#033[A\u001B[0m\n",
      "\u001B[34m#015Downloading (…)l-00002-of-00002.bin:  58%|█████▊    | 2.93G/5.06G [00:19<00:19, 107MB/s]#033[A\u001B[0m\n",
      "\u001B[34m#015Downloading (…)l-00002-of-00002.bin:  58%|█████▊    | 2.95G/5.06G [00:19<00:20, 101MB/s]#033[A\u001B[0m\n",
      "\u001B[34m#015Downloading (…)l-00002-of-00002.bin:  59%|█████▊    | 2.97G/5.06G [00:19<00:20, 101MB/s]#033[A\u001B[0m\n",
      "\u001B[34m#015Downloading (…)l-00002-of-00002.bin:  59%|█████▉    | 2.99G/5.06G [00:19<00:22, 93.7MB/s]#033[A\u001B[0m\n",
      "\u001B[34m#015Downloading (…)l-00002-of-00002.bin:  59%|█████▉    | 3.01G/5.06G [00:19<00:19, 104MB/s] #033[A\u001B[0m\n",
      "\u001B[34m#015Downloading (…)l-00002-of-00002.bin:  60%|█████▉    | 3.03G/5.06G [00:20<00:21, 93.3MB/s]#033[A\u001B[0m\n",
      "\u001B[34m#015Downloading (…)l-00002-of-00002.bin:  60%|██████    | 3.06G/5.06G [00:20<00:16, 124MB/s] #033[A\u001B[0m\n",
      "\u001B[34m#015Downloading (…)l-00002-of-00002.bin:  61%|██████    | 3.09G/5.06G [00:20<00:13, 149MB/s]#033[A\u001B[0m\n",
      "\u001B[34m#015Downloading (…)l-00002-of-00002.bin:  61%|██████▏   | 3.11G/5.06G [00:20<00:14, 133MB/s]#033[A\u001B[0m\n",
      "\u001B[34m#015Downloading (…)l-00002-of-00002.bin:  62%|██████▏   | 3.14G/5.06G [00:20<00:14, 134MB/s]#033[A\u001B[0m\n",
      "\u001B[34m#015Downloading (…)l-00002-of-00002.bin:  62%|██████▏   | 3.16G/5.06G [00:20<00:13, 146MB/s]#033[A\u001B[0m\n",
      "\u001B[34m#015Downloading (…)l-00002-of-00002.bin:  63%|██████▎   | 3.18G/5.06G [00:21<00:13, 137MB/s]#033[A\u001B[0m\n",
      "\u001B[34m#015Downloading (…)l-00002-of-00002.bin:  63%|██████▎   | 3.20G/5.06G [00:21<00:12, 144MB/s]#033[A\u001B[0m\n",
      "\u001B[34m#015Downloading (…)l-00002-of-00002.bin:  64%|██████▍   | 3.23G/5.06G [00:21<00:11, 156MB/s]#033[A\u001B[0m\n",
      "\u001B[34m#015Downloading (…)l-00002-of-00002.bin:  64%|██████▍   | 3.25G/5.06G [00:21<00:13, 131MB/s]#033[A\u001B[0m\n",
      "\u001B[34m#015Downloading (…)l-00002-of-00002.bin:  65%|██████▍   | 3.27G/5.06G [00:21<00:13, 136MB/s]#033[A\u001B[0m\n",
      "\u001B[34m#015Downloading (…)l-00002-of-00002.bin:  65%|██████▌   | 3.29G/5.06G [00:21<00:11, 148MB/s]#033[A\u001B[0m\n",
      "\u001B[34m#015Downloading (…)l-00002-of-00002.bin:  65%|██████▌   | 3.31G/5.06G [00:22<00:18, 92.9MB/s]#033[A\u001B[0m\n",
      "\u001B[34m#015Downloading (…)l-00002-of-00002.bin:  66%|██████▌   | 3.33G/5.06G [00:22<00:19, 86.5MB/s]#033[A\u001B[0m\n",
      "\u001B[34m#015Downloading (…)l-00002-of-00002.bin:  66%|██████▌   | 3.36G/5.06G [00:23<00:25, 66.2MB/s]#033[A\u001B[0m\n",
      "\u001B[34m#015Downloading (…)l-00002-of-00002.bin:  67%|██████▋   | 3.38G/5.06G [00:23<00:20, 80.5MB/s]#033[A\u001B[0m\n",
      "\u001B[34m#015Downloading (…)l-00002-of-00002.bin:  67%|██████▋   | 3.40G/5.06G [00:23<00:17, 97.9MB/s]#033[A\u001B[0m\n",
      "\u001B[34m#015Downloading (…)l-00002-of-00002.bin:  68%|██████▊   | 3.43G/5.06G [00:23<00:12, 130MB/s] #033[A\u001B[0m\n",
      "\u001B[34m#015Downloading (…)l-00002-of-00002.bin:  68%|██████▊   | 3.45G/5.06G [00:23<00:11, 136MB/s]#033[A\u001B[0m\n",
      "\u001B[34m#015Downloading (…)l-00002-of-00002.bin:  69%|██████▊   | 3.47G/5.06G [00:23<00:12, 125MB/s]#033[A\u001B[0m\n",
      "\u001B[34m#015Downloading (…)l-00002-of-00002.bin:  69%|██████▉   | 3.50G/5.06G [00:23<00:10, 153MB/s]#033[A\u001B[0m\n",
      "\u001B[34m#015Downloading (…)l-00002-of-00002.bin:  70%|██████▉   | 3.52G/5.06G [00:24<00:10, 141MB/s]#033[A\u001B[0m\n",
      "\u001B[34m#015Downloading (…)l-00002-of-00002.bin:  70%|██████▉   | 3.54G/5.06G [00:24<00:11, 131MB/s]#033[A\u001B[0m\n",
      "\u001B[34m#015Downloading (…)l-00002-of-00002.bin:  70%|███████   | 3.57G/5.06G [00:24<00:11, 136MB/s]#033[A\u001B[0m\n",
      "\u001B[34m#015Downloading (…)l-00002-of-00002.bin:  71%|███████   | 3.59G/5.06G [00:24<00:10, 147MB/s]#033[A\u001B[0m\n",
      "\u001B[34m#015Downloading (…)l-00002-of-00002.bin:  71%|███████▏  | 3.62G/5.06G [00:24<00:08, 168MB/s]#033[A\u001B[0m\n",
      "\u001B[34m#015Downloading (…)l-00002-of-00002.bin:  72%|███████▏  | 3.64G/5.06G [00:24<00:08, 162MB/s]#033[A\u001B[0m\n",
      "\u001B[34m#015Downloading (…)l-00002-of-00002.bin:  72%|███████▏  | 3.66G/5.06G [00:24<00:08, 158MB/s]#033[A\u001B[0m\n",
      "\u001B[34m#015Downloading (…)l-00002-of-00002.bin:  73%|███████▎  | 3.69G/5.06G [00:25<00:08, 171MB/s]#033[A\u001B[0m\n",
      "\u001B[34m#015Downloading (…)l-00002-of-00002.bin:  73%|███████▎  | 3.71G/5.06G [00:25<00:07, 174MB/s]#033[A\u001B[0m\n",
      "\u001B[34m#015Downloading (…)l-00002-of-00002.bin:  74%|███████▎  | 3.73G/5.06G [00:25<00:11, 117MB/s]#033[A\u001B[0m\n",
      "\u001B[34m#015Downloading (…)l-00002-of-00002.bin:  74%|███████▍  | 3.75G/5.06G [00:25<00:10, 128MB/s]#033[A\u001B[0m\n",
      "\u001B[34m#015Downloading (…)l-00002-of-00002.bin:  75%|███████▍  | 3.79G/5.06G [00:25<00:08, 155MB/s]#033[A\u001B[0m\n",
      "\u001B[34m#015Downloading (…)l-00002-of-00002.bin:  75%|███████▌  | 3.81G/5.06G [00:25<00:07, 160MB/s]#033[A\u001B[0m\n",
      "\u001B[34m#015Downloading (…)l-00002-of-00002.bin:  76%|███████▌  | 3.83G/5.06G [00:26<00:10, 116MB/s]#033[A\u001B[0m\n",
      "\u001B[34m#015Downloading (…)l-00002-of-00002.bin:  76%|███████▌  | 3.85G/5.06G [00:26<00:10, 113MB/s]#033[A\u001B[0m\n",
      "\u001B[34m#015Downloading (…)l-00002-of-00002.bin:  76%|███████▋  | 3.87G/5.06G [00:26<00:14, 83.6MB/s]#033[A\u001B[0m\n",
      "\u001B[34m#015Downloading (…)l-00002-of-00002.bin:  77%|███████▋  | 3.89G/5.06G [00:27<00:14, 81.3MB/s]#033[A\u001B[0m\n",
      "\u001B[34m#015Downloading (…)l-00002-of-00002.bin:  77%|███████▋  | 3.90G/5.06G [00:27<00:14, 79.1MB/s]#033[A\u001B[0m\n",
      "\u001B[34m#015Downloading (…)l-00002-of-00002.bin:  77%|███████▋  | 3.91G/5.06G [00:27<00:14, 78.1MB/s]#033[A\u001B[0m\n",
      "\u001B[34m#015Downloading (…)l-00002-of-00002.bin:  77%|███████▋  | 3.92G/5.06G [00:27<00:15, 74.1MB/s]#033[A\u001B[0m\n",
      "\u001B[34m#015Downloading (…)l-00002-of-00002.bin:  78%|███████▊  | 3.94G/5.06G [00:27<00:12, 92.9MB/s]#033[A\u001B[0m\n",
      "\u001B[34m#015Downloading (…)l-00002-of-00002.bin:  78%|███████▊  | 3.97G/5.06G [00:27<00:08, 134MB/s] #033[A\u001B[0m\n",
      "\u001B[34m#015Downloading (…)l-00002-of-00002.bin:  79%|███████▉  | 4.00G/5.06G [00:27<00:07, 147MB/s]#033[A\u001B[0m\n",
      "\u001B[34m#015Downloading (…)l-00002-of-00002.bin:  79%|███████▉  | 4.02G/5.06G [00:28<00:06, 150MB/s]#033[A\u001B[0m\n",
      "\u001B[34m#015Downloading (…)l-00002-of-00002.bin:  80%|███████▉  | 4.04G/5.06G [00:28<00:06, 156MB/s]#033[A\u001B[0m\n",
      "\u001B[34m#015Downloading (…)l-00002-of-00002.bin:  80%|████████  | 4.06G/5.06G [00:28<00:06, 163MB/s]#033[A\u001B[0m\n",
      "\u001B[34m#015Downloading (…)l-00002-of-00002.bin:  81%|████████  | 4.08G/5.06G [00:28<00:06, 161MB/s]#033[A\u001B[0m\n",
      "\u001B[34m#015Downloading (…)l-00002-of-00002.bin:  81%|████████  | 4.11G/5.06G [00:28<00:04, 195MB/s]#033[A\u001B[0m\n",
      "\u001B[34m#015Downloading (…)l-00002-of-00002.bin:  82%|████████▏ | 4.14G/5.06G [00:28<00:05, 183MB/s]#033[A\u001B[0m\n",
      "\u001B[34m#015Downloading (…)l-00002-of-00002.bin:  82%|████████▏ | 4.16G/5.06G [00:28<00:06, 146MB/s]#033[A\u001B[0m\n",
      "\u001B[34m#015Downloading (…)l-00002-of-00002.bin:  83%|████████▎ | 4.18G/5.06G [00:29<00:07, 121MB/s]#033[A\u001B[0m\n",
      "\u001B[34m#015Downloading (…)l-00002-of-00002.bin:  83%|████████▎ | 4.20G/5.06G [00:29<00:06, 127MB/s]#033[A\u001B[0m\n",
      "\u001B[34m#015Downloading (…)l-00002-of-00002.bin:  83%|████████▎ | 4.23G/5.06G [00:29<00:06, 139MB/s]#033[A\u001B[0m\n",
      "\u001B[34m#015Downloading (…)l-00002-of-00002.bin:  84%|████████▍ | 4.25G/5.06G [00:29<00:06, 133MB/s]#033[A\u001B[0m\n",
      "\u001B[34m#015Downloading (…)l-00002-of-00002.bin:  84%|████████▍ | 4.27G/5.06G [00:29<00:07, 110MB/s]#033[A\u001B[0m\n",
      "\u001B[34m#015Downloading (…)l-00002-of-00002.bin:  85%|████████▍ | 4.29G/5.06G [00:30<00:06, 123MB/s]#033[A\u001B[0m\n",
      "\u001B[34m#015Downloading (…)l-00002-of-00002.bin:  85%|████████▌ | 4.31G/5.06G [00:30<00:05, 131MB/s]#033[A\u001B[0m\n",
      "\u001B[34m#015Downloading (…)l-00002-of-00002.bin:  86%|████████▌ | 4.34G/5.06G [00:30<00:04, 154MB/s]#033[A\u001B[0m\n",
      "\u001B[34m#015Downloading (…)l-00002-of-00002.bin:  86%|████████▌ | 4.36G/5.06G [00:30<00:04, 154MB/s]#033[A\u001B[0m\n",
      "\u001B[34m#015Downloading (…)l-00002-of-00002.bin:  87%|████████▋ | 4.38G/5.06G [00:30<00:04, 164MB/s]#033[A\u001B[0m\n",
      "\u001B[34m#015Downloading (…)l-00002-of-00002.bin:  87%|████████▋ | 4.40G/5.06G [00:30<00:04, 156MB/s]#033[A\u001B[0m\n",
      "\u001B[34m#015Downloading (…)l-00002-of-00002.bin:  87%|████████▋ | 4.42G/5.06G [00:30<00:03, 168MB/s]#033[A\u001B[0m\n",
      "\u001B[34m#015Downloading (…)l-00002-of-00002.bin:  88%|████████▊ | 4.45G/5.06G [00:30<00:03, 175MB/s]#033[A\u001B[0m\n",
      "\u001B[34m#015Downloading (…)l-00002-of-00002.bin:  88%|████████▊ | 4.47G/5.06G [00:31<00:03, 153MB/s]#033[A\u001B[0m\n",
      "\u001B[34m#015Downloading (…)l-00002-of-00002.bin:  89%|████████▊ | 4.49G/5.06G [00:31<00:04, 134MB/s]#033[A\u001B[0m\n",
      "\u001B[34m#015Downloading (…)l-00002-of-00002.bin:  89%|████████▉ | 4.51G/5.06G [00:31<00:04, 133MB/s]#033[A\u001B[0m\n",
      "\u001B[34m#015Downloading (…)l-00002-of-00002.bin:  89%|████████▉ | 4.53G/5.06G [00:31<00:03, 134MB/s]#033[A\u001B[0m\n",
      "\u001B[34m#015Downloading (…)l-00002-of-00002.bin:  90%|████████▉ | 4.55G/5.06G [00:31<00:03, 147MB/s]#033[A\u001B[0m\n",
      "\u001B[34m#015Downloading (…)l-00002-of-00002.bin:  90%|█████████ | 4.57G/5.06G [00:31<00:03, 143MB/s]#033[A\u001B[0m\n",
      "\u001B[34m#015Downloading (…)l-00002-of-00002.bin:  91%|█████████ | 4.59G/5.06G [00:32<00:03, 130MB/s]#033[A\u001B[0m\n",
      "\u001B[34m#015Downloading (…)l-00002-of-00002.bin:  91%|█████████ | 4.61G/5.06G [00:32<00:04, 111MB/s]#033[A\u001B[0m\n",
      "\u001B[34m#015Downloading (…)l-00002-of-00002.bin:  92%|█████████▏| 4.63G/5.06G [00:32<00:03, 108MB/s]#033[A\u001B[0m\n",
      "\u001B[34m#015Downloading (…)l-00002-of-00002.bin:  92%|█████████▏| 4.66G/5.06G [00:32<00:03, 113MB/s]#033[A\u001B[0m\n",
      "\u001B[34m#015Downloading (…)l-00002-of-00002.bin:  92%|█████████▏| 4.68G/5.06G [00:32<00:03, 115MB/s]#033[A\u001B[0m\n",
      "\u001B[34m#015Downloading (…)l-00002-of-00002.bin:  93%|█████████▎| 4.70G/5.06G [00:33<00:03, 102MB/s]#033[A\u001B[0m\n",
      "\u001B[34m#015Downloading (…)l-00002-of-00002.bin:  93%|█████████▎| 4.72G/5.06G [00:33<00:03, 115MB/s]#033[A\u001B[0m\n",
      "\u001B[34m#015Downloading (…)l-00002-of-00002.bin:  94%|█████████▎| 4.74G/5.06G [00:33<00:02, 122MB/s]#033[A\u001B[0m\n",
      "\u001B[34m#015Downloading (…)l-00002-of-00002.bin:  94%|█████████▍| 4.76G/5.06G [00:33<00:03, 83.3MB/s]#033[A\u001B[0m\n",
      "\u001B[34m#015Downloading (…)l-00002-of-00002.bin:  94%|█████████▍| 4.78G/5.06G [00:33<00:02, 96.6MB/s]#033[A\u001B[0m\n",
      "\u001B[34m#015Downloading (…)l-00002-of-00002.bin:  95%|█████████▍| 4.80G/5.06G [00:34<00:02, 114MB/s] #033[A\u001B[0m\n",
      "\u001B[34m#015Downloading (…)l-00002-of-00002.bin:  95%|█████████▌| 4.82G/5.06G [00:34<00:02, 114MB/s]#033[A\u001B[0m\n",
      "\u001B[34m#015Downloading (…)l-00002-of-00002.bin:  96%|█████████▌| 4.84G/5.06G [00:34<00:01, 129MB/s]#033[A\u001B[0m\n",
      "\u001B[34m#015Downloading (…)l-00002-of-00002.bin:  96%|█████████▌| 4.87G/5.06G [00:34<00:01, 144MB/s]#033[A\u001B[0m\n",
      "\u001B[34m#015Downloading (…)l-00002-of-00002.bin:  97%|█████████▋| 4.90G/5.06G [00:34<00:00, 178MB/s]#033[A\u001B[0m\n",
      "\u001B[34m#015Downloading (…)l-00002-of-00002.bin:  97%|█████████▋| 4.92G/5.06G [00:34<00:00, 184MB/s]#033[A\u001B[0m\n",
      "\u001B[34m#015Downloading (…)l-00002-of-00002.bin:  98%|█████████▊| 4.94G/5.06G [00:34<00:00, 177MB/s]#033[A\u001B[0m\n",
      "\u001B[34m#015Downloading (…)l-00002-of-00002.bin:  98%|█████████▊| 4.96G/5.06G [00:35<00:00, 152MB/s]#033[A\u001B[0m\n",
      "\u001B[34m#015Downloading (…)l-00002-of-00002.bin:  98%|█████████▊| 4.98G/5.06G [00:35<00:00, 148MB/s]#033[A\u001B[0m\n",
      "\u001B[34m#015Downloading (…)l-00002-of-00002.bin:  99%|█████████▉| 5.01G/5.06G [00:35<00:00, 174MB/s]#033[A\u001B[0m\n",
      "\u001B[34m#015Downloading (…)l-00002-of-00002.bin:  99%|█████████▉| 5.03G/5.06G [00:35<00:00, 171MB/s]#033[A\u001B[0m\n",
      "\u001B[34m#015Downloading (…)l-00002-of-00002.bin: 100%|█████████▉| 5.05G/5.06G [00:35<00:00, 133MB/s]#033[A#015Downloading (…)l-00002-of-00002.bin: 100%|██████████| 5.06G/5.06G [00:35<00:00, 142MB/s]\u001B[0m\n",
      "\u001B[34m#015Downloading shards: 100%|██████████| 2/2 [01:51<00:00, 52.39s/it]#015Downloading shards: 100%|██████████| 2/2 [01:51<00:00, 55.93s/it]\u001B[0m\n",
      "\u001B[34m#015Loading checkpoint shards:   0%|          | 0/2 [00:00<?, ?it/s]#015Loading checkpoint shards:  50%|█████     | 1/2 [00:05<00:05,  5.43s/it]#015Loading checkpoint shards: 100%|██████████| 2/2 [00:08<00:00,  3.77s/it]#015Loading checkpoint shards: 100%|██████████| 2/2 [00:08<00:00,  4.02s/it]\u001B[0m\n",
      "\u001B[34m#015Downloading generation_config.json:   0%|          | 0.00/116 [00:00<?, ?B/s]#015Downloading generation_config.json: 100%|██████████| 116/116 [00:00<00:00, 1.19MB/s]\u001B[0m\n",
      "\u001B[34mFound 7 modules to quantize: ['o_proj', 'v_proj', 'k_proj', 'up_proj', 'gate_proj', 'down_proj', 'q_proj']\u001B[0m\n",
      "\u001B[34mtrainable params: 167772160 || all params: 3919843328 || trainable%: 4.280073103982997\u001B[0m\n",
      "\u001B[34m#015  0%|          | 0/20 [00:00<?, ?it/s]You're using a LlamaTokenizerFast tokenizer. Please note that with a fast tokenizer, using the `__call__` method is faster than using a method to encode the text followed by a call to the `pad` method to get a padded encoding.\u001B[0m\n",
      "\u001B[34m{'loss': 1.6117, 'learning_rate': 0.00018, 'epoch': 1.0}\u001B[0m\n",
      "\u001B[34m{'loss': 1.3997, 'learning_rate': 0.00016, 'epoch': 2.0}\u001B[0m\n",
      "\u001B[34m{'loss': 1.2343, 'learning_rate': 0.00014, 'epoch': 3.0}\u001B[0m\n",
      "\u001B[34m{'loss': 1.0575, 'learning_rate': 0.00012, 'epoch': 4.0}\u001B[0m\n",
      "\u001B[34m{'loss': 0.9048, 'learning_rate': 0.0001, 'epoch': 5.0}\u001B[0m\n",
      "\u001B[34m{'loss': 0.7619, 'learning_rate': 8e-05, 'epoch': 6.0}\u001B[0m\n",
      "\u001B[34m{'loss': 0.6237, 'learning_rate': 6e-05, 'epoch': 7.0}\u001B[0m\n",
      "\u001B[34m{'loss': 0.5141, 'learning_rate': 4e-05, 'epoch': 8.0}\u001B[0m\n",
      "\u001B[34m{'loss': 0.4238, 'learning_rate': 2e-05, 'epoch': 9.0}\u001B[0m\n",
      "\u001B[34m{'loss': 0.366, 'learning_rate': 0.0, 'epoch': 10.0}\u001B[0m\n",
      "\u001B[34m{'train_runtime': 171.8517, 'train_samples_per_second': 0.233, 'train_steps_per_second': 0.116, 'train_loss': 0.8897558897733688, 'epoch': 10.0}\u001B[0m\n",
      "\u001B[34m#015  5%|▌         | 1/20 [00:08<02:50,  8.95s/it]#015 10%|█         | 2/20 [00:17<02:37,  8.72s/it]#015                                              #015#015 10%|█         | 2/20 [00:17<02:37,  8.72s/it]#015 15%|█▌        | 3/20 [00:26<02:27,  8.66s/it]#015 20%|██        | 4/20 [00:34<02:17,  8.62s/it]#015                                              #015#015 20%|██        | 4/20 [00:34<02:17,  8.62s/it]#015 25%|██▌       | 5/20 [00:43<02:09,  8.61s/it]#015 30%|███       | 6/20 [00:51<02:00,  8.59s/it]#015                                              #015#015 30%|███       | 6/20 [00:51<02:00,  8.59s/it]#015 35%|███▌      | 7/20 [01:00<01:51,  8.59s/it]#015 40%|████      | 8/20 [01:08<01:42,  8.58s/it]#015                                              #015#015 40%|████      | 8/20 [01:08<01:42,  8.58s/it]#015 45%|████▌     | 9/20 [01:17<01:34,  8.58s/it]#015 50%|█████     | 10/20 [01:26<01:25,  8.58s/it]#015                                               #015#015 50%|█████     | 10/20 [01:26<01:25,  8.58s/it]#015 55%|█████▌    | 11/20 [01:34<01:17,  8.58s/it]#015 60%|██████    | 12/20 [01:43<01:08,  8.58s/it]#015                                               #015#015 60%|██████    | 12/20 [01:43<01:08,  8.58s/it]#015 65%|██████▌   | 13/20 [01:51<01:00,  8.58s/it]#015 70%|███████   | 14/20 [02:00<00:51,  8.57s/it]#015                                               #015#015 70%|███████   | 14/20 [02:00<00:51,  8.57s/it]#015 75%|███████▌  | 15/20 [02:08<00:42,  8.58s/it]#015 80%|████████  | 16/20 [02:17<00:34,  8.57s/it]#015                                               #015#015 80%|████████  | 16/20 [02:17<00:34,  8.57s/it]#015 85%|████████▌ | 17/20 [02:26<00:25,  8.58s/it]#015 90%|█████████ | 18/20 [02:34<00:17,  8.57s/it]#015                                               #015#015 90%|█████████ | 18/20 [02:34<00:17,  8.57s/it]#015 95%|█████████▌| 19/20 [02:43<00:08,  8.57s/it]#015100%|██████████| 20/20 [02:51<00:00,  8.57s/it]#015                                               #015#015100%|██████████| 20/20 [02:51<00:00,  8.57s/it]#015                                               #015#015100%|██████████| 20/20 [02:51<00:00,  8.57s/it]#015100%|██████████| 20/20 [02:51<00:00,  8.59s/it]\u001B[0m\n",
      "\u001B[34m#015Loading checkpoint shards:   0%|          | 0/2 [00:00<?, ?it/s]#015Loading checkpoint shards:  50%|█████     | 1/2 [00:04<00:04,  4.12s/it]#015Loading checkpoint shards: 100%|██████████| 2/2 [00:06<00:00,  2.98s/it]#015Loading checkpoint shards: 100%|██████████| 2/2 [00:06<00:00,  3.15s/it]\u001B[0m\n",
      "\u001B[34m#015Downloading tokenizer_config.json:   0%|          | 0.00/1.47k [00:00<?, ?B/s]#015Downloading tokenizer_config.json: 100%|██████████| 1.47k/1.47k [00:00<00:00, 12.5MB/s]\u001B[0m\n",
      "\u001B[34m#015Downloading tokenizer.model:   0%|          | 0.00/493k [00:00<?, ?B/s]#015Downloading tokenizer.model: 100%|██████████| 493k/493k [00:00<00:00, 151MB/s]\u001B[0m\n",
      "\u001B[34m#015Downloading tokenizer.json:   0%|          | 0.00/1.80M [00:00<?, ?B/s]#015Downloading tokenizer.json: 100%|██████████| 1.80M/1.80M [00:00<00:00, 23.2MB/s]\u001B[0m\n",
      "\u001B[34m#015Downloading (…)cial_tokens_map.json:   0%|          | 0.00/72.0 [00:00<?, ?B/s]#015Downloading (…)cial_tokens_map.json: 100%|██████████| 72.0/72.0 [00:00<00:00, 956kB/s]\u001B[0m\n",
      "\u001B[34m2023-11-20 17:38:24,341 sagemaker.remote_function INFO     Serializing the function return and uploading to s3://sagemaker-eu-west-1-691148928602/train-fn-2023-11-20-17-25-06-721/results\u001B[0m\n",
      "\n",
      "2023-11-20 17:38:30 Uploading - Uploading generated training model\n",
      "2023-11-20 17:39:21 Completed - Training job completed\n",
      "Training seconds: 770\n",
      "Billable seconds: 770\n"
     ]
    },
    {
     "ename": "DeserializationError",
     "evalue": "Corrupt metadata file. SHA256 hash for the serialized data does not exist. Please make sure to install SageMaker SDK version >= 2.156.0 on the client side and try again.",
     "output_type": "error",
     "traceback": [
      "\u001B[0;31m---------------------------------------------------------------------------\u001B[0m",
      "\u001B[0;31mDeserializationError\u001B[0m                      Traceback (most recent call last)",
      "Cell \u001B[0;32mIn[11], line 1\u001B[0m\n\u001B[0;32m----> 1\u001B[0m \u001B[43mtrain_fn\u001B[49m\u001B[43m(\u001B[49m\n\u001B[1;32m      2\u001B[0m \u001B[43m    \u001B[49m\u001B[43mmodel_id\u001B[49m\u001B[43m,\u001B[49m\n\u001B[1;32m      3\u001B[0m \u001B[43m    \u001B[49m\u001B[43mtrain_dataset\u001B[49m\u001B[43m,\u001B[49m\n\u001B[1;32m      4\u001B[0m \u001B[43m    \u001B[49m\u001B[43mper_device_train_batch_size\u001B[49m\u001B[38;5;241;43m=\u001B[39;49m\u001B[38;5;241;43m2\u001B[39;49m\u001B[43m,\u001B[49m\n\u001B[1;32m      5\u001B[0m \u001B[43m    \u001B[49m\u001B[43mper_device_eval_batch_size\u001B[49m\u001B[38;5;241;43m=\u001B[39;49m\u001B[38;5;241;43m2\u001B[39;49m\u001B[43m,\u001B[49m\n\u001B[1;32m      6\u001B[0m \u001B[43m    \u001B[49m\u001B[43mnum_train_epochs\u001B[49m\u001B[38;5;241;43m=\u001B[39;49m\u001B[38;5;241;43m10\u001B[39;49m\u001B[43m,\u001B[49m\n\u001B[1;32m      7\u001B[0m \u001B[43m    \u001B[49m\u001B[43mchunk_size\u001B[49m\u001B[38;5;241;43m=\u001B[39;49m\u001B[38;5;241;43m2048\u001B[39;49m\u001B[43m,\u001B[49m\n\u001B[1;32m      8\u001B[0m \u001B[43m    \u001B[49m\u001B[43mmerge_weights\u001B[49m\u001B[38;5;241;43m=\u001B[39;49m\u001B[38;5;28;43;01mTrue\u001B[39;49;00m\n\u001B[1;32m      9\u001B[0m \u001B[43m)\u001B[49m\n",
      "File \u001B[0;32m~/miniforge3/envs/pathways/lib/python3.10/site-packages/sagemaker/remote_function/client.py:365\u001B[0m, in \u001B[0;36mremote.<locals>._remote.<locals>.wrapper\u001B[0;34m(*args, **kwargs)\u001B[0m\n\u001B[1;32m    360\u001B[0m     \u001B[38;5;28;01mraise\u001B[39;00m \u001B[38;5;167;01mTimeoutError\u001B[39;00m(\n\u001B[1;32m    361\u001B[0m         \u001B[38;5;124m\"\u001B[39m\u001B[38;5;124mJob for remote function timed out before reaching a termination status.\u001B[39m\u001B[38;5;124m\"\u001B[39m\n\u001B[1;32m    362\u001B[0m     )\n\u001B[1;32m    364\u001B[0m \u001B[38;5;28;01mif\u001B[39;00m job\u001B[38;5;241m.\u001B[39mdescribe()[\u001B[38;5;124m\"\u001B[39m\u001B[38;5;124mTrainingJobStatus\u001B[39m\u001B[38;5;124m\"\u001B[39m] \u001B[38;5;241m==\u001B[39m \u001B[38;5;124m\"\u001B[39m\u001B[38;5;124mCompleted\u001B[39m\u001B[38;5;124m\"\u001B[39m:\n\u001B[0;32m--> 365\u001B[0m     \u001B[38;5;28;01mreturn\u001B[39;00m \u001B[43mserialization\u001B[49m\u001B[38;5;241;43m.\u001B[39;49m\u001B[43mdeserialize_obj_from_s3\u001B[49m\u001B[43m(\u001B[49m\n\u001B[1;32m    366\u001B[0m \u001B[43m        \u001B[49m\u001B[43msagemaker_session\u001B[49m\u001B[38;5;241;43m=\u001B[39;49m\u001B[43mjob_settings\u001B[49m\u001B[38;5;241;43m.\u001B[39;49m\u001B[43msagemaker_session\u001B[49m\u001B[43m,\u001B[49m\n\u001B[1;32m    367\u001B[0m \u001B[43m        \u001B[49m\u001B[43ms3_uri\u001B[49m\u001B[38;5;241;43m=\u001B[39;49m\u001B[43ms3_path_join\u001B[49m\u001B[43m(\u001B[49m\u001B[43mjob_settings\u001B[49m\u001B[38;5;241;43m.\u001B[39;49m\u001B[43ms3_root_uri\u001B[49m\u001B[43m,\u001B[49m\u001B[43m \u001B[49m\u001B[43mjob\u001B[49m\u001B[38;5;241;43m.\u001B[39;49m\u001B[43mjob_name\u001B[49m\u001B[43m,\u001B[49m\u001B[43m \u001B[49m\u001B[43mRESULTS_FOLDER\u001B[49m\u001B[43m)\u001B[49m\u001B[43m,\u001B[49m\n\u001B[1;32m    368\u001B[0m \u001B[43m        \u001B[49m\u001B[43mhmac_key\u001B[49m\u001B[38;5;241;43m=\u001B[39;49m\u001B[43mjob\u001B[49m\u001B[38;5;241;43m.\u001B[39;49m\u001B[43mhmac_key\u001B[49m\u001B[43m,\u001B[49m\n\u001B[1;32m    369\u001B[0m \u001B[43m    \u001B[49m\u001B[43m)\u001B[49m\n\u001B[1;32m    371\u001B[0m \u001B[38;5;28;01mif\u001B[39;00m job\u001B[38;5;241m.\u001B[39mdescribe()[\u001B[38;5;124m\"\u001B[39m\u001B[38;5;124mTrainingJobStatus\u001B[39m\u001B[38;5;124m\"\u001B[39m] \u001B[38;5;241m==\u001B[39m \u001B[38;5;124m\"\u001B[39m\u001B[38;5;124mStopped\u001B[39m\u001B[38;5;124m\"\u001B[39m:\n\u001B[1;32m    372\u001B[0m     \u001B[38;5;28;01mraise\u001B[39;00m RemoteFunctionError(\u001B[38;5;124m\"\u001B[39m\u001B[38;5;124mJob for remote function has been aborted.\u001B[39m\u001B[38;5;124m\"\u001B[39m)\n",
      "File \u001B[0;32m~/miniforge3/envs/pathways/lib/python3.10/site-packages/sagemaker/remote_function/core/serialization.py:234\u001B[0m, in \u001B[0;36mdeserialize_obj_from_s3\u001B[0;34m(sagemaker_session, s3_uri, hmac_key)\u001B[0m\n\u001B[1;32m    220\u001B[0m \u001B[38;5;28;01mdef\u001B[39;00m \u001B[38;5;21mdeserialize_obj_from_s3\u001B[39m(sagemaker_session: Session, s3_uri: \u001B[38;5;28mstr\u001B[39m, hmac_key: \u001B[38;5;28mstr\u001B[39m) \u001B[38;5;241m-\u001B[39m\u001B[38;5;241m>\u001B[39m Any:\n\u001B[1;32m    221\u001B[0m \u001B[38;5;250m    \u001B[39m\u001B[38;5;124;03m\"\"\"Downloads from S3 and then deserializes data objects.\u001B[39;00m\n\u001B[1;32m    222\u001B[0m \n\u001B[1;32m    223\u001B[0m \u001B[38;5;124;03m    Args:\u001B[39;00m\n\u001B[0;32m   (...)\u001B[0m\n\u001B[1;32m    231\u001B[0m \u001B[38;5;124;03m        DeserializationError: when fail to serialize object to bytes.\u001B[39;00m\n\u001B[1;32m    232\u001B[0m \u001B[38;5;124;03m    \"\"\"\u001B[39;00m\n\u001B[0;32m--> 234\u001B[0m     metadata \u001B[38;5;241m=\u001B[39m \u001B[43m_MetaData\u001B[49m\u001B[38;5;241;43m.\u001B[39;49m\u001B[43mfrom_json\u001B[49m\u001B[43m(\u001B[49m\n\u001B[1;32m    235\u001B[0m \u001B[43m        \u001B[49m\u001B[43m_read_bytes_from_s3\u001B[49m\u001B[43m(\u001B[49m\u001B[38;5;124;43mf\u001B[39;49m\u001B[38;5;124;43m\"\u001B[39;49m\u001B[38;5;132;43;01m{\u001B[39;49;00m\u001B[43ms3_uri\u001B[49m\u001B[38;5;132;43;01m}\u001B[39;49;00m\u001B[38;5;124;43m/metadata.json\u001B[39;49m\u001B[38;5;124;43m\"\u001B[39;49m\u001B[43m,\u001B[49m\u001B[43m \u001B[49m\u001B[43msagemaker_session\u001B[49m\u001B[43m)\u001B[49m\n\u001B[1;32m    236\u001B[0m \u001B[43m    \u001B[49m\u001B[43m)\u001B[49m\n\u001B[1;32m    238\u001B[0m     bytes_to_deserialize \u001B[38;5;241m=\u001B[39m _read_bytes_from_s3(\u001B[38;5;124mf\u001B[39m\u001B[38;5;124m\"\u001B[39m\u001B[38;5;132;01m{\u001B[39;00ms3_uri\u001B[38;5;132;01m}\u001B[39;00m\u001B[38;5;124m/payload.pkl\u001B[39m\u001B[38;5;124m\"\u001B[39m, sagemaker_session)\n\u001B[1;32m    240\u001B[0m     _perform_integrity_check(\n\u001B[1;32m    241\u001B[0m         expected_hash_value\u001B[38;5;241m=\u001B[39mmetadata\u001B[38;5;241m.\u001B[39msha256_hash, secret_key\u001B[38;5;241m=\u001B[39mhmac_key, buffer\u001B[38;5;241m=\u001B[39mbytes_to_deserialize\n\u001B[1;32m    242\u001B[0m     )\n",
      "File \u001B[0;32m~/miniforge3/envs/pathways/lib/python3.10/site-packages/sagemaker/remote_function/core/serialization.py:64\u001B[0m, in \u001B[0;36m_MetaData.from_json\u001B[0;34m(s)\u001B[0m\n\u001B[1;32m     61\u001B[0m metadata\u001B[38;5;241m.\u001B[39mserialization_module \u001B[38;5;241m=\u001B[39m obj\u001B[38;5;241m.\u001B[39mget(\u001B[38;5;124m\"\u001B[39m\u001B[38;5;124mserialization_module\u001B[39m\u001B[38;5;124m\"\u001B[39m)\n\u001B[1;32m     63\u001B[0m \u001B[38;5;28;01mif\u001B[39;00m \u001B[38;5;129;01mnot\u001B[39;00m sha256_hash:\n\u001B[0;32m---> 64\u001B[0m     \u001B[38;5;28;01mraise\u001B[39;00m DeserializationError(\n\u001B[1;32m     65\u001B[0m         \u001B[38;5;124m\"\u001B[39m\u001B[38;5;124mCorrupt metadata file. SHA256 hash for the serialized data does not exist. \u001B[39m\u001B[38;5;124m\"\u001B[39m\n\u001B[1;32m     66\u001B[0m         \u001B[38;5;124m\"\u001B[39m\u001B[38;5;124mPlease make sure to install SageMaker SDK version >= 2.156.0 on the client side \u001B[39m\u001B[38;5;124m\"\u001B[39m\n\u001B[1;32m     67\u001B[0m         \u001B[38;5;124m\"\u001B[39m\u001B[38;5;124mand try again.\u001B[39m\u001B[38;5;124m\"\u001B[39m\n\u001B[1;32m     68\u001B[0m     )\n\u001B[1;32m     70\u001B[0m \u001B[38;5;28;01mif\u001B[39;00m \u001B[38;5;129;01mnot\u001B[39;00m (\n\u001B[1;32m     71\u001B[0m     metadata\u001B[38;5;241m.\u001B[39mversion \u001B[38;5;241m==\u001B[39m \u001B[38;5;124m\"\u001B[39m\u001B[38;5;124m2023-04-24\u001B[39m\u001B[38;5;124m\"\u001B[39m \u001B[38;5;129;01mand\u001B[39;00m metadata\u001B[38;5;241m.\u001B[39mserialization_module \u001B[38;5;241m==\u001B[39m \u001B[38;5;124m\"\u001B[39m\u001B[38;5;124mcloudpickle\u001B[39m\u001B[38;5;124m\"\u001B[39m\n\u001B[1;32m     72\u001B[0m ):\n\u001B[1;32m     73\u001B[0m     \u001B[38;5;28;01mraise\u001B[39;00m DeserializationError(\n\u001B[1;32m     74\u001B[0m         \u001B[38;5;124mf\u001B[39m\u001B[38;5;124m\"\u001B[39m\u001B[38;5;124mCorrupt metadata file. Serialization approach \u001B[39m\u001B[38;5;132;01m{\u001B[39;00ms\u001B[38;5;132;01m}\u001B[39;00m\u001B[38;5;124m is not supported.\u001B[39m\u001B[38;5;124m\"\u001B[39m\n\u001B[1;32m     75\u001B[0m     )\n",
      "\u001B[0;31mDeserializationError\u001B[0m: Corrupt metadata file. SHA256 hash for the serialized data does not exist. Please make sure to install SageMaker SDK version >= 2.156.0 on the client side and try again."
     ]
    }
   ],
   "source": [
    "train_fn(\n",
    "    model_id,\n",
    "    train_dataset,\n",
    "    per_device_train_batch_size=2,\n",
    "    per_device_eval_batch_size=2,\n",
    "    num_train_epochs=10,\n",
    "    chunk_size=2048,\n",
    "    merge_weights=True\n",
    ")"
   ]
  },
  {
   "cell_type": "markdown",
   "metadata": {
    "tags": []
   },
   "source": [
    "## Deploy Fine-Tuned model\n",
    "\n",
    "Note: Run `train_fn` with `merge_weights=True`"
   ]
  },
  {
   "cell_type": "code",
   "execution_count": 12,
   "outputs": [],
   "source": [
    "import json\n",
    "from sagemaker.huggingface import HuggingFaceModel, get_huggingface_llm_image_uri"
   ],
   "metadata": {
    "collapsed": false,
    "ExecuteTime": {
     "start_time": "2023-11-20T18:41:08.503555Z",
     "end_time": "2023-11-20T18:41:08.515277Z"
    }
   }
  },
  {
   "cell_type": "code",
   "execution_count": 13,
   "metadata": {
    "ExecuteTime": {
     "start_time": "2023-11-20T18:41:09.021475Z",
     "end_time": "2023-11-20T18:41:09.025472Z"
    },
    "collapsed": false,
    "jupyter": {
     "outputs_hidden": false
    },
    "tags": []
   },
   "outputs": [],
   "source": [
    "bucket_name = \"<S3_BUCKET>\"\n",
    "job_name = \"<JOB_NAME>\""
   ]
  },
  {
   "cell_type": "markdown",
   "source": [
    "### Inference configurations"
   ],
   "metadata": {
    "collapsed": false
   }
  },
  {
   "cell_type": "code",
   "execution_count": 14,
   "outputs": [],
   "source": [
    "instance_count = 1\n",
    "instance_type = \"ml.g5.12xlarge\"\n",
    "number_of_gpu = 4\n",
    "health_check_timeout = 300"
   ],
   "metadata": {
    "collapsed": false,
    "ExecuteTime": {
     "start_time": "2023-11-20T18:41:10.488495Z",
     "end_time": "2023-11-20T18:41:10.492877Z"
    }
   }
  },
  {
   "cell_type": "code",
   "execution_count": 15,
   "metadata": {
    "ExecuteTime": {
     "start_time": "2023-11-20T18:41:10.787936Z",
     "end_time": "2023-11-20T18:41:11.162811Z"
    },
    "collapsed": false,
    "jupyter": {
     "outputs_hidden": false
    },
    "tags": []
   },
   "outputs": [
    {
     "name": "stderr",
     "output_type": "stream",
     "text": [
      "INFO:botocore.credentials:Found credentials in shared credentials file: ~/.aws/credentials\n"
     ]
    },
    {
     "name": "stdout",
     "output_type": "stream",
     "text": [
      "sagemaker.config INFO - Not applying SDK defaults from location: /Library/Application Support/sagemaker/config.yaml\n",
      "sagemaker.config INFO - Fetched defaults config from location: /Users/bpistone/development/amazon/amazon-sagemaker-remote-decorator-generative-ai\n"
     ]
    },
    {
     "name": "stderr",
     "output_type": "stream",
     "text": [
      "INFO:sagemaker.image_uris:Defaulting to only available Python version: py39\n",
      "INFO:sagemaker.image_uris:Defaulting to only supported image scope: gpu.\n"
     ]
    },
    {
     "data": {
      "text/plain": "'763104351884.dkr.ecr.eu-west-1.amazonaws.com/huggingface-pytorch-tgi-inference:2.0.1-tgi1.1.0-gpu-py39-cu118-ubuntu20.04'"
     },
     "execution_count": 15,
     "metadata": {},
     "output_type": "execute_result"
    }
   ],
   "source": [
    "image_uri = get_huggingface_llm_image_uri(\n",
    "    \"huggingface\",\n",
    "    version=\"1.1.0\"\n",
    ")\n",
    "\n",
    "image_uri"
   ]
  },
  {
   "cell_type": "code",
   "execution_count": 16,
   "metadata": {
    "ExecuteTime": {
     "start_time": "2023-11-20T18:41:11.963091Z",
     "end_time": "2023-11-20T18:41:12.433399Z"
    },
    "collapsed": false,
    "jupyter": {
     "outputs_hidden": false
    },
    "tags": []
   },
   "outputs": [
    {
     "name": "stdout",
     "output_type": "stream",
     "text": [
      "sagemaker.config INFO - Not applying SDK defaults from location: /Library/Application Support/sagemaker/config.yaml\n",
      "sagemaker.config INFO - Fetched defaults config from location: /Users/bpistone/development/amazon/amazon-sagemaker-remote-decorator-generative-ai\n",
      "sagemaker.config INFO - Applied value from config key = SageMaker.Model.ExecutionRoleArn\n",
      "sagemaker.config INFO - Applied value from config key = SageMaker.Model.EnableNetworkIsolation\n"
     ]
    },
    {
     "name": "stderr",
     "output_type": "stream",
     "text": [
      "INFO:botocore.credentials:Found credentials in shared credentials file: ~/.aws/credentials\n"
     ]
    },
    {
     "name": "stdout",
     "output_type": "stream",
     "text": [
      "sagemaker.config INFO - Not applying SDK defaults from location: /Library/Application Support/sagemaker/config.yaml\n",
      "sagemaker.config INFO - Fetched defaults config from location: /Users/bpistone/development/amazon/amazon-sagemaker-remote-decorator-generative-ai\n"
     ]
    }
   ],
   "source": [
    "model = HuggingFaceModel(\n",
    "    image_uri=image_uri,\n",
    "    model_data=f\"s3://{bucket_name}/{job_name}/{job_name}/output/model.tar.gz\",\n",
    "    env={\n",
    "        'HF_MODEL_ID': \"/opt/ml/model\", # path to where sagemaker stores the model\n",
    "        'SM_NUM_GPUS': json.dumps(number_of_gpu), # Number of GPU used per replica\n",
    "    }\n",
    ")"
   ]
  },
  {
   "cell_type": "code",
   "execution_count": 17,
   "metadata": {
    "ExecuteTime": {
     "start_time": "2023-11-20T18:41:14.621743Z",
     "end_time": "2023-11-20T18:45:49.265298Z"
    },
    "collapsed": false,
    "jupyter": {
     "outputs_hidden": false
    },
    "tags": []
   },
   "outputs": [
    {
     "name": "stderr",
     "output_type": "stream",
     "text": [
      "INFO:sagemaker:Creating model with name: huggingface-pytorch-tgi-inference-2023-11-20-17-41-15-747\n",
      "INFO:sagemaker:Creating endpoint-config with name huggingface-pytorch-tgi-inference-2023-11-20-17-41-17-136\n",
      "INFO:sagemaker:Creating endpoint with name huggingface-pytorch-tgi-inference-2023-11-20-17-41-17-136\n"
     ]
    },
    {
     "name": "stdout",
     "output_type": "stream",
     "text": [
      "--------!"
     ]
    }
   ],
   "source": [
    "predictor = model.deploy(\n",
    "    initial_instance_count=instance_count,\n",
    "    instance_type=instance_type,\n",
    "    container_startup_health_check_timeout=health_check_timeout,\n",
    ")"
   ]
  },
  {
   "cell_type": "markdown",
   "source": [
    "### Predict"
   ],
   "metadata": {
    "collapsed": false
   }
  },
  {
   "cell_type": "code",
   "execution_count": 18,
   "outputs": [],
   "source": [
    "prompt = f\"\"\"\n",
    "<s>[INST]\n",
    "{{question}} \n",
    "[/INST]\n",
    "\"\"\""
   ],
   "metadata": {
    "collapsed": false,
    "ExecuteTime": {
     "start_time": "2023-11-20T18:48:12.471432Z",
     "end_time": "2023-11-20T18:48:12.482198Z"
    }
   }
  },
  {
   "cell_type": "code",
   "execution_count": 21,
   "metadata": {
    "ExecuteTime": {
     "start_time": "2023-11-20T18:48:44.127852Z",
     "end_time": "2023-11-20T18:48:49.471611Z"
    },
    "collapsed": false,
    "jupyter": {
     "outputs_hidden": false
    },
    "tags": []
   },
   "outputs": [
    {
     "data": {
      "text/plain": "[{'generated_text': 'Amazon Bedrock provides a variety of foundation models that are based on state-of-the-art language models from leading AI companies and research institutions. Here is a list of the foundation models currently available in Amazon Bedrock:\\n\\n1. Amazon Bedrock Command: This model is designed to help you build applications that can understand and respond to user requests by breaking down complex tasks into a series of steps and carrying out the necessary actions.\\n2. Amazon Bedrock Dialog: This model is designed to help you build conversational experiences for your applications by understanding user inputs and generating appropriate responses.\\n3. Amazon Bedrock Titan: This model is a large language model that is capable of a wide range of NLP tasks such as question answering, text generation, text classification, and more.\\n4. Amazon Bedrock Llama 2: This model is a large language model that is capable of a wide range of NLP tasks such as question answering, text generation, text classification, and more.\\n5. Amazon Bedrock Stable Diffusion: This model is a text-to-image generation model that can generate high-quality images based on text descriptions.\\n6. Amazon Bedrock Jurassic: This model is a large language model that is capable of a wide range of NLP tasks such as question answering, text generation, text classification, and more. It is trained on a diverse set of data sources and is designed to be fine-tunable.\\n\\nYou can learn more about these models and how to use them in the Amazon Bedrock documentation.'}]"
     },
     "execution_count": 21,
     "metadata": {},
     "output_type": "execute_result"
    }
   ],
   "source": [
    "predictor.predict({\n",
    "\t\"inputs\": prompt.format(question=\"Which are the Foundation Models available in Amazon Bedrock?\"),\n",
    "    \"parameters\": {\n",
    "        \"max_new_tokens\": 2048 - len(prompt),\n",
    "        \"temperature\": 0.2,\n",
    "        \"top_p\": 0.9\n",
    "    }\n",
    "})"
   ]
  },
  {
   "cell_type": "markdown",
   "source": [
    "#### Delete Endpoint"
   ],
   "metadata": {
    "collapsed": false
   }
  },
  {
   "cell_type": "code",
   "execution_count": 22,
   "metadata": {
    "collapsed": false,
    "jupyter": {
     "outputs_hidden": false
    },
    "tags": [],
    "ExecuteTime": {
     "start_time": "2023-11-20T18:48:54.165351Z",
     "end_time": "2023-11-20T18:48:55.153276Z"
    }
   },
   "outputs": [
    {
     "name": "stderr",
     "output_type": "stream",
     "text": [
      "INFO:sagemaker:Deleting model with name: huggingface-pytorch-tgi-inference-2023-11-20-17-41-15-747\n",
      "INFO:sagemaker:Deleting endpoint configuration with name: huggingface-pytorch-tgi-inference-2023-11-20-17-41-17-136\n",
      "INFO:sagemaker:Deleting endpoint with name: huggingface-pytorch-tgi-inference-2023-11-20-17-41-17-136\n"
     ]
    }
   ],
   "source": [
    "predictor.delete_model()\n",
    "predictor.delete_endpoint(delete_endpoint_config=True)"
   ]
  }
 ],
 "metadata": {
  "availableInstances": [
   {
    "_defaultOrder": 0,
    "_isFastLaunch": true,
    "category": "General purpose",
    "gpuNum": 0,
    "hideHardwareSpecs": false,
    "memoryGiB": 4,
    "name": "ml.t3.medium",
    "vcpuNum": 2
   },
   {
    "_defaultOrder": 1,
    "_isFastLaunch": false,
    "category": "General purpose",
    "gpuNum": 0,
    "hideHardwareSpecs": false,
    "memoryGiB": 8,
    "name": "ml.t3.large",
    "vcpuNum": 2
   },
   {
    "_defaultOrder": 2,
    "_isFastLaunch": false,
    "category": "General purpose",
    "gpuNum": 0,
    "hideHardwareSpecs": false,
    "memoryGiB": 16,
    "name": "ml.t3.xlarge",
    "vcpuNum": 4
   },
   {
    "_defaultOrder": 3,
    "_isFastLaunch": false,
    "category": "General purpose",
    "gpuNum": 0,
    "hideHardwareSpecs": false,
    "memoryGiB": 32,
    "name": "ml.t3.2xlarge",
    "vcpuNum": 8
   },
   {
    "_defaultOrder": 4,
    "_isFastLaunch": true,
    "category": "General purpose",
    "gpuNum": 0,
    "hideHardwareSpecs": false,
    "memoryGiB": 8,
    "name": "ml.m5.large",
    "vcpuNum": 2
   },
   {
    "_defaultOrder": 5,
    "_isFastLaunch": false,
    "category": "General purpose",
    "gpuNum": 0,
    "hideHardwareSpecs": false,
    "memoryGiB": 16,
    "name": "ml.m5.xlarge",
    "vcpuNum": 4
   },
   {
    "_defaultOrder": 6,
    "_isFastLaunch": false,
    "category": "General purpose",
    "gpuNum": 0,
    "hideHardwareSpecs": false,
    "memoryGiB": 32,
    "name": "ml.m5.2xlarge",
    "vcpuNum": 8
   },
   {
    "_defaultOrder": 7,
    "_isFastLaunch": false,
    "category": "General purpose",
    "gpuNum": 0,
    "hideHardwareSpecs": false,
    "memoryGiB": 64,
    "name": "ml.m5.4xlarge",
    "vcpuNum": 16
   },
   {
    "_defaultOrder": 8,
    "_isFastLaunch": false,
    "category": "General purpose",
    "gpuNum": 0,
    "hideHardwareSpecs": false,
    "memoryGiB": 128,
    "name": "ml.m5.8xlarge",
    "vcpuNum": 32
   },
   {
    "_defaultOrder": 9,
    "_isFastLaunch": false,
    "category": "General purpose",
    "gpuNum": 0,
    "hideHardwareSpecs": false,
    "memoryGiB": 192,
    "name": "ml.m5.12xlarge",
    "vcpuNum": 48
   },
   {
    "_defaultOrder": 10,
    "_isFastLaunch": false,
    "category": "General purpose",
    "gpuNum": 0,
    "hideHardwareSpecs": false,
    "memoryGiB": 256,
    "name": "ml.m5.16xlarge",
    "vcpuNum": 64
   },
   {
    "_defaultOrder": 11,
    "_isFastLaunch": false,
    "category": "General purpose",
    "gpuNum": 0,
    "hideHardwareSpecs": false,
    "memoryGiB": 384,
    "name": "ml.m5.24xlarge",
    "vcpuNum": 96
   },
   {
    "_defaultOrder": 12,
    "_isFastLaunch": false,
    "category": "General purpose",
    "gpuNum": 0,
    "hideHardwareSpecs": false,
    "memoryGiB": 8,
    "name": "ml.m5d.large",
    "vcpuNum": 2
   },
   {
    "_defaultOrder": 13,
    "_isFastLaunch": false,
    "category": "General purpose",
    "gpuNum": 0,
    "hideHardwareSpecs": false,
    "memoryGiB": 16,
    "name": "ml.m5d.xlarge",
    "vcpuNum": 4
   },
   {
    "_defaultOrder": 14,
    "_isFastLaunch": false,
    "category": "General purpose",
    "gpuNum": 0,
    "hideHardwareSpecs": false,
    "memoryGiB": 32,
    "name": "ml.m5d.2xlarge",
    "vcpuNum": 8
   },
   {
    "_defaultOrder": 15,
    "_isFastLaunch": false,
    "category": "General purpose",
    "gpuNum": 0,
    "hideHardwareSpecs": false,
    "memoryGiB": 64,
    "name": "ml.m5d.4xlarge",
    "vcpuNum": 16
   },
   {
    "_defaultOrder": 16,
    "_isFastLaunch": false,
    "category": "General purpose",
    "gpuNum": 0,
    "hideHardwareSpecs": false,
    "memoryGiB": 128,
    "name": "ml.m5d.8xlarge",
    "vcpuNum": 32
   },
   {
    "_defaultOrder": 17,
    "_isFastLaunch": false,
    "category": "General purpose",
    "gpuNum": 0,
    "hideHardwareSpecs": false,
    "memoryGiB": 192,
    "name": "ml.m5d.12xlarge",
    "vcpuNum": 48
   },
   {
    "_defaultOrder": 18,
    "_isFastLaunch": false,
    "category": "General purpose",
    "gpuNum": 0,
    "hideHardwareSpecs": false,
    "memoryGiB": 256,
    "name": "ml.m5d.16xlarge",
    "vcpuNum": 64
   },
   {
    "_defaultOrder": 19,
    "_isFastLaunch": false,
    "category": "General purpose",
    "gpuNum": 0,
    "hideHardwareSpecs": false,
    "memoryGiB": 384,
    "name": "ml.m5d.24xlarge",
    "vcpuNum": 96
   },
   {
    "_defaultOrder": 20,
    "_isFastLaunch": false,
    "category": "General purpose",
    "gpuNum": 0,
    "hideHardwareSpecs": true,
    "memoryGiB": 0,
    "name": "ml.geospatial.interactive",
    "supportedImageNames": [
     "sagemaker-geospatial-v1-0"
    ],
    "vcpuNum": 0
   },
   {
    "_defaultOrder": 21,
    "_isFastLaunch": true,
    "category": "Compute optimized",
    "gpuNum": 0,
    "hideHardwareSpecs": false,
    "memoryGiB": 4,
    "name": "ml.c5.large",
    "vcpuNum": 2
   },
   {
    "_defaultOrder": 22,
    "_isFastLaunch": false,
    "category": "Compute optimized",
    "gpuNum": 0,
    "hideHardwareSpecs": false,
    "memoryGiB": 8,
    "name": "ml.c5.xlarge",
    "vcpuNum": 4
   },
   {
    "_defaultOrder": 23,
    "_isFastLaunch": false,
    "category": "Compute optimized",
    "gpuNum": 0,
    "hideHardwareSpecs": false,
    "memoryGiB": 16,
    "name": "ml.c5.2xlarge",
    "vcpuNum": 8
   },
   {
    "_defaultOrder": 24,
    "_isFastLaunch": false,
    "category": "Compute optimized",
    "gpuNum": 0,
    "hideHardwareSpecs": false,
    "memoryGiB": 32,
    "name": "ml.c5.4xlarge",
    "vcpuNum": 16
   },
   {
    "_defaultOrder": 25,
    "_isFastLaunch": false,
    "category": "Compute optimized",
    "gpuNum": 0,
    "hideHardwareSpecs": false,
    "memoryGiB": 72,
    "name": "ml.c5.9xlarge",
    "vcpuNum": 36
   },
   {
    "_defaultOrder": 26,
    "_isFastLaunch": false,
    "category": "Compute optimized",
    "gpuNum": 0,
    "hideHardwareSpecs": false,
    "memoryGiB": 96,
    "name": "ml.c5.12xlarge",
    "vcpuNum": 48
   },
   {
    "_defaultOrder": 27,
    "_isFastLaunch": false,
    "category": "Compute optimized",
    "gpuNum": 0,
    "hideHardwareSpecs": false,
    "memoryGiB": 144,
    "name": "ml.c5.18xlarge",
    "vcpuNum": 72
   },
   {
    "_defaultOrder": 28,
    "_isFastLaunch": false,
    "category": "Compute optimized",
    "gpuNum": 0,
    "hideHardwareSpecs": false,
    "memoryGiB": 192,
    "name": "ml.c5.24xlarge",
    "vcpuNum": 96
   },
   {
    "_defaultOrder": 29,
    "_isFastLaunch": true,
    "category": "Accelerated computing",
    "gpuNum": 1,
    "hideHardwareSpecs": false,
    "memoryGiB": 16,
    "name": "ml.g4dn.xlarge",
    "vcpuNum": 4
   },
   {
    "_defaultOrder": 30,
    "_isFastLaunch": false,
    "category": "Accelerated computing",
    "gpuNum": 1,
    "hideHardwareSpecs": false,
    "memoryGiB": 32,
    "name": "ml.g4dn.2xlarge",
    "vcpuNum": 8
   },
   {
    "_defaultOrder": 31,
    "_isFastLaunch": false,
    "category": "Accelerated computing",
    "gpuNum": 1,
    "hideHardwareSpecs": false,
    "memoryGiB": 64,
    "name": "ml.g4dn.4xlarge",
    "vcpuNum": 16
   },
   {
    "_defaultOrder": 32,
    "_isFastLaunch": false,
    "category": "Accelerated computing",
    "gpuNum": 1,
    "hideHardwareSpecs": false,
    "memoryGiB": 128,
    "name": "ml.g4dn.8xlarge",
    "vcpuNum": 32
   },
   {
    "_defaultOrder": 33,
    "_isFastLaunch": false,
    "category": "Accelerated computing",
    "gpuNum": 4,
    "hideHardwareSpecs": false,
    "memoryGiB": 192,
    "name": "ml.g4dn.12xlarge",
    "vcpuNum": 48
   },
   {
    "_defaultOrder": 34,
    "_isFastLaunch": false,
    "category": "Accelerated computing",
    "gpuNum": 1,
    "hideHardwareSpecs": false,
    "memoryGiB": 256,
    "name": "ml.g4dn.16xlarge",
    "vcpuNum": 64
   },
   {
    "_defaultOrder": 35,
    "_isFastLaunch": false,
    "category": "Accelerated computing",
    "gpuNum": 1,
    "hideHardwareSpecs": false,
    "memoryGiB": 61,
    "name": "ml.p3.2xlarge",
    "vcpuNum": 8
   },
   {
    "_defaultOrder": 36,
    "_isFastLaunch": false,
    "category": "Accelerated computing",
    "gpuNum": 4,
    "hideHardwareSpecs": false,
    "memoryGiB": 244,
    "name": "ml.p3.8xlarge",
    "vcpuNum": 32
   },
   {
    "_defaultOrder": 37,
    "_isFastLaunch": false,
    "category": "Accelerated computing",
    "gpuNum": 8,
    "hideHardwareSpecs": false,
    "memoryGiB": 488,
    "name": "ml.p3.16xlarge",
    "vcpuNum": 64
   },
   {
    "_defaultOrder": 38,
    "_isFastLaunch": false,
    "category": "Accelerated computing",
    "gpuNum": 8,
    "hideHardwareSpecs": false,
    "memoryGiB": 768,
    "name": "ml.p3dn.24xlarge",
    "vcpuNum": 96
   },
   {
    "_defaultOrder": 39,
    "_isFastLaunch": false,
    "category": "Memory Optimized",
    "gpuNum": 0,
    "hideHardwareSpecs": false,
    "memoryGiB": 16,
    "name": "ml.r5.large",
    "vcpuNum": 2
   },
   {
    "_defaultOrder": 40,
    "_isFastLaunch": false,
    "category": "Memory Optimized",
    "gpuNum": 0,
    "hideHardwareSpecs": false,
    "memoryGiB": 32,
    "name": "ml.r5.xlarge",
    "vcpuNum": 4
   },
   {
    "_defaultOrder": 41,
    "_isFastLaunch": false,
    "category": "Memory Optimized",
    "gpuNum": 0,
    "hideHardwareSpecs": false,
    "memoryGiB": 64,
    "name": "ml.r5.2xlarge",
    "vcpuNum": 8
   },
   {
    "_defaultOrder": 42,
    "_isFastLaunch": false,
    "category": "Memory Optimized",
    "gpuNum": 0,
    "hideHardwareSpecs": false,
    "memoryGiB": 128,
    "name": "ml.r5.4xlarge",
    "vcpuNum": 16
   },
   {
    "_defaultOrder": 43,
    "_isFastLaunch": false,
    "category": "Memory Optimized",
    "gpuNum": 0,
    "hideHardwareSpecs": false,
    "memoryGiB": 256,
    "name": "ml.r5.8xlarge",
    "vcpuNum": 32
   },
   {
    "_defaultOrder": 44,
    "_isFastLaunch": false,
    "category": "Memory Optimized",
    "gpuNum": 0,
    "hideHardwareSpecs": false,
    "memoryGiB": 384,
    "name": "ml.r5.12xlarge",
    "vcpuNum": 48
   },
   {
    "_defaultOrder": 45,
    "_isFastLaunch": false,
    "category": "Memory Optimized",
    "gpuNum": 0,
    "hideHardwareSpecs": false,
    "memoryGiB": 512,
    "name": "ml.r5.16xlarge",
    "vcpuNum": 64
   },
   {
    "_defaultOrder": 46,
    "_isFastLaunch": false,
    "category": "Memory Optimized",
    "gpuNum": 0,
    "hideHardwareSpecs": false,
    "memoryGiB": 768,
    "name": "ml.r5.24xlarge",
    "vcpuNum": 96
   },
   {
    "_defaultOrder": 47,
    "_isFastLaunch": false,
    "category": "Accelerated computing",
    "gpuNum": 1,
    "hideHardwareSpecs": false,
    "memoryGiB": 16,
    "name": "ml.g5.xlarge",
    "vcpuNum": 4
   },
   {
    "_defaultOrder": 48,
    "_isFastLaunch": false,
    "category": "Accelerated computing",
    "gpuNum": 1,
    "hideHardwareSpecs": false,
    "memoryGiB": 32,
    "name": "ml.g5.2xlarge",
    "vcpuNum": 8
   },
   {
    "_defaultOrder": 49,
    "_isFastLaunch": false,
    "category": "Accelerated computing",
    "gpuNum": 1,
    "hideHardwareSpecs": false,
    "memoryGiB": 64,
    "name": "ml.g5.4xlarge",
    "vcpuNum": 16
   },
   {
    "_defaultOrder": 50,
    "_isFastLaunch": false,
    "category": "Accelerated computing",
    "gpuNum": 1,
    "hideHardwareSpecs": false,
    "memoryGiB": 128,
    "name": "ml.g5.8xlarge",
    "vcpuNum": 32
   },
   {
    "_defaultOrder": 51,
    "_isFastLaunch": false,
    "category": "Accelerated computing",
    "gpuNum": 1,
    "hideHardwareSpecs": false,
    "memoryGiB": 256,
    "name": "ml.g5.16xlarge",
    "vcpuNum": 64
   },
   {
    "_defaultOrder": 52,
    "_isFastLaunch": false,
    "category": "Accelerated computing",
    "gpuNum": 4,
    "hideHardwareSpecs": false,
    "memoryGiB": 192,
    "name": "ml.g5.12xlarge",
    "vcpuNum": 48
   },
   {
    "_defaultOrder": 53,
    "_isFastLaunch": false,
    "category": "Accelerated computing",
    "gpuNum": 4,
    "hideHardwareSpecs": false,
    "memoryGiB": 384,
    "name": "ml.g5.24xlarge",
    "vcpuNum": 96
   },
   {
    "_defaultOrder": 54,
    "_isFastLaunch": false,
    "category": "Accelerated computing",
    "gpuNum": 8,
    "hideHardwareSpecs": false,
    "memoryGiB": 768,
    "name": "ml.g5.48xlarge",
    "vcpuNum": 192
   },
   {
    "_defaultOrder": 55,
    "_isFastLaunch": false,
    "category": "Accelerated computing",
    "gpuNum": 8,
    "hideHardwareSpecs": false,
    "memoryGiB": 1152,
    "name": "ml.p4d.24xlarge",
    "vcpuNum": 96
   },
   {
    "_defaultOrder": 56,
    "_isFastLaunch": false,
    "category": "Accelerated computing",
    "gpuNum": 8,
    "hideHardwareSpecs": false,
    "memoryGiB": 1152,
    "name": "ml.p4de.24xlarge",
    "vcpuNum": 96
   }
  ],
  "instance_type": "ml.g5.12xlarge",
  "kernelspec": {
   "name": "python3",
   "language": "python",
   "display_name": "Python 3 (ipykernel)"
  },
  "language_info": {
   "codemirror_mode": {
    "name": "ipython",
    "version": 3
   },
   "file_extension": ".py",
   "mimetype": "text/x-python",
   "name": "python",
   "nbconvert_exporter": "python",
   "pygments_lexer": "ipython3",
   "version": "3.10.6"
  }
 },
 "nbformat": 4,
 "nbformat_minor": 4
}
