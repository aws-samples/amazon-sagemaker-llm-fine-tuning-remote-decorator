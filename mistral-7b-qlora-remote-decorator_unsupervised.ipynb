{
 "cells": [
  {
   "cell_type": "markdown",
   "metadata": {},
   "source": [
    "# Fine-tune Mistral-7B with QLoRA and SageMaker remote decorator\n",
    "\n",
    "## Unsupervised fine-tuning"
   ]
  },
  {
   "cell_type": "markdown",
   "metadata": {},
   "source": [
    "---\n",
    "\n",
    "In this demo notebook, we demonstrate how to fine-tune the Mistral-7B model using QLoRA, Hugging Face PEFT, and bitsandbytes.\n",
    "\n",
    "We are using SageMaker remote decorator for runinng the fine-tuning job on Amazon SageMaker Training job\n",
    "---\n",
    "SageMaker Studio Kernel: PyTorch 2.0.0 Python 3.10\n",
    "\n",
    "Instance Type: ml.g5.8xlarge"
   ]
  },
  {
   "cell_type": "markdown",
   "metadata": {},
   "source": [
    "Install the required libriaries, including the Hugging Face libraries, and restart the kernel."
   ]
  },
  {
   "cell_type": "code",
   "execution_count": null,
   "metadata": {
    "ExecuteTime": {
     "start_time": "2023-11-14T16:14:54.827383Z",
     "end_time": "2023-11-14T16:15:24.433671Z"
    },
    "collapsed": false,
    "jupyter": {
     "outputs_hidden": false
    },
    "tags": []
   },
   "outputs": [],
   "source": [
    "%pip install -r requirements.txt"
   ]
  },
  {
   "cell_type": "code",
   "execution_count": null,
   "metadata": {
    "ExecuteTime": {
     "start_time": "2023-11-14T22:41:07.082731Z",
     "end_time": "2023-11-14T22:41:26.926725Z"
    },
    "collapsed": false,
    "jupyter": {
     "outputs_hidden": false
    },
    "tags": []
   },
   "outputs": [],
   "source": [
    "%pip install -q -U transformers==4.35.1\n",
    "%pip install -q -U datasets==2.13.1\n",
    "%pip install -q -U peft==0.6.2\n",
    "%pip install -q -U accelerate==0.24.1\n",
    "%pip install -q -U bitsandbytes==0.41.2.post2\n",
    "%pip install -q -U boto3\n",
    "%pip install -q -U langchain==0.0.283\n",
    "%pip install -q -U sagemaker==2.154.0\n",
    "%pip install -q -U scikit-learn"
   ]
  },
  {
   "cell_type": "markdown",
   "metadata": {},
   "source": [
    "\n",
    "## Setup Configuration file path\n",
    "\n",
    "We are setting the directory in which the config.yaml file resides so that remote decorator can make use of the settings.\n"
   ]
  },
  {
   "cell_type": "code",
   "execution_count": 1,
   "outputs": [],
   "source": [
    "import os\n",
    "\n",
    "os.environ[\"AWS_PROFILE\"] = \"bpistone-mlops-dev\""
   ],
   "metadata": {
    "collapsed": false,
    "ExecuteTime": {
     "start_time": "2023-11-15T10:18:19.811499Z",
     "end_time": "2023-11-15T10:18:19.821793Z"
    }
   }
  },
  {
   "cell_type": "code",
   "execution_count": 2,
   "metadata": {
    "ExecuteTime": {
     "start_time": "2023-11-15T10:18:19.970483Z",
     "end_time": "2023-11-15T10:18:19.977227Z"
    },
    "collapsed": false,
    "jupyter": {
     "outputs_hidden": false
    },
    "tags": []
   },
   "outputs": [],
   "source": [
    "import os\n",
    "\n",
    "# Set path to config file\n",
    "os.environ[\"SAGEMAKER_USER_CONFIG_OVERRIDE\"] = os.getcwd()"
   ]
  },
  {
   "cell_type": "markdown",
   "metadata": {},
   "source": [
    "## Visualize and upload the dataset\n",
    "\n",
    "Read train dataset in a Pandas dataframe"
   ]
  },
  {
   "cell_type": "code",
   "execution_count": 3,
   "metadata": {
    "ExecuteTime": {
     "start_time": "2023-11-15T10:18:20.702934Z",
     "end_time": "2023-11-15T10:18:23.785179Z"
    },
    "collapsed": false,
    "jupyter": {
     "outputs_hidden": false
    },
    "tags": []
   },
   "outputs": [],
   "source": [
    "from langchain.document_loaders import WebBaseLoader\n",
    "\n",
    "loader = WebBaseLoader([\n",
    "    \"https://aws.amazon.com/bedrock/\",\n",
    "    \"https://docs.aws.amazon.com/bedrock/latest/userguide/what-is-bedrock.html\",\n",
    "    \"https://aws.amazon.com/blogs/aws/preview-enable-foundation-models-to-complete-tasks-with-agents-for-amazon-bedrock/\",\n",
    "    \"https://docs.aws.amazon.com/bedrock/latest/userguide/agents.html\",\n",
    "    \"https://docs.aws.amazon.com/bedrock/latest/userguide/knowledge-base.html\",\n",
    "\n",
    "])\n",
    "\n",
    "data = loader.load()"
   ]
  },
  {
   "cell_type": "code",
   "execution_count": 4,
   "metadata": {
    "ExecuteTime": {
     "start_time": "2023-11-15T10:18:23.786298Z",
     "end_time": "2023-11-15T10:18:24.205053Z"
    },
    "collapsed": false,
    "jupyter": {
     "outputs_hidden": false
    }
   },
   "outputs": [
    {
     "data": {
      "text/plain": "Dataset({\n    features: ['text'],\n    num_rows: 5\n})"
     },
     "execution_count": 4,
     "metadata": {},
     "output_type": "execute_result"
    }
   ],
   "source": [
    "from datasets import Dataset\n",
    "\n",
    "def strip_spaces(doc):\n",
    "    return {\"text\": doc.page_content.replace(\"  \", \"\")}\n",
    "\n",
    "stripped_data = list(map(strip_spaces, data))\n",
    "\n",
    "train_dataset = Dataset.from_list(stripped_data)\n",
    "\n",
    "train_dataset"
   ]
  },
  {
   "cell_type": "markdown",
   "metadata": {},
   "source": [
    "\n",
    "\n",
    "To train our model, we need to convert our inputs (text) to token IDs. This is done by a Hugging Face Transformers Tokenizer. In addition to QLoRA, we will use bitsanbytes 4-bit precision to quantize out frozen LLM to 4-bit and attach LoRA adapters on it.\n",
    "\n"
   ]
  },
  {
   "cell_type": "code",
   "execution_count": 5,
   "metadata": {
    "ExecuteTime": {
     "start_time": "2023-11-15T10:18:24.205455Z",
     "end_time": "2023-11-15T10:18:24.207823Z"
    },
    "collapsed": false,
    "jupyter": {
     "outputs_hidden": false
    },
    "tags": []
   },
   "outputs": [],
   "source": [
    "def print_trainable_parameters(model):\n",
    "    \"\"\"\n",
    "    Prints the number of trainable parameters in the model.\n",
    "    \"\"\"\n",
    "    trainable_params = 0\n",
    "    all_param = 0\n",
    "    for _, param in model.named_parameters():\n",
    "        all_param += param.numel()\n",
    "        if param.requires_grad:\n",
    "            trainable_params += param.numel()\n",
    "    print(\n",
    "        f\"trainable params: {trainable_params} || all params: {all_param} || trainable%: {100 * trainable_params / all_param}\"\n",
    "    )"
   ]
  },
  {
   "cell_type": "code",
   "execution_count": 6,
   "metadata": {
    "ExecuteTime": {
     "start_time": "2023-11-15T10:18:24.208225Z",
     "end_time": "2023-11-15T10:18:25.574188Z"
    },
    "collapsed": false,
    "jupyter": {
     "outputs_hidden": false
    },
    "tags": []
   },
   "outputs": [
    {
     "name": "stderr",
     "output_type": "stream",
     "text": [
      "/Users/bpistone/miniforge3/envs/pathways/lib/python3.10/site-packages/transformers/models/auto/tokenization_auto.py:671: FutureWarning: The `use_auth_token` argument is deprecated and will be removed in v5 of Transformers. Please use `token` instead.\n",
      "  warnings.warn(\n"
     ]
    }
   ],
   "source": [
    "from transformers import AutoTokenizer\n",
    "\n",
    "model_id = \"mistralai/Mistral-7B-Instruct-v0.1\"\n",
    "\n",
    "tokenizer = AutoTokenizer.from_pretrained(model_id, use_auth_token=True)\n",
    "\n",
    "tokenizer.pad_token = tokenizer.eos_token"
   ]
  },
  {
   "cell_type": "markdown",
   "metadata": {},
   "source": [
    "Creating chunks and tokenizing the inputs for making it usable by the LLM. For additional details, please refer to the blog [Leveraging qLoRA for Fine-Tuning of Task-Fine-Tuned Models Without Catastrophic Forgetting: A Case Study with LLaMA2(-chat)](https://medium.com/towards-data-science/leveraging-qlora-for-fine-tuning-of-task-fine-tuned-models-without-catastrophic-forgetting-d9bcd594cff4)"
   ]
  },
  {
   "cell_type": "code",
   "execution_count": 7,
   "metadata": {
    "ExecuteTime": {
     "start_time": "2023-11-15T10:18:25.577213Z",
     "end_time": "2023-11-15T10:18:25.578949Z"
    },
    "collapsed": false,
    "jupyter": {
     "outputs_hidden": false
    }
   },
   "outputs": [],
   "source": [
    "from itertools import chain\n",
    "from functools import partial\n",
    "\n",
    "remainder = {\"input_ids\": [], \"attention_mask\": [], \"token_type_ids\": []}\n",
    "\n",
    "def chunk(sample, chunk_length=2048):\n",
    "    # define global remainder variable to save remainder from batches to use in next batch\n",
    "    global remainder\n",
    "    # Concatenate all texts and add remainder from previous batch\n",
    "    concatenated_examples = {k: list(chain(*sample[k])) for k in sample.keys()}\n",
    "    concatenated_examples = {k: remainder[k] + concatenated_examples[k] for k in concatenated_examples.keys()}\n",
    "    # get total number of tokens for batch\n",
    "    batch_total_length = len(concatenated_examples[list(sample.keys())[0]])\n",
    "\n",
    "    # get max number of chunks for batch\n",
    "    if batch_total_length >= chunk_length:\n",
    "        batch_chunk_length = (batch_total_length // chunk_length) * chunk_length\n",
    "\n",
    "    # Split by chunks of max_len.\n",
    "    result = {\n",
    "        k: [t[i : i + chunk_length] for i in range(0, batch_chunk_length, chunk_length)]\n",
    "        for k, t in concatenated_examples.items()\n",
    "    }\n",
    "    # add remainder to global variable for next batch\n",
    "    remainder = {k: concatenated_examples[k][batch_chunk_length:] for k in concatenated_examples.keys()}\n",
    "    # prepare labels\n",
    "    result[\"labels\"] = result[\"input_ids\"].copy()\n",
    "    return result"
   ]
  },
  {
   "cell_type": "markdown",
   "metadata": {},
   "source": [
    "Utility method for finding the target modules and update the necessary matrices. Visit [this](https://github.com/artidoro/qlora/blob/main/qlora.py) link for additional info."
   ]
  },
  {
   "cell_type": "code",
   "execution_count": 8,
   "metadata": {
    "ExecuteTime": {
     "start_time": "2023-11-15T10:18:25.580491Z",
     "end_time": "2023-11-15T10:18:25.924238Z"
    },
    "collapsed": false,
    "jupyter": {
     "outputs_hidden": false
    },
    "tags": []
   },
   "outputs": [
    {
     "name": "stderr",
     "output_type": "stream",
     "text": [
      "/Users/bpistone/miniforge3/envs/pathways/lib/python3.10/site-packages/bitsandbytes/cextension.py:34: UserWarning: The installed version of bitsandbytes was compiled without GPU support. 8-bit optimizers, 8-bit multiplication, and GPU quantization are unavailable.\n",
      "  warn(\"The installed version of bitsandbytes was compiled without GPU support. \"\n"
     ]
    },
    {
     "name": "stdout",
     "output_type": "stream",
     "text": [
      "'NoneType' object has no attribute 'cadam32bit_grad_fp32'\n"
     ]
    }
   ],
   "source": [
    "import bitsandbytes as bnb\n",
    "\n",
    "def find_all_linear_names(hf_model):\n",
    "    lora_module_names = set()\n",
    "    for name, module in hf_model.named_modules():\n",
    "        if isinstance(module, bnb.nn.Linear4bit):\n",
    "            names = name.split(\".\")\n",
    "            lora_module_names.add(names[0] if len(names) == 1 else names[-1])\n",
    "\n",
    "    if \"lm_head\" in lora_module_names:  # needed for 16-bit\n",
    "        lora_module_names.remove(\"lm_head\")\n",
    "    return list(lora_module_names)"
   ]
  },
  {
   "cell_type": "markdown",
   "metadata": {},
   "source": [
    "Define the train function"
   ]
  },
  {
   "cell_type": "code",
   "execution_count": 9,
   "metadata": {
    "ExecuteTime": {
     "start_time": "2023-11-15T10:18:26.753727Z",
     "end_time": "2023-11-15T10:18:29.507908Z"
    },
    "collapsed": false,
    "jupyter": {
     "outputs_hidden": false
    },
    "tags": []
   },
   "outputs": [
    {
     "name": "stdout",
     "output_type": "stream",
     "text": [
      "sagemaker.config INFO - Not applying SDK defaults from location: /Library/Application Support/sagemaker/config.yaml\n",
      "sagemaker.config INFO - Fetched defaults config from location: /Users/bpistone/development/amazon/amazon-sagemaker-remote-decorator-generative-ai\n"
     ]
    },
    {
     "name": "stderr",
     "output_type": "stream",
     "text": [
      "INFO:botocore.credentials:Found credentials in shared credentials file: ~/.aws/credentials\n"
     ]
    },
    {
     "name": "stdout",
     "output_type": "stream",
     "text": [
      "sagemaker.config INFO - Not applying SDK defaults from location: /Library/Application Support/sagemaker/config.yaml\n",
      "sagemaker.config INFO - Fetched defaults config from location: /Users/bpistone/development/amazon/amazon-sagemaker-remote-decorator-generative-ai\n",
      "sagemaker.config INFO - Applied value from config key = SageMaker.PythonSDK.Modules.RemoteFunction.ImageUri\n",
      "sagemaker.config INFO - Applied value from config key = SageMaker.PythonSDK.Modules.RemoteFunction.Dependencies\n",
      "sagemaker.config INFO - Applied value from config key = SageMaker.PythonSDK.Modules.RemoteFunction.InstanceType\n",
      "sagemaker.config INFO - Applied value from config key = SageMaker.PythonSDK.Modules.RemoteFunction.RoleArn\n"
     ]
    }
   ],
   "source": [
    "from huggingface_hub import login\n",
    "from peft import AutoPeftModelForCausalLM, LoraConfig, get_peft_model, prepare_model_for_kbit_training\n",
    "from sagemaker.remote_function import remote\n",
    "import torch\n",
    "from transformers import AutoModelForCausalLM, AutoTokenizer, BitsAndBytesConfig\n",
    "import transformers\n",
    "\n",
    "# Start training\n",
    "@remote(volume_size=100)\n",
    "def train_fn(\n",
    "        model_name,\n",
    "        train_ds,\n",
    "        lora_r=64,\n",
    "        lora_alpha=16,\n",
    "        lora_dropout=0.1,\n",
    "        per_device_train_batch_size=8,\n",
    "        per_device_eval_batch_size=8,\n",
    "        learning_rate=2e-4,\n",
    "        num_train_epochs=1,\n",
    "        chunk_size=2048,\n",
    "        merge_weights=False,\n",
    "        token=None\n",
    "):\n",
    "    if token is not None:\n",
    "        login(token=token)\n",
    "\n",
    "    # tokenize and chunk dataset\n",
    "    lm_dataset = train_ds.map(\n",
    "        lambda sample: tokenizer(sample[\"text\"]), batched=True, remove_columns=list(train_ds.features)\n",
    "    ).map(\n",
    "        partial(chunk, chunk_length=chunk_size),\n",
    "        batched=True,\n",
    "    )\n",
    "\n",
    "    # Print total number of samples\n",
    "    print(f\"Total number of train samples: {len(lm_dataset)}\")\n",
    "\n",
    "    bnb_config = BitsAndBytesConfig(\n",
    "        load_in_4bit=True,\n",
    "        bnb_4bit_use_double_quant=True,\n",
    "        bnb_4bit_quant_type=\"nf4\",\n",
    "        bnb_4bit_compute_dtype=torch.bfloat16\n",
    "    )\n",
    "\n",
    "    model = AutoModelForCausalLM.from_pretrained(\n",
    "        model_name,\n",
    "        trust_remote_code=True,\n",
    "        quantization_config=bnb_config,\n",
    "        device_map=\"auto\")\n",
    "\n",
    "    model.gradient_checkpointing_enable()\n",
    "    model = prepare_model_for_kbit_training(model, use_gradient_checkpointing=True)\n",
    "\n",
    "    # get lora target modules\n",
    "    modules = find_all_linear_names(model)\n",
    "    print(f\"Found {len(modules)} modules to quantize: {modules}\")\n",
    "\n",
    "    config = LoraConfig(\n",
    "        r=lora_r,\n",
    "        lora_alpha=lora_alpha,\n",
    "        target_modules=modules,\n",
    "        lora_dropout=lora_dropout,\n",
    "        bias=\"none\",\n",
    "        task_type=\"CAUSAL_LM\"\n",
    "    )\n",
    "\n",
    "    model = get_peft_model(model, config)\n",
    "    print_trainable_parameters(model)\n",
    "\n",
    "    trainer = transformers.Trainer(\n",
    "        model=model,\n",
    "        train_dataset=lm_dataset,\n",
    "        args=transformers.TrainingArguments(\n",
    "            per_device_train_batch_size=per_device_train_batch_size,\n",
    "            per_device_eval_batch_size=per_device_eval_batch_size,\n",
    "            logging_steps=2,\n",
    "            num_train_epochs=num_train_epochs,\n",
    "            learning_rate=learning_rate,\n",
    "            bf16=True,\n",
    "            save_strategy=\"no\",\n",
    "            output_dir=\"outputs\"\n",
    "        ),\n",
    "        data_collator=transformers.DataCollatorForLanguageModeling(tokenizer, mlm=False),\n",
    "    )\n",
    "    model.config.use_cache = False\n",
    "\n",
    "    trainer.train()\n",
    "\n",
    "    if merge_weights:\n",
    "        output_dir = \"/tmp/model\"\n",
    "\n",
    "        # merge adapter weights with base model and save\n",
    "        # save int 4 model\n",
    "        trainer.model.save_pretrained(output_dir, safe_serialization=False)\n",
    "        # clear memory\n",
    "        del model\n",
    "        del trainer\n",
    "        torch.cuda.empty_cache()\n",
    "\n",
    "        # load PEFT model in fp16\n",
    "        model = AutoPeftModelForCausalLM.from_pretrained(\n",
    "            output_dir,\n",
    "            low_cpu_mem_usage=True,\n",
    "            torch_dtype=torch.float16,\n",
    "        )\n",
    "        # Merge LoRA and base model and save\n",
    "        model = model.merge_and_unload()\n",
    "        model.save_pretrained(\n",
    "            \"/opt/ml/model\", safe_serialization=True, max_shard_size=\"2GB\"\n",
    "        )\n",
    "    else:\n",
    "        model.save_pretrained(\"/opt/ml/model\", safe_serialization=True)\n",
    "\n",
    "    tmp_tokenizer = AutoTokenizer.from_pretrained(model_name)\n",
    "    tmp_tokenizer.save_pretrained(\"/opt/ml/model\")"
   ]
  },
  {
   "cell_type": "code",
   "execution_count": 10,
   "metadata": {
    "ExecuteTime": {
     "start_time": "2023-11-14T20:43:26.848983Z",
     "end_time": "2023-11-14T21:04:05.465078Z"
    },
    "collapsed": false,
    "jupyter": {
     "outputs_hidden": false
    },
    "scrolled": true,
    "tags": []
   },
   "outputs": [
    {
     "name": "stderr",
     "output_type": "stream",
     "text": [
      "2023-11-15 09:18:32,293 sagemaker.remote_function INFO     Copied dependencies file at './requirements.txt' to '/var/folders/1d/p7dclqcx4934dybvv117p3640000gr/T/tmp95wiskfs/temp_workspace/sagemaker_remote_function_workspace/requirements.txt'\n",
      "2023-11-15 09:18:32,294 sagemaker.remote_function INFO     Successfully created workdir archive at '/var/folders/1d/p7dclqcx4934dybvv117p3640000gr/T/tmp95wiskfs/workspace.zip'\n",
      "2023-11-15 09:18:32,413 sagemaker.remote_function INFO     Successfully uploaded workdir to 's3://sagemaker-eu-west-1-691148928602/train-fn-2023-11-15-09-18-31-794/sm_rf_user_ws/workspace.zip'\n",
      "2023-11-15 09:18:32,419 sagemaker.remote_function INFO     Serializing function code to s3://sagemaker-eu-west-1-691148928602/train-fn-2023-11-15-09-18-31-794/function\n",
      "2023-11-15 09:18:34,249 sagemaker.remote_function INFO     Serializing function arguments to s3://sagemaker-eu-west-1-691148928602/train-fn-2023-11-15-09-18-31-794/arguments\n",
      "2023-11-15 09:18:34,499 sagemaker.remote_function INFO     Creating job: train-fn-2023-11-15-09-18-31-794\n"
     ]
    },
    {
     "name": "stdout",
     "output_type": "stream",
     "text": [
      "2023-11-15 09:18:34 Starting - Starting the training job...\n",
      "2023-11-15 09:19:01 Starting - Preparing the instances for training......\n",
      "2023-11-15 09:20:01 Downloading - Downloading input data...\n",
      "2023-11-15 09:20:26 Training - Downloading the training image...........................\n",
      "2023-11-15 09:25:03 Training - Training image download completed. Training in progress......\u001B[34mINFO: CONDA_PKGS_DIRS is set to '/opt/ml/sagemaker/warmpoolcache/sm_remotefunction_user_dependencies_cache/conda/pkgs'\u001B[0m\n",
      "\u001B[34mINFO: PIP_CACHE_DIR is set to '/opt/ml/sagemaker/warmpoolcache/sm_remotefunction_user_dependencies_cache/pip'\u001B[0m\n",
      "\u001B[34mINFO: Bootstraping runtime environment.\u001B[0m\n",
      "\u001B[34m2023-11-15 09:25:53,251 sagemaker.remote_function INFO     Successfully unpacked workspace archive at '/'.\u001B[0m\n",
      "\u001B[34m2023-11-15 09:25:53,251 sagemaker.remote_function INFO     '/sagemaker_remote_function_workspace/pre_exec.sh' does not exist. Assuming no pre-execution commands to run\u001B[0m\n",
      "\u001B[34m2023-11-15 09:25:53,251 sagemaker.remote_function INFO     Running command: '/opt/conda/bin/python -m pip install -r /sagemaker_remote_function_workspace/requirements.txt' in the dir: '/' \u001B[0m\n",
      "\u001B[34m2023-11-15 09:25:53,760 sagemaker.remote_function INFO     Collecting transformers==4.35.1 (from -r /sagemaker_remote_function_workspace/requirements.txt (line 1))\u001B[0m\n",
      "\u001B[34m2023-11-15 09:25:53,833 sagemaker.remote_function INFO       Downloading transformers-4.35.1-py3-none-any.whl (7.9 MB)\u001B[0m\n",
      "\u001B[34m2023-11-15 09:25:54,004 sagemaker.remote_function INFO          ━━━━━━━━━━━━━━━━━━━━━━━━━━━━━━━━━━━━━━━━ 7.9/7.9 MB 47.4 MB/s eta 0:00:00\u001B[0m\n",
      "\u001B[34m2023-11-15 09:25:54,057 sagemaker.remote_function INFO     Collecting peft==0.6.2 (from -r /sagemaker_remote_function_workspace/requirements.txt (line 2))\u001B[0m\n",
      "\u001B[34m2023-11-15 09:25:54,079 sagemaker.remote_function INFO       Downloading peft-0.6.2-py3-none-any.whl (174 kB)\u001B[0m\n",
      "\u001B[34m2023-11-15 09:25:54,084 sagemaker.remote_function INFO          ━━━━━━━━━━━━━━━━━━━━━━━━━━━━━━━━━━━━━━ 174.7/174.7 kB 85.8 MB/s eta 0:00:00\u001B[0m\n",
      "\u001B[34m2023-11-15 09:25:54,130 sagemaker.remote_function INFO     Collecting accelerate==0.24.1 (from -r /sagemaker_remote_function_workspace/requirements.txt (line 3))\u001B[0m\n",
      "\u001B[34m2023-11-15 09:25:54,154 sagemaker.remote_function INFO       Downloading accelerate-0.24.1-py3-none-any.whl (261 kB)\u001B[0m\n",
      "\u001B[34m2023-11-15 09:25:54,159 sagemaker.remote_function INFO          ━━━━━━━━━━━━━━━━━━━━━━━━━━━━━━━━━━━━━ 261.4/261.4 kB 107.0 MB/s eta 0:00:00\u001B[0m\n",
      "\u001B[34m2023-11-15 09:25:54,202 sagemaker.remote_function INFO     Collecting bitsandbytes==0.41.2.post2 (from -r /sagemaker_remote_function_workspace/requirements.txt (line 4))\u001B[0m\n",
      "\u001B[34m2023-11-15 09:25:54,226 sagemaker.remote_function INFO       Downloading bitsandbytes-0.41.2.post2-py3-none-any.whl (92.6 MB)\u001B[0m\n",
      "\u001B[34m2023-11-15 09:25:55,059 sagemaker.remote_function INFO          ━━━━━━━━━━━━━━━━━━━━━━━━━━━━━━━━━━━━━━━━ 92.6/92.6 MB 37.2 MB/s eta 0:00:00\u001B[0m\n",
      "\u001B[34m2023-11-15 09:25:55,318 sagemaker.remote_function INFO     Collecting safetensors>=0.3.1 (from -r /sagemaker_remote_function_workspace/requirements.txt (line 5))\u001B[0m\n",
      "\u001B[34m2023-11-15 09:25:55,342 sagemaker.remote_function INFO       Downloading safetensors-0.4.0-cp310-cp310-manylinux_2_17_x86_64.manylinux2014_x86_64.whl (1.3 MB)\u001B[0m\n",
      "\u001B[34m2023-11-15 09:25:55,353 sagemaker.remote_function INFO          ━━━━━━━━━━━━━━━━━━━━━━━━━━━━━━━━━━━━━━━━ 1.3/1.3 MB 153.1 MB/s eta 0:00:00\u001B[0m\n",
      "\u001B[34m2023-11-15 09:25:55,356 sagemaker.remote_function INFO     Requirement already satisfied: tokenizers>=0.13.3 in /opt/conda/lib/python3.10/site-packages (from -r /sagemaker_remote_function_workspace/requirements.txt (line 6)) (0.13.3)\u001B[0m\n",
      "\u001B[34m2023-11-15 09:25:55,433 sagemaker.remote_function INFO     Collecting py7zr (from -r /sagemaker_remote_function_workspace/requirements.txt (line 7))\u001B[0m\n",
      "\u001B[34m2023-11-15 09:25:55,456 sagemaker.remote_function INFO       Downloading py7zr-0.20.8-py3-none-any.whl (67 kB)\u001B[0m\n",
      "\u001B[34m2023-11-15 09:25:55,460 sagemaker.remote_function INFO          ━━━━━━━━━━━━━━━━━━━━━━━━━━━━━━━━━━━━━━━━ 67.0/67.0 kB 43.9 MB/s eta 0:00:00\u001B[0m\n",
      "\u001B[34m2023-11-15 09:25:55,875 sagemaker.remote_function INFO     Requirement already satisfied: filelock in /opt/conda/lib/python3.10/site-packages (from transformers==4.35.1->-r /sagemaker_remote_function_workspace/requirements.txt (line 1)) (3.12.0)\u001B[0m\n",
      "\u001B[34m2023-11-15 09:25:55,941 sagemaker.remote_function INFO     Collecting huggingface-hub<1.0,>=0.16.4 (from transformers==4.35.1->-r /sagemaker_remote_function_workspace/requirements.txt (line 1))\u001B[0m\n",
      "\u001B[34m2023-11-15 09:25:55,966 sagemaker.remote_function INFO       Downloading huggingface_hub-0.19.2-py3-none-any.whl (311 kB)\u001B[0m\n",
      "\u001B[34m2023-11-15 09:25:55,971 sagemaker.remote_function INFO          ━━━━━━━━━━━━━━━━━━━━━━━━━━━━━━━━━━━━━ 311.2/311.2 kB 114.2 MB/s eta 0:00:00\u001B[0m\n",
      "\u001B[34m2023-11-15 09:25:55,974 sagemaker.remote_function INFO     Requirement already satisfied: numpy>=1.17 in /opt/conda/lib/python3.10/site-packages (from transformers==4.35.1->-r /sagemaker_remote_function_workspace/requirements.txt (line 1)) (1.23.5)\u001B[0m\n",
      "\u001B[34m2023-11-15 09:25:55,974 sagemaker.remote_function INFO     Requirement already satisfied: packaging>=20.0 in /opt/conda/lib/python3.10/site-packages (from transformers==4.35.1->-r /sagemaker_remote_function_workspace/requirements.txt (line 1)) (23.1)\u001B[0m\n",
      "\u001B[34m2023-11-15 09:25:55,975 sagemaker.remote_function INFO     Requirement already satisfied: pyyaml>=5.1 in /opt/conda/lib/python3.10/site-packages (from transformers==4.35.1->-r /sagemaker_remote_function_workspace/requirements.txt (line 1)) (5.4.1)\u001B[0m\n",
      "\u001B[34m2023-11-15 09:25:55,975 sagemaker.remote_function INFO     Requirement already satisfied: regex!=2019.12.17 in /opt/conda/lib/python3.10/site-packages (from transformers==4.35.1->-r /sagemaker_remote_function_workspace/requirements.txt (line 1)) (2023.5.5)\u001B[0m\n",
      "\u001B[34m2023-11-15 09:25:55,976 sagemaker.remote_function INFO     Requirement already satisfied: requests in /opt/conda/lib/python3.10/site-packages (from transformers==4.35.1->-r /sagemaker_remote_function_workspace/requirements.txt (line 1)) (2.28.2)\u001B[0m\n",
      "\u001B[34m2023-11-15 09:25:56,301 sagemaker.remote_function INFO     Collecting tokenizers>=0.13.3 (from -r /sagemaker_remote_function_workspace/requirements.txt (line 6))\u001B[0m\n",
      "\u001B[34m2023-11-15 09:25:56,324 sagemaker.remote_function INFO       Downloading tokenizers-0.14.1-cp310-cp310-manylinux_2_17_x86_64.manylinux2014_x86_64.whl (3.8 MB)\u001B[0m\n",
      "\u001B[34m2023-11-15 09:25:56,359 sagemaker.remote_function INFO          ━━━━━━━━━━━━━━━━━━━━━━━━━━━━━━━━━━━━━━━━ 3.8/3.8 MB 119.7 MB/s eta 0:00:00\u001B[0m\n",
      "\u001B[34m2023-11-15 09:25:56,364 sagemaker.remote_function INFO     Requirement already satisfied: tqdm>=4.27 in /opt/conda/lib/python3.10/site-packages (from transformers==4.35.1->-r /sagemaker_remote_function_workspace/requirements.txt (line 1)) (4.65.0)\u001B[0m\n",
      "\u001B[34m2023-11-15 09:25:56,383 sagemaker.remote_function INFO     Requirement already satisfied: psutil in /opt/conda/lib/python3.10/site-packages (from peft==0.6.2->-r /sagemaker_remote_function_workspace/requirements.txt (line 2)) (5.9.5)\u001B[0m\n",
      "\u001B[34m2023-11-15 09:25:56,384 sagemaker.remote_function INFO     Requirement already satisfied: torch>=1.13.0 in /opt/conda/lib/python3.10/site-packages (from peft==0.6.2->-r /sagemaker_remote_function_workspace/requirements.txt (line 2)) (2.0.0)\u001B[0m\n",
      "\u001B[34m2023-11-15 09:25:56,496 sagemaker.remote_function INFO     Collecting huggingface-hub<1.0,>=0.16.4 (from transformers==4.35.1->-r /sagemaker_remote_function_workspace/requirements.txt (line 1))\u001B[0m\n",
      "\u001B[34m2023-11-15 09:25:56,522 sagemaker.remote_function INFO       Downloading huggingface_hub-0.17.3-py3-none-any.whl (295 kB)\u001B[0m\n",
      "\u001B[34m2023-11-15 09:25:56,527 sagemaker.remote_function INFO          ━━━━━━━━━━━━━━━━━━━━━━━━━━━━━━━━━━━━━ 295.0/295.0 kB 110.6 MB/s eta 0:00:00\u001B[0m\n",
      "\u001B[34m2023-11-15 09:25:56,600 sagemaker.remote_function INFO     Collecting texttable (from py7zr->-r /sagemaker_remote_function_workspace/requirements.txt (line 7))\u001B[0m\n",
      "\u001B[34m2023-11-15 09:25:56,626 sagemaker.remote_function INFO       Downloading texttable-1.7.0-py2.py3-none-any.whl (10 kB)\u001B[0m\n",
      "\u001B[34m2023-11-15 09:25:56,821 sagemaker.remote_function INFO     Collecting pycryptodomex>=3.16.0 (from py7zr->-r /sagemaker_remote_function_workspace/requirements.txt (line 7))\u001B[0m\n",
      "\u001B[34m2023-11-15 09:25:56,847 sagemaker.remote_function INFO       Downloading pycryptodomex-3.19.0-cp35-abi3-manylinux_2_17_x86_64.manylinux2014_x86_64.whl (2.1 MB)\u001B[0m\n",
      "\u001B[34m2023-11-15 09:25:56,863 sagemaker.remote_function INFO          ━━━━━━━━━━━━━━━━━━━━━━━━━━━━━━━━━━━━━━━━ 2.1/2.1 MB 159.5 MB/s eta 0:00:00\u001B[0m\n",
      "\u001B[34m2023-11-15 09:25:57,044 sagemaker.remote_function INFO     Collecting pyzstd>=0.15.9 (from py7zr->-r /sagemaker_remote_function_workspace/requirements.txt (line 7))\u001B[0m\n",
      "\u001B[34m2023-11-15 09:25:57,070 sagemaker.remote_function INFO       Downloading pyzstd-0.15.9-cp310-cp310-manylinux_2_17_x86_64.manylinux2014_x86_64.whl (412 kB)\u001B[0m\n",
      "\u001B[34m2023-11-15 09:25:57,075 sagemaker.remote_function INFO          ━━━━━━━━━━━━━━━━━━━━━━━━━━━━━━━━━━━━━ 412.3/412.3 kB 129.2 MB/s eta 0:00:00\u001B[0m\n",
      "\u001B[34m2023-11-15 09:25:57,256 sagemaker.remote_function INFO     Collecting pyppmd<1.2.0,>=1.1.0 (from py7zr->-r /sagemaker_remote_function_workspace/requirements.txt (line 7))\u001B[0m\n",
      "\u001B[34m2023-11-15 09:25:57,280 sagemaker.remote_function INFO       Downloading pyppmd-1.1.0-cp310-cp310-manylinux_2_17_x86_64.manylinux2014_x86_64.whl (138 kB)\u001B[0m\n",
      "\u001B[34m2023-11-15 09:25:57,284 sagemaker.remote_function INFO          ━━━━━━━━━━━━━━━━━━━━━━━━━━━━━━━━━━━━━━ 138.9/138.9 kB 71.6 MB/s eta 0:00:00\u001B[0m\n",
      "\u001B[34m2023-11-15 09:25:57,384 sagemaker.remote_function INFO     Collecting pybcj<1.1.0,>=1.0.0 (from py7zr->-r /sagemaker_remote_function_workspace/requirements.txt (line 7))\u001B[0m\n",
      "\u001B[34m2023-11-15 09:25:57,411 sagemaker.remote_function INFO       Downloading pybcj-1.0.2-cp310-cp310-manylinux_2_17_x86_64.manylinux2014_x86_64.whl (49 kB)\u001B[0m\n",
      "\u001B[34m2023-11-15 09:25:57,414 sagemaker.remote_function INFO          ━━━━━━━━━━━━━━━━━━━━━━━━━━━━━━━━━━━━━━━━ 49.7/49.7 kB 33.8 MB/s eta 0:00:00\u001B[0m\n",
      "\u001B[34m2023-11-15 09:25:57,454 sagemaker.remote_function INFO     Collecting multivolumefile>=0.2.3 (from py7zr->-r /sagemaker_remote_function_workspace/requirements.txt (line 7))\u001B[0m\n",
      "\u001B[34m2023-11-15 09:25:57,477 sagemaker.remote_function INFO       Downloading multivolumefile-0.2.3-py3-none-any.whl (17 kB)\u001B[0m\n",
      "\u001B[34m2023-11-15 09:25:57,586 sagemaker.remote_function INFO     Collecting inflate64<1.1.0,>=1.0.0 (from py7zr->-r /sagemaker_remote_function_workspace/requirements.txt (line 7))\u001B[0m\n",
      "\u001B[34m2023-11-15 09:25:57,610 sagemaker.remote_function INFO       Downloading inflate64-1.0.0-cp310-cp310-manylinux_2_17_x86_64.manylinux2014_x86_64.whl (93 kB)\u001B[0m\n",
      "\u001B[34m2023-11-15 09:25:57,614 sagemaker.remote_function INFO          ━━━━━━━━━━━━━━━━━━━━━━━━━━━━━━━━━━━━━━━━ 93.1/93.1 kB 55.3 MB/s eta 0:00:00\u001B[0m\n",
      "\u001B[34m2023-11-15 09:25:57,688 sagemaker.remote_function INFO     Collecting brotli>=1.1.0 (from py7zr->-r /sagemaker_remote_function_workspace/requirements.txt (line 7))\u001B[0m\n",
      "\u001B[34m2023-11-15 09:25:57,714 sagemaker.remote_function INFO       Downloading Brotli-1.1.0-cp310-cp310-manylinux_2_5_x86_64.manylinux1_x86_64.manylinux_2_12_x86_64.manylinux2010_x86_64.whl (3.0 MB)\u001B[0m\n",
      "\u001B[34m2023-11-15 09:25:57,734 sagemaker.remote_function INFO          ━━━━━━━━━━━━━━━━━━━━━━━━━━━━━━━━━━━━━━━━ 3.0/3.0 MB 169.3 MB/s eta 0:00:00\u001B[0m\n",
      "\u001B[34m2023-11-15 09:25:57,859 sagemaker.remote_function INFO     Requirement already satisfied: fsspec in /opt/conda/lib/python3.10/site-packages (from huggingface-hub<1.0,>=0.16.4->transformers==4.35.1->-r /sagemaker_remote_function_workspace/requirements.txt (line 1)) (2023.5.0)\u001B[0m\n",
      "\u001B[34m2023-11-15 09:25:57,860 sagemaker.remote_function INFO     Requirement already satisfied: typing-extensions>=3.7.4.3 in /opt/conda/lib/python3.10/site-packages (from huggingface-hub<1.0,>=0.16.4->transformers==4.35.1->-r /sagemaker_remote_function_workspace/requirements.txt (line 1)) (4.5.0)\u001B[0m\n",
      "\u001B[34m2023-11-15 09:25:57,937 sagemaker.remote_function INFO     Requirement already satisfied: sympy in /opt/conda/lib/python3.10/site-packages (from torch>=1.13.0->peft==0.6.2->-r /sagemaker_remote_function_workspace/requirements.txt (line 2)) (1.11.1)\u001B[0m\n",
      "\u001B[34m2023-11-15 09:25:57,937 sagemaker.remote_function INFO     Requirement already satisfied: networkx in /opt/conda/lib/python3.10/site-packages (from torch>=1.13.0->peft==0.6.2->-r /sagemaker_remote_function_workspace/requirements.txt (line 2)) (3.1)\u001B[0m\n",
      "\u001B[34m2023-11-15 09:25:57,938 sagemaker.remote_function INFO     Requirement already satisfied: jinja2 in /opt/conda/lib/python3.10/site-packages (from torch>=1.13.0->peft==0.6.2->-r /sagemaker_remote_function_workspace/requirements.txt (line 2)) (3.1.2)\u001B[0m\n",
      "\u001B[34m2023-11-15 09:25:57,976 sagemaker.remote_function INFO     Requirement already satisfied: charset-normalizer<4,>=2 in /opt/conda/lib/python3.10/site-packages (from requests->transformers==4.35.1->-r /sagemaker_remote_function_workspace/requirements.txt (line 1)) (3.1.0)\u001B[0m\n",
      "\u001B[34m2023-11-15 09:25:57,976 sagemaker.remote_function INFO     Requirement already satisfied: idna<4,>=2.5 in /opt/conda/lib/python3.10/site-packages (from requests->transformers==4.35.1->-r /sagemaker_remote_function_workspace/requirements.txt (line 1)) (3.4)\u001B[0m\n",
      "\u001B[34m2023-11-15 09:25:57,977 sagemaker.remote_function INFO     Requirement already satisfied: urllib3<1.27,>=1.21.1 in /opt/conda/lib/python3.10/site-packages (from requests->transformers==4.35.1->-r /sagemaker_remote_function_workspace/requirements.txt (line 1)) (1.26.15)\u001B[0m\n",
      "\u001B[34m2023-11-15 09:25:57,977 sagemaker.remote_function INFO     Requirement already satisfied: certifi>=2017.4.17 in /opt/conda/lib/python3.10/site-packages (from requests->transformers==4.35.1->-r /sagemaker_remote_function_workspace/requirements.txt (line 1)) (2023.5.7)\u001B[0m\n",
      "\u001B[34m2023-11-15 09:25:58,061 sagemaker.remote_function INFO     Requirement already satisfied: MarkupSafe>=2.0 in /opt/conda/lib/python3.10/site-packages (from jinja2->torch>=1.13.0->peft==0.6.2->-r /sagemaker_remote_function_workspace/requirements.txt (line 2)) (2.1.2)\u001B[0m\n",
      "\u001B[34m2023-11-15 09:25:58,085 sagemaker.remote_function INFO     Requirement already satisfied: mpmath>=0.19 in /opt/conda/lib/python3.10/site-packages (from sympy->torch>=1.13.0->peft==0.6.2->-r /sagemaker_remote_function_workspace/requirements.txt (line 2)) (1.3.0)\u001B[0m\n",
      "\u001B[34m2023-11-15 09:26:00,760 sagemaker.remote_function INFO     Installing collected packages: texttable, brotli, bitsandbytes, safetensors, pyzstd, pyppmd, pycryptodomex, pybcj, multivolumefile, inflate64, py7zr, huggingface-hub, tokenizers, accelerate, transformers, peft\u001B[0m\n",
      "\u001B[34m2023-11-15 09:26:02,533 sagemaker.remote_function INFO       Attempting uninstall: huggingface-hub\u001B[0m\n",
      "\u001B[34m2023-11-15 09:26:02,534 sagemaker.remote_function INFO         Found existing installation: huggingface-hub 0.14.1\u001B[0m\n",
      "\u001B[34m2023-11-15 09:26:02,540 sagemaker.remote_function INFO         Uninstalling huggingface-hub-0.14.1:\u001B[0m\n",
      "\u001B[34m2023-11-15 09:26:02,559 sagemaker.remote_function INFO           Successfully uninstalled huggingface-hub-0.14.1\u001B[0m\n",
      "\u001B[34m2023-11-15 09:26:02,670 sagemaker.remote_function INFO       Attempting uninstall: tokenizers\u001B[0m\n",
      "\u001B[34m2023-11-15 09:26:02,672 sagemaker.remote_function INFO         Found existing installation: tokenizers 0.13.3\u001B[0m\n",
      "\u001B[34m2023-11-15 09:26:02,676 sagemaker.remote_function INFO         Uninstalling tokenizers-0.13.3:\u001B[0m\n",
      "\u001B[34m2023-11-15 09:26:02,694 sagemaker.remote_function INFO           Successfully uninstalled tokenizers-0.13.3\u001B[0m\n",
      "\u001B[34m2023-11-15 09:26:02,771 sagemaker.remote_function INFO       Attempting uninstall: accelerate\u001B[0m\n",
      "\u001B[34m2023-11-15 09:26:02,772 sagemaker.remote_function INFO         Found existing installation: accelerate 0.19.0\u001B[0m\n",
      "\u001B[34m2023-11-15 09:26:02,780 sagemaker.remote_function INFO         Uninstalling accelerate-0.19.0:\u001B[0m\n",
      "\u001B[34m2023-11-15 09:26:02,802 sagemaker.remote_function INFO           Successfully uninstalled accelerate-0.19.0\u001B[0m\n",
      "\u001B[34m2023-11-15 09:26:02,930 sagemaker.remote_function INFO       Attempting uninstall: transformers\u001B[0m\n",
      "\u001B[34m2023-11-15 09:26:02,933 sagemaker.remote_function INFO         Found existing installation: transformers 4.28.1\u001B[0m\n",
      "\u001B[34m2023-11-15 09:26:03,061 sagemaker.remote_function INFO         Uninstalling transformers-4.28.1:\u001B[0m\n",
      "\u001B[34m2023-11-15 09:26:03,442 sagemaker.remote_function INFO           Successfully uninstalled transformers-4.28.1\u001B[0m\n",
      "\u001B[34m2023-11-15 09:26:07,200 sagemaker.remote_function INFO     Successfully installed accelerate-0.24.1 bitsandbytes-0.41.2.post2 brotli-1.1.0 huggingface-hub-0.17.3 inflate64-1.0.0 multivolumefile-0.2.3 peft-0.6.2 py7zr-0.20.8 pybcj-1.0.2 pycryptodomex-3.19.0 pyppmd-1.1.0 pyzstd-0.15.9 safetensors-0.4.0 texttable-1.7.0 tokenizers-0.14.1 transformers-4.35.1\u001B[0m\n",
      "\u001B[34m2023-11-15 09:26:07,598 sagemaker.remote_function WARNING  WARNING: Running pip as the 'root' user can result in broken permissions and conflicting behaviour with the system package manager. It is recommended to use a virtual environment instead: https://pip.pypa.io/warnings/venv\u001B[0m\n",
      "\u001B[34m2023-11-15 09:26:07,598 sagemaker.remote_function WARNING  \u001B[0m\n",
      "\u001B[34m2023-11-15 09:26:07,598 sagemaker.remote_function WARNING  [notice] A new release of pip is available: 23.1.2 -> 23.3.1\u001B[0m\n",
      "\u001B[34m2023-11-15 09:26:07,599 sagemaker.remote_function WARNING  [notice] To update, run: pip install --upgrade pip\u001B[0m\n",
      "\u001B[34m2023-11-15 09:26:07,599 sagemaker.remote_function INFO     Command /opt/conda/bin/python -m pip install -r /sagemaker_remote_function_workspace/requirements.txt ran successfully\u001B[0m\n",
      "\u001B[34mINFO: Changing workspace to sagemaker_remote_function_workspace.\u001B[0m\n",
      "\u001B[34mINFO: No conda env provided. Invoking remote function\u001B[0m\n",
      "\u001B[34m2023-11-15 09:26:08,577 sagemaker.remote_function INFO     Deserializing function code from s3://sagemaker-eu-west-1-691148928602/train-fn-2023-11-15-09-18-31-794/function\u001B[0m\n",
      "\u001B[34m2023-11-15 09:26:11,180 sagemaker.remote_function INFO     Deserializing function arguments from s3://sagemaker-eu-west-1-691148928602/train-fn-2023-11-15-09-18-31-794/arguments\u001B[0m\n",
      "\u001B[34m2023-11-15 09:26:11,493 sagemaker.remote_function INFO     Invoking the function\u001B[0m\n",
      "\u001B[34mTotal number of train samples: 4\u001B[0m\n",
      "\u001B[34m#015Map:   0%|          | 0/5 [00:00<?, ? examples/s]#015                                                 #015#015Map:   0%|          | 0/5 [00:00<?, ? examples/s]#015                                                 #015#015Downloading (…)lve/main/config.json:   0%|          | 0.00/571 [00:00<?, ?B/s]#015Downloading (…)lve/main/config.json: 100%|██████████| 571/571 [00:00<00:00, 7.04MB/s]\u001B[0m\n",
      "\u001B[34m#015Downloading (…)model.bin.index.json:   0%|          | 0.00/23.9k [00:00<?, ?B/s]#015Downloading (…)model.bin.index.json: 100%|██████████| 23.9k/23.9k [00:00<00:00, 173MB/s]\u001B[0m\n",
      "\u001B[34m#015Downloading shards:   0%|          | 0/2 [00:00<?, ?it/s]\u001B[0m\n",
      "\u001B[34m#015Downloading (…)l-00001-of-00002.bin:   0%|          | 0.00/9.94G [00:00<?, ?B/s]#033[A\u001B[0m\n",
      "\u001B[34m#015Downloading (…)l-00001-of-00002.bin:   1%|          | 52.4M/9.94G [00:00<00:22, 443MB/s]#033[A\u001B[0m\n",
      "\u001B[34m#015Downloading (…)l-00001-of-00002.bin:   1%|          | 105M/9.94G [00:00<00:20, 479MB/s] #033[A\u001B[0m\n",
      "\u001B[34m#015Downloading (…)l-00001-of-00002.bin:   2%|▏         | 157M/9.94G [00:00<00:20, 474MB/s]#033[A\u001B[0m\n",
      "\u001B[34m#015Downloading (…)l-00001-of-00002.bin:   2%|▏         | 210M/9.94G [00:00<00:20, 468MB/s]#033[A\u001B[0m\n",
      "\u001B[34m#015Downloading (…)l-00001-of-00002.bin:   3%|▎         | 262M/9.94G [00:00<00:20, 469MB/s]#033[A\u001B[0m\n",
      "\u001B[34m#015Downloading (…)l-00001-of-00002.bin:   3%|▎         | 315M/9.94G [00:00<00:20, 479MB/s]#033[A\u001B[0m\n",
      "\u001B[34m#015Downloading (…)l-00001-of-00002.bin:   4%|▎         | 367M/9.94G [00:00<00:20, 462MB/s]#033[A\u001B[0m\n",
      "\u001B[34m#015Downloading (…)l-00001-of-00002.bin:   4%|▍         | 419M/9.94G [00:00<00:20, 476MB/s]#033[A\u001B[0m\n",
      "\u001B[34m#015Downloading (…)l-00001-of-00002.bin:   5%|▍         | 472M/9.94G [00:00<00:19, 488MB/s]#033[A\u001B[0m\n",
      "\u001B[34m#015Downloading (…)l-00001-of-00002.bin:   5%|▌         | 524M/9.94G [00:01<00:19, 494MB/s]#033[A\u001B[0m\n",
      "\u001B[34m#015Downloading (…)l-00001-of-00002.bin:   6%|▌         | 577M/9.94G [00:01<00:19, 482MB/s]#033[A\u001B[0m\n",
      "\u001B[34m#015Downloading (…)l-00001-of-00002.bin:   6%|▋         | 629M/9.94G [00:01<00:19, 474MB/s]#033[A\u001B[0m\n",
      "\u001B[34m#015Downloading (…)l-00001-of-00002.bin:   7%|▋         | 682M/9.94G [00:01<00:19, 482MB/s]#033[A\u001B[0m\n",
      "\u001B[34m#015Downloading (…)l-00001-of-00002.bin:   7%|▋         | 734M/9.94G [00:01<00:18, 491MB/s]#033[A\u001B[0m\n",
      "\u001B[34m#015Downloading (…)l-00001-of-00002.bin:   8%|▊         | 786M/9.94G [00:01<00:18, 483MB/s]#033[A\u001B[0m\n",
      "\u001B[34m#015Downloading (…)l-00001-of-00002.bin:   8%|▊         | 839M/9.94G [00:01<00:19, 479MB/s]#033[A\u001B[0m\n",
      "\u001B[34m#015Downloading (…)l-00001-of-00002.bin:   9%|▉         | 891M/9.94G [00:01<00:18, 489MB/s]#033[A\u001B[0m\n",
      "\u001B[34m#015Downloading (…)l-00001-of-00002.bin:   9%|▉         | 944M/9.94G [00:01<00:18, 474MB/s]#033[A\u001B[0m\n",
      "\u001B[34m#015Downloading (…)l-00001-of-00002.bin:  10%|█         | 996M/9.94G [00:02<00:18, 471MB/s]#033[A\u001B[0m\n",
      "\u001B[34m#015Downloading (…)l-00001-of-00002.bin:  11%|█         | 1.05G/9.94G [00:02<00:19, 453MB/s]#033[A\u001B[0m\n",
      "\u001B[34m#015Downloading (…)l-00001-of-00002.bin:  11%|█         | 1.10G/9.94G [00:02<00:18, 468MB/s]#033[A\u001B[0m\n",
      "\u001B[34m#015Downloading (…)l-00001-of-00002.bin:  12%|█▏        | 1.15G/9.94G [00:02<00:18, 463MB/s]#033[A\u001B[0m\n",
      "\u001B[34m#015Downloading (…)l-00001-of-00002.bin:  12%|█▏        | 1.21G/9.94G [00:02<00:19, 449MB/s]#033[A\u001B[0m\n",
      "\u001B[34m#015Downloading (…)l-00001-of-00002.bin:  13%|█▎        | 1.26G/9.94G [00:02<00:19, 447MB/s]#033[A\u001B[0m\n",
      "\u001B[34m#015Downloading (…)l-00001-of-00002.bin:  13%|█▎        | 1.31G/9.94G [00:02<00:18, 464MB/s]#033[A\u001B[0m\n",
      "\u001B[34m#015Downloading (…)l-00001-of-00002.bin:  14%|█▎        | 1.36G/9.94G [00:02<00:18, 465MB/s]#033[A\u001B[0m\n",
      "\u001B[34m#015Downloading (…)l-00001-of-00002.bin:  14%|█▍        | 1.42G/9.94G [00:03<00:18, 459MB/s]#033[A\u001B[0m\n",
      "\u001B[34m#015Downloading (…)l-00001-of-00002.bin:  15%|█▍        | 1.47G/9.94G [00:03<00:19, 433MB/s]#033[A\u001B[0m\n",
      "\u001B[34m#015Downloading (…)l-00001-of-00002.bin:  15%|█▌        | 1.52G/9.94G [00:03<00:20, 417MB/s]#033[A\u001B[0m\n",
      "\u001B[34m#015Downloading (…)l-00001-of-00002.bin:  16%|█▌        | 1.57G/9.94G [00:03<00:19, 429MB/s]#033[A\u001B[0m\n",
      "\u001B[34m#015Downloading (…)l-00001-of-00002.bin:  16%|█▋        | 1.63G/9.94G [00:03<00:20, 405MB/s]#033[A\u001B[0m\n",
      "\u001B[34m#015Downloading (…)l-00001-of-00002.bin:  17%|█▋        | 1.68G/9.94G [00:03<00:19, 424MB/s]#033[A\u001B[0m\n",
      "\u001B[34m#015Downloading (…)l-00001-of-00002.bin:  17%|█▋        | 1.73G/9.94G [00:03<00:18, 433MB/s]#033[A\u001B[0m\n",
      "\u001B[34m#015Downloading (…)l-00001-of-00002.bin:  18%|█▊        | 1.78G/9.94G [00:03<00:18, 449MB/s]#033[A\u001B[0m\n",
      "\u001B[34m#015Downloading (…)l-00001-of-00002.bin:  18%|█▊        | 1.84G/9.94G [00:03<00:17, 467MB/s]#033[A\u001B[0m\n",
      "\u001B[34m#015Downloading (…)l-00001-of-00002.bin:  19%|█▉        | 1.89G/9.94G [00:04<00:18, 432MB/s]#033[A\u001B[0m\n",
      "\u001B[34m#015Downloading (…)l-00001-of-00002.bin:  20%|█▉        | 1.94G/9.94G [00:04<00:18, 437MB/s]#033[A\u001B[0m\n",
      "\u001B[34m#015Downloading (…)l-00001-of-00002.bin:  20%|██        | 1.99G/9.94G [00:04<00:17, 442MB/s]#033[A\u001B[0m\n",
      "\u001B[34m#015Downloading (…)l-00001-of-00002.bin:  21%|██        | 2.04G/9.94G [00:04<00:20, 393MB/s]#033[A\u001B[0m\n",
      "\u001B[34m#015Downloading (…)l-00001-of-00002.bin:  21%|██        | 2.10G/9.94G [00:04<00:19, 407MB/s]#033[A\u001B[0m\n",
      "\u001B[34m#015Downloading (…)l-00001-of-00002.bin:  22%|██▏       | 2.15G/9.94G [00:04<00:17, 433MB/s]#033[A\u001B[0m\n",
      "\u001B[34m#015Downloading (…)l-00001-of-00002.bin:  22%|██▏       | 2.20G/9.94G [00:04<00:17, 433MB/s]#033[A\u001B[0m\n",
      "\u001B[34m#015Downloading (…)l-00001-of-00002.bin:  23%|██▎       | 2.25G/9.94G [00:04<00:17, 451MB/s]#033[A\u001B[0m\n",
      "\u001B[34m#015Downloading (…)l-00001-of-00002.bin:  23%|██▎       | 2.31G/9.94G [00:05<00:16, 468MB/s]#033[A\u001B[0m\n",
      "\u001B[34m#015Downloading (…)l-00001-of-00002.bin:  24%|██▎       | 2.36G/9.94G [00:05<00:15, 481MB/s]#033[A\u001B[0m\n",
      "\u001B[34m#015Downloading (…)l-00001-of-00002.bin:  24%|██▍       | 2.41G/9.94G [00:05<00:15, 490MB/s]#033[A\u001B[0m\n",
      "\u001B[34m#015Downloading (…)l-00001-of-00002.bin:  25%|██▍       | 2.46G/9.94G [00:05<00:15, 497MB/s]#033[A\u001B[0m\n",
      "\u001B[34m#015Downloading (…)l-00001-of-00002.bin:  25%|██▌       | 2.52G/9.94G [00:05<00:15, 490MB/s]#033[A\u001B[0m\n",
      "\u001B[34m#015Downloading (…)l-00001-of-00002.bin:  26%|██▌       | 2.57G/9.94G [00:05<00:15, 470MB/s]#033[A\u001B[0m\n",
      "\u001B[34m#015Downloading (…)l-00001-of-00002.bin:  26%|██▋       | 2.62G/9.94G [00:05<00:15, 460MB/s]#033[A\u001B[0m\n",
      "\u001B[34m#015Downloading (…)l-00001-of-00002.bin:  27%|██▋       | 2.67G/9.94G [00:05<00:15, 468MB/s]#033[A\u001B[0m\n",
      "\u001B[34m#015Downloading (…)l-00001-of-00002.bin:  27%|██▋       | 2.73G/9.94G [00:05<00:15, 478MB/s]#033[A\u001B[0m\n",
      "\u001B[34m#015Downloading (…)l-00001-of-00002.bin:  28%|██▊       | 2.78G/9.94G [00:06<00:15, 470MB/s]#033[A\u001B[0m\n",
      "\u001B[34m#015Downloading (…)l-00001-of-00002.bin:  28%|██▊       | 2.83G/9.94G [00:06<00:15, 453MB/s]#033[A\u001B[0m\n",
      "\u001B[34m#015Downloading (…)l-00001-of-00002.bin:  29%|██▉       | 2.88G/9.94G [00:06<00:16, 418MB/s]#033[A\u001B[0m\n",
      "\u001B[34m#015Downloading (…)l-00001-of-00002.bin:  30%|██▉       | 2.94G/9.94G [00:06<00:16, 414MB/s]#033[A\u001B[0m\n",
      "\u001B[34m#015Downloading (…)l-00001-of-00002.bin:  30%|███       | 2.99G/9.94G [00:06<00:16, 432MB/s]#033[A\u001B[0m\n",
      "\u001B[34m#015Downloading (…)l-00001-of-00002.bin:  31%|███       | 3.04G/9.94G [00:06<00:15, 440MB/s]#033[A\u001B[0m\n",
      "\u001B[34m#015Downloading (…)l-00001-of-00002.bin:  31%|███       | 3.09G/9.94G [00:06<00:15, 454MB/s]#033[A\u001B[0m\n",
      "\u001B[34m#015Downloading (…)l-00001-of-00002.bin:  32%|███▏      | 3.15G/9.94G [00:06<00:14, 470MB/s]#033[A\u001B[0m\n",
      "\u001B[34m#015Downloading (…)l-00001-of-00002.bin:  32%|███▏      | 3.20G/9.94G [00:06<00:14, 481MB/s]#033[A\u001B[0m\n",
      "\u001B[34m#015Downloading (…)l-00001-of-00002.bin:  33%|███▎      | 3.25G/9.94G [00:07<00:13, 489MB/s]#033[A\u001B[0m\n",
      "\u001B[34m#015Downloading (…)l-00001-of-00002.bin:  33%|███▎      | 3.30G/9.94G [00:07<00:13, 496MB/s]#033[A\u001B[0m\n",
      "\u001B[34m#015Downloading (…)l-00001-of-00002.bin:  34%|███▎      | 3.36G/9.94G [00:07<00:13, 502MB/s]#033[A\u001B[0m\n",
      "\u001B[34m#015Downloading (…)l-00001-of-00002.bin:  34%|███▍      | 3.41G/9.94G [00:07<00:12, 507MB/s]#033[A\u001B[0m\n",
      "\u001B[34m#015Downloading (…)l-00001-of-00002.bin:  35%|███▍      | 3.46G/9.94G [00:07<00:15, 429MB/s]#033[A\u001B[0m\n",
      "\u001B[34m#015Downloading (…)l-00001-of-00002.bin:  35%|███▌      | 3.51G/9.94G [00:07<00:15, 426MB/s]#033[A\u001B[0m\n",
      "\u001B[34m#015Downloading (…)l-00001-of-00002.bin:  36%|███▌      | 3.57G/9.94G [00:07<00:14, 446MB/s]#033[A\u001B[0m\n",
      "\u001B[34m#015Downloading (…)l-00001-of-00002.bin:  36%|███▋      | 3.62G/9.94G [00:07<00:13, 465MB/s]#033[A\u001B[0m\n",
      "\u001B[34m#015Downloading (…)l-00001-of-00002.bin:  37%|███▋      | 3.67G/9.94G [00:08<00:13, 478MB/s]#033[A\u001B[0m\n",
      "\u001B[34m#015Downloading (…)l-00001-of-00002.bin:  37%|███▋      | 3.72G/9.94G [00:08<00:12, 489MB/s]#033[A\u001B[0m\n",
      "\u001B[34m#015Downloading (…)l-00001-of-00002.bin:  38%|███▊      | 3.77G/9.94G [00:08<00:12, 497MB/s]#033[A\u001B[0m\n",
      "\u001B[34m#015Downloading (…)l-00001-of-00002.bin:  38%|███▊      | 3.83G/9.94G [00:08<00:12, 475MB/s]#033[A\u001B[0m\n",
      "\u001B[34m#015Downloading (…)l-00001-of-00002.bin:  39%|███▉      | 3.88G/9.94G [00:08<00:13, 466MB/s]#033[A\u001B[0m\n",
      "\u001B[34m#015Downloading (…)l-00001-of-00002.bin:  40%|███▉      | 3.93G/9.94G [00:08<00:12, 473MB/s]#033[A\u001B[0m\n",
      "\u001B[34m#015Downloading (…)l-00001-of-00002.bin:  40%|████      | 3.98G/9.94G [00:08<00:12, 475MB/s]#033[A\u001B[0m\n",
      "\u001B[34m#015Downloading (…)l-00001-of-00002.bin:  41%|████      | 4.04G/9.94G [00:08<00:12, 477MB/s]#033[A\u001B[0m\n",
      "\u001B[34m#015Downloading (…)l-00001-of-00002.bin:  41%|████      | 4.09G/9.94G [00:08<00:12, 464MB/s]#033[A\u001B[0m\n",
      "\u001B[34m#015Downloading (…)l-00001-of-00002.bin:  42%|████▏     | 4.14G/9.94G [00:09<00:12, 463MB/s]#033[A\u001B[0m\n",
      "\u001B[34m#015Downloading (…)l-00001-of-00002.bin:  42%|████▏     | 4.19G/9.94G [00:09<00:12, 460MB/s]#033[A\u001B[0m\n",
      "\u001B[34m#015Downloading (…)l-00001-of-00002.bin:  43%|████▎     | 4.25G/9.94G [00:09<00:11, 475MB/s]#033[A\u001B[0m\n",
      "\u001B[34m#015Downloading (…)l-00001-of-00002.bin:  43%|████▎     | 4.30G/9.94G [00:09<00:11, 471MB/s]#033[A\u001B[0m\n",
      "\u001B[34m#015Downloading (…)l-00001-of-00002.bin:  44%|████▍     | 4.35G/9.94G [00:09<00:11, 472MB/s]#033[A\u001B[0m\n",
      "\u001B[34m#015Downloading (…)l-00001-of-00002.bin:  44%|████▍     | 4.40G/9.94G [00:09<00:11, 478MB/s]#033[A\u001B[0m\n",
      "\u001B[34m#015Downloading (…)l-00001-of-00002.bin:  45%|████▍     | 4.46G/9.94G [00:09<00:11, 471MB/s]#033[A\u001B[0m\n",
      "\u001B[34m#015Downloading (…)l-00001-of-00002.bin:  45%|████▌     | 4.51G/9.94G [00:09<00:11, 482MB/s]#033[A\u001B[0m\n",
      "\u001B[34m#015Downloading (…)l-00001-of-00002.bin:  46%|████▌     | 4.56G/9.94G [00:09<00:12, 436MB/s]#033[A\u001B[0m\n",
      "\u001B[34m#015Downloading (…)l-00001-of-00002.bin:  46%|████▋     | 4.61G/9.94G [00:10<00:12, 420MB/s]#033[A\u001B[0m\n",
      "\u001B[34m#015Downloading (…)l-00001-of-00002.bin:  47%|████▋     | 4.67G/9.94G [00:10<00:12, 409MB/s]#033[A\u001B[0m\n",
      "\u001B[34m#015Downloading (…)l-00001-of-00002.bin:  47%|████▋     | 4.71G/9.94G [00:10<00:12, 406MB/s]#033[A\u001B[0m\n",
      "\u001B[34m#015Downloading (…)l-00001-of-00002.bin:  48%|████▊     | 4.75G/9.94G [00:10<00:13, 383MB/s]#033[A\u001B[0m\n",
      "\u001B[34m#015Downloading (…)l-00001-of-00002.bin:  48%|████▊     | 4.80G/9.94G [00:10<00:13, 394MB/s]#033[A\u001B[0m\n",
      "\u001B[34m#015Downloading (…)l-00001-of-00002.bin:  49%|████▉     | 4.85G/9.94G [00:10<00:12, 411MB/s]#033[A\u001B[0m\n",
      "\u001B[34m#015Downloading (…)l-00001-of-00002.bin:  49%|████▉     | 4.90G/9.94G [00:10<00:13, 386MB/s]#033[A\u001B[0m\n",
      "\u001B[34m#015Downloading (…)l-00001-of-00002.bin:  50%|████▉     | 4.94G/9.94G [00:10<00:12, 394MB/s]#033[A\u001B[0m\n",
      "\u001B[34m#015Downloading (…)l-00001-of-00002.bin:  50%|█████     | 4.98G/9.94G [00:11<00:13, 378MB/s]#033[A\u001B[0m\n",
      "\u001B[34m#015Downloading (…)l-00001-of-00002.bin:  51%|█████     | 5.02G/9.94G [00:11<00:14, 340MB/s]#033[A\u001B[0m\n",
      "\u001B[34m#015Downloading (…)l-00001-of-00002.bin:  51%|█████     | 5.06G/9.94G [00:11<00:14, 343MB/s]#033[A\u001B[0m\n",
      "\u001B[34m#015Downloading (…)l-00001-of-00002.bin:  51%|█████▏    | 5.11G/9.94G [00:11<00:14, 327MB/s]#033[A\u001B[0m\n",
      "\u001B[34m#015Downloading (…)l-00001-of-00002.bin:  52%|█████▏    | 5.15G/9.94G [00:11<00:14, 329MB/s]#033[A\u001B[0m\n",
      "\u001B[34m#015Downloading (…)l-00001-of-00002.bin:  52%|█████▏    | 5.20G/9.94G [00:11<00:12, 368MB/s]#033[A\u001B[0m\n",
      "\u001B[34m#015Downloading (…)l-00001-of-00002.bin:  53%|█████▎    | 5.25G/9.94G [00:11<00:11, 405MB/s]#033[A\u001B[0m\n",
      "\u001B[34m#015Downloading (…)l-00001-of-00002.bin:  53%|█████▎    | 5.30G/9.94G [00:11<00:11, 395MB/s]#033[A\u001B[0m\n",
      "\u001B[34m#015Downloading (…)l-00001-of-00002.bin:  54%|█████▍    | 5.35G/9.94G [00:11<00:10, 420MB/s]#033[A\u001B[0m\n",
      "\u001B[34m#015Downloading (…)l-00001-of-00002.bin:  54%|█████▍    | 5.40G/9.94G [00:12<00:11, 391MB/s]#033[A\u001B[0m\n",
      "\u001B[34m#015Downloading (…)l-00001-of-00002.bin:  55%|█████▍    | 5.44G/9.94G [00:12<00:11, 386MB/s]#033[A\u001B[0m\n",
      "\u001B[34m#015Downloading (…)l-00001-of-00002.bin:  55%|█████▌    | 5.48G/9.94G [00:12<00:11, 390MB/s]#033[A\u001B[0m\n",
      "\u001B[34m#015Downloading (…)l-00001-of-00002.bin:  56%|█████▌    | 5.53G/9.94G [00:12<00:11, 384MB/s]#033[A\u001B[0m\n",
      "\u001B[34m#015Downloading (…)l-00001-of-00002.bin:  56%|█████▌    | 5.57G/9.94G [00:12<00:11, 377MB/s]#033[A\u001B[0m\n",
      "\u001B[34m#015Downloading (…)l-00001-of-00002.bin:  56%|█████▋    | 5.61G/9.94G [00:12<00:11, 384MB/s]#033[A\u001B[0m\n",
      "\u001B[34m#015Downloading (…)l-00001-of-00002.bin:  57%|█████▋    | 5.65G/9.94G [00:12<00:11, 384MB/s]#033[A\u001B[0m\n",
      "\u001B[34m#015Downloading (…)l-00001-of-00002.bin:  57%|█████▋    | 5.70G/9.94G [00:12<00:10, 403MB/s]#033[A\u001B[0m\n",
      "\u001B[34m#015Downloading (…)l-00001-of-00002.bin:  58%|█████▊    | 5.75G/9.94G [00:13<00:10, 396MB/s]#033[A\u001B[0m\n",
      "\u001B[34m#015Downloading (…)l-00001-of-00002.bin:  58%|█████▊    | 5.80G/9.94G [00:13<00:09, 417MB/s]#033[A\u001B[0m\n",
      "\u001B[34m#015Downloading (…)l-00001-of-00002.bin:  59%|█████▊    | 5.84G/9.94G [00:13<00:10, 404MB/s]#033[A\u001B[0m\n",
      "\u001B[34m#015Downloading (…)l-00001-of-00002.bin:  59%|█████▉    | 5.88G/9.94G [00:13<00:09, 408MB/s]#033[A\u001B[0m\n",
      "\u001B[34m#015Downloading (…)l-00001-of-00002.bin:  60%|█████▉    | 5.92G/9.94G [00:13<00:10, 379MB/s]#033[A\u001B[0m\n",
      "\u001B[34m#015Downloading (…)l-00001-of-00002.bin:  60%|██████    | 5.97G/9.94G [00:13<00:10, 369MB/s]#033[A\u001B[0m\n",
      "\u001B[34m#015Downloading (…)l-00001-of-00002.bin:  60%|██████    | 6.01G/9.94G [00:13<00:10, 378MB/s]#033[A\u001B[0m\n",
      "\u001B[34m#015Downloading (…)l-00001-of-00002.bin:  61%|██████    | 6.05G/9.94G [00:13<00:10, 383MB/s]#033[A\u001B[0m\n",
      "\u001B[34m#015Downloading (…)l-00001-of-00002.bin:  61%|██████▏   | 6.10G/9.94G [00:13<00:09, 415MB/s]#033[A\u001B[0m\n",
      "\u001B[34m#015Downloading (…)l-00001-of-00002.bin:  62%|██████▏   | 6.16G/9.94G [00:14<00:09, 420MB/s]#033[A\u001B[0m\n",
      "\u001B[34m#015Downloading (…)l-00001-of-00002.bin:  62%|██████▏   | 6.21G/9.94G [00:14<00:09, 414MB/s]#033[A\u001B[0m\n",
      "\u001B[34m#015Downloading (…)l-00001-of-00002.bin:  63%|██████▎   | 6.26G/9.94G [00:14<00:08, 438MB/s]#033[A\u001B[0m\n",
      "\u001B[34m#015Downloading (…)l-00001-of-00002.bin:  63%|██████▎   | 6.31G/9.94G [00:14<00:07, 459MB/s]#033[A\u001B[0m\n",
      "\u001B[34m#015Downloading (…)l-00001-of-00002.bin:  64%|██████▍   | 6.36G/9.94G [00:14<00:07, 466MB/s]#033[A\u001B[0m\n",
      "\u001B[34m#015Downloading (…)l-00001-of-00002.bin:  65%|██████▍   | 6.42G/9.94G [00:14<00:07, 455MB/s]#033[A\u001B[0m\n",
      "\u001B[34m#015Downloading (…)l-00001-of-00002.bin:  65%|██████▌   | 6.47G/9.94G [00:14<00:07, 460MB/s]#033[A\u001B[0m\n",
      "\u001B[34m#015Downloading (…)l-00001-of-00002.bin:  66%|██████▌   | 6.52G/9.94G [00:14<00:07, 473MB/s]#033[A\u001B[0m\n",
      "\u001B[34m#015Downloading (…)l-00001-of-00002.bin:  66%|██████▌   | 6.57G/9.94G [00:14<00:07, 481MB/s]#033[A\u001B[0m\n",
      "\u001B[34m#015Downloading (…)l-00001-of-00002.bin:  67%|██████▋   | 6.63G/9.94G [00:15<00:06, 480MB/s]#033[A\u001B[0m\n",
      "\u001B[34m#015Downloading (…)l-00001-of-00002.bin:  67%|██████▋   | 6.68G/9.94G [00:15<00:06, 473MB/s]#033[A\u001B[0m\n",
      "\u001B[34m#015Downloading (…)l-00001-of-00002.bin:  68%|██████▊   | 6.73G/9.94G [00:15<00:06, 475MB/s]#033[A\u001B[0m\n",
      "\u001B[34m#015Downloading (…)l-00001-of-00002.bin:  68%|██████▊   | 6.78G/9.94G [00:15<00:06, 457MB/s]#033[A\u001B[0m\n",
      "\u001B[34m#015Downloading (…)l-00001-of-00002.bin:  69%|██████▉   | 6.84G/9.94G [00:15<00:07, 432MB/s]#033[A\u001B[0m\n",
      "\u001B[34m#015Downloading (…)l-00001-of-00002.bin:  69%|██████▉   | 6.89G/9.94G [00:15<00:07, 431MB/s]#033[A\u001B[0m\n",
      "\u001B[34m#015Downloading (…)l-00001-of-00002.bin:  70%|██████▉   | 6.94G/9.94G [00:15<00:07, 426MB/s]#033[A\u001B[0m\n",
      "\u001B[34m#015Downloading (…)l-00001-of-00002.bin:  70%|███████   | 6.99G/9.94G [00:15<00:06, 445MB/s]#033[A\u001B[0m\n",
      "\u001B[34m#015Downloading (…)l-00001-of-00002.bin:  71%|███████   | 7.05G/9.94G [00:15<00:06, 462MB/s]#033[A\u001B[0m\n",
      "\u001B[34m#015Downloading (…)l-00001-of-00002.bin:  71%|███████▏  | 7.10G/9.94G [00:16<00:06, 408MB/s]#033[A\u001B[0m\n",
      "\u001B[34m#015Downloading (…)l-00001-of-00002.bin:  72%|███████▏  | 7.15G/9.94G [00:16<00:06, 403MB/s]#033[A\u001B[0m\n",
      "\u001B[34m#015Downloading (…)l-00001-of-00002.bin:  72%|███████▏  | 7.19G/9.94G [00:16<00:07, 389MB/s]#033[A\u001B[0m\n",
      "\u001B[34m#015Downloading (…)l-00001-of-00002.bin:  73%|███████▎  | 7.25G/9.94G [00:16<00:06, 408MB/s]#033[A\u001B[0m\n",
      "\u001B[34m#015Downloading (…)l-00001-of-00002.bin:  73%|███████▎  | 7.29G/9.94G [00:16<00:06, 399MB/s]#033[A\u001B[0m\n",
      "\u001B[34m#015Downloading (…)l-00001-of-00002.bin:  74%|███████▎  | 7.33G/9.94G [00:16<00:06, 395MB/s]#033[A\u001B[0m\n",
      "\u001B[34m#015Downloading (…)l-00001-of-00002.bin:  74%|███████▍  | 7.37G/9.94G [00:16<00:06, 401MB/s]#033[A\u001B[0m\n",
      "\u001B[34m#015Downloading (…)l-00001-of-00002.bin:  75%|███████▍  | 7.41G/9.94G [00:16<00:06, 380MB/s]#033[A\u001B[0m\n",
      "\u001B[34m#015Downloading (…)l-00001-of-00002.bin:  75%|███████▌  | 7.47G/9.94G [00:17<00:06, 398MB/s]#033[A\u001B[0m\n",
      "\u001B[34m#015Downloading (…)l-00001-of-00002.bin:  76%|███████▌  | 7.52G/9.94G [00:17<00:05, 416MB/s]#033[A\u001B[0m\n",
      "\u001B[34m#015Downloading (…)l-00001-of-00002.bin:  76%|███████▌  | 7.57G/9.94G [00:17<00:05, 440MB/s]#033[A\u001B[0m\n",
      "\u001B[34m#015Downloading (…)l-00001-of-00002.bin:  77%|███████▋  | 7.62G/9.94G [00:17<00:05, 438MB/s]#033[A\u001B[0m\n",
      "\u001B[34m#015Downloading (…)l-00001-of-00002.bin:  77%|███████▋  | 7.68G/9.94G [00:17<00:05, 448MB/s]#033[A\u001B[0m\n",
      "\u001B[34m#015Downloading (…)l-00001-of-00002.bin:  78%|███████▊  | 7.73G/9.94G [00:17<00:05, 436MB/s]#033[A\u001B[0m\n",
      "\u001B[34m#015Downloading (…)l-00001-of-00002.bin:  78%|███████▊  | 7.78G/9.94G [00:17<00:04, 454MB/s]#033[A\u001B[0m\n",
      "\u001B[34m#015Downloading (…)l-00001-of-00002.bin:  79%|███████▉  | 7.83G/9.94G [00:17<00:04, 467MB/s]#033[A\u001B[0m\n",
      "\u001B[34m#015Downloading (…)l-00001-of-00002.bin:  79%|███████▉  | 7.89G/9.94G [00:17<00:04, 465MB/s]#033[A\u001B[0m\n",
      "\u001B[34m#015Downloading (…)l-00001-of-00002.bin:  80%|███████▉  | 7.94G/9.94G [00:18<00:04, 451MB/s]#033[A\u001B[0m\n",
      "\u001B[34m#015Downloading (…)l-00001-of-00002.bin:  80%|████████  | 7.99G/9.94G [00:18<00:04, 444MB/s]#033[A\u001B[0m\n",
      "\u001B[34m#015Downloading (…)l-00001-of-00002.bin:  81%|████████  | 8.04G/9.94G [00:18<00:04, 447MB/s]#033[A\u001B[0m\n",
      "\u001B[34m#015Downloading (…)l-00001-of-00002.bin:  81%|████████▏ | 8.10G/9.94G [00:18<00:04, 460MB/s]#033[A\u001B[0m\n",
      "\u001B[34m#015Downloading (…)l-00001-of-00002.bin:  82%|████████▏ | 8.15G/9.94G [00:18<00:03, 454MB/s]#033[A\u001B[0m\n",
      "\u001B[34m#015Downloading (…)l-00001-of-00002.bin:  82%|████████▏ | 8.20G/9.94G [00:18<00:03, 445MB/s]#033[A\u001B[0m\n",
      "\u001B[34m#015Downloading (…)l-00001-of-00002.bin:  83%|████████▎ | 8.25G/9.94G [00:18<00:04, 417MB/s]#033[A\u001B[0m\n",
      "\u001B[34m#015Downloading (…)l-00001-of-00002.bin:  84%|████████▎ | 8.30G/9.94G [00:19<00:05, 301MB/s]#033[A\u001B[0m\n",
      "\u001B[34m#015Downloading (…)l-00001-of-00002.bin:  84%|████████▍ | 8.35G/9.94G [00:19<00:05, 311MB/s]#033[A\u001B[0m\n",
      "\u001B[34m#015Downloading (…)l-00001-of-00002.bin:  84%|████████▍ | 8.39G/9.94G [00:19<00:05, 309MB/s]#033[A\u001B[0m\n",
      "\u001B[34m#015Downloading (…)l-00001-of-00002.bin:  85%|████████▍ | 8.43G/9.94G [00:19<00:04, 326MB/s]#033[A\u001B[0m\n",
      "\u001B[34m#015Downloading (…)l-00001-of-00002.bin:  85%|████████▌ | 8.48G/9.94G [00:19<00:04, 353MB/s]#033[A\u001B[0m\n",
      "\u001B[34m#015Downloading (…)l-00001-of-00002.bin:  86%|████████▌ | 8.54G/9.94G [00:19<00:03, 377MB/s]#033[A\u001B[0m\n",
      "\u001B[34m#015Downloading (…)l-00001-of-00002.bin:  86%|████████▋ | 8.59G/9.94G [00:19<00:03, 388MB/s]#033[A\u001B[0m\n",
      "\u001B[34m#015Downloading (…)l-00001-of-00002.bin:  87%|████████▋ | 8.63G/9.94G [00:19<00:03, 381MB/s]#033[A\u001B[0m\n",
      "\u001B[34m#015Downloading (…)l-00001-of-00002.bin:  87%|████████▋ | 8.68G/9.94G [00:20<00:03, 412MB/s]#033[A\u001B[0m\n",
      "\u001B[34m#015Downloading (…)l-00001-of-00002.bin:  88%|████████▊ | 8.73G/9.94G [00:20<00:02, 438MB/s]#033[A\u001B[0m\n",
      "\u001B[34m#015Downloading (…)l-00001-of-00002.bin:  88%|████████▊ | 8.79G/9.94G [00:20<00:02, 431MB/s]#033[A\u001B[0m\n",
      "\u001B[34m#015Downloading (…)l-00001-of-00002.bin:  89%|████████▉ | 8.84G/9.94G [00:20<00:02, 405MB/s]#033[A\u001B[0m\n",
      "\u001B[34m#015Downloading (…)l-00001-of-00002.bin:  89%|████████▉ | 8.88G/9.94G [00:20<00:02, 394MB/s]#033[A\u001B[0m\n",
      "\u001B[34m#015Downloading (…)l-00001-of-00002.bin:  90%|████████▉ | 8.93G/9.94G [00:20<00:02, 401MB/s]#033[A\u001B[0m\n",
      "\u001B[34m#015Downloading (…)l-00001-of-00002.bin:  90%|█████████ | 8.98G/9.94G [00:20<00:02, 405MB/s]#033[A\u001B[0m\n",
      "\u001B[34m#015Downloading (…)l-00001-of-00002.bin:  91%|█████████ | 9.02G/9.94G [00:20<00:02, 406MB/s]#033[A\u001B[0m\n",
      "\u001B[34m#015Downloading (…)l-00001-of-00002.bin:  91%|█████████ | 9.06G/9.94G [00:21<00:02, 406MB/s]#033[A\u001B[0m\n",
      "\u001B[34m#015Downloading (…)l-00001-of-00002.bin:  92%|█████████▏| 9.11G/9.94G [00:21<00:01, 421MB/s]#033[A\u001B[0m\n",
      "\u001B[34m#015Downloading (…)l-00001-of-00002.bin:  92%|█████████▏| 9.16G/9.94G [00:21<00:01, 416MB/s]#033[A\u001B[0m\n",
      "\u001B[34m#015Downloading (…)l-00001-of-00002.bin:  93%|█████████▎| 9.21G/9.94G [00:21<00:01, 416MB/s]#033[A\u001B[0m\n",
      "\u001B[34m#015Downloading (…)l-00001-of-00002.bin:  93%|█████████▎| 9.25G/9.94G [00:21<00:02, 273MB/s]#033[A\u001B[0m\n",
      "\u001B[34m#015Downloading (…)l-00001-of-00002.bin:  93%|█████████▎| 9.29G/9.94G [00:21<00:02, 293MB/s]#033[A\u001B[0m\n",
      "\u001B[34m#015Downloading (…)l-00001-of-00002.bin:  94%|█████████▍| 9.33G/9.94G [00:21<00:01, 316MB/s]#033[A\u001B[0m\n",
      "\u001B[34m#015Downloading (…)l-00001-of-00002.bin:  94%|█████████▍| 9.38G/9.94G [00:21<00:01, 352MB/s]#033[A\u001B[0m\n",
      "\u001B[34m#015Downloading (…)l-00001-of-00002.bin:  95%|█████████▍| 9.43G/9.94G [00:22<00:01, 368MB/s]#033[A\u001B[0m\n",
      "\u001B[34m#015Downloading (…)l-00001-of-00002.bin:  95%|█████████▌| 9.48G/9.94G [00:22<00:01, 393MB/s]#033[A\u001B[0m\n",
      "\u001B[34m#015Downloading (…)l-00001-of-00002.bin:  96%|█████████▌| 9.53G/9.94G [00:22<00:00, 416MB/s]#033[A\u001B[0m\n",
      "\u001B[34m#015Downloading (…)l-00001-of-00002.bin:  96%|█████████▋| 9.58G/9.94G [00:22<00:00, 442MB/s]#033[A\u001B[0m\n",
      "\u001B[34m#015Downloading (…)l-00001-of-00002.bin:  97%|█████████▋| 9.64G/9.94G [00:22<00:00, 424MB/s]#033[A\u001B[0m\n",
      "\u001B[34m#015Downloading (…)l-00001-of-00002.bin:  97%|█████████▋| 9.69G/9.94G [00:22<00:00, 437MB/s]#033[A\u001B[0m\n",
      "\u001B[34m#015Downloading (…)l-00001-of-00002.bin:  98%|█████████▊| 9.74G/9.94G [00:22<00:00, 452MB/s]#033[A\u001B[0m\n",
      "\u001B[34m#015Downloading (…)l-00001-of-00002.bin:  98%|█████████▊| 9.79G/9.94G [00:22<00:00, 447MB/s]#033[A\u001B[0m\n",
      "\u001B[34m#015Downloading (…)l-00001-of-00002.bin:  99%|█████████▉| 9.85G/9.94G [00:23<00:00, 440MB/s]#033[A\u001B[0m\n",
      "\u001B[34m#015Downloading (…)l-00001-of-00002.bin: 100%|█████████▉| 9.90G/9.94G [00:23<00:00, 366MB/s]#033[A\u001B[0m\n",
      "\u001B[34m#015Downloading (…)l-00001-of-00002.bin: 100%|█████████▉| 9.94G/9.94G [00:23<00:00, 358MB/s]#033[A#015Downloading (…)l-00001-of-00002.bin: 100%|██████████| 9.94G/9.94G [00:23<00:00, 426MB/s]\u001B[0m\n",
      "\u001B[34m#015Downloading shards:  50%|█████     | 1/2 [00:23<00:23, 23.47s/it]\u001B[0m\n",
      "\u001B[34m#015Downloading (…)l-00002-of-00002.bin:   0%|          | 0.00/5.06G [00:00<?, ?B/s]#033[A\u001B[0m\n",
      "\u001B[34m#015Downloading (…)l-00002-of-00002.bin:   0%|          | 10.5M/5.06G [00:00<01:02, 80.3MB/s]#033[A\u001B[0m\n",
      "\u001B[34m#015Downloading (…)l-00002-of-00002.bin:   1%|          | 31.5M/5.06G [00:00<00:36, 138MB/s] #033[A\u001B[0m\n",
      "\u001B[34m#015Downloading (…)l-00002-of-00002.bin:   2%|▏         | 83.9M/5.06G [00:00<00:18, 263MB/s]#033[A\u001B[0m\n",
      "\u001B[34m#015Downloading (…)l-00002-of-00002.bin:   3%|▎         | 136M/5.06G [00:00<00:14, 343MB/s] #033[A\u001B[0m\n",
      "\u001B[34m#015Downloading (…)l-00002-of-00002.bin:   4%|▎         | 178M/5.06G [00:00<00:13, 363MB/s]#033[A\u001B[0m\n",
      "\u001B[34m#015Downloading (…)l-00002-of-00002.bin:   4%|▍         | 220M/5.06G [00:00<00:12, 374MB/s]#033[A\u001B[0m\n",
      "\u001B[34m#015Downloading (…)l-00002-of-00002.bin:   5%|▌         | 273M/5.06G [00:00<00:12, 393MB/s]#033[A\u001B[0m\n",
      "\u001B[34m#015Downloading (…)l-00002-of-00002.bin:   6%|▌         | 315M/5.06G [00:00<00:11, 401MB/s]#033[A\u001B[0m\n",
      "\u001B[34m#015Downloading (…)l-00002-of-00002.bin:   7%|▋         | 357M/5.06G [00:01<00:13, 346MB/s]#033[A\u001B[0m\n",
      "\u001B[34m#015Downloading (…)l-00002-of-00002.bin:   8%|▊         | 398M/5.06G [00:01<00:13, 356MB/s]#033[A\u001B[0m\n",
      "\u001B[34m#015Downloading (…)l-00002-of-00002.bin:   9%|▉         | 451M/5.06G [00:01<00:12, 382MB/s]#033[A\u001B[0m\n",
      "\u001B[34m#015Downloading (…)l-00002-of-00002.bin:  10%|▉         | 503M/5.06G [00:01<00:11, 408MB/s]#033[A\u001B[0m\n",
      "\u001B[34m#015Downloading (…)l-00002-of-00002.bin:  11%|█         | 556M/5.06G [00:01<00:10, 415MB/s]#033[A\u001B[0m\n",
      "\u001B[34m#015Downloading (…)l-00002-of-00002.bin:  12%|█▏        | 608M/5.06G [00:01<00:10, 424MB/s]#033[A\u001B[0m\n",
      "\u001B[34m#015Downloading (…)l-00002-of-00002.bin:  13%|█▎        | 661M/5.06G [00:01<00:09, 446MB/s]#033[A\u001B[0m\n",
      "\u001B[34m#015Downloading (…)l-00002-of-00002.bin:  14%|█▍        | 713M/5.06G [00:01<00:09, 465MB/s]#033[A\u001B[0m\n",
      "\u001B[34m#015Downloading (…)l-00002-of-00002.bin:  15%|█▌        | 765M/5.06G [00:01<00:08, 480MB/s]#033[A\u001B[0m\n",
      "\u001B[34m#015Downloading (…)l-00002-of-00002.bin:  16%|█▌        | 818M/5.06G [00:02<00:09, 468MB/s]#033[A\u001B[0m\n",
      "\u001B[34m#015Downloading (…)l-00002-of-00002.bin:  17%|█▋        | 870M/5.06G [00:02<00:09, 462MB/s]#033[A\u001B[0m\n",
      "\u001B[34m#015Downloading (…)l-00002-of-00002.bin:  18%|█▊        | 923M/5.06G [00:02<00:08, 465MB/s]#033[A\u001B[0m\n",
      "\u001B[34m#015Downloading (…)l-00002-of-00002.bin:  19%|█▉        | 975M/5.06G [00:02<00:08, 478MB/s]#033[A\u001B[0m\n",
      "\u001B[34m#015Downloading (…)l-00002-of-00002.bin:  20%|██        | 1.03G/5.06G [00:02<00:08, 488MB/s]#033[A\u001B[0m\n",
      "\u001B[34m#015Downloading (…)l-00002-of-00002.bin:  21%|██▏       | 1.08G/5.06G [00:02<00:08, 497MB/s]#033[A\u001B[0m\n",
      "\u001B[34m#015Downloading (…)l-00002-of-00002.bin:  22%|██▏       | 1.13G/5.06G [00:02<00:07, 494MB/s]#033[A\u001B[0m\n",
      "\u001B[34m#015Downloading (…)l-00002-of-00002.bin:  23%|██▎       | 1.18G/5.06G [00:02<00:07, 498MB/s]#033[A\u001B[0m\n",
      "\u001B[34m#015Downloading (…)l-00002-of-00002.bin:  24%|██▍       | 1.24G/5.06G [00:02<00:07, 502MB/s]#033[A\u001B[0m\n",
      "\u001B[34m#015Downloading (…)l-00002-of-00002.bin:  25%|██▌       | 1.29G/5.06G [00:03<00:07, 506MB/s]#033[A\u001B[0m\n",
      "\u001B[34m#015Downloading (…)l-00002-of-00002.bin:  26%|██▋       | 1.34G/5.06G [00:03<00:07, 492MB/s]#033[A\u001B[0m\n",
      "\u001B[34m#015Downloading (…)l-00002-of-00002.bin:  28%|██▊       | 1.39G/5.06G [00:03<00:07, 484MB/s]#033[A\u001B[0m\n",
      "\u001B[34m#015Downloading (…)l-00002-of-00002.bin:  29%|██▊       | 1.45G/5.06G [00:03<00:07, 482MB/s]#033[A\u001B[0m\n",
      "\u001B[34m#015Downloading (…)l-00002-of-00002.bin:  30%|██▉       | 1.50G/5.06G [00:03<00:08, 420MB/s]#033[A\u001B[0m\n",
      "\u001B[34m#015Downloading (…)l-00002-of-00002.bin:  31%|███       | 1.55G/5.06G [00:03<00:08, 399MB/s]#033[A\u001B[0m\n",
      "\u001B[34m#015Downloading (…)l-00002-of-00002.bin:  32%|███▏      | 1.60G/5.06G [00:03<00:08, 412MB/s]#033[A\u001B[0m\n",
      "\u001B[34m#015Downloading (…)l-00002-of-00002.bin:  33%|███▎      | 1.66G/5.06G [00:03<00:07, 430MB/s]#033[A\u001B[0m\n",
      "\u001B[34m#015Downloading (…)l-00002-of-00002.bin:  34%|███▎      | 1.71G/5.06G [00:04<00:07, 437MB/s]#033[A\u001B[0m\n",
      "\u001B[34m#015Downloading (…)l-00002-of-00002.bin:  35%|███▍      | 1.76G/5.06G [00:04<00:07, 450MB/s]#033[A\u001B[0m\n",
      "\u001B[34m#015Downloading (…)l-00002-of-00002.bin:  36%|███▌      | 1.81G/5.06G [00:04<00:07, 435MB/s]#033[A\u001B[0m\n",
      "\u001B[34m#015Downloading (…)l-00002-of-00002.bin:  37%|███▋      | 1.87G/5.06G [00:04<00:07, 434MB/s]#033[A\u001B[0m\n",
      "\u001B[34m#015Downloading (…)l-00002-of-00002.bin:  38%|███▊      | 1.92G/5.06G [00:04<00:07, 448MB/s]#033[A\u001B[0m\n",
      "\u001B[34m#015Downloading (…)l-00002-of-00002.bin:  39%|███▉      | 1.97G/5.06G [00:04<00:06, 455MB/s]#033[A\u001B[0m\n",
      "\u001B[34m#015Downloading (…)l-00002-of-00002.bin:  40%|███▉      | 2.02G/5.06G [00:04<00:06, 468MB/s]#033[A\u001B[0m\n",
      "\u001B[34m#015Downloading (…)l-00002-of-00002.bin:  41%|████      | 2.08G/5.06G [00:04<00:06, 457MB/s]#033[A\u001B[0m\n",
      "\u001B[34m#015Downloading (…)l-00002-of-00002.bin:  42%|████▏     | 2.13G/5.06G [00:04<00:06, 472MB/s]#033[A\u001B[0m\n",
      "\u001B[34m#015Downloading (…)l-00002-of-00002.bin:  43%|████▎     | 2.18G/5.06G [00:05<00:06, 440MB/s]#033[A\u001B[0m\n",
      "\u001B[34m#015Downloading (…)l-00002-of-00002.bin:  44%|████▍     | 2.23G/5.06G [00:05<00:06, 456MB/s]#033[A\u001B[0m\n",
      "\u001B[34m#015Downloading (…)l-00002-of-00002.bin:  45%|████▌     | 2.29G/5.06G [00:05<00:05, 468MB/s]#033[A\u001B[0m\n",
      "\u001B[34m#015Downloading (…)l-00002-of-00002.bin:  46%|████▌     | 2.34G/5.06G [00:05<00:06, 440MB/s]#033[A\u001B[0m\n",
      "\u001B[34m#015Downloading (…)l-00002-of-00002.bin:  47%|████▋     | 2.39G/5.06G [00:05<00:06, 440MB/s]#033[A\u001B[0m\n",
      "\u001B[34m#015Downloading (…)l-00002-of-00002.bin:  48%|████▊     | 2.44G/5.06G [00:05<00:06, 424MB/s]#033[A\u001B[0m\n",
      "\u001B[34m#015Downloading (…)l-00002-of-00002.bin:  49%|████▉     | 2.50G/5.06G [00:05<00:05, 433MB/s]#033[A\u001B[0m\n",
      "\u001B[34m#015Downloading (…)l-00002-of-00002.bin:  50%|█████     | 2.55G/5.06G [00:05<00:05, 449MB/s]#033[A\u001B[0m\n",
      "\u001B[34m#015Downloading (…)l-00002-of-00002.bin:  51%|█████▏    | 2.60G/5.06G [00:05<00:05, 454MB/s]#033[A\u001B[0m\n",
      "\u001B[34m#015Downloading (…)l-00002-of-00002.bin:  52%|█████▏    | 2.65G/5.06G [00:06<00:05, 449MB/s]#033[A\u001B[0m\n",
      "\u001B[34m#015Downloading (…)l-00002-of-00002.bin:  53%|█████▎    | 2.71G/5.06G [00:06<00:05, 438MB/s]#033[A\u001B[0m\n",
      "\u001B[34m#015Downloading (…)l-00002-of-00002.bin:  54%|█████▍    | 2.76G/5.06G [00:06<00:05, 439MB/s]#033[A\u001B[0m\n",
      "\u001B[34m#015Downloading (…)l-00002-of-00002.bin:  55%|█████▌    | 2.81G/5.06G [00:06<00:05, 444MB/s]#033[A\u001B[0m\n",
      "\u001B[34m#015Downloading (…)l-00002-of-00002.bin:  57%|█████▋    | 2.86G/5.06G [00:06<00:04, 455MB/s]#033[A\u001B[0m\n",
      "\u001B[34m#015Downloading (…)l-00002-of-00002.bin:  58%|█████▊    | 2.92G/5.06G [00:06<00:04, 470MB/s]#033[A\u001B[0m\n",
      "\u001B[34m#015Downloading (…)l-00002-of-00002.bin:  59%|█████▊    | 2.97G/5.06G [00:06<00:04, 480MB/s]#033[A\u001B[0m\n",
      "\u001B[34m#015Downloading (…)l-00002-of-00002.bin:  60%|█████▉    | 3.02G/5.06G [00:06<00:04, 488MB/s]#033[A\u001B[0m\n",
      "\u001B[34m#015Downloading (…)l-00002-of-00002.bin:  61%|██████    | 3.07G/5.06G [00:07<00:04, 450MB/s]#033[A\u001B[0m\n",
      "\u001B[34m#015Downloading (…)l-00002-of-00002.bin:  62%|██████▏   | 3.12G/5.06G [00:07<00:04, 466MB/s]#033[A\u001B[0m\n",
      "\u001B[34m#015Downloading (…)l-00002-of-00002.bin:  63%|██████▎   | 3.18G/5.06G [00:07<00:03, 477MB/s]#033[A\u001B[0m\n",
      "\u001B[34m#015Downloading (…)l-00002-of-00002.bin:  64%|██████▍   | 3.23G/5.06G [00:07<00:04, 452MB/s]#033[A\u001B[0m\n",
      "\u001B[34m#015Downloading (…)l-00002-of-00002.bin:  65%|██████▍   | 3.28G/5.06G [00:07<00:03, 448MB/s]#033[A\u001B[0m\n",
      "\u001B[34m#015Downloading (…)l-00002-of-00002.bin:  66%|██████▌   | 3.33G/5.06G [00:07<00:03, 464MB/s]#033[A\u001B[0m\n",
      "\u001B[34m#015Downloading (…)l-00002-of-00002.bin:  67%|██████▋   | 3.39G/5.06G [00:07<00:03, 461MB/s]#033[A\u001B[0m\n",
      "\u001B[34m#015Downloading (…)l-00002-of-00002.bin:  68%|██████▊   | 3.44G/5.06G [00:07<00:03, 450MB/s]#033[A\u001B[0m\n",
      "\u001B[34m#015Downloading (…)l-00002-of-00002.bin:  69%|██████▉   | 3.49G/5.06G [00:07<00:03, 458MB/s]#033[A\u001B[0m\n",
      "\u001B[34m#015Downloading (…)l-00002-of-00002.bin:  70%|██████▉   | 3.54G/5.06G [00:08<00:03, 419MB/s]#033[A\u001B[0m\n",
      "\u001B[34m#015Downloading (…)l-00002-of-00002.bin:  71%|███████   | 3.60G/5.06G [00:08<00:03, 422MB/s]#033[A\u001B[0m\n",
      "\u001B[34m#015Downloading (…)l-00002-of-00002.bin:  72%|███████▏  | 3.65G/5.06G [00:08<00:03, 429MB/s]#033[A\u001B[0m\n",
      "\u001B[34m#015Downloading (…)l-00002-of-00002.bin:  73%|███████▎  | 3.70G/5.06G [00:08<00:03, 436MB/s]#033[A\u001B[0m\n",
      "\u001B[34m#015Downloading (…)l-00002-of-00002.bin:  74%|███████▍  | 3.75G/5.06G [00:08<00:03, 414MB/s]#033[A\u001B[0m\n",
      "\u001B[34m#015Downloading (…)l-00002-of-00002.bin:  75%|███████▌  | 3.81G/5.06G [00:08<00:03, 413MB/s]#033[A\u001B[0m\n",
      "\u001B[34m#015Downloading (…)l-00002-of-00002.bin:  76%|███████▌  | 3.86G/5.06G [00:08<00:02, 431MB/s]#033[A\u001B[0m\n",
      "\u001B[34m#015Downloading (…)l-00002-of-00002.bin:  77%|███████▋  | 3.91G/5.06G [00:08<00:02, 393MB/s]#033[A\u001B[0m\n",
      "\u001B[34m#015Downloading (…)l-00002-of-00002.bin:  78%|███████▊  | 3.95G/5.06G [00:09<00:02, 388MB/s]#033[A\u001B[0m\n",
      "\u001B[34m#015Downloading (…)l-00002-of-00002.bin:  79%|███████▉  | 4.00G/5.06G [00:09<00:02, 394MB/s]#033[A\u001B[0m\n",
      "\u001B[34m#015Downloading (…)l-00002-of-00002.bin:  80%|███████▉  | 4.05G/5.06G [00:09<00:02, 411MB/s]#033[A\u001B[0m\n",
      "\u001B[34m#015Downloading (…)l-00002-of-00002.bin:  81%|████████  | 4.10G/5.06G [00:09<00:02, 427MB/s]#033[A\u001B[0m\n",
      "\u001B[34m#015Downloading (…)l-00002-of-00002.bin:  82%|████████▏ | 4.15G/5.06G [00:09<00:02, 314MB/s]#033[A\u001B[0m\n",
      "\u001B[34m#015Downloading (…)l-00002-of-00002.bin:  83%|████████▎ | 4.19G/5.06G [00:09<00:02, 319MB/s]#033[A\u001B[0m\n",
      "\u001B[34m#015Downloading (…)l-00002-of-00002.bin:  84%|████████▍ | 4.25G/5.06G [00:09<00:02, 346MB/s]#033[A\u001B[0m\n",
      "\u001B[34m#015Downloading (…)l-00002-of-00002.bin:  85%|████████▍ | 4.30G/5.06G [00:10<00:02, 262MB/s]#033[A\u001B[0m\n",
      "\u001B[34m#015Downloading (…)l-00002-of-00002.bin:  86%|████████▌ | 4.33G/5.06G [00:10<00:03, 227MB/s]#033[A\u001B[0m\n",
      "\u001B[34m#015Downloading (…)l-00002-of-00002.bin:  86%|████████▋ | 4.37G/5.06G [00:10<00:02, 260MB/s]#033[A\u001B[0m\n",
      "\u001B[34m#015Downloading (…)l-00002-of-00002.bin:  87%|████████▋ | 4.41G/5.06G [00:10<00:02, 281MB/s]#033[A\u001B[0m\n",
      "\u001B[34m#015Downloading (…)l-00002-of-00002.bin:  88%|████████▊ | 4.46G/5.06G [00:10<00:01, 310MB/s]#033[A\u001B[0m\n",
      "\u001B[34m#015Downloading (…)l-00002-of-00002.bin:  89%|████████▉ | 4.50G/5.06G [00:10<00:01, 322MB/s]#033[A\u001B[0m\n",
      "\u001B[34m#015Downloading (…)l-00002-of-00002.bin:  90%|████████▉ | 4.55G/5.06G [00:11<00:01, 362MB/s]#033[A\u001B[0m\n",
      "\u001B[34m#015Downloading (…)l-00002-of-00002.bin:  91%|█████████ | 4.60G/5.06G [00:11<00:01, 392MB/s]#033[A\u001B[0m\n",
      "\u001B[34m#015Downloading (…)l-00002-of-00002.bin:  92%|█████████▏| 4.66G/5.06G [00:11<00:00, 415MB/s]#033[A\u001B[0m\n",
      "\u001B[34m#015Downloading (…)l-00002-of-00002.bin:  93%|█████████▎| 4.71G/5.06G [00:11<00:00, 440MB/s]#033[A\u001B[0m\n",
      "\u001B[34m#015Downloading (…)l-00002-of-00002.bin:  94%|█████████▍| 4.76G/5.06G [00:11<00:00, 459MB/s]#033[A\u001B[0m\n",
      "\u001B[34m#015Downloading (…)l-00002-of-00002.bin:  95%|█████████▌| 4.81G/5.06G [00:11<00:00, 473MB/s]#033[A\u001B[0m\n",
      "\u001B[34m#015Downloading (…)l-00002-of-00002.bin:  96%|█████████▌| 4.87G/5.06G [00:11<00:00, 460MB/s]#033[A\u001B[0m\n",
      "\u001B[34m#015Downloading (…)l-00002-of-00002.bin:  97%|█████████▋| 4.92G/5.06G [00:11<00:00, 448MB/s]#033[A\u001B[0m\n",
      "\u001B[34m#015Downloading (…)l-00002-of-00002.bin:  98%|█████████▊| 4.97G/5.06G [00:11<00:00, 431MB/s]#033[A\u001B[0m\n",
      "\u001B[34m#015Downloading (…)l-00002-of-00002.bin:  99%|█████████▉| 5.02G/5.06G [00:12<00:00, 401MB/s]#033[A#015Downloading (…)l-00002-of-00002.bin: 100%|██████████| 5.06G/5.06G [00:12<00:00, 416MB/s]\u001B[0m\n",
      "\u001B[34m#015Downloading shards: 100%|██████████| 2/2 [00:35<00:00, 16.88s/it]#015Downloading shards: 100%|██████████| 2/2 [00:35<00:00, 17.87s/it]\u001B[0m\n",
      "\u001B[34m#015Loading checkpoint shards:   0%|          | 0/2 [00:00<?, ?it/s]#015Loading checkpoint shards:  50%|█████     | 1/2 [00:05<00:05,  5.35s/it]#015Loading checkpoint shards: 100%|██████████| 2/2 [00:07<00:00,  3.73s/it]#015Loading checkpoint shards: 100%|██████████| 2/2 [00:07<00:00,  3.97s/it]\u001B[0m\n",
      "\u001B[34m#015Downloading (…)neration_config.json:   0%|          | 0.00/116 [00:00<?, ?B/s]#015Downloading (…)neration_config.json: 100%|██████████| 116/116 [00:00<00:00, 1.44MB/s]\u001B[0m\n",
      "\u001B[34mFound 7 modules to quantize: ['k_proj', 'v_proj', 'q_proj', 'up_proj', 'o_proj', 'gate_proj', 'down_proj']\u001B[0m\n",
      "\u001B[34mtrainable params: 167772160 || all params: 3919843328 || trainable%: 4.280073103982997\u001B[0m\n",
      "\u001B[34m#015  0%|          | 0/20 [00:00<?, ?it/s]You're using a LlamaTokenizerFast tokenizer. Please note that with a fast tokenizer, using the `__call__` method is faster than using a method to encode the text followed by a call to the `pad` method to get a padded encoding.\u001B[0m\n",
      "\u001B[34m{'loss': 1.6071, 'learning_rate': 0.00018, 'epoch': 1.0}\u001B[0m\n",
      "\u001B[34m{'loss': 1.3923, 'learning_rate': 0.00016, 'epoch': 2.0}\u001B[0m\n",
      "\u001B[34m{'loss': 1.226, 'learning_rate': 0.00014, 'epoch': 3.0}\u001B[0m\n",
      "\u001B[34m{'loss': 1.0508, 'learning_rate': 0.00012, 'epoch': 4.0}\u001B[0m\n",
      "\u001B[34m{'loss': 0.8978, 'learning_rate': 0.0001, 'epoch': 5.0}\u001B[0m\n",
      "\u001B[34m{'loss': 0.7549, 'learning_rate': 8e-05, 'epoch': 6.0}\u001B[0m\n",
      "\u001B[34m{'loss': 0.618, 'learning_rate': 6e-05, 'epoch': 7.0}\u001B[0m\n",
      "\u001B[34m{'loss': 0.5085, 'learning_rate': 4e-05, 'epoch': 8.0}\u001B[0m\n",
      "\u001B[34m{'loss': 0.4182, 'learning_rate': 2e-05, 'epoch': 9.0}\u001B[0m\n",
      "\u001B[34m{'loss': 0.3596, 'learning_rate': 0.0, 'epoch': 10.0}\u001B[0m\n",
      "\u001B[34m{'train_runtime': 171.8812, 'train_samples_per_second': 0.233, 'train_steps_per_second': 0.116, 'train_loss': 0.8833251059055328, 'epoch': 10.0}\u001B[0m\n",
      "\u001B[34m#015  5%|▌         | 1/20 [00:08<02:49,  8.94s/it]#015 10%|█         | 2/20 [00:17<02:36,  8.72s/it]#015                                              #015#015 10%|█         | 2/20 [00:17<02:36,  8.72s/it]#015 15%|█▌        | 3/20 [00:26<02:27,  8.66s/it]#015 20%|██        | 4/20 [00:34<02:17,  8.62s/it]#015                                              #015#015 20%|██        | 4/20 [00:34<02:17,  8.62s/it]#015 25%|██▌       | 5/20 [00:43<02:09,  8.61s/it]#015 30%|███       | 6/20 [00:51<02:00,  8.59s/it]#015                                              #015#015 30%|███       | 6/20 [00:51<02:00,  8.59s/it]#015 35%|███▌      | 7/20 [01:00<01:51,  8.59s/it]#015 40%|████      | 8/20 [01:08<01:43,  8.58s/it]#015                                              #015#015 40%|████      | 8/20 [01:08<01:43,  8.58s/it]#015 45%|████▌     | 9/20 [01:17<01:34,  8.58s/it]#015 50%|█████     | 10/20 [01:26<01:25,  8.58s/it]#015                                               #015#015 50%|█████     | 10/20 [01:26<01:25,  8.58s/it]#015 55%|█████▌    | 11/20 [01:34<01:17,  8.58s/it]#015 60%|██████    | 12/20 [01:43<01:08,  8.58s/it]#015                                               #015#015 60%|██████    | 12/20 [01:43<01:08,  8.58s/it]#015 65%|██████▌   | 13/20 [01:51<01:00,  8.58s/it]#015 70%|███████   | 14/20 [02:00<00:51,  8.58s/it]#015                                               #015#015 70%|███████   | 14/20 [02:00<00:51,  8.58s/it]#015 75%|███████▌  | 15/20 [02:08<00:42,  8.58s/it]#015 80%|████████  | 16/20 [02:17<00:34,  8.58s/it]#015                                               #015#015 80%|████████  | 16/20 [02:17<00:34,  8.58s/it]#015 85%|████████▌ | 17/20 [02:26<00:25,  8.58s/it]#015 90%|█████████ | 18/20 [02:34<00:17,  8.57s/it]#015                                               #015#015 90%|█████████ | 18/20 [02:34<00:17,  8.57s/it]#015 95%|█████████▌| 19/20 [02:43<00:08,  8.58s/it]#015100%|██████████| 20/20 [02:51<00:00,  8.58s/it]#015                                               #015#015100%|██████████| 20/20 [02:51<00:00,  8.58s/it]#015                                               #015#015100%|██████████| 20/20 [02:51<00:00,  8.58s/it]#015100%|██████████| 20/20 [02:51<00:00,  8.59s/it]\u001B[0m\n",
      "\u001B[34m#015Loading checkpoint shards:   0%|          | 0/2 [00:00<?, ?it/s]#015Loading checkpoint shards:  50%|█████     | 1/2 [00:04<00:04,  4.13s/it]#015Loading checkpoint shards: 100%|██████████| 2/2 [00:06<00:00,  3.03s/it]#015Loading checkpoint shards: 100%|██████████| 2/2 [00:06<00:00,  3.20s/it]\u001B[0m\n",
      "\u001B[34m#015Downloading (…)okenizer_config.json:   0%|          | 0.00/1.47k [00:00<?, ?B/s]#015Downloading (…)okenizer_config.json: 100%|██████████| 1.47k/1.47k [00:00<00:00, 17.1MB/s]\u001B[0m\n",
      "\u001B[34m#015Downloading tokenizer.model:   0%|          | 0.00/493k [00:00<?, ?B/s]#015Downloading tokenizer.model: 100%|██████████| 493k/493k [00:00<00:00, 159MB/s]\u001B[0m\n",
      "\u001B[34m#015Downloading (…)/main/tokenizer.json:   0%|          | 0.00/1.80M [00:00<?, ?B/s]#015Downloading (…)/main/tokenizer.json: 100%|██████████| 1.80M/1.80M [00:00<00:00, 8.90MB/s]#015Downloading (…)/main/tokenizer.json: 100%|██████████| 1.80M/1.80M [00:00<00:00, 8.87MB/s]\u001B[0m\n",
      "\u001B[34m#015Downloading (…)cial_tokens_map.json:   0%|          | 0.00/72.0 [00:00<?, ?B/s]#015Downloading (…)cial_tokens_map.json: 100%|██████████| 72.0/72.0 [00:00<00:00, 1.00MB/s]\u001B[0m\n",
      "\u001B[34m2023-11-15 09:31:16,413 sagemaker.remote_function INFO     Serializing the function return and uploading to s3://sagemaker-eu-west-1-691148928602/train-fn-2023-11-15-09-18-31-794/results\u001B[0m\n",
      "\n",
      "2023-11-15 09:31:20 Uploading - Uploading generated training model\n",
      "2023-11-15 09:32:15 Completed - Training job completed\n",
      "Training seconds: 734\n",
      "Billable seconds: 734\n"
     ]
    },
    {
     "ename": "DeserializationError",
     "evalue": "Corrupt metadata file. SHA256 hash for the serialized data does not exist. Please make sure to install SageMaker SDK version >= 2.156.0 on the client side and try again.",
     "output_type": "error",
     "traceback": [
      "\u001B[0;31m---------------------------------------------------------------------------\u001B[0m",
      "\u001B[0;31mDeserializationError\u001B[0m                      Traceback (most recent call last)",
      "Cell \u001B[0;32mIn[10], line 1\u001B[0m\n\u001B[0;32m----> 1\u001B[0m \u001B[43mtrain_fn\u001B[49m\u001B[43m(\u001B[49m\n\u001B[1;32m      2\u001B[0m \u001B[43m    \u001B[49m\u001B[43mmodel_id\u001B[49m\u001B[43m,\u001B[49m\n\u001B[1;32m      3\u001B[0m \u001B[43m    \u001B[49m\u001B[43mtrain_dataset\u001B[49m\u001B[43m,\u001B[49m\n\u001B[1;32m      4\u001B[0m \u001B[43m    \u001B[49m\u001B[43mper_device_train_batch_size\u001B[49m\u001B[38;5;241;43m=\u001B[39;49m\u001B[38;5;241;43m2\u001B[39;49m\u001B[43m,\u001B[49m\n\u001B[1;32m      5\u001B[0m \u001B[43m    \u001B[49m\u001B[43mper_device_eval_batch_size\u001B[49m\u001B[38;5;241;43m=\u001B[39;49m\u001B[38;5;241;43m2\u001B[39;49m\u001B[43m,\u001B[49m\n\u001B[1;32m      6\u001B[0m \u001B[43m    \u001B[49m\u001B[43mnum_train_epochs\u001B[49m\u001B[38;5;241;43m=\u001B[39;49m\u001B[38;5;241;43m10\u001B[39;49m\u001B[43m,\u001B[49m\n\u001B[1;32m      7\u001B[0m \u001B[43m    \u001B[49m\u001B[43mchunk_size\u001B[49m\u001B[38;5;241;43m=\u001B[39;49m\u001B[38;5;241;43m2048\u001B[39;49m\u001B[43m,\u001B[49m\n\u001B[1;32m      8\u001B[0m \u001B[43m    \u001B[49m\u001B[43mmerge_weights\u001B[49m\u001B[38;5;241;43m=\u001B[39;49m\u001B[38;5;28;43;01mTrue\u001B[39;49;00m\n\u001B[1;32m      9\u001B[0m \u001B[43m)\u001B[49m\n",
      "File \u001B[0;32m~/miniforge3/envs/pathways/lib/python3.10/site-packages/sagemaker/remote_function/client.py:365\u001B[0m, in \u001B[0;36mremote.<locals>._remote.<locals>.wrapper\u001B[0;34m(*args, **kwargs)\u001B[0m\n\u001B[1;32m    360\u001B[0m     \u001B[38;5;28;01mraise\u001B[39;00m \u001B[38;5;167;01mTimeoutError\u001B[39;00m(\n\u001B[1;32m    361\u001B[0m         \u001B[38;5;124m\"\u001B[39m\u001B[38;5;124mJob for remote function timed out before reaching a termination status.\u001B[39m\u001B[38;5;124m\"\u001B[39m\n\u001B[1;32m    362\u001B[0m     )\n\u001B[1;32m    364\u001B[0m \u001B[38;5;28;01mif\u001B[39;00m job\u001B[38;5;241m.\u001B[39mdescribe()[\u001B[38;5;124m\"\u001B[39m\u001B[38;5;124mTrainingJobStatus\u001B[39m\u001B[38;5;124m\"\u001B[39m] \u001B[38;5;241m==\u001B[39m \u001B[38;5;124m\"\u001B[39m\u001B[38;5;124mCompleted\u001B[39m\u001B[38;5;124m\"\u001B[39m:\n\u001B[0;32m--> 365\u001B[0m     \u001B[38;5;28;01mreturn\u001B[39;00m \u001B[43mserialization\u001B[49m\u001B[38;5;241;43m.\u001B[39;49m\u001B[43mdeserialize_obj_from_s3\u001B[49m\u001B[43m(\u001B[49m\n\u001B[1;32m    366\u001B[0m \u001B[43m        \u001B[49m\u001B[43msagemaker_session\u001B[49m\u001B[38;5;241;43m=\u001B[39;49m\u001B[43mjob_settings\u001B[49m\u001B[38;5;241;43m.\u001B[39;49m\u001B[43msagemaker_session\u001B[49m\u001B[43m,\u001B[49m\n\u001B[1;32m    367\u001B[0m \u001B[43m        \u001B[49m\u001B[43ms3_uri\u001B[49m\u001B[38;5;241;43m=\u001B[39;49m\u001B[43ms3_path_join\u001B[49m\u001B[43m(\u001B[49m\u001B[43mjob_settings\u001B[49m\u001B[38;5;241;43m.\u001B[39;49m\u001B[43ms3_root_uri\u001B[49m\u001B[43m,\u001B[49m\u001B[43m \u001B[49m\u001B[43mjob\u001B[49m\u001B[38;5;241;43m.\u001B[39;49m\u001B[43mjob_name\u001B[49m\u001B[43m,\u001B[49m\u001B[43m \u001B[49m\u001B[43mRESULTS_FOLDER\u001B[49m\u001B[43m)\u001B[49m\u001B[43m,\u001B[49m\n\u001B[1;32m    368\u001B[0m \u001B[43m        \u001B[49m\u001B[43mhmac_key\u001B[49m\u001B[38;5;241;43m=\u001B[39;49m\u001B[43mjob\u001B[49m\u001B[38;5;241;43m.\u001B[39;49m\u001B[43mhmac_key\u001B[49m\u001B[43m,\u001B[49m\n\u001B[1;32m    369\u001B[0m \u001B[43m    \u001B[49m\u001B[43m)\u001B[49m\n\u001B[1;32m    371\u001B[0m \u001B[38;5;28;01mif\u001B[39;00m job\u001B[38;5;241m.\u001B[39mdescribe()[\u001B[38;5;124m\"\u001B[39m\u001B[38;5;124mTrainingJobStatus\u001B[39m\u001B[38;5;124m\"\u001B[39m] \u001B[38;5;241m==\u001B[39m \u001B[38;5;124m\"\u001B[39m\u001B[38;5;124mStopped\u001B[39m\u001B[38;5;124m\"\u001B[39m:\n\u001B[1;32m    372\u001B[0m     \u001B[38;5;28;01mraise\u001B[39;00m RemoteFunctionError(\u001B[38;5;124m\"\u001B[39m\u001B[38;5;124mJob for remote function has been aborted.\u001B[39m\u001B[38;5;124m\"\u001B[39m)\n",
      "File \u001B[0;32m~/miniforge3/envs/pathways/lib/python3.10/site-packages/sagemaker/remote_function/core/serialization.py:234\u001B[0m, in \u001B[0;36mdeserialize_obj_from_s3\u001B[0;34m(sagemaker_session, s3_uri, hmac_key)\u001B[0m\n\u001B[1;32m    220\u001B[0m \u001B[38;5;28;01mdef\u001B[39;00m \u001B[38;5;21mdeserialize_obj_from_s3\u001B[39m(sagemaker_session: Session, s3_uri: \u001B[38;5;28mstr\u001B[39m, hmac_key: \u001B[38;5;28mstr\u001B[39m) \u001B[38;5;241m-\u001B[39m\u001B[38;5;241m>\u001B[39m Any:\n\u001B[1;32m    221\u001B[0m \u001B[38;5;250m    \u001B[39m\u001B[38;5;124;03m\"\"\"Downloads from S3 and then deserializes data objects.\u001B[39;00m\n\u001B[1;32m    222\u001B[0m \n\u001B[1;32m    223\u001B[0m \u001B[38;5;124;03m    Args:\u001B[39;00m\n\u001B[0;32m   (...)\u001B[0m\n\u001B[1;32m    231\u001B[0m \u001B[38;5;124;03m        DeserializationError: when fail to serialize object to bytes.\u001B[39;00m\n\u001B[1;32m    232\u001B[0m \u001B[38;5;124;03m    \"\"\"\u001B[39;00m\n\u001B[0;32m--> 234\u001B[0m     metadata \u001B[38;5;241m=\u001B[39m \u001B[43m_MetaData\u001B[49m\u001B[38;5;241;43m.\u001B[39;49m\u001B[43mfrom_json\u001B[49m\u001B[43m(\u001B[49m\n\u001B[1;32m    235\u001B[0m \u001B[43m        \u001B[49m\u001B[43m_read_bytes_from_s3\u001B[49m\u001B[43m(\u001B[49m\u001B[38;5;124;43mf\u001B[39;49m\u001B[38;5;124;43m\"\u001B[39;49m\u001B[38;5;132;43;01m{\u001B[39;49;00m\u001B[43ms3_uri\u001B[49m\u001B[38;5;132;43;01m}\u001B[39;49;00m\u001B[38;5;124;43m/metadata.json\u001B[39;49m\u001B[38;5;124;43m\"\u001B[39;49m\u001B[43m,\u001B[49m\u001B[43m \u001B[49m\u001B[43msagemaker_session\u001B[49m\u001B[43m)\u001B[49m\n\u001B[1;32m    236\u001B[0m \u001B[43m    \u001B[49m\u001B[43m)\u001B[49m\n\u001B[1;32m    238\u001B[0m     bytes_to_deserialize \u001B[38;5;241m=\u001B[39m _read_bytes_from_s3(\u001B[38;5;124mf\u001B[39m\u001B[38;5;124m\"\u001B[39m\u001B[38;5;132;01m{\u001B[39;00ms3_uri\u001B[38;5;132;01m}\u001B[39;00m\u001B[38;5;124m/payload.pkl\u001B[39m\u001B[38;5;124m\"\u001B[39m, sagemaker_session)\n\u001B[1;32m    240\u001B[0m     _perform_integrity_check(\n\u001B[1;32m    241\u001B[0m         expected_hash_value\u001B[38;5;241m=\u001B[39mmetadata\u001B[38;5;241m.\u001B[39msha256_hash, secret_key\u001B[38;5;241m=\u001B[39mhmac_key, buffer\u001B[38;5;241m=\u001B[39mbytes_to_deserialize\n\u001B[1;32m    242\u001B[0m     )\n",
      "File \u001B[0;32m~/miniforge3/envs/pathways/lib/python3.10/site-packages/sagemaker/remote_function/core/serialization.py:64\u001B[0m, in \u001B[0;36m_MetaData.from_json\u001B[0;34m(s)\u001B[0m\n\u001B[1;32m     61\u001B[0m metadata\u001B[38;5;241m.\u001B[39mserialization_module \u001B[38;5;241m=\u001B[39m obj\u001B[38;5;241m.\u001B[39mget(\u001B[38;5;124m\"\u001B[39m\u001B[38;5;124mserialization_module\u001B[39m\u001B[38;5;124m\"\u001B[39m)\n\u001B[1;32m     63\u001B[0m \u001B[38;5;28;01mif\u001B[39;00m \u001B[38;5;129;01mnot\u001B[39;00m sha256_hash:\n\u001B[0;32m---> 64\u001B[0m     \u001B[38;5;28;01mraise\u001B[39;00m DeserializationError(\n\u001B[1;32m     65\u001B[0m         \u001B[38;5;124m\"\u001B[39m\u001B[38;5;124mCorrupt metadata file. SHA256 hash for the serialized data does not exist. \u001B[39m\u001B[38;5;124m\"\u001B[39m\n\u001B[1;32m     66\u001B[0m         \u001B[38;5;124m\"\u001B[39m\u001B[38;5;124mPlease make sure to install SageMaker SDK version >= 2.156.0 on the client side \u001B[39m\u001B[38;5;124m\"\u001B[39m\n\u001B[1;32m     67\u001B[0m         \u001B[38;5;124m\"\u001B[39m\u001B[38;5;124mand try again.\u001B[39m\u001B[38;5;124m\"\u001B[39m\n\u001B[1;32m     68\u001B[0m     )\n\u001B[1;32m     70\u001B[0m \u001B[38;5;28;01mif\u001B[39;00m \u001B[38;5;129;01mnot\u001B[39;00m (\n\u001B[1;32m     71\u001B[0m     metadata\u001B[38;5;241m.\u001B[39mversion \u001B[38;5;241m==\u001B[39m \u001B[38;5;124m\"\u001B[39m\u001B[38;5;124m2023-04-24\u001B[39m\u001B[38;5;124m\"\u001B[39m \u001B[38;5;129;01mand\u001B[39;00m metadata\u001B[38;5;241m.\u001B[39mserialization_module \u001B[38;5;241m==\u001B[39m \u001B[38;5;124m\"\u001B[39m\u001B[38;5;124mcloudpickle\u001B[39m\u001B[38;5;124m\"\u001B[39m\n\u001B[1;32m     72\u001B[0m ):\n\u001B[1;32m     73\u001B[0m     \u001B[38;5;28;01mraise\u001B[39;00m DeserializationError(\n\u001B[1;32m     74\u001B[0m         \u001B[38;5;124mf\u001B[39m\u001B[38;5;124m\"\u001B[39m\u001B[38;5;124mCorrupt metadata file. Serialization approach \u001B[39m\u001B[38;5;132;01m{\u001B[39;00ms\u001B[38;5;132;01m}\u001B[39;00m\u001B[38;5;124m is not supported.\u001B[39m\u001B[38;5;124m\"\u001B[39m\n\u001B[1;32m     75\u001B[0m     )\n",
      "\u001B[0;31mDeserializationError\u001B[0m: Corrupt metadata file. SHA256 hash for the serialized data does not exist. Please make sure to install SageMaker SDK version >= 2.156.0 on the client side and try again."
     ]
    }
   ],
   "source": [
    "train_fn(\n",
    "    model_id,\n",
    "    train_dataset,\n",
    "    per_device_train_batch_size=2,\n",
    "    per_device_eval_batch_size=2,\n",
    "    num_train_epochs=10,\n",
    "    chunk_size=2048,\n",
    "    merge_weights=True\n",
    ")"
   ]
  },
  {
   "cell_type": "markdown",
   "metadata": {
    "tags": []
   },
   "source": [
    "## Deploy Fine-Tuned model\n",
    "\n",
    "Note: Run `train_fn` with `merge_weights=True`"
   ]
  },
  {
   "cell_type": "code",
   "execution_count": 11,
   "outputs": [],
   "source": [
    "import json\n",
    "from sagemaker.huggingface import HuggingFaceModel, get_huggingface_llm_image_uri"
   ],
   "metadata": {
    "collapsed": false,
    "ExecuteTime": {
     "start_time": "2023-11-15T10:34:14.818082Z",
     "end_time": "2023-11-15T10:34:14.831875Z"
    }
   }
  },
  {
   "cell_type": "code",
   "execution_count": 12,
   "metadata": {
    "ExecuteTime": {
     "start_time": "2023-11-15T10:34:16.203174Z",
     "end_time": "2023-11-15T10:34:16.210552Z"
    },
    "collapsed": false,
    "jupyter": {
     "outputs_hidden": false
    },
    "tags": []
   },
   "outputs": [],
   "source": [
    "bucket_name = \"<S3_BUCKET>\"\n",
    "job_name = \"<JOB_NAME>\""
   ]
  },
  {
   "cell_type": "markdown",
   "source": [
    "### Inference configurations"
   ],
   "metadata": {
    "collapsed": false
   }
  },
  {
   "cell_type": "code",
   "execution_count": 13,
   "outputs": [],
   "source": [
    "instance_count = 1\n",
    "instance_type = \"ml.g5.12xlarge\"\n",
    "number_of_gpu = 4\n",
    "health_check_timeout = 300"
   ],
   "metadata": {
    "collapsed": false,
    "ExecuteTime": {
     "start_time": "2023-11-15T10:34:18.752965Z",
     "end_time": "2023-11-15T10:34:18.774042Z"
    }
   }
  },
  {
   "cell_type": "code",
   "execution_count": 14,
   "metadata": {
    "ExecuteTime": {
     "start_time": "2023-11-15T10:34:20.239657Z",
     "end_time": "2023-11-15T10:34:20.558146Z"
    },
    "collapsed": false,
    "jupyter": {
     "outputs_hidden": false
    },
    "tags": []
   },
   "outputs": [
    {
     "name": "stderr",
     "output_type": "stream",
     "text": [
      "INFO:botocore.credentials:Found credentials in shared credentials file: ~/.aws/credentials\n"
     ]
    },
    {
     "name": "stdout",
     "output_type": "stream",
     "text": [
      "sagemaker.config INFO - Not applying SDK defaults from location: /Library/Application Support/sagemaker/config.yaml\n",
      "sagemaker.config INFO - Fetched defaults config from location: /Users/bpistone/development/amazon/amazon-sagemaker-remote-decorator-generative-ai\n"
     ]
    },
    {
     "name": "stderr",
     "output_type": "stream",
     "text": [
      "INFO:sagemaker.image_uris:Defaulting to only available Python version: py39\n",
      "INFO:sagemaker.image_uris:Defaulting to only supported image scope: gpu.\n"
     ]
    },
    {
     "data": {
      "text/plain": "'763104351884.dkr.ecr.eu-west-1.amazonaws.com/huggingface-pytorch-tgi-inference:2.0.1-tgi1.1.0-gpu-py39-cu118-ubuntu20.04'"
     },
     "execution_count": 14,
     "metadata": {},
     "output_type": "execute_result"
    }
   ],
   "source": [
    "image_uri = get_huggingface_llm_image_uri(\n",
    "    \"huggingface\",\n",
    "    version=\"1.1.0\"\n",
    ")\n",
    "\n",
    "image_uri"
   ]
  },
  {
   "cell_type": "code",
   "execution_count": 15,
   "metadata": {
    "ExecuteTime": {
     "start_time": "2023-11-15T10:34:22.328448Z",
     "end_time": "2023-11-15T10:34:22.948510Z"
    },
    "collapsed": false,
    "jupyter": {
     "outputs_hidden": false
    },
    "tags": []
   },
   "outputs": [
    {
     "name": "stdout",
     "output_type": "stream",
     "text": [
      "sagemaker.config INFO - Not applying SDK defaults from location: /Library/Application Support/sagemaker/config.yaml\n",
      "sagemaker.config INFO - Fetched defaults config from location: /Users/bpistone/development/amazon/amazon-sagemaker-remote-decorator-generative-ai\n",
      "sagemaker.config INFO - Applied value from config key = SageMaker.Model.ExecutionRoleArn\n",
      "sagemaker.config INFO - Applied value from config key = SageMaker.Model.EnableNetworkIsolation\n"
     ]
    },
    {
     "name": "stderr",
     "output_type": "stream",
     "text": [
      "INFO:botocore.credentials:Found credentials in shared credentials file: ~/.aws/credentials\n"
     ]
    },
    {
     "name": "stdout",
     "output_type": "stream",
     "text": [
      "sagemaker.config INFO - Not applying SDK defaults from location: /Library/Application Support/sagemaker/config.yaml\n",
      "sagemaker.config INFO - Fetched defaults config from location: /Users/bpistone/development/amazon/amazon-sagemaker-remote-decorator-generative-ai\n"
     ]
    }
   ],
   "source": [
    "model = HuggingFaceModel(\n",
    "    image_uri=image_uri,\n",
    "    model_data=f\"s3://{bucket_name}/{job_name}/{job_name}/output/model.tar.gz\",\n",
    "    env={\n",
    "        'HF_MODEL_ID': \"/opt/ml/model\", # path to where sagemaker stores the model\n",
    "        'SM_NUM_GPUS': json.dumps(number_of_gpu), # Number of GPU used per replica\n",
    "    }\n",
    ")"
   ]
  },
  {
   "cell_type": "code",
   "execution_count": 16,
   "metadata": {
    "ExecuteTime": {
     "start_time": "2023-11-15T10:34:24.667691Z",
     "end_time": "2023-11-15T10:39:28.982268Z"
    },
    "collapsed": false,
    "jupyter": {
     "outputs_hidden": false
    },
    "tags": []
   },
   "outputs": [
    {
     "name": "stderr",
     "output_type": "stream",
     "text": [
      "INFO:sagemaker:Creating model with name: huggingface-pytorch-tgi-inference-2023-11-15-09-34-25-692\n",
      "INFO:sagemaker:Creating endpoint-config with name huggingface-pytorch-tgi-inference-2023-11-15-09-34-26-852\n",
      "INFO:sagemaker:Creating endpoint with name huggingface-pytorch-tgi-inference-2023-11-15-09-34-26-852\n"
     ]
    },
    {
     "name": "stdout",
     "output_type": "stream",
     "text": [
      "---------!"
     ]
    }
   ],
   "source": [
    "predictor = model.deploy(\n",
    "    initial_instance_count=instance_count,\n",
    "    instance_type=instance_type,\n",
    "    container_startup_health_check_timeout=health_check_timeout,\n",
    ")"
   ]
  },
  {
   "cell_type": "markdown",
   "source": [
    "### Predict"
   ],
   "metadata": {
    "collapsed": false
   }
  },
  {
   "cell_type": "code",
   "execution_count": 22,
   "outputs": [],
   "source": [
    "prompt = f\"\"\"\n",
    "<s>[INST]\n",
    "{{question}} \n",
    "[/INST]\n",
    "\"\"\""
   ],
   "metadata": {
    "collapsed": false,
    "ExecuteTime": {
     "start_time": "2023-11-15T10:46:48.352101Z",
     "end_time": "2023-11-15T10:46:48.356765Z"
    }
   }
  },
  {
   "cell_type": "code",
   "execution_count": 23,
   "metadata": {
    "ExecuteTime": {
     "start_time": "2023-11-15T10:46:49.444984Z",
     "end_time": "2023-11-15T10:47:01.284651Z"
    },
    "collapsed": false,
    "jupyter": {
     "outputs_hidden": false
    },
    "tags": []
   },
   "outputs": [
    {
     "data": {
      "text/plain": "[{'generated_text': 'Amazon Bedrock provides access to a range of foundation models from leading AI companies and research institutions, including Amazon, Anthropic, AI21 Labs, Cohere, Stability AI, and Meta. Here is a list of the foundation models available in Amazon Bedrock:\\n\\n* Amazon Titan (Fine-tuned for Amazon services)\\n* Amazon Titan (Fine-tuned for Dialogue Agents)\\n* Amazon Titan (Fine-tuned for Search)\\n* Amazon Titan (Fine-tuned for Text Classification)\\n* Amazon Titan (Fine-tuned for Question Answering)\\n* Anthropic Titan (Fine-tuned for Dialogue)\\n* AI21 Labs Llama 2 (Fine-tuned for Dialogue)\\n* Cohere Command (Fine-tuned for Dialogue)\\n* Cohere Bookkeeper (Fine-tuned for Dialogue)\\n* Cohere Jurassic (Fine-tuned for Dialogue)\\n* Cohere Clifford (Fine-tuned for Dialogue)\\n* Cohere Harmony (Fine-tuned for Dialogue)\\n* Cohere Diplomat (Fine-tuned for Dialogue)\\n* Cohere Art Museum (Fine-tuned for Dialogue)\\n* Cohere Bookworm (Fine-tuned for Dialogue)\\n* Cohere Clifford (Fine-tuned for Dialogue)\\n* Cohere Command (Fine-tuned for Dialogue)\\n* Cohere Harmony (Fine-tuned for Dialogue)\\n* Cohere Jurassic (Fine-tuned for Dialogue)\\n* Cohere Bookkeeper (Fine-tuned for Dialogue)\\n* Cohere Diplomat (Fine-tuned for Dialogue)\\n* Cohere Art Museum (Fine-tuned for Dialogue)\\n* Stability AI Stable Diffusion 2 (Text-to-Image)\\n* Stability AI Stable Diffusion 2 (Image-to-Text)\\n* Stability AI Stable Diffusion 2 (Text Embeddings)\\n* Stability AI Stable Diffusion 2 (Image Embeddings)\\n* Stability AI Stable Diffusion 2 (Text-to-Text Transfer Learning)\\n* Stability AI Stable Diffusion 2 (Image-to-Image Transfer Learning)\\n* Stability AI Stable Diffusion 2 (Text-to-Image Prompting)\\n* Stability AI Stable Diffusion 2 (Image-to-Text Prompting)\\n* Stability AI Stable Diffusion 2 (Text-to-Text Fine-tuning)\\n* Stability AI Stable Diffusion 2 (Image-to-Image Fine-tuning)\\n* Stability AI Stable Diffusion 2 (Text-to-Text Generation)\\n* Stability AI Stable Diffusion 2 (Image-to-Image Generation)\\n\\nNote that this is not an exhaustive list, and Amazon regularly adds new foundation models to Bedrock. You can check the Amazon Bedrock documentation for the most up-to-date list of available models.'}]"
     },
     "execution_count": 23,
     "metadata": {},
     "output_type": "execute_result"
    }
   ],
   "source": [
    "predictor.predict({\n",
    "\t\"inputs\": prompt.format(question=\"Which are the Foundation Models available in Amazon Bedrock?\"),\n",
    "    \"parameters\": {\n",
    "        \"max_new_tokens\": 2048 - len(prompt),\n",
    "        \"temperature\": 0.2,\n",
    "        \"top_p\": 0.9\n",
    "    }\n",
    "})"
   ]
  },
  {
   "cell_type": "markdown",
   "source": [
    "#### Delete Endpoint"
   ],
   "metadata": {
    "collapsed": false
   }
  },
  {
   "cell_type": "code",
   "execution_count": 24,
   "metadata": {
    "collapsed": false,
    "jupyter": {
     "outputs_hidden": false
    },
    "tags": [],
    "ExecuteTime": {
     "start_time": "2023-11-15T10:47:14.531342Z",
     "end_time": "2023-11-15T10:47:15.608041Z"
    }
   },
   "outputs": [
    {
     "name": "stderr",
     "output_type": "stream",
     "text": [
      "INFO:sagemaker:Deleting model with name: huggingface-pytorch-tgi-inference-2023-11-15-09-34-25-692\n",
      "INFO:sagemaker:Deleting endpoint configuration with name: huggingface-pytorch-tgi-inference-2023-11-15-09-34-26-852\n",
      "INFO:sagemaker:Deleting endpoint with name: huggingface-pytorch-tgi-inference-2023-11-15-09-34-26-852\n"
     ]
    }
   ],
   "source": [
    "predictor.delete_model()\n",
    "predictor.delete_endpoint(delete_endpoint_config=True)"
   ]
  }
 ],
 "metadata": {
  "availableInstances": [
   {
    "_defaultOrder": 0,
    "_isFastLaunch": true,
    "category": "General purpose",
    "gpuNum": 0,
    "hideHardwareSpecs": false,
    "memoryGiB": 4,
    "name": "ml.t3.medium",
    "vcpuNum": 2
   },
   {
    "_defaultOrder": 1,
    "_isFastLaunch": false,
    "category": "General purpose",
    "gpuNum": 0,
    "hideHardwareSpecs": false,
    "memoryGiB": 8,
    "name": "ml.t3.large",
    "vcpuNum": 2
   },
   {
    "_defaultOrder": 2,
    "_isFastLaunch": false,
    "category": "General purpose",
    "gpuNum": 0,
    "hideHardwareSpecs": false,
    "memoryGiB": 16,
    "name": "ml.t3.xlarge",
    "vcpuNum": 4
   },
   {
    "_defaultOrder": 3,
    "_isFastLaunch": false,
    "category": "General purpose",
    "gpuNum": 0,
    "hideHardwareSpecs": false,
    "memoryGiB": 32,
    "name": "ml.t3.2xlarge",
    "vcpuNum": 8
   },
   {
    "_defaultOrder": 4,
    "_isFastLaunch": true,
    "category": "General purpose",
    "gpuNum": 0,
    "hideHardwareSpecs": false,
    "memoryGiB": 8,
    "name": "ml.m5.large",
    "vcpuNum": 2
   },
   {
    "_defaultOrder": 5,
    "_isFastLaunch": false,
    "category": "General purpose",
    "gpuNum": 0,
    "hideHardwareSpecs": false,
    "memoryGiB": 16,
    "name": "ml.m5.xlarge",
    "vcpuNum": 4
   },
   {
    "_defaultOrder": 6,
    "_isFastLaunch": false,
    "category": "General purpose",
    "gpuNum": 0,
    "hideHardwareSpecs": false,
    "memoryGiB": 32,
    "name": "ml.m5.2xlarge",
    "vcpuNum": 8
   },
   {
    "_defaultOrder": 7,
    "_isFastLaunch": false,
    "category": "General purpose",
    "gpuNum": 0,
    "hideHardwareSpecs": false,
    "memoryGiB": 64,
    "name": "ml.m5.4xlarge",
    "vcpuNum": 16
   },
   {
    "_defaultOrder": 8,
    "_isFastLaunch": false,
    "category": "General purpose",
    "gpuNum": 0,
    "hideHardwareSpecs": false,
    "memoryGiB": 128,
    "name": "ml.m5.8xlarge",
    "vcpuNum": 32
   },
   {
    "_defaultOrder": 9,
    "_isFastLaunch": false,
    "category": "General purpose",
    "gpuNum": 0,
    "hideHardwareSpecs": false,
    "memoryGiB": 192,
    "name": "ml.m5.12xlarge",
    "vcpuNum": 48
   },
   {
    "_defaultOrder": 10,
    "_isFastLaunch": false,
    "category": "General purpose",
    "gpuNum": 0,
    "hideHardwareSpecs": false,
    "memoryGiB": 256,
    "name": "ml.m5.16xlarge",
    "vcpuNum": 64
   },
   {
    "_defaultOrder": 11,
    "_isFastLaunch": false,
    "category": "General purpose",
    "gpuNum": 0,
    "hideHardwareSpecs": false,
    "memoryGiB": 384,
    "name": "ml.m5.24xlarge",
    "vcpuNum": 96
   },
   {
    "_defaultOrder": 12,
    "_isFastLaunch": false,
    "category": "General purpose",
    "gpuNum": 0,
    "hideHardwareSpecs": false,
    "memoryGiB": 8,
    "name": "ml.m5d.large",
    "vcpuNum": 2
   },
   {
    "_defaultOrder": 13,
    "_isFastLaunch": false,
    "category": "General purpose",
    "gpuNum": 0,
    "hideHardwareSpecs": false,
    "memoryGiB": 16,
    "name": "ml.m5d.xlarge",
    "vcpuNum": 4
   },
   {
    "_defaultOrder": 14,
    "_isFastLaunch": false,
    "category": "General purpose",
    "gpuNum": 0,
    "hideHardwareSpecs": false,
    "memoryGiB": 32,
    "name": "ml.m5d.2xlarge",
    "vcpuNum": 8
   },
   {
    "_defaultOrder": 15,
    "_isFastLaunch": false,
    "category": "General purpose",
    "gpuNum": 0,
    "hideHardwareSpecs": false,
    "memoryGiB": 64,
    "name": "ml.m5d.4xlarge",
    "vcpuNum": 16
   },
   {
    "_defaultOrder": 16,
    "_isFastLaunch": false,
    "category": "General purpose",
    "gpuNum": 0,
    "hideHardwareSpecs": false,
    "memoryGiB": 128,
    "name": "ml.m5d.8xlarge",
    "vcpuNum": 32
   },
   {
    "_defaultOrder": 17,
    "_isFastLaunch": false,
    "category": "General purpose",
    "gpuNum": 0,
    "hideHardwareSpecs": false,
    "memoryGiB": 192,
    "name": "ml.m5d.12xlarge",
    "vcpuNum": 48
   },
   {
    "_defaultOrder": 18,
    "_isFastLaunch": false,
    "category": "General purpose",
    "gpuNum": 0,
    "hideHardwareSpecs": false,
    "memoryGiB": 256,
    "name": "ml.m5d.16xlarge",
    "vcpuNum": 64
   },
   {
    "_defaultOrder": 19,
    "_isFastLaunch": false,
    "category": "General purpose",
    "gpuNum": 0,
    "hideHardwareSpecs": false,
    "memoryGiB": 384,
    "name": "ml.m5d.24xlarge",
    "vcpuNum": 96
   },
   {
    "_defaultOrder": 20,
    "_isFastLaunch": false,
    "category": "General purpose",
    "gpuNum": 0,
    "hideHardwareSpecs": true,
    "memoryGiB": 0,
    "name": "ml.geospatial.interactive",
    "supportedImageNames": [
     "sagemaker-geospatial-v1-0"
    ],
    "vcpuNum": 0
   },
   {
    "_defaultOrder": 21,
    "_isFastLaunch": true,
    "category": "Compute optimized",
    "gpuNum": 0,
    "hideHardwareSpecs": false,
    "memoryGiB": 4,
    "name": "ml.c5.large",
    "vcpuNum": 2
   },
   {
    "_defaultOrder": 22,
    "_isFastLaunch": false,
    "category": "Compute optimized",
    "gpuNum": 0,
    "hideHardwareSpecs": false,
    "memoryGiB": 8,
    "name": "ml.c5.xlarge",
    "vcpuNum": 4
   },
   {
    "_defaultOrder": 23,
    "_isFastLaunch": false,
    "category": "Compute optimized",
    "gpuNum": 0,
    "hideHardwareSpecs": false,
    "memoryGiB": 16,
    "name": "ml.c5.2xlarge",
    "vcpuNum": 8
   },
   {
    "_defaultOrder": 24,
    "_isFastLaunch": false,
    "category": "Compute optimized",
    "gpuNum": 0,
    "hideHardwareSpecs": false,
    "memoryGiB": 32,
    "name": "ml.c5.4xlarge",
    "vcpuNum": 16
   },
   {
    "_defaultOrder": 25,
    "_isFastLaunch": false,
    "category": "Compute optimized",
    "gpuNum": 0,
    "hideHardwareSpecs": false,
    "memoryGiB": 72,
    "name": "ml.c5.9xlarge",
    "vcpuNum": 36
   },
   {
    "_defaultOrder": 26,
    "_isFastLaunch": false,
    "category": "Compute optimized",
    "gpuNum": 0,
    "hideHardwareSpecs": false,
    "memoryGiB": 96,
    "name": "ml.c5.12xlarge",
    "vcpuNum": 48
   },
   {
    "_defaultOrder": 27,
    "_isFastLaunch": false,
    "category": "Compute optimized",
    "gpuNum": 0,
    "hideHardwareSpecs": false,
    "memoryGiB": 144,
    "name": "ml.c5.18xlarge",
    "vcpuNum": 72
   },
   {
    "_defaultOrder": 28,
    "_isFastLaunch": false,
    "category": "Compute optimized",
    "gpuNum": 0,
    "hideHardwareSpecs": false,
    "memoryGiB": 192,
    "name": "ml.c5.24xlarge",
    "vcpuNum": 96
   },
   {
    "_defaultOrder": 29,
    "_isFastLaunch": true,
    "category": "Accelerated computing",
    "gpuNum": 1,
    "hideHardwareSpecs": false,
    "memoryGiB": 16,
    "name": "ml.g4dn.xlarge",
    "vcpuNum": 4
   },
   {
    "_defaultOrder": 30,
    "_isFastLaunch": false,
    "category": "Accelerated computing",
    "gpuNum": 1,
    "hideHardwareSpecs": false,
    "memoryGiB": 32,
    "name": "ml.g4dn.2xlarge",
    "vcpuNum": 8
   },
   {
    "_defaultOrder": 31,
    "_isFastLaunch": false,
    "category": "Accelerated computing",
    "gpuNum": 1,
    "hideHardwareSpecs": false,
    "memoryGiB": 64,
    "name": "ml.g4dn.4xlarge",
    "vcpuNum": 16
   },
   {
    "_defaultOrder": 32,
    "_isFastLaunch": false,
    "category": "Accelerated computing",
    "gpuNum": 1,
    "hideHardwareSpecs": false,
    "memoryGiB": 128,
    "name": "ml.g4dn.8xlarge",
    "vcpuNum": 32
   },
   {
    "_defaultOrder": 33,
    "_isFastLaunch": false,
    "category": "Accelerated computing",
    "gpuNum": 4,
    "hideHardwareSpecs": false,
    "memoryGiB": 192,
    "name": "ml.g4dn.12xlarge",
    "vcpuNum": 48
   },
   {
    "_defaultOrder": 34,
    "_isFastLaunch": false,
    "category": "Accelerated computing",
    "gpuNum": 1,
    "hideHardwareSpecs": false,
    "memoryGiB": 256,
    "name": "ml.g4dn.16xlarge",
    "vcpuNum": 64
   },
   {
    "_defaultOrder": 35,
    "_isFastLaunch": false,
    "category": "Accelerated computing",
    "gpuNum": 1,
    "hideHardwareSpecs": false,
    "memoryGiB": 61,
    "name": "ml.p3.2xlarge",
    "vcpuNum": 8
   },
   {
    "_defaultOrder": 36,
    "_isFastLaunch": false,
    "category": "Accelerated computing",
    "gpuNum": 4,
    "hideHardwareSpecs": false,
    "memoryGiB": 244,
    "name": "ml.p3.8xlarge",
    "vcpuNum": 32
   },
   {
    "_defaultOrder": 37,
    "_isFastLaunch": false,
    "category": "Accelerated computing",
    "gpuNum": 8,
    "hideHardwareSpecs": false,
    "memoryGiB": 488,
    "name": "ml.p3.16xlarge",
    "vcpuNum": 64
   },
   {
    "_defaultOrder": 38,
    "_isFastLaunch": false,
    "category": "Accelerated computing",
    "gpuNum": 8,
    "hideHardwareSpecs": false,
    "memoryGiB": 768,
    "name": "ml.p3dn.24xlarge",
    "vcpuNum": 96
   },
   {
    "_defaultOrder": 39,
    "_isFastLaunch": false,
    "category": "Memory Optimized",
    "gpuNum": 0,
    "hideHardwareSpecs": false,
    "memoryGiB": 16,
    "name": "ml.r5.large",
    "vcpuNum": 2
   },
   {
    "_defaultOrder": 40,
    "_isFastLaunch": false,
    "category": "Memory Optimized",
    "gpuNum": 0,
    "hideHardwareSpecs": false,
    "memoryGiB": 32,
    "name": "ml.r5.xlarge",
    "vcpuNum": 4
   },
   {
    "_defaultOrder": 41,
    "_isFastLaunch": false,
    "category": "Memory Optimized",
    "gpuNum": 0,
    "hideHardwareSpecs": false,
    "memoryGiB": 64,
    "name": "ml.r5.2xlarge",
    "vcpuNum": 8
   },
   {
    "_defaultOrder": 42,
    "_isFastLaunch": false,
    "category": "Memory Optimized",
    "gpuNum": 0,
    "hideHardwareSpecs": false,
    "memoryGiB": 128,
    "name": "ml.r5.4xlarge",
    "vcpuNum": 16
   },
   {
    "_defaultOrder": 43,
    "_isFastLaunch": false,
    "category": "Memory Optimized",
    "gpuNum": 0,
    "hideHardwareSpecs": false,
    "memoryGiB": 256,
    "name": "ml.r5.8xlarge",
    "vcpuNum": 32
   },
   {
    "_defaultOrder": 44,
    "_isFastLaunch": false,
    "category": "Memory Optimized",
    "gpuNum": 0,
    "hideHardwareSpecs": false,
    "memoryGiB": 384,
    "name": "ml.r5.12xlarge",
    "vcpuNum": 48
   },
   {
    "_defaultOrder": 45,
    "_isFastLaunch": false,
    "category": "Memory Optimized",
    "gpuNum": 0,
    "hideHardwareSpecs": false,
    "memoryGiB": 512,
    "name": "ml.r5.16xlarge",
    "vcpuNum": 64
   },
   {
    "_defaultOrder": 46,
    "_isFastLaunch": false,
    "category": "Memory Optimized",
    "gpuNum": 0,
    "hideHardwareSpecs": false,
    "memoryGiB": 768,
    "name": "ml.r5.24xlarge",
    "vcpuNum": 96
   },
   {
    "_defaultOrder": 47,
    "_isFastLaunch": false,
    "category": "Accelerated computing",
    "gpuNum": 1,
    "hideHardwareSpecs": false,
    "memoryGiB": 16,
    "name": "ml.g5.xlarge",
    "vcpuNum": 4
   },
   {
    "_defaultOrder": 48,
    "_isFastLaunch": false,
    "category": "Accelerated computing",
    "gpuNum": 1,
    "hideHardwareSpecs": false,
    "memoryGiB": 32,
    "name": "ml.g5.2xlarge",
    "vcpuNum": 8
   },
   {
    "_defaultOrder": 49,
    "_isFastLaunch": false,
    "category": "Accelerated computing",
    "gpuNum": 1,
    "hideHardwareSpecs": false,
    "memoryGiB": 64,
    "name": "ml.g5.4xlarge",
    "vcpuNum": 16
   },
   {
    "_defaultOrder": 50,
    "_isFastLaunch": false,
    "category": "Accelerated computing",
    "gpuNum": 1,
    "hideHardwareSpecs": false,
    "memoryGiB": 128,
    "name": "ml.g5.8xlarge",
    "vcpuNum": 32
   },
   {
    "_defaultOrder": 51,
    "_isFastLaunch": false,
    "category": "Accelerated computing",
    "gpuNum": 1,
    "hideHardwareSpecs": false,
    "memoryGiB": 256,
    "name": "ml.g5.16xlarge",
    "vcpuNum": 64
   },
   {
    "_defaultOrder": 52,
    "_isFastLaunch": false,
    "category": "Accelerated computing",
    "gpuNum": 4,
    "hideHardwareSpecs": false,
    "memoryGiB": 192,
    "name": "ml.g5.12xlarge",
    "vcpuNum": 48
   },
   {
    "_defaultOrder": 53,
    "_isFastLaunch": false,
    "category": "Accelerated computing",
    "gpuNum": 4,
    "hideHardwareSpecs": false,
    "memoryGiB": 384,
    "name": "ml.g5.24xlarge",
    "vcpuNum": 96
   },
   {
    "_defaultOrder": 54,
    "_isFastLaunch": false,
    "category": "Accelerated computing",
    "gpuNum": 8,
    "hideHardwareSpecs": false,
    "memoryGiB": 768,
    "name": "ml.g5.48xlarge",
    "vcpuNum": 192
   },
   {
    "_defaultOrder": 55,
    "_isFastLaunch": false,
    "category": "Accelerated computing",
    "gpuNum": 8,
    "hideHardwareSpecs": false,
    "memoryGiB": 1152,
    "name": "ml.p4d.24xlarge",
    "vcpuNum": 96
   },
   {
    "_defaultOrder": 56,
    "_isFastLaunch": false,
    "category": "Accelerated computing",
    "gpuNum": 8,
    "hideHardwareSpecs": false,
    "memoryGiB": 1152,
    "name": "ml.p4de.24xlarge",
    "vcpuNum": 96
   }
  ],
  "instance_type": "ml.g5.12xlarge",
  "kernelspec": {
   "name": "python3",
   "language": "python",
   "display_name": "Python 3 (ipykernel)"
  },
  "language_info": {
   "codemirror_mode": {
    "name": "ipython",
    "version": 3
   },
   "file_extension": ".py",
   "mimetype": "text/x-python",
   "name": "python",
   "nbconvert_exporter": "python",
   "pygments_lexer": "ipython3",
   "version": "3.10.6"
  }
 },
 "nbformat": 4,
 "nbformat_minor": 4
}
