{
 "cells": [
  {
   "cell_type": "markdown",
   "metadata": {},
   "source": [
    "# Fine-tune Llama-13B with QLoRA and SageMaker remote decorator\n",
    "\n",
    "## Unsupervised fine-tuning"
   ]
  },
  {
   "cell_type": "markdown",
   "metadata": {},
   "source": [
    "---\n",
    "\n",
    "In this demo notebook, we demonstrate how to fine-tune the Llama-13B model using QLoRA, Hugging Face PEFT, and bitsandbytes.\n",
    "\n",
    "We are using SageMaker remote decorator for runinng the fine-tuning job on Amazon SageMaker Training job\n",
    "---\n",
    "SageMaker Studio Kernel: PyTorch 2.0.0 Python 3.10\n",
    "\n",
    "Instance Type: ml.g5.12xlarge"
   ]
  },
  {
   "cell_type": "markdown",
   "metadata": {},
   "source": [
    "Install the required libriaries, including the Hugging Face libraries, and restart the kernel."
   ]
  },
  {
   "cell_type": "code",
   "execution_count": null,
   "metadata": {
    "ExecuteTime": {
     "end_time": "2023-07-20T12:38:06.851473Z",
     "start_time": "2023-07-20T12:38:04.440644Z"
    },
    "collapsed": false,
    "jupyter": {
     "outputs_hidden": false
    },
    "tags": []
   },
   "outputs": [],
   "source": [
    "%pip install -r requirements.txt"
   ]
  },
  {
   "cell_type": "code",
   "execution_count": null,
   "metadata": {
    "ExecuteTime": {
     "end_time": "2023-09-07T11:36:57.011485Z",
     "start_time": "2023-09-07T11:36:36.228753Z"
    },
    "collapsed": false,
    "jupyter": {
     "outputs_hidden": false
    },
    "tags": []
   },
   "outputs": [],
   "source": [
    "%pip install -q -U transformers==4.35.1\n",
    "%pip install -q -U datasets==2.13.1\n",
    "%pip install -q -U peft==0.6.2\n",
    "%pip install -q -U accelerate==0.24.1\n",
    "%pip install -q -U bitsandbytes==0.41.2.post2\n",
    "%pip install -q -U boto3\n",
    "%pip install -q -U langchain==0.0.283\n",
    "%pip install -q -U sagemaker==2.154.0\n",
    "%pip install -q -U scikit-learn"
   ]
  },
  {
   "cell_type": "markdown",
   "metadata": {},
   "source": [
    "\n",
    "## Setup Configuration file path\n",
    "\n",
    "We are setting the directory in which the config.yaml file resides so that remote decorator can make use of the settings.\n"
   ]
  },
  {
   "cell_type": "code",
   "execution_count": 2,
   "metadata": {
    "ExecuteTime": {
     "start_time": "2023-11-15T09:25:13.502916Z",
     "end_time": "2023-11-15T09:25:13.511301Z"
    },
    "collapsed": false,
    "jupyter": {
     "outputs_hidden": false
    },
    "tags": []
   },
   "outputs": [],
   "source": [
    "import os\n",
    "\n",
    "# Set path to config file\n",
    "os.environ[\"SAGEMAKER_USER_CONFIG_OVERRIDE\"] = os.getcwd()"
   ]
  },
  {
   "cell_type": "markdown",
   "metadata": {},
   "source": [
    "## Visualize and upload the dataset\n",
    "\n",
    "Read train dataset in a Pandas dataframe"
   ]
  },
  {
   "cell_type": "code",
   "execution_count": 3,
   "metadata": {
    "ExecuteTime": {
     "start_time": "2023-11-15T09:25:24.568506Z",
     "end_time": "2023-11-15T09:25:48.236440Z"
    },
    "collapsed": false,
    "jupyter": {
     "outputs_hidden": false
    },
    "tags": []
   },
   "outputs": [],
   "source": [
    "from langchain.document_loaders import WebBaseLoader\n",
    "\n",
    "loader = WebBaseLoader([\n",
    "    \"https://aws.amazon.com/bedrock/\",\n",
    "    \"https://docs.aws.amazon.com/bedrock/latest/userguide/what-is-bedrock.html\",\n",
    "    \"https://aws.amazon.com/blogs/aws/preview-enable-foundation-models-to-complete-tasks-with-agents-for-amazon-bedrock/\",\n",
    "    \"https://docs.aws.amazon.com/bedrock/latest/userguide/agents.html\",\n",
    "    \"https://docs.aws.amazon.com/bedrock/latest/userguide/knowledge-base.html\",\n",
    "\n",
    "])\n",
    "\n",
    "data = loader.load()"
   ]
  },
  {
   "cell_type": "code",
   "execution_count": 4,
   "metadata": {
    "ExecuteTime": {
     "start_time": "2023-11-15T09:26:19.017194Z",
     "end_time": "2023-11-15T09:26:19.870311Z"
    },
    "collapsed": false,
    "jupyter": {
     "outputs_hidden": false
    }
   },
   "outputs": [
    {
     "data": {
      "text/plain": "Dataset({\n    features: ['text'],\n    num_rows: 5\n})"
     },
     "execution_count": 4,
     "metadata": {},
     "output_type": "execute_result"
    }
   ],
   "source": [
    "from datasets import Dataset\n",
    "\n",
    "def strip_spaces(doc):\n",
    "    return {\"text\": doc.page_content.replace(\"  \", \"\")}\n",
    "\n",
    "stripped_data = list(map(strip_spaces, data))\n",
    "\n",
    "train_dataset = Dataset.from_list(stripped_data)\n",
    "\n",
    "train_dataset"
   ]
  },
  {
   "cell_type": "markdown",
   "metadata": {},
   "source": [
    "\n",
    "\n",
    "To train our model, we need to convert our inputs (text) to token IDs. This is done by a Hugging Face Transformers Tokenizer. In addition to QLoRA, we will use bitsanbytes 4-bit precision to quantize out frozen LLM to 4-bit and attach LoRA adapters on it.\n",
    "\n"
   ]
  },
  {
   "cell_type": "code",
   "execution_count": 5,
   "metadata": {
    "ExecuteTime": {
     "start_time": "2023-11-15T09:26:20.830187Z",
     "end_time": "2023-11-15T09:26:20.833834Z"
    },
    "collapsed": false,
    "jupyter": {
     "outputs_hidden": false
    },
    "tags": []
   },
   "outputs": [],
   "source": [
    "def print_trainable_parameters(model):\n",
    "    \"\"\"\n",
    "    Prints the number of trainable parameters in the model.\n",
    "    \"\"\"\n",
    "    trainable_params = 0\n",
    "    all_param = 0\n",
    "    for _, param in model.named_parameters():\n",
    "        all_param += param.numel()\n",
    "        if param.requires_grad:\n",
    "            trainable_params += param.numel()\n",
    "    print(\n",
    "        f\"trainable params: {trainable_params} || all params: {all_param} || trainable%: {100 * trainable_params / all_param}\"\n",
    "    )"
   ]
  },
  {
   "cell_type": "markdown",
   "metadata": {},
   "source": [
    "Use the Hugging Face Trainer class to fine-tune the model. Define the hyperparameters we want to use. We also create a DataCollator that will take care of padding our inputs and labels."
   ]
  },
  {
   "cell_type": "code",
   "execution_count": 6,
   "metadata": {
    "ExecuteTime": {
     "start_time": "2023-11-15T09:26:25.154338Z",
     "end_time": "2023-11-15T09:26:25.674063Z"
    },
    "collapsed": false,
    "jupyter": {
     "outputs_hidden": false
    },
    "tags": []
   },
   "outputs": [
    {
     "name": "stdout",
     "output_type": "stream",
     "text": [
      "Token will not been saved to git credential helper. Pass `add_to_git_credential=True` if you want to set the git credential as well.\r\n",
      "Token is valid (permission: read).\r\n",
      "Your token has been saved to /Users/bpistone/.cache/huggingface/token\r\n",
      "Login successful\r\n"
     ]
    }
   ],
   "source": [
    "! huggingface-cli login --token <HF_TOKEN>"
   ]
  },
  {
   "cell_type": "code",
   "execution_count": 7,
   "metadata": {
    "ExecuteTime": {
     "start_time": "2023-11-15T09:26:26.861979Z",
     "end_time": "2023-11-15T09:26:30.744432Z"
    },
    "collapsed": false,
    "jupyter": {
     "outputs_hidden": false
    },
    "tags": []
   },
   "outputs": [
    {
     "name": "stderr",
     "output_type": "stream",
     "text": [
      "/Users/bpistone/miniforge3/envs/pathways/lib/python3.10/site-packages/transformers/models/auto/tokenization_auto.py:671: FutureWarning: The `use_auth_token` argument is deprecated and will be removed in v5 of Transformers. Please use `token` instead.\n",
      "  warnings.warn(\n"
     ]
    },
    {
     "data": {
      "text/plain": "Downloading (…)okenizer_config.json:   0%|          | 0.00/1.62k [00:00<?, ?B/s]",
      "application/vnd.jupyter.widget-view+json": {
       "version_major": 2,
       "version_minor": 0,
       "model_id": "941b419eb4b344f180e1e21af7230a66"
      }
     },
     "metadata": {},
     "output_type": "display_data"
    }
   ],
   "source": [
    "from transformers import AutoTokenizer\n",
    "\n",
    "model_id = \"meta-llama/Llama-2-13b-chat-hf\"\n",
    "\n",
    "tokenizer = AutoTokenizer.from_pretrained(model_id, use_auth_token=True)\n",
    "\n",
    "tokenizer.pad_token = tokenizer.eos_token"
   ]
  },
  {
   "cell_type": "markdown",
   "metadata": {},
   "source": [
    "Creating chunks and tokenizing the inputs for making it usable by the LLM. For additional details, please refer to the blog [Leveraging qLoRA for Fine-Tuning of Task-Fine-Tuned Models Without Catastrophic Forgetting: A Case Study with LLaMA2(-chat)](https://medium.com/towards-data-science/leveraging-qlora-for-fine-tuning-of-task-fine-tuned-models-without-catastrophic-forgetting-d9bcd594cff4)"
   ]
  },
  {
   "cell_type": "code",
   "execution_count": 8,
   "metadata": {
    "ExecuteTime": {
     "start_time": "2023-11-15T09:26:37.991057Z",
     "end_time": "2023-11-15T09:26:37.996087Z"
    },
    "collapsed": false,
    "jupyter": {
     "outputs_hidden": false
    }
   },
   "outputs": [],
   "source": [
    "from itertools import chain\n",
    "from functools import partial\n",
    "\n",
    "remainder = {\"input_ids\": [], \"attention_mask\": [], \"token_type_ids\": []}\n",
    "\n",
    "def chunk(sample, chunk_length=2048):\n",
    "    # define global remainder variable to save remainder from batches to use in next batch\n",
    "    global remainder\n",
    "    # Concatenate all texts and add remainder from previous batch\n",
    "    concatenated_examples = {k: list(chain(*sample[k])) for k in sample.keys()}\n",
    "    concatenated_examples = {k: remainder[k] + concatenated_examples[k] for k in concatenated_examples.keys()}\n",
    "    # get total number of tokens for batch\n",
    "    batch_total_length = len(concatenated_examples[list(sample.keys())[0]])\n",
    "\n",
    "    # get max number of chunks for batch\n",
    "    if batch_total_length >= chunk_length:\n",
    "        batch_chunk_length = (batch_total_length // chunk_length) * chunk_length\n",
    "\n",
    "    # Split by chunks of max_len.\n",
    "    result = {\n",
    "        k: [t[i : i + chunk_length] for i in range(0, batch_chunk_length, chunk_length)]\n",
    "        for k, t in concatenated_examples.items()\n",
    "    }\n",
    "    # add remainder to global variable for next batch\n",
    "    remainder = {k: concatenated_examples[k][batch_chunk_length:] for k in concatenated_examples.keys()}\n",
    "    # prepare labels\n",
    "    result[\"labels\"] = result[\"input_ids\"].copy()\n",
    "    return result"
   ]
  },
  {
   "cell_type": "markdown",
   "metadata": {},
   "source": [
    "Utility method for finding the target modules and update the necessary matrices. Visit [this](https://github.com/artidoro/qlora/blob/main/qlora.py) link for additional info."
   ]
  },
  {
   "cell_type": "code",
   "execution_count": 9,
   "metadata": {
    "ExecuteTime": {
     "start_time": "2023-11-15T09:26:40.383333Z",
     "end_time": "2023-11-15T09:26:43.472318Z"
    },
    "collapsed": false,
    "jupyter": {
     "outputs_hidden": false
    },
    "tags": []
   },
   "outputs": [
    {
     "name": "stderr",
     "output_type": "stream",
     "text": [
      "/Users/bpistone/miniforge3/envs/pathways/lib/python3.10/site-packages/bitsandbytes/cextension.py:34: UserWarning: The installed version of bitsandbytes was compiled without GPU support. 8-bit optimizers, 8-bit multiplication, and GPU quantization are unavailable.\n",
      "  warn(\"The installed version of bitsandbytes was compiled without GPU support. \"\n"
     ]
    },
    {
     "name": "stdout",
     "output_type": "stream",
     "text": [
      "'NoneType' object has no attribute 'cadam32bit_grad_fp32'\n"
     ]
    }
   ],
   "source": [
    "import bitsandbytes as bnb\n",
    "\n",
    "def find_all_linear_names(hf_model):\n",
    "    lora_module_names = set()\n",
    "    for name, module in hf_model.named_modules():\n",
    "        if isinstance(module, bnb.nn.Linear4bit):\n",
    "            names = name.split(\".\")\n",
    "            lora_module_names.add(names[0] if len(names) == 1 else names[-1])\n",
    "\n",
    "    if \"lm_head\" in lora_module_names:  # needed for 16-bit\n",
    "        lora_module_names.remove(\"lm_head\")\n",
    "    return list(lora_module_names)"
   ]
  },
  {
   "cell_type": "markdown",
   "metadata": {},
   "source": [
    "Define the train function"
   ]
  },
  {
   "cell_type": "code",
   "execution_count": 10,
   "metadata": {
    "ExecuteTime": {
     "start_time": "2023-11-15T09:28:04.184835Z",
     "end_time": "2023-11-15T09:28:07.120756Z"
    },
    "collapsed": false,
    "jupyter": {
     "outputs_hidden": false
    },
    "tags": []
   },
   "outputs": [
    {
     "name": "stdout",
     "output_type": "stream",
     "text": [
      "sagemaker.config INFO - Not applying SDK defaults from location: /Library/Application Support/sagemaker/config.yaml\n",
      "sagemaker.config INFO - Fetched defaults config from location: /Users/bpistone/development/amazon/amazon-sagemaker-remote-decorator-generative-ai\n"
     ]
    },
    {
     "name": "stderr",
     "output_type": "stream",
     "text": [
      "INFO:botocore.credentials:Found credentials in shared credentials file: ~/.aws/credentials\n"
     ]
    },
    {
     "name": "stdout",
     "output_type": "stream",
     "text": [
      "sagemaker.config INFO - Not applying SDK defaults from location: /Library/Application Support/sagemaker/config.yaml\n",
      "sagemaker.config INFO - Fetched defaults config from location: /Users/bpistone/development/amazon/amazon-sagemaker-remote-decorator-generative-ai\n",
      "sagemaker.config INFO - Applied value from config key = SageMaker.PythonSDK.Modules.RemoteFunction.ImageUri\n",
      "sagemaker.config INFO - Applied value from config key = SageMaker.PythonSDK.Modules.RemoteFunction.Dependencies\n",
      "sagemaker.config INFO - Applied value from config key = SageMaker.PythonSDK.Modules.RemoteFunction.InstanceType\n",
      "sagemaker.config INFO - Applied value from config key = SageMaker.PythonSDK.Modules.RemoteFunction.RoleArn\n"
     ]
    }
   ],
   "source": [
    "from huggingface_hub import login\n",
    "from peft import AutoPeftModelForCausalLM, LoraConfig, get_peft_model, prepare_model_for_kbit_training\n",
    "from sagemaker.remote_function import remote\n",
    "import torch\n",
    "from transformers import AutoModelForCausalLM, AutoTokenizer, BitsAndBytesConfig\n",
    "import transformers\n",
    "\n",
    "# Start training\n",
    "@remote(volume_size=100)\n",
    "def train_fn(\n",
    "        model_name,\n",
    "        train_ds,\n",
    "        lora_r=64,\n",
    "        lora_alpha=16,\n",
    "        lora_dropout=0.1,\n",
    "        per_device_train_batch_size=8,\n",
    "        per_device_eval_batch_size=8,\n",
    "        learning_rate=2e-4,\n",
    "        num_train_epochs=1,\n",
    "        chunk_size=2048,\n",
    "        merge_weights=False,\n",
    "        token=None\n",
    "):\n",
    "    if token is not None:\n",
    "        login(token=token)\n",
    "\n",
    "    # tokenize and chunk dataset\n",
    "    lm_dataset = train_ds.map(\n",
    "        lambda sample: tokenizer(sample[\"text\"]), batched=True, remove_columns=list(train_ds.features)\n",
    "    ).map(\n",
    "        partial(chunk, chunk_length=chunk_size),\n",
    "        batched=True,\n",
    "    )\n",
    "\n",
    "    # Print total number of samples\n",
    "    print(f\"Total number of train samples: {len(lm_dataset)}\")\n",
    "\n",
    "    bnb_config = BitsAndBytesConfig(\n",
    "        load_in_4bit=True,\n",
    "        bnb_4bit_use_double_quant=True,\n",
    "        bnb_4bit_quant_type=\"nf4\",\n",
    "        bnb_4bit_compute_dtype=torch.bfloat16\n",
    "    )\n",
    "\n",
    "    model = AutoModelForCausalLM.from_pretrained(\n",
    "        model_name,\n",
    "        trust_remote_code=True,\n",
    "        quantization_config=bnb_config,\n",
    "        device_map=\"auto\")\n",
    "\n",
    "    model.gradient_checkpointing_enable()\n",
    "    model = prepare_model_for_kbit_training(model, use_gradient_checkpointing=True)\n",
    "\n",
    "    # get lora target modules\n",
    "    modules = find_all_linear_names(model)\n",
    "    print(f\"Found {len(modules)} modules to quantize: {modules}\")\n",
    "\n",
    "    config = LoraConfig(\n",
    "        r=lora_r,\n",
    "        lora_alpha=lora_alpha,\n",
    "        target_modules=modules,\n",
    "        lora_dropout=lora_dropout,\n",
    "        bias=\"none\",\n",
    "        task_type=\"CAUSAL_LM\"\n",
    "    )\n",
    "\n",
    "    model = get_peft_model(model, config)\n",
    "    print_trainable_parameters(model)\n",
    "\n",
    "    trainer = transformers.Trainer(\n",
    "        model=model,\n",
    "        train_dataset=lm_dataset,\n",
    "        args=transformers.TrainingArguments(\n",
    "            per_device_train_batch_size=per_device_train_batch_size,\n",
    "            per_device_eval_batch_size=per_device_eval_batch_size,\n",
    "            logging_steps=2,\n",
    "            num_train_epochs=num_train_epochs,\n",
    "            learning_rate=learning_rate,\n",
    "            bf16=True,\n",
    "            save_strategy=\"no\",\n",
    "            output_dir=\"outputs\"\n",
    "        ),\n",
    "        data_collator=transformers.DataCollatorForLanguageModeling(tokenizer, mlm=False),\n",
    "    )\n",
    "    model.config.use_cache = False\n",
    "\n",
    "    trainer.train()\n",
    "\n",
    "    if merge_weights:\n",
    "        output_dir = \"/tmp/model\"\n",
    "\n",
    "        # merge adapter weights with base model and save\n",
    "        # save int 4 model\n",
    "        trainer.model.save_pretrained(output_dir, safe_serialization=False)\n",
    "        # clear memory\n",
    "        del model\n",
    "        del trainer\n",
    "        torch.cuda.empty_cache()\n",
    "\n",
    "        # load PEFT model in fp16\n",
    "        model = AutoPeftModelForCausalLM.from_pretrained(\n",
    "            output_dir,\n",
    "            low_cpu_mem_usage=True,\n",
    "            torch_dtype=torch.float16,\n",
    "        )\n",
    "        # Merge LoRA and base model and save\n",
    "        model = model.merge_and_unload()\n",
    "        model.save_pretrained(\n",
    "            \"/opt/ml/model\", safe_serialization=True, max_shard_size=\"2GB\"\n",
    "        )\n",
    "    else:\n",
    "        model.save_pretrained(\"/opt/ml/model\", safe_serialization=True)\n",
    "\n",
    "    tmp_tokenizer = AutoTokenizer.from_pretrained(model_name)\n",
    "    tmp_tokenizer.save_pretrained(\"/opt/ml/model\")"
   ]
  },
  {
   "cell_type": "code",
   "execution_count": 11,
   "metadata": {
    "ExecuteTime": {
     "end_time": "2023-09-08T13:12:12.671800Z",
     "start_time": "2023-09-08T12:42:37.198731Z"
    },
    "collapsed": false,
    "jupyter": {
     "outputs_hidden": false
    },
    "scrolled": true,
    "tags": []
   },
   "outputs": [
    {
     "name": "stderr",
     "output_type": "stream",
     "text": [
      "2023-11-15 08:28:23,163 sagemaker.remote_function INFO     Copied dependencies file at './requirements.txt' to '/var/folders/1d/p7dclqcx4934dybvv117p3640000gr/T/tmp_jnrt7xr/temp_workspace/sagemaker_remote_function_workspace/requirements.txt'\n",
      "2023-11-15 08:28:23,164 sagemaker.remote_function INFO     Successfully created workdir archive at '/var/folders/1d/p7dclqcx4934dybvv117p3640000gr/T/tmp_jnrt7xr/workspace.zip'\n",
      "2023-11-15 08:28:23,273 sagemaker.remote_function INFO     Successfully uploaded workdir to 's3://sagemaker-eu-west-1-691148928602/train-fn-2023-11-15-08-28-22-524/sm_rf_user_ws/workspace.zip'\n",
      "2023-11-15 08:28:23,274 sagemaker.remote_function INFO     Serializing function code to s3://sagemaker-eu-west-1-691148928602/train-fn-2023-11-15-08-28-22-524/function\n",
      "2023-11-15 08:28:25,050 sagemaker.remote_function INFO     Serializing function arguments to s3://sagemaker-eu-west-1-691148928602/train-fn-2023-11-15-08-28-22-524/arguments\n",
      "2023-11-15 08:28:25,283 sagemaker.remote_function INFO     Creating job: train-fn-2023-11-15-08-28-22-524\n"
     ]
    },
    {
     "name": "stdout",
     "output_type": "stream",
     "text": [
      "2023-11-15 08:28:25 Starting - Starting the training job...\n",
      "2023-11-15 08:28:50 Starting - Preparing the instances for training......\n",
      "2023-11-15 08:29:55 Downloading - Downloading input data...\n",
      "2023-11-15 08:30:20 Training - Downloading the training image...........................\n",
      "2023-11-15 08:34:52 Training - Training image download completed. Training in progress.......\u001B[34mINFO: CONDA_PKGS_DIRS is set to '/opt/ml/sagemaker/warmpoolcache/sm_remotefunction_user_dependencies_cache/conda/pkgs'\u001B[0m\n",
      "\u001B[34mINFO: PIP_CACHE_DIR is set to '/opt/ml/sagemaker/warmpoolcache/sm_remotefunction_user_dependencies_cache/pip'\u001B[0m\n",
      "\u001B[34mINFO: Bootstraping runtime environment.\u001B[0m\n",
      "\u001B[34m2023-11-15 08:35:49,511 sagemaker.remote_function INFO     Successfully unpacked workspace archive at '/'.\u001B[0m\n",
      "\u001B[34m2023-11-15 08:35:49,511 sagemaker.remote_function INFO     '/sagemaker_remote_function_workspace/pre_exec.sh' does not exist. Assuming no pre-execution commands to run\u001B[0m\n",
      "\u001B[34m2023-11-15 08:35:49,511 sagemaker.remote_function INFO     Running command: '/opt/conda/bin/python -m pip install -r /sagemaker_remote_function_workspace/requirements.txt' in the dir: '/' \u001B[0m\n",
      "\u001B[34m2023-11-15 08:35:50,030 sagemaker.remote_function INFO     Collecting transformers==4.35.1 (from -r /sagemaker_remote_function_workspace/requirements.txt (line 1))\u001B[0m\n",
      "\u001B[34m2023-11-15 08:35:50,110 sagemaker.remote_function INFO       Downloading transformers-4.35.1-py3-none-any.whl (7.9 MB)\u001B[0m\n",
      "\u001B[34m2023-11-15 08:35:50,298 sagemaker.remote_function INFO          ━━━━━━━━━━━━━━━━━━━━━━━━━━━━━━━━━━━━━━━━ 7.9/7.9 MB 42.9 MB/s eta 0:00:00\u001B[0m\n",
      "\u001B[34m2023-11-15 08:35:50,355 sagemaker.remote_function INFO     Collecting peft==0.6.2 (from -r /sagemaker_remote_function_workspace/requirements.txt (line 2))\u001B[0m\n",
      "\u001B[34m2023-11-15 08:35:50,379 sagemaker.remote_function INFO       Downloading peft-0.6.2-py3-none-any.whl (174 kB)\u001B[0m\n",
      "\u001B[34m2023-11-15 08:35:50,384 sagemaker.remote_function INFO          ━━━━━━━━━━━━━━━━━━━━━━━━━━━━━━━━━━━━━━ 174.7/174.7 kB 87.0 MB/s eta 0:00:00\u001B[0m\n",
      "\u001B[34m2023-11-15 08:35:50,433 sagemaker.remote_function INFO     Collecting accelerate==0.24.1 (from -r /sagemaker_remote_function_workspace/requirements.txt (line 3))\u001B[0m\n",
      "\u001B[34m2023-11-15 08:35:50,455 sagemaker.remote_function INFO       Downloading accelerate-0.24.1-py3-none-any.whl (261 kB)\u001B[0m\n",
      "\u001B[34m2023-11-15 08:35:50,459 sagemaker.remote_function INFO          ━━━━━━━━━━━━━━━━━━━━━━━━━━━━━━━━━━━━━ 261.4/261.4 kB 108.2 MB/s eta 0:00:00\u001B[0m\n",
      "\u001B[34m2023-11-15 08:35:50,503 sagemaker.remote_function INFO     Collecting bitsandbytes==0.41.2.post2 (from -r /sagemaker_remote_function_workspace/requirements.txt (line 4))\u001B[0m\n",
      "\u001B[34m2023-11-15 08:35:50,528 sagemaker.remote_function INFO       Downloading bitsandbytes-0.41.2.post2-py3-none-any.whl (92.6 MB)\u001B[0m\n",
      "\u001B[34m2023-11-15 08:35:52,046 sagemaker.remote_function INFO          ━━━━━━━━━━━━━━━━━━━━━━━━━━━━━━━━━━━━━━━━ 92.6/92.6 MB 36.0 MB/s eta 0:00:00\u001B[0m\n",
      "\u001B[34m2023-11-15 08:35:52,318 sagemaker.remote_function INFO     Collecting safetensors>=0.3.1 (from -r /sagemaker_remote_function_workspace/requirements.txt (line 5))\u001B[0m\n",
      "\u001B[34m2023-11-15 08:35:52,344 sagemaker.remote_function INFO       Downloading safetensors-0.4.0-cp310-cp310-manylinux_2_17_x86_64.manylinux2014_x86_64.whl (1.3 MB)\u001B[0m\n",
      "\u001B[34m2023-11-15 08:35:52,355 sagemaker.remote_function INFO          ━━━━━━━━━━━━━━━━━━━━━━━━━━━━━━━━━━━━━━━━ 1.3/1.3 MB 155.0 MB/s eta 0:00:00\u001B[0m\n",
      "\u001B[34m2023-11-15 08:35:52,357 sagemaker.remote_function INFO     Requirement already satisfied: tokenizers>=0.13.3 in /opt/conda/lib/python3.10/site-packages (from -r /sagemaker_remote_function_workspace/requirements.txt (line 6)) (0.13.3)\u001B[0m\n",
      "\u001B[34m2023-11-15 08:35:52,445 sagemaker.remote_function INFO     Collecting py7zr (from -r /sagemaker_remote_function_workspace/requirements.txt (line 7))\u001B[0m\n",
      "\u001B[34m2023-11-15 08:35:52,472 sagemaker.remote_function INFO       Downloading py7zr-0.20.8-py3-none-any.whl (67 kB)\u001B[0m\n",
      "\u001B[34m2023-11-15 08:35:52,475 sagemaker.remote_function INFO          ━━━━━━━━━━━━━━━━━━━━━━━━━━━━━━━━━━━━━━━━ 67.0/67.0 kB 42.8 MB/s eta 0:00:00\u001B[0m\n",
      "\u001B[34m2023-11-15 08:35:52,891 sagemaker.remote_function INFO     Requirement already satisfied: filelock in /opt/conda/lib/python3.10/site-packages (from transformers==4.35.1->-r /sagemaker_remote_function_workspace/requirements.txt (line 1)) (3.12.0)\u001B[0m\n",
      "\u001B[34m2023-11-15 08:35:52,963 sagemaker.remote_function INFO     Collecting huggingface-hub<1.0,>=0.16.4 (from transformers==4.35.1->-r /sagemaker_remote_function_workspace/requirements.txt (line 1))\u001B[0m\n",
      "\u001B[34m2023-11-15 08:35:52,990 sagemaker.remote_function INFO       Downloading huggingface_hub-0.19.1-py3-none-any.whl (311 kB)\u001B[0m\n",
      "\u001B[34m2023-11-15 08:35:52,995 sagemaker.remote_function INFO          ━━━━━━━━━━━━━━━━━━━━━━━━━━━━━━━━━━━━━ 311.1/311.1 kB 116.9 MB/s eta 0:00:00\u001B[0m\n",
      "\u001B[34m2023-11-15 08:35:52,997 sagemaker.remote_function INFO     Requirement already satisfied: numpy>=1.17 in /opt/conda/lib/python3.10/site-packages (from transformers==4.35.1->-r /sagemaker_remote_function_workspace/requirements.txt (line 1)) (1.23.5)\u001B[0m\n",
      "\u001B[34m2023-11-15 08:35:52,998 sagemaker.remote_function INFO     Requirement already satisfied: packaging>=20.0 in /opt/conda/lib/python3.10/site-packages (from transformers==4.35.1->-r /sagemaker_remote_function_workspace/requirements.txt (line 1)) (23.1)\u001B[0m\n",
      "\u001B[34m2023-11-15 08:35:52,998 sagemaker.remote_function INFO     Requirement already satisfied: pyyaml>=5.1 in /opt/conda/lib/python3.10/site-packages (from transformers==4.35.1->-r /sagemaker_remote_function_workspace/requirements.txt (line 1)) (5.4.1)\u001B[0m\n",
      "\u001B[34m2023-11-15 08:35:52,999 sagemaker.remote_function INFO     Requirement already satisfied: regex!=2019.12.17 in /opt/conda/lib/python3.10/site-packages (from transformers==4.35.1->-r /sagemaker_remote_function_workspace/requirements.txt (line 1)) (2023.5.5)\u001B[0m\n",
      "\u001B[34m2023-11-15 08:35:52,999 sagemaker.remote_function INFO     Requirement already satisfied: requests in /opt/conda/lib/python3.10/site-packages (from transformers==4.35.1->-r /sagemaker_remote_function_workspace/requirements.txt (line 1)) (2.28.2)\u001B[0m\n",
      "\u001B[34m2023-11-15 08:35:53,394 sagemaker.remote_function INFO     Collecting tokenizers>=0.13.3 (from -r /sagemaker_remote_function_workspace/requirements.txt (line 6))\u001B[0m\n",
      "\u001B[34m2023-11-15 08:35:53,424 sagemaker.remote_function INFO       Downloading tokenizers-0.14.1-cp310-cp310-manylinux_2_17_x86_64.manylinux2014_x86_64.whl (3.8 MB)\u001B[0m\n",
      "\u001B[34m2023-11-15 08:35:53,463 sagemaker.remote_function INFO          ━━━━━━━━━━━━━━━━━━━━━━━━━━━━━━━━━━━━━━━━ 3.8/3.8 MB 102.2 MB/s eta 0:00:00\u001B[0m\n",
      "\u001B[34m2023-11-15 08:35:53,469 sagemaker.remote_function INFO     Requirement already satisfied: tqdm>=4.27 in /opt/conda/lib/python3.10/site-packages (from transformers==4.35.1->-r /sagemaker_remote_function_workspace/requirements.txt (line 1)) (4.65.0)\u001B[0m\n",
      "\u001B[34m2023-11-15 08:35:53,488 sagemaker.remote_function INFO     Requirement already satisfied: psutil in /opt/conda/lib/python3.10/site-packages (from peft==0.6.2->-r /sagemaker_remote_function_workspace/requirements.txt (line 2)) (5.9.5)\u001B[0m\n",
      "\u001B[34m2023-11-15 08:35:53,489 sagemaker.remote_function INFO     Requirement already satisfied: torch>=1.13.0 in /opt/conda/lib/python3.10/site-packages (from peft==0.6.2->-r /sagemaker_remote_function_workspace/requirements.txt (line 2)) (2.0.0)\u001B[0m\n",
      "\u001B[34m2023-11-15 08:35:53,605 sagemaker.remote_function INFO     Collecting huggingface-hub<1.0,>=0.16.4 (from transformers==4.35.1->-r /sagemaker_remote_function_workspace/requirements.txt (line 1))\u001B[0m\n",
      "\u001B[34m2023-11-15 08:35:53,634 sagemaker.remote_function INFO       Downloading huggingface_hub-0.17.3-py3-none-any.whl (295 kB)\u001B[0m\n",
      "\u001B[34m2023-11-15 08:35:53,639 sagemaker.remote_function INFO          ━━━━━━━━━━━━━━━━━━━━━━━━━━━━━━━━━━━━━ 295.0/295.0 kB 113.5 MB/s eta 0:00:00\u001B[0m\n",
      "\u001B[34m2023-11-15 08:35:53,714 sagemaker.remote_function INFO     Collecting texttable (from py7zr->-r /sagemaker_remote_function_workspace/requirements.txt (line 7))\u001B[0m\n",
      "\u001B[34m2023-11-15 08:35:53,742 sagemaker.remote_function INFO       Downloading texttable-1.7.0-py2.py3-none-any.whl (10 kB)\u001B[0m\n",
      "\u001B[34m2023-11-15 08:35:53,988 sagemaker.remote_function INFO     Collecting pycryptodomex>=3.16.0 (from py7zr->-r /sagemaker_remote_function_workspace/requirements.txt (line 7))\u001B[0m\n",
      "\u001B[34m2023-11-15 08:35:54,014 sagemaker.remote_function INFO       Downloading pycryptodomex-3.19.0-cp35-abi3-manylinux_2_17_x86_64.manylinux2014_x86_64.whl (2.1 MB)\u001B[0m\n",
      "\u001B[34m2023-11-15 08:35:54,028 sagemaker.remote_function INFO          ━━━━━━━━━━━━━━━━━━━━━━━━━━━━━━━━━━━━━━━━ 2.1/2.1 MB 175.7 MB/s eta 0:00:00\u001B[0m\n",
      "\u001B[34m2023-11-15 08:35:54,241 sagemaker.remote_function INFO     Collecting pyzstd>=0.15.9 (from py7zr->-r /sagemaker_remote_function_workspace/requirements.txt (line 7))\u001B[0m\n",
      "\u001B[34m2023-11-15 08:35:54,272 sagemaker.remote_function INFO       Downloading pyzstd-0.15.9-cp310-cp310-manylinux_2_17_x86_64.manylinux2014_x86_64.whl (412 kB)\u001B[0m\n",
      "\u001B[34m2023-11-15 08:35:54,278 sagemaker.remote_function INFO          ━━━━━━━━━━━━━━━━━━━━━━━━━━━━━━━━━━━━━ 412.3/412.3 kB 126.0 MB/s eta 0:00:00\u001B[0m\n",
      "\u001B[34m2023-11-15 08:35:54,584 sagemaker.remote_function INFO     Collecting pyppmd<1.2.0,>=1.1.0 (from py7zr->-r /sagemaker_remote_function_workspace/requirements.txt (line 7))\u001B[0m\n",
      "\u001B[34m2023-11-15 08:35:54,612 sagemaker.remote_function INFO       Downloading pyppmd-1.1.0-cp310-cp310-manylinux_2_17_x86_64.manylinux2014_x86_64.whl (138 kB)\u001B[0m\n",
      "\u001B[34m2023-11-15 08:35:54,616 sagemaker.remote_function INFO          ━━━━━━━━━━━━━━━━━━━━━━━━━━━━━━━━━━━━━━ 138.9/138.9 kB 70.9 MB/s eta 0:00:00\u001B[0m\n",
      "\u001B[34m2023-11-15 08:35:55,036 sagemaker.remote_function INFO     Collecting pybcj<1.1.0,>=1.0.0 (from py7zr->-r /sagemaker_remote_function_workspace/requirements.txt (line 7))\u001B[0m\n",
      "\u001B[34m2023-11-15 08:35:55,063 sagemaker.remote_function INFO       Downloading pybcj-1.0.2-cp310-cp310-manylinux_2_17_x86_64.manylinux2014_x86_64.whl (49 kB)\u001B[0m\n",
      "\u001B[34m2023-11-15 08:35:55,066 sagemaker.remote_function INFO          ━━━━━━━━━━━━━━━━━━━━━━━━━━━━━━━━━━━━━━━━ 49.7/49.7 kB 32.3 MB/s eta 0:00:00\u001B[0m\n",
      "\u001B[34m2023-11-15 08:35:55,100 sagemaker.remote_function INFO     Collecting multivolumefile>=0.2.3 (from py7zr->-r /sagemaker_remote_function_workspace/requirements.txt (line 7))\u001B[0m\n",
      "\u001B[34m2023-11-15 08:35:55,128 sagemaker.remote_function INFO       Downloading multivolumefile-0.2.3-py3-none-any.whl (17 kB)\u001B[0m\n",
      "\u001B[34m2023-11-15 08:35:55,344 sagemaker.remote_function INFO     Collecting inflate64<1.1.0,>=1.0.0 (from py7zr->-r /sagemaker_remote_function_workspace/requirements.txt (line 7))\u001B[0m\n",
      "\u001B[34m2023-11-15 08:35:55,374 sagemaker.remote_function INFO       Downloading inflate64-1.0.0-cp310-cp310-manylinux_2_17_x86_64.manylinux2014_x86_64.whl (93 kB)\u001B[0m\n",
      "\u001B[34m2023-11-15 08:35:55,377 sagemaker.remote_function INFO          ━━━━━━━━━━━━━━━━━━━━━━━━━━━━━━━━━━━━━━━━ 93.1/93.1 kB 57.6 MB/s eta 0:00:00\u001B[0m\n",
      "\u001B[34m2023-11-15 08:35:55,461 sagemaker.remote_function INFO     Collecting brotli>=1.1.0 (from py7zr->-r /sagemaker_remote_function_workspace/requirements.txt (line 7))\u001B[0m\n",
      "\u001B[34m2023-11-15 08:35:55,488 sagemaker.remote_function INFO       Downloading Brotli-1.1.0-cp310-cp310-manylinux_2_5_x86_64.manylinux1_x86_64.manylinux_2_12_x86_64.manylinux2010_x86_64.whl (3.0 MB)\u001B[0m\n",
      "\u001B[34m2023-11-15 08:35:55,507 sagemaker.remote_function INFO          ━━━━━━━━━━━━━━━━━━━━━━━━━━━━━━━━━━━━━━━━ 3.0/3.0 MB 179.6 MB/s eta 0:00:00\u001B[0m\n",
      "\u001B[34m2023-11-15 08:35:55,631 sagemaker.remote_function INFO     Requirement already satisfied: fsspec in /opt/conda/lib/python3.10/site-packages (from huggingface-hub<1.0,>=0.16.4->transformers==4.35.1->-r /sagemaker_remote_function_workspace/requirements.txt (line 1)) (2023.5.0)\u001B[0m\n",
      "\u001B[34m2023-11-15 08:35:55,632 sagemaker.remote_function INFO     Requirement already satisfied: typing-extensions>=3.7.4.3 in /opt/conda/lib/python3.10/site-packages (from huggingface-hub<1.0,>=0.16.4->transformers==4.35.1->-r /sagemaker_remote_function_workspace/requirements.txt (line 1)) (4.5.0)\u001B[0m\n",
      "\u001B[34m2023-11-15 08:35:55,710 sagemaker.remote_function INFO     Requirement already satisfied: sympy in /opt/conda/lib/python3.10/site-packages (from torch>=1.13.0->peft==0.6.2->-r /sagemaker_remote_function_workspace/requirements.txt (line 2)) (1.11.1)\u001B[0m\n",
      "\u001B[34m2023-11-15 08:35:55,710 sagemaker.remote_function INFO     Requirement already satisfied: networkx in /opt/conda/lib/python3.10/site-packages (from torch>=1.13.0->peft==0.6.2->-r /sagemaker_remote_function_workspace/requirements.txt (line 2)) (3.1)\u001B[0m\n",
      "\u001B[34m2023-11-15 08:35:55,711 sagemaker.remote_function INFO     Requirement already satisfied: jinja2 in /opt/conda/lib/python3.10/site-packages (from torch>=1.13.0->peft==0.6.2->-r /sagemaker_remote_function_workspace/requirements.txt (line 2)) (3.1.2)\u001B[0m\n",
      "\u001B[34m2023-11-15 08:35:55,749 sagemaker.remote_function INFO     Requirement already satisfied: charset-normalizer<4,>=2 in /opt/conda/lib/python3.10/site-packages (from requests->transformers==4.35.1->-r /sagemaker_remote_function_workspace/requirements.txt (line 1)) (3.1.0)\u001B[0m\n",
      "\u001B[34m2023-11-15 08:35:55,750 sagemaker.remote_function INFO     Requirement already satisfied: idna<4,>=2.5 in /opt/conda/lib/python3.10/site-packages (from requests->transformers==4.35.1->-r /sagemaker_remote_function_workspace/requirements.txt (line 1)) (3.4)\u001B[0m\n",
      "\u001B[34m2023-11-15 08:35:55,751 sagemaker.remote_function INFO     Requirement already satisfied: urllib3<1.27,>=1.21.1 in /opt/conda/lib/python3.10/site-packages (from requests->transformers==4.35.1->-r /sagemaker_remote_function_workspace/requirements.txt (line 1)) (1.26.15)\u001B[0m\n",
      "\u001B[34m2023-11-15 08:35:55,751 sagemaker.remote_function INFO     Requirement already satisfied: certifi>=2017.4.17 in /opt/conda/lib/python3.10/site-packages (from requests->transformers==4.35.1->-r /sagemaker_remote_function_workspace/requirements.txt (line 1)) (2023.5.7)\u001B[0m\n",
      "\u001B[34m2023-11-15 08:35:55,832 sagemaker.remote_function INFO     Requirement already satisfied: MarkupSafe>=2.0 in /opt/conda/lib/python3.10/site-packages (from jinja2->torch>=1.13.0->peft==0.6.2->-r /sagemaker_remote_function_workspace/requirements.txt (line 2)) (2.1.2)\u001B[0m\n",
      "\u001B[34m2023-11-15 08:35:55,857 sagemaker.remote_function INFO     Requirement already satisfied: mpmath>=0.19 in /opt/conda/lib/python3.10/site-packages (from sympy->torch>=1.13.0->peft==0.6.2->-r /sagemaker_remote_function_workspace/requirements.txt (line 2)) (1.3.0)\u001B[0m\n",
      "\u001B[34m2023-11-15 08:35:58,528 sagemaker.remote_function INFO     Installing collected packages: texttable, brotli, bitsandbytes, safetensors, pyzstd, pyppmd, pycryptodomex, pybcj, multivolumefile, inflate64, py7zr, huggingface-hub, tokenizers, accelerate, transformers, peft\u001B[0m\n",
      "\u001B[34m2023-11-15 08:36:00,291 sagemaker.remote_function INFO       Attempting uninstall: huggingface-hub\u001B[0m\n",
      "\u001B[34m2023-11-15 08:36:00,292 sagemaker.remote_function INFO         Found existing installation: huggingface-hub 0.14.1\u001B[0m\n",
      "\u001B[34m2023-11-15 08:36:00,298 sagemaker.remote_function INFO         Uninstalling huggingface-hub-0.14.1:\u001B[0m\n",
      "\u001B[34m2023-11-15 08:36:00,317 sagemaker.remote_function INFO           Successfully uninstalled huggingface-hub-0.14.1\u001B[0m\n",
      "\u001B[34m2023-11-15 08:36:00,427 sagemaker.remote_function INFO       Attempting uninstall: tokenizers\u001B[0m\n",
      "\u001B[34m2023-11-15 08:36:00,428 sagemaker.remote_function INFO         Found existing installation: tokenizers 0.13.3\u001B[0m\n",
      "\u001B[34m2023-11-15 08:36:00,432 sagemaker.remote_function INFO         Uninstalling tokenizers-0.13.3:\u001B[0m\n",
      "\u001B[34m2023-11-15 08:36:00,450 sagemaker.remote_function INFO           Successfully uninstalled tokenizers-0.13.3\u001B[0m\n",
      "\u001B[34m2023-11-15 08:36:00,526 sagemaker.remote_function INFO       Attempting uninstall: accelerate\u001B[0m\n",
      "\u001B[34m2023-11-15 08:36:00,527 sagemaker.remote_function INFO         Found existing installation: accelerate 0.19.0\u001B[0m\n",
      "\u001B[34m2023-11-15 08:36:00,535 sagemaker.remote_function INFO         Uninstalling accelerate-0.19.0:\u001B[0m\n",
      "\u001B[34m2023-11-15 08:36:00,557 sagemaker.remote_function INFO           Successfully uninstalled accelerate-0.19.0\u001B[0m\n",
      "\u001B[34m2023-11-15 08:36:00,685 sagemaker.remote_function INFO       Attempting uninstall: transformers\u001B[0m\n",
      "\u001B[34m2023-11-15 08:36:00,688 sagemaker.remote_function INFO         Found existing installation: transformers 4.28.1\u001B[0m\n",
      "\u001B[34m2023-11-15 08:36:00,817 sagemaker.remote_function INFO         Uninstalling transformers-4.28.1:\u001B[0m\n",
      "\u001B[34m2023-11-15 08:36:01,198 sagemaker.remote_function INFO           Successfully uninstalled transformers-4.28.1\u001B[0m\n",
      "\u001B[34m2023-11-15 08:36:04,951 sagemaker.remote_function INFO     Successfully installed accelerate-0.24.1 bitsandbytes-0.41.2.post2 brotli-1.1.0 huggingface-hub-0.17.3 inflate64-1.0.0 multivolumefile-0.2.3 peft-0.6.2 py7zr-0.20.8 pybcj-1.0.2 pycryptodomex-3.19.0 pyppmd-1.1.0 pyzstd-0.15.9 safetensors-0.4.0 texttable-1.7.0 tokenizers-0.14.1 transformers-4.35.1\u001B[0m\n",
      "\u001B[34m2023-11-15 08:36:05,321 sagemaker.remote_function WARNING  WARNING: Running pip as the 'root' user can result in broken permissions and conflicting behaviour with the system package manager. It is recommended to use a virtual environment instead: https://pip.pypa.io/warnings/venv\u001B[0m\n",
      "\u001B[34m2023-11-15 08:36:05,322 sagemaker.remote_function WARNING  \u001B[0m\n",
      "\u001B[34m2023-11-15 08:36:05,322 sagemaker.remote_function WARNING  [notice] A new release of pip is available: 23.1.2 -> 23.3.1\u001B[0m\n",
      "\u001B[34m2023-11-15 08:36:05,322 sagemaker.remote_function WARNING  [notice] To update, run: pip install --upgrade pip\u001B[0m\n",
      "\u001B[34m2023-11-15 08:36:05,322 sagemaker.remote_function INFO     Command /opt/conda/bin/python -m pip install -r /sagemaker_remote_function_workspace/requirements.txt ran successfully\u001B[0m\n",
      "\u001B[34mINFO: Changing workspace to sagemaker_remote_function_workspace.\u001B[0m\n",
      "\u001B[34mINFO: No conda env provided. Invoking remote function\u001B[0m\n",
      "\u001B[34m2023-11-15 08:36:06,298 sagemaker.remote_function INFO     Deserializing function code from s3://sagemaker-eu-west-1-691148928602/train-fn-2023-11-15-08-28-22-524/function\u001B[0m\n",
      "\u001B[34m2023-11-15 08:36:09,020 sagemaker.remote_function INFO     Deserializing function arguments from s3://sagemaker-eu-west-1-691148928602/train-fn-2023-11-15-08-28-22-524/arguments\u001B[0m\n",
      "\u001B[34m2023-11-15 08:36:09,337 sagemaker.remote_function INFO     Invoking the function\u001B[0m\n",
      "\u001B[34mToken will not been saved to git credential helper. Pass `add_to_git_credential=True` if you want to set the git credential as well.\u001B[0m\n",
      "\u001B[34mToken is valid (permission: read).\u001B[0m\n",
      "\u001B[34mYour token has been saved to /root/.cache/huggingface/token\u001B[0m\n",
      "\u001B[34mLogin successful\u001B[0m\n",
      "\u001B[34mTotal number of train samples: 4\u001B[0m\n",
      "\u001B[34m#015Map:   0%|          | 0/5 [00:00<?, ? examples/s]#015                                                 #015#015Map:   0%|          | 0/5 [00:00<?, ? examples/s]#015                                                 #015#015Downloading (…)lve/main/config.json:   0%|          | 0.00/587 [00:00<?, ?B/s]#015Downloading (…)lve/main/config.json: 100%|██████████| 587/587 [00:00<00:00, 5.90MB/s]\u001B[0m\n",
      "\u001B[34m#015Downloading (…)fetensors.index.json:   0%|          | 0.00/33.4k [00:00<?, ?B/s]#015Downloading (…)fetensors.index.json: 100%|██████████| 33.4k/33.4k [00:00<00:00, 188MB/s]\u001B[0m\n",
      "\u001B[34m#015Downloading shards:   0%|          | 0/3 [00:00<?, ?it/s]\u001B[0m\n",
      "\u001B[34m#015Downloading (…)of-00003.safetensors:   0%|          | 0.00/9.95G [00:00<?, ?B/s]#033[A\u001B[0m\n",
      "\u001B[34m#015Downloading (…)of-00003.safetensors:   0%|          | 21.0M/9.95G [00:00<01:06, 149MB/s]#033[A\u001B[0m\n",
      "\u001B[34m#015Downloading (…)of-00003.safetensors:   1%|          | 52.4M/9.95G [00:00<00:52, 187MB/s]#033[A\u001B[0m\n",
      "\u001B[34m#015Downloading (…)of-00003.safetensors:   1%|          | 94.4M/9.95G [00:00<00:36, 271MB/s]#033[A\u001B[0m\n",
      "\u001B[34m#015Downloading (…)of-00003.safetensors:   1%|▏         | 147M/9.95G [00:00<00:27, 352MB/s] #033[A\u001B[0m\n",
      "\u001B[34m#015Downloading (…)of-00003.safetensors:   2%|▏         | 189M/9.95G [00:00<00:28, 342MB/s]#033[A\u001B[0m\n",
      "\u001B[34m#015Downloading (…)of-00003.safetensors:   2%|▏         | 241M/9.95G [00:00<00:25, 385MB/s]#033[A\u001B[0m\n",
      "\u001B[34m#015Downloading (…)of-00003.safetensors:   3%|▎         | 283M/9.95G [00:00<00:24, 387MB/s]#033[A\u001B[0m\n",
      "\u001B[34m#015Downloading (…)of-00003.safetensors:   3%|▎         | 336M/9.95G [00:00<00:23, 411MB/s]#033[A\u001B[0m\n",
      "\u001B[34m#015Downloading (…)of-00003.safetensors:   4%|▍         | 377M/9.95G [00:01<00:25, 381MB/s]#033[A\u001B[0m\n",
      "\u001B[34m#015Downloading (…)of-00003.safetensors:   4%|▍         | 419M/9.95G [00:01<00:25, 372MB/s]#033[A\u001B[0m\n",
      "\u001B[34m#015Downloading (…)of-00003.safetensors:   5%|▍         | 461M/9.95G [00:01<00:26, 355MB/s]#033[A\u001B[0m\n",
      "\u001B[34m#015Downloading (…)of-00003.safetensors:   5%|▌         | 514M/9.95G [00:01<00:24, 389MB/s]#033[A\u001B[0m\n",
      "\u001B[34m#015Downloading (…)of-00003.safetensors:   6%|▌         | 566M/9.95G [00:01<00:22, 409MB/s]#033[A\u001B[0m\n",
      "\u001B[34m#015Downloading (…)of-00003.safetensors:   6%|▌         | 608M/9.95G [00:01<00:23, 398MB/s]#033[A\u001B[0m\n",
      "\u001B[34m#015Downloading (…)of-00003.safetensors:   7%|▋         | 650M/9.95G [00:01<00:24, 385MB/s]#033[A\u001B[0m\n",
      "\u001B[34m#015Downloading (…)of-00003.safetensors:   7%|▋         | 703M/9.95G [00:01<00:22, 404MB/s]#033[A\u001B[0m\n",
      "\u001B[34m#015Downloading (…)of-00003.safetensors:   7%|▋         | 744M/9.95G [00:02<00:22, 402MB/s]#033[A\u001B[0m\n",
      "\u001B[34m#015Downloading (…)of-00003.safetensors:   8%|▊         | 797M/9.95G [00:02<00:21, 433MB/s]#033[A\u001B[0m\n",
      "\u001B[34m#015Downloading (…)of-00003.safetensors:   9%|▊         | 860M/9.95G [00:02<00:19, 463MB/s]#033[A\u001B[0m\n",
      "\u001B[34m#015Downloading (…)of-00003.safetensors:   9%|▉         | 912M/9.95G [00:02<00:19, 466MB/s]#033[A\u001B[0m\n",
      "\u001B[34m#015Downloading (…)of-00003.safetensors:  10%|▉         | 965M/9.95G [00:02<00:21, 421MB/s]#033[A\u001B[0m\n",
      "\u001B[34m#015Downloading (…)of-00003.safetensors:  10%|█         | 1.02G/9.95G [00:02<00:23, 388MB/s]#033[A\u001B[0m\n",
      "\u001B[34m#015Downloading (…)of-00003.safetensors:  11%|█         | 1.06G/9.95G [00:02<00:23, 374MB/s]#033[A\u001B[0m\n",
      "\u001B[34m#015Downloading (…)of-00003.safetensors:  11%|█         | 1.11G/9.95G [00:02<00:22, 394MB/s]#033[A\u001B[0m\n",
      "\u001B[34m#015Downloading (…)of-00003.safetensors:  12%|█▏        | 1.15G/9.95G [00:03<00:22, 396MB/s]#033[A\u001B[0m\n",
      "\u001B[34m#015Downloading (…)of-00003.safetensors:  12%|█▏        | 1.20G/9.95G [00:03<00:21, 401MB/s]#033[A\u001B[0m\n",
      "\u001B[34m#015Downloading (…)of-00003.safetensors:  13%|█▎        | 1.25G/9.95G [00:03<00:20, 423MB/s]#033[A\u001B[0m\n",
      "\u001B[34m#015Downloading (…)of-00003.safetensors:  13%|█▎        | 1.30G/9.95G [00:03<00:20, 425MB/s]#033[A\u001B[0m\n",
      "\u001B[34m#015Downloading (…)of-00003.safetensors:  14%|█▎        | 1.35G/9.95G [00:03<00:20, 422MB/s]#033[A\u001B[0m\n",
      "\u001B[34m#015Downloading (…)of-00003.safetensors:  14%|█▍        | 1.41G/9.95G [00:03<00:19, 443MB/s]#033[A\u001B[0m\n",
      "\u001B[34m#015Downloading (…)of-00003.safetensors:  15%|█▍        | 1.46G/9.95G [00:03<00:19, 443MB/s]#033[A\u001B[0m\n",
      "\u001B[34m#015Downloading (…)of-00003.safetensors:  15%|█▌        | 1.51G/9.95G [00:03<00:18, 449MB/s]#033[A\u001B[0m\n",
      "\u001B[34m#015Downloading (…)of-00003.safetensors:  16%|█▌        | 1.56G/9.95G [00:03<00:18, 463MB/s]#033[A\u001B[0m\n",
      "\u001B[34m#015Downloading (…)of-00003.safetensors:  16%|█▌        | 1.61G/9.95G [00:04<00:17, 476MB/s]#033[A\u001B[0m\n",
      "\u001B[34m#015Downloading (…)of-00003.safetensors:  17%|█▋        | 1.67G/9.95G [00:04<00:17, 464MB/s]#033[A\u001B[0m\n",
      "\u001B[34m#015Downloading (…)of-00003.safetensors:  17%|█▋        | 1.72G/9.95G [00:04<00:19, 433MB/s]#033[A\u001B[0m\n",
      "\u001B[34m#015Downloading (…)of-00003.safetensors:  18%|█▊        | 1.77G/9.95G [00:04<00:18, 450MB/s]#033[A\u001B[0m\n",
      "\u001B[34m#015Downloading (…)of-00003.safetensors:  18%|█▊        | 1.82G/9.95G [00:04<00:17, 456MB/s]#033[A\u001B[0m\n",
      "\u001B[34m#015Downloading (…)of-00003.safetensors:  19%|█▉        | 1.88G/9.95G [00:04<00:20, 392MB/s]#033[A\u001B[0m\n",
      "\u001B[34m#015Downloading (…)of-00003.safetensors:  19%|█▉        | 1.92G/9.95G [00:04<00:20, 384MB/s]#033[A\u001B[0m\n",
      "\u001B[34m#015Downloading (…)of-00003.safetensors:  20%|█▉        | 1.96G/9.95G [00:04<00:20, 390MB/s]#033[A\u001B[0m\n",
      "\u001B[34m#015Downloading (…)of-00003.safetensors:  20%|██        | 2.01G/9.95G [00:04<00:19, 415MB/s]#033[A\u001B[0m\n",
      "\u001B[34m#015Downloading (…)of-00003.safetensors:  21%|██        | 2.07G/9.95G [00:05<00:17, 440MB/s]#033[A\u001B[0m\n",
      "\u001B[34m#015Downloading (…)of-00003.safetensors:  21%|██▏       | 2.12G/9.95G [00:05<00:17, 437MB/s]#033[A\u001B[0m\n",
      "\u001B[34m#015Downloading (…)of-00003.safetensors:  22%|██▏       | 2.17G/9.95G [00:05<00:18, 411MB/s]#033[A\u001B[0m\n",
      "\u001B[34m#015Downloading (…)of-00003.safetensors:  22%|██▏       | 2.22G/9.95G [00:05<00:18, 413MB/s]#033[A\u001B[0m\n",
      "\u001B[34m#015Downloading (…)of-00003.safetensors:  23%|██▎       | 2.26G/9.95G [00:05<00:19, 386MB/s]#033[A\u001B[0m\n",
      "\u001B[34m#015Downloading (…)of-00003.safetensors:  23%|██▎       | 2.31G/9.95G [00:05<00:21, 354MB/s]#033[A\u001B[0m\n",
      "\u001B[34m#015Downloading (…)of-00003.safetensors:  24%|██▎       | 2.36G/9.95G [00:05<00:19, 380MB/s]#033[A\u001B[0m\n",
      "\u001B[34m#015Downloading (…)of-00003.safetensors:  24%|██▍       | 2.41G/9.95G [00:06<00:19, 392MB/s]#033[A\u001B[0m\n",
      "\u001B[34m#015Downloading (…)of-00003.safetensors:  25%|██▍       | 2.45G/9.95G [00:06<00:18, 396MB/s]#033[A\u001B[0m\n",
      "\u001B[34m#015Downloading (…)of-00003.safetensors:  25%|██▌       | 2.50G/9.95G [00:06<00:18, 398MB/s]#033[A\u001B[0m\n",
      "\u001B[34m#015Downloading (…)of-00003.safetensors:  26%|██▌       | 2.54G/9.95G [00:06<00:19, 374MB/s]#033[A\u001B[0m\n",
      "\u001B[34m#015Downloading (…)of-00003.safetensors:  26%|██▌       | 2.59G/9.95G [00:06<00:18, 408MB/s]#033[A\u001B[0m\n",
      "\u001B[34m#015Downloading (…)of-00003.safetensors:  26%|██▋       | 2.63G/9.95G [00:06<00:17, 410MB/s]#033[A\u001B[0m\n",
      "\u001B[34m#015Downloading (…)of-00003.safetensors:  27%|██▋       | 2.68G/9.95G [00:06<00:16, 435MB/s]#033[A\u001B[0m\n",
      "\u001B[34m#015Downloading (…)of-00003.safetensors:  28%|██▊       | 2.74G/9.95G [00:06<00:16, 447MB/s]#033[A\u001B[0m\n",
      "\u001B[34m#015Downloading (…)of-00003.safetensors:  28%|██▊       | 2.80G/9.95G [00:06<00:15, 476MB/s]#033[A\u001B[0m\n",
      "\u001B[34m#015Downloading (…)of-00003.safetensors:  29%|██▊       | 2.85G/9.95G [00:07<00:15, 454MB/s]#033[A\u001B[0m\n",
      "\u001B[34m#015Downloading (…)of-00003.safetensors:  29%|██▉       | 2.90G/9.95G [00:07<00:15, 447MB/s]#033[A\u001B[0m\n",
      "\u001B[34m#015Downloading (…)of-00003.safetensors:  30%|██▉       | 2.96G/9.95G [00:07<00:15, 442MB/s]#033[A\u001B[0m\n",
      "\u001B[34m#015Downloading (…)of-00003.safetensors:  30%|███       | 3.01G/9.95G [00:07<00:15, 452MB/s]#033[A\u001B[0m\n",
      "\u001B[34m#015Downloading (…)of-00003.safetensors:  31%|███       | 3.06G/9.95G [00:07<00:16, 416MB/s]#033[A\u001B[0m\n",
      "\u001B[34m#015Downloading (…)of-00003.safetensors:  31%|███▏      | 3.11G/9.95G [00:07<00:17, 400MB/s]#033[A\u001B[0m\n",
      "\u001B[34m#015Downloading (…)of-00003.safetensors:  32%|███▏      | 3.18G/9.95G [00:07<00:15, 432MB/s]#033[A\u001B[0m\n",
      "\u001B[34m#015Downloading (…)of-00003.safetensors:  32%|███▏      | 3.23G/9.95G [00:07<00:15, 426MB/s]#033[A\u001B[0m\n",
      "\u001B[34m#015Downloading (…)of-00003.safetensors:  33%|███▎      | 3.28G/9.95G [00:08<00:15, 444MB/s]#033[A\u001B[0m\n",
      "\u001B[34m#015Downloading (…)of-00003.safetensors:  34%|███▎      | 3.33G/9.95G [00:08<00:15, 437MB/s]#033[A\u001B[0m\n",
      "\u001B[34m#015Downloading (…)of-00003.safetensors:  34%|███▍      | 3.39G/9.95G [00:08<00:15, 435MB/s]#033[A\u001B[0m\n",
      "\u001B[34m#015Downloading (…)of-00003.safetensors:  35%|███▍      | 3.44G/9.95G [00:08<00:14, 440MB/s]#033[A\u001B[0m\n",
      "\u001B[34m#015Downloading (…)of-00003.safetensors:  35%|███▌      | 3.49G/9.95G [00:08<00:15, 422MB/s]#033[A\u001B[0m\n",
      "\u001B[34m#015Downloading (…)of-00003.safetensors:  36%|███▌      | 3.54G/9.95G [00:08<00:14, 440MB/s]#033[A\u001B[0m\n",
      "\u001B[34m#015Downloading (…)of-00003.safetensors:  36%|███▌      | 3.60G/9.95G [00:08<00:15, 419MB/s]#033[A\u001B[0m\n",
      "\u001B[34m#015Downloading (…)of-00003.safetensors:  37%|███▋      | 3.65G/9.95G [00:08<00:15, 400MB/s]#033[A\u001B[0m\n",
      "\u001B[34m#015Downloading (…)of-00003.safetensors:  37%|███▋      | 3.69G/9.95G [00:08<00:15, 405MB/s]#033[A\u001B[0m\n",
      "\u001B[34m#015Downloading (…)of-00003.safetensors:  38%|███▊      | 3.74G/9.95G [00:09<00:14, 419MB/s]#033[A\u001B[0m\n",
      "\u001B[34m#015Downloading (…)of-00003.safetensors:  38%|███▊      | 3.80G/9.95G [00:09<00:14, 421MB/s]#033[A\u001B[0m\n",
      "\u001B[34m#015Downloading (…)of-00003.safetensors:  39%|███▊      | 3.85G/9.95G [00:09<00:13, 436MB/s]#033[A\u001B[0m\n",
      "\u001B[34m#015Downloading (…)of-00003.safetensors:  39%|███▉      | 3.90G/9.95G [00:09<00:13, 447MB/s]#033[A\u001B[0m\n",
      "\u001B[34m#015Downloading (…)of-00003.safetensors:  40%|███▉      | 3.95G/9.95G [00:09<00:14, 410MB/s]#033[A\u001B[0m\n",
      "\u001B[34m#015Downloading (…)of-00003.safetensors:  40%|████      | 4.00G/9.95G [00:09<00:14, 412MB/s]#033[A\u001B[0m\n",
      "\u001B[34m#015Downloading (…)of-00003.safetensors:  41%|████      | 4.04G/9.95G [00:09<00:14, 410MB/s]#033[A\u001B[0m\n",
      "\u001B[34m#015Downloading (…)of-00003.safetensors:  41%|████      | 4.10G/9.95G [00:09<00:13, 439MB/s]#033[A\u001B[0m\n",
      "\u001B[34m#015Downloading (…)of-00003.safetensors:  42%|████▏     | 4.15G/9.95G [00:10<00:12, 447MB/s]#033[A\u001B[0m\n",
      "\u001B[34m#015Downloading (…)of-00003.safetensors:  42%|████▏     | 4.20G/9.95G [00:10<00:19, 300MB/s]#033[A\u001B[0m\n",
      "\u001B[34m#015Downloading (…)of-00003.safetensors:  43%|████▎     | 4.25G/9.95G [00:10<00:19, 290MB/s]#033[A\u001B[0m\n",
      "\u001B[34m#015Downloading (…)of-00003.safetensors:  43%|████▎     | 4.29G/9.95G [00:10<00:18, 309MB/s]#033[A\u001B[0m\n",
      "\u001B[34m#015Downloading (…)of-00003.safetensors:  44%|████▎     | 4.34G/9.95G [00:10<00:16, 348MB/s]#033[A\u001B[0m\n",
      "\u001B[34m#015Downloading (…)of-00003.safetensors:  44%|████▍     | 4.40G/9.95G [00:10<00:13, 399MB/s]#033[A\u001B[0m\n",
      "\u001B[34m#015Downloading (…)of-00003.safetensors:  45%|████▍     | 4.46G/9.95G [00:10<00:13, 412MB/s]#033[A\u001B[0m\n",
      "\u001B[34m#015Downloading (…)of-00003.safetensors:  45%|████▌     | 4.51G/9.95G [00:11<00:12, 419MB/s]#033[A\u001B[0m\n",
      "\u001B[34m#015Downloading (…)of-00003.safetensors:  46%|████▌     | 4.57G/9.95G [00:11<00:11, 449MB/s]#033[A\u001B[0m\n",
      "\u001B[34m#015Downloading (…)of-00003.safetensors:  46%|████▋     | 4.62G/9.95G [00:11<00:12, 415MB/s]#033[A\u001B[0m\n",
      "\u001B[34m#015Downloading (…)of-00003.safetensors:  47%|████▋     | 4.68G/9.95G [00:11<00:13, 387MB/s]#033[A\u001B[0m\n",
      "\u001B[34m#015Downloading (…)of-00003.safetensors:  47%|████▋     | 4.72G/9.95G [00:11<00:14, 368MB/s]#033[A\u001B[0m\n",
      "\u001B[34m#015Downloading (…)of-00003.safetensors:  48%|████▊     | 4.77G/9.95G [00:11<00:13, 394MB/s]#033[A\u001B[0m\n",
      "\u001B[34m#015Downloading (…)of-00003.safetensors:  48%|████▊     | 4.81G/9.95G [00:11<00:14, 358MB/s]#033[A\u001B[0m\n",
      "\u001B[34m#015Downloading (…)of-00003.safetensors:  49%|████▉     | 4.87G/9.95G [00:12<00:13, 382MB/s]#033[A\u001B[0m\n",
      "\u001B[34m#015Downloading (…)of-00003.safetensors:  49%|████▉     | 4.91G/9.95G [00:12<00:13, 376MB/s]#033[A\u001B[0m\n",
      "\u001B[34m#015Downloading (…)of-00003.safetensors:  50%|████▉     | 4.95G/9.95G [00:12<00:13, 370MB/s]#033[A\u001B[0m\n",
      "\u001B[34m#015Downloading (…)of-00003.safetensors:  50%|█████     | 5.00G/9.95G [00:12<00:12, 391MB/s]#033[A\u001B[0m\n",
      "\u001B[34m#015Downloading (…)of-00003.safetensors:  51%|█████     | 5.06G/9.95G [00:12<00:11, 435MB/s]#033[A\u001B[0m\n",
      "\u001B[34m#015Downloading (…)of-00003.safetensors:  51%|█████▏    | 5.12G/9.95G [00:12<00:11, 412MB/s]#033[A\u001B[0m\n",
      "\u001B[34m#015Downloading (…)of-00003.safetensors:  52%|█████▏    | 5.18G/9.95G [00:12<00:10, 452MB/s]#033[A\u001B[0m\n",
      "\u001B[34m#015Downloading (…)of-00003.safetensors:  53%|█████▎    | 5.24G/9.95G [00:12<00:09, 481MB/s]#033[A\u001B[0m\n",
      "\u001B[34m#015Downloading (…)of-00003.safetensors:  53%|█████▎    | 5.30G/9.95G [00:12<00:09, 471MB/s]#033[A\u001B[0m\n",
      "\u001B[34m#015Downloading (…)of-00003.safetensors:  54%|█████▍    | 5.35G/9.95G [00:13<00:10, 444MB/s]#033[A\u001B[0m\n",
      "\u001B[34m#015Downloading (…)of-00003.safetensors:  54%|█████▍    | 5.40G/9.95G [00:13<00:10, 435MB/s]#033[A\u001B[0m\n",
      "\u001B[34m#015Downloading (…)of-00003.safetensors:  55%|█████▍    | 5.45G/9.95G [00:13<00:10, 441MB/s]#033[A\u001B[0m\n",
      "\u001B[34m#015Downloading (…)of-00003.safetensors:  55%|█████▌    | 5.51G/9.95G [00:13<00:09, 462MB/s]#033[A\u001B[0m\n",
      "\u001B[34m#015Downloading (…)of-00003.safetensors:  56%|█████▌    | 5.56G/9.95G [00:13<00:10, 433MB/s]#033[A\u001B[0m\n",
      "\u001B[34m#015Downloading (…)of-00003.safetensors:  56%|█████▋    | 5.61G/9.95G [00:13<00:10, 430MB/s]#033[A\u001B[0m\n",
      "\u001B[34m#015Downloading (…)of-00003.safetensors:  57%|█████▋    | 5.66G/9.95G [00:13<00:10, 428MB/s]#033[A\u001B[0m\n",
      "\u001B[34m#015Downloading (…)of-00003.safetensors:  57%|█████▋    | 5.71G/9.95G [00:13<00:10, 414MB/s]#033[A\u001B[0m\n",
      "\u001B[34m#015Downloading (…)of-00003.safetensors:  58%|█████▊    | 5.76G/9.95G [00:14<00:10, 397MB/s]#033[A\u001B[0m\n",
      "\u001B[34m#015Downloading (…)of-00003.safetensors:  58%|█████▊    | 5.81G/9.95G [00:14<00:09, 430MB/s]#033[A\u001B[0m\n",
      "\u001B[34m#015Downloading (…)of-00003.safetensors:  59%|█████▉    | 5.86G/9.95G [00:14<00:09, 436MB/s]#033[A\u001B[0m\n",
      "\u001B[34m#015Downloading (…)of-00003.safetensors:  59%|█████▉    | 5.91G/9.95G [00:14<00:09, 444MB/s]#033[A\u001B[0m\n",
      "\u001B[34m#015Downloading (…)of-00003.safetensors:  60%|█████▉    | 5.97G/9.95G [00:14<00:08, 462MB/s]#033[A\u001B[0m\n",
      "\u001B[34m#015Downloading (…)of-00003.safetensors:  61%|██████    | 6.03G/9.95G [00:14<00:08, 485MB/s]#033[A\u001B[0m\n",
      "\u001B[34m#015Downloading (…)of-00003.safetensors:  61%|██████    | 6.08G/9.95G [00:14<00:08, 476MB/s]#033[A\u001B[0m\n",
      "\u001B[34m#015Downloading (…)of-00003.safetensors:  62%|██████▏   | 6.13G/9.95G [00:14<00:07, 480MB/s]#033[A\u001B[0m\n",
      "\u001B[34m#015Downloading (…)of-00003.safetensors:  62%|██████▏   | 6.19G/9.95G [00:14<00:08, 462MB/s]#033[A\u001B[0m\n",
      "\u001B[34m#015Downloading (…)of-00003.safetensors:  63%|██████▎   | 6.24G/9.95G [00:15<00:08, 430MB/s]#033[A\u001B[0m\n",
      "\u001B[34m#015Downloading (…)of-00003.safetensors:  63%|██████▎   | 6.30G/9.95G [00:15<00:07, 457MB/s]#033[A\u001B[0m\n",
      "\u001B[34m#015Downloading (…)of-00003.safetensors:  64%|██████▍   | 6.35G/9.95G [00:15<00:07, 460MB/s]#033[A\u001B[0m\n",
      "\u001B[34m#015Downloading (…)of-00003.safetensors:  64%|██████▍   | 6.41G/9.95G [00:15<00:07, 459MB/s]#033[A\u001B[0m\n",
      "\u001B[34m#015Downloading (…)of-00003.safetensors:  65%|██████▍   | 6.46G/9.95G [00:15<00:07, 457MB/s]#033[A\u001B[0m\n",
      "\u001B[34m#015Downloading (…)of-00003.safetensors:  65%|██████▌   | 6.51G/9.95G [00:15<00:07, 454MB/s]#033[A\u001B[0m\n",
      "\u001B[34m#015Downloading (…)of-00003.safetensors:  66%|██████▌   | 6.56G/9.95G [00:15<00:08, 396MB/s]#033[A\u001B[0m\n",
      "\u001B[34m#015Downloading (…)of-00003.safetensors:  67%|██████▋   | 6.62G/9.95G [00:16<00:08, 411MB/s]#033[A\u001B[0m\n",
      "\u001B[34m#015Downloading (…)of-00003.safetensors:  67%|██████▋   | 6.67G/9.95G [00:16<00:07, 427MB/s]#033[A\u001B[0m\n",
      "\u001B[34m#015Downloading (…)of-00003.safetensors:  68%|██████▊   | 6.72G/9.95G [00:16<00:07, 440MB/s]#033[A\u001B[0m\n",
      "\u001B[34m#015Downloading (…)of-00003.safetensors:  68%|██████▊   | 6.77G/9.95G [00:16<00:07, 453MB/s]#033[A\u001B[0m\n",
      "\u001B[34m#015Downloading (…)of-00003.safetensors:  69%|██████▊   | 6.83G/9.95G [00:16<00:07, 427MB/s]#033[A\u001B[0m\n",
      "\u001B[34m#015Downloading (…)of-00003.safetensors:  69%|██████▉   | 6.88G/9.95G [00:16<00:07, 412MB/s]#033[A\u001B[0m\n",
      "\u001B[34m#015Downloading (…)of-00003.safetensors:  70%|██████▉   | 6.93G/9.95G [00:16<00:07, 431MB/s]#033[A\u001B[0m\n",
      "\u001B[34m#015Downloading (…)of-00003.safetensors:  70%|███████   | 6.99G/9.95G [00:16<00:06, 461MB/s]#033[A\u001B[0m\n",
      "\u001B[34m#015Downloading (…)of-00003.safetensors:  71%|███████   | 7.05G/9.95G [00:16<00:06, 460MB/s]#033[A\u001B[0m\n",
      "\u001B[34m#015Downloading (…)of-00003.safetensors:  71%|███████▏  | 7.10G/9.95G [00:17<00:06, 451MB/s]#033[A\u001B[0m\n",
      "\u001B[34m#015Downloading (…)of-00003.safetensors:  72%|███████▏  | 7.15G/9.95G [00:17<00:06, 456MB/s]#033[A\u001B[0m\n",
      "\u001B[34m#015Downloading (…)of-00003.safetensors:  72%|███████▏  | 7.20G/9.95G [00:17<00:05, 465MB/s]#033[A\u001B[0m\n",
      "\u001B[34m#015Downloading (…)of-00003.safetensors:  73%|███████▎  | 7.26G/9.95G [00:17<00:05, 478MB/s]#033[A\u001B[0m\n",
      "\u001B[34m#015Downloading (…)of-00003.safetensors:  73%|███████▎  | 7.31G/9.95G [00:17<00:05, 481MB/s]#033[A\u001B[0m\n",
      "\u001B[34m#015Downloading (…)of-00003.safetensors:  74%|███████▍  | 7.36G/9.95G [00:17<00:05, 470MB/s]#033[A\u001B[0m\n",
      "\u001B[34m#015Downloading (…)of-00003.safetensors:  75%|███████▍  | 7.41G/9.95G [00:17<00:05, 472MB/s]#033[A\u001B[0m\n",
      "\u001B[34m#015Downloading (…)of-00003.safetensors:  75%|███████▌  | 7.47G/9.95G [00:17<00:05, 469MB/s]#033[A\u001B[0m\n",
      "\u001B[34m#015Downloading (…)of-00003.safetensors:  76%|███████▌  | 7.53G/9.95G [00:17<00:04, 499MB/s]#033[A\u001B[0m\n",
      "\u001B[34m#015Downloading (…)of-00003.safetensors:  76%|███████▌  | 7.58G/9.95G [00:18<00:04, 500MB/s]#033[A\u001B[0m\n",
      "\u001B[34m#015Downloading (…)of-00003.safetensors:  77%|███████▋  | 7.63G/9.95G [00:18<00:04, 485MB/s]#033[A\u001B[0m\n",
      "\u001B[34m#015Downloading (…)of-00003.safetensors:  77%|███████▋  | 7.69G/9.95G [00:18<00:04, 490MB/s]#033[A\u001B[0m\n",
      "\u001B[34m#015Downloading (…)of-00003.safetensors:  78%|███████▊  | 7.74G/9.95G [00:18<00:04, 456MB/s]#033[A\u001B[0m\n",
      "\u001B[34m#015Downloading (…)of-00003.safetensors:  78%|███████▊  | 7.80G/9.95G [00:18<00:04, 477MB/s]#033[A\u001B[0m\n",
      "\u001B[34m#015Downloading (…)of-00003.safetensors:  79%|███████▉  | 7.86G/9.95G [00:18<00:04, 498MB/s]#033[A\u001B[0m\n",
      "\u001B[34m#015Downloading (…)of-00003.safetensors:  80%|███████▉  | 7.92G/9.95G [00:18<00:04, 450MB/s]#033[A\u001B[0m\n",
      "\u001B[34m#015Downloading (…)of-00003.safetensors:  80%|████████  | 7.97G/9.95G [00:18<00:04, 435MB/s]#033[A\u001B[0m\n",
      "\u001B[34m#015Downloading (…)of-00003.safetensors:  81%|████████  | 8.02G/9.95G [00:19<00:04, 441MB/s]#033[A\u001B[0m\n",
      "\u001B[34m#015Downloading (…)of-00003.safetensors:  81%|████████  | 8.07G/9.95G [00:19<00:04, 435MB/s]#033[A\u001B[0m\n",
      "\u001B[34m#015Downloading (…)of-00003.safetensors:  82%|████████▏ | 8.13G/9.95G [00:19<00:05, 361MB/s]#033[A\u001B[0m\n",
      "\u001B[34m#015Downloading (…)of-00003.safetensors:  82%|████████▏ | 8.19G/9.95G [00:19<00:04, 408MB/s]#033[A\u001B[0m\n",
      "\u001B[34m#015Downloading (…)of-00003.safetensors:  83%|████████▎ | 8.24G/9.95G [00:19<00:04, 422MB/s]#033[A\u001B[0m\n",
      "\u001B[34m#015Downloading (…)of-00003.safetensors:  83%|████████▎ | 8.29G/9.95G [00:19<00:03, 425MB/s]#033[A\u001B[0m\n",
      "\u001B[34m#015Downloading (…)of-00003.safetensors:  84%|████████▍ | 8.35G/9.95G [00:19<00:03, 431MB/s]#033[A\u001B[0m\n",
      "\u001B[34m#015Downloading (…)of-00003.safetensors:  84%|████████▍ | 8.40G/9.95G [00:19<00:03, 432MB/s]#033[A\u001B[0m\n",
      "\u001B[34m#015Downloading (…)of-00003.safetensors:  85%|████████▍ | 8.45G/9.95G [00:20<00:03, 452MB/s]#033[A\u001B[0m\n",
      "\u001B[34m#015Downloading (…)of-00003.safetensors:  86%|████████▌ | 8.51G/9.95G [00:20<00:02, 479MB/s]#033[A\u001B[0m\n",
      "\u001B[34m#015Downloading (…)of-00003.safetensors:  86%|████████▌ | 8.57G/9.95G [00:20<00:02, 487MB/s]#033[A\u001B[0m\n",
      "\u001B[34m#015Downloading (…)of-00003.safetensors:  87%|████████▋ | 8.63G/9.95G [00:20<00:02, 498MB/s]#033[A\u001B[0m\n",
      "\u001B[34m#015Downloading (…)of-00003.safetensors:  87%|████████▋ | 8.68G/9.95G [00:20<00:02, 502MB/s]#033[A\u001B[0m\n",
      "\u001B[34m#015Downloading (…)of-00003.safetensors:  88%|████████▊ | 8.75G/9.95G [00:20<00:02, 509MB/s]#033[A\u001B[0m\n",
      "\u001B[34m#015Downloading (…)of-00003.safetensors:  88%|████████▊ | 8.80G/9.95G [00:20<00:02, 506MB/s]#033[A\u001B[0m\n",
      "\u001B[34m#015Downloading (…)of-00003.safetensors:  89%|████████▉ | 8.85G/9.95G [00:20<00:02, 489MB/s]#033[A\u001B[0m\n",
      "\u001B[34m#015Downloading (…)of-00003.safetensors:  89%|████████▉ | 8.90G/9.95G [00:20<00:02, 476MB/s]#033[A\u001B[0m\n",
      "\u001B[34m#015Downloading (…)of-00003.safetensors:  90%|█████████ | 8.95G/9.95G [00:21<00:02, 479MB/s]#033[A\u001B[0m\n",
      "\u001B[34m#015Downloading (…)of-00003.safetensors:  91%|█████████ | 9.01G/9.95G [00:21<00:01, 471MB/s]#033[A\u001B[0m\n",
      "\u001B[34m#015Downloading (…)of-00003.safetensors:  91%|█████████ | 9.06G/9.95G [00:21<00:01, 463MB/s]#033[A\u001B[0m\n",
      "\u001B[34m#015Downloading (…)of-00003.safetensors:  92%|█████████▏| 9.11G/9.95G [00:21<00:01, 452MB/s]#033[A\u001B[0m\n",
      "\u001B[34m#015Downloading (…)of-00003.safetensors:  92%|█████████▏| 9.16G/9.95G [00:21<00:01, 453MB/s]#033[A\u001B[0m\n",
      "\u001B[34m#015Downloading (…)of-00003.safetensors:  93%|█████████▎| 9.22G/9.95G [00:21<00:01, 458MB/s]#033[A\u001B[0m\n",
      "\u001B[34m#015Downloading (…)of-00003.safetensors:  93%|█████████▎| 9.27G/9.95G [00:21<00:01, 458MB/s]#033[A\u001B[0m\n",
      "\u001B[34m#015Downloading (…)of-00003.safetensors:  94%|█████████▎| 9.32G/9.95G [00:21<00:01, 465MB/s]#033[A\u001B[0m\n",
      "\u001B[34m#015Downloading (…)of-00003.safetensors:  94%|█████████▍| 9.37G/9.95G [00:21<00:01, 474MB/s]#033[A\u001B[0m\n",
      "\u001B[34m#015Downloading (…)of-00003.safetensors:  95%|█████████▍| 9.43G/9.95G [00:22<00:01, 466MB/s]#033[A\u001B[0m\n",
      "\u001B[34m#015Downloading (…)of-00003.safetensors:  95%|█████████▌| 9.48G/9.95G [00:22<00:01, 461MB/s]#033[A\u001B[0m\n",
      "\u001B[34m#015Downloading (…)of-00003.safetensors:  96%|█████████▌| 9.53G/9.95G [00:22<00:00, 440MB/s]#033[A\u001B[0m\n",
      "\u001B[34m#015Downloading (…)of-00003.safetensors:  96%|█████████▋| 9.58G/9.95G [00:22<00:00, 457MB/s]#033[A\u001B[0m\n",
      "\u001B[34m#015Downloading (…)of-00003.safetensors:  97%|█████████▋| 9.64G/9.95G [00:22<00:00, 447MB/s]#033[A\u001B[0m\n",
      "\u001B[34m#015Downloading (…)of-00003.safetensors:  97%|█████████▋| 9.69G/9.95G [00:22<00:00, 464MB/s]#033[A\u001B[0m\n",
      "\u001B[34m#015Downloading (…)of-00003.safetensors:  98%|█████████▊| 9.74G/9.95G [00:22<00:00, 463MB/s]#033[A\u001B[0m\n",
      "\u001B[34m#015Downloading (…)of-00003.safetensors:  98%|█████████▊| 9.79G/9.95G [00:22<00:00, 469MB/s]#033[A\u001B[0m\n",
      "\u001B[34m#015Downloading (…)of-00003.safetensors:  99%|█████████▉| 9.85G/9.95G [00:23<00:00, 444MB/s]#033[A\u001B[0m\n",
      "\u001B[34m#015Downloading (…)of-00003.safetensors:  99%|█████████▉| 9.90G/9.95G [00:23<00:00, 450MB/s]#033[A\u001B[0m\n",
      "\u001B[34m#015Downloading (…)of-00003.safetensors: 100%|██████████| 9.95G/9.95G [00:23<00:00, 462MB/s]#033[A#015Downloading (…)of-00003.safetensors: 100%|██████████| 9.95G/9.95G [00:23<00:00, 428MB/s]\u001B[0m\n",
      "\u001B[34m#015Downloading shards:  33%|███▎      | 1/3 [00:23<00:46, 23.37s/it]\u001B[0m\n",
      "\u001B[34m#015Downloading (…)of-00003.safetensors:   0%|          | 0.00/9.90G [00:00<?, ?B/s]#033[A\u001B[0m\n",
      "\u001B[34m#015Downloading (…)of-00003.safetensors:   1%|          | 52.4M/9.90G [00:00<00:22, 432MB/s]#033[A\u001B[0m\n",
      "\u001B[34m#015Downloading (…)of-00003.safetensors:   1%|          | 115M/9.90G [00:00<00:19, 490MB/s] #033[A\u001B[0m\n",
      "\u001B[34m#015Downloading (…)of-00003.safetensors:   2%|▏         | 178M/9.90G [00:00<00:19, 510MB/s]#033[A\u001B[0m\n",
      "\u001B[34m#015Downloading (…)of-00003.safetensors:   2%|▏         | 231M/9.90G [00:00<00:19, 503MB/s]#033[A\u001B[0m\n",
      "\u001B[34m#015Downloading (…)of-00003.safetensors:   3%|▎         | 283M/9.90G [00:00<00:19, 488MB/s]#033[A\u001B[0m\n",
      "\u001B[34m#015Downloading (…)of-00003.safetensors:   3%|▎         | 336M/9.90G [00:00<00:20, 472MB/s]#033[A\u001B[0m\n",
      "\u001B[34m#015Downloading (…)of-00003.safetensors:   4%|▍         | 398M/9.90G [00:00<00:19, 497MB/s]#033[A\u001B[0m\n",
      "\u001B[34m#015Downloading (…)of-00003.safetensors:   5%|▍         | 451M/9.90G [00:00<00:20, 463MB/s]#033[A\u001B[0m\n",
      "\u001B[34m#015Downloading (…)of-00003.safetensors:   5%|▌         | 514M/9.90G [00:01<00:18, 496MB/s]#033[A\u001B[0m\n",
      "\u001B[34m#015Downloading (…)of-00003.safetensors:   6%|▌         | 577M/9.90G [00:01<00:17, 520MB/s]#033[A\u001B[0m\n",
      "\u001B[34m#015Downloading (…)of-00003.safetensors:   6%|▋         | 640M/9.90G [00:01<00:17, 539MB/s]#033[A\u001B[0m\n",
      "\u001B[34m#015Downloading (…)of-00003.safetensors:   7%|▋         | 703M/9.90G [00:01<00:16, 551MB/s]#033[A\u001B[0m\n",
      "\u001B[34m#015Downloading (…)of-00003.safetensors:   8%|▊         | 765M/9.90G [00:01<00:16, 559MB/s]#033[A\u001B[0m\n",
      "\u001B[34m#015Downloading (…)of-00003.safetensors:   8%|▊         | 828M/9.90G [00:01<00:16, 543MB/s]#033[A\u001B[0m\n",
      "\u001B[34m#015Downloading (…)of-00003.safetensors:   9%|▉         | 891M/9.90G [00:01<00:16, 537MB/s]#033[A\u001B[0m\n",
      "\u001B[34m#015Downloading (…)of-00003.safetensors:  10%|▉         | 954M/9.90G [00:01<00:17, 501MB/s]#033[A\u001B[0m\n",
      "\u001B[34m#015Downloading (…)of-00003.safetensors:  10%|█         | 1.01G/9.90G [00:02<00:19, 452MB/s]#033[A\u001B[0m\n",
      "\u001B[34m#015Downloading (…)of-00003.safetensors:  11%|█         | 1.06G/9.90G [00:02<00:19, 458MB/s]#033[A\u001B[0m\n",
      "\u001B[34m#015Downloading (…)of-00003.safetensors:  11%|█         | 1.11G/9.90G [00:02<00:19, 460MB/s]#033[A\u001B[0m\n",
      "\u001B[34m#015Downloading (…)of-00003.safetensors:  12%|█▏        | 1.16G/9.90G [00:02<00:19, 460MB/s]#033[A\u001B[0m\n",
      "\u001B[34m#015Downloading (…)of-00003.safetensors:  12%|█▏        | 1.22G/9.90G [00:02<00:19, 451MB/s]#033[A\u001B[0m\n",
      "\u001B[34m#015Downloading (…)of-00003.safetensors:  13%|█▎        | 1.27G/9.90G [00:02<00:18, 462MB/s]#033[A\u001B[0m\n",
      "\u001B[34m#015Downloading (…)of-00003.safetensors:  13%|█▎        | 1.32G/9.90G [00:02<00:18, 454MB/s]#033[A\u001B[0m\n",
      "\u001B[34m#015Downloading (…)of-00003.safetensors:  14%|█▍        | 1.37G/9.90G [00:02<00:18, 472MB/s]#033[A\u001B[0m\n",
      "\u001B[34m#015Downloading (…)of-00003.safetensors:  15%|█▍        | 1.44G/9.90G [00:02<00:17, 493MB/s]#033[A\u001B[0m\n",
      "\u001B[34m#015Downloading (…)of-00003.safetensors:  15%|█▌        | 1.49G/9.90G [00:03<00:16, 496MB/s]#033[A\u001B[0m\n",
      "\u001B[34m#015Downloading (…)of-00003.safetensors:  16%|█▌        | 1.54G/9.90G [00:03<00:16, 497MB/s]#033[A\u001B[0m\n",
      "\u001B[34m#015Downloading (…)of-00003.safetensors:  16%|█▌        | 1.59G/9.90G [00:03<00:16, 504MB/s]#033[A\u001B[0m\n",
      "\u001B[34m#015Downloading (…)of-00003.safetensors:  17%|█▋        | 1.65G/9.90G [00:03<00:18, 456MB/s]#033[A\u001B[0m\n",
      "\u001B[34m#015Downloading (…)of-00003.safetensors:  17%|█▋        | 1.70G/9.90G [00:03<00:22, 371MB/s]#033[A\u001B[0m\n",
      "\u001B[34m#015Downloading (…)of-00003.safetensors:  18%|█▊        | 1.75G/9.90G [00:03<00:21, 383MB/s]#033[A\u001B[0m\n",
      "\u001B[34m#015Downloading (…)of-00003.safetensors:  18%|█▊        | 1.79G/9.90G [00:03<00:22, 354MB/s]#033[A\u001B[0m\n",
      "\u001B[34m#015Downloading (…)of-00003.safetensors:  19%|█▊        | 1.84G/9.90G [00:03<00:22, 355MB/s]#033[A\u001B[0m\n",
      "\u001B[34m#015Downloading (…)of-00003.safetensors:  19%|█▉        | 1.89G/9.90G [00:04<00:20, 396MB/s]#033[A\u001B[0m\n",
      "\u001B[34m#015Downloading (…)of-00003.safetensors:  20%|█▉        | 1.94G/9.90G [00:04<00:19, 410MB/s]#033[A\u001B[0m\n",
      "\u001B[34m#015Downloading (…)of-00003.safetensors:  20%|██        | 1.99G/9.90G [00:04<00:18, 430MB/s]#033[A\u001B[0m\n",
      "\u001B[34m#015Downloading (…)of-00003.safetensors:  21%|██        | 2.04G/9.90G [00:04<00:19, 411MB/s]#033[A\u001B[0m\n",
      "\u001B[34m#015Downloading (…)of-00003.safetensors:  21%|██        | 2.10G/9.90G [00:04<00:18, 413MB/s]#033[A\u001B[0m\n",
      "\u001B[34m#015Downloading (…)of-00003.safetensors:  22%|██▏       | 2.15G/9.90G [00:04<00:18, 429MB/s]#033[A\u001B[0m\n",
      "\u001B[34m#015Downloading (…)of-00003.safetensors:  22%|██▏       | 2.20G/9.90G [00:04<00:17, 429MB/s]#033[A\u001B[0m\n",
      "\u001B[34m#015Downloading (…)of-00003.safetensors:  23%|██▎       | 2.25G/9.90G [00:04<00:17, 432MB/s]#033[A\u001B[0m\n",
      "\u001B[34m#015Downloading (…)of-00003.safetensors:  23%|██▎       | 2.31G/9.90G [00:05<00:16, 449MB/s]#033[A\u001B[0m\n",
      "\u001B[34m#015Downloading (…)of-00003.safetensors:  24%|██▍       | 2.36G/9.90G [00:05<00:17, 437MB/s]#033[A\u001B[0m\n",
      "\u001B[34m#015Downloading (…)of-00003.safetensors:  24%|██▍       | 2.41G/9.90G [00:05<00:17, 431MB/s]#033[A\u001B[0m\n",
      "\u001B[34m#015Downloading (…)of-00003.safetensors:  25%|██▍       | 2.46G/9.90G [00:05<00:17, 429MB/s]#033[A\u001B[0m\n",
      "\u001B[34m#015Downloading (…)of-00003.safetensors:  25%|██▌       | 2.52G/9.90G [00:05<00:16, 435MB/s]#033[A\u001B[0m\n",
      "\u001B[34m#015Downloading (…)of-00003.safetensors:  26%|██▌       | 2.57G/9.90G [00:05<00:16, 442MB/s]#033[A\u001B[0m\n",
      "\u001B[34m#015Downloading (…)of-00003.safetensors:  26%|██▋       | 2.62G/9.90G [00:05<00:16, 434MB/s]#033[A\u001B[0m\n",
      "\u001B[34m#015Downloading (…)of-00003.safetensors:  27%|██▋       | 2.67G/9.90G [00:05<00:16, 450MB/s]#033[A\u001B[0m\n",
      "\u001B[34m#015Downloading (…)of-00003.safetensors:  28%|██▊       | 2.73G/9.90G [00:05<00:16, 440MB/s]#033[A\u001B[0m\n",
      "\u001B[34m#015Downloading (…)of-00003.safetensors:  28%|██▊       | 2.78G/9.90G [00:06<00:15, 450MB/s]#033[A\u001B[0m\n",
      "\u001B[34m#015Downloading (…)of-00003.safetensors:  29%|██▊       | 2.83G/9.90G [00:06<00:15, 457MB/s]#033[A\u001B[0m\n",
      "\u001B[34m#015Downloading (…)of-00003.safetensors:  29%|██▉       | 2.88G/9.90G [00:06<00:15, 443MB/s]#033[A\u001B[0m\n",
      "\u001B[34m#015Downloading (…)of-00003.safetensors:  30%|██▉       | 2.94G/9.90G [00:06<00:16, 423MB/s]#033[A\u001B[0m\n",
      "\u001B[34m#015Downloading (…)of-00003.safetensors:  30%|███       | 2.99G/9.90G [00:06<00:17, 391MB/s]#033[A\u001B[0m\n",
      "\u001B[34m#015Downloading (…)of-00003.safetensors:  31%|███       | 3.03G/9.90G [00:06<00:17, 395MB/s]#033[A\u001B[0m\n",
      "\u001B[34m#015Downloading (…)of-00003.safetensors:  31%|███       | 3.08G/9.90G [00:06<00:16, 409MB/s]#033[A\u001B[0m\n",
      "\u001B[34m#015Downloading (…)of-00003.safetensors:  32%|███▏      | 3.14G/9.90G [00:06<00:16, 416MB/s]#033[A\u001B[0m\n",
      "\u001B[34m#015Downloading (…)of-00003.safetensors:  32%|███▏      | 3.18G/9.90G [00:07<00:16, 416MB/s]#033[A\u001B[0m\n",
      "\u001B[34m#015Downloading (…)of-00003.safetensors:  33%|███▎      | 3.22G/9.90G [00:07<00:17, 381MB/s]#033[A\u001B[0m\n",
      "\u001B[34m#015Downloading (…)of-00003.safetensors:  33%|███▎      | 3.26G/9.90G [00:07<00:17, 388MB/s]#033[A\u001B[0m\n",
      "\u001B[34m#015Downloading (…)of-00003.safetensors:  33%|███▎      | 3.31G/9.90G [00:07<00:15, 424MB/s]#033[A\u001B[0m\n",
      "\u001B[34m#015Downloading (…)of-00003.safetensors:  34%|███▍      | 3.37G/9.90G [00:07<00:15, 431MB/s]#033[A\u001B[0m\n",
      "\u001B[34m#015Downloading (…)of-00003.safetensors:  35%|███▍      | 3.42G/9.90G [00:07<00:22, 289MB/s]#033[A\u001B[0m\n",
      "\u001B[34m#015Downloading (…)of-00003.safetensors:  35%|███▌      | 3.47G/9.90G [00:07<00:19, 325MB/s]#033[A\u001B[0m\n",
      "\u001B[34m#015Downloading (…)of-00003.safetensors:  35%|███▌      | 3.51G/9.90G [00:08<00:18, 341MB/s]#033[A\u001B[0m\n",
      "\u001B[34m#015Downloading (…)of-00003.safetensors:  36%|███▌      | 3.55G/9.90G [00:08<00:18, 348MB/s]#033[A\u001B[0m\n",
      "\u001B[34m#015Downloading (…)of-00003.safetensors:  36%|███▋      | 3.61G/9.90G [00:08<00:16, 376MB/s]#033[A\u001B[0m\n",
      "\u001B[34m#015Downloading (…)of-00003.safetensors:  37%|███▋      | 3.66G/9.90G [00:08<00:15, 394MB/s]#033[A\u001B[0m\n",
      "\u001B[34m#015Downloading (…)of-00003.safetensors:  37%|███▋      | 3.70G/9.90G [00:08<00:16, 381MB/s]#033[A\u001B[0m\n",
      "\u001B[34m#015Downloading (…)of-00003.safetensors:  38%|███▊      | 3.75G/9.90G [00:08<00:14, 416MB/s]#033[A\u001B[0m\n",
      "\u001B[34m#015Downloading (…)of-00003.safetensors:  39%|███▊      | 3.82G/9.90G [00:08<00:13, 440MB/s]#033[A\u001B[0m\n",
      "\u001B[34m#015Downloading (…)of-00003.safetensors:  39%|███▉      | 3.87G/9.90G [00:08<00:13, 438MB/s]#033[A\u001B[0m\n",
      "\u001B[34m#015Downloading (…)of-00003.safetensors:  40%|███▉      | 3.93G/9.90G [00:08<00:12, 464MB/s]#033[A\u001B[0m\n",
      "\u001B[34m#015Downloading (…)of-00003.safetensors:  40%|████      | 3.98G/9.90G [00:09<00:13, 450MB/s]#033[A\u001B[0m\n",
      "\u001B[34m#015Downloading (…)of-00003.safetensors:  41%|████      | 4.04G/9.90G [00:09<00:13, 441MB/s]#033[A\u001B[0m\n",
      "\u001B[34m#015Downloading (…)of-00003.safetensors:  41%|████▏     | 4.09G/9.90G [00:09<00:13, 443MB/s]#033[A\u001B[0m\n",
      "\u001B[34m#015Downloading (…)of-00003.safetensors:  42%|████▏     | 4.14G/9.90G [00:09<00:12, 454MB/s]#033[A\u001B[0m\n",
      "\u001B[34m#015Downloading (…)of-00003.safetensors:  42%|████▏     | 4.19G/9.90G [00:09<00:13, 423MB/s]#033[A\u001B[0m\n",
      "\u001B[34m#015Downloading (…)of-00003.safetensors:  43%|████▎     | 4.25G/9.90G [00:09<00:13, 424MB/s]#033[A\u001B[0m\n",
      "\u001B[34m#015Downloading (…)of-00003.safetensors:  43%|████▎     | 4.30G/9.90G [00:09<00:13, 417MB/s]#033[A\u001B[0m\n",
      "\u001B[34m#015Downloading (…)of-00003.safetensors:  44%|████▍     | 4.35G/9.90G [00:10<00:14, 390MB/s]#033[A\u001B[0m\n",
      "\u001B[34m#015Downloading (…)of-00003.safetensors:  44%|████▍     | 4.40G/9.90G [00:10<00:13, 405MB/s]#033[A\u001B[0m\n",
      "\u001B[34m#015Downloading (…)of-00003.safetensors:  45%|████▍     | 4.45G/9.90G [00:10<00:13, 400MB/s]#033[A\u001B[0m\n",
      "\u001B[34m#015Downloading (…)of-00003.safetensors:  45%|████▌     | 4.49G/9.90G [00:10<00:15, 345MB/s]#033[A\u001B[0m\n",
      "\u001B[34m#015Downloading (…)of-00003.safetensors:  46%|████▌     | 4.53G/9.90G [00:10<00:17, 299MB/s]#033[A\u001B[0m\n",
      "\u001B[34m#015Downloading (…)of-00003.safetensors:  46%|████▋     | 4.58G/9.90G [00:10<00:15, 338MB/s]#033[A\u001B[0m\n",
      "\u001B[34m#015Downloading (…)of-00003.safetensors:  47%|████▋     | 4.63G/9.90G [00:10<00:14, 368MB/s]#033[A\u001B[0m\n",
      "\u001B[34m#015Downloading (…)of-00003.safetensors:  47%|████▋     | 4.69G/9.90G [00:10<00:12, 404MB/s]#033[A\u001B[0m\n",
      "\u001B[34m#015Downloading (…)of-00003.safetensors:  48%|████▊     | 4.74G/9.90G [00:11<00:12, 423MB/s]#033[A\u001B[0m\n",
      "\u001B[34m#015Downloading (…)of-00003.safetensors:  48%|████▊     | 4.79G/9.90G [00:11<00:12, 414MB/s]#033[A\u001B[0m\n",
      "\u001B[34m#015Downloading (…)of-00003.safetensors:  49%|████▉     | 4.84G/9.90G [00:11<00:12, 394MB/s]#033[A\u001B[0m\n",
      "\u001B[34m#015Downloading (…)of-00003.safetensors:  49%|████▉     | 4.89G/9.90G [00:11<00:12, 399MB/s]#033[A\u001B[0m\n",
      "\u001B[34m#015Downloading (…)of-00003.safetensors:  50%|████▉     | 4.94G/9.90G [00:11<00:12, 413MB/s]#033[A\u001B[0m\n",
      "\u001B[34m#015Downloading (…)of-00003.safetensors:  50%|█████     | 4.98G/9.90G [00:11<00:13, 366MB/s]#033[A\u001B[0m\n",
      "\u001B[34m#015Downloading (…)of-00003.safetensors:  51%|█████     | 5.02G/9.90G [00:11<00:13, 368MB/s]#033[A\u001B[0m\n",
      "\u001B[34m#015Downloading (…)of-00003.safetensors:  51%|█████     | 5.06G/9.90G [00:11<00:12, 381MB/s]#033[A\u001B[0m\n",
      "\u001B[34m#015Downloading (…)of-00003.safetensors:  52%|█████▏    | 5.11G/9.90G [00:12<00:12, 371MB/s]#033[A\u001B[0m\n",
      "\u001B[34m#015Downloading (…)of-00003.safetensors:  52%|█████▏    | 5.16G/9.90G [00:12<00:12, 394MB/s]#033[A\u001B[0m\n",
      "\u001B[34m#015Downloading (…)of-00003.safetensors:  53%|█████▎    | 5.21G/9.90G [00:12<00:11, 423MB/s]#033[A\u001B[0m\n",
      "\u001B[34m#015Downloading (…)of-00003.safetensors:  53%|█████▎    | 5.26G/9.90G [00:12<00:10, 422MB/s]#033[A\u001B[0m\n",
      "\u001B[34m#015Downloading (…)of-00003.safetensors:  54%|█████▎    | 5.32G/9.90G [00:12<00:11, 414MB/s]#033[A\u001B[0m\n",
      "\u001B[34m#015Downloading (…)of-00003.safetensors:  54%|█████▍    | 5.37G/9.90G [00:12<00:10, 431MB/s]#033[A\u001B[0m\n",
      "\u001B[34m#015Downloading (…)of-00003.safetensors:  55%|█████▍    | 5.42G/9.90G [00:12<00:10, 428MB/s]#033[A\u001B[0m\n",
      "\u001B[34m#015Downloading (…)of-00003.safetensors:  55%|█████▌    | 5.48G/9.90G [00:12<00:09, 463MB/s]#033[A\u001B[0m\n",
      "\u001B[34m#015Downloading (…)of-00003.safetensors:  56%|█████▌    | 5.54G/9.90G [00:12<00:09, 473MB/s]#033[A\u001B[0m\n",
      "\u001B[34m#015Downloading (…)of-00003.safetensors:  56%|█████▋    | 5.59G/9.90G [00:13<00:08, 480MB/s]#033[A\u001B[0m\n",
      "\u001B[34m#015Downloading (…)of-00003.safetensors:  57%|█████▋    | 5.64G/9.90G [00:13<00:09, 469MB/s]#033[A\u001B[0m\n",
      "\u001B[34m#015Downloading (…)of-00003.safetensors:  58%|█████▊    | 5.70G/9.90G [00:13<00:08, 495MB/s]#033[A\u001B[0m\n",
      "\u001B[34m#015Downloading (…)of-00003.safetensors:  58%|█████▊    | 5.76G/9.90G [00:13<00:08, 497MB/s]#033[A\u001B[0m\n",
      "\u001B[34m#015Downloading (…)of-00003.safetensors:  59%|█████▊    | 5.81G/9.90G [00:13<00:08, 489MB/s]#033[A\u001B[0m\n",
      "\u001B[34m#015Downloading (…)of-00003.safetensors:  59%|█████▉    | 5.86G/9.90G [00:13<00:08, 489MB/s]#033[A\u001B[0m\n",
      "\u001B[34m#015Downloading (…)of-00003.safetensors:  60%|█████▉    | 5.91G/9.90G [00:13<00:08, 482MB/s]#033[A\u001B[0m\n",
      "\u001B[34m#015Downloading (…)of-00003.safetensors:  60%|██████    | 5.97G/9.90G [00:13<00:08, 473MB/s]#033[A\u001B[0m\n",
      "\u001B[34m#015Downloading (…)of-00003.safetensors:  61%|██████    | 6.02G/9.90G [00:14<00:09, 414MB/s]#033[A\u001B[0m\n",
      "\u001B[34m#015Downloading (…)of-00003.safetensors:  61%|██████▏   | 6.07G/9.90G [00:14<00:09, 425MB/s]#033[A\u001B[0m\n",
      "\u001B[34m#015Downloading (…)of-00003.safetensors:  62%|██████▏   | 6.13G/9.90G [00:14<00:08, 458MB/s]#033[A\u001B[0m\n",
      "\u001B[34m#015Downloading (…)of-00003.safetensors:  62%|██████▏   | 6.19G/9.90G [00:14<00:08, 445MB/s]#033[A\u001B[0m\n",
      "\u001B[34m#015Downloading (…)of-00003.safetensors:  63%|██████▎   | 6.24G/9.90G [00:14<00:08, 449MB/s]#033[A\u001B[0m\n",
      "\u001B[34m#015Downloading (…)of-00003.safetensors:  64%|██████▎   | 6.29G/9.90G [00:14<00:08, 450MB/s]#033[A\u001B[0m\n",
      "\u001B[34m#015Downloading (…)of-00003.safetensors:  64%|██████▍   | 6.34G/9.90G [00:14<00:08, 444MB/s]#033[A\u001B[0m\n",
      "\u001B[34m#015Downloading (…)of-00003.safetensors:  65%|██████▍   | 6.41G/9.90G [00:14<00:07, 463MB/s]#033[A\u001B[0m\n",
      "\u001B[34m#015Downloading (…)of-00003.safetensors:  65%|██████▌   | 6.46G/9.90G [00:15<00:09, 366MB/s]#033[A\u001B[0m\n",
      "\u001B[34m#015Downloading (…)of-00003.safetensors:  66%|██████▌   | 6.51G/9.90G [00:15<00:08, 386MB/s]#033[A\u001B[0m\n",
      "\u001B[34m#015Downloading (…)of-00003.safetensors:  66%|██████▌   | 6.55G/9.90G [00:15<00:08, 382MB/s]#033[A\u001B[0m\n",
      "\u001B[34m#015Downloading (…)of-00003.safetensors:  67%|██████▋   | 6.60G/9.90G [00:15<00:08, 390MB/s]#033[A\u001B[0m\n",
      "\u001B[34m#015Downloading (…)of-00003.safetensors:  67%|██████▋   | 6.64G/9.90G [00:15<00:08, 390MB/s]#033[A\u001B[0m\n",
      "\u001B[34m#015Downloading (…)of-00003.safetensors:  67%|██████▋   | 6.68G/9.90G [00:15<00:08, 372MB/s]#033[A\u001B[0m\n",
      "\u001B[34m#015Downloading (…)of-00003.safetensors:  68%|██████▊   | 6.72G/9.90G [00:15<00:08, 376MB/s]#033[A\u001B[0m\n",
      "\u001B[34m#015Downloading (…)of-00003.safetensors:  68%|██████▊   | 6.77G/9.90G [00:15<00:08, 385MB/s]#033[A\u001B[0m\n",
      "\u001B[34m#015Downloading (…)of-00003.safetensors:  69%|██████▉   | 6.82G/9.90G [00:15<00:07, 390MB/s]#033[A\u001B[0m\n",
      "\u001B[34m#015Downloading (…)of-00003.safetensors:  69%|██████▉   | 6.87G/9.90G [00:16<00:07, 415MB/s]#033[A\u001B[0m\n",
      "\u001B[34m#015Downloading (…)of-00003.safetensors:  70%|██████▉   | 6.93G/9.90G [00:16<00:06, 445MB/s]#033[A\u001B[0m\n",
      "\u001B[34m#015Downloading (…)of-00003.safetensors:  71%|███████   | 6.99G/9.90G [00:16<00:06, 472MB/s]#033[A\u001B[0m\n",
      "\u001B[34m#015Downloading (…)of-00003.safetensors:  71%|███████   | 7.05G/9.90G [00:16<00:06, 450MB/s]#033[A\u001B[0m\n",
      "\u001B[34m#015Downloading (…)of-00003.safetensors:  72%|███████▏  | 7.10G/9.90G [00:16<00:06, 402MB/s]#033[A\u001B[0m\n",
      "\u001B[34m#015Downloading (…)of-00003.safetensors:  72%|███████▏  | 7.14G/9.90G [00:16<00:07, 392MB/s]#033[A\u001B[0m\n",
      "\u001B[34m#015Downloading (…)of-00003.safetensors:  73%|███████▎  | 7.18G/9.90G [00:16<00:07, 375MB/s]#033[A\u001B[0m\n",
      "\u001B[34m#015Downloading (…)of-00003.safetensors:  73%|███████▎  | 7.22G/9.90G [00:16<00:07, 364MB/s]#033[A\u001B[0m\n",
      "\u001B[34m#015Downloading (…)of-00003.safetensors:  74%|███████▎  | 7.29G/9.90G [00:17<00:06, 404MB/s]#033[A\u001B[0m\n",
      "\u001B[34m#015Downloading (…)of-00003.safetensors:  74%|███████▍  | 7.34G/9.90G [00:17<00:06, 415MB/s]#033[A\u001B[0m\n",
      "\u001B[34m#015Downloading (…)of-00003.safetensors:  75%|███████▍  | 7.38G/9.90G [00:17<00:06, 415MB/s]#033[A\u001B[0m\n",
      "\u001B[34m#015Downloading (…)of-00003.safetensors:  75%|███████▌  | 7.43G/9.90G [00:17<00:05, 423MB/s]#033[A\u001B[0m\n",
      "\u001B[34m#015Downloading (…)of-00003.safetensors:  76%|███████▌  | 7.49G/9.90G [00:17<00:05, 443MB/s]#033[A\u001B[0m\n",
      "\u001B[34m#015Downloading (…)of-00003.safetensors:  76%|███████▌  | 7.55G/9.90G [00:17<00:04, 475MB/s]#033[A\u001B[0m\n",
      "\u001B[34m#015Downloading (…)of-00003.safetensors:  77%|███████▋  | 7.60G/9.90G [00:17<00:04, 475MB/s]#033[A\u001B[0m\n",
      "\u001B[34m#015Downloading (…)of-00003.safetensors:  77%|███████▋  | 7.67G/9.90G [00:17<00:04, 502MB/s]#033[A\u001B[0m\n",
      "\u001B[34m#015Downloading (…)of-00003.safetensors:  78%|███████▊  | 7.73G/9.90G [00:18<00:04, 507MB/s]#033[A\u001B[0m\n",
      "\u001B[34m#015Downloading (…)of-00003.safetensors:  79%|███████▊  | 7.79G/9.90G [00:18<00:04, 513MB/s]#033[A\u001B[0m\n",
      "\u001B[34m#015Downloading (…)of-00003.safetensors:  79%|███████▉  | 7.84G/9.90G [00:18<00:04, 419MB/s]#033[A\u001B[0m\n",
      "\u001B[34m#015Downloading (…)of-00003.safetensors:  80%|███████▉  | 7.90G/9.90G [00:18<00:05, 358MB/s]#033[A\u001B[0m\n",
      "\u001B[34m#015Downloading (…)of-00003.safetensors:  80%|████████  | 7.94G/9.90G [00:18<00:05, 331MB/s]#033[A\u001B[0m\n",
      "\u001B[34m#015Downloading (…)of-00003.safetensors:  81%|████████  | 7.98G/9.90G [00:18<00:05, 349MB/s]#033[A\u001B[0m\n",
      "\u001B[34m#015Downloading (…)of-00003.safetensors:  81%|████████  | 8.03G/9.90G [00:18<00:05, 373MB/s]#033[A\u001B[0m\n",
      "\u001B[34m#015Downloading (…)of-00003.safetensors:  82%|████████▏ | 8.08G/9.90G [00:19<00:04, 410MB/s]#033[A\u001B[0m\n",
      "\u001B[34m#015Downloading (…)of-00003.safetensors:  82%|████████▏ | 8.14G/9.90G [00:19<00:04, 414MB/s]#033[A\u001B[0m\n",
      "\u001B[34m#015Downloading (…)of-00003.safetensors:  83%|████████▎ | 8.19G/9.90G [00:19<00:03, 433MB/s]#033[A\u001B[0m\n",
      "\u001B[34m#015Downloading (…)of-00003.safetensors:  83%|████████▎ | 8.24G/9.90G [00:19<00:03, 441MB/s]#033[A\u001B[0m\n",
      "\u001B[34m#015Downloading (…)of-00003.safetensors:  84%|████████▎ | 8.29G/9.90G [00:19<00:03, 455MB/s]#033[A\u001B[0m\n",
      "\u001B[34m#015Downloading (…)of-00003.safetensors:  84%|████████▍ | 8.35G/9.90G [00:19<00:03, 458MB/s]#033[A\u001B[0m\n",
      "\u001B[34m#015Downloading (…)of-00003.safetensors:  85%|████████▍ | 8.40G/9.90G [00:19<00:03, 472MB/s]#033[A\u001B[0m\n",
      "\u001B[34m#015Downloading (…)of-00003.safetensors:  85%|████████▌ | 8.45G/9.90G [00:19<00:03, 475MB/s]#033[A\u001B[0m\n",
      "\u001B[34m#015Downloading (…)of-00003.safetensors:  86%|████████▌ | 8.50G/9.90G [00:19<00:02, 469MB/s]#033[A\u001B[0m\n",
      "\u001B[34m#015Downloading (…)of-00003.safetensors:  86%|████████▋ | 8.56G/9.90G [00:20<00:02, 466MB/s]#033[A\u001B[0m\n",
      "\u001B[34m#015Downloading (…)of-00003.safetensors:  87%|████████▋ | 8.61G/9.90G [00:20<00:02, 452MB/s]#033[A\u001B[0m\n",
      "\u001B[34m#015Downloading (…)of-00003.safetensors:  88%|████████▊ | 8.67G/9.90G [00:20<00:02, 479MB/s]#033[A\u001B[0m\n",
      "\u001B[34m#015Downloading (…)of-00003.safetensors:  88%|████████▊ | 8.72G/9.90G [00:20<00:02, 490MB/s]#033[A\u001B[0m\n",
      "\u001B[34m#015Downloading (…)of-00003.safetensors:  89%|████████▊ | 8.78G/9.90G [00:20<00:02, 479MB/s]#033[A\u001B[0m\n",
      "\u001B[34m#015Downloading (…)of-00003.safetensors:  89%|████████▉ | 8.83G/9.90G [00:20<00:02, 464MB/s]#033[A\u001B[0m\n",
      "\u001B[34m#015Downloading (…)of-00003.safetensors:  90%|████████▉ | 8.88G/9.90G [00:20<00:02, 443MB/s]#033[A\u001B[0m\n",
      "\u001B[34m#015Downloading (…)of-00003.safetensors:  90%|█████████ | 8.93G/9.90G [00:20<00:02, 449MB/s]#033[A\u001B[0m\n",
      "\u001B[34m#015Downloading (…)of-00003.safetensors:  91%|█████████ | 9.00G/9.90G [00:20<00:01, 479MB/s]#033[A\u001B[0m\n",
      "\u001B[34m#015Downloading (…)of-00003.safetensors:  91%|█████████▏| 9.05G/9.90G [00:21<00:01, 472MB/s]#033[A\u001B[0m\n",
      "\u001B[34m#015Downloading (…)of-00003.safetensors:  92%|█████████▏| 9.10G/9.90G [00:21<00:01, 463MB/s]#033[A\u001B[0m\n",
      "\u001B[34m#015Downloading (…)of-00003.safetensors:  92%|█████████▏| 9.15G/9.90G [00:21<00:01, 448MB/s]#033[A\u001B[0m\n",
      "\u001B[34m#015Downloading (…)of-00003.safetensors:  93%|█████████▎| 9.21G/9.90G [00:21<00:01, 450MB/s]#033[A\u001B[0m\n",
      "\u001B[34m#015Downloading (…)of-00003.safetensors:  93%|█████████▎| 9.26G/9.90G [00:21<00:01, 469MB/s]#033[A\u001B[0m\n",
      "\u001B[34m#015Downloading (…)of-00003.safetensors:  94%|█████████▍| 9.31G/9.90G [00:21<00:01, 458MB/s]#033[A\u001B[0m\n",
      "\u001B[34m#015Downloading (…)of-00003.safetensors:  95%|█████████▍| 9.36G/9.90G [00:21<00:01, 469MB/s]#033[A\u001B[0m\n",
      "\u001B[34m#015Downloading (…)of-00003.safetensors:  95%|█████████▌| 9.43G/9.90G [00:21<00:00, 493MB/s]#033[A\u001B[0m\n",
      "\u001B[34m#015Downloading (…)of-00003.safetensors:  96%|█████████▌| 9.48G/9.90G [00:21<00:00, 486MB/s]#033[A\u001B[0m\n",
      "\u001B[34m#015Downloading (…)of-00003.safetensors:  96%|█████████▌| 9.53G/9.90G [00:22<00:00, 409MB/s]#033[A\u001B[0m\n",
      "\u001B[34m#015Downloading (…)of-00003.safetensors:  97%|█████████▋| 9.58G/9.90G [00:22<00:00, 376MB/s]#033[A\u001B[0m\n",
      "\u001B[34m#015Downloading (…)of-00003.safetensors:  97%|█████████▋| 9.64G/9.90G [00:22<00:00, 397MB/s]#033[A\u001B[0m\n",
      "\u001B[34m#015Downloading (…)of-00003.safetensors:  98%|█████████▊| 9.70G/9.90G [00:22<00:00, 437MB/s]#033[A\u001B[0m\n",
      "\u001B[34m#015Downloading (…)of-00003.safetensors:  98%|█████████▊| 9.75G/9.90G [00:22<00:00, 436MB/s]#033[A\u001B[0m\n",
      "\u001B[34m#015Downloading (…)of-00003.safetensors:  99%|█████████▉| 9.80G/9.90G [00:22<00:00, 435MB/s]#033[A\u001B[0m\n",
      "\u001B[34m#015Downloading (…)of-00003.safetensors: 100%|█████████▉| 9.86G/9.90G [00:22<00:00, 452MB/s]#033[A\u001B[0m\n",
      "\u001B[34m#015Downloading (…)of-00003.safetensors: 100%|██████████| 9.90G/9.90G [00:23<00:00, 424MB/s]#033[A#015Downloading (…)of-00003.safetensors: 100%|██████████| 9.90G/9.90G [00:23<00:00, 430MB/s]\u001B[0m\n",
      "\u001B[34m#015Downloading shards:  67%|██████▋   | 2/3 [00:46<00:23, 23.23s/it]\u001B[0m\n",
      "\u001B[34m#015Downloading (…)of-00003.safetensors:   0%|          | 0.00/6.18G [00:00<?, ?B/s]#033[A\u001B[0m\n",
      "\u001B[34m#015Downloading (…)of-00003.safetensors:   1%|          | 41.9M/6.18G [00:00<00:14, 410MB/s]#033[A\u001B[0m\n",
      "\u001B[34m#015Downloading (…)of-00003.safetensors:   2%|▏         | 94.4M/6.18G [00:00<00:13, 455MB/s]#033[A\u001B[0m\n",
      "\u001B[34m#015Downloading (…)of-00003.safetensors:   2%|▏         | 147M/6.18G [00:00<00:13, 457MB/s] #033[A\u001B[0m\n",
      "\u001B[34m#015Downloading (…)of-00003.safetensors:   3%|▎         | 199M/6.18G [00:00<00:13, 444MB/s]#033[A\u001B[0m\n",
      "\u001B[34m#015Downloading (…)of-00003.safetensors:   4%|▍         | 252M/6.18G [00:00<00:13, 454MB/s]#033[A\u001B[0m\n",
      "\u001B[34m#015Downloading (…)of-00003.safetensors:   5%|▍         | 304M/6.18G [00:00<00:13, 434MB/s]#033[A\u001B[0m\n",
      "\u001B[34m#015Downloading (…)of-00003.safetensors:   6%|▌         | 357M/6.18G [00:00<00:13, 419MB/s]#033[A\u001B[0m\n",
      "\u001B[34m#015Downloading (…)of-00003.safetensors:   7%|▋         | 409M/6.18G [00:00<00:13, 416MB/s]#033[A\u001B[0m\n",
      "\u001B[34m#015Downloading (…)of-00003.safetensors:   7%|▋         | 461M/6.18G [00:01<00:13, 439MB/s]#033[A\u001B[0m\n",
      "\u001B[34m#015Downloading (…)of-00003.safetensors:   8%|▊         | 514M/6.18G [00:01<00:12, 451MB/s]#033[A\u001B[0m\n",
      "\u001B[34m#015Downloading (…)of-00003.safetensors:   9%|▉         | 566M/6.18G [00:01<00:12, 460MB/s]#033[A\u001B[0m\n",
      "\u001B[34m#015Downloading (…)of-00003.safetensors:  10%|█         | 619M/6.18G [00:01<00:12, 458MB/s]#033[A\u001B[0m\n",
      "\u001B[34m#015Downloading (…)of-00003.safetensors:  11%|█         | 671M/6.18G [00:01<00:11, 465MB/s]#033[A\u001B[0m\n",
      "\u001B[34m#015Downloading (…)of-00003.safetensors:  12%|█▏        | 724M/6.18G [00:01<00:11, 474MB/s]#033[A\u001B[0m\n",
      "\u001B[34m#015Downloading (…)of-00003.safetensors:  13%|█▎        | 776M/6.18G [00:01<00:11, 482MB/s]#033[A\u001B[0m\n",
      "\u001B[34m#015Downloading (…)of-00003.safetensors:  14%|█▎        | 839M/6.18G [00:01<00:10, 510MB/s]#033[A\u001B[0m\n",
      "\u001B[34m#015Downloading (…)of-00003.safetensors:  15%|█▍        | 902M/6.18G [00:01<00:09, 528MB/s]#033[A\u001B[0m\n",
      "\u001B[34m#015Downloading (…)of-00003.safetensors:  16%|█▌        | 965M/6.18G [00:02<00:09, 544MB/s]#033[A\u001B[0m\n",
      "\u001B[34m#015Downloading (…)of-00003.safetensors:  17%|█▋        | 1.03G/6.18G [00:02<00:09, 555MB/s]#033[A\u001B[0m\n",
      "\u001B[34m#015Downloading (…)of-00003.safetensors:  18%|█▊        | 1.09G/6.18G [00:02<00:09, 549MB/s]#033[A\u001B[0m\n",
      "\u001B[34m#015Downloading (…)of-00003.safetensors:  19%|█▊        | 1.15G/6.18G [00:02<00:10, 498MB/s]#033[A\u001B[0m\n",
      "\u001B[34m#015Downloading (…)of-00003.safetensors:  20%|█▉        | 1.22G/6.18G [00:02<00:09, 512MB/s]#033[A\u001B[0m\n",
      "\u001B[34m#015Downloading (…)of-00003.safetensors:  21%|██        | 1.27G/6.18G [00:02<00:09, 510MB/s]#033[A\u001B[0m\n",
      "\u001B[34m#015Downloading (…)of-00003.safetensors:  22%|██▏       | 1.33G/6.18G [00:02<00:09, 522MB/s]#033[A\u001B[0m\n",
      "\u001B[34m#015Downloading (…)of-00003.safetensors:  23%|██▎       | 1.39G/6.18G [00:02<00:09, 521MB/s]#033[A\u001B[0m\n",
      "\u001B[34m#015Downloading (…)of-00003.safetensors:  23%|██▎       | 1.45G/6.18G [00:03<00:10, 462MB/s]#033[A\u001B[0m\n",
      "\u001B[34m#015Downloading (…)of-00003.safetensors:  24%|██▍       | 1.50G/6.18G [00:03<00:10, 453MB/s]#033[A\u001B[0m\n",
      "\u001B[34m#015Downloading (…)of-00003.safetensors:  25%|██▌       | 1.55G/6.18G [00:03<00:10, 458MB/s]#033[A\u001B[0m\n",
      "\u001B[34m#015Downloading (…)of-00003.safetensors:  26%|██▌       | 1.60G/6.18G [00:03<00:09, 465MB/s]#033[A\u001B[0m\n",
      "\u001B[34m#015Downloading (…)of-00003.safetensors:  27%|██▋       | 1.66G/6.18G [00:03<00:09, 470MB/s]#033[A\u001B[0m\n",
      "\u001B[34m#015Downloading (…)of-00003.safetensors:  28%|██▊       | 1.71G/6.18G [00:03<00:09, 480MB/s]#033[A\u001B[0m\n",
      "\u001B[34m#015Downloading (…)of-00003.safetensors:  29%|██▊       | 1.76G/6.18G [00:03<00:09, 484MB/s]#033[A\u001B[0m\n",
      "\u001B[34m#015Downloading (…)of-00003.safetensors:  29%|██▉       | 1.81G/6.18G [00:03<00:09, 485MB/s]#033[A\u001B[0m\n",
      "\u001B[34m#015Downloading (…)of-00003.safetensors:  30%|███       | 1.87G/6.18G [00:03<00:09, 472MB/s]#033[A\u001B[0m\n",
      "\u001B[34m#015Downloading (…)of-00003.safetensors:  31%|███       | 1.92G/6.18G [00:04<00:09, 472MB/s]#033[A\u001B[0m\n",
      "\u001B[34m#015Downloading (…)of-00003.safetensors:  32%|███▏      | 1.97G/6.18G [00:04<00:08, 470MB/s]#033[A\u001B[0m\n",
      "\u001B[34m#015Downloading (…)of-00003.safetensors:  33%|███▎      | 2.02G/6.18G [00:04<00:08, 471MB/s]#033[A\u001B[0m\n",
      "\u001B[34m#015Downloading (…)of-00003.safetensors:  34%|███▎      | 2.08G/6.18G [00:04<00:08, 462MB/s]#033[A\u001B[0m\n",
      "\u001B[34m#015Downloading (…)of-00003.safetensors:  34%|███▍      | 2.13G/6.18G [00:04<00:08, 458MB/s]#033[A\u001B[0m\n",
      "\u001B[34m#015Downloading (…)of-00003.safetensors:  35%|███▌      | 2.18G/6.18G [00:04<00:09, 433MB/s]#033[A\u001B[0m\n",
      "\u001B[34m#015Downloading (…)of-00003.safetensors:  36%|███▌      | 2.23G/6.18G [00:04<00:08, 440MB/s]#033[A\u001B[0m\n",
      "\u001B[34m#015Downloading (…)of-00003.safetensors:  37%|███▋      | 2.29G/6.18G [00:04<00:08, 439MB/s]#033[A\u001B[0m\n",
      "\u001B[34m#015Downloading (…)of-00003.safetensors:  38%|███▊      | 2.34G/6.18G [00:04<00:08, 456MB/s]#033[A\u001B[0m\n",
      "\u001B[34m#015Downloading (…)of-00003.safetensors:  39%|███▉      | 2.40G/6.18G [00:05<00:07, 481MB/s]#033[A\u001B[0m\n",
      "\u001B[34m#015Downloading (…)of-00003.safetensors:  40%|███▉      | 2.45G/6.18G [00:05<00:08, 417MB/s]#033[A\u001B[0m\n",
      "\u001B[34m#015Downloading (…)of-00003.safetensors:  41%|████      | 2.51G/6.18G [00:05<00:12, 295MB/s]#033[A\u001B[0m\n",
      "\u001B[34m#015Downloading (…)of-00003.safetensors:  41%|████▏     | 2.56G/6.18G [00:05<00:10, 332MB/s]#033[A\u001B[0m\n",
      "\u001B[34m#015Downloading (…)of-00003.safetensors:  42%|████▏     | 2.62G/6.18G [00:05<00:09, 387MB/s]#033[A\u001B[0m\n",
      "\u001B[34m#015Downloading (…)of-00003.safetensors:  43%|████▎     | 2.67G/6.18G [00:05<00:08, 412MB/s]#033[A\u001B[0m\n",
      "\u001B[34m#015Downloading (…)of-00003.safetensors:  44%|████▍     | 2.73G/6.18G [00:05<00:08, 427MB/s]#033[A\u001B[0m\n",
      "\u001B[34m#015Downloading (…)of-00003.safetensors:  45%|████▍     | 2.78G/6.18G [00:06<00:07, 430MB/s]#033[A\u001B[0m\n",
      "\u001B[34m#015Downloading (…)of-00003.safetensors:  46%|████▌     | 2.83G/6.18G [00:06<00:07, 436MB/s]#033[A\u001B[0m\n",
      "\u001B[34m#015Downloading (…)of-00003.safetensors:  47%|████▋     | 2.88G/6.18G [00:06<00:07, 422MB/s]#033[A\u001B[0m\n",
      "\u001B[34m#015Downloading (…)of-00003.safetensors:  48%|████▊     | 2.94G/6.18G [00:06<00:07, 421MB/s]#033[A\u001B[0m\n",
      "\u001B[34m#015Downloading (…)of-00003.safetensors:  48%|████▊     | 2.99G/6.18G [00:06<00:07, 432MB/s]#033[A\u001B[0m\n",
      "\u001B[34m#015Downloading (…)of-00003.safetensors:  49%|████▉     | 3.05G/6.18G [00:06<00:06, 472MB/s]#033[A\u001B[0m\n",
      "\u001B[34m#015Downloading (…)of-00003.safetensors:  50%|█████     | 3.10G/6.18G [00:06<00:06, 486MB/s]#033[A\u001B[0m\n",
      "\u001B[34m#015Downloading (…)of-00003.safetensors:  51%|█████     | 3.16G/6.18G [00:06<00:06, 464MB/s]#033[A\u001B[0m\n",
      "\u001B[34m#015Downloading (…)of-00003.safetensors:  52%|█████▏    | 3.22G/6.18G [00:07<00:06, 483MB/s]#033[A\u001B[0m\n",
      "\u001B[34m#015Downloading (…)of-00003.safetensors:  53%|█████▎    | 3.27G/6.18G [00:07<00:06, 456MB/s]#033[A\u001B[0m\n",
      "\u001B[34m#015Downloading (…)of-00003.safetensors:  54%|█████▍    | 3.32G/6.18G [00:07<00:07, 401MB/s]#033[A\u001B[0m\n",
      "\u001B[34m#015Downloading (…)of-00003.safetensors:  54%|█████▍    | 3.37G/6.18G [00:07<00:07, 386MB/s]#033[A\u001B[0m\n",
      "\u001B[34m#015Downloading (…)of-00003.safetensors:  55%|█████▌    | 3.42G/6.18G [00:07<00:06, 411MB/s]#033[A\u001B[0m\n",
      "\u001B[34m#015Downloading (…)of-00003.safetensors:  56%|█████▌    | 3.47G/6.18G [00:07<00:06, 408MB/s]#033[A\u001B[0m\n",
      "\u001B[34m#015Downloading (…)of-00003.safetensors:  57%|█████▋    | 3.52G/6.18G [00:07<00:06, 423MB/s]#033[A\u001B[0m\n",
      "\u001B[34m#015Downloading (…)of-00003.safetensors:  58%|█████▊    | 3.58G/6.18G [00:07<00:05, 435MB/s]#033[A\u001B[0m\n",
      "\u001B[34m#015Downloading (…)of-00003.safetensors:  59%|█████▉    | 3.64G/6.18G [00:08<00:05, 472MB/s]#033[A\u001B[0m\n",
      "\u001B[34m#015Downloading (…)of-00003.safetensors:  60%|█████▉    | 3.69G/6.18G [00:08<00:05, 476MB/s]#033[A\u001B[0m\n",
      "\u001B[34m#015Downloading (…)of-00003.safetensors:  61%|██████    | 3.75G/6.18G [00:08<00:04, 488MB/s]#033[A\u001B[0m\n",
      "\u001B[34m#015Downloading (…)of-00003.safetensors:  62%|██████▏   | 3.81G/6.18G [00:08<00:04, 487MB/s]#033[A\u001B[0m\n",
      "\u001B[34m#015Downloading (…)of-00003.safetensors:  62%|██████▏   | 3.86G/6.18G [00:08<00:05, 464MB/s]#033[A\u001B[0m\n",
      "\u001B[34m#015Downloading (…)of-00003.safetensors:  63%|██████▎   | 3.91G/6.18G [00:08<00:04, 457MB/s]#033[A\u001B[0m\n",
      "\u001B[34m#015Downloading (…)of-00003.safetensors:  64%|██████▍   | 3.96G/6.18G [00:08<00:04, 452MB/s]#033[A\u001B[0m\n",
      "\u001B[34m#015Downloading (…)of-00003.safetensors:  65%|██████▍   | 4.02G/6.18G [00:08<00:04, 441MB/s]#033[A\u001B[0m\n",
      "\u001B[34m#015Downloading (…)of-00003.safetensors:  66%|██████▌   | 4.08G/6.18G [00:08<00:04, 456MB/s]#033[A\u001B[0m\n",
      "\u001B[34m#015Downloading (…)of-00003.safetensors:  67%|██████▋   | 4.13G/6.18G [00:09<00:04, 450MB/s]#033[A\u001B[0m\n",
      "\u001B[34m#015Downloading (…)of-00003.safetensors:  68%|██████▊   | 4.18G/6.18G [00:09<00:04, 452MB/s]#033[A\u001B[0m\n",
      "\u001B[34m#015Downloading (…)of-00003.safetensors:  69%|██████▊   | 4.24G/6.18G [00:09<00:04, 434MB/s]#033[A\u001B[0m\n",
      "\u001B[34m#015Downloading (…)of-00003.safetensors:  69%|██████▉   | 4.29G/6.18G [00:09<00:04, 430MB/s]#033[A\u001B[0m\n",
      "\u001B[34m#015Downloading (…)of-00003.safetensors:  70%|███████   | 4.35G/6.18G [00:09<00:04, 446MB/s]#033[A\u001B[0m\n",
      "\u001B[34m#015Downloading (…)of-00003.safetensors:  71%|███████▏  | 4.40G/6.18G [00:09<00:04, 433MB/s]#033[A\u001B[0m\n",
      "\u001B[34m#015Downloading (…)of-00003.safetensors:  72%|███████▏  | 4.46G/6.18G [00:09<00:03, 435MB/s]#033[A\u001B[0m\n",
      "\u001B[34m#015Downloading (…)of-00003.safetensors:  73%|███████▎  | 4.52G/6.18G [00:09<00:03, 457MB/s]#033[A\u001B[0m\n",
      "\u001B[34m#015Downloading (…)of-00003.safetensors:  74%|███████▍  | 4.57G/6.18G [00:10<00:03, 454MB/s]#033[A\u001B[0m\n",
      "\u001B[34m#015Downloading (…)of-00003.safetensors:  75%|███████▍  | 4.62G/6.18G [00:10<00:03, 401MB/s]#033[A\u001B[0m\n",
      "\u001B[34m#015Downloading (…)of-00003.safetensors:  76%|███████▌  | 4.67G/6.18G [00:10<00:04, 357MB/s]#033[A\u001B[0m\n",
      "\u001B[34m#015Downloading (…)of-00003.safetensors:  76%|███████▌  | 4.71G/6.18G [00:10<00:04, 357MB/s]#033[A\u001B[0m\n",
      "\u001B[34m#015Downloading (…)of-00003.safetensors:  77%|███████▋  | 4.75G/6.18G [00:10<00:03, 363MB/s]#033[A\u001B[0m\n",
      "\u001B[34m#015Downloading (…)of-00003.safetensors:  78%|███████▊  | 4.79G/6.18G [00:10<00:05, 268MB/s]#033[A\u001B[0m\n",
      "\u001B[34m#015Downloading (…)of-00003.safetensors:  78%|███████▊  | 4.83G/6.18G [00:11<00:04, 286MB/s]#033[A\u001B[0m\n",
      "\u001B[34m#015Downloading (…)of-00003.safetensors:  79%|███████▉  | 4.88G/6.18G [00:11<00:04, 308MB/s]#033[A\u001B[0m\n",
      "\u001B[34m#015Downloading (…)of-00003.safetensors:  80%|███████▉  | 4.94G/6.18G [00:11<00:03, 373MB/s]#033[A\u001B[0m\n",
      "\u001B[34m#015Downloading (…)of-00003.safetensors:  81%|████████  | 4.99G/6.18G [00:11<00:02, 409MB/s]#033[A\u001B[0m\n",
      "\u001B[34m#015Downloading (…)of-00003.safetensors:  82%|████████▏ | 5.04G/6.18G [00:11<00:02, 427MB/s]#033[A\u001B[0m\n",
      "\u001B[34m#015Downloading (…)of-00003.safetensors:  82%|████████▏ | 5.10G/6.18G [00:11<00:02, 441MB/s]#033[A\u001B[0m\n",
      "\u001B[34m#015Downloading (…)of-00003.safetensors:  83%|████████▎ | 5.15G/6.18G [00:11<00:02, 457MB/s]#033[A\u001B[0m\n",
      "\u001B[34m#015Downloading (…)of-00003.safetensors:  84%|████████▍ | 5.20G/6.18G [00:11<00:02, 470MB/s]#033[A\u001B[0m\n",
      "\u001B[34m#015Downloading (…)of-00003.safetensors:  85%|████████▌ | 5.25G/6.18G [00:11<00:01, 477MB/s]#033[A\u001B[0m\n",
      "\u001B[34m#015Downloading (…)of-00003.safetensors:  86%|████████▌ | 5.31G/6.18G [00:12<00:01, 467MB/s]#033[A\u001B[0m\n",
      "\u001B[34m#015Downloading (…)of-00003.safetensors:  87%|████████▋ | 5.36G/6.18G [00:12<00:01, 472MB/s]#033[A\u001B[0m\n",
      "\u001B[34m#015Downloading (…)of-00003.safetensors:  88%|████████▊ | 5.41G/6.18G [00:12<00:01, 478MB/s]#033[A\u001B[0m\n",
      "\u001B[34m#015Downloading (…)of-00003.safetensors:  88%|████████▊ | 5.46G/6.18G [00:12<00:01, 490MB/s]#033[A\u001B[0m\n",
      "\u001B[34m#015Downloading (…)of-00003.safetensors:  89%|████████▉ | 5.53G/6.18G [00:12<00:01, 484MB/s]#033[A\u001B[0m\n",
      "\u001B[34m#015Downloading (…)of-00003.safetensors:  90%|█████████ | 5.58G/6.18G [00:12<00:01, 477MB/s]#033[A\u001B[0m\n",
      "\u001B[34m#015Downloading (…)of-00003.safetensors:  91%|█████████ | 5.63G/6.18G [00:12<00:01, 475MB/s]#033[A\u001B[0m\n",
      "\u001B[34m#015Downloading (…)of-00003.safetensors:  92%|█████████▏| 5.68G/6.18G [00:12<00:01, 439MB/s]#033[A\u001B[0m\n",
      "\u001B[34m#015Downloading (…)of-00003.safetensors:  93%|█████████▎| 5.74G/6.18G [00:12<00:00, 444MB/s]#033[A\u001B[0m\n",
      "\u001B[34m#015Downloading (…)of-00003.safetensors:  94%|█████████▎| 5.79G/6.18G [00:13<00:00, 459MB/s]#033[A\u001B[0m\n",
      "\u001B[34m#015Downloading (…)of-00003.safetensors:  95%|█████████▍| 5.84G/6.18G [00:13<00:00, 444MB/s]#033[A\u001B[0m\n",
      "\u001B[34m#015Downloading (…)of-00003.safetensors:  95%|█████████▌| 5.89G/6.18G [00:13<00:00, 460MB/s]#033[A\u001B[0m\n",
      "\u001B[34m#015Downloading (…)of-00003.safetensors:  96%|█████████▋| 5.96G/6.18G [00:13<00:00, 476MB/s]#033[A\u001B[0m\n",
      "\u001B[34m#015Downloading (…)of-00003.safetensors:  97%|█████████▋| 6.01G/6.18G [00:13<00:00, 483MB/s]#033[A\u001B[0m\n",
      "\u001B[34m#015Downloading (…)of-00003.safetensors:  98%|█████████▊| 6.06G/6.18G [00:13<00:00, 460MB/s]#033[A\u001B[0m\n",
      "\u001B[34m#015Downloading (…)of-00003.safetensors:  99%|█████████▉| 6.11G/6.18G [00:13<00:00, 428MB/s]#033[A\u001B[0m\n",
      "\u001B[34m#015Downloading (…)of-00003.safetensors: 100%|█████████▉| 6.17G/6.18G [00:13<00:00, 439MB/s]#033[A#015Downloading (…)of-00003.safetensors: 100%|██████████| 6.18G/6.18G [00:13<00:00, 444MB/s]\u001B[0m\n",
      "\u001B[34m#015Downloading shards: 100%|██████████| 3/3 [01:00<00:00, 19.03s/it]#015Downloading shards: 100%|██████████| 3/3 [01:00<00:00, 20.18s/it]\u001B[0m\n",
      "\u001B[34m#015Loading checkpoint shards:   0%|          | 0/3 [00:00<?, ?it/s]#015Loading checkpoint shards:  33%|███▎      | 1/3 [00:01<00:02,  1.32s/it]#015Loading checkpoint shards:  67%|██████▋   | 2/3 [00:02<00:01,  1.31s/it]#015Loading checkpoint shards: 100%|██████████| 3/3 [00:03<00:00,  1.10s/it]#015Loading checkpoint shards: 100%|██████████| 3/3 [00:03<00:00,  1.16s/it]\u001B[0m\n",
      "\u001B[34m#015Downloading (…)neration_config.json:   0%|          | 0.00/188 [00:00<?, ?B/s]#015Downloading (…)neration_config.json: 100%|██████████| 188/188 [00:00<00:00, 2.23MB/s]\u001B[0m\n",
      "\u001B[34mFound 7 modules to quantize: ['gate_proj', 'o_proj', 'down_proj', 'q_proj', 'up_proj', 'v_proj', 'k_proj']\u001B[0m\n",
      "\u001B[34mtrainable params: 250347520 || all params: 6922327040 || trainable%: 3.6165225733108386\u001B[0m\n",
      "\u001B[34m#015  0%|          | 0/40 [00:00<?, ?it/s]You're using a LlamaTokenizerFast tokenizer. Please note that with a fast tokenizer, using the `__call__` method is faster than using a method to encode the text followed by a call to the `pad` method to get a padded encoding.\u001B[0m\n",
      "\u001B[34m{'loss': 1.5033, 'learning_rate': 0.00019, 'epoch': 1.0}\u001B[0m\n",
      "\u001B[34m{'loss': 1.4046, 'learning_rate': 0.00018, 'epoch': 2.0}\u001B[0m\n",
      "\u001B[34m{'loss': 1.307, 'learning_rate': 0.00017, 'epoch': 3.0}\u001B[0m\n",
      "\u001B[34m{'loss': 1.2167, 'learning_rate': 0.00016, 'epoch': 4.0}\u001B[0m\n",
      "\u001B[34m{'loss': 1.1253, 'learning_rate': 0.00015000000000000001, 'epoch': 5.0}\u001B[0m\n",
      "\u001B[34m{'loss': 1.03, 'learning_rate': 0.00014, 'epoch': 6.0}\u001B[0m\n",
      "\u001B[34m{'loss': 0.9292, 'learning_rate': 0.00013000000000000002, 'epoch': 7.0}\u001B[0m\n",
      "\u001B[34m{'loss': 0.8246, 'learning_rate': 0.00012, 'epoch': 8.0}\u001B[0m\n",
      "\u001B[34m{'loss': 0.709, 'learning_rate': 0.00011000000000000002, 'epoch': 9.0}\u001B[0m\n",
      "\u001B[34m{'loss': 0.5999, 'learning_rate': 0.0001, 'epoch': 10.0}\u001B[0m\n",
      "\u001B[34m{'loss': 0.4963, 'learning_rate': 9e-05, 'epoch': 11.0}\u001B[0m\n",
      "\u001B[34m{'loss': 0.4049, 'learning_rate': 8e-05, 'epoch': 12.0}\u001B[0m\n",
      "\u001B[34m{'loss': 0.3284, 'learning_rate': 7e-05, 'epoch': 13.0}\u001B[0m\n",
      "\u001B[34m{'loss': 0.2617, 'learning_rate': 6e-05, 'epoch': 14.0}\u001B[0m\n",
      "\u001B[34m{'loss': 0.2022, 'learning_rate': 5e-05, 'epoch': 15.0}\u001B[0m\n",
      "\u001B[34m{'loss': 0.1608, 'learning_rate': 4e-05, 'epoch': 16.0}\u001B[0m\n",
      "\u001B[34m{'loss': 0.1337, 'learning_rate': 3e-05, 'epoch': 17.0}\u001B[0m\n",
      "\u001B[34m{'loss': 0.1125, 'learning_rate': 2e-05, 'epoch': 18.0}\u001B[0m\n",
      "\u001B[34m{'loss': 0.0979, 'learning_rate': 1e-05, 'epoch': 19.0}\u001B[0m\n",
      "\u001B[34m{'loss': 0.0899, 'learning_rate': 0.0, 'epoch': 20.0}\u001B[0m\n",
      "\u001B[34m{'train_runtime': 551.5945, 'train_samples_per_second': 0.145, 'train_steps_per_second': 0.073, 'train_loss': 0.6469000436365604, 'epoch': 20.0}\u001B[0m\n",
      "\u001B[34m#015  2%|▎         | 1/40 [00:14<09:07, 14.05s/it]#015  5%|▌         | 2/40 [00:27<08:47, 13.89s/it]#015                                              #015#015  5%|▌         | 2/40 [00:27<08:47, 13.89s/it]#015  8%|▊         | 3/40 [00:41<08:32, 13.84s/it]#015 10%|█         | 4/40 [00:55<08:17, 13.82s/it]#015                                              #015#015 10%|█         | 4/40 [00:55<08:17, 13.82s/it]#015 12%|█▎        | 5/40 [01:09<08:03, 13.81s/it]#015 15%|█▌        | 6/40 [01:22<07:49, 13.80s/it]#015                                              #015#015 15%|█▌        | 6/40 [01:22<07:49, 13.80s/it]#015 18%|█▊        | 7/40 [01:36<07:35, 13.79s/it]#015 20%|██        | 8/40 [01:50<07:21, 13.79s/it]#015                                              #015#015 20%|██        | 8/40 [01:50<07:21, 13.79s/it]#015 22%|██▎       | 9/40 [02:04<07:07, 13.79s/it]#015 25%|██▌       | 10/40 [02:18<06:53, 13.79s/it]#015                                               #015#015 25%|██▌       | 10/40 [02:18<06:53, 13.79s/it]#015 28%|██▊       | 11/40 [02:31<06:39, 13.79s/it]#015 30%|███       | 12/40 [02:45<06:25, 13.78s/it]#015                                               #015#015 30%|███       | 12/40 [02:45<06:25, 13.78s/it]#015 32%|███▎      | 13/40 [02:59<06:12, 13.78s/it]#015 35%|███▌      | 14/40 [03:13<05:58, 13.78s/it]#015                                               #015#015 35%|███▌      | 14/40 [03:13<05:58, 13.78s/it]#015 38%|███▊      | 15/40 [03:27<05:44, 13.78s/it]#015 40%|████      | 16/40 [03:40<05:30, 13.78s/it]#015                                               #015#015 40%|████      | 16/40 [03:40<05:30, 13.78s/it]#015 42%|████▎     | 17/40 [03:54<05:17, 13.78s/it]#015 45%|████▌     | 18/40 [04:08<05:03, 13.78s/it]#015                                               #015#015 45%|████▌     | 18/40 [04:08<05:03, 13.78s/it]#015 48%|████▊     | 19/40 [04:22<04:49, 13.78s/it]#015 50%|█████     | 20/40 [04:35<04:35, 13.78s/it]#015                                               #015#015 50%|█████     | 20/40 [04:35<04:35, 13.78s/it]#015 52%|█████▎    | 21/40 [04:49<04:21, 13.78s/it]#015 55%|█████▌    | 22/40 [05:03<04:08, 13.78s/it]#015                                               #015#015 55%|█████▌    | 22/40 [05:03<04:08, 13.78s/it]#015 57%|█████▊    | 23/40 [05:17<03:54, 13.78s/it]#015 60%|██████    | 24/40 [05:31<03:40, 13.78s/it]#015                                               #015#015 60%|██████    | 24/40 [05:31<03:40, 13.78s/it]#015 62%|██████▎   | 25/40 [05:44<03:26, 13.78s/it]#015 65%|██████▌   | 26/40 [05:58<03:12, 13.78s/it]#015                                               #015#015 65%|██████▌   | 26/40 [05:58<03:12, 13.78s/it]#015 68%|██████▊   | 27/40 [06:12<02:59, 13.78s/it]#015 70%|███████   | 28/40 [06:26<02:45, 13.78s/it]#015                                               #015#015 70%|███████   | 28/40 [06:26<02:45, 13.78s/it]#015 72%|███████▎  | 29/40 [06:39<02:31, 13.78s/it]#015 75%|███████▌  | 30/40 [06:53<02:17, 13.78s/it]#015                                               #015#015 75%|███████▌  | 30/40 [06:53<02:17, 13.78s/it]#015 78%|███████▊  | 31/40 [07:07<02:04, 13.78s/it]#015 80%|████████  | 32/40 [07:21<01:50, 13.78s/it]#015                                               #015#015 80%|████████  | 32/40 [07:21<01:50, 13.78s/it]#015 82%|████████▎ | 33/40 [07:35<01:36, 13.79s/it]#015 85%|████████▌ | 34/40 [07:48<01:22, 13.78s/it]#015                                               #015#015 85%|████████▌ | 34/40 [07:48<01:22, 13.78s/it]#015 88%|████████▊ | 35/40 [08:02<01:08, 13.78s/it]#015 90%|█████████ | 36/40 [08:16<00:55, 13.78s/it]#015                                               #015#015 90%|█████████ | 36/40 [08:16<00:55, 13.78s/it]#015 92%|█████████▎| 37/40 [08:30<00:41, 13.78s/it]#015 95%|█████████▌| 38/40 [08:44<00:27, 13.78s/it]#015                                               #015#015 95%|█████████▌| 38/40 [08:44<00:27, 13.78s/it]#015 98%|█████████▊| 39/40 [08:57<00:13, 13.78s/it]#015100%|██████████| 40/40 [09:11<00:00, 13.78s/it]#015                                               #015#015100%|██████████| 40/40 [09:11<00:00, 13.78s/it]#015                                               #015#015100%|██████████| 40/40 [09:11<00:00, 13.78s/it]#015100%|██████████| 40/40 [09:11<00:00, 13.79s/it]\u001B[0m\n",
      "\u001B[34m#015Loading checkpoint shards:   0%|          | 0/3 [00:00<?, ?it/s]#015Loading checkpoint shards:  33%|███▎      | 1/3 [00:00<00:00,  5.46it/s]#015Loading checkpoint shards:  67%|██████▋   | 2/3 [00:00<00:00,  3.70it/s]#015Loading checkpoint shards: 100%|██████████| 3/3 [00:00<00:00,  4.87it/s]#015Loading checkpoint shards: 100%|██████████| 3/3 [00:00<00:00,  4.67it/s]\u001B[0m\n",
      "\n",
      "2023-11-15 08:49:15 Uploading - Uploading generated training model\u001B[34m#015Downloading (…)okenizer_config.json:   0%|          | 0.00/1.62k [00:00<?, ?B/s]#015Downloading (…)okenizer_config.json: 100%|██████████| 1.62k/1.62k [00:00<00:00, 18.2MB/s]\u001B[0m\n",
      "\u001B[34m#015Downloading tokenizer.model:   0%|          | 0.00/500k [00:00<?, ?B/s]#015Downloading tokenizer.model: 100%|██████████| 500k/500k [00:00<00:00, 182MB/s]\u001B[0m\n",
      "\u001B[34m#015Downloading (…)/main/tokenizer.json:   0%|          | 0.00/1.84M [00:00<?, ?B/s]#015Downloading (…)/main/tokenizer.json: 100%|██████████| 1.84M/1.84M [00:00<00:00, 6.85MB/s]#015Downloading (…)/main/tokenizer.json: 100%|██████████| 1.84M/1.84M [00:00<00:00, 6.83MB/s]\u001B[0m\n",
      "\u001B[34m#015Downloading (…)cial_tokens_map.json:   0%|          | 0.00/414 [00:00<?, ?B/s]#015Downloading (…)cial_tokens_map.json: 100%|██████████| 414/414 [00:00<00:00, 5.53MB/s]\u001B[0m\n",
      "\u001B[34m2023-11-15 08:49:09,804 sagemaker.remote_function INFO     Serializing the function return and uploading to s3://sagemaker-eu-west-1-691148928602/train-fn-2023-11-15-08-28-22-524/results\u001B[0m\n",
      "\n",
      "2023-11-15 08:50:51 Completed - Training job completed\n",
      "Training seconds: 1256\n",
      "Billable seconds: 1256\n"
     ]
    },
    {
     "ename": "DeserializationError",
     "evalue": "Corrupt metadata file. SHA256 hash for the serialized data does not exist. Please make sure to install SageMaker SDK version >= 2.156.0 on the client side and try again.",
     "output_type": "error",
     "traceback": [
      "\u001B[0;31m---------------------------------------------------------------------------\u001B[0m",
      "\u001B[0;31mDeserializationError\u001B[0m                      Traceback (most recent call last)",
      "Cell \u001B[0;32mIn[11], line 1\u001B[0m\n\u001B[0;32m----> 1\u001B[0m \u001B[43mtrain_fn\u001B[49m\u001B[43m(\u001B[49m\n\u001B[1;32m      2\u001B[0m \u001B[43m    \u001B[49m\u001B[43mmodel_id\u001B[49m\u001B[43m,\u001B[49m\n\u001B[1;32m      3\u001B[0m \u001B[43m    \u001B[49m\u001B[43mtrain_dataset\u001B[49m\u001B[43m,\u001B[49m\n\u001B[1;32m      4\u001B[0m \u001B[43m    \u001B[49m\u001B[43mper_device_train_batch_size\u001B[49m\u001B[38;5;241;43m=\u001B[39;49m\u001B[38;5;241;43m2\u001B[39;49m\u001B[43m,\u001B[49m\n\u001B[1;32m      5\u001B[0m \u001B[43m    \u001B[49m\u001B[43mper_device_eval_batch_size\u001B[49m\u001B[38;5;241;43m=\u001B[39;49m\u001B[38;5;241;43m2\u001B[39;49m\u001B[43m,\u001B[49m\n\u001B[1;32m      6\u001B[0m \u001B[43m    \u001B[49m\u001B[43mnum_train_epochs\u001B[49m\u001B[38;5;241;43m=\u001B[39;49m\u001B[38;5;241;43m20\u001B[39;49m\u001B[43m,\u001B[49m\n\u001B[1;32m      7\u001B[0m \u001B[43m    \u001B[49m\u001B[43mchunk_size\u001B[49m\u001B[38;5;241;43m=\u001B[39;49m\u001B[38;5;241;43m2048\u001B[39;49m\u001B[43m,\u001B[49m\n\u001B[1;32m      8\u001B[0m \u001B[43m    \u001B[49m\u001B[43mmerge_weights\u001B[49m\u001B[38;5;241;43m=\u001B[39;49m\u001B[38;5;28;43;01mTrue\u001B[39;49;00m\u001B[43m,\u001B[49m\n\u001B[1;32m      9\u001B[0m \u001B[43m    \u001B[49m\u001B[43mtoken\u001B[49m\u001B[38;5;241;43m=\u001B[39;49m\u001B[38;5;124;43m\"\u001B[39;49m\u001B[38;5;124;43mhf_tHitrSnKYKdBVTuiooGaFWvyYzdVnIOZZy\u001B[39;49m\u001B[38;5;124;43m\"\u001B[39;49m\n\u001B[1;32m     10\u001B[0m \u001B[43m)\u001B[49m\n",
      "File \u001B[0;32m~/miniforge3/envs/pathways/lib/python3.10/site-packages/sagemaker/remote_function/client.py:365\u001B[0m, in \u001B[0;36mremote.<locals>._remote.<locals>.wrapper\u001B[0;34m(*args, **kwargs)\u001B[0m\n\u001B[1;32m    360\u001B[0m     \u001B[38;5;28;01mraise\u001B[39;00m \u001B[38;5;167;01mTimeoutError\u001B[39;00m(\n\u001B[1;32m    361\u001B[0m         \u001B[38;5;124m\"\u001B[39m\u001B[38;5;124mJob for remote function timed out before reaching a termination status.\u001B[39m\u001B[38;5;124m\"\u001B[39m\n\u001B[1;32m    362\u001B[0m     )\n\u001B[1;32m    364\u001B[0m \u001B[38;5;28;01mif\u001B[39;00m job\u001B[38;5;241m.\u001B[39mdescribe()[\u001B[38;5;124m\"\u001B[39m\u001B[38;5;124mTrainingJobStatus\u001B[39m\u001B[38;5;124m\"\u001B[39m] \u001B[38;5;241m==\u001B[39m \u001B[38;5;124m\"\u001B[39m\u001B[38;5;124mCompleted\u001B[39m\u001B[38;5;124m\"\u001B[39m:\n\u001B[0;32m--> 365\u001B[0m     \u001B[38;5;28;01mreturn\u001B[39;00m \u001B[43mserialization\u001B[49m\u001B[38;5;241;43m.\u001B[39;49m\u001B[43mdeserialize_obj_from_s3\u001B[49m\u001B[43m(\u001B[49m\n\u001B[1;32m    366\u001B[0m \u001B[43m        \u001B[49m\u001B[43msagemaker_session\u001B[49m\u001B[38;5;241;43m=\u001B[39;49m\u001B[43mjob_settings\u001B[49m\u001B[38;5;241;43m.\u001B[39;49m\u001B[43msagemaker_session\u001B[49m\u001B[43m,\u001B[49m\n\u001B[1;32m    367\u001B[0m \u001B[43m        \u001B[49m\u001B[43ms3_uri\u001B[49m\u001B[38;5;241;43m=\u001B[39;49m\u001B[43ms3_path_join\u001B[49m\u001B[43m(\u001B[49m\u001B[43mjob_settings\u001B[49m\u001B[38;5;241;43m.\u001B[39;49m\u001B[43ms3_root_uri\u001B[49m\u001B[43m,\u001B[49m\u001B[43m \u001B[49m\u001B[43mjob\u001B[49m\u001B[38;5;241;43m.\u001B[39;49m\u001B[43mjob_name\u001B[49m\u001B[43m,\u001B[49m\u001B[43m \u001B[49m\u001B[43mRESULTS_FOLDER\u001B[49m\u001B[43m)\u001B[49m\u001B[43m,\u001B[49m\n\u001B[1;32m    368\u001B[0m \u001B[43m        \u001B[49m\u001B[43mhmac_key\u001B[49m\u001B[38;5;241;43m=\u001B[39;49m\u001B[43mjob\u001B[49m\u001B[38;5;241;43m.\u001B[39;49m\u001B[43mhmac_key\u001B[49m\u001B[43m,\u001B[49m\n\u001B[1;32m    369\u001B[0m \u001B[43m    \u001B[49m\u001B[43m)\u001B[49m\n\u001B[1;32m    371\u001B[0m \u001B[38;5;28;01mif\u001B[39;00m job\u001B[38;5;241m.\u001B[39mdescribe()[\u001B[38;5;124m\"\u001B[39m\u001B[38;5;124mTrainingJobStatus\u001B[39m\u001B[38;5;124m\"\u001B[39m] \u001B[38;5;241m==\u001B[39m \u001B[38;5;124m\"\u001B[39m\u001B[38;5;124mStopped\u001B[39m\u001B[38;5;124m\"\u001B[39m:\n\u001B[1;32m    372\u001B[0m     \u001B[38;5;28;01mraise\u001B[39;00m RemoteFunctionError(\u001B[38;5;124m\"\u001B[39m\u001B[38;5;124mJob for remote function has been aborted.\u001B[39m\u001B[38;5;124m\"\u001B[39m)\n",
      "File \u001B[0;32m~/miniforge3/envs/pathways/lib/python3.10/site-packages/sagemaker/remote_function/core/serialization.py:234\u001B[0m, in \u001B[0;36mdeserialize_obj_from_s3\u001B[0;34m(sagemaker_session, s3_uri, hmac_key)\u001B[0m\n\u001B[1;32m    220\u001B[0m \u001B[38;5;28;01mdef\u001B[39;00m \u001B[38;5;21mdeserialize_obj_from_s3\u001B[39m(sagemaker_session: Session, s3_uri: \u001B[38;5;28mstr\u001B[39m, hmac_key: \u001B[38;5;28mstr\u001B[39m) \u001B[38;5;241m-\u001B[39m\u001B[38;5;241m>\u001B[39m Any:\n\u001B[1;32m    221\u001B[0m \u001B[38;5;250m    \u001B[39m\u001B[38;5;124;03m\"\"\"Downloads from S3 and then deserializes data objects.\u001B[39;00m\n\u001B[1;32m    222\u001B[0m \n\u001B[1;32m    223\u001B[0m \u001B[38;5;124;03m    Args:\u001B[39;00m\n\u001B[0;32m   (...)\u001B[0m\n\u001B[1;32m    231\u001B[0m \u001B[38;5;124;03m        DeserializationError: when fail to serialize object to bytes.\u001B[39;00m\n\u001B[1;32m    232\u001B[0m \u001B[38;5;124;03m    \"\"\"\u001B[39;00m\n\u001B[0;32m--> 234\u001B[0m     metadata \u001B[38;5;241m=\u001B[39m \u001B[43m_MetaData\u001B[49m\u001B[38;5;241;43m.\u001B[39;49m\u001B[43mfrom_json\u001B[49m\u001B[43m(\u001B[49m\n\u001B[1;32m    235\u001B[0m \u001B[43m        \u001B[49m\u001B[43m_read_bytes_from_s3\u001B[49m\u001B[43m(\u001B[49m\u001B[38;5;124;43mf\u001B[39;49m\u001B[38;5;124;43m\"\u001B[39;49m\u001B[38;5;132;43;01m{\u001B[39;49;00m\u001B[43ms3_uri\u001B[49m\u001B[38;5;132;43;01m}\u001B[39;49;00m\u001B[38;5;124;43m/metadata.json\u001B[39;49m\u001B[38;5;124;43m\"\u001B[39;49m\u001B[43m,\u001B[49m\u001B[43m \u001B[49m\u001B[43msagemaker_session\u001B[49m\u001B[43m)\u001B[49m\n\u001B[1;32m    236\u001B[0m \u001B[43m    \u001B[49m\u001B[43m)\u001B[49m\n\u001B[1;32m    238\u001B[0m     bytes_to_deserialize \u001B[38;5;241m=\u001B[39m _read_bytes_from_s3(\u001B[38;5;124mf\u001B[39m\u001B[38;5;124m\"\u001B[39m\u001B[38;5;132;01m{\u001B[39;00ms3_uri\u001B[38;5;132;01m}\u001B[39;00m\u001B[38;5;124m/payload.pkl\u001B[39m\u001B[38;5;124m\"\u001B[39m, sagemaker_session)\n\u001B[1;32m    240\u001B[0m     _perform_integrity_check(\n\u001B[1;32m    241\u001B[0m         expected_hash_value\u001B[38;5;241m=\u001B[39mmetadata\u001B[38;5;241m.\u001B[39msha256_hash, secret_key\u001B[38;5;241m=\u001B[39mhmac_key, buffer\u001B[38;5;241m=\u001B[39mbytes_to_deserialize\n\u001B[1;32m    242\u001B[0m     )\n",
      "File \u001B[0;32m~/miniforge3/envs/pathways/lib/python3.10/site-packages/sagemaker/remote_function/core/serialization.py:64\u001B[0m, in \u001B[0;36m_MetaData.from_json\u001B[0;34m(s)\u001B[0m\n\u001B[1;32m     61\u001B[0m metadata\u001B[38;5;241m.\u001B[39mserialization_module \u001B[38;5;241m=\u001B[39m obj\u001B[38;5;241m.\u001B[39mget(\u001B[38;5;124m\"\u001B[39m\u001B[38;5;124mserialization_module\u001B[39m\u001B[38;5;124m\"\u001B[39m)\n\u001B[1;32m     63\u001B[0m \u001B[38;5;28;01mif\u001B[39;00m \u001B[38;5;129;01mnot\u001B[39;00m sha256_hash:\n\u001B[0;32m---> 64\u001B[0m     \u001B[38;5;28;01mraise\u001B[39;00m DeserializationError(\n\u001B[1;32m     65\u001B[0m         \u001B[38;5;124m\"\u001B[39m\u001B[38;5;124mCorrupt metadata file. SHA256 hash for the serialized data does not exist. \u001B[39m\u001B[38;5;124m\"\u001B[39m\n\u001B[1;32m     66\u001B[0m         \u001B[38;5;124m\"\u001B[39m\u001B[38;5;124mPlease make sure to install SageMaker SDK version >= 2.156.0 on the client side \u001B[39m\u001B[38;5;124m\"\u001B[39m\n\u001B[1;32m     67\u001B[0m         \u001B[38;5;124m\"\u001B[39m\u001B[38;5;124mand try again.\u001B[39m\u001B[38;5;124m\"\u001B[39m\n\u001B[1;32m     68\u001B[0m     )\n\u001B[1;32m     70\u001B[0m \u001B[38;5;28;01mif\u001B[39;00m \u001B[38;5;129;01mnot\u001B[39;00m (\n\u001B[1;32m     71\u001B[0m     metadata\u001B[38;5;241m.\u001B[39mversion \u001B[38;5;241m==\u001B[39m \u001B[38;5;124m\"\u001B[39m\u001B[38;5;124m2023-04-24\u001B[39m\u001B[38;5;124m\"\u001B[39m \u001B[38;5;129;01mand\u001B[39;00m metadata\u001B[38;5;241m.\u001B[39mserialization_module \u001B[38;5;241m==\u001B[39m \u001B[38;5;124m\"\u001B[39m\u001B[38;5;124mcloudpickle\u001B[39m\u001B[38;5;124m\"\u001B[39m\n\u001B[1;32m     72\u001B[0m ):\n\u001B[1;32m     73\u001B[0m     \u001B[38;5;28;01mraise\u001B[39;00m DeserializationError(\n\u001B[1;32m     74\u001B[0m         \u001B[38;5;124mf\u001B[39m\u001B[38;5;124m\"\u001B[39m\u001B[38;5;124mCorrupt metadata file. Serialization approach \u001B[39m\u001B[38;5;132;01m{\u001B[39;00ms\u001B[38;5;132;01m}\u001B[39;00m\u001B[38;5;124m is not supported.\u001B[39m\u001B[38;5;124m\"\u001B[39m\n\u001B[1;32m     75\u001B[0m     )\n",
      "\u001B[0;31mDeserializationError\u001B[0m: Corrupt metadata file. SHA256 hash for the serialized data does not exist. Please make sure to install SageMaker SDK version >= 2.156.0 on the client side and try again."
     ]
    }
   ],
   "source": [
    "train_fn(\n",
    "    model_id,\n",
    "    train_dataset,\n",
    "    per_device_train_batch_size=2,\n",
    "    per_device_eval_batch_size=2,\n",
    "    num_train_epochs=20,\n",
    "    chunk_size=2048,\n",
    "    merge_weights=True,\n",
    "    token=\"<HF_TOKEN>\"\n",
    ")"
   ]
  },
  {
   "cell_type": "markdown",
   "metadata": {
    "tags": []
   },
   "source": [
    "## Load Fine-Tuned model\n",
    "\n",
    "Note: Run `train_fn` with `merge_weights=False`"
   ]
  },
  {
   "cell_type": "markdown",
   "metadata": {},
   "source": [
    "### Download model"
   ]
  },
  {
   "cell_type": "code",
   "execution_count": 2,
   "metadata": {
    "ExecuteTime": {
     "end_time": "2023-09-11T14:39:39.945700Z",
     "start_time": "2023-09-11T14:39:39.726434Z"
    },
    "tags": []
   },
   "outputs": [],
   "source": [
    "import boto3\n",
    "\n",
    "s3_client = boto3.client(\"s3\")"
   ]
  },
  {
   "cell_type": "code",
   "execution_count": 4,
   "metadata": {
    "ExecuteTime": {
     "end_time": "2023-09-08T13:26:17.499800Z",
     "start_time": "2023-09-08T13:26:17.492889Z"
    },
    "collapsed": false,
    "jupyter": {
     "outputs_hidden": false
    },
    "tags": []
   },
   "outputs": [],
   "source": [
    "bucket_name = \"<S3_BUCKET>\"\n",
    "job_name = \"<JOB_NAME>\""
   ]
  },
  {
   "cell_type": "code",
   "execution_count": 24,
   "metadata": {
    "ExecuteTime": {
     "end_time": "2023-09-08T13:27:42.993432Z",
     "start_time": "2023-09-08T13:26:18.536625Z"
    },
    "collapsed": false,
    "jupyter": {
     "outputs_hidden": false
    },
    "tags": []
   },
   "outputs": [],
   "source": [
    "s3_client.download_file(bucket_name, f\"{job_name}/{job_name}/output/model.tar.gz\", \"model.tar.gz\")"
   ]
  },
  {
   "cell_type": "code",
   "execution_count": 25,
   "metadata": {
    "ExecuteTime": {
     "end_time": "2023-09-08T13:41:52.420226Z",
     "start_time": "2023-09-08T13:41:47.968834Z"
    },
    "collapsed": false,
    "jupyter": {
     "outputs_hidden": false
    },
    "tags": []
   },
   "outputs": [],
   "source": [
    "! rm -rf ./model && mkdir -p ./model && tar -xf model.tar.gz -C ./model"
   ]
  },
  {
   "cell_type": "markdown",
   "metadata": {},
   "source": [
    "Now we are loading the PEFT weights trained"
   ]
  },
  {
   "cell_type": "code",
   "execution_count": 5,
   "metadata": {
    "ExecuteTime": {
     "end_time": "2023-09-11T14:39:44.140968Z",
     "start_time": "2023-09-11T14:39:43.661599Z"
    },
    "collapsed": false,
    "jupyter": {
     "outputs_hidden": false
    },
    "tags": []
   },
   "outputs": [
    {
     "name": "stdout",
     "output_type": "stream",
     "text": [
      "Token will not been saved to git credential helper. Pass `add_to_git_credential=True` if you want to set the git credential as well.\n",
      "Token is valid (permission: read).\n",
      "Your token has been saved to /root/.cache/huggingface/token\n",
      "Login successful\n"
     ]
    }
   ],
   "source": [
    "! huggingface-cli login --token <HF_TOKEN>"
   ]
  },
  {
   "cell_type": "code",
   "execution_count": 6,
   "metadata": {
    "ExecuteTime": {
     "end_time": "2023-09-11T14:39:45.562305Z",
     "start_time": "2023-09-11T14:39:44.594253Z"
    },
    "collapsed": false,
    "jupyter": {
     "outputs_hidden": false
    },
    "tags": []
   },
   "outputs": [],
   "source": [
    "from transformers import AutoTokenizer\n",
    "\n",
    "model_id = \"meta-llama/Llama-2-13b-chat-hf\"\n",
    "\n",
    "tokenizer = AutoTokenizer.from_pretrained(model_id)\n",
    "\n",
    "tokenizer.pad_token = tokenizer.eos_token"
   ]
  },
  {
   "cell_type": "code",
   "execution_count": 7,
   "metadata": {
    "ExecuteTime": {
     "end_time": "2023-07-20T20:16:01.359687Z",
     "start_time": "2023-07-20T20:09:58.562422Z"
    },
    "collapsed": false,
    "jupyter": {
     "outputs_hidden": false
    },
    "pycharm": {
     "is_executing": true
    },
    "tags": []
   },
   "outputs": [
    {
     "data": {
      "application/vnd.jupyter.widget-view+json": {
       "model_id": "50aa64c50f9a4a5a907bcbb039642ff0",
       "version_major": 2,
       "version_minor": 0
      },
      "text/plain": [
       "Loading checkpoint shards:   0%|          | 0/3 [00:00<?, ?it/s]"
      ]
     },
     "metadata": {},
     "output_type": "display_data"
    },
    {
     "data": {
      "text/plain": [
       "PeftModelForCausalLM(\n",
       "  (base_model): LoraModel(\n",
       "    (model): LlamaForCausalLM(\n",
       "      (model): LlamaModel(\n",
       "        (embed_tokens): Embedding(32000, 5120, padding_idx=0)\n",
       "        (layers): ModuleList(\n",
       "          (0-39): 40 x LlamaDecoderLayer(\n",
       "            (self_attn): LlamaAttention(\n",
       "              (q_proj): Linear(\n",
       "                in_features=5120, out_features=5120, bias=False\n",
       "                (lora_dropout): ModuleDict(\n",
       "                  (default): Dropout(p=0.1, inplace=False)\n",
       "                )\n",
       "                (lora_A): ModuleDict(\n",
       "                  (default): Linear(in_features=5120, out_features=64, bias=False)\n",
       "                )\n",
       "                (lora_B): ModuleDict(\n",
       "                  (default): Linear(in_features=64, out_features=5120, bias=False)\n",
       "                )\n",
       "                (lora_embedding_A): ParameterDict()\n",
       "                (lora_embedding_B): ParameterDict()\n",
       "              )\n",
       "              (k_proj): Linear(\n",
       "                in_features=5120, out_features=5120, bias=False\n",
       "                (lora_dropout): ModuleDict(\n",
       "                  (default): Dropout(p=0.1, inplace=False)\n",
       "                )\n",
       "                (lora_A): ModuleDict(\n",
       "                  (default): Linear(in_features=5120, out_features=64, bias=False)\n",
       "                )\n",
       "                (lora_B): ModuleDict(\n",
       "                  (default): Linear(in_features=64, out_features=5120, bias=False)\n",
       "                )\n",
       "                (lora_embedding_A): ParameterDict()\n",
       "                (lora_embedding_B): ParameterDict()\n",
       "              )\n",
       "              (v_proj): Linear(\n",
       "                in_features=5120, out_features=5120, bias=False\n",
       "                (lora_dropout): ModuleDict(\n",
       "                  (default): Dropout(p=0.1, inplace=False)\n",
       "                )\n",
       "                (lora_A): ModuleDict(\n",
       "                  (default): Linear(in_features=5120, out_features=64, bias=False)\n",
       "                )\n",
       "                (lora_B): ModuleDict(\n",
       "                  (default): Linear(in_features=64, out_features=5120, bias=False)\n",
       "                )\n",
       "                (lora_embedding_A): ParameterDict()\n",
       "                (lora_embedding_B): ParameterDict()\n",
       "              )\n",
       "              (o_proj): Linear(\n",
       "                in_features=5120, out_features=5120, bias=False\n",
       "                (lora_dropout): ModuleDict(\n",
       "                  (default): Dropout(p=0.1, inplace=False)\n",
       "                )\n",
       "                (lora_A): ModuleDict(\n",
       "                  (default): Linear(in_features=5120, out_features=64, bias=False)\n",
       "                )\n",
       "                (lora_B): ModuleDict(\n",
       "                  (default): Linear(in_features=64, out_features=5120, bias=False)\n",
       "                )\n",
       "                (lora_embedding_A): ParameterDict()\n",
       "                (lora_embedding_B): ParameterDict()\n",
       "              )\n",
       "              (rotary_emb): LlamaRotaryEmbedding()\n",
       "            )\n",
       "            (mlp): LlamaMLP(\n",
       "              (gate_proj): Linear(\n",
       "                in_features=5120, out_features=13824, bias=False\n",
       "                (lora_dropout): ModuleDict(\n",
       "                  (default): Dropout(p=0.1, inplace=False)\n",
       "                )\n",
       "                (lora_A): ModuleDict(\n",
       "                  (default): Linear(in_features=5120, out_features=64, bias=False)\n",
       "                )\n",
       "                (lora_B): ModuleDict(\n",
       "                  (default): Linear(in_features=64, out_features=13824, bias=False)\n",
       "                )\n",
       "                (lora_embedding_A): ParameterDict()\n",
       "                (lora_embedding_B): ParameterDict()\n",
       "              )\n",
       "              (up_proj): Linear(\n",
       "                in_features=5120, out_features=13824, bias=False\n",
       "                (lora_dropout): ModuleDict(\n",
       "                  (default): Dropout(p=0.1, inplace=False)\n",
       "                )\n",
       "                (lora_A): ModuleDict(\n",
       "                  (default): Linear(in_features=5120, out_features=64, bias=False)\n",
       "                )\n",
       "                (lora_B): ModuleDict(\n",
       "                  (default): Linear(in_features=64, out_features=13824, bias=False)\n",
       "                )\n",
       "                (lora_embedding_A): ParameterDict()\n",
       "                (lora_embedding_B): ParameterDict()\n",
       "              )\n",
       "              (down_proj): Linear(\n",
       "                in_features=13824, out_features=5120, bias=False\n",
       "                (lora_dropout): ModuleDict(\n",
       "                  (default): Dropout(p=0.1, inplace=False)\n",
       "                )\n",
       "                (lora_A): ModuleDict(\n",
       "                  (default): Linear(in_features=13824, out_features=64, bias=False)\n",
       "                )\n",
       "                (lora_B): ModuleDict(\n",
       "                  (default): Linear(in_features=64, out_features=5120, bias=False)\n",
       "                )\n",
       "                (lora_embedding_A): ParameterDict()\n",
       "                (lora_embedding_B): ParameterDict()\n",
       "              )\n",
       "              (act_fn): SiLUActivation()\n",
       "            )\n",
       "            (input_layernorm): LlamaRMSNorm()\n",
       "            (post_attention_layernorm): LlamaRMSNorm()\n",
       "          )\n",
       "        )\n",
       "        (norm): LlamaRMSNorm()\n",
       "      )\n",
       "      (lm_head): Linear(in_features=5120, out_features=32000, bias=False)\n",
       "    )\n",
       "  )\n",
       ")"
      ]
     },
     "execution_count": 7,
     "metadata": {},
     "output_type": "execute_result"
    }
   ],
   "source": [
    "from peft import PeftModel, PeftConfig\n",
    "import torch\n",
    "from transformers import AutoModelForCausalLM\n",
    "\n",
    "device = 'cuda' if torch.cuda.is_available() else 'mps' if torch.backends.mps.is_available() else 'cpu'\n",
    "\n",
    "config = PeftConfig.from_pretrained(\"./model\")\n",
    "model = AutoModelForCausalLM.from_pretrained(config.base_model_name_or_path, trust_remote_code=True)\n",
    "model = PeftModel.from_pretrained(model, \"./model\")\n",
    "model.to(device)"
   ]
  },
  {
   "cell_type": "markdown",
   "metadata": {},
   "source": [
    "Load a test dataset and try a random sample for Q&A."
   ]
  },
  {
   "cell_type": "code",
   "execution_count": 14,
   "metadata": {
    "ExecuteTime": {
     "end_time": "2023-07-20T20:16:01.885446Z",
     "start_time": "2023-07-20T20:16:01.323572Z"
    },
    "collapsed": false,
    "jupyter": {
     "outputs_hidden": false
    },
    "tags": []
   },
   "outputs": [],
   "source": [
    "# format sample\n",
    "prompt = f\"\"\"\n",
    "<s>[INST] {{question}} [/INST]\n",
    "\"\"\"\n",
    "\n",
    "test_sample = prompt.format(question=\"What are Amazon Bedrock Agents?\")"
   ]
  },
  {
   "cell_type": "code",
   "execution_count": 15,
   "metadata": {
    "ExecuteTime": {
     "end_time": "2023-07-20T20:16:01.922060Z",
     "start_time": "2023-07-20T20:16:01.889875Z"
    },
    "collapsed": false,
    "jupyter": {
     "outputs_hidden": false
    },
    "tags": []
   },
   "outputs": [],
   "source": [
    "input_ids = tokenizer(test_sample, return_tensors=\"pt\").input_ids"
   ]
  },
  {
   "cell_type": "code",
   "execution_count": 16,
   "metadata": {
    "collapsed": false,
    "jupyter": {
     "outputs_hidden": false
    },
    "tags": []
   },
   "outputs": [
    {
     "name": "stdout",
     "output_type": "stream",
     "text": [
      "<s> ### Instruction\n",
      "What are Amazon Bedrock Agents?\n",
      "\n",
      "### Answer\n",
      "Amazon Bedrock agents are a new class of agents available in Amazon Bedrock that make it easier for developers to build and manage generative AI applications without having to manage the underlying infrastructure. Agents provide a simple API for you to define the actions and intent that your generative AI application can perform in response to a user request. Agents handle the complexity of building and managing the underlying generative AI application, including data access, API calls, and infrastructure management.\n",
      "\n",
      "Agents are a highly available, fully managed service that can scale to handle the concurrent user traffic and request load. They can also integrate with other Amazon Bedrock features, such as Amazon Bedrock Serverless Compute, to provide a\n"
     ]
    }
   ],
   "source": [
    "#set the tokens for the summary evaluation\n",
    "tokens_for_answer = 150\n",
    "output_tokens = input_ids.shape[1] + tokens_for_answer\n",
    "\n",
    "outputs = model.generate(inputs=input_ids.to(device), do_sample=True, max_length=output_tokens)\n",
    "gen_text = tokenizer.batch_decode(outputs)[0]\n",
    "\n",
    "print(gen_text)"
   ]
  },
  {
   "cell_type": "markdown",
   "source": [
    "## Deploy Fine-Tuned model"
   ],
   "metadata": {
    "collapsed": false
   }
  },
  {
   "cell_type": "code",
   "execution_count": 12,
   "outputs": [],
   "source": [
    "import json\n",
    "from sagemaker.huggingface import HuggingFaceModel, get_huggingface_llm_image_uri"
   ],
   "metadata": {
    "collapsed": false,
    "ExecuteTime": {
     "start_time": "2023-11-15T09:53:19.729286Z",
     "end_time": "2023-11-15T09:53:19.742445Z"
    }
   }
  },
  {
   "cell_type": "code",
   "execution_count": 13,
   "outputs": [],
   "source": [
    "bucket_name = \"<S3_BUCKET>\"\n",
    "job_name = \"<JOB_NAME>\""
   ],
   "metadata": {
    "collapsed": false,
    "ExecuteTime": {
     "start_time": "2023-11-15T09:53:20.374889Z",
     "end_time": "2023-11-15T09:53:20.385178Z"
    }
   }
  },
  {
   "cell_type": "markdown",
   "source": [
    "### Inference configurations"
   ],
   "metadata": {
    "collapsed": false
   }
  },
  {
   "cell_type": "code",
   "execution_count": 15,
   "outputs": [],
   "source": [
    "instance_count = 1\n",
    "instance_type = \"ml.g5.48xlarge\"\n",
    "number_of_gpu = 8\n",
    "health_check_timeout = 300"
   ],
   "metadata": {
    "collapsed": false,
    "ExecuteTime": {
     "start_time": "2023-11-15T09:53:58.814508Z",
     "end_time": "2023-11-15T09:53:58.823709Z"
    }
   }
  },
  {
   "cell_type": "code",
   "execution_count": 16,
   "outputs": [
    {
     "name": "stderr",
     "output_type": "stream",
     "text": [
      "INFO:botocore.credentials:Found credentials in shared credentials file: ~/.aws/credentials\n"
     ]
    },
    {
     "name": "stdout",
     "output_type": "stream",
     "text": [
      "sagemaker.config INFO - Not applying SDK defaults from location: /Library/Application Support/sagemaker/config.yaml\n",
      "sagemaker.config INFO - Fetched defaults config from location: /Users/bpistone/development/amazon/amazon-sagemaker-remote-decorator-generative-ai\n"
     ]
    },
    {
     "name": "stderr",
     "output_type": "stream",
     "text": [
      "INFO:sagemaker.image_uris:Defaulting to only available Python version: py39\n",
      "INFO:sagemaker.image_uris:Defaulting to only supported image scope: gpu.\n"
     ]
    },
    {
     "data": {
      "text/plain": "'763104351884.dkr.ecr.eu-west-1.amazonaws.com/huggingface-pytorch-tgi-inference:2.0.1-tgi1.1.0-gpu-py39-cu118-ubuntu20.04'"
     },
     "execution_count": 16,
     "metadata": {},
     "output_type": "execute_result"
    }
   ],
   "source": [
    "image_uri = get_huggingface_llm_image_uri(\n",
    "    \"huggingface\",\n",
    "    version=\"1.1.0\"\n",
    ")\n",
    "\n",
    "image_uri"
   ],
   "metadata": {
    "collapsed": false,
    "ExecuteTime": {
     "start_time": "2023-11-15T09:54:00.673636Z",
     "end_time": "2023-11-15T09:54:00.992352Z"
    }
   }
  },
  {
   "cell_type": "code",
   "execution_count": 17,
   "outputs": [
    {
     "name": "stdout",
     "output_type": "stream",
     "text": [
      "sagemaker.config INFO - Not applying SDK defaults from location: /Library/Application Support/sagemaker/config.yaml\n",
      "sagemaker.config INFO - Fetched defaults config from location: /Users/bpistone/development/amazon/amazon-sagemaker-remote-decorator-generative-ai\n",
      "sagemaker.config INFO - Applied value from config key = SageMaker.Model.ExecutionRoleArn\n",
      "sagemaker.config INFO - Applied value from config key = SageMaker.Model.VpcConfig\n",
      "sagemaker.config INFO - Applied value from config key = SageMaker.Model.EnableNetworkIsolation\n"
     ]
    },
    {
     "name": "stderr",
     "output_type": "stream",
     "text": [
      "INFO:botocore.credentials:Found credentials in shared credentials file: ~/.aws/credentials\n"
     ]
    },
    {
     "name": "stdout",
     "output_type": "stream",
     "text": [
      "sagemaker.config INFO - Not applying SDK defaults from location: /Library/Application Support/sagemaker/config.yaml\n",
      "sagemaker.config INFO - Fetched defaults config from location: /Users/bpistone/development/amazon/amazon-sagemaker-remote-decorator-generative-ai\n"
     ]
    }
   ],
   "source": [
    "model = HuggingFaceModel(\n",
    "    image_uri=image_uri,\n",
    "    model_data=f\"s3://{bucket_name}/{job_name}/{job_name}/output/model.tar.gz\",\n",
    "    env={\n",
    "        'HF_MODEL_ID': \"/opt/ml/model\", # path to where sagemaker stores the model\n",
    "        'SM_NUM_GPUS': json.dumps(number_of_gpu), # Number of GPU used per replica\n",
    "    }\n",
    ")"
   ],
   "metadata": {
    "collapsed": false,
    "ExecuteTime": {
     "start_time": "2023-11-15T09:54:04.429164Z",
     "end_time": "2023-11-15T09:54:05.067618Z"
    }
   }
  },
  {
   "cell_type": "code",
   "execution_count": 18,
   "outputs": [
    {
     "name": "stderr",
     "output_type": "stream",
     "text": [
      "INFO:sagemaker:Creating model with name: huggingface-pytorch-tgi-inference-2023-11-15-08-54-07-671\n",
      "INFO:sagemaker:Creating endpoint-config with name huggingface-pytorch-tgi-inference-2023-11-15-08-54-08-877\n",
      "INFO:sagemaker:Creating endpoint with name huggingface-pytorch-tgi-inference-2023-11-15-08-54-08-877\n"
     ]
    },
    {
     "name": "stdout",
     "output_type": "stream",
     "text": [
      "------------!"
     ]
    }
   ],
   "source": [
    "predictor = model.deploy(\n",
    "    initial_instance_count=instance_count,\n",
    "    instance_type=instance_type,\n",
    "    container_startup_health_check_timeout=health_check_timeout,\n",
    ")"
   ],
   "metadata": {
    "collapsed": false,
    "ExecuteTime": {
     "start_time": "2023-11-15T09:54:06.645438Z",
     "end_time": "2023-11-15T10:00:41.516254Z"
    }
   }
  },
  {
   "cell_type": "markdown",
   "source": [
    "### Predict"
   ],
   "metadata": {
    "collapsed": false
   }
  },
  {
   "cell_type": "code",
   "execution_count": 32,
   "outputs": [],
   "source": [
    "prompt = f\"\"\"\n",
    "<s>[INST] {{question}} [/INST]\n",
    "\"\"\""
   ],
   "metadata": {
    "collapsed": false,
    "ExecuteTime": {
     "start_time": "2023-11-15T10:14:52.438786Z",
     "end_time": "2023-11-15T10:14:52.444752Z"
    }
   }
  },
  {
   "cell_type": "code",
   "execution_count": 34,
   "outputs": [
    {
     "data": {
      "text/plain": "[{'generated_text': 'Amazon Bedrock is a cloud-based platform that makes it easy to build managed agents for Amazon Bedrock agents are agents that dynamically generate and execute business-specific agents that can perform complex tasks outside of the agent itself—from identifying and engaging with other agents and services, to managing transactions, and filling knowledge gaps with additional research—all while maintaining privacy and security principles.'}]"
     },
     "execution_count": 34,
     "metadata": {},
     "output_type": "execute_result"
    }
   ],
   "source": [
    "predictor.predict({\n",
    "\t\"inputs\": prompt.format(question=\"What are Amazon Bedrock Agents?\"),\n",
    "    \"parameters\": {\n",
    "        \"max_new_tokens\": 2048 - len(prompt),\n",
    "        \"temperature\": 0.2,\n",
    "        \"top_p\": 0.9,\n",
    "        \"stop\": [\".\"]\n",
    "    }\n",
    "})"
   ],
   "metadata": {
    "collapsed": false,
    "ExecuteTime": {
     "start_time": "2023-11-15T10:14:57.529876Z",
     "end_time": "2023-11-15T10:14:59.355976Z"
    }
   }
  },
  {
   "cell_type": "markdown",
   "source": [
    "#### Delete Endpoint"
   ],
   "metadata": {
    "collapsed": false
   }
  },
  {
   "cell_type": "code",
   "execution_count": 35,
   "outputs": [
    {
     "name": "stderr",
     "output_type": "stream",
     "text": [
      "INFO:sagemaker:Deleting model with name: huggingface-pytorch-tgi-inference-2023-11-15-08-54-07-671\n",
      "INFO:sagemaker:Deleting endpoint configuration with name: huggingface-pytorch-tgi-inference-2023-11-15-08-54-08-877\n",
      "INFO:sagemaker:Deleting endpoint with name: huggingface-pytorch-tgi-inference-2023-11-15-08-54-08-877\n"
     ]
    }
   ],
   "source": [
    "predictor.delete_model()\n",
    "predictor.delete_endpoint(delete_endpoint_config=True)"
   ],
   "metadata": {
    "collapsed": false,
    "ExecuteTime": {
     "start_time": "2023-11-15T10:15:17.187067Z",
     "end_time": "2023-11-15T10:15:18.381111Z"
    }
   }
  }
 ],
 "metadata": {
  "availableInstances": [
   {
    "_defaultOrder": 0,
    "_isFastLaunch": true,
    "category": "General purpose",
    "gpuNum": 0,
    "hideHardwareSpecs": false,
    "memoryGiB": 4,
    "name": "ml.t3.medium",
    "vcpuNum": 2
   },
   {
    "_defaultOrder": 1,
    "_isFastLaunch": false,
    "category": "General purpose",
    "gpuNum": 0,
    "hideHardwareSpecs": false,
    "memoryGiB": 8,
    "name": "ml.t3.large",
    "vcpuNum": 2
   },
   {
    "_defaultOrder": 2,
    "_isFastLaunch": false,
    "category": "General purpose",
    "gpuNum": 0,
    "hideHardwareSpecs": false,
    "memoryGiB": 16,
    "name": "ml.t3.xlarge",
    "vcpuNum": 4
   },
   {
    "_defaultOrder": 3,
    "_isFastLaunch": false,
    "category": "General purpose",
    "gpuNum": 0,
    "hideHardwareSpecs": false,
    "memoryGiB": 32,
    "name": "ml.t3.2xlarge",
    "vcpuNum": 8
   },
   {
    "_defaultOrder": 4,
    "_isFastLaunch": true,
    "category": "General purpose",
    "gpuNum": 0,
    "hideHardwareSpecs": false,
    "memoryGiB": 8,
    "name": "ml.m5.large",
    "vcpuNum": 2
   },
   {
    "_defaultOrder": 5,
    "_isFastLaunch": false,
    "category": "General purpose",
    "gpuNum": 0,
    "hideHardwareSpecs": false,
    "memoryGiB": 16,
    "name": "ml.m5.xlarge",
    "vcpuNum": 4
   },
   {
    "_defaultOrder": 6,
    "_isFastLaunch": false,
    "category": "General purpose",
    "gpuNum": 0,
    "hideHardwareSpecs": false,
    "memoryGiB": 32,
    "name": "ml.m5.2xlarge",
    "vcpuNum": 8
   },
   {
    "_defaultOrder": 7,
    "_isFastLaunch": false,
    "category": "General purpose",
    "gpuNum": 0,
    "hideHardwareSpecs": false,
    "memoryGiB": 64,
    "name": "ml.m5.4xlarge",
    "vcpuNum": 16
   },
   {
    "_defaultOrder": 8,
    "_isFastLaunch": false,
    "category": "General purpose",
    "gpuNum": 0,
    "hideHardwareSpecs": false,
    "memoryGiB": 128,
    "name": "ml.m5.8xlarge",
    "vcpuNum": 32
   },
   {
    "_defaultOrder": 9,
    "_isFastLaunch": false,
    "category": "General purpose",
    "gpuNum": 0,
    "hideHardwareSpecs": false,
    "memoryGiB": 192,
    "name": "ml.m5.12xlarge",
    "vcpuNum": 48
   },
   {
    "_defaultOrder": 10,
    "_isFastLaunch": false,
    "category": "General purpose",
    "gpuNum": 0,
    "hideHardwareSpecs": false,
    "memoryGiB": 256,
    "name": "ml.m5.16xlarge",
    "vcpuNum": 64
   },
   {
    "_defaultOrder": 11,
    "_isFastLaunch": false,
    "category": "General purpose",
    "gpuNum": 0,
    "hideHardwareSpecs": false,
    "memoryGiB": 384,
    "name": "ml.m5.24xlarge",
    "vcpuNum": 96
   },
   {
    "_defaultOrder": 12,
    "_isFastLaunch": false,
    "category": "General purpose",
    "gpuNum": 0,
    "hideHardwareSpecs": false,
    "memoryGiB": 8,
    "name": "ml.m5d.large",
    "vcpuNum": 2
   },
   {
    "_defaultOrder": 13,
    "_isFastLaunch": false,
    "category": "General purpose",
    "gpuNum": 0,
    "hideHardwareSpecs": false,
    "memoryGiB": 16,
    "name": "ml.m5d.xlarge",
    "vcpuNum": 4
   },
   {
    "_defaultOrder": 14,
    "_isFastLaunch": false,
    "category": "General purpose",
    "gpuNum": 0,
    "hideHardwareSpecs": false,
    "memoryGiB": 32,
    "name": "ml.m5d.2xlarge",
    "vcpuNum": 8
   },
   {
    "_defaultOrder": 15,
    "_isFastLaunch": false,
    "category": "General purpose",
    "gpuNum": 0,
    "hideHardwareSpecs": false,
    "memoryGiB": 64,
    "name": "ml.m5d.4xlarge",
    "vcpuNum": 16
   },
   {
    "_defaultOrder": 16,
    "_isFastLaunch": false,
    "category": "General purpose",
    "gpuNum": 0,
    "hideHardwareSpecs": false,
    "memoryGiB": 128,
    "name": "ml.m5d.8xlarge",
    "vcpuNum": 32
   },
   {
    "_defaultOrder": 17,
    "_isFastLaunch": false,
    "category": "General purpose",
    "gpuNum": 0,
    "hideHardwareSpecs": false,
    "memoryGiB": 192,
    "name": "ml.m5d.12xlarge",
    "vcpuNum": 48
   },
   {
    "_defaultOrder": 18,
    "_isFastLaunch": false,
    "category": "General purpose",
    "gpuNum": 0,
    "hideHardwareSpecs": false,
    "memoryGiB": 256,
    "name": "ml.m5d.16xlarge",
    "vcpuNum": 64
   },
   {
    "_defaultOrder": 19,
    "_isFastLaunch": false,
    "category": "General purpose",
    "gpuNum": 0,
    "hideHardwareSpecs": false,
    "memoryGiB": 384,
    "name": "ml.m5d.24xlarge",
    "vcpuNum": 96
   },
   {
    "_defaultOrder": 20,
    "_isFastLaunch": false,
    "category": "General purpose",
    "gpuNum": 0,
    "hideHardwareSpecs": true,
    "memoryGiB": 0,
    "name": "ml.geospatial.interactive",
    "supportedImageNames": [
     "sagemaker-geospatial-v1-0"
    ],
    "vcpuNum": 0
   },
   {
    "_defaultOrder": 21,
    "_isFastLaunch": true,
    "category": "Compute optimized",
    "gpuNum": 0,
    "hideHardwareSpecs": false,
    "memoryGiB": 4,
    "name": "ml.c5.large",
    "vcpuNum": 2
   },
   {
    "_defaultOrder": 22,
    "_isFastLaunch": false,
    "category": "Compute optimized",
    "gpuNum": 0,
    "hideHardwareSpecs": false,
    "memoryGiB": 8,
    "name": "ml.c5.xlarge",
    "vcpuNum": 4
   },
   {
    "_defaultOrder": 23,
    "_isFastLaunch": false,
    "category": "Compute optimized",
    "gpuNum": 0,
    "hideHardwareSpecs": false,
    "memoryGiB": 16,
    "name": "ml.c5.2xlarge",
    "vcpuNum": 8
   },
   {
    "_defaultOrder": 24,
    "_isFastLaunch": false,
    "category": "Compute optimized",
    "gpuNum": 0,
    "hideHardwareSpecs": false,
    "memoryGiB": 32,
    "name": "ml.c5.4xlarge",
    "vcpuNum": 16
   },
   {
    "_defaultOrder": 25,
    "_isFastLaunch": false,
    "category": "Compute optimized",
    "gpuNum": 0,
    "hideHardwareSpecs": false,
    "memoryGiB": 72,
    "name": "ml.c5.9xlarge",
    "vcpuNum": 36
   },
   {
    "_defaultOrder": 26,
    "_isFastLaunch": false,
    "category": "Compute optimized",
    "gpuNum": 0,
    "hideHardwareSpecs": false,
    "memoryGiB": 96,
    "name": "ml.c5.12xlarge",
    "vcpuNum": 48
   },
   {
    "_defaultOrder": 27,
    "_isFastLaunch": false,
    "category": "Compute optimized",
    "gpuNum": 0,
    "hideHardwareSpecs": false,
    "memoryGiB": 144,
    "name": "ml.c5.18xlarge",
    "vcpuNum": 72
   },
   {
    "_defaultOrder": 28,
    "_isFastLaunch": false,
    "category": "Compute optimized",
    "gpuNum": 0,
    "hideHardwareSpecs": false,
    "memoryGiB": 192,
    "name": "ml.c5.24xlarge",
    "vcpuNum": 96
   },
   {
    "_defaultOrder": 29,
    "_isFastLaunch": true,
    "category": "Accelerated computing",
    "gpuNum": 1,
    "hideHardwareSpecs": false,
    "memoryGiB": 16,
    "name": "ml.g4dn.xlarge",
    "vcpuNum": 4
   },
   {
    "_defaultOrder": 30,
    "_isFastLaunch": false,
    "category": "Accelerated computing",
    "gpuNum": 1,
    "hideHardwareSpecs": false,
    "memoryGiB": 32,
    "name": "ml.g4dn.2xlarge",
    "vcpuNum": 8
   },
   {
    "_defaultOrder": 31,
    "_isFastLaunch": false,
    "category": "Accelerated computing",
    "gpuNum": 1,
    "hideHardwareSpecs": false,
    "memoryGiB": 64,
    "name": "ml.g4dn.4xlarge",
    "vcpuNum": 16
   },
   {
    "_defaultOrder": 32,
    "_isFastLaunch": false,
    "category": "Accelerated computing",
    "gpuNum": 1,
    "hideHardwareSpecs": false,
    "memoryGiB": 128,
    "name": "ml.g4dn.8xlarge",
    "vcpuNum": 32
   },
   {
    "_defaultOrder": 33,
    "_isFastLaunch": false,
    "category": "Accelerated computing",
    "gpuNum": 4,
    "hideHardwareSpecs": false,
    "memoryGiB": 192,
    "name": "ml.g4dn.12xlarge",
    "vcpuNum": 48
   },
   {
    "_defaultOrder": 34,
    "_isFastLaunch": false,
    "category": "Accelerated computing",
    "gpuNum": 1,
    "hideHardwareSpecs": false,
    "memoryGiB": 256,
    "name": "ml.g4dn.16xlarge",
    "vcpuNum": 64
   },
   {
    "_defaultOrder": 35,
    "_isFastLaunch": false,
    "category": "Accelerated computing",
    "gpuNum": 1,
    "hideHardwareSpecs": false,
    "memoryGiB": 61,
    "name": "ml.p3.2xlarge",
    "vcpuNum": 8
   },
   {
    "_defaultOrder": 36,
    "_isFastLaunch": false,
    "category": "Accelerated computing",
    "gpuNum": 4,
    "hideHardwareSpecs": false,
    "memoryGiB": 244,
    "name": "ml.p3.8xlarge",
    "vcpuNum": 32
   },
   {
    "_defaultOrder": 37,
    "_isFastLaunch": false,
    "category": "Accelerated computing",
    "gpuNum": 8,
    "hideHardwareSpecs": false,
    "memoryGiB": 488,
    "name": "ml.p3.16xlarge",
    "vcpuNum": 64
   },
   {
    "_defaultOrder": 38,
    "_isFastLaunch": false,
    "category": "Accelerated computing",
    "gpuNum": 8,
    "hideHardwareSpecs": false,
    "memoryGiB": 768,
    "name": "ml.p3dn.24xlarge",
    "vcpuNum": 96
   },
   {
    "_defaultOrder": 39,
    "_isFastLaunch": false,
    "category": "Memory Optimized",
    "gpuNum": 0,
    "hideHardwareSpecs": false,
    "memoryGiB": 16,
    "name": "ml.r5.large",
    "vcpuNum": 2
   },
   {
    "_defaultOrder": 40,
    "_isFastLaunch": false,
    "category": "Memory Optimized",
    "gpuNum": 0,
    "hideHardwareSpecs": false,
    "memoryGiB": 32,
    "name": "ml.r5.xlarge",
    "vcpuNum": 4
   },
   {
    "_defaultOrder": 41,
    "_isFastLaunch": false,
    "category": "Memory Optimized",
    "gpuNum": 0,
    "hideHardwareSpecs": false,
    "memoryGiB": 64,
    "name": "ml.r5.2xlarge",
    "vcpuNum": 8
   },
   {
    "_defaultOrder": 42,
    "_isFastLaunch": false,
    "category": "Memory Optimized",
    "gpuNum": 0,
    "hideHardwareSpecs": false,
    "memoryGiB": 128,
    "name": "ml.r5.4xlarge",
    "vcpuNum": 16
   },
   {
    "_defaultOrder": 43,
    "_isFastLaunch": false,
    "category": "Memory Optimized",
    "gpuNum": 0,
    "hideHardwareSpecs": false,
    "memoryGiB": 256,
    "name": "ml.r5.8xlarge",
    "vcpuNum": 32
   },
   {
    "_defaultOrder": 44,
    "_isFastLaunch": false,
    "category": "Memory Optimized",
    "gpuNum": 0,
    "hideHardwareSpecs": false,
    "memoryGiB": 384,
    "name": "ml.r5.12xlarge",
    "vcpuNum": 48
   },
   {
    "_defaultOrder": 45,
    "_isFastLaunch": false,
    "category": "Memory Optimized",
    "gpuNum": 0,
    "hideHardwareSpecs": false,
    "memoryGiB": 512,
    "name": "ml.r5.16xlarge",
    "vcpuNum": 64
   },
   {
    "_defaultOrder": 46,
    "_isFastLaunch": false,
    "category": "Memory Optimized",
    "gpuNum": 0,
    "hideHardwareSpecs": false,
    "memoryGiB": 768,
    "name": "ml.r5.24xlarge",
    "vcpuNum": 96
   },
   {
    "_defaultOrder": 47,
    "_isFastLaunch": false,
    "category": "Accelerated computing",
    "gpuNum": 1,
    "hideHardwareSpecs": false,
    "memoryGiB": 16,
    "name": "ml.g5.xlarge",
    "vcpuNum": 4
   },
   {
    "_defaultOrder": 48,
    "_isFastLaunch": false,
    "category": "Accelerated computing",
    "gpuNum": 1,
    "hideHardwareSpecs": false,
    "memoryGiB": 32,
    "name": "ml.g5.2xlarge",
    "vcpuNum": 8
   },
   {
    "_defaultOrder": 49,
    "_isFastLaunch": false,
    "category": "Accelerated computing",
    "gpuNum": 1,
    "hideHardwareSpecs": false,
    "memoryGiB": 64,
    "name": "ml.g5.4xlarge",
    "vcpuNum": 16
   },
   {
    "_defaultOrder": 50,
    "_isFastLaunch": false,
    "category": "Accelerated computing",
    "gpuNum": 1,
    "hideHardwareSpecs": false,
    "memoryGiB": 128,
    "name": "ml.g5.8xlarge",
    "vcpuNum": 32
   },
   {
    "_defaultOrder": 51,
    "_isFastLaunch": false,
    "category": "Accelerated computing",
    "gpuNum": 1,
    "hideHardwareSpecs": false,
    "memoryGiB": 256,
    "name": "ml.g5.16xlarge",
    "vcpuNum": 64
   },
   {
    "_defaultOrder": 52,
    "_isFastLaunch": false,
    "category": "Accelerated computing",
    "gpuNum": 4,
    "hideHardwareSpecs": false,
    "memoryGiB": 192,
    "name": "ml.g5.12xlarge",
    "vcpuNum": 48
   },
   {
    "_defaultOrder": 53,
    "_isFastLaunch": false,
    "category": "Accelerated computing",
    "gpuNum": 4,
    "hideHardwareSpecs": false,
    "memoryGiB": 384,
    "name": "ml.g5.24xlarge",
    "vcpuNum": 96
   },
   {
    "_defaultOrder": 54,
    "_isFastLaunch": false,
    "category": "Accelerated computing",
    "gpuNum": 8,
    "hideHardwareSpecs": false,
    "memoryGiB": 768,
    "name": "ml.g5.48xlarge",
    "vcpuNum": 192
   },
   {
    "_defaultOrder": 55,
    "_isFastLaunch": false,
    "category": "Accelerated computing",
    "gpuNum": 8,
    "hideHardwareSpecs": false,
    "memoryGiB": 1152,
    "name": "ml.p4d.24xlarge",
    "vcpuNum": 96
   },
   {
    "_defaultOrder": 56,
    "_isFastLaunch": false,
    "category": "Accelerated computing",
    "gpuNum": 8,
    "hideHardwareSpecs": false,
    "memoryGiB": 1152,
    "name": "ml.p4de.24xlarge",
    "vcpuNum": 96
   }
  ],
  "instance_type": "ml.g5.12xlarge",
  "kernelspec": {
   "name": "python3",
   "language": "python",
   "display_name": "Python 3 (ipykernel)"
  },
  "language_info": {
   "codemirror_mode": {
    "name": "ipython",
    "version": 3
   },
   "file_extension": ".py",
   "mimetype": "text/x-python",
   "name": "python",
   "nbconvert_exporter": "python",
   "pygments_lexer": "ipython3",
   "version": "3.10.6"
  }
 },
 "nbformat": 4,
 "nbformat_minor": 4
}
